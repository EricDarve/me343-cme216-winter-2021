{
 "cells": [
  {
   "cell_type": "code",
   "execution_count": 1,
   "id": "blank-thinking",
   "metadata": {
    "slideshow": {
     "slide_type": "skip"
    }
   },
   "outputs": [],
   "source": [
    "import math\n",
    "import numpy as np\n",
    "import matplotlib.pyplot as plt\n",
    "\n",
    "import tensorflow as tf"
   ]
  },
  {
   "cell_type": "markdown",
   "id": "promising-holmes",
   "metadata": {
    "slideshow": {
     "slide_type": "slide"
    }
   },
   "source": [
    "A simple example:\n",
    "\n",
    "$y = 4x + x^3$"
   ]
  },
  {
   "cell_type": "code",
   "execution_count": 2,
   "id": "selective-lincoln",
   "metadata": {
    "slideshow": {
     "slide_type": "slide"
    }
   },
   "outputs": [
    {
     "name": "stdout",
     "output_type": "stream",
     "text": [
      "dy/dx =  tf.Tensor(7.0, shape=(), dtype=float32)\n"
     ]
    }
   ],
   "source": [
    "x = tf.Variable(1.0)\n",
    "\n",
    "with tf.GradientTape() as g:\n",
    "    y = 4*x + x**3\n",
    "    \n",
    "# y' = 4 + 3 x^2 = 7\n",
    "dy_dx = g.gradient(y, x)\n",
    "print('dy/dx = ', dy_dx)"
   ]
  },
  {
   "cell_type": "markdown",
   "id": "hungry-healthcare",
   "metadata": {
    "slideshow": {
     "slide_type": "slide"
    }
   },
   "source": [
    "Differentiate:\n",
    "\n",
    "$y = x_1 + x_2^2$, $x_1 = 1$, $x_2 = 2$\n",
    "\n",
    "with respect to $x_1$ and $x_2$.\n",
    "\n",
    "$$\\frac{\\partial y}{\\partial x_1} = 1$$\n",
    "\n",
    "$$\\frac{\\partial y}{\\partial x_2} = 2x_2 = 4$$"
   ]
  },
  {
   "cell_type": "code",
   "execution_count": 3,
   "id": "numerous-completion",
   "metadata": {
    "slideshow": {
     "slide_type": "slide"
    }
   },
   "outputs": [
    {
     "name": "stdout",
     "output_type": "stream",
     "text": [
      "dy/dx1 =  1.0 ; dy/dx2 =  4.0\n"
     ]
    }
   ],
   "source": [
    "x1 = tf.Variable(1.0)\n",
    "x2 = tf.Variable(2.0)\n",
    "\n",
    "with tf.GradientTape() as g:\n",
    "    y = x1 + x2**2\n",
    "    \n",
    "dy_dx1, dy_dx2 = g.gradient(y, [x1,x2])\n",
    "print('dy/dx1 = ', dy_dx1.numpy(), '; dy/dx2 = ', dy_dx2.numpy())"
   ]
  },
  {
   "cell_type": "markdown",
   "id": "willing-recorder",
   "metadata": {},
   "source": [
    "We can control which input is considered an independent variable versus a constant value.\n",
    "\n",
    "`gradient` will return `None` when the input is not a `tf.Variable`."
   ]
  },
  {
   "cell_type": "code",
   "execution_count": 4,
   "id": "rubber-reform",
   "metadata": {},
   "outputs": [
    {
     "name": "stdout",
     "output_type": "stream",
     "text": [
      "tf.Tensor(0.0, shape=(), dtype=float32)\n",
      "None\n",
      "None\n",
      "None\n",
      "None\n"
     ]
    }
   ],
   "source": [
    "# Standard trainable variable\n",
    "x0 = tf.Variable(2.0, name='x0')\n",
    "# A tf.constant is not a variable\n",
    "c1 = tf.constant(-2.0, name='c1')\n",
    "# Not trainable because we specify trainable=False\n",
    "c2 = tf.Variable(-1.0, name='c2', trainable=False)\n",
    "# variable + tensor returns a tensor. So c3 is not a tf.Variable.\n",
    "c3 = tf.Variable(1.0, name='c3') + 1.0\n",
    "# A variable but not used to compute y\n",
    "x4 = tf.Variable(0., name='x4')\n",
    "\n",
    "with tf.GradientTape() as g:\n",
    "    z = x0 + c1\n",
    "    y = z**2 + (c2**3) + 4*c3\n",
    "\n",
    "grad = g.gradient(y, [x0, c1, c2, c3, x4])\n",
    "\n",
    "for dy_dxi in grad:\n",
    "    print(dy_dxi)"
   ]
  },
  {
   "cell_type": "markdown",
   "id": "acoustic-median",
   "metadata": {},
   "source": [
    "A `tf.Tensor` can be used as a variable using the `watch` function."
   ]
  },
  {
   "cell_type": "code",
   "execution_count": 5,
   "id": "thousand-african",
   "metadata": {},
   "outputs": [
    {
     "name": "stdout",
     "output_type": "stream",
     "text": [
      "tf.Tensor(-108.0, shape=(), dtype=float32)\n"
     ]
    }
   ],
   "source": [
    "x = tf.constant(-3.)\n",
    "\n",
    "with tf.GradientTape() as g:\n",
    "    g.watch(x)\n",
    "    y = tf.math.reduce_sum(x**4)\n",
    "\n",
    "print(g.gradient(y, x))  # 4x^3 = 4 27 = 108"
   ]
  },
  {
   "cell_type": "markdown",
   "id": "waiting-detective",
   "metadata": {},
   "source": [
    "You can use tensor variables as input. This just means you differentiate with respect to all the variables in the tensor."
   ]
  },
  {
   "cell_type": "code",
   "execution_count": 6,
   "id": "prospective-gibson",
   "metadata": {},
   "outputs": [
    {
     "name": "stdout",
     "output_type": "stream",
     "text": [
      "[ 1. -3.]\n",
      "10.0\n",
      "tf.Tensor([ 2. -6.], shape=(2,), dtype=float32)\n"
     ]
    }
   ],
   "source": [
    "x = tf.Variable([1, -3.0])\n",
    "with tf.GradientTape() as g:\n",
    "    y = tf.math.reduce_sum(x**2)\n",
    "\n",
    "print(x.numpy())\n",
    "print(y.numpy()) # x[0]**2 + x[1]**2 = 1 + 9 = 10\n",
    "print(g.gradient(y, x))  # (2x[0], 2x[1]) = (2,-6)"
   ]
  },
  {
   "cell_type": "markdown",
   "id": "motivated-russell",
   "metadata": {},
   "source": [
    "When `g.gradient` is called with a tensor dependent variable (tensor target), it returns the sum of the derivatives for each component."
   ]
  },
  {
   "cell_type": "code",
   "execution_count": 7,
   "id": "connected-spank",
   "metadata": {},
   "outputs": [
    {
     "name": "stdout",
     "output_type": "stream",
     "text": [
      "[-2.0, 1.0]\n",
      "tf.Tensor(-2.0, shape=(), dtype=float32)\n"
     ]
    }
   ],
   "source": [
    "x = tf.Variable(-1.)\n",
    "with tf.GradientTape() as g:\n",
    "    y = [2*x,x**4]\n",
    "\n",
    "print([y[i].numpy() for i in range(2)]) # [2,1]\n",
    "print(g.gradient(y, x))  # 2 + 4x^3 = 2 - 4 = -2"
   ]
  },
  {
   "cell_type": "markdown",
   "id": "revised-refund",
   "metadata": {},
   "source": [
    "By default, when you call `g.gradient`, all resources required to compute the gradient are released. This allows saving memory. However, there are cases when you want to call `g.gradient` several times for example to differentiate different functions. In that case, you must use the option `persistent=True`."
   ]
  },
  {
   "cell_type": "code",
   "execution_count": 8,
   "id": "careful-immigration",
   "metadata": {},
   "outputs": [
    {
     "name": "stdout",
     "output_type": "stream",
     "text": [
      "[ 1. -3.]\n",
      "[ 2. -6.]\n",
      "tf.Tensor([2. 2.], shape=(2,), dtype=float32)\n",
      "tf.Tensor([  8. -24.], shape=(2,), dtype=float32)\n"
     ]
    }
   ],
   "source": [
    "x = tf.Variable([1, -3.0])\n",
    "with tf.GradientTape(persistent=True) as g:\n",
    "    y = 2*x\n",
    "    z = y**2\n",
    "\n",
    "print(x.numpy())\n",
    "print(y.numpy())\n",
    "print(g.gradient(y, x))  # [2,2]\n",
    "print(g.gradient(z, x))  # dz/dx = d(4x^2)/dx 8x = [8, -24]\n",
    "del g # release resources"
   ]
  },
  {
   "cell_type": "markdown",
   "id": "peripheral-collar",
   "metadata": {},
   "source": [
    "It's very easy to differentiate functions and plot the derivative."
   ]
  },
  {
   "cell_type": "code",
   "execution_count": 9,
   "id": "southeast-beach",
   "metadata": {},
   "outputs": [
    {
     "data": {
      "image/png": "[encoded data removed]",
      "text/plain": [
       "<Figure size 432x288 with 1 Axes>"
      ]
     },
     "metadata": {
      "needs_background": "light"
     },
     "output_type": "display_data"
    }
   ],
   "source": [
    "x = tf.linspace(-10.0, 10.0, 129) # A tf.Tensor, not a tf.Variable\n",
    "\n",
    "with tf.GradientTape() as g:\n",
    "    g.watch(x)\n",
    "    y = tf.math.tanh(x)\n",
    "\n",
    "dy_dx = g.gradient(y, x)\n",
    "\n",
    "plt.plot(x, y, label='y')\n",
    "plt.plot(x, dy_dx, label='dy/dx')\n",
    "plt.legend()\n",
    "plt.xlabel('x')\n",
    "plt.savefig('fig/autodiff_tanh.png',dpi=300)"
   ]
  },
  {
   "cell_type": "markdown",
   "id": "classified-exclusion",
   "metadata": {},
   "source": [
    "Let's differentiate a DNN model with respect to its weights and biases"
   ]
  },
  {
   "cell_type": "code",
   "execution_count": 10,
   "id": "baking-wells",
   "metadata": {},
   "outputs": [
    {
     "data": {
      "image/png": "[encoded data removed]",
      "text/plain": [
       "<Figure size 432x288 with 1 Axes>"
      ]
     },
     "metadata": {
      "needs_background": "light"
     },
     "output_type": "display_data"
    }
   ],
   "source": [
    "def layer_1(units):\n",
    "    initializer = tf.keras.initializers.RandomUniform(minval=-0.5, maxval=0.5)\n",
    "    return tf.keras.layers.Dense(units, dtype='float64',\\\n",
    "                                 bias_initializer=initializer,\\\n",
    "                                 activation=tf.keras.activations.relu)\n",
    "\n",
    "def layer_2(units):\n",
    "    return tf.keras.layers.Dense(units, dtype='float64', activation=tf.keras.activations.linear)\n",
    "    \n",
    "class AD_Model(tf.keras.models.Model):\n",
    "    def __init__(self):\n",
    "        super(AD_Model, self).__init__()\n",
    "        self.dense_1 = layer_1(2)\n",
    "        self.dense_2 = layer_2(1)        \n",
    "\n",
    "    # Forward pass\n",
    "    def call(self, inputs):\n",
    "        x = self.dense_1(inputs)        \n",
    "        y = self.dense_2(x)\n",
    "        return y\n",
    "    \n",
    "def reshape_2d(x):\n",
    "    return tf.reshape( x, (x.shape[0], 1) )\n",
    "    \n",
    "# Initialize model\n",
    "model = AD_Model()\n",
    "model.build((1,1))\n",
    "\n",
    "# Plot our model and its derivative\n",
    "x = reshape_2d( tf.linspace(-2.0, 2.0, 129) )\n",
    "\n",
    "with tf.GradientTape() as g:\n",
    "    g.watch(x)    \n",
    "    y = model(x)\n",
    "    \n",
    "dy_dx = g.gradient(y, x)\n",
    "\n",
    "plt.plot(x, y, label='y')\n",
    "plt.plot(x, dy_dx, label='dy/dx')\n",
    "plt.legend()\n",
    "plt.xlabel('x')\n",
    "plt.savefig('fig/pi_model.png',dpi=300)"
   ]
  },
  {
   "cell_type": "code",
   "execution_count": 11,
   "id": "solar-barcelona",
   "metadata": {},
   "outputs": [],
   "source": [
    "import scipy.optimize as sopt"
   ]
  },
  {
   "cell_type": "code",
   "execution_count": 12,
   "id": "polished-difference",
   "metadata": {},
   "outputs": [],
   "source": [
    "# Code to use the scipy optimizers\n",
    "\n",
    "# use float64 by default\n",
    "tf.keras.backend.set_floatx(\"float64\")\n",
    "\n",
    "# Reshape 1D arrays to 2D arrays\n",
    "def reshape_2d(x):\n",
    "    return tf.reshape(x,(x.shape[0],1))\n",
    "\n",
    "# Construct a function that can be minimized by scipy optimize\n",
    "# starting from a tensorflow model\n",
    "def function_factory(model, x_train, y_train, validation_data=None,\n",
    "                     iprint=-1):\n",
    "    \"\"\"A factory to create a function required by scipy.optimize.\n",
    "    Args:\n",
    "        model [in]: an instance of `tf.keras.Model` or its subclasses.\n",
    "        loss [in]: a function with signature loss_value = loss(pred_y, true_y).\n",
    "        x_train [in]: input for training data.\n",
    "        y_train [in]: output for training data.\n",
    "        validation_data [in]: tuple (x_val,y_val) with validation data.\n",
    "        iprint [in]: sets the frequency with which the loss info is printed out\n",
    "    Returns:\n",
    "        A function that has a signature of:\n",
    "            loss_value, gradients = f(model_parameters)\n",
    "    \"\"\"\n",
    "\n",
    "    # obtain the shapes of all trainable parameters in the model\n",
    "    shapes = tf.shape_n(model.trainable_variables)\n",
    "    n_tensors = len(shapes)\n",
    "\n",
    "    # we'll use tf.dynamic_stitch and tf.dynamic_partition later, so we need to\n",
    "    # prepare required information first\n",
    "    count = 0\n",
    "    idx = []  # stitch indices\n",
    "    part = []  # partition indices\n",
    "\n",
    "    for i, tensor in enumerate(model.trainable_variables):\n",
    "        n = np.product(tensor.shape)\n",
    "        idx.append(tf.reshape(\n",
    "            tf.range(count, count+n, dtype=tf.int32), tensor.shape))\n",
    "        part.extend([i]*n)\n",
    "        count += n\n",
    "\n",
    "    part = tf.constant(part)\n",
    "    \n",
    "    loss_fun = tf.keras.losses.MeanSquaredError()\n",
    "\n",
    "    @tf.function\n",
    "    def assign_new_model_parameters(params_1d):\n",
    "        \"\"\"A function updating the model's parameters with a 1D tf.Tensor.\n",
    "        Args:\n",
    "            params_1d [in]: a 1D tf.Tensor representing the model's trainable parameters.\n",
    "        \"\"\"\n",
    "        params = tf.dynamic_partition(params_1d, part, n_tensors)\n",
    "        for i, (shape, param) in enumerate(zip(shapes, params)):\n",
    "            model.trainable_variables[i].assign(tf.reshape(param, shape))\n",
    "\n",
    "    # function to calculate loss value and gradient\n",
    "    @tf.function\n",
    "    def tf_tape_grad(params_1d):\n",
    "\n",
    "        # update the parameters in the model\n",
    "        assign_new_model_parameters(params_1d)       \n",
    "\n",
    "        if not (validation_data is None):\n",
    "          # compute validation loss\n",
    "          loss_val = model.loss(validation_data[0], validation_data[1])\n",
    "          # store validation value so we can retrieve later        \n",
    "          tf.py_function(value_and_grad.hist_loss_val.append,\n",
    "                        inp=[loss_val], Tout=[])         \n",
    "              \n",
    "        # use GradientTape so that we can calculate the gradient of loss w.r.t. parameters\n",
    "        with tf.GradientTape() as g:\n",
    "            g.watch(model.trainable_variables)\n",
    "            loss = model.loss(x_train,y_train)\n",
    "\n",
    "        # calculate gradients and convert to 1D tf.Tensor\n",
    "        grads = g.gradient(loss, model.trainable_variables)\n",
    "        grads = tf.dynamic_stitch(idx, grads)\n",
    "\n",
    "        # increment iteration counter\n",
    "        value_and_grad.iter.assign_add(1)\n",
    "\n",
    "        # print out iteration & loss\n",
    "        if (iprint>=1 and value_and_grad.iter%iprint == 0):\n",
    "            if validation_data is None:\n",
    "                tf.print(\"Loss function eval:\", value_and_grad.iter, \"loss:\", loss)\n",
    "            else:\n",
    "                tf.print(\"Loss function eval:\", value_and_grad.iter, \"loss:\", loss,\n",
    "                        \"validation loss:\", loss_val)                \n",
    "\n",
    "        # store loss value so we can retrieve later\n",
    "        tf.py_function(value_and_grad.hist_loss.append,\n",
    "                       inp=[loss], Tout=[])       \n",
    "\n",
    "        return loss, grads\n",
    "\n",
    "    # create function that will be returned by this factory\n",
    "    def value_and_grad(params_1d):\n",
    "        \"\"\"A function that can be used by optimizer.\n",
    "        This function is created by function_factory.\n",
    "        Args:\n",
    "           params_1d [in]: a 1D tf.Tensor.\n",
    "        Returns:\n",
    "            A scalar loss and the gradients w.r.t. the `params_1d`.\n",
    "        \"\"\"\n",
    "        return [vv.numpy().astype(np.float64) for vv in tf_tape_grad(tf.constant(params_1d, dtype=tf.float64))]\n",
    "\n",
    "    # store this information as members so we can use it outside the scope\n",
    "    value_and_grad.iter = tf.Variable(0)\n",
    "    value_and_grad.idx = idx\n",
    "    value_and_grad.part = part\n",
    "    value_and_grad.shapes = shapes\n",
    "    value_and_grad.assign_new_model_parameters = assign_new_model_parameters\n",
    "    value_and_grad.hist_loss = []\n",
    "    value_and_grad.hist_loss_val = []\n",
    "\n",
    "    return value_and_grad\n",
    "\n",
    "\n",
    "# Minimize the loss function using a scipy optimizer\n",
    "def model_fit(model, x_t, y_t, validation_data=None, epochs=1000, iprint=-1,\n",
    "              figname=None):\n",
    "    \"\"\" \n",
    "    Fit a DNN model using scipy optimizers \n",
    "  \n",
    "  \n",
    "    Parameters: \n",
    "    model: tensorflow DNN model\n",
    "    x_t: input training data\n",
    "    y_t: output training data\n",
    "    validation_data: tuple (x_val,y_val) with validation data\n",
    "    epochs: maximum number of iterations in optimizer\n",
    "    iprint: frequency for printing the loss function information. \n",
    "            Do not print anything if negative. Otherwise, print\n",
    "            a line every iprint iteration.\n",
    "    figname [str]: file name to save the figure of the training loss  \n",
    "    \"\"\"\n",
    "\n",
    "    value_and_grad = function_factory(model, x_t, y_t, validation_data, iprint)\n",
    "\n",
    "    # convert initial model parameters to a 1D tf.Tensor\n",
    "    init_params = tf.dynamic_stitch(value_and_grad.idx, model.trainable_variables)\n",
    "\n",
    "    if (iprint>=1):\n",
    "        print()\n",
    "\n",
    "    # train the model\n",
    "    method = 'L-BFGS-B'\n",
    "    results = sopt.minimize(fun=value_and_grad, x0=init_params,\n",
    "                            jac=True, method=method,\n",
    "                            options={'maxiter': epochs})\n",
    "\n",
    "    print(\"\\nConvergence information:\")\n",
    "    print('loss:', results.fun)\n",
    "    # Computing the validation loss  \n",
    "    if not (validation_data is None):\n",
    "        val_loss = model.loss(validation_data[0], validation_data[1])\n",
    "        tf.print('validation loss:', val_loss)\n",
    "        # tf.make_ndarray(tf.make_tensor_proto(val_loss))    \n",
    "    print('number function evaluations:', results.nfev)\n",
    "    print('number iterations:', results.nit)\n",
    "    print('success flag:', results.success)\n",
    "    print('convergence message:', results.message)\n",
    "\n",
    "    value_and_grad.assign_new_model_parameters(results.x)\n",
    "\n",
    "    # Plot history of loss\n",
    "    plt.figure()   \n",
    "    plt.plot(value_and_grad.hist_loss, label='loss')\n",
    "    if not (validation_data is None): \n",
    "        plt.plot(value_and_grad.hist_loss_val, label='validation')\n",
    "    plt.legend()\n",
    "    plt.xlabel('epoch')\n",
    "    plt.yscale('log')\n",
    "    if validation_data is None:    \n",
    "        plt.title('Training loss')\n",
    "    else:\n",
    "        plt.title('Training and validation losses')\n",
    "\n",
    "    if not (figname is None):\n",
    "        plt.savefig(figname,dpi=300)\n",
    "\n",
    "    return results"
   ]
  },
  {
   "cell_type": "code",
   "execution_count": 18,
   "id": "color-boring",
   "metadata": {},
   "outputs": [
    {
     "name": "stdout",
     "output_type": "stream",
     "text": [
      "\n",
      "Loss function eval: 200 loss: 0.014157640631310642 validation loss: 0.013470875041093677\n",
      "Loss function eval: 400 loss: 7.3921722300696047e-05 validation loss: 7.9364547318050427e-05\n",
      "Loss function eval: 600 loss: 3.2806044835798076e-05 validation loss: 3.6002636051080117e-05\n",
      "\n",
      "Convergence information:\n",
      "loss: 7.689206662830905e-06\n",
      "validation loss: 9.2928275852166564e-06\n",
      "number function evaluations: 743\n",
      "number iterations: 679\n",
      "success flag: True\n",
      "convergence message: b'CONVERGENCE: REL_REDUCTION_OF_F_<=_FACTR*EPSMCH'\n"
     ]
    },
    {
     "data": {
      "image/png": "[encoded data removed]",
      "text/plain": [
       "<Figure size 432x288 with 1 Axes>"
      ]
     },
     "metadata": {
      "needs_background": "light"
     },
     "output_type": "display_data"
    }
   ],
   "source": [
    "class PI_Model(tf.keras.models.Model):\n",
    "    def __init__(self):\n",
    "        super(PI_Model, self).__init__()\n",
    "        \n",
    "        # Define all layers\n",
    "        self.dense_1 = tf.keras.layers.Dense(8, activation=tf.keras.activations.tanh)\n",
    "        self.dense_2 = tf.keras.layers.Dense(8, activation=tf.keras.activations.tanh)        \n",
    "        self.dense_3 = tf.keras.layers.Dense(1, activation=tf.keras.activations.linear)\n",
    "        \n",
    "        # Loss function to use later on\n",
    "        self.loss_fun = tf.keras.losses.MeanSquaredError()\n",
    "            \n",
    "    # Forward pass for model\n",
    "    def call(self, inputs):\n",
    "        x = self.dense_1(inputs)\n",
    "        x = self.dense_2(x)        \n",
    "        y = self.dense_3(x)\n",
    "        return y        \n",
    "\n",
    "    def get_derivatives(self, x_input):\n",
    "        x = tf.constant(x_input)\n",
    "        with tf.GradientTape() as g:\n",
    "            g.watch(x)\n",
    "            with tf.GradientTape() as gg:\n",
    "                gg.watch(x)\n",
    "                y = self(x)\n",
    "            y_x = gg.gradient(y,x)\n",
    "        y_xx = g.gradient(y_x,x)\n",
    "        return y, y_x, y_xx\n",
    "    \n",
    "    def loss(self, X, Y):\n",
    "        # data observation loss    \n",
    "        y = self(X[0]) # y(x)\n",
    "        # Physics loss        \n",
    "        _, _, phys = self.get_derivatives(X[1]) # y''(x)\n",
    "        return self.loss_fun(Y[0], y) + self.loss_fun(Y[1], phys) \n",
    "    \n",
    "model = PI_Model()\n",
    "model.build((1,1))\n",
    "\n",
    "def generate_data(n_y, n_phys):\n",
    "    # values of y\n",
    "    x_obs = reshape_2d(np.linspace(-math.pi/2,math.pi/2,n_y))\n",
    "    y_obs = np.cos(2*x_obs)\n",
    "\n",
    "    # values for right-hand-side of the physics equation\n",
    "    x_phys = reshape_2d(np.linspace(-math.pi,math.pi,n_phys))\n",
    "    y_phys = -4*np.cos(2*x_phys)   \n",
    "    \n",
    "    X_data = [x_obs,x_phys]\n",
    "    Y_data = [y_obs,y_phys]\n",
    "    \n",
    "    return X_data, Y_data\n",
    "\n",
    "X_train, Y_train = generate_data(2, 32)\n",
    "X_val, Y_val = generate_data(64, 64)\n",
    "\n",
    "result = model_fit(model, X_train, Y_train, validation_data=(X_val, Y_val), epochs=1000, iprint=200, figname ='fig/piml_loss.png')"
   ]
  },
  {
   "cell_type": "code",
   "execution_count": 21,
   "id": "accredited-bracket",
   "metadata": {},
   "outputs": [
    {
     "data": {
      "image/png": "[encoded data removed]",
      "text/plain": [
       "<Figure size 432x288 with 1 Axes>"
      ]
     },
     "metadata": {
      "needs_background": "light"
     },
     "output_type": "display_data"
    }
   ],
   "source": [
    "# Plot the solution\n",
    "x_true = reshape_2d(np.linspace(-math.pi,math.pi,16))\n",
    "x_test = reshape_2d(np.linspace(-math.pi,math.pi,128))\n",
    "\n",
    "y_pred, y_x_pred, y_xx_pred = model.get_derivatives(x_test)\n",
    "\n",
    "plt.plot(x_test,y_xx_pred,'b',label='y_xx')\n",
    "plt.plot(x_test,y_x_pred,'k',label='y_x')\n",
    "plt.plot(x_test,y_pred,'r',label='y')\n",
    "plt.plot(x_true,np.cos(2*x_true),'go',label='true')\n",
    "plt.title('Exact solution and DNN model')\n",
    "plt.legend()\n",
    "plt.savefig('fig/piml_solution.png',dpi=300)"
   ]
  }
 ],
 "metadata": {
  "kernelspec": {
   "display_name": "Python 3",
   "language": "python",
   "name": "python3"
  },
  "language_info": {
   "codemirror_mode": {
    "name": "ipython",
    "version": 3
   },
   "file_extension": ".py",
   "mimetype": "text/x-python",
   "name": "python",
   "nbconvert_exporter": "python",
   "pygments_lexer": "ipython3",
   "version": "3.7.9"
  }
 },
 "nbformat": 4,
 "nbformat_minor": 5
}
