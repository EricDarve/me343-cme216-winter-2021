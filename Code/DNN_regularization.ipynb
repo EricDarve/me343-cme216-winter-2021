{
 "cells": [
  {
   "cell_type": "code",
   "execution_count": 1,
   "metadata": {
    "colab": {},
    "colab_type": "code",
    "id": "Y2Oc0oTne6-z"
   },
   "outputs": [],
   "source": [
    "# Can be used to save files on Gdrive\n",
    "# from google.colab import drive\n",
    "# drive.mount('/content/gdrive')\n",
    "# path = \"/content/gdrive/My Drive/Colab Notebooks\"\n",
    "\n",
    "# Load the TensorBoard notebook extension\n",
    "# %load_ext tensorboard\n",
    "# from datetime import datetime\n",
    "# from packaging import version\n",
    "\n",
    "# print(\"TensorFlow version: \", tf.__version__)"
   ]
  },
  {
   "cell_type": "code",
   "execution_count": 1,
   "metadata": {
    "colab": {},
    "colab_type": "code",
    "id": "br2TWOV63W-Z"
   },
   "outputs": [],
   "source": [
    "import numpy as np\n",
    "import math\n",
    "import tensorflow as tf\n",
    "import tensorflow.keras as keras\n",
    "import plotly.graph_objects as go\n",
    "import random"
   ]
  },
  {
   "cell_type": "code",
   "execution_count": 3,
   "metadata": {
    "colab": {},
    "colab_type": "code",
    "id": "F8aDIDeD3W-r"
   },
   "outputs": [],
   "source": [
    "class print_dots(tf.keras.callbacks.Callback):\n",
    "    def on_epoch_begin(self, epoch, logs=None):\n",
    "        if epoch % 1000 == 0: print('')\n",
    "        if epoch % 10 == 0: print('.', end='')\n",
    "    def on_train_end(self, epoch, logs=None):\n",
    "        print('\\nTraining is complete')\n",
    "\n",
    "def print_training_information(history):\n",
    "    mae_metric = history.history['mae']\n",
    "    val_mae = history.history['val_mae']\n",
    "    print('mae training {0:g}; mae validation {1:g}'.format(mae_metric[-1], val_mae[-1]))\n",
    "\n",
    "def plot_history(fig, history):\n",
    "    loss = np.sqrt( history.history['loss'] )\n",
    "    metric = np.sqrt( history.history['mse'] )\n",
    "    val = np.sqrt( history.history['val_mse'] )\n",
    "    fig.add_trace(go.Scatter(y=loss,name='loss'))\n",
    "    fig.add_trace(go.Scatter(y=metric,name='error training'))\n",
    "    fig.add_trace(go.Scatter(y=val, name='error validation'))\n",
    "    fig.update_layout(height=400, width=600, yaxis_type=\"log\", xaxis_title='epoch')\n",
    "\n",
    "def lr_exponential_decay(epoch, lr):\n",
    "    growth_rate = final_learning_rate / initial_learning_rate\n",
    "    lr_ = initial_learning_rate * growth_rate**(epoch / (n_epochs-1.))\n",
    "    tf.summary.scalar(\"learning rate\", data=lr_, step=epoch)\n",
    "    metric_lr[epoch] = lr_  \n",
    "    return lr_\n",
    "\n",
    "def lr_constant(epoch, lr):\n",
    "    tf.summary.scalar(\"learning rate\", data=learning_rate, step=epoch)\n",
    "    metric_lr[epoch] = learning_rate\n",
    "    return learning_rate"
   ]
  },
  {
   "cell_type": "code",
   "execution_count": 4,
   "metadata": {
    "colab": {},
    "colab_type": "code",
    "id": "eTiwovhKzgV4"
   },
   "outputs": [],
   "source": [
    "optimr = keras.optimizers.SGD()"
   ]
  },
  {
   "cell_type": "code",
   "execution_count": 30,
   "metadata": {
    "colab": {
     "base_uri": "https://localhost:8080/",
     "height": 1000
    },
    "colab_type": "code",
    "id": "KK5aVJsJzIPc",
    "outputId": "4d46b3e4-b527-4156-d470-d2280756a776"
   },
   "outputs": [
    {
     "name": "stdout",
     "output_type": "stream",
     "text": [
      "\n",
      "...\n",
      "Training is complete\n"
     ]
    },
    {
     "data": {
      "application/vnd.plotly.v1+json": {
       "config": {
        "plotlyServerURL": "https://plot.ly"
       },
       "data": [
        {
         "mode": "markers",
         "name": "training",
         "type": "scatter",
         "x": [
          -1,
          0,
          1
         ],
         "y": [
          -1,
          0,
          1
         ]
        },
        {
         "name": "prediction",
         "type": "scatter",
         "x": [
          -1,
          -0.7142857142857143,
          -0.4285714285714286,
          -0.1428571428571429,
          0.1428571428571428,
          0.4285714285714284,
          0.7142857142857142,
          1
         ],
         "y": [
          -1,
          -0.747654378414154,
          -0.46355879306793213,
          -0.15720531344413757,
          0.15720531344413757,
          0.46355879306793213,
          0.747654378414154,
          1
         ]
        }
       ],
       "layout": {
        "height": 400,
        "template": {
         "data": {
          "bar": [
           {
            "error_x": {
             "color": "#2a3f5f"
            },
            "error_y": {
             "color": "#2a3f5f"
            },
            "marker": {
             "line": {
              "color": "#E5ECF6",
              "width": 0.5
             }
            },
            "type": "bar"
           }
          ],
          "barpolar": [
           {
            "marker": {
             "line": {
              "color": "#E5ECF6",
              "width": 0.5
             }
            },
            "type": "barpolar"
           }
          ],
          "carpet": [
           {
            "aaxis": {
             "endlinecolor": "#2a3f5f",
             "gridcolor": "white",
             "linecolor": "white",
             "minorgridcolor": "white",
             "startlinecolor": "#2a3f5f"
            },
            "baxis": {
             "endlinecolor": "#2a3f5f",
             "gridcolor": "white",
             "linecolor": "white",
             "minorgridcolor": "white",
             "startlinecolor": "#2a3f5f"
            },
            "type": "carpet"
           }
          ],
          "choropleth": [
           {
            "colorbar": {
             "outlinewidth": 0,
             "ticks": ""
            },
            "type": "choropleth"
           }
          ],
          "contour": [
           {
            "colorbar": {
             "outlinewidth": 0,
             "ticks": ""
            },
            "colorscale": [
             [
              0,
              "#0d0887"
             ],
             [
              0.1111111111111111,
              "#46039f"
             ],
             [
              0.2222222222222222,
              "#7201a8"
             ],
             [
              0.3333333333333333,
              "#9c179e"
             ],
             [
              0.4444444444444444,
              "#bd3786"
             ],
             [
              0.5555555555555556,
              "#d8576b"
             ],
             [
              0.6666666666666666,
              "#ed7953"
             ],
             [
              0.7777777777777778,
              "#fb9f3a"
             ],
             [
              0.8888888888888888,
              "#fdca26"
             ],
             [
              1,
              "#f0f921"
             ]
            ],
            "type": "contour"
           }
          ],
          "contourcarpet": [
           {
            "colorbar": {
             "outlinewidth": 0,
             "ticks": ""
            },
            "type": "contourcarpet"
           }
          ],
          "heatmap": [
           {
            "colorbar": {
             "outlinewidth": 0,
             "ticks": ""
            },
            "colorscale": [
             [
              0,
              "#0d0887"
             ],
             [
              0.1111111111111111,
              "#46039f"
             ],
             [
              0.2222222222222222,
              "#7201a8"
             ],
             [
              0.3333333333333333,
              "#9c179e"
             ],
             [
              0.4444444444444444,
              "#bd3786"
             ],
             [
              0.5555555555555556,
              "#d8576b"
             ],
             [
              0.6666666666666666,
              "#ed7953"
             ],
             [
              0.7777777777777778,
              "#fb9f3a"
             ],
             [
              0.8888888888888888,
              "#fdca26"
             ],
             [
              1,
              "#f0f921"
             ]
            ],
            "type": "heatmap"
           }
          ],
          "heatmapgl": [
           {
            "colorbar": {
             "outlinewidth": 0,
             "ticks": ""
            },
            "colorscale": [
             [
              0,
              "#0d0887"
             ],
             [
              0.1111111111111111,
              "#46039f"
             ],
             [
              0.2222222222222222,
              "#7201a8"
             ],
             [
              0.3333333333333333,
              "#9c179e"
             ],
             [
              0.4444444444444444,
              "#bd3786"
             ],
             [
              0.5555555555555556,
              "#d8576b"
             ],
             [
              0.6666666666666666,
              "#ed7953"
             ],
             [
              0.7777777777777778,
              "#fb9f3a"
             ],
             [
              0.8888888888888888,
              "#fdca26"
             ],
             [
              1,
              "#f0f921"
             ]
            ],
            "type": "heatmapgl"
           }
          ],
          "histogram": [
           {
            "marker": {
             "colorbar": {
              "outlinewidth": 0,
              "ticks": ""
             }
            },
            "type": "histogram"
           }
          ],
          "histogram2d": [
           {
            "colorbar": {
             "outlinewidth": 0,
             "ticks": ""
            },
            "colorscale": [
             [
              0,
              "#0d0887"
             ],
             [
              0.1111111111111111,
              "#46039f"
             ],
             [
              0.2222222222222222,
              "#7201a8"
             ],
             [
              0.3333333333333333,
              "#9c179e"
             ],
             [
              0.4444444444444444,
              "#bd3786"
             ],
             [
              0.5555555555555556,
              "#d8576b"
             ],
             [
              0.6666666666666666,
              "#ed7953"
             ],
             [
              0.7777777777777778,
              "#fb9f3a"
             ],
             [
              0.8888888888888888,
              "#fdca26"
             ],
             [
              1,
              "#f0f921"
             ]
            ],
            "type": "histogram2d"
           }
          ],
          "histogram2dcontour": [
           {
            "colorbar": {
             "outlinewidth": 0,
             "ticks": ""
            },
            "colorscale": [
             [
              0,
              "#0d0887"
             ],
             [
              0.1111111111111111,
              "#46039f"
             ],
             [
              0.2222222222222222,
              "#7201a8"
             ],
             [
              0.3333333333333333,
              "#9c179e"
             ],
             [
              0.4444444444444444,
              "#bd3786"
             ],
             [
              0.5555555555555556,
              "#d8576b"
             ],
             [
              0.6666666666666666,
              "#ed7953"
             ],
             [
              0.7777777777777778,
              "#fb9f3a"
             ],
             [
              0.8888888888888888,
              "#fdca26"
             ],
             [
              1,
              "#f0f921"
             ]
            ],
            "type": "histogram2dcontour"
           }
          ],
          "mesh3d": [
           {
            "colorbar": {
             "outlinewidth": 0,
             "ticks": ""
            },
            "type": "mesh3d"
           }
          ],
          "parcoords": [
           {
            "line": {
             "colorbar": {
              "outlinewidth": 0,
              "ticks": ""
             }
            },
            "type": "parcoords"
           }
          ],
          "pie": [
           {
            "automargin": true,
            "type": "pie"
           }
          ],
          "scatter": [
           {
            "marker": {
             "colorbar": {
              "outlinewidth": 0,
              "ticks": ""
             }
            },
            "type": "scatter"
           }
          ],
          "scatter3d": [
           {
            "line": {
             "colorbar": {
              "outlinewidth": 0,
              "ticks": ""
             }
            },
            "marker": {
             "colorbar": {
              "outlinewidth": 0,
              "ticks": ""
             }
            },
            "type": "scatter3d"
           }
          ],
          "scattercarpet": [
           {
            "marker": {
             "colorbar": {
              "outlinewidth": 0,
              "ticks": ""
             }
            },
            "type": "scattercarpet"
           }
          ],
          "scattergeo": [
           {
            "marker": {
             "colorbar": {
              "outlinewidth": 0,
              "ticks": ""
             }
            },
            "type": "scattergeo"
           }
          ],
          "scattergl": [
           {
            "marker": {
             "colorbar": {
              "outlinewidth": 0,
              "ticks": ""
             }
            },
            "type": "scattergl"
           }
          ],
          "scattermapbox": [
           {
            "marker": {
             "colorbar": {
              "outlinewidth": 0,
              "ticks": ""
             }
            },
            "type": "scattermapbox"
           }
          ],
          "scatterpolar": [
           {
            "marker": {
             "colorbar": {
              "outlinewidth": 0,
              "ticks": ""
             }
            },
            "type": "scatterpolar"
           }
          ],
          "scatterpolargl": [
           {
            "marker": {
             "colorbar": {
              "outlinewidth": 0,
              "ticks": ""
             }
            },
            "type": "scatterpolargl"
           }
          ],
          "scatterternary": [
           {
            "marker": {
             "colorbar": {
              "outlinewidth": 0,
              "ticks": ""
             }
            },
            "type": "scatterternary"
           }
          ],
          "surface": [
           {
            "colorbar": {
             "outlinewidth": 0,
             "ticks": ""
            },
            "colorscale": [
             [
              0,
              "#0d0887"
             ],
             [
              0.1111111111111111,
              "#46039f"
             ],
             [
              0.2222222222222222,
              "#7201a8"
             ],
             [
              0.3333333333333333,
              "#9c179e"
             ],
             [
              0.4444444444444444,
              "#bd3786"
             ],
             [
              0.5555555555555556,
              "#d8576b"
             ],
             [
              0.6666666666666666,
              "#ed7953"
             ],
             [
              0.7777777777777778,
              "#fb9f3a"
             ],
             [
              0.8888888888888888,
              "#fdca26"
             ],
             [
              1,
              "#f0f921"
             ]
            ],
            "type": "surface"
           }
          ],
          "table": [
           {
            "cells": {
             "fill": {
              "color": "#EBF0F8"
             },
             "line": {
              "color": "white"
             }
            },
            "header": {
             "fill": {
              "color": "#C8D4E3"
             },
             "line": {
              "color": "white"
             }
            },
            "type": "table"
           }
          ]
         },
         "layout": {
          "annotationdefaults": {
           "arrowcolor": "#2a3f5f",
           "arrowhead": 0,
           "arrowwidth": 1
          },
          "coloraxis": {
           "colorbar": {
            "outlinewidth": 0,
            "ticks": ""
           }
          },
          "colorscale": {
           "diverging": [
            [
             0,
             "#8e0152"
            ],
            [
             0.1,
             "#c51b7d"
            ],
            [
             0.2,
             "#de77ae"
            ],
            [
             0.3,
             "#f1b6da"
            ],
            [
             0.4,
             "#fde0ef"
            ],
            [
             0.5,
             "#f7f7f7"
            ],
            [
             0.6,
             "#e6f5d0"
            ],
            [
             0.7,
             "#b8e186"
            ],
            [
             0.8,
             "#7fbc41"
            ],
            [
             0.9,
             "#4d9221"
            ],
            [
             1,
             "#276419"
            ]
           ],
           "sequential": [
            [
             0,
             "#0d0887"
            ],
            [
             0.1111111111111111,
             "#46039f"
            ],
            [
             0.2222222222222222,
             "#7201a8"
            ],
            [
             0.3333333333333333,
             "#9c179e"
            ],
            [
             0.4444444444444444,
             "#bd3786"
            ],
            [
             0.5555555555555556,
             "#d8576b"
            ],
            [
             0.6666666666666666,
             "#ed7953"
            ],
            [
             0.7777777777777778,
             "#fb9f3a"
            ],
            [
             0.8888888888888888,
             "#fdca26"
            ],
            [
             1,
             "#f0f921"
            ]
           ],
           "sequentialminus": [
            [
             0,
             "#0d0887"
            ],
            [
             0.1111111111111111,
             "#46039f"
            ],
            [
             0.2222222222222222,
             "#7201a8"
            ],
            [
             0.3333333333333333,
             "#9c179e"
            ],
            [
             0.4444444444444444,
             "#bd3786"
            ],
            [
             0.5555555555555556,
             "#d8576b"
            ],
            [
             0.6666666666666666,
             "#ed7953"
            ],
            [
             0.7777777777777778,
             "#fb9f3a"
            ],
            [
             0.8888888888888888,
             "#fdca26"
            ],
            [
             1,
             "#f0f921"
            ]
           ]
          },
          "colorway": [
           "#636efa",
           "#EF553B",
           "#00cc96",
           "#ab63fa",
           "#FFA15A",
           "#19d3f3",
           "#FF6692",
           "#B6E880",
           "#FF97FF",
           "#FECB52"
          ],
          "font": {
           "color": "#2a3f5f"
          },
          "geo": {
           "bgcolor": "white",
           "lakecolor": "white",
           "landcolor": "#E5ECF6",
           "showlakes": true,
           "showland": true,
           "subunitcolor": "white"
          },
          "hoverlabel": {
           "align": "left"
          },
          "hovermode": "closest",
          "mapbox": {
           "style": "light"
          },
          "paper_bgcolor": "white",
          "plot_bgcolor": "#E5ECF6",
          "polar": {
           "angularaxis": {
            "gridcolor": "white",
            "linecolor": "white",
            "ticks": ""
           },
           "bgcolor": "#E5ECF6",
           "radialaxis": {
            "gridcolor": "white",
            "linecolor": "white",
            "ticks": ""
           }
          },
          "scene": {
           "xaxis": {
            "backgroundcolor": "#E5ECF6",
            "gridcolor": "white",
            "gridwidth": 2,
            "linecolor": "white",
            "showbackground": true,
            "ticks": "",
            "zerolinecolor": "white"
           },
           "yaxis": {
            "backgroundcolor": "#E5ECF6",
            "gridcolor": "white",
            "gridwidth": 2,
            "linecolor": "white",
            "showbackground": true,
            "ticks": "",
            "zerolinecolor": "white"
           },
           "zaxis": {
            "backgroundcolor": "#E5ECF6",
            "gridcolor": "white",
            "gridwidth": 2,
            "linecolor": "white",
            "showbackground": true,
            "ticks": "",
            "zerolinecolor": "white"
           }
          },
          "shapedefaults": {
           "line": {
            "color": "#2a3f5f"
           }
          },
          "ternary": {
           "aaxis": {
            "gridcolor": "white",
            "linecolor": "white",
            "ticks": ""
           },
           "baxis": {
            "gridcolor": "white",
            "linecolor": "white",
            "ticks": ""
           },
           "bgcolor": "#E5ECF6",
           "caxis": {
            "gridcolor": "white",
            "linecolor": "white",
            "ticks": ""
           }
          },
          "title": {
           "x": 0.05
          },
          "xaxis": {
           "automargin": true,
           "gridcolor": "white",
           "linecolor": "white",
           "ticks": "",
           "title": {
            "standoff": 15
           },
           "zerolinecolor": "white",
           "zerolinewidth": 2
          },
          "yaxis": {
           "automargin": true,
           "gridcolor": "white",
           "linecolor": "white",
           "ticks": "",
           "title": {
            "standoff": 15
           },
           "zerolinecolor": "white",
           "zerolinewidth": 2
          }
         }
        },
        "width": 600
       }
      },
      "text/html": [
       "<div>\n",
       "        \n",
       "        \n",
       "            <div id=\"9a6f988a-c974-4dfc-8598-b30920810f61\" class=\"plotly-graph-div\" style=\"height:400px; width:600px;\"></div>\n",
       "            <script type=\"text/javascript\">\n",
       "                require([\"plotly\"], function(Plotly) {\n",
       "                    window.PLOTLYENV=window.PLOTLYENV || {};\n",
       "                    \n",
       "                if (document.getElementById(\"9a6f988a-c974-4dfc-8598-b30920810f61\")) {\n",
       "                    Plotly.newPlot(\n",
       "                        '9a6f988a-c974-4dfc-8598-b30920810f61',\n",
       "                        [{\"mode\": \"markers\", \"name\": \"training\", \"type\": \"scatter\", \"x\": [-1.0, 0.0, 1.0], \"y\": [-1.0, 0.0, 1.0]}, {\"name\": \"prediction\", \"type\": \"scatter\", \"x\": [-1.0, -0.7142857142857143, -0.4285714285714286, -0.1428571428571429, 0.1428571428571428, 0.4285714285714284, 0.7142857142857142, 1.0], \"y\": [-1.0, -0.747654378414154, -0.46355879306793213, -0.15720531344413757, 0.15720531344413757, 0.46355879306793213, 0.747654378414154, 1.0]}],\n",
       "                        {\"height\": 400, \"template\": {\"data\": {\"bar\": [{\"error_x\": {\"color\": \"#2a3f5f\"}, \"error_y\": {\"color\": \"#2a3f5f\"}, \"marker\": {\"line\": {\"color\": \"#E5ECF6\", \"width\": 0.5}}, \"type\": \"bar\"}], \"barpolar\": [{\"marker\": {\"line\": {\"color\": \"#E5ECF6\", \"width\": 0.5}}, \"type\": \"barpolar\"}], \"carpet\": [{\"aaxis\": {\"endlinecolor\": \"#2a3f5f\", \"gridcolor\": \"white\", \"linecolor\": \"white\", \"minorgridcolor\": \"white\", \"startlinecolor\": \"#2a3f5f\"}, \"baxis\": {\"endlinecolor\": \"#2a3f5f\", \"gridcolor\": \"white\", \"linecolor\": \"white\", \"minorgridcolor\": \"white\", \"startlinecolor\": \"#2a3f5f\"}, \"type\": \"carpet\"}], \"choropleth\": [{\"colorbar\": {\"outlinewidth\": 0, \"ticks\": \"\"}, \"type\": \"choropleth\"}], \"contour\": [{\"colorbar\": {\"outlinewidth\": 0, \"ticks\": \"\"}, \"colorscale\": [[0.0, \"#0d0887\"], [0.1111111111111111, \"#46039f\"], [0.2222222222222222, \"#7201a8\"], [0.3333333333333333, \"#9c179e\"], [0.4444444444444444, \"#bd3786\"], [0.5555555555555556, \"#d8576b\"], [0.6666666666666666, \"#ed7953\"], [0.7777777777777778, \"#fb9f3a\"], [0.8888888888888888, \"#fdca26\"], [1.0, \"#f0f921\"]], \"type\": \"contour\"}], \"contourcarpet\": [{\"colorbar\": {\"outlinewidth\": 0, \"ticks\": \"\"}, \"type\": \"contourcarpet\"}], \"heatmap\": [{\"colorbar\": {\"outlinewidth\": 0, \"ticks\": \"\"}, \"colorscale\": [[0.0, \"#0d0887\"], [0.1111111111111111, \"#46039f\"], [0.2222222222222222, \"#7201a8\"], [0.3333333333333333, \"#9c179e\"], [0.4444444444444444, \"#bd3786\"], [0.5555555555555556, \"#d8576b\"], [0.6666666666666666, \"#ed7953\"], [0.7777777777777778, \"#fb9f3a\"], [0.8888888888888888, \"#fdca26\"], [1.0, \"#f0f921\"]], \"type\": \"heatmap\"}], \"heatmapgl\": [{\"colorbar\": {\"outlinewidth\": 0, \"ticks\": \"\"}, \"colorscale\": [[0.0, \"#0d0887\"], [0.1111111111111111, \"#46039f\"], [0.2222222222222222, \"#7201a8\"], [0.3333333333333333, \"#9c179e\"], [0.4444444444444444, \"#bd3786\"], [0.5555555555555556, \"#d8576b\"], [0.6666666666666666, \"#ed7953\"], [0.7777777777777778, \"#fb9f3a\"], [0.8888888888888888, \"#fdca26\"], [1.0, \"#f0f921\"]], \"type\": \"heatmapgl\"}], \"histogram\": [{\"marker\": {\"colorbar\": {\"outlinewidth\": 0, \"ticks\": \"\"}}, \"type\": \"histogram\"}], \"histogram2d\": [{\"colorbar\": {\"outlinewidth\": 0, \"ticks\": \"\"}, \"colorscale\": [[0.0, \"#0d0887\"], [0.1111111111111111, \"#46039f\"], [0.2222222222222222, \"#7201a8\"], [0.3333333333333333, \"#9c179e\"], [0.4444444444444444, \"#bd3786\"], [0.5555555555555556, \"#d8576b\"], [0.6666666666666666, \"#ed7953\"], [0.7777777777777778, \"#fb9f3a\"], [0.8888888888888888, \"#fdca26\"], [1.0, \"#f0f921\"]], \"type\": \"histogram2d\"}], \"histogram2dcontour\": [{\"colorbar\": {\"outlinewidth\": 0, \"ticks\": \"\"}, \"colorscale\": [[0.0, \"#0d0887\"], [0.1111111111111111, \"#46039f\"], [0.2222222222222222, \"#7201a8\"], [0.3333333333333333, \"#9c179e\"], [0.4444444444444444, \"#bd3786\"], [0.5555555555555556, \"#d8576b\"], [0.6666666666666666, \"#ed7953\"], [0.7777777777777778, \"#fb9f3a\"], [0.8888888888888888, \"#fdca26\"], [1.0, \"#f0f921\"]], \"type\": \"histogram2dcontour\"}], \"mesh3d\": [{\"colorbar\": {\"outlinewidth\": 0, \"ticks\": \"\"}, \"type\": \"mesh3d\"}], \"parcoords\": [{\"line\": {\"colorbar\": {\"outlinewidth\": 0, \"ticks\": \"\"}}, \"type\": \"parcoords\"}], \"pie\": [{\"automargin\": true, \"type\": \"pie\"}], \"scatter\": [{\"marker\": {\"colorbar\": {\"outlinewidth\": 0, \"ticks\": \"\"}}, \"type\": \"scatter\"}], \"scatter3d\": [{\"line\": {\"colorbar\": {\"outlinewidth\": 0, \"ticks\": \"\"}}, \"marker\": {\"colorbar\": {\"outlinewidth\": 0, \"ticks\": \"\"}}, \"type\": \"scatter3d\"}], \"scattercarpet\": [{\"marker\": {\"colorbar\": {\"outlinewidth\": 0, \"ticks\": \"\"}}, \"type\": \"scattercarpet\"}], \"scattergeo\": [{\"marker\": {\"colorbar\": {\"outlinewidth\": 0, \"ticks\": \"\"}}, \"type\": \"scattergeo\"}], \"scattergl\": [{\"marker\": {\"colorbar\": {\"outlinewidth\": 0, \"ticks\": \"\"}}, \"type\": \"scattergl\"}], \"scattermapbox\": [{\"marker\": {\"colorbar\": {\"outlinewidth\": 0, \"ticks\": \"\"}}, \"type\": \"scattermapbox\"}], \"scatterpolar\": [{\"marker\": {\"colorbar\": {\"outlinewidth\": 0, \"ticks\": \"\"}}, \"type\": \"scatterpolar\"}], \"scatterpolargl\": [{\"marker\": {\"colorbar\": {\"outlinewidth\": 0, \"ticks\": \"\"}}, \"type\": \"scatterpolargl\"}], \"scatterternary\": [{\"marker\": {\"colorbar\": {\"outlinewidth\": 0, \"ticks\": \"\"}}, \"type\": \"scatterternary\"}], \"surface\": [{\"colorbar\": {\"outlinewidth\": 0, \"ticks\": \"\"}, \"colorscale\": [[0.0, \"#0d0887\"], [0.1111111111111111, \"#46039f\"], [0.2222222222222222, \"#7201a8\"], [0.3333333333333333, \"#9c179e\"], [0.4444444444444444, \"#bd3786\"], [0.5555555555555556, \"#d8576b\"], [0.6666666666666666, \"#ed7953\"], [0.7777777777777778, \"#fb9f3a\"], [0.8888888888888888, \"#fdca26\"], [1.0, \"#f0f921\"]], \"type\": \"surface\"}], \"table\": [{\"cells\": {\"fill\": {\"color\": \"#EBF0F8\"}, \"line\": {\"color\": \"white\"}}, \"header\": {\"fill\": {\"color\": \"#C8D4E3\"}, \"line\": {\"color\": \"white\"}}, \"type\": \"table\"}]}, \"layout\": {\"annotationdefaults\": {\"arrowcolor\": \"#2a3f5f\", \"arrowhead\": 0, \"arrowwidth\": 1}, \"coloraxis\": {\"colorbar\": {\"outlinewidth\": 0, \"ticks\": \"\"}}, \"colorscale\": {\"diverging\": [[0, \"#8e0152\"], [0.1, \"#c51b7d\"], [0.2, \"#de77ae\"], [0.3, \"#f1b6da\"], [0.4, \"#fde0ef\"], [0.5, \"#f7f7f7\"], [0.6, \"#e6f5d0\"], [0.7, \"#b8e186\"], [0.8, \"#7fbc41\"], [0.9, \"#4d9221\"], [1, \"#276419\"]], \"sequential\": [[0.0, \"#0d0887\"], [0.1111111111111111, \"#46039f\"], [0.2222222222222222, \"#7201a8\"], [0.3333333333333333, \"#9c179e\"], [0.4444444444444444, \"#bd3786\"], [0.5555555555555556, \"#d8576b\"], [0.6666666666666666, \"#ed7953\"], [0.7777777777777778, \"#fb9f3a\"], [0.8888888888888888, \"#fdca26\"], [1.0, \"#f0f921\"]], \"sequentialminus\": [[0.0, \"#0d0887\"], [0.1111111111111111, \"#46039f\"], [0.2222222222222222, \"#7201a8\"], [0.3333333333333333, \"#9c179e\"], [0.4444444444444444, \"#bd3786\"], [0.5555555555555556, \"#d8576b\"], [0.6666666666666666, \"#ed7953\"], [0.7777777777777778, \"#fb9f3a\"], [0.8888888888888888, \"#fdca26\"], [1.0, \"#f0f921\"]]}, \"colorway\": [\"#636efa\", \"#EF553B\", \"#00cc96\", \"#ab63fa\", \"#FFA15A\", \"#19d3f3\", \"#FF6692\", \"#B6E880\", \"#FF97FF\", \"#FECB52\"], \"font\": {\"color\": \"#2a3f5f\"}, \"geo\": {\"bgcolor\": \"white\", \"lakecolor\": \"white\", \"landcolor\": \"#E5ECF6\", \"showlakes\": true, \"showland\": true, \"subunitcolor\": \"white\"}, \"hoverlabel\": {\"align\": \"left\"}, \"hovermode\": \"closest\", \"mapbox\": {\"style\": \"light\"}, \"paper_bgcolor\": \"white\", \"plot_bgcolor\": \"#E5ECF6\", \"polar\": {\"angularaxis\": {\"gridcolor\": \"white\", \"linecolor\": \"white\", \"ticks\": \"\"}, \"bgcolor\": \"#E5ECF6\", \"radialaxis\": {\"gridcolor\": \"white\", \"linecolor\": \"white\", \"ticks\": \"\"}}, \"scene\": {\"xaxis\": {\"backgroundcolor\": \"#E5ECF6\", \"gridcolor\": \"white\", \"gridwidth\": 2, \"linecolor\": \"white\", \"showbackground\": true, \"ticks\": \"\", \"zerolinecolor\": \"white\"}, \"yaxis\": {\"backgroundcolor\": \"#E5ECF6\", \"gridcolor\": \"white\", \"gridwidth\": 2, \"linecolor\": \"white\", \"showbackground\": true, \"ticks\": \"\", \"zerolinecolor\": \"white\"}, \"zaxis\": {\"backgroundcolor\": \"#E5ECF6\", \"gridcolor\": \"white\", \"gridwidth\": 2, \"linecolor\": \"white\", \"showbackground\": true, \"ticks\": \"\", \"zerolinecolor\": \"white\"}}, \"shapedefaults\": {\"line\": {\"color\": \"#2a3f5f\"}}, \"ternary\": {\"aaxis\": {\"gridcolor\": \"white\", \"linecolor\": \"white\", \"ticks\": \"\"}, \"baxis\": {\"gridcolor\": \"white\", \"linecolor\": \"white\", \"ticks\": \"\"}, \"bgcolor\": \"#E5ECF6\", \"caxis\": {\"gridcolor\": \"white\", \"linecolor\": \"white\", \"ticks\": \"\"}}, \"title\": {\"x\": 0.05}, \"xaxis\": {\"automargin\": true, \"gridcolor\": \"white\", \"linecolor\": \"white\", \"ticks\": \"\", \"title\": {\"standoff\": 15}, \"zerolinecolor\": \"white\", \"zerolinewidth\": 2}, \"yaxis\": {\"automargin\": true, \"gridcolor\": \"white\", \"linecolor\": \"white\", \"ticks\": \"\", \"title\": {\"standoff\": 15}, \"zerolinecolor\": \"white\", \"zerolinewidth\": 2}}}, \"width\": 600},\n",
       "                        {\"responsive\": true}\n",
       "                    ).then(function(){\n",
       "                            \n",
       "var gd = document.getElementById('9a6f988a-c974-4dfc-8598-b30920810f61');\n",
       "var x = new MutationObserver(function (mutations, observer) {{\n",
       "        var display = window.getComputedStyle(gd).display;\n",
       "        if (!display || display === 'none') {{\n",
       "            console.log([gd, 'removed!']);\n",
       "            Plotly.purge(gd);\n",
       "            observer.disconnect();\n",
       "        }}\n",
       "}});\n",
       "\n",
       "// Listen for the removal of the full notebook cells\n",
       "var notebookContainer = gd.closest('#notebook-container');\n",
       "if (notebookContainer) {{\n",
       "    x.observe(notebookContainer, {childList: true});\n",
       "}}\n",
       "\n",
       "// Listen for the clearing of the current output cell\n",
       "var outputEl = gd.closest('.output');\n",
       "if (outputEl) {{\n",
       "    x.observe(outputEl, {childList: true});\n",
       "}}\n",
       "\n",
       "                        })\n",
       "                };\n",
       "                });\n",
       "            </script>\n",
       "        </div>"
      ]
     },
     "metadata": {},
     "output_type": "display_data"
    },
    {
     "data": {
      "application/vnd.plotly.v1+json": {
       "config": {
        "plotlyServerURL": "https://plot.ly"
       },
       "data": [
        {
         "name": "loss",
         "type": "scatter",
         "y": [
          0.493340775961516,
          0.0287696850417119,
          0.0006047846896980843,
          1.0512069551967908e-05,
          3.4066892729597763e-07,
          0,
          0,
          0,
          0,
          0,
          0,
          0,
          0,
          0,
          0,
          0,
          0,
          0,
          0,
          0,
          0,
          0,
          0,
          0,
          0,
          0,
          0,
          0,
          0,
          0
         ]
        },
        {
         "name": "error training",
         "type": "scatter",
         "y": [
          0.49334079027175903,
          0.028769684955477715,
          0.0006047846982255578,
          1.0512069820833858e-05,
          3.40668918852316e-07,
          0,
          0,
          0,
          0,
          0,
          0,
          0,
          0,
          0,
          0,
          0,
          0,
          0,
          0,
          0,
          0,
          0,
          0,
          0,
          0,
          0,
          0,
          0,
          0,
          0
         ]
        },
        {
         "name": "error validation",
         "type": "scatter",
         "y": [
          0.02758518047630787,
          0.020993389189243317,
          0.021180100739002228,
          0.021183447912335396,
          0.021183554083108902,
          0.021183554083108902,
          0.021183554083108902,
          0.021183554083108902,
          0.021183554083108902,
          0.021183554083108902,
          0.021183554083108902,
          0.021183554083108902,
          0.021183554083108902,
          0.021183554083108902,
          0.021183554083108902,
          0.021183554083108902,
          0.021183554083108902,
          0.021183554083108902,
          0.021183554083108902,
          0.021183554083108902,
          0.021183554083108902,
          0.021183554083108902,
          0.021183554083108902,
          0.021183554083108902,
          0.021183554083108902,
          0.021183554083108902,
          0.021183554083108902,
          0.021183554083108902,
          0.021183554083108902,
          0.021183554083108902
         ]
        }
       ],
       "layout": {
        "height": 400,
        "template": {
         "data": {
          "bar": [
           {
            "error_x": {
             "color": "#2a3f5f"
            },
            "error_y": {
             "color": "#2a3f5f"
            },
            "marker": {
             "line": {
              "color": "#E5ECF6",
              "width": 0.5
             }
            },
            "type": "bar"
           }
          ],
          "barpolar": [
           {
            "marker": {
             "line": {
              "color": "#E5ECF6",
              "width": 0.5
             }
            },
            "type": "barpolar"
           }
          ],
          "carpet": [
           {
            "aaxis": {
             "endlinecolor": "#2a3f5f",
             "gridcolor": "white",
             "linecolor": "white",
             "minorgridcolor": "white",
             "startlinecolor": "#2a3f5f"
            },
            "baxis": {
             "endlinecolor": "#2a3f5f",
             "gridcolor": "white",
             "linecolor": "white",
             "minorgridcolor": "white",
             "startlinecolor": "#2a3f5f"
            },
            "type": "carpet"
           }
          ],
          "choropleth": [
           {
            "colorbar": {
             "outlinewidth": 0,
             "ticks": ""
            },
            "type": "choropleth"
           }
          ],
          "contour": [
           {
            "colorbar": {
             "outlinewidth": 0,
             "ticks": ""
            },
            "colorscale": [
             [
              0,
              "#0d0887"
             ],
             [
              0.1111111111111111,
              "#46039f"
             ],
             [
              0.2222222222222222,
              "#7201a8"
             ],
             [
              0.3333333333333333,
              "#9c179e"
             ],
             [
              0.4444444444444444,
              "#bd3786"
             ],
             [
              0.5555555555555556,
              "#d8576b"
             ],
             [
              0.6666666666666666,
              "#ed7953"
             ],
             [
              0.7777777777777778,
              "#fb9f3a"
             ],
             [
              0.8888888888888888,
              "#fdca26"
             ],
             [
              1,
              "#f0f921"
             ]
            ],
            "type": "contour"
           }
          ],
          "contourcarpet": [
           {
            "colorbar": {
             "outlinewidth": 0,
             "ticks": ""
            },
            "type": "contourcarpet"
           }
          ],
          "heatmap": [
           {
            "colorbar": {
             "outlinewidth": 0,
             "ticks": ""
            },
            "colorscale": [
             [
              0,
              "#0d0887"
             ],
             [
              0.1111111111111111,
              "#46039f"
             ],
             [
              0.2222222222222222,
              "#7201a8"
             ],
             [
              0.3333333333333333,
              "#9c179e"
             ],
             [
              0.4444444444444444,
              "#bd3786"
             ],
             [
              0.5555555555555556,
              "#d8576b"
             ],
             [
              0.6666666666666666,
              "#ed7953"
             ],
             [
              0.7777777777777778,
              "#fb9f3a"
             ],
             [
              0.8888888888888888,
              "#fdca26"
             ],
             [
              1,
              "#f0f921"
             ]
            ],
            "type": "heatmap"
           }
          ],
          "heatmapgl": [
           {
            "colorbar": {
             "outlinewidth": 0,
             "ticks": ""
            },
            "colorscale": [
             [
              0,
              "#0d0887"
             ],
             [
              0.1111111111111111,
              "#46039f"
             ],
             [
              0.2222222222222222,
              "#7201a8"
             ],
             [
              0.3333333333333333,
              "#9c179e"
             ],
             [
              0.4444444444444444,
              "#bd3786"
             ],
             [
              0.5555555555555556,
              "#d8576b"
             ],
             [
              0.6666666666666666,
              "#ed7953"
             ],
             [
              0.7777777777777778,
              "#fb9f3a"
             ],
             [
              0.8888888888888888,
              "#fdca26"
             ],
             [
              1,
              "#f0f921"
             ]
            ],
            "type": "heatmapgl"
           }
          ],
          "histogram": [
           {
            "marker": {
             "colorbar": {
              "outlinewidth": 0,
              "ticks": ""
             }
            },
            "type": "histogram"
           }
          ],
          "histogram2d": [
           {
            "colorbar": {
             "outlinewidth": 0,
             "ticks": ""
            },
            "colorscale": [
             [
              0,
              "#0d0887"
             ],
             [
              0.1111111111111111,
              "#46039f"
             ],
             [
              0.2222222222222222,
              "#7201a8"
             ],
             [
              0.3333333333333333,
              "#9c179e"
             ],
             [
              0.4444444444444444,
              "#bd3786"
             ],
             [
              0.5555555555555556,
              "#d8576b"
             ],
             [
              0.6666666666666666,
              "#ed7953"
             ],
             [
              0.7777777777777778,
              "#fb9f3a"
             ],
             [
              0.8888888888888888,
              "#fdca26"
             ],
             [
              1,
              "#f0f921"
             ]
            ],
            "type": "histogram2d"
           }
          ],
          "histogram2dcontour": [
           {
            "colorbar": {
             "outlinewidth": 0,
             "ticks": ""
            },
            "colorscale": [
             [
              0,
              "#0d0887"
             ],
             [
              0.1111111111111111,
              "#46039f"
             ],
             [
              0.2222222222222222,
              "#7201a8"
             ],
             [
              0.3333333333333333,
              "#9c179e"
             ],
             [
              0.4444444444444444,
              "#bd3786"
             ],
             [
              0.5555555555555556,
              "#d8576b"
             ],
             [
              0.6666666666666666,
              "#ed7953"
             ],
             [
              0.7777777777777778,
              "#fb9f3a"
             ],
             [
              0.8888888888888888,
              "#fdca26"
             ],
             [
              1,
              "#f0f921"
             ]
            ],
            "type": "histogram2dcontour"
           }
          ],
          "mesh3d": [
           {
            "colorbar": {
             "outlinewidth": 0,
             "ticks": ""
            },
            "type": "mesh3d"
           }
          ],
          "parcoords": [
           {
            "line": {
             "colorbar": {
              "outlinewidth": 0,
              "ticks": ""
             }
            },
            "type": "parcoords"
           }
          ],
          "pie": [
           {
            "automargin": true,
            "type": "pie"
           }
          ],
          "scatter": [
           {
            "marker": {
             "colorbar": {
              "outlinewidth": 0,
              "ticks": ""
             }
            },
            "type": "scatter"
           }
          ],
          "scatter3d": [
           {
            "line": {
             "colorbar": {
              "outlinewidth": 0,
              "ticks": ""
             }
            },
            "marker": {
             "colorbar": {
              "outlinewidth": 0,
              "ticks": ""
             }
            },
            "type": "scatter3d"
           }
          ],
          "scattercarpet": [
           {
            "marker": {
             "colorbar": {
              "outlinewidth": 0,
              "ticks": ""
             }
            },
            "type": "scattercarpet"
           }
          ],
          "scattergeo": [
           {
            "marker": {
             "colorbar": {
              "outlinewidth": 0,
              "ticks": ""
             }
            },
            "type": "scattergeo"
           }
          ],
          "scattergl": [
           {
            "marker": {
             "colorbar": {
              "outlinewidth": 0,
              "ticks": ""
             }
            },
            "type": "scattergl"
           }
          ],
          "scattermapbox": [
           {
            "marker": {
             "colorbar": {
              "outlinewidth": 0,
              "ticks": ""
             }
            },
            "type": "scattermapbox"
           }
          ],
          "scatterpolar": [
           {
            "marker": {
             "colorbar": {
              "outlinewidth": 0,
              "ticks": ""
             }
            },
            "type": "scatterpolar"
           }
          ],
          "scatterpolargl": [
           {
            "marker": {
             "colorbar": {
              "outlinewidth": 0,
              "ticks": ""
             }
            },
            "type": "scatterpolargl"
           }
          ],
          "scatterternary": [
           {
            "marker": {
             "colorbar": {
              "outlinewidth": 0,
              "ticks": ""
             }
            },
            "type": "scatterternary"
           }
          ],
          "surface": [
           {
            "colorbar": {
             "outlinewidth": 0,
             "ticks": ""
            },
            "colorscale": [
             [
              0,
              "#0d0887"
             ],
             [
              0.1111111111111111,
              "#46039f"
             ],
             [
              0.2222222222222222,
              "#7201a8"
             ],
             [
              0.3333333333333333,
              "#9c179e"
             ],
             [
              0.4444444444444444,
              "#bd3786"
             ],
             [
              0.5555555555555556,
              "#d8576b"
             ],
             [
              0.6666666666666666,
              "#ed7953"
             ],
             [
              0.7777777777777778,
              "#fb9f3a"
             ],
             [
              0.8888888888888888,
              "#fdca26"
             ],
             [
              1,
              "#f0f921"
             ]
            ],
            "type": "surface"
           }
          ],
          "table": [
           {
            "cells": {
             "fill": {
              "color": "#EBF0F8"
             },
             "line": {
              "color": "white"
             }
            },
            "header": {
             "fill": {
              "color": "#C8D4E3"
             },
             "line": {
              "color": "white"
             }
            },
            "type": "table"
           }
          ]
         },
         "layout": {
          "annotationdefaults": {
           "arrowcolor": "#2a3f5f",
           "arrowhead": 0,
           "arrowwidth": 1
          },
          "coloraxis": {
           "colorbar": {
            "outlinewidth": 0,
            "ticks": ""
           }
          },
          "colorscale": {
           "diverging": [
            [
             0,
             "#8e0152"
            ],
            [
             0.1,
             "#c51b7d"
            ],
            [
             0.2,
             "#de77ae"
            ],
            [
             0.3,
             "#f1b6da"
            ],
            [
             0.4,
             "#fde0ef"
            ],
            [
             0.5,
             "#f7f7f7"
            ],
            [
             0.6,
             "#e6f5d0"
            ],
            [
             0.7,
             "#b8e186"
            ],
            [
             0.8,
             "#7fbc41"
            ],
            [
             0.9,
             "#4d9221"
            ],
            [
             1,
             "#276419"
            ]
           ],
           "sequential": [
            [
             0,
             "#0d0887"
            ],
            [
             0.1111111111111111,
             "#46039f"
            ],
            [
             0.2222222222222222,
             "#7201a8"
            ],
            [
             0.3333333333333333,
             "#9c179e"
            ],
            [
             0.4444444444444444,
             "#bd3786"
            ],
            [
             0.5555555555555556,
             "#d8576b"
            ],
            [
             0.6666666666666666,
             "#ed7953"
            ],
            [
             0.7777777777777778,
             "#fb9f3a"
            ],
            [
             0.8888888888888888,
             "#fdca26"
            ],
            [
             1,
             "#f0f921"
            ]
           ],
           "sequentialminus": [
            [
             0,
             "#0d0887"
            ],
            [
             0.1111111111111111,
             "#46039f"
            ],
            [
             0.2222222222222222,
             "#7201a8"
            ],
            [
             0.3333333333333333,
             "#9c179e"
            ],
            [
             0.4444444444444444,
             "#bd3786"
            ],
            [
             0.5555555555555556,
             "#d8576b"
            ],
            [
             0.6666666666666666,
             "#ed7953"
            ],
            [
             0.7777777777777778,
             "#fb9f3a"
            ],
            [
             0.8888888888888888,
             "#fdca26"
            ],
            [
             1,
             "#f0f921"
            ]
           ]
          },
          "colorway": [
           "#636efa",
           "#EF553B",
           "#00cc96",
           "#ab63fa",
           "#FFA15A",
           "#19d3f3",
           "#FF6692",
           "#B6E880",
           "#FF97FF",
           "#FECB52"
          ],
          "font": {
           "color": "#2a3f5f"
          },
          "geo": {
           "bgcolor": "white",
           "lakecolor": "white",
           "landcolor": "#E5ECF6",
           "showlakes": true,
           "showland": true,
           "subunitcolor": "white"
          },
          "hoverlabel": {
           "align": "left"
          },
          "hovermode": "closest",
          "mapbox": {
           "style": "light"
          },
          "paper_bgcolor": "white",
          "plot_bgcolor": "#E5ECF6",
          "polar": {
           "angularaxis": {
            "gridcolor": "white",
            "linecolor": "white",
            "ticks": ""
           },
           "bgcolor": "#E5ECF6",
           "radialaxis": {
            "gridcolor": "white",
            "linecolor": "white",
            "ticks": ""
           }
          },
          "scene": {
           "xaxis": {
            "backgroundcolor": "#E5ECF6",
            "gridcolor": "white",
            "gridwidth": 2,
            "linecolor": "white",
            "showbackground": true,
            "ticks": "",
            "zerolinecolor": "white"
           },
           "yaxis": {
            "backgroundcolor": "#E5ECF6",
            "gridcolor": "white",
            "gridwidth": 2,
            "linecolor": "white",
            "showbackground": true,
            "ticks": "",
            "zerolinecolor": "white"
           },
           "zaxis": {
            "backgroundcolor": "#E5ECF6",
            "gridcolor": "white",
            "gridwidth": 2,
            "linecolor": "white",
            "showbackground": true,
            "ticks": "",
            "zerolinecolor": "white"
           }
          },
          "shapedefaults": {
           "line": {
            "color": "#2a3f5f"
           }
          },
          "ternary": {
           "aaxis": {
            "gridcolor": "white",
            "linecolor": "white",
            "ticks": ""
           },
           "baxis": {
            "gridcolor": "white",
            "linecolor": "white",
            "ticks": ""
           },
           "bgcolor": "#E5ECF6",
           "caxis": {
            "gridcolor": "white",
            "linecolor": "white",
            "ticks": ""
           }
          },
          "title": {
           "x": 0.05
          },
          "xaxis": {
           "automargin": true,
           "gridcolor": "white",
           "linecolor": "white",
           "ticks": "",
           "title": {
            "standoff": 15
           },
           "zerolinecolor": "white",
           "zerolinewidth": 2
          },
          "yaxis": {
           "automargin": true,
           "gridcolor": "white",
           "linecolor": "white",
           "ticks": "",
           "title": {
            "standoff": 15
           },
           "zerolinecolor": "white",
           "zerolinewidth": 2
          }
         }
        },
        "width": 600,
        "xaxis": {
         "title": {
          "text": "epoch"
         }
        },
        "yaxis": {
         "type": "log"
        }
       }
      },
      "text/html": [
       "<div>\n",
       "        \n",
       "        \n",
       "            <div id=\"b9ef435b-dbe3-4060-bf8e-d458de266b37\" class=\"plotly-graph-div\" style=\"height:400px; width:600px;\"></div>\n",
       "            <script type=\"text/javascript\">\n",
       "                require([\"plotly\"], function(Plotly) {\n",
       "                    window.PLOTLYENV=window.PLOTLYENV || {};\n",
       "                    \n",
       "                if (document.getElementById(\"b9ef435b-dbe3-4060-bf8e-d458de266b37\")) {\n",
       "                    Plotly.newPlot(\n",
       "                        'b9ef435b-dbe3-4060-bf8e-d458de266b37',\n",
       "                        [{\"name\": \"loss\", \"type\": \"scatter\", \"y\": [0.493340775961516, 0.0287696850417119, 0.0006047846896980843, 1.0512069551967908e-05, 3.4066892729597763e-07, 0.0, 0.0, 0.0, 0.0, 0.0, 0.0, 0.0, 0.0, 0.0, 0.0, 0.0, 0.0, 0.0, 0.0, 0.0, 0.0, 0.0, 0.0, 0.0, 0.0, 0.0, 0.0, 0.0, 0.0, 0.0]}, {\"name\": \"error training\", \"type\": \"scatter\", \"y\": [0.49334079027175903, 0.028769684955477715, 0.0006047846982255578, 1.0512069820833858e-05, 3.40668918852316e-07, 0.0, 0.0, 0.0, 0.0, 0.0, 0.0, 0.0, 0.0, 0.0, 0.0, 0.0, 0.0, 0.0, 0.0, 0.0, 0.0, 0.0, 0.0, 0.0, 0.0, 0.0, 0.0, 0.0, 0.0, 0.0]}, {\"name\": \"error validation\", \"type\": \"scatter\", \"y\": [0.02758518047630787, 0.020993389189243317, 0.021180100739002228, 0.021183447912335396, 0.021183554083108902, 0.021183554083108902, 0.021183554083108902, 0.021183554083108902, 0.021183554083108902, 0.021183554083108902, 0.021183554083108902, 0.021183554083108902, 0.021183554083108902, 0.021183554083108902, 0.021183554083108902, 0.021183554083108902, 0.021183554083108902, 0.021183554083108902, 0.021183554083108902, 0.021183554083108902, 0.021183554083108902, 0.021183554083108902, 0.021183554083108902, 0.021183554083108902, 0.021183554083108902, 0.021183554083108902, 0.021183554083108902, 0.021183554083108902, 0.021183554083108902, 0.021183554083108902]}],\n",
       "                        {\"height\": 400, \"template\": {\"data\": {\"bar\": [{\"error_x\": {\"color\": \"#2a3f5f\"}, \"error_y\": {\"color\": \"#2a3f5f\"}, \"marker\": {\"line\": {\"color\": \"#E5ECF6\", \"width\": 0.5}}, \"type\": \"bar\"}], \"barpolar\": [{\"marker\": {\"line\": {\"color\": \"#E5ECF6\", \"width\": 0.5}}, \"type\": \"barpolar\"}], \"carpet\": [{\"aaxis\": {\"endlinecolor\": \"#2a3f5f\", \"gridcolor\": \"white\", \"linecolor\": \"white\", \"minorgridcolor\": \"white\", \"startlinecolor\": \"#2a3f5f\"}, \"baxis\": {\"endlinecolor\": \"#2a3f5f\", \"gridcolor\": \"white\", \"linecolor\": \"white\", \"minorgridcolor\": \"white\", \"startlinecolor\": \"#2a3f5f\"}, \"type\": \"carpet\"}], \"choropleth\": [{\"colorbar\": {\"outlinewidth\": 0, \"ticks\": \"\"}, \"type\": \"choropleth\"}], \"contour\": [{\"colorbar\": {\"outlinewidth\": 0, \"ticks\": \"\"}, \"colorscale\": [[0.0, \"#0d0887\"], [0.1111111111111111, \"#46039f\"], [0.2222222222222222, \"#7201a8\"], [0.3333333333333333, \"#9c179e\"], [0.4444444444444444, \"#bd3786\"], [0.5555555555555556, \"#d8576b\"], [0.6666666666666666, \"#ed7953\"], [0.7777777777777778, \"#fb9f3a\"], [0.8888888888888888, \"#fdca26\"], [1.0, \"#f0f921\"]], \"type\": \"contour\"}], \"contourcarpet\": [{\"colorbar\": {\"outlinewidth\": 0, \"ticks\": \"\"}, \"type\": \"contourcarpet\"}], \"heatmap\": [{\"colorbar\": {\"outlinewidth\": 0, \"ticks\": \"\"}, \"colorscale\": [[0.0, \"#0d0887\"], [0.1111111111111111, \"#46039f\"], [0.2222222222222222, \"#7201a8\"], [0.3333333333333333, \"#9c179e\"], [0.4444444444444444, \"#bd3786\"], [0.5555555555555556, \"#d8576b\"], [0.6666666666666666, \"#ed7953\"], [0.7777777777777778, \"#fb9f3a\"], [0.8888888888888888, \"#fdca26\"], [1.0, \"#f0f921\"]], \"type\": \"heatmap\"}], \"heatmapgl\": [{\"colorbar\": {\"outlinewidth\": 0, \"ticks\": \"\"}, \"colorscale\": [[0.0, \"#0d0887\"], [0.1111111111111111, \"#46039f\"], [0.2222222222222222, \"#7201a8\"], [0.3333333333333333, \"#9c179e\"], [0.4444444444444444, \"#bd3786\"], [0.5555555555555556, \"#d8576b\"], [0.6666666666666666, \"#ed7953\"], [0.7777777777777778, \"#fb9f3a\"], [0.8888888888888888, \"#fdca26\"], [1.0, \"#f0f921\"]], \"type\": \"heatmapgl\"}], \"histogram\": [{\"marker\": {\"colorbar\": {\"outlinewidth\": 0, \"ticks\": \"\"}}, \"type\": \"histogram\"}], \"histogram2d\": [{\"colorbar\": {\"outlinewidth\": 0, \"ticks\": \"\"}, \"colorscale\": [[0.0, \"#0d0887\"], [0.1111111111111111, \"#46039f\"], [0.2222222222222222, \"#7201a8\"], [0.3333333333333333, \"#9c179e\"], [0.4444444444444444, \"#bd3786\"], [0.5555555555555556, \"#d8576b\"], [0.6666666666666666, \"#ed7953\"], [0.7777777777777778, \"#fb9f3a\"], [0.8888888888888888, \"#fdca26\"], [1.0, \"#f0f921\"]], \"type\": \"histogram2d\"}], \"histogram2dcontour\": [{\"colorbar\": {\"outlinewidth\": 0, \"ticks\": \"\"}, \"colorscale\": [[0.0, \"#0d0887\"], [0.1111111111111111, \"#46039f\"], [0.2222222222222222, \"#7201a8\"], [0.3333333333333333, \"#9c179e\"], [0.4444444444444444, \"#bd3786\"], [0.5555555555555556, \"#d8576b\"], [0.6666666666666666, \"#ed7953\"], [0.7777777777777778, \"#fb9f3a\"], [0.8888888888888888, \"#fdca26\"], [1.0, \"#f0f921\"]], \"type\": \"histogram2dcontour\"}], \"mesh3d\": [{\"colorbar\": {\"outlinewidth\": 0, \"ticks\": \"\"}, \"type\": \"mesh3d\"}], \"parcoords\": [{\"line\": {\"colorbar\": {\"outlinewidth\": 0, \"ticks\": \"\"}}, \"type\": \"parcoords\"}], \"pie\": [{\"automargin\": true, \"type\": \"pie\"}], \"scatter\": [{\"marker\": {\"colorbar\": {\"outlinewidth\": 0, \"ticks\": \"\"}}, \"type\": \"scatter\"}], \"scatter3d\": [{\"line\": {\"colorbar\": {\"outlinewidth\": 0, \"ticks\": \"\"}}, \"marker\": {\"colorbar\": {\"outlinewidth\": 0, \"ticks\": \"\"}}, \"type\": \"scatter3d\"}], \"scattercarpet\": [{\"marker\": {\"colorbar\": {\"outlinewidth\": 0, \"ticks\": \"\"}}, \"type\": \"scattercarpet\"}], \"scattergeo\": [{\"marker\": {\"colorbar\": {\"outlinewidth\": 0, \"ticks\": \"\"}}, \"type\": \"scattergeo\"}], \"scattergl\": [{\"marker\": {\"colorbar\": {\"outlinewidth\": 0, \"ticks\": \"\"}}, \"type\": \"scattergl\"}], \"scattermapbox\": [{\"marker\": {\"colorbar\": {\"outlinewidth\": 0, \"ticks\": \"\"}}, \"type\": \"scattermapbox\"}], \"scatterpolar\": [{\"marker\": {\"colorbar\": {\"outlinewidth\": 0, \"ticks\": \"\"}}, \"type\": \"scatterpolar\"}], \"scatterpolargl\": [{\"marker\": {\"colorbar\": {\"outlinewidth\": 0, \"ticks\": \"\"}}, \"type\": \"scatterpolargl\"}], \"scatterternary\": [{\"marker\": {\"colorbar\": {\"outlinewidth\": 0, \"ticks\": \"\"}}, \"type\": \"scatterternary\"}], \"surface\": [{\"colorbar\": {\"outlinewidth\": 0, \"ticks\": \"\"}, \"colorscale\": [[0.0, \"#0d0887\"], [0.1111111111111111, \"#46039f\"], [0.2222222222222222, \"#7201a8\"], [0.3333333333333333, \"#9c179e\"], [0.4444444444444444, \"#bd3786\"], [0.5555555555555556, \"#d8576b\"], [0.6666666666666666, \"#ed7953\"], [0.7777777777777778, \"#fb9f3a\"], [0.8888888888888888, \"#fdca26\"], [1.0, \"#f0f921\"]], \"type\": \"surface\"}], \"table\": [{\"cells\": {\"fill\": {\"color\": \"#EBF0F8\"}, \"line\": {\"color\": \"white\"}}, \"header\": {\"fill\": {\"color\": \"#C8D4E3\"}, \"line\": {\"color\": \"white\"}}, \"type\": \"table\"}]}, \"layout\": {\"annotationdefaults\": {\"arrowcolor\": \"#2a3f5f\", \"arrowhead\": 0, \"arrowwidth\": 1}, \"coloraxis\": {\"colorbar\": {\"outlinewidth\": 0, \"ticks\": \"\"}}, \"colorscale\": {\"diverging\": [[0, \"#8e0152\"], [0.1, \"#c51b7d\"], [0.2, \"#de77ae\"], [0.3, \"#f1b6da\"], [0.4, \"#fde0ef\"], [0.5, \"#f7f7f7\"], [0.6, \"#e6f5d0\"], [0.7, \"#b8e186\"], [0.8, \"#7fbc41\"], [0.9, \"#4d9221\"], [1, \"#276419\"]], \"sequential\": [[0.0, \"#0d0887\"], [0.1111111111111111, \"#46039f\"], [0.2222222222222222, \"#7201a8\"], [0.3333333333333333, \"#9c179e\"], [0.4444444444444444, \"#bd3786\"], [0.5555555555555556, \"#d8576b\"], [0.6666666666666666, \"#ed7953\"], [0.7777777777777778, \"#fb9f3a\"], [0.8888888888888888, \"#fdca26\"], [1.0, \"#f0f921\"]], \"sequentialminus\": [[0.0, \"#0d0887\"], [0.1111111111111111, \"#46039f\"], [0.2222222222222222, \"#7201a8\"], [0.3333333333333333, \"#9c179e\"], [0.4444444444444444, \"#bd3786\"], [0.5555555555555556, \"#d8576b\"], [0.6666666666666666, \"#ed7953\"], [0.7777777777777778, \"#fb9f3a\"], [0.8888888888888888, \"#fdca26\"], [1.0, \"#f0f921\"]]}, \"colorway\": [\"#636efa\", \"#EF553B\", \"#00cc96\", \"#ab63fa\", \"#FFA15A\", \"#19d3f3\", \"#FF6692\", \"#B6E880\", \"#FF97FF\", \"#FECB52\"], \"font\": {\"color\": \"#2a3f5f\"}, \"geo\": {\"bgcolor\": \"white\", \"lakecolor\": \"white\", \"landcolor\": \"#E5ECF6\", \"showlakes\": true, \"showland\": true, \"subunitcolor\": \"white\"}, \"hoverlabel\": {\"align\": \"left\"}, \"hovermode\": \"closest\", \"mapbox\": {\"style\": \"light\"}, \"paper_bgcolor\": \"white\", \"plot_bgcolor\": \"#E5ECF6\", \"polar\": {\"angularaxis\": {\"gridcolor\": \"white\", \"linecolor\": \"white\", \"ticks\": \"\"}, \"bgcolor\": \"#E5ECF6\", \"radialaxis\": {\"gridcolor\": \"white\", \"linecolor\": \"white\", \"ticks\": \"\"}}, \"scene\": {\"xaxis\": {\"backgroundcolor\": \"#E5ECF6\", \"gridcolor\": \"white\", \"gridwidth\": 2, \"linecolor\": \"white\", \"showbackground\": true, \"ticks\": \"\", \"zerolinecolor\": \"white\"}, \"yaxis\": {\"backgroundcolor\": \"#E5ECF6\", \"gridcolor\": \"white\", \"gridwidth\": 2, \"linecolor\": \"white\", \"showbackground\": true, \"ticks\": \"\", \"zerolinecolor\": \"white\"}, \"zaxis\": {\"backgroundcolor\": \"#E5ECF6\", \"gridcolor\": \"white\", \"gridwidth\": 2, \"linecolor\": \"white\", \"showbackground\": true, \"ticks\": \"\", \"zerolinecolor\": \"white\"}}, \"shapedefaults\": {\"line\": {\"color\": \"#2a3f5f\"}}, \"ternary\": {\"aaxis\": {\"gridcolor\": \"white\", \"linecolor\": \"white\", \"ticks\": \"\"}, \"baxis\": {\"gridcolor\": \"white\", \"linecolor\": \"white\", \"ticks\": \"\"}, \"bgcolor\": \"#E5ECF6\", \"caxis\": {\"gridcolor\": \"white\", \"linecolor\": \"white\", \"ticks\": \"\"}}, \"title\": {\"x\": 0.05}, \"xaxis\": {\"automargin\": true, \"gridcolor\": \"white\", \"linecolor\": \"white\", \"ticks\": \"\", \"title\": {\"standoff\": 15}, \"zerolinecolor\": \"white\", \"zerolinewidth\": 2}, \"yaxis\": {\"automargin\": true, \"gridcolor\": \"white\", \"linecolor\": \"white\", \"ticks\": \"\", \"title\": {\"standoff\": 15}, \"zerolinecolor\": \"white\", \"zerolinewidth\": 2}}}, \"width\": 600, \"xaxis\": {\"title\": {\"text\": \"epoch\"}}, \"yaxis\": {\"type\": \"log\"}},\n",
       "                        {\"responsive\": true}\n",
       "                    ).then(function(){\n",
       "                            \n",
       "var gd = document.getElementById('b9ef435b-dbe3-4060-bf8e-d458de266b37');\n",
       "var x = new MutationObserver(function (mutations, observer) {{\n",
       "        var display = window.getComputedStyle(gd).display;\n",
       "        if (!display || display === 'none') {{\n",
       "            console.log([gd, 'removed!']);\n",
       "            Plotly.purge(gd);\n",
       "            observer.disconnect();\n",
       "        }}\n",
       "}});\n",
       "\n",
       "// Listen for the removal of the full notebook cells\n",
       "var notebookContainer = gd.closest('#notebook-container');\n",
       "if (notebookContainer) {{\n",
       "    x.observe(notebookContainer, {childList: true});\n",
       "}}\n",
       "\n",
       "// Listen for the clearing of the current output cell\n",
       "var outputEl = gd.closest('.output');\n",
       "if (outputEl) {{\n",
       "    x.observe(outputEl, {childList: true});\n",
       "}}\n",
       "\n",
       "                        })\n",
       "                };\n",
       "                });\n",
       "            </script>\n",
       "        </div>"
      ]
     },
     "metadata": {},
     "output_type": "display_data"
    },
    {
     "data": {
      "application/vnd.plotly.v1+json": {
       "config": {
        "plotlyServerURL": "https://plot.ly"
       },
       "data": [
        {
         "type": "scatter",
         "y": [
          0.25,
          0.25,
          0.25,
          0.25,
          0.25,
          0.25,
          0.25,
          0.25,
          0.25,
          0.25,
          0.25,
          0.25,
          0.25,
          0.25,
          0.25,
          0.25,
          0.25,
          0.25,
          0.25,
          0.25,
          0.25,
          0.25,
          0.25,
          0.25,
          0.25,
          0.25,
          0.25,
          0.25,
          0.25,
          0.25
         ]
        }
       ],
       "layout": {
        "height": 400,
        "template": {
         "data": {
          "bar": [
           {
            "error_x": {
             "color": "#2a3f5f"
            },
            "error_y": {
             "color": "#2a3f5f"
            },
            "marker": {
             "line": {
              "color": "#E5ECF6",
              "width": 0.5
             }
            },
            "type": "bar"
           }
          ],
          "barpolar": [
           {
            "marker": {
             "line": {
              "color": "#E5ECF6",
              "width": 0.5
             }
            },
            "type": "barpolar"
           }
          ],
          "carpet": [
           {
            "aaxis": {
             "endlinecolor": "#2a3f5f",
             "gridcolor": "white",
             "linecolor": "white",
             "minorgridcolor": "white",
             "startlinecolor": "#2a3f5f"
            },
            "baxis": {
             "endlinecolor": "#2a3f5f",
             "gridcolor": "white",
             "linecolor": "white",
             "minorgridcolor": "white",
             "startlinecolor": "#2a3f5f"
            },
            "type": "carpet"
           }
          ],
          "choropleth": [
           {
            "colorbar": {
             "outlinewidth": 0,
             "ticks": ""
            },
            "type": "choropleth"
           }
          ],
          "contour": [
           {
            "colorbar": {
             "outlinewidth": 0,
             "ticks": ""
            },
            "colorscale": [
             [
              0,
              "#0d0887"
             ],
             [
              0.1111111111111111,
              "#46039f"
             ],
             [
              0.2222222222222222,
              "#7201a8"
             ],
             [
              0.3333333333333333,
              "#9c179e"
             ],
             [
              0.4444444444444444,
              "#bd3786"
             ],
             [
              0.5555555555555556,
              "#d8576b"
             ],
             [
              0.6666666666666666,
              "#ed7953"
             ],
             [
              0.7777777777777778,
              "#fb9f3a"
             ],
             [
              0.8888888888888888,
              "#fdca26"
             ],
             [
              1,
              "#f0f921"
             ]
            ],
            "type": "contour"
           }
          ],
          "contourcarpet": [
           {
            "colorbar": {
             "outlinewidth": 0,
             "ticks": ""
            },
            "type": "contourcarpet"
           }
          ],
          "heatmap": [
           {
            "colorbar": {
             "outlinewidth": 0,
             "ticks": ""
            },
            "colorscale": [
             [
              0,
              "#0d0887"
             ],
             [
              0.1111111111111111,
              "#46039f"
             ],
             [
              0.2222222222222222,
              "#7201a8"
             ],
             [
              0.3333333333333333,
              "#9c179e"
             ],
             [
              0.4444444444444444,
              "#bd3786"
             ],
             [
              0.5555555555555556,
              "#d8576b"
             ],
             [
              0.6666666666666666,
              "#ed7953"
             ],
             [
              0.7777777777777778,
              "#fb9f3a"
             ],
             [
              0.8888888888888888,
              "#fdca26"
             ],
             [
              1,
              "#f0f921"
             ]
            ],
            "type": "heatmap"
           }
          ],
          "heatmapgl": [
           {
            "colorbar": {
             "outlinewidth": 0,
             "ticks": ""
            },
            "colorscale": [
             [
              0,
              "#0d0887"
             ],
             [
              0.1111111111111111,
              "#46039f"
             ],
             [
              0.2222222222222222,
              "#7201a8"
             ],
             [
              0.3333333333333333,
              "#9c179e"
             ],
             [
              0.4444444444444444,
              "#bd3786"
             ],
             [
              0.5555555555555556,
              "#d8576b"
             ],
             [
              0.6666666666666666,
              "#ed7953"
             ],
             [
              0.7777777777777778,
              "#fb9f3a"
             ],
             [
              0.8888888888888888,
              "#fdca26"
             ],
             [
              1,
              "#f0f921"
             ]
            ],
            "type": "heatmapgl"
           }
          ],
          "histogram": [
           {
            "marker": {
             "colorbar": {
              "outlinewidth": 0,
              "ticks": ""
             }
            },
            "type": "histogram"
           }
          ],
          "histogram2d": [
           {
            "colorbar": {
             "outlinewidth": 0,
             "ticks": ""
            },
            "colorscale": [
             [
              0,
              "#0d0887"
             ],
             [
              0.1111111111111111,
              "#46039f"
             ],
             [
              0.2222222222222222,
              "#7201a8"
             ],
             [
              0.3333333333333333,
              "#9c179e"
             ],
             [
              0.4444444444444444,
              "#bd3786"
             ],
             [
              0.5555555555555556,
              "#d8576b"
             ],
             [
              0.6666666666666666,
              "#ed7953"
             ],
             [
              0.7777777777777778,
              "#fb9f3a"
             ],
             [
              0.8888888888888888,
              "#fdca26"
             ],
             [
              1,
              "#f0f921"
             ]
            ],
            "type": "histogram2d"
           }
          ],
          "histogram2dcontour": [
           {
            "colorbar": {
             "outlinewidth": 0,
             "ticks": ""
            },
            "colorscale": [
             [
              0,
              "#0d0887"
             ],
             [
              0.1111111111111111,
              "#46039f"
             ],
             [
              0.2222222222222222,
              "#7201a8"
             ],
             [
              0.3333333333333333,
              "#9c179e"
             ],
             [
              0.4444444444444444,
              "#bd3786"
             ],
             [
              0.5555555555555556,
              "#d8576b"
             ],
             [
              0.6666666666666666,
              "#ed7953"
             ],
             [
              0.7777777777777778,
              "#fb9f3a"
             ],
             [
              0.8888888888888888,
              "#fdca26"
             ],
             [
              1,
              "#f0f921"
             ]
            ],
            "type": "histogram2dcontour"
           }
          ],
          "mesh3d": [
           {
            "colorbar": {
             "outlinewidth": 0,
             "ticks": ""
            },
            "type": "mesh3d"
           }
          ],
          "parcoords": [
           {
            "line": {
             "colorbar": {
              "outlinewidth": 0,
              "ticks": ""
             }
            },
            "type": "parcoords"
           }
          ],
          "pie": [
           {
            "automargin": true,
            "type": "pie"
           }
          ],
          "scatter": [
           {
            "marker": {
             "colorbar": {
              "outlinewidth": 0,
              "ticks": ""
             }
            },
            "type": "scatter"
           }
          ],
          "scatter3d": [
           {
            "line": {
             "colorbar": {
              "outlinewidth": 0,
              "ticks": ""
             }
            },
            "marker": {
             "colorbar": {
              "outlinewidth": 0,
              "ticks": ""
             }
            },
            "type": "scatter3d"
           }
          ],
          "scattercarpet": [
           {
            "marker": {
             "colorbar": {
              "outlinewidth": 0,
              "ticks": ""
             }
            },
            "type": "scattercarpet"
           }
          ],
          "scattergeo": [
           {
            "marker": {
             "colorbar": {
              "outlinewidth": 0,
              "ticks": ""
             }
            },
            "type": "scattergeo"
           }
          ],
          "scattergl": [
           {
            "marker": {
             "colorbar": {
              "outlinewidth": 0,
              "ticks": ""
             }
            },
            "type": "scattergl"
           }
          ],
          "scattermapbox": [
           {
            "marker": {
             "colorbar": {
              "outlinewidth": 0,
              "ticks": ""
             }
            },
            "type": "scattermapbox"
           }
          ],
          "scatterpolar": [
           {
            "marker": {
             "colorbar": {
              "outlinewidth": 0,
              "ticks": ""
             }
            },
            "type": "scatterpolar"
           }
          ],
          "scatterpolargl": [
           {
            "marker": {
             "colorbar": {
              "outlinewidth": 0,
              "ticks": ""
             }
            },
            "type": "scatterpolargl"
           }
          ],
          "scatterternary": [
           {
            "marker": {
             "colorbar": {
              "outlinewidth": 0,
              "ticks": ""
             }
            },
            "type": "scatterternary"
           }
          ],
          "surface": [
           {
            "colorbar": {
             "outlinewidth": 0,
             "ticks": ""
            },
            "colorscale": [
             [
              0,
              "#0d0887"
             ],
             [
              0.1111111111111111,
              "#46039f"
             ],
             [
              0.2222222222222222,
              "#7201a8"
             ],
             [
              0.3333333333333333,
              "#9c179e"
             ],
             [
              0.4444444444444444,
              "#bd3786"
             ],
             [
              0.5555555555555556,
              "#d8576b"
             ],
             [
              0.6666666666666666,
              "#ed7953"
             ],
             [
              0.7777777777777778,
              "#fb9f3a"
             ],
             [
              0.8888888888888888,
              "#fdca26"
             ],
             [
              1,
              "#f0f921"
             ]
            ],
            "type": "surface"
           }
          ],
          "table": [
           {
            "cells": {
             "fill": {
              "color": "#EBF0F8"
             },
             "line": {
              "color": "white"
             }
            },
            "header": {
             "fill": {
              "color": "#C8D4E3"
             },
             "line": {
              "color": "white"
             }
            },
            "type": "table"
           }
          ]
         },
         "layout": {
          "annotationdefaults": {
           "arrowcolor": "#2a3f5f",
           "arrowhead": 0,
           "arrowwidth": 1
          },
          "coloraxis": {
           "colorbar": {
            "outlinewidth": 0,
            "ticks": ""
           }
          },
          "colorscale": {
           "diverging": [
            [
             0,
             "#8e0152"
            ],
            [
             0.1,
             "#c51b7d"
            ],
            [
             0.2,
             "#de77ae"
            ],
            [
             0.3,
             "#f1b6da"
            ],
            [
             0.4,
             "#fde0ef"
            ],
            [
             0.5,
             "#f7f7f7"
            ],
            [
             0.6,
             "#e6f5d0"
            ],
            [
             0.7,
             "#b8e186"
            ],
            [
             0.8,
             "#7fbc41"
            ],
            [
             0.9,
             "#4d9221"
            ],
            [
             1,
             "#276419"
            ]
           ],
           "sequential": [
            [
             0,
             "#0d0887"
            ],
            [
             0.1111111111111111,
             "#46039f"
            ],
            [
             0.2222222222222222,
             "#7201a8"
            ],
            [
             0.3333333333333333,
             "#9c179e"
            ],
            [
             0.4444444444444444,
             "#bd3786"
            ],
            [
             0.5555555555555556,
             "#d8576b"
            ],
            [
             0.6666666666666666,
             "#ed7953"
            ],
            [
             0.7777777777777778,
             "#fb9f3a"
            ],
            [
             0.8888888888888888,
             "#fdca26"
            ],
            [
             1,
             "#f0f921"
            ]
           ],
           "sequentialminus": [
            [
             0,
             "#0d0887"
            ],
            [
             0.1111111111111111,
             "#46039f"
            ],
            [
             0.2222222222222222,
             "#7201a8"
            ],
            [
             0.3333333333333333,
             "#9c179e"
            ],
            [
             0.4444444444444444,
             "#bd3786"
            ],
            [
             0.5555555555555556,
             "#d8576b"
            ],
            [
             0.6666666666666666,
             "#ed7953"
            ],
            [
             0.7777777777777778,
             "#fb9f3a"
            ],
            [
             0.8888888888888888,
             "#fdca26"
            ],
            [
             1,
             "#f0f921"
            ]
           ]
          },
          "colorway": [
           "#636efa",
           "#EF553B",
           "#00cc96",
           "#ab63fa",
           "#FFA15A",
           "#19d3f3",
           "#FF6692",
           "#B6E880",
           "#FF97FF",
           "#FECB52"
          ],
          "font": {
           "color": "#2a3f5f"
          },
          "geo": {
           "bgcolor": "white",
           "lakecolor": "white",
           "landcolor": "#E5ECF6",
           "showlakes": true,
           "showland": true,
           "subunitcolor": "white"
          },
          "hoverlabel": {
           "align": "left"
          },
          "hovermode": "closest",
          "mapbox": {
           "style": "light"
          },
          "paper_bgcolor": "white",
          "plot_bgcolor": "#E5ECF6",
          "polar": {
           "angularaxis": {
            "gridcolor": "white",
            "linecolor": "white",
            "ticks": ""
           },
           "bgcolor": "#E5ECF6",
           "radialaxis": {
            "gridcolor": "white",
            "linecolor": "white",
            "ticks": ""
           }
          },
          "scene": {
           "xaxis": {
            "backgroundcolor": "#E5ECF6",
            "gridcolor": "white",
            "gridwidth": 2,
            "linecolor": "white",
            "showbackground": true,
            "ticks": "",
            "zerolinecolor": "white"
           },
           "yaxis": {
            "backgroundcolor": "#E5ECF6",
            "gridcolor": "white",
            "gridwidth": 2,
            "linecolor": "white",
            "showbackground": true,
            "ticks": "",
            "zerolinecolor": "white"
           },
           "zaxis": {
            "backgroundcolor": "#E5ECF6",
            "gridcolor": "white",
            "gridwidth": 2,
            "linecolor": "white",
            "showbackground": true,
            "ticks": "",
            "zerolinecolor": "white"
           }
          },
          "shapedefaults": {
           "line": {
            "color": "#2a3f5f"
           }
          },
          "ternary": {
           "aaxis": {
            "gridcolor": "white",
            "linecolor": "white",
            "ticks": ""
           },
           "baxis": {
            "gridcolor": "white",
            "linecolor": "white",
            "ticks": ""
           },
           "bgcolor": "#E5ECF6",
           "caxis": {
            "gridcolor": "white",
            "linecolor": "white",
            "ticks": ""
           }
          },
          "title": {
           "x": 0.05
          },
          "xaxis": {
           "automargin": true,
           "gridcolor": "white",
           "linecolor": "white",
           "ticks": "",
           "title": {
            "standoff": 15
           },
           "zerolinecolor": "white",
           "zerolinewidth": 2
          },
          "yaxis": {
           "automargin": true,
           "gridcolor": "white",
           "linecolor": "white",
           "ticks": "",
           "title": {
            "standoff": 15
           },
           "zerolinecolor": "white",
           "zerolinewidth": 2
          }
         }
        },
        "width": 550,
        "xaxis": {
         "title": {
          "text": "epoch"
         }
        },
        "yaxis": {
         "title": {
          "text": "learning rate"
         },
         "type": "log"
        }
       }
      },
      "text/html": [
       "<div>\n",
       "        \n",
       "        \n",
       "            <div id=\"8770142f-e4de-43c2-ae5c-d684a8544572\" class=\"plotly-graph-div\" style=\"height:400px; width:550px;\"></div>\n",
       "            <script type=\"text/javascript\">\n",
       "                require([\"plotly\"], function(Plotly) {\n",
       "                    window.PLOTLYENV=window.PLOTLYENV || {};\n",
       "                    \n",
       "                if (document.getElementById(\"8770142f-e4de-43c2-ae5c-d684a8544572\")) {\n",
       "                    Plotly.newPlot(\n",
       "                        '8770142f-e4de-43c2-ae5c-d684a8544572',\n",
       "                        [{\"type\": \"scatter\", \"y\": [0.25, 0.25, 0.25, 0.25, 0.25, 0.25, 0.25, 0.25, 0.25, 0.25, 0.25, 0.25, 0.25, 0.25, 0.25, 0.25, 0.25, 0.25, 0.25, 0.25, 0.25, 0.25, 0.25, 0.25, 0.25, 0.25, 0.25, 0.25, 0.25, 0.25]}],\n",
       "                        {\"height\": 400, \"template\": {\"data\": {\"bar\": [{\"error_x\": {\"color\": \"#2a3f5f\"}, \"error_y\": {\"color\": \"#2a3f5f\"}, \"marker\": {\"line\": {\"color\": \"#E5ECF6\", \"width\": 0.5}}, \"type\": \"bar\"}], \"barpolar\": [{\"marker\": {\"line\": {\"color\": \"#E5ECF6\", \"width\": 0.5}}, \"type\": \"barpolar\"}], \"carpet\": [{\"aaxis\": {\"endlinecolor\": \"#2a3f5f\", \"gridcolor\": \"white\", \"linecolor\": \"white\", \"minorgridcolor\": \"white\", \"startlinecolor\": \"#2a3f5f\"}, \"baxis\": {\"endlinecolor\": \"#2a3f5f\", \"gridcolor\": \"white\", \"linecolor\": \"white\", \"minorgridcolor\": \"white\", \"startlinecolor\": \"#2a3f5f\"}, \"type\": \"carpet\"}], \"choropleth\": [{\"colorbar\": {\"outlinewidth\": 0, \"ticks\": \"\"}, \"type\": \"choropleth\"}], \"contour\": [{\"colorbar\": {\"outlinewidth\": 0, \"ticks\": \"\"}, \"colorscale\": [[0.0, \"#0d0887\"], [0.1111111111111111, \"#46039f\"], [0.2222222222222222, \"#7201a8\"], [0.3333333333333333, \"#9c179e\"], [0.4444444444444444, \"#bd3786\"], [0.5555555555555556, \"#d8576b\"], [0.6666666666666666, \"#ed7953\"], [0.7777777777777778, \"#fb9f3a\"], [0.8888888888888888, \"#fdca26\"], [1.0, \"#f0f921\"]], \"type\": \"contour\"}], \"contourcarpet\": [{\"colorbar\": {\"outlinewidth\": 0, \"ticks\": \"\"}, \"type\": \"contourcarpet\"}], \"heatmap\": [{\"colorbar\": {\"outlinewidth\": 0, \"ticks\": \"\"}, \"colorscale\": [[0.0, \"#0d0887\"], [0.1111111111111111, \"#46039f\"], [0.2222222222222222, \"#7201a8\"], [0.3333333333333333, \"#9c179e\"], [0.4444444444444444, \"#bd3786\"], [0.5555555555555556, \"#d8576b\"], [0.6666666666666666, \"#ed7953\"], [0.7777777777777778, \"#fb9f3a\"], [0.8888888888888888, \"#fdca26\"], [1.0, \"#f0f921\"]], \"type\": \"heatmap\"}], \"heatmapgl\": [{\"colorbar\": {\"outlinewidth\": 0, \"ticks\": \"\"}, \"colorscale\": [[0.0, \"#0d0887\"], [0.1111111111111111, \"#46039f\"], [0.2222222222222222, \"#7201a8\"], [0.3333333333333333, \"#9c179e\"], [0.4444444444444444, \"#bd3786\"], [0.5555555555555556, \"#d8576b\"], [0.6666666666666666, \"#ed7953\"], [0.7777777777777778, \"#fb9f3a\"], [0.8888888888888888, \"#fdca26\"], [1.0, \"#f0f921\"]], \"type\": \"heatmapgl\"}], \"histogram\": [{\"marker\": {\"colorbar\": {\"outlinewidth\": 0, \"ticks\": \"\"}}, \"type\": \"histogram\"}], \"histogram2d\": [{\"colorbar\": {\"outlinewidth\": 0, \"ticks\": \"\"}, \"colorscale\": [[0.0, \"#0d0887\"], [0.1111111111111111, \"#46039f\"], [0.2222222222222222, \"#7201a8\"], [0.3333333333333333, \"#9c179e\"], [0.4444444444444444, \"#bd3786\"], [0.5555555555555556, \"#d8576b\"], [0.6666666666666666, \"#ed7953\"], [0.7777777777777778, \"#fb9f3a\"], [0.8888888888888888, \"#fdca26\"], [1.0, \"#f0f921\"]], \"type\": \"histogram2d\"}], \"histogram2dcontour\": [{\"colorbar\": {\"outlinewidth\": 0, \"ticks\": \"\"}, \"colorscale\": [[0.0, \"#0d0887\"], [0.1111111111111111, \"#46039f\"], [0.2222222222222222, \"#7201a8\"], [0.3333333333333333, \"#9c179e\"], [0.4444444444444444, \"#bd3786\"], [0.5555555555555556, \"#d8576b\"], [0.6666666666666666, \"#ed7953\"], [0.7777777777777778, \"#fb9f3a\"], [0.8888888888888888, \"#fdca26\"], [1.0, \"#f0f921\"]], \"type\": \"histogram2dcontour\"}], \"mesh3d\": [{\"colorbar\": {\"outlinewidth\": 0, \"ticks\": \"\"}, \"type\": \"mesh3d\"}], \"parcoords\": [{\"line\": {\"colorbar\": {\"outlinewidth\": 0, \"ticks\": \"\"}}, \"type\": \"parcoords\"}], \"pie\": [{\"automargin\": true, \"type\": \"pie\"}], \"scatter\": [{\"marker\": {\"colorbar\": {\"outlinewidth\": 0, \"ticks\": \"\"}}, \"type\": \"scatter\"}], \"scatter3d\": [{\"line\": {\"colorbar\": {\"outlinewidth\": 0, \"ticks\": \"\"}}, \"marker\": {\"colorbar\": {\"outlinewidth\": 0, \"ticks\": \"\"}}, \"type\": \"scatter3d\"}], \"scattercarpet\": [{\"marker\": {\"colorbar\": {\"outlinewidth\": 0, \"ticks\": \"\"}}, \"type\": \"scattercarpet\"}], \"scattergeo\": [{\"marker\": {\"colorbar\": {\"outlinewidth\": 0, \"ticks\": \"\"}}, \"type\": \"scattergeo\"}], \"scattergl\": [{\"marker\": {\"colorbar\": {\"outlinewidth\": 0, \"ticks\": \"\"}}, \"type\": \"scattergl\"}], \"scattermapbox\": [{\"marker\": {\"colorbar\": {\"outlinewidth\": 0, \"ticks\": \"\"}}, \"type\": \"scattermapbox\"}], \"scatterpolar\": [{\"marker\": {\"colorbar\": {\"outlinewidth\": 0, \"ticks\": \"\"}}, \"type\": \"scatterpolar\"}], \"scatterpolargl\": [{\"marker\": {\"colorbar\": {\"outlinewidth\": 0, \"ticks\": \"\"}}, \"type\": \"scatterpolargl\"}], \"scatterternary\": [{\"marker\": {\"colorbar\": {\"outlinewidth\": 0, \"ticks\": \"\"}}, \"type\": \"scatterternary\"}], \"surface\": [{\"colorbar\": {\"outlinewidth\": 0, \"ticks\": \"\"}, \"colorscale\": [[0.0, \"#0d0887\"], [0.1111111111111111, \"#46039f\"], [0.2222222222222222, \"#7201a8\"], [0.3333333333333333, \"#9c179e\"], [0.4444444444444444, \"#bd3786\"], [0.5555555555555556, \"#d8576b\"], [0.6666666666666666, \"#ed7953\"], [0.7777777777777778, \"#fb9f3a\"], [0.8888888888888888, \"#fdca26\"], [1.0, \"#f0f921\"]], \"type\": \"surface\"}], \"table\": [{\"cells\": {\"fill\": {\"color\": \"#EBF0F8\"}, \"line\": {\"color\": \"white\"}}, \"header\": {\"fill\": {\"color\": \"#C8D4E3\"}, \"line\": {\"color\": \"white\"}}, \"type\": \"table\"}]}, \"layout\": {\"annotationdefaults\": {\"arrowcolor\": \"#2a3f5f\", \"arrowhead\": 0, \"arrowwidth\": 1}, \"coloraxis\": {\"colorbar\": {\"outlinewidth\": 0, \"ticks\": \"\"}}, \"colorscale\": {\"diverging\": [[0, \"#8e0152\"], [0.1, \"#c51b7d\"], [0.2, \"#de77ae\"], [0.3, \"#f1b6da\"], [0.4, \"#fde0ef\"], [0.5, \"#f7f7f7\"], [0.6, \"#e6f5d0\"], [0.7, \"#b8e186\"], [0.8, \"#7fbc41\"], [0.9, \"#4d9221\"], [1, \"#276419\"]], \"sequential\": [[0.0, \"#0d0887\"], [0.1111111111111111, \"#46039f\"], [0.2222222222222222, \"#7201a8\"], [0.3333333333333333, \"#9c179e\"], [0.4444444444444444, \"#bd3786\"], [0.5555555555555556, \"#d8576b\"], [0.6666666666666666, \"#ed7953\"], [0.7777777777777778, \"#fb9f3a\"], [0.8888888888888888, \"#fdca26\"], [1.0, \"#f0f921\"]], \"sequentialminus\": [[0.0, \"#0d0887\"], [0.1111111111111111, \"#46039f\"], [0.2222222222222222, \"#7201a8\"], [0.3333333333333333, \"#9c179e\"], [0.4444444444444444, \"#bd3786\"], [0.5555555555555556, \"#d8576b\"], [0.6666666666666666, \"#ed7953\"], [0.7777777777777778, \"#fb9f3a\"], [0.8888888888888888, \"#fdca26\"], [1.0, \"#f0f921\"]]}, \"colorway\": [\"#636efa\", \"#EF553B\", \"#00cc96\", \"#ab63fa\", \"#FFA15A\", \"#19d3f3\", \"#FF6692\", \"#B6E880\", \"#FF97FF\", \"#FECB52\"], \"font\": {\"color\": \"#2a3f5f\"}, \"geo\": {\"bgcolor\": \"white\", \"lakecolor\": \"white\", \"landcolor\": \"#E5ECF6\", \"showlakes\": true, \"showland\": true, \"subunitcolor\": \"white\"}, \"hoverlabel\": {\"align\": \"left\"}, \"hovermode\": \"closest\", \"mapbox\": {\"style\": \"light\"}, \"paper_bgcolor\": \"white\", \"plot_bgcolor\": \"#E5ECF6\", \"polar\": {\"angularaxis\": {\"gridcolor\": \"white\", \"linecolor\": \"white\", \"ticks\": \"\"}, \"bgcolor\": \"#E5ECF6\", \"radialaxis\": {\"gridcolor\": \"white\", \"linecolor\": \"white\", \"ticks\": \"\"}}, \"scene\": {\"xaxis\": {\"backgroundcolor\": \"#E5ECF6\", \"gridcolor\": \"white\", \"gridwidth\": 2, \"linecolor\": \"white\", \"showbackground\": true, \"ticks\": \"\", \"zerolinecolor\": \"white\"}, \"yaxis\": {\"backgroundcolor\": \"#E5ECF6\", \"gridcolor\": \"white\", \"gridwidth\": 2, \"linecolor\": \"white\", \"showbackground\": true, \"ticks\": \"\", \"zerolinecolor\": \"white\"}, \"zaxis\": {\"backgroundcolor\": \"#E5ECF6\", \"gridcolor\": \"white\", \"gridwidth\": 2, \"linecolor\": \"white\", \"showbackground\": true, \"ticks\": \"\", \"zerolinecolor\": \"white\"}}, \"shapedefaults\": {\"line\": {\"color\": \"#2a3f5f\"}}, \"ternary\": {\"aaxis\": {\"gridcolor\": \"white\", \"linecolor\": \"white\", \"ticks\": \"\"}, \"baxis\": {\"gridcolor\": \"white\", \"linecolor\": \"white\", \"ticks\": \"\"}, \"bgcolor\": \"#E5ECF6\", \"caxis\": {\"gridcolor\": \"white\", \"linecolor\": \"white\", \"ticks\": \"\"}}, \"title\": {\"x\": 0.05}, \"xaxis\": {\"automargin\": true, \"gridcolor\": \"white\", \"linecolor\": \"white\", \"ticks\": \"\", \"title\": {\"standoff\": 15}, \"zerolinecolor\": \"white\", \"zerolinewidth\": 2}, \"yaxis\": {\"automargin\": true, \"gridcolor\": \"white\", \"linecolor\": \"white\", \"ticks\": \"\", \"title\": {\"standoff\": 15}, \"zerolinecolor\": \"white\", \"zerolinewidth\": 2}}}, \"width\": 550, \"xaxis\": {\"title\": {\"text\": \"epoch\"}}, \"yaxis\": {\"title\": {\"text\": \"learning rate\"}, \"type\": \"log\"}},\n",
       "                        {\"responsive\": true}\n",
       "                    ).then(function(){\n",
       "                            \n",
       "var gd = document.getElementById('8770142f-e4de-43c2-ae5c-d684a8544572');\n",
       "var x = new MutationObserver(function (mutations, observer) {{\n",
       "        var display = window.getComputedStyle(gd).display;\n",
       "        if (!display || display === 'none') {{\n",
       "            console.log([gd, 'removed!']);\n",
       "            Plotly.purge(gd);\n",
       "            observer.disconnect();\n",
       "        }}\n",
       "}});\n",
       "\n",
       "// Listen for the removal of the full notebook cells\n",
       "var notebookContainer = gd.closest('#notebook-container');\n",
       "if (notebookContainer) {{\n",
       "    x.observe(notebookContainer, {childList: true});\n",
       "}}\n",
       "\n",
       "// Listen for the clearing of the current output cell\n",
       "var outputEl = gd.closest('.output');\n",
       "if (outputEl) {{\n",
       "    x.observe(outputEl, {childList: true});\n",
       "}}\n",
       "\n",
       "                        })\n",
       "                };\n",
       "                });\n",
       "            </script>\n",
       "        </div>"
      ]
     },
     "metadata": {},
     "output_type": "display_data"
    }
   ],
   "source": [
    "dnn_lr = keras.models.Sequential()\n",
    "dnn_lr.add(keras.layers.InputLayer(input_shape=1))\n",
    "dnn_lr.add(keras.layers.Dense(8, activation='tanh'))\n",
    "dnn_lr.add(keras.layers.Dense(1, activation=\"linear\"))\n",
    "\n",
    "dnn_lr.compile(loss='mse', optimizer=optimr, metrics=['mse','mae'])\n",
    "\n",
    "x_t = [-1, 0, 1]\n",
    "y_t = [-1, 0, 1]\n",
    "\n",
    "x_t = np.array(x_t, dtype = np.float32)\n",
    "y_t = np.array(y_t, dtype = np.float32)\n",
    "\n",
    "x_v = np.linspace(-1.,1.,4)\n",
    "y_v = x_v\n",
    "\n",
    "n_epochs = 30\n",
    "metric_lr = np.zeros((n_epochs,))\n",
    "initial_learning_rate = 0.1\n",
    "final_learning_rate = 1\n",
    "\n",
    "learning_rate = 0.25\n",
    "lr_callback = keras.callbacks.LearningRateScheduler(lr_constant)\n",
    "# lr_callback = keras.callbacks.LearningRateScheduler(lr_exponential_decay)\n",
    "\n",
    "history = dnn_lr.fit(x_t, y_t,           \n",
    "                  validation_data=(x_v,y_v),         \n",
    "                  epochs=n_epochs,\n",
    "                  batch_size=int(x_t.size),\n",
    "                  callbacks = [lr_callback,print_dots()], \n",
    "                  verbose = 0)\n",
    "\n",
    "fig = go.Figure()\n",
    "fig.add_trace(go.Scatter(x=x_t, y=y_t, mode='markers', name='training'))\n",
    "x_p = np.linspace(-1,1,8)\n",
    "fig.add_trace(go.Scatter(x=x_p,                         \n",
    "                         y=np.array(dnn_lr.predict(x_p) ).reshape((x_p.size,)),\n",
    "                         name='prediction'))\n",
    "fig.update_layout(height=400, width=600)\n",
    "fig.show()\n",
    "\n",
    "fig = go.Figure()\n",
    "plot_history(fig, history)\n",
    "fig.show()\n",
    "\n",
    "fig = go.Figure()\n",
    "fig.add_trace(go.Scatter(y=metric_lr))\n",
    "fig.update_layout(height=400, width=550, yaxis_type='log', \n",
    "                  xaxis_title='epoch', yaxis_title='learning rate')\n",
    "fig.show()"
   ]
  },
  {
   "cell_type": "code",
   "execution_count": 38,
   "metadata": {
    "colab": {
     "base_uri": "https://localhost:8080/",
     "height": 869
    },
    "colab_type": "code",
    "id": "s29mq9cKcflB",
    "outputId": "875f3ca1-3570-4f24-8a8b-ecedd34e4e7b"
   },
   "outputs": [
    {
     "name": "stdout",
     "output_type": "stream",
     "text": [
      "\n",
      ".\n",
      "Training is complete\n"
     ]
    },
    {
     "data": {
      "application/vnd.plotly.v1+json": {
       "config": {
        "plotlyServerURL": "https://plot.ly"
       },
       "data": [
        {
         "mode": "markers",
         "name": "training",
         "type": "scatter",
         "x": [
          -1,
          -0.10000000149011612,
          0.10000000149011612,
          1
         ],
         "y": [
          -1,
          0,
          0,
          1
         ]
        },
        {
         "mode": "lines",
         "name": "prediction",
         "type": "scatter",
         "x": [
          -1,
          -0.935483870967742,
          -0.8709677419354839,
          -0.8064516129032258,
          -0.7419354838709677,
          -0.6774193548387097,
          -0.6129032258064516,
          -0.5483870967741935,
          -0.4838709677419355,
          -0.4193548387096775,
          -0.3548387096774194,
          -0.29032258064516125,
          -0.22580645161290325,
          -0.16129032258064524,
          -0.09677419354838712,
          -0.032258064516129004,
          0.032258064516129004,
          0.09677419354838701,
          0.16129032258064502,
          0.22580645161290325,
          0.29032258064516125,
          0.35483870967741926,
          0.4193548387096775,
          0.4838709677419355,
          0.5483870967741935,
          0.6129032258064515,
          0.6774193548387095,
          0.7419354838709677,
          0.8064516129032258,
          0.8709677419354838,
          0.935483870967742,
          1
         ],
         "y": [
          -0.9866443872451782,
          -0.937603235244751,
          -0.8863469958305359,
          -0.832836389541626,
          -0.7770522832870483,
          -0.7189987897872925,
          -0.6587076187133789,
          -0.5962406396865845,
          -0.5316927433013916,
          -0.4651945233345032,
          -0.3969115912914276,
          -0.3270454704761505,
          -0.25583118200302124,
          -0.18353356420993805,
          -0.11044290661811829,
          -0.03686850145459175,
          0.03686849772930145,
          0.11044290661811829,
          0.18353356420993805,
          0.25583118200302124,
          0.3270454704761505,
          0.3969115614891052,
          0.4651945233345032,
          0.5316927433013916,
          0.5962405800819397,
          0.6587076187133789,
          0.7189987897872925,
          0.7770522832870483,
          0.832836389541626,
          0.8863469958305359,
          0.937603235244751,
          0.9866443872451782
         ]
        }
       ],
       "layout": {
        "height": 400,
        "template": {
         "data": {
          "bar": [
           {
            "error_x": {
             "color": "#2a3f5f"
            },
            "error_y": {
             "color": "#2a3f5f"
            },
            "marker": {
             "line": {
              "color": "#E5ECF6",
              "width": 0.5
             }
            },
            "type": "bar"
           }
          ],
          "barpolar": [
           {
            "marker": {
             "line": {
              "color": "#E5ECF6",
              "width": 0.5
             }
            },
            "type": "barpolar"
           }
          ],
          "carpet": [
           {
            "aaxis": {
             "endlinecolor": "#2a3f5f",
             "gridcolor": "white",
             "linecolor": "white",
             "minorgridcolor": "white",
             "startlinecolor": "#2a3f5f"
            },
            "baxis": {
             "endlinecolor": "#2a3f5f",
             "gridcolor": "white",
             "linecolor": "white",
             "minorgridcolor": "white",
             "startlinecolor": "#2a3f5f"
            },
            "type": "carpet"
           }
          ],
          "choropleth": [
           {
            "colorbar": {
             "outlinewidth": 0,
             "ticks": ""
            },
            "type": "choropleth"
           }
          ],
          "contour": [
           {
            "colorbar": {
             "outlinewidth": 0,
             "ticks": ""
            },
            "colorscale": [
             [
              0,
              "#0d0887"
             ],
             [
              0.1111111111111111,
              "#46039f"
             ],
             [
              0.2222222222222222,
              "#7201a8"
             ],
             [
              0.3333333333333333,
              "#9c179e"
             ],
             [
              0.4444444444444444,
              "#bd3786"
             ],
             [
              0.5555555555555556,
              "#d8576b"
             ],
             [
              0.6666666666666666,
              "#ed7953"
             ],
             [
              0.7777777777777778,
              "#fb9f3a"
             ],
             [
              0.8888888888888888,
              "#fdca26"
             ],
             [
              1,
              "#f0f921"
             ]
            ],
            "type": "contour"
           }
          ],
          "contourcarpet": [
           {
            "colorbar": {
             "outlinewidth": 0,
             "ticks": ""
            },
            "type": "contourcarpet"
           }
          ],
          "heatmap": [
           {
            "colorbar": {
             "outlinewidth": 0,
             "ticks": ""
            },
            "colorscale": [
             [
              0,
              "#0d0887"
             ],
             [
              0.1111111111111111,
              "#46039f"
             ],
             [
              0.2222222222222222,
              "#7201a8"
             ],
             [
              0.3333333333333333,
              "#9c179e"
             ],
             [
              0.4444444444444444,
              "#bd3786"
             ],
             [
              0.5555555555555556,
              "#d8576b"
             ],
             [
              0.6666666666666666,
              "#ed7953"
             ],
             [
              0.7777777777777778,
              "#fb9f3a"
             ],
             [
              0.8888888888888888,
              "#fdca26"
             ],
             [
              1,
              "#f0f921"
             ]
            ],
            "type": "heatmap"
           }
          ],
          "heatmapgl": [
           {
            "colorbar": {
             "outlinewidth": 0,
             "ticks": ""
            },
            "colorscale": [
             [
              0,
              "#0d0887"
             ],
             [
              0.1111111111111111,
              "#46039f"
             ],
             [
              0.2222222222222222,
              "#7201a8"
             ],
             [
              0.3333333333333333,
              "#9c179e"
             ],
             [
              0.4444444444444444,
              "#bd3786"
             ],
             [
              0.5555555555555556,
              "#d8576b"
             ],
             [
              0.6666666666666666,
              "#ed7953"
             ],
             [
              0.7777777777777778,
              "#fb9f3a"
             ],
             [
              0.8888888888888888,
              "#fdca26"
             ],
             [
              1,
              "#f0f921"
             ]
            ],
            "type": "heatmapgl"
           }
          ],
          "histogram": [
           {
            "marker": {
             "colorbar": {
              "outlinewidth": 0,
              "ticks": ""
             }
            },
            "type": "histogram"
           }
          ],
          "histogram2d": [
           {
            "colorbar": {
             "outlinewidth": 0,
             "ticks": ""
            },
            "colorscale": [
             [
              0,
              "#0d0887"
             ],
             [
              0.1111111111111111,
              "#46039f"
             ],
             [
              0.2222222222222222,
              "#7201a8"
             ],
             [
              0.3333333333333333,
              "#9c179e"
             ],
             [
              0.4444444444444444,
              "#bd3786"
             ],
             [
              0.5555555555555556,
              "#d8576b"
             ],
             [
              0.6666666666666666,
              "#ed7953"
             ],
             [
              0.7777777777777778,
              "#fb9f3a"
             ],
             [
              0.8888888888888888,
              "#fdca26"
             ],
             [
              1,
              "#f0f921"
             ]
            ],
            "type": "histogram2d"
           }
          ],
          "histogram2dcontour": [
           {
            "colorbar": {
             "outlinewidth": 0,
             "ticks": ""
            },
            "colorscale": [
             [
              0,
              "#0d0887"
             ],
             [
              0.1111111111111111,
              "#46039f"
             ],
             [
              0.2222222222222222,
              "#7201a8"
             ],
             [
              0.3333333333333333,
              "#9c179e"
             ],
             [
              0.4444444444444444,
              "#bd3786"
             ],
             [
              0.5555555555555556,
              "#d8576b"
             ],
             [
              0.6666666666666666,
              "#ed7953"
             ],
             [
              0.7777777777777778,
              "#fb9f3a"
             ],
             [
              0.8888888888888888,
              "#fdca26"
             ],
             [
              1,
              "#f0f921"
             ]
            ],
            "type": "histogram2dcontour"
           }
          ],
          "mesh3d": [
           {
            "colorbar": {
             "outlinewidth": 0,
             "ticks": ""
            },
            "type": "mesh3d"
           }
          ],
          "parcoords": [
           {
            "line": {
             "colorbar": {
              "outlinewidth": 0,
              "ticks": ""
             }
            },
            "type": "parcoords"
           }
          ],
          "pie": [
           {
            "automargin": true,
            "type": "pie"
           }
          ],
          "scatter": [
           {
            "marker": {
             "colorbar": {
              "outlinewidth": 0,
              "ticks": ""
             }
            },
            "type": "scatter"
           }
          ],
          "scatter3d": [
           {
            "line": {
             "colorbar": {
              "outlinewidth": 0,
              "ticks": ""
             }
            },
            "marker": {
             "colorbar": {
              "outlinewidth": 0,
              "ticks": ""
             }
            },
            "type": "scatter3d"
           }
          ],
          "scattercarpet": [
           {
            "marker": {
             "colorbar": {
              "outlinewidth": 0,
              "ticks": ""
             }
            },
            "type": "scattercarpet"
           }
          ],
          "scattergeo": [
           {
            "marker": {
             "colorbar": {
              "outlinewidth": 0,
              "ticks": ""
             }
            },
            "type": "scattergeo"
           }
          ],
          "scattergl": [
           {
            "marker": {
             "colorbar": {
              "outlinewidth": 0,
              "ticks": ""
             }
            },
            "type": "scattergl"
           }
          ],
          "scattermapbox": [
           {
            "marker": {
             "colorbar": {
              "outlinewidth": 0,
              "ticks": ""
             }
            },
            "type": "scattermapbox"
           }
          ],
          "scatterpolar": [
           {
            "marker": {
             "colorbar": {
              "outlinewidth": 0,
              "ticks": ""
             }
            },
            "type": "scatterpolar"
           }
          ],
          "scatterpolargl": [
           {
            "marker": {
             "colorbar": {
              "outlinewidth": 0,
              "ticks": ""
             }
            },
            "type": "scatterpolargl"
           }
          ],
          "scatterternary": [
           {
            "marker": {
             "colorbar": {
              "outlinewidth": 0,
              "ticks": ""
             }
            },
            "type": "scatterternary"
           }
          ],
          "surface": [
           {
            "colorbar": {
             "outlinewidth": 0,
             "ticks": ""
            },
            "colorscale": [
             [
              0,
              "#0d0887"
             ],
             [
              0.1111111111111111,
              "#46039f"
             ],
             [
              0.2222222222222222,
              "#7201a8"
             ],
             [
              0.3333333333333333,
              "#9c179e"
             ],
             [
              0.4444444444444444,
              "#bd3786"
             ],
             [
              0.5555555555555556,
              "#d8576b"
             ],
             [
              0.6666666666666666,
              "#ed7953"
             ],
             [
              0.7777777777777778,
              "#fb9f3a"
             ],
             [
              0.8888888888888888,
              "#fdca26"
             ],
             [
              1,
              "#f0f921"
             ]
            ],
            "type": "surface"
           }
          ],
          "table": [
           {
            "cells": {
             "fill": {
              "color": "#EBF0F8"
             },
             "line": {
              "color": "white"
             }
            },
            "header": {
             "fill": {
              "color": "#C8D4E3"
             },
             "line": {
              "color": "white"
             }
            },
            "type": "table"
           }
          ]
         },
         "layout": {
          "annotationdefaults": {
           "arrowcolor": "#2a3f5f",
           "arrowhead": 0,
           "arrowwidth": 1
          },
          "coloraxis": {
           "colorbar": {
            "outlinewidth": 0,
            "ticks": ""
           }
          },
          "colorscale": {
           "diverging": [
            [
             0,
             "#8e0152"
            ],
            [
             0.1,
             "#c51b7d"
            ],
            [
             0.2,
             "#de77ae"
            ],
            [
             0.3,
             "#f1b6da"
            ],
            [
             0.4,
             "#fde0ef"
            ],
            [
             0.5,
             "#f7f7f7"
            ],
            [
             0.6,
             "#e6f5d0"
            ],
            [
             0.7,
             "#b8e186"
            ],
            [
             0.8,
             "#7fbc41"
            ],
            [
             0.9,
             "#4d9221"
            ],
            [
             1,
             "#276419"
            ]
           ],
           "sequential": [
            [
             0,
             "#0d0887"
            ],
            [
             0.1111111111111111,
             "#46039f"
            ],
            [
             0.2222222222222222,
             "#7201a8"
            ],
            [
             0.3333333333333333,
             "#9c179e"
            ],
            [
             0.4444444444444444,
             "#bd3786"
            ],
            [
             0.5555555555555556,
             "#d8576b"
            ],
            [
             0.6666666666666666,
             "#ed7953"
            ],
            [
             0.7777777777777778,
             "#fb9f3a"
            ],
            [
             0.8888888888888888,
             "#fdca26"
            ],
            [
             1,
             "#f0f921"
            ]
           ],
           "sequentialminus": [
            [
             0,
             "#0d0887"
            ],
            [
             0.1111111111111111,
             "#46039f"
            ],
            [
             0.2222222222222222,
             "#7201a8"
            ],
            [
             0.3333333333333333,
             "#9c179e"
            ],
            [
             0.4444444444444444,
             "#bd3786"
            ],
            [
             0.5555555555555556,
             "#d8576b"
            ],
            [
             0.6666666666666666,
             "#ed7953"
            ],
            [
             0.7777777777777778,
             "#fb9f3a"
            ],
            [
             0.8888888888888888,
             "#fdca26"
            ],
            [
             1,
             "#f0f921"
            ]
           ]
          },
          "colorway": [
           "#636efa",
           "#EF553B",
           "#00cc96",
           "#ab63fa",
           "#FFA15A",
           "#19d3f3",
           "#FF6692",
           "#B6E880",
           "#FF97FF",
           "#FECB52"
          ],
          "font": {
           "color": "#2a3f5f"
          },
          "geo": {
           "bgcolor": "white",
           "lakecolor": "white",
           "landcolor": "#E5ECF6",
           "showlakes": true,
           "showland": true,
           "subunitcolor": "white"
          },
          "hoverlabel": {
           "align": "left"
          },
          "hovermode": "closest",
          "mapbox": {
           "style": "light"
          },
          "paper_bgcolor": "white",
          "plot_bgcolor": "#E5ECF6",
          "polar": {
           "angularaxis": {
            "gridcolor": "white",
            "linecolor": "white",
            "ticks": ""
           },
           "bgcolor": "#E5ECF6",
           "radialaxis": {
            "gridcolor": "white",
            "linecolor": "white",
            "ticks": ""
           }
          },
          "scene": {
           "xaxis": {
            "backgroundcolor": "#E5ECF6",
            "gridcolor": "white",
            "gridwidth": 2,
            "linecolor": "white",
            "showbackground": true,
            "ticks": "",
            "zerolinecolor": "white"
           },
           "yaxis": {
            "backgroundcolor": "#E5ECF6",
            "gridcolor": "white",
            "gridwidth": 2,
            "linecolor": "white",
            "showbackground": true,
            "ticks": "",
            "zerolinecolor": "white"
           },
           "zaxis": {
            "backgroundcolor": "#E5ECF6",
            "gridcolor": "white",
            "gridwidth": 2,
            "linecolor": "white",
            "showbackground": true,
            "ticks": "",
            "zerolinecolor": "white"
           }
          },
          "shapedefaults": {
           "line": {
            "color": "#2a3f5f"
           }
          },
          "ternary": {
           "aaxis": {
            "gridcolor": "white",
            "linecolor": "white",
            "ticks": ""
           },
           "baxis": {
            "gridcolor": "white",
            "linecolor": "white",
            "ticks": ""
           },
           "bgcolor": "#E5ECF6",
           "caxis": {
            "gridcolor": "white",
            "linecolor": "white",
            "ticks": ""
           }
          },
          "title": {
           "x": 0.05
          },
          "xaxis": {
           "automargin": true,
           "gridcolor": "white",
           "linecolor": "white",
           "ticks": "",
           "title": {
            "standoff": 15
           },
           "zerolinecolor": "white",
           "zerolinewidth": 2
          },
          "yaxis": {
           "automargin": true,
           "gridcolor": "white",
           "linecolor": "white",
           "ticks": "",
           "title": {
            "standoff": 15
           },
           "zerolinecolor": "white",
           "zerolinewidth": 2
          }
         }
        },
        "width": 600
       }
      },
      "text/html": [
       "<div>\n",
       "        \n",
       "        \n",
       "            <div id=\"302b6590-2e8a-4235-b018-444504970896\" class=\"plotly-graph-div\" style=\"height:400px; width:600px;\"></div>\n",
       "            <script type=\"text/javascript\">\n",
       "                require([\"plotly\"], function(Plotly) {\n",
       "                    window.PLOTLYENV=window.PLOTLYENV || {};\n",
       "                    \n",
       "                if (document.getElementById(\"302b6590-2e8a-4235-b018-444504970896\")) {\n",
       "                    Plotly.newPlot(\n",
       "                        '302b6590-2e8a-4235-b018-444504970896',\n",
       "                        [{\"mode\": \"markers\", \"name\": \"training\", \"type\": \"scatter\", \"x\": [-1.0, -0.10000000149011612, 0.10000000149011612, 1.0], \"y\": [-1.0, 0.0, 0.0, 1.0]}, {\"mode\": \"lines\", \"name\": \"prediction\", \"type\": \"scatter\", \"x\": [-1.0, -0.935483870967742, -0.8709677419354839, -0.8064516129032258, -0.7419354838709677, -0.6774193548387097, -0.6129032258064516, -0.5483870967741935, -0.4838709677419355, -0.4193548387096775, -0.3548387096774194, -0.29032258064516125, -0.22580645161290325, -0.16129032258064524, -0.09677419354838712, -0.032258064516129004, 0.032258064516129004, 0.09677419354838701, 0.16129032258064502, 0.22580645161290325, 0.29032258064516125, 0.35483870967741926, 0.4193548387096775, 0.4838709677419355, 0.5483870967741935, 0.6129032258064515, 0.6774193548387095, 0.7419354838709677, 0.8064516129032258, 0.8709677419354838, 0.935483870967742, 1.0], \"y\": [-0.9866443872451782, -0.937603235244751, -0.8863469958305359, -0.832836389541626, -0.7770522832870483, -0.7189987897872925, -0.6587076187133789, -0.5962406396865845, -0.5316927433013916, -0.4651945233345032, -0.3969115912914276, -0.3270454704761505, -0.25583118200302124, -0.18353356420993805, -0.11044290661811829, -0.03686850145459175, 0.03686849772930145, 0.11044290661811829, 0.18353356420993805, 0.25583118200302124, 0.3270454704761505, 0.3969115614891052, 0.4651945233345032, 0.5316927433013916, 0.5962405800819397, 0.6587076187133789, 0.7189987897872925, 0.7770522832870483, 0.832836389541626, 0.8863469958305359, 0.937603235244751, 0.9866443872451782]}],\n",
       "                        {\"height\": 400, \"template\": {\"data\": {\"bar\": [{\"error_x\": {\"color\": \"#2a3f5f\"}, \"error_y\": {\"color\": \"#2a3f5f\"}, \"marker\": {\"line\": {\"color\": \"#E5ECF6\", \"width\": 0.5}}, \"type\": \"bar\"}], \"barpolar\": [{\"marker\": {\"line\": {\"color\": \"#E5ECF6\", \"width\": 0.5}}, \"type\": \"barpolar\"}], \"carpet\": [{\"aaxis\": {\"endlinecolor\": \"#2a3f5f\", \"gridcolor\": \"white\", \"linecolor\": \"white\", \"minorgridcolor\": \"white\", \"startlinecolor\": \"#2a3f5f\"}, \"baxis\": {\"endlinecolor\": \"#2a3f5f\", \"gridcolor\": \"white\", \"linecolor\": \"white\", \"minorgridcolor\": \"white\", \"startlinecolor\": \"#2a3f5f\"}, \"type\": \"carpet\"}], \"choropleth\": [{\"colorbar\": {\"outlinewidth\": 0, \"ticks\": \"\"}, \"type\": \"choropleth\"}], \"contour\": [{\"colorbar\": {\"outlinewidth\": 0, \"ticks\": \"\"}, \"colorscale\": [[0.0, \"#0d0887\"], [0.1111111111111111, \"#46039f\"], [0.2222222222222222, \"#7201a8\"], [0.3333333333333333, \"#9c179e\"], [0.4444444444444444, \"#bd3786\"], [0.5555555555555556, \"#d8576b\"], [0.6666666666666666, \"#ed7953\"], [0.7777777777777778, \"#fb9f3a\"], [0.8888888888888888, \"#fdca26\"], [1.0, \"#f0f921\"]], \"type\": \"contour\"}], \"contourcarpet\": [{\"colorbar\": {\"outlinewidth\": 0, \"ticks\": \"\"}, \"type\": \"contourcarpet\"}], \"heatmap\": [{\"colorbar\": {\"outlinewidth\": 0, \"ticks\": \"\"}, \"colorscale\": [[0.0, \"#0d0887\"], [0.1111111111111111, \"#46039f\"], [0.2222222222222222, \"#7201a8\"], [0.3333333333333333, \"#9c179e\"], [0.4444444444444444, \"#bd3786\"], [0.5555555555555556, \"#d8576b\"], [0.6666666666666666, \"#ed7953\"], [0.7777777777777778, \"#fb9f3a\"], [0.8888888888888888, \"#fdca26\"], [1.0, \"#f0f921\"]], \"type\": \"heatmap\"}], \"heatmapgl\": [{\"colorbar\": {\"outlinewidth\": 0, \"ticks\": \"\"}, \"colorscale\": [[0.0, \"#0d0887\"], [0.1111111111111111, \"#46039f\"], [0.2222222222222222, \"#7201a8\"], [0.3333333333333333, \"#9c179e\"], [0.4444444444444444, \"#bd3786\"], [0.5555555555555556, \"#d8576b\"], [0.6666666666666666, \"#ed7953\"], [0.7777777777777778, \"#fb9f3a\"], [0.8888888888888888, \"#fdca26\"], [1.0, \"#f0f921\"]], \"type\": \"heatmapgl\"}], \"histogram\": [{\"marker\": {\"colorbar\": {\"outlinewidth\": 0, \"ticks\": \"\"}}, \"type\": \"histogram\"}], \"histogram2d\": [{\"colorbar\": {\"outlinewidth\": 0, \"ticks\": \"\"}, \"colorscale\": [[0.0, \"#0d0887\"], [0.1111111111111111, \"#46039f\"], [0.2222222222222222, \"#7201a8\"], [0.3333333333333333, \"#9c179e\"], [0.4444444444444444, \"#bd3786\"], [0.5555555555555556, \"#d8576b\"], [0.6666666666666666, \"#ed7953\"], [0.7777777777777778, \"#fb9f3a\"], [0.8888888888888888, \"#fdca26\"], [1.0, \"#f0f921\"]], \"type\": \"histogram2d\"}], \"histogram2dcontour\": [{\"colorbar\": {\"outlinewidth\": 0, \"ticks\": \"\"}, \"colorscale\": [[0.0, \"#0d0887\"], [0.1111111111111111, \"#46039f\"], [0.2222222222222222, \"#7201a8\"], [0.3333333333333333, \"#9c179e\"], [0.4444444444444444, \"#bd3786\"], [0.5555555555555556, \"#d8576b\"], [0.6666666666666666, \"#ed7953\"], [0.7777777777777778, \"#fb9f3a\"], [0.8888888888888888, \"#fdca26\"], [1.0, \"#f0f921\"]], \"type\": \"histogram2dcontour\"}], \"mesh3d\": [{\"colorbar\": {\"outlinewidth\": 0, \"ticks\": \"\"}, \"type\": \"mesh3d\"}], \"parcoords\": [{\"line\": {\"colorbar\": {\"outlinewidth\": 0, \"ticks\": \"\"}}, \"type\": \"parcoords\"}], \"pie\": [{\"automargin\": true, \"type\": \"pie\"}], \"scatter\": [{\"marker\": {\"colorbar\": {\"outlinewidth\": 0, \"ticks\": \"\"}}, \"type\": \"scatter\"}], \"scatter3d\": [{\"line\": {\"colorbar\": {\"outlinewidth\": 0, \"ticks\": \"\"}}, \"marker\": {\"colorbar\": {\"outlinewidth\": 0, \"ticks\": \"\"}}, \"type\": \"scatter3d\"}], \"scattercarpet\": [{\"marker\": {\"colorbar\": {\"outlinewidth\": 0, \"ticks\": \"\"}}, \"type\": \"scattercarpet\"}], \"scattergeo\": [{\"marker\": {\"colorbar\": {\"outlinewidth\": 0, \"ticks\": \"\"}}, \"type\": \"scattergeo\"}], \"scattergl\": [{\"marker\": {\"colorbar\": {\"outlinewidth\": 0, \"ticks\": \"\"}}, \"type\": \"scattergl\"}], \"scattermapbox\": [{\"marker\": {\"colorbar\": {\"outlinewidth\": 0, \"ticks\": \"\"}}, \"type\": \"scattermapbox\"}], \"scatterpolar\": [{\"marker\": {\"colorbar\": {\"outlinewidth\": 0, \"ticks\": \"\"}}, \"type\": \"scatterpolar\"}], \"scatterpolargl\": [{\"marker\": {\"colorbar\": {\"outlinewidth\": 0, \"ticks\": \"\"}}, \"type\": \"scatterpolargl\"}], \"scatterternary\": [{\"marker\": {\"colorbar\": {\"outlinewidth\": 0, \"ticks\": \"\"}}, \"type\": \"scatterternary\"}], \"surface\": [{\"colorbar\": {\"outlinewidth\": 0, \"ticks\": \"\"}, \"colorscale\": [[0.0, \"#0d0887\"], [0.1111111111111111, \"#46039f\"], [0.2222222222222222, \"#7201a8\"], [0.3333333333333333, \"#9c179e\"], [0.4444444444444444, \"#bd3786\"], [0.5555555555555556, \"#d8576b\"], [0.6666666666666666, \"#ed7953\"], [0.7777777777777778, \"#fb9f3a\"], [0.8888888888888888, \"#fdca26\"], [1.0, \"#f0f921\"]], \"type\": \"surface\"}], \"table\": [{\"cells\": {\"fill\": {\"color\": \"#EBF0F8\"}, \"line\": {\"color\": \"white\"}}, \"header\": {\"fill\": {\"color\": \"#C8D4E3\"}, \"line\": {\"color\": \"white\"}}, \"type\": \"table\"}]}, \"layout\": {\"annotationdefaults\": {\"arrowcolor\": \"#2a3f5f\", \"arrowhead\": 0, \"arrowwidth\": 1}, \"coloraxis\": {\"colorbar\": {\"outlinewidth\": 0, \"ticks\": \"\"}}, \"colorscale\": {\"diverging\": [[0, \"#8e0152\"], [0.1, \"#c51b7d\"], [0.2, \"#de77ae\"], [0.3, \"#f1b6da\"], [0.4, \"#fde0ef\"], [0.5, \"#f7f7f7\"], [0.6, \"#e6f5d0\"], [0.7, \"#b8e186\"], [0.8, \"#7fbc41\"], [0.9, \"#4d9221\"], [1, \"#276419\"]], \"sequential\": [[0.0, \"#0d0887\"], [0.1111111111111111, \"#46039f\"], [0.2222222222222222, \"#7201a8\"], [0.3333333333333333, \"#9c179e\"], [0.4444444444444444, \"#bd3786\"], [0.5555555555555556, \"#d8576b\"], [0.6666666666666666, \"#ed7953\"], [0.7777777777777778, \"#fb9f3a\"], [0.8888888888888888, \"#fdca26\"], [1.0, \"#f0f921\"]], \"sequentialminus\": [[0.0, \"#0d0887\"], [0.1111111111111111, \"#46039f\"], [0.2222222222222222, \"#7201a8\"], [0.3333333333333333, \"#9c179e\"], [0.4444444444444444, \"#bd3786\"], [0.5555555555555556, \"#d8576b\"], [0.6666666666666666, \"#ed7953\"], [0.7777777777777778, \"#fb9f3a\"], [0.8888888888888888, \"#fdca26\"], [1.0, \"#f0f921\"]]}, \"colorway\": [\"#636efa\", \"#EF553B\", \"#00cc96\", \"#ab63fa\", \"#FFA15A\", \"#19d3f3\", \"#FF6692\", \"#B6E880\", \"#FF97FF\", \"#FECB52\"], \"font\": {\"color\": \"#2a3f5f\"}, \"geo\": {\"bgcolor\": \"white\", \"lakecolor\": \"white\", \"landcolor\": \"#E5ECF6\", \"showlakes\": true, \"showland\": true, \"subunitcolor\": \"white\"}, \"hoverlabel\": {\"align\": \"left\"}, \"hovermode\": \"closest\", \"mapbox\": {\"style\": \"light\"}, \"paper_bgcolor\": \"white\", \"plot_bgcolor\": \"#E5ECF6\", \"polar\": {\"angularaxis\": {\"gridcolor\": \"white\", \"linecolor\": \"white\", \"ticks\": \"\"}, \"bgcolor\": \"#E5ECF6\", \"radialaxis\": {\"gridcolor\": \"white\", \"linecolor\": \"white\", \"ticks\": \"\"}}, \"scene\": {\"xaxis\": {\"backgroundcolor\": \"#E5ECF6\", \"gridcolor\": \"white\", \"gridwidth\": 2, \"linecolor\": \"white\", \"showbackground\": true, \"ticks\": \"\", \"zerolinecolor\": \"white\"}, \"yaxis\": {\"backgroundcolor\": \"#E5ECF6\", \"gridcolor\": \"white\", \"gridwidth\": 2, \"linecolor\": \"white\", \"showbackground\": true, \"ticks\": \"\", \"zerolinecolor\": \"white\"}, \"zaxis\": {\"backgroundcolor\": \"#E5ECF6\", \"gridcolor\": \"white\", \"gridwidth\": 2, \"linecolor\": \"white\", \"showbackground\": true, \"ticks\": \"\", \"zerolinecolor\": \"white\"}}, \"shapedefaults\": {\"line\": {\"color\": \"#2a3f5f\"}}, \"ternary\": {\"aaxis\": {\"gridcolor\": \"white\", \"linecolor\": \"white\", \"ticks\": \"\"}, \"baxis\": {\"gridcolor\": \"white\", \"linecolor\": \"white\", \"ticks\": \"\"}, \"bgcolor\": \"#E5ECF6\", \"caxis\": {\"gridcolor\": \"white\", \"linecolor\": \"white\", \"ticks\": \"\"}}, \"title\": {\"x\": 0.05}, \"xaxis\": {\"automargin\": true, \"gridcolor\": \"white\", \"linecolor\": \"white\", \"ticks\": \"\", \"title\": {\"standoff\": 15}, \"zerolinecolor\": \"white\", \"zerolinewidth\": 2}, \"yaxis\": {\"automargin\": true, \"gridcolor\": \"white\", \"linecolor\": \"white\", \"ticks\": \"\", \"title\": {\"standoff\": 15}, \"zerolinecolor\": \"white\", \"zerolinewidth\": 2}}}, \"width\": 600},\n",
       "                        {\"responsive\": true}\n",
       "                    ).then(function(){\n",
       "                            \n",
       "var gd = document.getElementById('302b6590-2e8a-4235-b018-444504970896');\n",
       "var x = new MutationObserver(function (mutations, observer) {{\n",
       "        var display = window.getComputedStyle(gd).display;\n",
       "        if (!display || display === 'none') {{\n",
       "            console.log([gd, 'removed!']);\n",
       "            Plotly.purge(gd);\n",
       "            observer.disconnect();\n",
       "        }}\n",
       "}});\n",
       "\n",
       "// Listen for the removal of the full notebook cells\n",
       "var notebookContainer = gd.closest('#notebook-container');\n",
       "if (notebookContainer) {{\n",
       "    x.observe(notebookContainer, {childList: true});\n",
       "}}\n",
       "\n",
       "// Listen for the clearing of the current output cell\n",
       "var outputEl = gd.closest('.output');\n",
       "if (outputEl) {{\n",
       "    x.observe(outputEl, {childList: true});\n",
       "}}\n",
       "\n",
       "                        })\n",
       "                };\n",
       "                });\n",
       "            </script>\n",
       "        </div>"
      ]
     },
     "metadata": {},
     "output_type": "display_data"
    },
    {
     "data": {
      "application/vnd.plotly.v1+json": {
       "config": {
        "plotlyServerURL": "https://plot.ly"
       },
       "data": [
        {
         "name": "loss",
         "type": "scatter",
         "y": [
          1.0290521841172164,
          0.48279645022779727,
          0.24441387906280262,
          0.1361849855906004,
          0.09584942165206739,
          0.08458976125525973,
          0.08200301808506943,
          0.08143936073731077,
          0.08130692392999203,
          0.08126412186408755
         ]
        },
        {
         "name": "error training",
         "type": "scatter",
         "y": [
          1.0290521383285522,
          0.48279646039009094,
          0.24441388249397278,
          0.13618499040603638,
          0.0958494246006012,
          0.08458976447582245,
          0.08200301975011826,
          0.08143936097621918,
          0.08130692690610886,
          0.08126412332057953
         ]
        },
        {
         "name": "error validation",
         "type": "scatter",
         "y": [
          0.43289998173713684,
          0.20358732342720032,
          0.09209533035755157,
          0.04336268827319145,
          0.029598355293273926,
          0.02934989146888256,
          0.030772754922509193,
          0.031673863530159,
          0.032103586941957474,
          0.032276369631290436
         ]
        }
       ],
       "layout": {
        "height": 400,
        "template": {
         "data": {
          "bar": [
           {
            "error_x": {
             "color": "#2a3f5f"
            },
            "error_y": {
             "color": "#2a3f5f"
            },
            "marker": {
             "line": {
              "color": "#E5ECF6",
              "width": 0.5
             }
            },
            "type": "bar"
           }
          ],
          "barpolar": [
           {
            "marker": {
             "line": {
              "color": "#E5ECF6",
              "width": 0.5
             }
            },
            "type": "barpolar"
           }
          ],
          "carpet": [
           {
            "aaxis": {
             "endlinecolor": "#2a3f5f",
             "gridcolor": "white",
             "linecolor": "white",
             "minorgridcolor": "white",
             "startlinecolor": "#2a3f5f"
            },
            "baxis": {
             "endlinecolor": "#2a3f5f",
             "gridcolor": "white",
             "linecolor": "white",
             "minorgridcolor": "white",
             "startlinecolor": "#2a3f5f"
            },
            "type": "carpet"
           }
          ],
          "choropleth": [
           {
            "colorbar": {
             "outlinewidth": 0,
             "ticks": ""
            },
            "type": "choropleth"
           }
          ],
          "contour": [
           {
            "colorbar": {
             "outlinewidth": 0,
             "ticks": ""
            },
            "colorscale": [
             [
              0,
              "#0d0887"
             ],
             [
              0.1111111111111111,
              "#46039f"
             ],
             [
              0.2222222222222222,
              "#7201a8"
             ],
             [
              0.3333333333333333,
              "#9c179e"
             ],
             [
              0.4444444444444444,
              "#bd3786"
             ],
             [
              0.5555555555555556,
              "#d8576b"
             ],
             [
              0.6666666666666666,
              "#ed7953"
             ],
             [
              0.7777777777777778,
              "#fb9f3a"
             ],
             [
              0.8888888888888888,
              "#fdca26"
             ],
             [
              1,
              "#f0f921"
             ]
            ],
            "type": "contour"
           }
          ],
          "contourcarpet": [
           {
            "colorbar": {
             "outlinewidth": 0,
             "ticks": ""
            },
            "type": "contourcarpet"
           }
          ],
          "heatmap": [
           {
            "colorbar": {
             "outlinewidth": 0,
             "ticks": ""
            },
            "colorscale": [
             [
              0,
              "#0d0887"
             ],
             [
              0.1111111111111111,
              "#46039f"
             ],
             [
              0.2222222222222222,
              "#7201a8"
             ],
             [
              0.3333333333333333,
              "#9c179e"
             ],
             [
              0.4444444444444444,
              "#bd3786"
             ],
             [
              0.5555555555555556,
              "#d8576b"
             ],
             [
              0.6666666666666666,
              "#ed7953"
             ],
             [
              0.7777777777777778,
              "#fb9f3a"
             ],
             [
              0.8888888888888888,
              "#fdca26"
             ],
             [
              1,
              "#f0f921"
             ]
            ],
            "type": "heatmap"
           }
          ],
          "heatmapgl": [
           {
            "colorbar": {
             "outlinewidth": 0,
             "ticks": ""
            },
            "colorscale": [
             [
              0,
              "#0d0887"
             ],
             [
              0.1111111111111111,
              "#46039f"
             ],
             [
              0.2222222222222222,
              "#7201a8"
             ],
             [
              0.3333333333333333,
              "#9c179e"
             ],
             [
              0.4444444444444444,
              "#bd3786"
             ],
             [
              0.5555555555555556,
              "#d8576b"
             ],
             [
              0.6666666666666666,
              "#ed7953"
             ],
             [
              0.7777777777777778,
              "#fb9f3a"
             ],
             [
              0.8888888888888888,
              "#fdca26"
             ],
             [
              1,
              "#f0f921"
             ]
            ],
            "type": "heatmapgl"
           }
          ],
          "histogram": [
           {
            "marker": {
             "colorbar": {
              "outlinewidth": 0,
              "ticks": ""
             }
            },
            "type": "histogram"
           }
          ],
          "histogram2d": [
           {
            "colorbar": {
             "outlinewidth": 0,
             "ticks": ""
            },
            "colorscale": [
             [
              0,
              "#0d0887"
             ],
             [
              0.1111111111111111,
              "#46039f"
             ],
             [
              0.2222222222222222,
              "#7201a8"
             ],
             [
              0.3333333333333333,
              "#9c179e"
             ],
             [
              0.4444444444444444,
              "#bd3786"
             ],
             [
              0.5555555555555556,
              "#d8576b"
             ],
             [
              0.6666666666666666,
              "#ed7953"
             ],
             [
              0.7777777777777778,
              "#fb9f3a"
             ],
             [
              0.8888888888888888,
              "#fdca26"
             ],
             [
              1,
              "#f0f921"
             ]
            ],
            "type": "histogram2d"
           }
          ],
          "histogram2dcontour": [
           {
            "colorbar": {
             "outlinewidth": 0,
             "ticks": ""
            },
            "colorscale": [
             [
              0,
              "#0d0887"
             ],
             [
              0.1111111111111111,
              "#46039f"
             ],
             [
              0.2222222222222222,
              "#7201a8"
             ],
             [
              0.3333333333333333,
              "#9c179e"
             ],
             [
              0.4444444444444444,
              "#bd3786"
             ],
             [
              0.5555555555555556,
              "#d8576b"
             ],
             [
              0.6666666666666666,
              "#ed7953"
             ],
             [
              0.7777777777777778,
              "#fb9f3a"
             ],
             [
              0.8888888888888888,
              "#fdca26"
             ],
             [
              1,
              "#f0f921"
             ]
            ],
            "type": "histogram2dcontour"
           }
          ],
          "mesh3d": [
           {
            "colorbar": {
             "outlinewidth": 0,
             "ticks": ""
            },
            "type": "mesh3d"
           }
          ],
          "parcoords": [
           {
            "line": {
             "colorbar": {
              "outlinewidth": 0,
              "ticks": ""
             }
            },
            "type": "parcoords"
           }
          ],
          "pie": [
           {
            "automargin": true,
            "type": "pie"
           }
          ],
          "scatter": [
           {
            "marker": {
             "colorbar": {
              "outlinewidth": 0,
              "ticks": ""
             }
            },
            "type": "scatter"
           }
          ],
          "scatter3d": [
           {
            "line": {
             "colorbar": {
              "outlinewidth": 0,
              "ticks": ""
             }
            },
            "marker": {
             "colorbar": {
              "outlinewidth": 0,
              "ticks": ""
             }
            },
            "type": "scatter3d"
           }
          ],
          "scattercarpet": [
           {
            "marker": {
             "colorbar": {
              "outlinewidth": 0,
              "ticks": ""
             }
            },
            "type": "scattercarpet"
           }
          ],
          "scattergeo": [
           {
            "marker": {
             "colorbar": {
              "outlinewidth": 0,
              "ticks": ""
             }
            },
            "type": "scattergeo"
           }
          ],
          "scattergl": [
           {
            "marker": {
             "colorbar": {
              "outlinewidth": 0,
              "ticks": ""
             }
            },
            "type": "scattergl"
           }
          ],
          "scattermapbox": [
           {
            "marker": {
             "colorbar": {
              "outlinewidth": 0,
              "ticks": ""
             }
            },
            "type": "scattermapbox"
           }
          ],
          "scatterpolar": [
           {
            "marker": {
             "colorbar": {
              "outlinewidth": 0,
              "ticks": ""
             }
            },
            "type": "scatterpolar"
           }
          ],
          "scatterpolargl": [
           {
            "marker": {
             "colorbar": {
              "outlinewidth": 0,
              "ticks": ""
             }
            },
            "type": "scatterpolargl"
           }
          ],
          "scatterternary": [
           {
            "marker": {
             "colorbar": {
              "outlinewidth": 0,
              "ticks": ""
             }
            },
            "type": "scatterternary"
           }
          ],
          "surface": [
           {
            "colorbar": {
             "outlinewidth": 0,
             "ticks": ""
            },
            "colorscale": [
             [
              0,
              "#0d0887"
             ],
             [
              0.1111111111111111,
              "#46039f"
             ],
             [
              0.2222222222222222,
              "#7201a8"
             ],
             [
              0.3333333333333333,
              "#9c179e"
             ],
             [
              0.4444444444444444,
              "#bd3786"
             ],
             [
              0.5555555555555556,
              "#d8576b"
             ],
             [
              0.6666666666666666,
              "#ed7953"
             ],
             [
              0.7777777777777778,
              "#fb9f3a"
             ],
             [
              0.8888888888888888,
              "#fdca26"
             ],
             [
              1,
              "#f0f921"
             ]
            ],
            "type": "surface"
           }
          ],
          "table": [
           {
            "cells": {
             "fill": {
              "color": "#EBF0F8"
             },
             "line": {
              "color": "white"
             }
            },
            "header": {
             "fill": {
              "color": "#C8D4E3"
             },
             "line": {
              "color": "white"
             }
            },
            "type": "table"
           }
          ]
         },
         "layout": {
          "annotationdefaults": {
           "arrowcolor": "#2a3f5f",
           "arrowhead": 0,
           "arrowwidth": 1
          },
          "coloraxis": {
           "colorbar": {
            "outlinewidth": 0,
            "ticks": ""
           }
          },
          "colorscale": {
           "diverging": [
            [
             0,
             "#8e0152"
            ],
            [
             0.1,
             "#c51b7d"
            ],
            [
             0.2,
             "#de77ae"
            ],
            [
             0.3,
             "#f1b6da"
            ],
            [
             0.4,
             "#fde0ef"
            ],
            [
             0.5,
             "#f7f7f7"
            ],
            [
             0.6,
             "#e6f5d0"
            ],
            [
             0.7,
             "#b8e186"
            ],
            [
             0.8,
             "#7fbc41"
            ],
            [
             0.9,
             "#4d9221"
            ],
            [
             1,
             "#276419"
            ]
           ],
           "sequential": [
            [
             0,
             "#0d0887"
            ],
            [
             0.1111111111111111,
             "#46039f"
            ],
            [
             0.2222222222222222,
             "#7201a8"
            ],
            [
             0.3333333333333333,
             "#9c179e"
            ],
            [
             0.4444444444444444,
             "#bd3786"
            ],
            [
             0.5555555555555556,
             "#d8576b"
            ],
            [
             0.6666666666666666,
             "#ed7953"
            ],
            [
             0.7777777777777778,
             "#fb9f3a"
            ],
            [
             0.8888888888888888,
             "#fdca26"
            ],
            [
             1,
             "#f0f921"
            ]
           ],
           "sequentialminus": [
            [
             0,
             "#0d0887"
            ],
            [
             0.1111111111111111,
             "#46039f"
            ],
            [
             0.2222222222222222,
             "#7201a8"
            ],
            [
             0.3333333333333333,
             "#9c179e"
            ],
            [
             0.4444444444444444,
             "#bd3786"
            ],
            [
             0.5555555555555556,
             "#d8576b"
            ],
            [
             0.6666666666666666,
             "#ed7953"
            ],
            [
             0.7777777777777778,
             "#fb9f3a"
            ],
            [
             0.8888888888888888,
             "#fdca26"
            ],
            [
             1,
             "#f0f921"
            ]
           ]
          },
          "colorway": [
           "#636efa",
           "#EF553B",
           "#00cc96",
           "#ab63fa",
           "#FFA15A",
           "#19d3f3",
           "#FF6692",
           "#B6E880",
           "#FF97FF",
           "#FECB52"
          ],
          "font": {
           "color": "#2a3f5f"
          },
          "geo": {
           "bgcolor": "white",
           "lakecolor": "white",
           "landcolor": "#E5ECF6",
           "showlakes": true,
           "showland": true,
           "subunitcolor": "white"
          },
          "hoverlabel": {
           "align": "left"
          },
          "hovermode": "closest",
          "mapbox": {
           "style": "light"
          },
          "paper_bgcolor": "white",
          "plot_bgcolor": "#E5ECF6",
          "polar": {
           "angularaxis": {
            "gridcolor": "white",
            "linecolor": "white",
            "ticks": ""
           },
           "bgcolor": "#E5ECF6",
           "radialaxis": {
            "gridcolor": "white",
            "linecolor": "white",
            "ticks": ""
           }
          },
          "scene": {
           "xaxis": {
            "backgroundcolor": "#E5ECF6",
            "gridcolor": "white",
            "gridwidth": 2,
            "linecolor": "white",
            "showbackground": true,
            "ticks": "",
            "zerolinecolor": "white"
           },
           "yaxis": {
            "backgroundcolor": "#E5ECF6",
            "gridcolor": "white",
            "gridwidth": 2,
            "linecolor": "white",
            "showbackground": true,
            "ticks": "",
            "zerolinecolor": "white"
           },
           "zaxis": {
            "backgroundcolor": "#E5ECF6",
            "gridcolor": "white",
            "gridwidth": 2,
            "linecolor": "white",
            "showbackground": true,
            "ticks": "",
            "zerolinecolor": "white"
           }
          },
          "shapedefaults": {
           "line": {
            "color": "#2a3f5f"
           }
          },
          "ternary": {
           "aaxis": {
            "gridcolor": "white",
            "linecolor": "white",
            "ticks": ""
           },
           "baxis": {
            "gridcolor": "white",
            "linecolor": "white",
            "ticks": ""
           },
           "bgcolor": "#E5ECF6",
           "caxis": {
            "gridcolor": "white",
            "linecolor": "white",
            "ticks": ""
           }
          },
          "title": {
           "x": 0.05
          },
          "xaxis": {
           "automargin": true,
           "gridcolor": "white",
           "linecolor": "white",
           "ticks": "",
           "title": {
            "standoff": 15
           },
           "zerolinecolor": "white",
           "zerolinewidth": 2
          },
          "yaxis": {
           "automargin": true,
           "gridcolor": "white",
           "linecolor": "white",
           "ticks": "",
           "title": {
            "standoff": 15
           },
           "zerolinecolor": "white",
           "zerolinewidth": 2
          }
         }
        },
        "width": 600,
        "xaxis": {
         "title": {
          "text": "epoch"
         }
        },
        "yaxis": {
         "type": "log"
        }
       }
      },
      "text/html": [
       "<div>\n",
       "        \n",
       "        \n",
       "            <div id=\"e7bc61e0-04ca-4abb-8504-ef80fd5b5af2\" class=\"plotly-graph-div\" style=\"height:400px; width:600px;\"></div>\n",
       "            <script type=\"text/javascript\">\n",
       "                require([\"plotly\"], function(Plotly) {\n",
       "                    window.PLOTLYENV=window.PLOTLYENV || {};\n",
       "                    \n",
       "                if (document.getElementById(\"e7bc61e0-04ca-4abb-8504-ef80fd5b5af2\")) {\n",
       "                    Plotly.newPlot(\n",
       "                        'e7bc61e0-04ca-4abb-8504-ef80fd5b5af2',\n",
       "                        [{\"name\": \"loss\", \"type\": \"scatter\", \"y\": [1.0290521841172164, 0.48279645022779727, 0.24441387906280262, 0.1361849855906004, 0.09584942165206739, 0.08458976125525973, 0.08200301808506943, 0.08143936073731077, 0.08130692392999203, 0.08126412186408755]}, {\"name\": \"error training\", \"type\": \"scatter\", \"y\": [1.0290521383285522, 0.48279646039009094, 0.24441388249397278, 0.13618499040603638, 0.0958494246006012, 0.08458976447582245, 0.08200301975011826, 0.08143936097621918, 0.08130692690610886, 0.08126412332057953]}, {\"name\": \"error validation\", \"type\": \"scatter\", \"y\": [0.43289998173713684, 0.20358732342720032, 0.09209533035755157, 0.04336268827319145, 0.029598355293273926, 0.02934989146888256, 0.030772754922509193, 0.031673863530159, 0.032103586941957474, 0.032276369631290436]}],\n",
       "                        {\"height\": 400, \"template\": {\"data\": {\"bar\": [{\"error_x\": {\"color\": \"#2a3f5f\"}, \"error_y\": {\"color\": \"#2a3f5f\"}, \"marker\": {\"line\": {\"color\": \"#E5ECF6\", \"width\": 0.5}}, \"type\": \"bar\"}], \"barpolar\": [{\"marker\": {\"line\": {\"color\": \"#E5ECF6\", \"width\": 0.5}}, \"type\": \"barpolar\"}], \"carpet\": [{\"aaxis\": {\"endlinecolor\": \"#2a3f5f\", \"gridcolor\": \"white\", \"linecolor\": \"white\", \"minorgridcolor\": \"white\", \"startlinecolor\": \"#2a3f5f\"}, \"baxis\": {\"endlinecolor\": \"#2a3f5f\", \"gridcolor\": \"white\", \"linecolor\": \"white\", \"minorgridcolor\": \"white\", \"startlinecolor\": \"#2a3f5f\"}, \"type\": \"carpet\"}], \"choropleth\": [{\"colorbar\": {\"outlinewidth\": 0, \"ticks\": \"\"}, \"type\": \"choropleth\"}], \"contour\": [{\"colorbar\": {\"outlinewidth\": 0, \"ticks\": \"\"}, \"colorscale\": [[0.0, \"#0d0887\"], [0.1111111111111111, \"#46039f\"], [0.2222222222222222, \"#7201a8\"], [0.3333333333333333, \"#9c179e\"], [0.4444444444444444, \"#bd3786\"], [0.5555555555555556, \"#d8576b\"], [0.6666666666666666, \"#ed7953\"], [0.7777777777777778, \"#fb9f3a\"], [0.8888888888888888, \"#fdca26\"], [1.0, \"#f0f921\"]], \"type\": \"contour\"}], \"contourcarpet\": [{\"colorbar\": {\"outlinewidth\": 0, \"ticks\": \"\"}, \"type\": \"contourcarpet\"}], \"heatmap\": [{\"colorbar\": {\"outlinewidth\": 0, \"ticks\": \"\"}, \"colorscale\": [[0.0, \"#0d0887\"], [0.1111111111111111, \"#46039f\"], [0.2222222222222222, \"#7201a8\"], [0.3333333333333333, \"#9c179e\"], [0.4444444444444444, \"#bd3786\"], [0.5555555555555556, \"#d8576b\"], [0.6666666666666666, \"#ed7953\"], [0.7777777777777778, \"#fb9f3a\"], [0.8888888888888888, \"#fdca26\"], [1.0, \"#f0f921\"]], \"type\": \"heatmap\"}], \"heatmapgl\": [{\"colorbar\": {\"outlinewidth\": 0, \"ticks\": \"\"}, \"colorscale\": [[0.0, \"#0d0887\"], [0.1111111111111111, \"#46039f\"], [0.2222222222222222, \"#7201a8\"], [0.3333333333333333, \"#9c179e\"], [0.4444444444444444, \"#bd3786\"], [0.5555555555555556, \"#d8576b\"], [0.6666666666666666, \"#ed7953\"], [0.7777777777777778, \"#fb9f3a\"], [0.8888888888888888, \"#fdca26\"], [1.0, \"#f0f921\"]], \"type\": \"heatmapgl\"}], \"histogram\": [{\"marker\": {\"colorbar\": {\"outlinewidth\": 0, \"ticks\": \"\"}}, \"type\": \"histogram\"}], \"histogram2d\": [{\"colorbar\": {\"outlinewidth\": 0, \"ticks\": \"\"}, \"colorscale\": [[0.0, \"#0d0887\"], [0.1111111111111111, \"#46039f\"], [0.2222222222222222, \"#7201a8\"], [0.3333333333333333, \"#9c179e\"], [0.4444444444444444, \"#bd3786\"], [0.5555555555555556, \"#d8576b\"], [0.6666666666666666, \"#ed7953\"], [0.7777777777777778, \"#fb9f3a\"], [0.8888888888888888, \"#fdca26\"], [1.0, \"#f0f921\"]], \"type\": \"histogram2d\"}], \"histogram2dcontour\": [{\"colorbar\": {\"outlinewidth\": 0, \"ticks\": \"\"}, \"colorscale\": [[0.0, \"#0d0887\"], [0.1111111111111111, \"#46039f\"], [0.2222222222222222, \"#7201a8\"], [0.3333333333333333, \"#9c179e\"], [0.4444444444444444, \"#bd3786\"], [0.5555555555555556, \"#d8576b\"], [0.6666666666666666, \"#ed7953\"], [0.7777777777777778, \"#fb9f3a\"], [0.8888888888888888, \"#fdca26\"], [1.0, \"#f0f921\"]], \"type\": \"histogram2dcontour\"}], \"mesh3d\": [{\"colorbar\": {\"outlinewidth\": 0, \"ticks\": \"\"}, \"type\": \"mesh3d\"}], \"parcoords\": [{\"line\": {\"colorbar\": {\"outlinewidth\": 0, \"ticks\": \"\"}}, \"type\": \"parcoords\"}], \"pie\": [{\"automargin\": true, \"type\": \"pie\"}], \"scatter\": [{\"marker\": {\"colorbar\": {\"outlinewidth\": 0, \"ticks\": \"\"}}, \"type\": \"scatter\"}], \"scatter3d\": [{\"line\": {\"colorbar\": {\"outlinewidth\": 0, \"ticks\": \"\"}}, \"marker\": {\"colorbar\": {\"outlinewidth\": 0, \"ticks\": \"\"}}, \"type\": \"scatter3d\"}], \"scattercarpet\": [{\"marker\": {\"colorbar\": {\"outlinewidth\": 0, \"ticks\": \"\"}}, \"type\": \"scattercarpet\"}], \"scattergeo\": [{\"marker\": {\"colorbar\": {\"outlinewidth\": 0, \"ticks\": \"\"}}, \"type\": \"scattergeo\"}], \"scattergl\": [{\"marker\": {\"colorbar\": {\"outlinewidth\": 0, \"ticks\": \"\"}}, \"type\": \"scattergl\"}], \"scattermapbox\": [{\"marker\": {\"colorbar\": {\"outlinewidth\": 0, \"ticks\": \"\"}}, \"type\": \"scattermapbox\"}], \"scatterpolar\": [{\"marker\": {\"colorbar\": {\"outlinewidth\": 0, \"ticks\": \"\"}}, \"type\": \"scatterpolar\"}], \"scatterpolargl\": [{\"marker\": {\"colorbar\": {\"outlinewidth\": 0, \"ticks\": \"\"}}, \"type\": \"scatterpolargl\"}], \"scatterternary\": [{\"marker\": {\"colorbar\": {\"outlinewidth\": 0, \"ticks\": \"\"}}, \"type\": \"scatterternary\"}], \"surface\": [{\"colorbar\": {\"outlinewidth\": 0, \"ticks\": \"\"}, \"colorscale\": [[0.0, \"#0d0887\"], [0.1111111111111111, \"#46039f\"], [0.2222222222222222, \"#7201a8\"], [0.3333333333333333, \"#9c179e\"], [0.4444444444444444, \"#bd3786\"], [0.5555555555555556, \"#d8576b\"], [0.6666666666666666, \"#ed7953\"], [0.7777777777777778, \"#fb9f3a\"], [0.8888888888888888, \"#fdca26\"], [1.0, \"#f0f921\"]], \"type\": \"surface\"}], \"table\": [{\"cells\": {\"fill\": {\"color\": \"#EBF0F8\"}, \"line\": {\"color\": \"white\"}}, \"header\": {\"fill\": {\"color\": \"#C8D4E3\"}, \"line\": {\"color\": \"white\"}}, \"type\": \"table\"}]}, \"layout\": {\"annotationdefaults\": {\"arrowcolor\": \"#2a3f5f\", \"arrowhead\": 0, \"arrowwidth\": 1}, \"coloraxis\": {\"colorbar\": {\"outlinewidth\": 0, \"ticks\": \"\"}}, \"colorscale\": {\"diverging\": [[0, \"#8e0152\"], [0.1, \"#c51b7d\"], [0.2, \"#de77ae\"], [0.3, \"#f1b6da\"], [0.4, \"#fde0ef\"], [0.5, \"#f7f7f7\"], [0.6, \"#e6f5d0\"], [0.7, \"#b8e186\"], [0.8, \"#7fbc41\"], [0.9, \"#4d9221\"], [1, \"#276419\"]], \"sequential\": [[0.0, \"#0d0887\"], [0.1111111111111111, \"#46039f\"], [0.2222222222222222, \"#7201a8\"], [0.3333333333333333, \"#9c179e\"], [0.4444444444444444, \"#bd3786\"], [0.5555555555555556, \"#d8576b\"], [0.6666666666666666, \"#ed7953\"], [0.7777777777777778, \"#fb9f3a\"], [0.8888888888888888, \"#fdca26\"], [1.0, \"#f0f921\"]], \"sequentialminus\": [[0.0, \"#0d0887\"], [0.1111111111111111, \"#46039f\"], [0.2222222222222222, \"#7201a8\"], [0.3333333333333333, \"#9c179e\"], [0.4444444444444444, \"#bd3786\"], [0.5555555555555556, \"#d8576b\"], [0.6666666666666666, \"#ed7953\"], [0.7777777777777778, \"#fb9f3a\"], [0.8888888888888888, \"#fdca26\"], [1.0, \"#f0f921\"]]}, \"colorway\": [\"#636efa\", \"#EF553B\", \"#00cc96\", \"#ab63fa\", \"#FFA15A\", \"#19d3f3\", \"#FF6692\", \"#B6E880\", \"#FF97FF\", \"#FECB52\"], \"font\": {\"color\": \"#2a3f5f\"}, \"geo\": {\"bgcolor\": \"white\", \"lakecolor\": \"white\", \"landcolor\": \"#E5ECF6\", \"showlakes\": true, \"showland\": true, \"subunitcolor\": \"white\"}, \"hoverlabel\": {\"align\": \"left\"}, \"hovermode\": \"closest\", \"mapbox\": {\"style\": \"light\"}, \"paper_bgcolor\": \"white\", \"plot_bgcolor\": \"#E5ECF6\", \"polar\": {\"angularaxis\": {\"gridcolor\": \"white\", \"linecolor\": \"white\", \"ticks\": \"\"}, \"bgcolor\": \"#E5ECF6\", \"radialaxis\": {\"gridcolor\": \"white\", \"linecolor\": \"white\", \"ticks\": \"\"}}, \"scene\": {\"xaxis\": {\"backgroundcolor\": \"#E5ECF6\", \"gridcolor\": \"white\", \"gridwidth\": 2, \"linecolor\": \"white\", \"showbackground\": true, \"ticks\": \"\", \"zerolinecolor\": \"white\"}, \"yaxis\": {\"backgroundcolor\": \"#E5ECF6\", \"gridcolor\": \"white\", \"gridwidth\": 2, \"linecolor\": \"white\", \"showbackground\": true, \"ticks\": \"\", \"zerolinecolor\": \"white\"}, \"zaxis\": {\"backgroundcolor\": \"#E5ECF6\", \"gridcolor\": \"white\", \"gridwidth\": 2, \"linecolor\": \"white\", \"showbackground\": true, \"ticks\": \"\", \"zerolinecolor\": \"white\"}}, \"shapedefaults\": {\"line\": {\"color\": \"#2a3f5f\"}}, \"ternary\": {\"aaxis\": {\"gridcolor\": \"white\", \"linecolor\": \"white\", \"ticks\": \"\"}, \"baxis\": {\"gridcolor\": \"white\", \"linecolor\": \"white\", \"ticks\": \"\"}, \"bgcolor\": \"#E5ECF6\", \"caxis\": {\"gridcolor\": \"white\", \"linecolor\": \"white\", \"ticks\": \"\"}}, \"title\": {\"x\": 0.05}, \"xaxis\": {\"automargin\": true, \"gridcolor\": \"white\", \"linecolor\": \"white\", \"ticks\": \"\", \"title\": {\"standoff\": 15}, \"zerolinecolor\": \"white\", \"zerolinewidth\": 2}, \"yaxis\": {\"automargin\": true, \"gridcolor\": \"white\", \"linecolor\": \"white\", \"ticks\": \"\", \"title\": {\"standoff\": 15}, \"zerolinecolor\": \"white\", \"zerolinewidth\": 2}}}, \"width\": 600, \"xaxis\": {\"title\": {\"text\": \"epoch\"}}, \"yaxis\": {\"type\": \"log\"}},\n",
       "                        {\"responsive\": true}\n",
       "                    ).then(function(){\n",
       "                            \n",
       "var gd = document.getElementById('e7bc61e0-04ca-4abb-8504-ef80fd5b5af2');\n",
       "var x = new MutationObserver(function (mutations, observer) {{\n",
       "        var display = window.getComputedStyle(gd).display;\n",
       "        if (!display || display === 'none') {{\n",
       "            console.log([gd, 'removed!']);\n",
       "            Plotly.purge(gd);\n",
       "            observer.disconnect();\n",
       "        }}\n",
       "}});\n",
       "\n",
       "// Listen for the removal of the full notebook cells\n",
       "var notebookContainer = gd.closest('#notebook-container');\n",
       "if (notebookContainer) {{\n",
       "    x.observe(notebookContainer, {childList: true});\n",
       "}}\n",
       "\n",
       "// Listen for the clearing of the current output cell\n",
       "var outputEl = gd.closest('.output');\n",
       "if (outputEl) {{\n",
       "    x.observe(outputEl, {childList: true});\n",
       "}}\n",
       "\n",
       "                        })\n",
       "                };\n",
       "                });\n",
       "            </script>\n",
       "        </div>"
      ]
     },
     "metadata": {},
     "output_type": "display_data"
    },
    {
     "data": {
      "application/vnd.plotly.v1+json": {
       "config": {
        "plotlyServerURL": "https://plot.ly"
       },
       "data": [
        {
         "type": "scatter",
         "y": [
          0.18,
          0.18,
          0.18,
          0.18,
          0.18,
          0.18,
          0.18,
          0.18,
          0.18,
          0.18
         ]
        }
       ],
       "layout": {
        "height": 400,
        "template": {
         "data": {
          "bar": [
           {
            "error_x": {
             "color": "#2a3f5f"
            },
            "error_y": {
             "color": "#2a3f5f"
            },
            "marker": {
             "line": {
              "color": "#E5ECF6",
              "width": 0.5
             }
            },
            "type": "bar"
           }
          ],
          "barpolar": [
           {
            "marker": {
             "line": {
              "color": "#E5ECF6",
              "width": 0.5
             }
            },
            "type": "barpolar"
           }
          ],
          "carpet": [
           {
            "aaxis": {
             "endlinecolor": "#2a3f5f",
             "gridcolor": "white",
             "linecolor": "white",
             "minorgridcolor": "white",
             "startlinecolor": "#2a3f5f"
            },
            "baxis": {
             "endlinecolor": "#2a3f5f",
             "gridcolor": "white",
             "linecolor": "white",
             "minorgridcolor": "white",
             "startlinecolor": "#2a3f5f"
            },
            "type": "carpet"
           }
          ],
          "choropleth": [
           {
            "colorbar": {
             "outlinewidth": 0,
             "ticks": ""
            },
            "type": "choropleth"
           }
          ],
          "contour": [
           {
            "colorbar": {
             "outlinewidth": 0,
             "ticks": ""
            },
            "colorscale": [
             [
              0,
              "#0d0887"
             ],
             [
              0.1111111111111111,
              "#46039f"
             ],
             [
              0.2222222222222222,
              "#7201a8"
             ],
             [
              0.3333333333333333,
              "#9c179e"
             ],
             [
              0.4444444444444444,
              "#bd3786"
             ],
             [
              0.5555555555555556,
              "#d8576b"
             ],
             [
              0.6666666666666666,
              "#ed7953"
             ],
             [
              0.7777777777777778,
              "#fb9f3a"
             ],
             [
              0.8888888888888888,
              "#fdca26"
             ],
             [
              1,
              "#f0f921"
             ]
            ],
            "type": "contour"
           }
          ],
          "contourcarpet": [
           {
            "colorbar": {
             "outlinewidth": 0,
             "ticks": ""
            },
            "type": "contourcarpet"
           }
          ],
          "heatmap": [
           {
            "colorbar": {
             "outlinewidth": 0,
             "ticks": ""
            },
            "colorscale": [
             [
              0,
              "#0d0887"
             ],
             [
              0.1111111111111111,
              "#46039f"
             ],
             [
              0.2222222222222222,
              "#7201a8"
             ],
             [
              0.3333333333333333,
              "#9c179e"
             ],
             [
              0.4444444444444444,
              "#bd3786"
             ],
             [
              0.5555555555555556,
              "#d8576b"
             ],
             [
              0.6666666666666666,
              "#ed7953"
             ],
             [
              0.7777777777777778,
              "#fb9f3a"
             ],
             [
              0.8888888888888888,
              "#fdca26"
             ],
             [
              1,
              "#f0f921"
             ]
            ],
            "type": "heatmap"
           }
          ],
          "heatmapgl": [
           {
            "colorbar": {
             "outlinewidth": 0,
             "ticks": ""
            },
            "colorscale": [
             [
              0,
              "#0d0887"
             ],
             [
              0.1111111111111111,
              "#46039f"
             ],
             [
              0.2222222222222222,
              "#7201a8"
             ],
             [
              0.3333333333333333,
              "#9c179e"
             ],
             [
              0.4444444444444444,
              "#bd3786"
             ],
             [
              0.5555555555555556,
              "#d8576b"
             ],
             [
              0.6666666666666666,
              "#ed7953"
             ],
             [
              0.7777777777777778,
              "#fb9f3a"
             ],
             [
              0.8888888888888888,
              "#fdca26"
             ],
             [
              1,
              "#f0f921"
             ]
            ],
            "type": "heatmapgl"
           }
          ],
          "histogram": [
           {
            "marker": {
             "colorbar": {
              "outlinewidth": 0,
              "ticks": ""
             }
            },
            "type": "histogram"
           }
          ],
          "histogram2d": [
           {
            "colorbar": {
             "outlinewidth": 0,
             "ticks": ""
            },
            "colorscale": [
             [
              0,
              "#0d0887"
             ],
             [
              0.1111111111111111,
              "#46039f"
             ],
             [
              0.2222222222222222,
              "#7201a8"
             ],
             [
              0.3333333333333333,
              "#9c179e"
             ],
             [
              0.4444444444444444,
              "#bd3786"
             ],
             [
              0.5555555555555556,
              "#d8576b"
             ],
             [
              0.6666666666666666,
              "#ed7953"
             ],
             [
              0.7777777777777778,
              "#fb9f3a"
             ],
             [
              0.8888888888888888,
              "#fdca26"
             ],
             [
              1,
              "#f0f921"
             ]
            ],
            "type": "histogram2d"
           }
          ],
          "histogram2dcontour": [
           {
            "colorbar": {
             "outlinewidth": 0,
             "ticks": ""
            },
            "colorscale": [
             [
              0,
              "#0d0887"
             ],
             [
              0.1111111111111111,
              "#46039f"
             ],
             [
              0.2222222222222222,
              "#7201a8"
             ],
             [
              0.3333333333333333,
              "#9c179e"
             ],
             [
              0.4444444444444444,
              "#bd3786"
             ],
             [
              0.5555555555555556,
              "#d8576b"
             ],
             [
              0.6666666666666666,
              "#ed7953"
             ],
             [
              0.7777777777777778,
              "#fb9f3a"
             ],
             [
              0.8888888888888888,
              "#fdca26"
             ],
             [
              1,
              "#f0f921"
             ]
            ],
            "type": "histogram2dcontour"
           }
          ],
          "mesh3d": [
           {
            "colorbar": {
             "outlinewidth": 0,
             "ticks": ""
            },
            "type": "mesh3d"
           }
          ],
          "parcoords": [
           {
            "line": {
             "colorbar": {
              "outlinewidth": 0,
              "ticks": ""
             }
            },
            "type": "parcoords"
           }
          ],
          "pie": [
           {
            "automargin": true,
            "type": "pie"
           }
          ],
          "scatter": [
           {
            "marker": {
             "colorbar": {
              "outlinewidth": 0,
              "ticks": ""
             }
            },
            "type": "scatter"
           }
          ],
          "scatter3d": [
           {
            "line": {
             "colorbar": {
              "outlinewidth": 0,
              "ticks": ""
             }
            },
            "marker": {
             "colorbar": {
              "outlinewidth": 0,
              "ticks": ""
             }
            },
            "type": "scatter3d"
           }
          ],
          "scattercarpet": [
           {
            "marker": {
             "colorbar": {
              "outlinewidth": 0,
              "ticks": ""
             }
            },
            "type": "scattercarpet"
           }
          ],
          "scattergeo": [
           {
            "marker": {
             "colorbar": {
              "outlinewidth": 0,
              "ticks": ""
             }
            },
            "type": "scattergeo"
           }
          ],
          "scattergl": [
           {
            "marker": {
             "colorbar": {
              "outlinewidth": 0,
              "ticks": ""
             }
            },
            "type": "scattergl"
           }
          ],
          "scattermapbox": [
           {
            "marker": {
             "colorbar": {
              "outlinewidth": 0,
              "ticks": ""
             }
            },
            "type": "scattermapbox"
           }
          ],
          "scatterpolar": [
           {
            "marker": {
             "colorbar": {
              "outlinewidth": 0,
              "ticks": ""
             }
            },
            "type": "scatterpolar"
           }
          ],
          "scatterpolargl": [
           {
            "marker": {
             "colorbar": {
              "outlinewidth": 0,
              "ticks": ""
             }
            },
            "type": "scatterpolargl"
           }
          ],
          "scatterternary": [
           {
            "marker": {
             "colorbar": {
              "outlinewidth": 0,
              "ticks": ""
             }
            },
            "type": "scatterternary"
           }
          ],
          "surface": [
           {
            "colorbar": {
             "outlinewidth": 0,
             "ticks": ""
            },
            "colorscale": [
             [
              0,
              "#0d0887"
             ],
             [
              0.1111111111111111,
              "#46039f"
             ],
             [
              0.2222222222222222,
              "#7201a8"
             ],
             [
              0.3333333333333333,
              "#9c179e"
             ],
             [
              0.4444444444444444,
              "#bd3786"
             ],
             [
              0.5555555555555556,
              "#d8576b"
             ],
             [
              0.6666666666666666,
              "#ed7953"
             ],
             [
              0.7777777777777778,
              "#fb9f3a"
             ],
             [
              0.8888888888888888,
              "#fdca26"
             ],
             [
              1,
              "#f0f921"
             ]
            ],
            "type": "surface"
           }
          ],
          "table": [
           {
            "cells": {
             "fill": {
              "color": "#EBF0F8"
             },
             "line": {
              "color": "white"
             }
            },
            "header": {
             "fill": {
              "color": "#C8D4E3"
             },
             "line": {
              "color": "white"
             }
            },
            "type": "table"
           }
          ]
         },
         "layout": {
          "annotationdefaults": {
           "arrowcolor": "#2a3f5f",
           "arrowhead": 0,
           "arrowwidth": 1
          },
          "coloraxis": {
           "colorbar": {
            "outlinewidth": 0,
            "ticks": ""
           }
          },
          "colorscale": {
           "diverging": [
            [
             0,
             "#8e0152"
            ],
            [
             0.1,
             "#c51b7d"
            ],
            [
             0.2,
             "#de77ae"
            ],
            [
             0.3,
             "#f1b6da"
            ],
            [
             0.4,
             "#fde0ef"
            ],
            [
             0.5,
             "#f7f7f7"
            ],
            [
             0.6,
             "#e6f5d0"
            ],
            [
             0.7,
             "#b8e186"
            ],
            [
             0.8,
             "#7fbc41"
            ],
            [
             0.9,
             "#4d9221"
            ],
            [
             1,
             "#276419"
            ]
           ],
           "sequential": [
            [
             0,
             "#0d0887"
            ],
            [
             0.1111111111111111,
             "#46039f"
            ],
            [
             0.2222222222222222,
             "#7201a8"
            ],
            [
             0.3333333333333333,
             "#9c179e"
            ],
            [
             0.4444444444444444,
             "#bd3786"
            ],
            [
             0.5555555555555556,
             "#d8576b"
            ],
            [
             0.6666666666666666,
             "#ed7953"
            ],
            [
             0.7777777777777778,
             "#fb9f3a"
            ],
            [
             0.8888888888888888,
             "#fdca26"
            ],
            [
             1,
             "#f0f921"
            ]
           ],
           "sequentialminus": [
            [
             0,
             "#0d0887"
            ],
            [
             0.1111111111111111,
             "#46039f"
            ],
            [
             0.2222222222222222,
             "#7201a8"
            ],
            [
             0.3333333333333333,
             "#9c179e"
            ],
            [
             0.4444444444444444,
             "#bd3786"
            ],
            [
             0.5555555555555556,
             "#d8576b"
            ],
            [
             0.6666666666666666,
             "#ed7953"
            ],
            [
             0.7777777777777778,
             "#fb9f3a"
            ],
            [
             0.8888888888888888,
             "#fdca26"
            ],
            [
             1,
             "#f0f921"
            ]
           ]
          },
          "colorway": [
           "#636efa",
           "#EF553B",
           "#00cc96",
           "#ab63fa",
           "#FFA15A",
           "#19d3f3",
           "#FF6692",
           "#B6E880",
           "#FF97FF",
           "#FECB52"
          ],
          "font": {
           "color": "#2a3f5f"
          },
          "geo": {
           "bgcolor": "white",
           "lakecolor": "white",
           "landcolor": "#E5ECF6",
           "showlakes": true,
           "showland": true,
           "subunitcolor": "white"
          },
          "hoverlabel": {
           "align": "left"
          },
          "hovermode": "closest",
          "mapbox": {
           "style": "light"
          },
          "paper_bgcolor": "white",
          "plot_bgcolor": "#E5ECF6",
          "polar": {
           "angularaxis": {
            "gridcolor": "white",
            "linecolor": "white",
            "ticks": ""
           },
           "bgcolor": "#E5ECF6",
           "radialaxis": {
            "gridcolor": "white",
            "linecolor": "white",
            "ticks": ""
           }
          },
          "scene": {
           "xaxis": {
            "backgroundcolor": "#E5ECF6",
            "gridcolor": "white",
            "gridwidth": 2,
            "linecolor": "white",
            "showbackground": true,
            "ticks": "",
            "zerolinecolor": "white"
           },
           "yaxis": {
            "backgroundcolor": "#E5ECF6",
            "gridcolor": "white",
            "gridwidth": 2,
            "linecolor": "white",
            "showbackground": true,
            "ticks": "",
            "zerolinecolor": "white"
           },
           "zaxis": {
            "backgroundcolor": "#E5ECF6",
            "gridcolor": "white",
            "gridwidth": 2,
            "linecolor": "white",
            "showbackground": true,
            "ticks": "",
            "zerolinecolor": "white"
           }
          },
          "shapedefaults": {
           "line": {
            "color": "#2a3f5f"
           }
          },
          "ternary": {
           "aaxis": {
            "gridcolor": "white",
            "linecolor": "white",
            "ticks": ""
           },
           "baxis": {
            "gridcolor": "white",
            "linecolor": "white",
            "ticks": ""
           },
           "bgcolor": "#E5ECF6",
           "caxis": {
            "gridcolor": "white",
            "linecolor": "white",
            "ticks": ""
           }
          },
          "title": {
           "x": 0.05
          },
          "xaxis": {
           "automargin": true,
           "gridcolor": "white",
           "linecolor": "white",
           "ticks": "",
           "title": {
            "standoff": 15
           },
           "zerolinecolor": "white",
           "zerolinewidth": 2
          },
          "yaxis": {
           "automargin": true,
           "gridcolor": "white",
           "linecolor": "white",
           "ticks": "",
           "title": {
            "standoff": 15
           },
           "zerolinecolor": "white",
           "zerolinewidth": 2
          }
         }
        },
        "width": 550,
        "xaxis": {
         "title": {
          "text": "epoch"
         }
        },
        "yaxis": {
         "title": {
          "text": "learning rate"
         },
         "type": "log"
        }
       }
      },
      "text/html": [
       "<div>\n",
       "        \n",
       "        \n",
       "            <div id=\"27bdcb42-a33f-4ed2-bb08-e39c68c34f41\" class=\"plotly-graph-div\" style=\"height:400px; width:550px;\"></div>\n",
       "            <script type=\"text/javascript\">\n",
       "                require([\"plotly\"], function(Plotly) {\n",
       "                    window.PLOTLYENV=window.PLOTLYENV || {};\n",
       "                    \n",
       "                if (document.getElementById(\"27bdcb42-a33f-4ed2-bb08-e39c68c34f41\")) {\n",
       "                    Plotly.newPlot(\n",
       "                        '27bdcb42-a33f-4ed2-bb08-e39c68c34f41',\n",
       "                        [{\"type\": \"scatter\", \"y\": [0.18, 0.18, 0.18, 0.18, 0.18, 0.18, 0.18, 0.18, 0.18, 0.18]}],\n",
       "                        {\"height\": 400, \"template\": {\"data\": {\"bar\": [{\"error_x\": {\"color\": \"#2a3f5f\"}, \"error_y\": {\"color\": \"#2a3f5f\"}, \"marker\": {\"line\": {\"color\": \"#E5ECF6\", \"width\": 0.5}}, \"type\": \"bar\"}], \"barpolar\": [{\"marker\": {\"line\": {\"color\": \"#E5ECF6\", \"width\": 0.5}}, \"type\": \"barpolar\"}], \"carpet\": [{\"aaxis\": {\"endlinecolor\": \"#2a3f5f\", \"gridcolor\": \"white\", \"linecolor\": \"white\", \"minorgridcolor\": \"white\", \"startlinecolor\": \"#2a3f5f\"}, \"baxis\": {\"endlinecolor\": \"#2a3f5f\", \"gridcolor\": \"white\", \"linecolor\": \"white\", \"minorgridcolor\": \"white\", \"startlinecolor\": \"#2a3f5f\"}, \"type\": \"carpet\"}], \"choropleth\": [{\"colorbar\": {\"outlinewidth\": 0, \"ticks\": \"\"}, \"type\": \"choropleth\"}], \"contour\": [{\"colorbar\": {\"outlinewidth\": 0, \"ticks\": \"\"}, \"colorscale\": [[0.0, \"#0d0887\"], [0.1111111111111111, \"#46039f\"], [0.2222222222222222, \"#7201a8\"], [0.3333333333333333, \"#9c179e\"], [0.4444444444444444, \"#bd3786\"], [0.5555555555555556, \"#d8576b\"], [0.6666666666666666, \"#ed7953\"], [0.7777777777777778, \"#fb9f3a\"], [0.8888888888888888, \"#fdca26\"], [1.0, \"#f0f921\"]], \"type\": \"contour\"}], \"contourcarpet\": [{\"colorbar\": {\"outlinewidth\": 0, \"ticks\": \"\"}, \"type\": \"contourcarpet\"}], \"heatmap\": [{\"colorbar\": {\"outlinewidth\": 0, \"ticks\": \"\"}, \"colorscale\": [[0.0, \"#0d0887\"], [0.1111111111111111, \"#46039f\"], [0.2222222222222222, \"#7201a8\"], [0.3333333333333333, \"#9c179e\"], [0.4444444444444444, \"#bd3786\"], [0.5555555555555556, \"#d8576b\"], [0.6666666666666666, \"#ed7953\"], [0.7777777777777778, \"#fb9f3a\"], [0.8888888888888888, \"#fdca26\"], [1.0, \"#f0f921\"]], \"type\": \"heatmap\"}], \"heatmapgl\": [{\"colorbar\": {\"outlinewidth\": 0, \"ticks\": \"\"}, \"colorscale\": [[0.0, \"#0d0887\"], [0.1111111111111111, \"#46039f\"], [0.2222222222222222, \"#7201a8\"], [0.3333333333333333, \"#9c179e\"], [0.4444444444444444, \"#bd3786\"], [0.5555555555555556, \"#d8576b\"], [0.6666666666666666, \"#ed7953\"], [0.7777777777777778, \"#fb9f3a\"], [0.8888888888888888, \"#fdca26\"], [1.0, \"#f0f921\"]], \"type\": \"heatmapgl\"}], \"histogram\": [{\"marker\": {\"colorbar\": {\"outlinewidth\": 0, \"ticks\": \"\"}}, \"type\": \"histogram\"}], \"histogram2d\": [{\"colorbar\": {\"outlinewidth\": 0, \"ticks\": \"\"}, \"colorscale\": [[0.0, \"#0d0887\"], [0.1111111111111111, \"#46039f\"], [0.2222222222222222, \"#7201a8\"], [0.3333333333333333, \"#9c179e\"], [0.4444444444444444, \"#bd3786\"], [0.5555555555555556, \"#d8576b\"], [0.6666666666666666, \"#ed7953\"], [0.7777777777777778, \"#fb9f3a\"], [0.8888888888888888, \"#fdca26\"], [1.0, \"#f0f921\"]], \"type\": \"histogram2d\"}], \"histogram2dcontour\": [{\"colorbar\": {\"outlinewidth\": 0, \"ticks\": \"\"}, \"colorscale\": [[0.0, \"#0d0887\"], [0.1111111111111111, \"#46039f\"], [0.2222222222222222, \"#7201a8\"], [0.3333333333333333, \"#9c179e\"], [0.4444444444444444, \"#bd3786\"], [0.5555555555555556, \"#d8576b\"], [0.6666666666666666, \"#ed7953\"], [0.7777777777777778, \"#fb9f3a\"], [0.8888888888888888, \"#fdca26\"], [1.0, \"#f0f921\"]], \"type\": \"histogram2dcontour\"}], \"mesh3d\": [{\"colorbar\": {\"outlinewidth\": 0, \"ticks\": \"\"}, \"type\": \"mesh3d\"}], \"parcoords\": [{\"line\": {\"colorbar\": {\"outlinewidth\": 0, \"ticks\": \"\"}}, \"type\": \"parcoords\"}], \"pie\": [{\"automargin\": true, \"type\": \"pie\"}], \"scatter\": [{\"marker\": {\"colorbar\": {\"outlinewidth\": 0, \"ticks\": \"\"}}, \"type\": \"scatter\"}], \"scatter3d\": [{\"line\": {\"colorbar\": {\"outlinewidth\": 0, \"ticks\": \"\"}}, \"marker\": {\"colorbar\": {\"outlinewidth\": 0, \"ticks\": \"\"}}, \"type\": \"scatter3d\"}], \"scattercarpet\": [{\"marker\": {\"colorbar\": {\"outlinewidth\": 0, \"ticks\": \"\"}}, \"type\": \"scattercarpet\"}], \"scattergeo\": [{\"marker\": {\"colorbar\": {\"outlinewidth\": 0, \"ticks\": \"\"}}, \"type\": \"scattergeo\"}], \"scattergl\": [{\"marker\": {\"colorbar\": {\"outlinewidth\": 0, \"ticks\": \"\"}}, \"type\": \"scattergl\"}], \"scattermapbox\": [{\"marker\": {\"colorbar\": {\"outlinewidth\": 0, \"ticks\": \"\"}}, \"type\": \"scattermapbox\"}], \"scatterpolar\": [{\"marker\": {\"colorbar\": {\"outlinewidth\": 0, \"ticks\": \"\"}}, \"type\": \"scatterpolar\"}], \"scatterpolargl\": [{\"marker\": {\"colorbar\": {\"outlinewidth\": 0, \"ticks\": \"\"}}, \"type\": \"scatterpolargl\"}], \"scatterternary\": [{\"marker\": {\"colorbar\": {\"outlinewidth\": 0, \"ticks\": \"\"}}, \"type\": \"scatterternary\"}], \"surface\": [{\"colorbar\": {\"outlinewidth\": 0, \"ticks\": \"\"}, \"colorscale\": [[0.0, \"#0d0887\"], [0.1111111111111111, \"#46039f\"], [0.2222222222222222, \"#7201a8\"], [0.3333333333333333, \"#9c179e\"], [0.4444444444444444, \"#bd3786\"], [0.5555555555555556, \"#d8576b\"], [0.6666666666666666, \"#ed7953\"], [0.7777777777777778, \"#fb9f3a\"], [0.8888888888888888, \"#fdca26\"], [1.0, \"#f0f921\"]], \"type\": \"surface\"}], \"table\": [{\"cells\": {\"fill\": {\"color\": \"#EBF0F8\"}, \"line\": {\"color\": \"white\"}}, \"header\": {\"fill\": {\"color\": \"#C8D4E3\"}, \"line\": {\"color\": \"white\"}}, \"type\": \"table\"}]}, \"layout\": {\"annotationdefaults\": {\"arrowcolor\": \"#2a3f5f\", \"arrowhead\": 0, \"arrowwidth\": 1}, \"coloraxis\": {\"colorbar\": {\"outlinewidth\": 0, \"ticks\": \"\"}}, \"colorscale\": {\"diverging\": [[0, \"#8e0152\"], [0.1, \"#c51b7d\"], [0.2, \"#de77ae\"], [0.3, \"#f1b6da\"], [0.4, \"#fde0ef\"], [0.5, \"#f7f7f7\"], [0.6, \"#e6f5d0\"], [0.7, \"#b8e186\"], [0.8, \"#7fbc41\"], [0.9, \"#4d9221\"], [1, \"#276419\"]], \"sequential\": [[0.0, \"#0d0887\"], [0.1111111111111111, \"#46039f\"], [0.2222222222222222, \"#7201a8\"], [0.3333333333333333, \"#9c179e\"], [0.4444444444444444, \"#bd3786\"], [0.5555555555555556, \"#d8576b\"], [0.6666666666666666, \"#ed7953\"], [0.7777777777777778, \"#fb9f3a\"], [0.8888888888888888, \"#fdca26\"], [1.0, \"#f0f921\"]], \"sequentialminus\": [[0.0, \"#0d0887\"], [0.1111111111111111, \"#46039f\"], [0.2222222222222222, \"#7201a8\"], [0.3333333333333333, \"#9c179e\"], [0.4444444444444444, \"#bd3786\"], [0.5555555555555556, \"#d8576b\"], [0.6666666666666666, \"#ed7953\"], [0.7777777777777778, \"#fb9f3a\"], [0.8888888888888888, \"#fdca26\"], [1.0, \"#f0f921\"]]}, \"colorway\": [\"#636efa\", \"#EF553B\", \"#00cc96\", \"#ab63fa\", \"#FFA15A\", \"#19d3f3\", \"#FF6692\", \"#B6E880\", \"#FF97FF\", \"#FECB52\"], \"font\": {\"color\": \"#2a3f5f\"}, \"geo\": {\"bgcolor\": \"white\", \"lakecolor\": \"white\", \"landcolor\": \"#E5ECF6\", \"showlakes\": true, \"showland\": true, \"subunitcolor\": \"white\"}, \"hoverlabel\": {\"align\": \"left\"}, \"hovermode\": \"closest\", \"mapbox\": {\"style\": \"light\"}, \"paper_bgcolor\": \"white\", \"plot_bgcolor\": \"#E5ECF6\", \"polar\": {\"angularaxis\": {\"gridcolor\": \"white\", \"linecolor\": \"white\", \"ticks\": \"\"}, \"bgcolor\": \"#E5ECF6\", \"radialaxis\": {\"gridcolor\": \"white\", \"linecolor\": \"white\", \"ticks\": \"\"}}, \"scene\": {\"xaxis\": {\"backgroundcolor\": \"#E5ECF6\", \"gridcolor\": \"white\", \"gridwidth\": 2, \"linecolor\": \"white\", \"showbackground\": true, \"ticks\": \"\", \"zerolinecolor\": \"white\"}, \"yaxis\": {\"backgroundcolor\": \"#E5ECF6\", \"gridcolor\": \"white\", \"gridwidth\": 2, \"linecolor\": \"white\", \"showbackground\": true, \"ticks\": \"\", \"zerolinecolor\": \"white\"}, \"zaxis\": {\"backgroundcolor\": \"#E5ECF6\", \"gridcolor\": \"white\", \"gridwidth\": 2, \"linecolor\": \"white\", \"showbackground\": true, \"ticks\": \"\", \"zerolinecolor\": \"white\"}}, \"shapedefaults\": {\"line\": {\"color\": \"#2a3f5f\"}}, \"ternary\": {\"aaxis\": {\"gridcolor\": \"white\", \"linecolor\": \"white\", \"ticks\": \"\"}, \"baxis\": {\"gridcolor\": \"white\", \"linecolor\": \"white\", \"ticks\": \"\"}, \"bgcolor\": \"#E5ECF6\", \"caxis\": {\"gridcolor\": \"white\", \"linecolor\": \"white\", \"ticks\": \"\"}}, \"title\": {\"x\": 0.05}, \"xaxis\": {\"automargin\": true, \"gridcolor\": \"white\", \"linecolor\": \"white\", \"ticks\": \"\", \"title\": {\"standoff\": 15}, \"zerolinecolor\": \"white\", \"zerolinewidth\": 2}, \"yaxis\": {\"automargin\": true, \"gridcolor\": \"white\", \"linecolor\": \"white\", \"ticks\": \"\", \"title\": {\"standoff\": 15}, \"zerolinecolor\": \"white\", \"zerolinewidth\": 2}}}, \"width\": 550, \"xaxis\": {\"title\": {\"text\": \"epoch\"}}, \"yaxis\": {\"title\": {\"text\": \"learning rate\"}, \"type\": \"log\"}},\n",
       "                        {\"responsive\": true}\n",
       "                    ).then(function(){\n",
       "                            \n",
       "var gd = document.getElementById('27bdcb42-a33f-4ed2-bb08-e39c68c34f41');\n",
       "var x = new MutationObserver(function (mutations, observer) {{\n",
       "        var display = window.getComputedStyle(gd).display;\n",
       "        if (!display || display === 'none') {{\n",
       "            console.log([gd, 'removed!']);\n",
       "            Plotly.purge(gd);\n",
       "            observer.disconnect();\n",
       "        }}\n",
       "}});\n",
       "\n",
       "// Listen for the removal of the full notebook cells\n",
       "var notebookContainer = gd.closest('#notebook-container');\n",
       "if (notebookContainer) {{\n",
       "    x.observe(notebookContainer, {childList: true});\n",
       "}}\n",
       "\n",
       "// Listen for the clearing of the current output cell\n",
       "var outputEl = gd.closest('.output');\n",
       "if (outputEl) {{\n",
       "    x.observe(outputEl, {childList: true});\n",
       "}}\n",
       "\n",
       "                        })\n",
       "                };\n",
       "                });\n",
       "            </script>\n",
       "        </div>"
      ]
     },
     "metadata": {},
     "output_type": "display_data"
    }
   ],
   "source": [
    "dnn_val = keras.models.Sequential()\n",
    "dnn_val.add(keras.layers.InputLayer(input_shape=1))\n",
    "dnn_val.add(keras.layers.Dense(8, activation='tanh'))\n",
    "dnn_val.add(keras.layers.Dense(1, activation=\"linear\"))\n",
    "\n",
    "n_epochs = 10\n",
    "metric_lr = np.zeros((n_epochs,))\n",
    "initial_learning_rate = 0.1\n",
    "final_learning_rate = 0.4\n",
    "\n",
    "learning_rate = 0.18\n",
    "lr_callback = keras.callbacks.LearningRateScheduler(lr_constant)\n",
    "# lr_callback = keras.callbacks.LearningRateScheduler(lr_exponential_decay)\n",
    "\n",
    "dnn_val.compile(loss='mse', optimizer=optimr, metrics=['mse','mae'])\n",
    "\n",
    "x_t = [-1, -0.1, 0.1, 1]\n",
    "y_t = [-1, 0, 0, 1]\n",
    "\n",
    "x_t = np.array(x_t, dtype = np.float32)\n",
    "y_t = np.array(y_t, dtype = np.float32)\n",
    "\n",
    "x_v = np.linspace(-1.,1.,8)\n",
    "y_v = x_v\n",
    "\n",
    "history = dnn_val.fit(x_t, y_t,           \n",
    "                  validation_data=(x_v,y_v),         \n",
    "                  epochs=n_epochs,\n",
    "                  batch_size=int(x_t.size),\n",
    "                  callbacks = [lr_callback,print_dots()], \n",
    "                  verbose = 0)\n",
    "\n",
    "fig = go.Figure()\n",
    "fig.add_trace(go.Scatter(x=x_t, y=y_t, mode='markers', name='training'))\n",
    "x_p = np.linspace(-1,1,32)\n",
    "fig.add_trace(go.Scatter(x=x_p, mode='lines',                        \n",
    "                         y=np.array(dnn_val.predict(x_p)).reshape((x_p.size,)),\n",
    "                         name='prediction'))\n",
    "fig.update_layout(height=400, width=600)\n",
    "fig.show()\n",
    "\n",
    "fig = go.Figure()\n",
    "plot_history(fig, history)\n",
    "fig.show()\n",
    "\n",
    "fig = go.Figure()\n",
    "fig.add_trace(go.Scatter(y=metric_lr))\n",
    "fig.update_layout(height=400, width=550, yaxis_type='log', \n",
    "                  xaxis_title='epoch', yaxis_title='learning rate')\n",
    "fig.show()"
   ]
  },
  {
   "cell_type": "code",
   "execution_count": 39,
   "metadata": {
    "colab": {
     "base_uri": "https://localhost:8080/",
     "height": 869
    },
    "colab_type": "code",
    "id": "dQ76j-pbECol",
    "outputId": "6f5678d8-51f4-49d1-a282-58cc3d27409e"
   },
   "outputs": [
    {
     "name": "stdout",
     "output_type": "stream",
     "text": [
      "\n",
      "....................................................................................................\n",
      "Training is complete\n"
     ]
    },
    {
     "data": {
      "application/vnd.plotly.v1+json": {
       "config": {
        "plotlyServerURL": "https://plot.ly"
       },
       "data": [
        {
         "mode": "markers",
         "name": "training",
         "type": "scatter",
         "x": [
          -1,
          -0.10000000149011612,
          0.10000000149011612,
          1
         ],
         "y": [
          -1,
          0,
          0,
          1
         ]
        },
        {
         "mode": "lines",
         "name": "prediction",
         "type": "scatter",
         "x": [
          -1,
          -0.935483870967742,
          -0.8709677419354839,
          -0.8064516129032258,
          -0.7419354838709677,
          -0.6774193548387097,
          -0.6129032258064516,
          -0.5483870967741935,
          -0.4838709677419355,
          -0.4193548387096775,
          -0.3548387096774194,
          -0.29032258064516125,
          -0.22580645161290325,
          -0.16129032258064524,
          -0.09677419354838712,
          -0.032258064516129004,
          0.032258064516129004,
          0.09677419354838701,
          0.16129032258064502,
          0.22580645161290325,
          0.29032258064516125,
          0.35483870967741926,
          0.4193548387096775,
          0.4838709677419355,
          0.5483870967741935,
          0.6129032258064515,
          0.6774193548387095,
          0.7419354838709677,
          0.8064516129032258,
          0.8709677419354838,
          0.935483870967742,
          1
         ],
         "y": [
          -0.9978737831115723,
          -0.9157578945159912,
          -0.8296946287155151,
          -0.7403960824012756,
          -0.6488675475120544,
          -0.556447446346283,
          -0.46483635902404785,
          -0.37609100341796875,
          -0.29256391525268555,
          -0.2167620062828064,
          -0.15109556913375854,
          -0.09751525521278381,
          -0.0570673942565918,
          -0.029453366994857788,
          -0.012740850448608398,
          -0.003380458801984787,
          0.0033804476261138916,
          0.012740850448608398,
          0.029453366994857788,
          0.0570673942565918,
          0.09751525521278381,
          0.15109556913375854,
          0.2167620062828064,
          0.29256391525268555,
          0.37609100341796875,
          0.46483635902404785,
          0.556447446346283,
          0.6488675475120544,
          0.7403960824012756,
          0.8296946287155151,
          0.9157578945159912,
          0.9978737831115723
         ]
        }
       ],
       "layout": {
        "height": 400,
        "template": {
         "data": {
          "bar": [
           {
            "error_x": {
             "color": "#2a3f5f"
            },
            "error_y": {
             "color": "#2a3f5f"
            },
            "marker": {
             "line": {
              "color": "#E5ECF6",
              "width": 0.5
             }
            },
            "type": "bar"
           }
          ],
          "barpolar": [
           {
            "marker": {
             "line": {
              "color": "#E5ECF6",
              "width": 0.5
             }
            },
            "type": "barpolar"
           }
          ],
          "carpet": [
           {
            "aaxis": {
             "endlinecolor": "#2a3f5f",
             "gridcolor": "white",
             "linecolor": "white",
             "minorgridcolor": "white",
             "startlinecolor": "#2a3f5f"
            },
            "baxis": {
             "endlinecolor": "#2a3f5f",
             "gridcolor": "white",
             "linecolor": "white",
             "minorgridcolor": "white",
             "startlinecolor": "#2a3f5f"
            },
            "type": "carpet"
           }
          ],
          "choropleth": [
           {
            "colorbar": {
             "outlinewidth": 0,
             "ticks": ""
            },
            "type": "choropleth"
           }
          ],
          "contour": [
           {
            "colorbar": {
             "outlinewidth": 0,
             "ticks": ""
            },
            "colorscale": [
             [
              0,
              "#0d0887"
             ],
             [
              0.1111111111111111,
              "#46039f"
             ],
             [
              0.2222222222222222,
              "#7201a8"
             ],
             [
              0.3333333333333333,
              "#9c179e"
             ],
             [
              0.4444444444444444,
              "#bd3786"
             ],
             [
              0.5555555555555556,
              "#d8576b"
             ],
             [
              0.6666666666666666,
              "#ed7953"
             ],
             [
              0.7777777777777778,
              "#fb9f3a"
             ],
             [
              0.8888888888888888,
              "#fdca26"
             ],
             [
              1,
              "#f0f921"
             ]
            ],
            "type": "contour"
           }
          ],
          "contourcarpet": [
           {
            "colorbar": {
             "outlinewidth": 0,
             "ticks": ""
            },
            "type": "contourcarpet"
           }
          ],
          "heatmap": [
           {
            "colorbar": {
             "outlinewidth": 0,
             "ticks": ""
            },
            "colorscale": [
             [
              0,
              "#0d0887"
             ],
             [
              0.1111111111111111,
              "#46039f"
             ],
             [
              0.2222222222222222,
              "#7201a8"
             ],
             [
              0.3333333333333333,
              "#9c179e"
             ],
             [
              0.4444444444444444,
              "#bd3786"
             ],
             [
              0.5555555555555556,
              "#d8576b"
             ],
             [
              0.6666666666666666,
              "#ed7953"
             ],
             [
              0.7777777777777778,
              "#fb9f3a"
             ],
             [
              0.8888888888888888,
              "#fdca26"
             ],
             [
              1,
              "#f0f921"
             ]
            ],
            "type": "heatmap"
           }
          ],
          "heatmapgl": [
           {
            "colorbar": {
             "outlinewidth": 0,
             "ticks": ""
            },
            "colorscale": [
             [
              0,
              "#0d0887"
             ],
             [
              0.1111111111111111,
              "#46039f"
             ],
             [
              0.2222222222222222,
              "#7201a8"
             ],
             [
              0.3333333333333333,
              "#9c179e"
             ],
             [
              0.4444444444444444,
              "#bd3786"
             ],
             [
              0.5555555555555556,
              "#d8576b"
             ],
             [
              0.6666666666666666,
              "#ed7953"
             ],
             [
              0.7777777777777778,
              "#fb9f3a"
             ],
             [
              0.8888888888888888,
              "#fdca26"
             ],
             [
              1,
              "#f0f921"
             ]
            ],
            "type": "heatmapgl"
           }
          ],
          "histogram": [
           {
            "marker": {
             "colorbar": {
              "outlinewidth": 0,
              "ticks": ""
             }
            },
            "type": "histogram"
           }
          ],
          "histogram2d": [
           {
            "colorbar": {
             "outlinewidth": 0,
             "ticks": ""
            },
            "colorscale": [
             [
              0,
              "#0d0887"
             ],
             [
              0.1111111111111111,
              "#46039f"
             ],
             [
              0.2222222222222222,
              "#7201a8"
             ],
             [
              0.3333333333333333,
              "#9c179e"
             ],
             [
              0.4444444444444444,
              "#bd3786"
             ],
             [
              0.5555555555555556,
              "#d8576b"
             ],
             [
              0.6666666666666666,
              "#ed7953"
             ],
             [
              0.7777777777777778,
              "#fb9f3a"
             ],
             [
              0.8888888888888888,
              "#fdca26"
             ],
             [
              1,
              "#f0f921"
             ]
            ],
            "type": "histogram2d"
           }
          ],
          "histogram2dcontour": [
           {
            "colorbar": {
             "outlinewidth": 0,
             "ticks": ""
            },
            "colorscale": [
             [
              0,
              "#0d0887"
             ],
             [
              0.1111111111111111,
              "#46039f"
             ],
             [
              0.2222222222222222,
              "#7201a8"
             ],
             [
              0.3333333333333333,
              "#9c179e"
             ],
             [
              0.4444444444444444,
              "#bd3786"
             ],
             [
              0.5555555555555556,
              "#d8576b"
             ],
             [
              0.6666666666666666,
              "#ed7953"
             ],
             [
              0.7777777777777778,
              "#fb9f3a"
             ],
             [
              0.8888888888888888,
              "#fdca26"
             ],
             [
              1,
              "#f0f921"
             ]
            ],
            "type": "histogram2dcontour"
           }
          ],
          "mesh3d": [
           {
            "colorbar": {
             "outlinewidth": 0,
             "ticks": ""
            },
            "type": "mesh3d"
           }
          ],
          "parcoords": [
           {
            "line": {
             "colorbar": {
              "outlinewidth": 0,
              "ticks": ""
             }
            },
            "type": "parcoords"
           }
          ],
          "pie": [
           {
            "automargin": true,
            "type": "pie"
           }
          ],
          "scatter": [
           {
            "marker": {
             "colorbar": {
              "outlinewidth": 0,
              "ticks": ""
             }
            },
            "type": "scatter"
           }
          ],
          "scatter3d": [
           {
            "line": {
             "colorbar": {
              "outlinewidth": 0,
              "ticks": ""
             }
            },
            "marker": {
             "colorbar": {
              "outlinewidth": 0,
              "ticks": ""
             }
            },
            "type": "scatter3d"
           }
          ],
          "scattercarpet": [
           {
            "marker": {
             "colorbar": {
              "outlinewidth": 0,
              "ticks": ""
             }
            },
            "type": "scattercarpet"
           }
          ],
          "scattergeo": [
           {
            "marker": {
             "colorbar": {
              "outlinewidth": 0,
              "ticks": ""
             }
            },
            "type": "scattergeo"
           }
          ],
          "scattergl": [
           {
            "marker": {
             "colorbar": {
              "outlinewidth": 0,
              "ticks": ""
             }
            },
            "type": "scattergl"
           }
          ],
          "scattermapbox": [
           {
            "marker": {
             "colorbar": {
              "outlinewidth": 0,
              "ticks": ""
             }
            },
            "type": "scattermapbox"
           }
          ],
          "scatterpolar": [
           {
            "marker": {
             "colorbar": {
              "outlinewidth": 0,
              "ticks": ""
             }
            },
            "type": "scatterpolar"
           }
          ],
          "scatterpolargl": [
           {
            "marker": {
             "colorbar": {
              "outlinewidth": 0,
              "ticks": ""
             }
            },
            "type": "scatterpolargl"
           }
          ],
          "scatterternary": [
           {
            "marker": {
             "colorbar": {
              "outlinewidth": 0,
              "ticks": ""
             }
            },
            "type": "scatterternary"
           }
          ],
          "surface": [
           {
            "colorbar": {
             "outlinewidth": 0,
             "ticks": ""
            },
            "colorscale": [
             [
              0,
              "#0d0887"
             ],
             [
              0.1111111111111111,
              "#46039f"
             ],
             [
              0.2222222222222222,
              "#7201a8"
             ],
             [
              0.3333333333333333,
              "#9c179e"
             ],
             [
              0.4444444444444444,
              "#bd3786"
             ],
             [
              0.5555555555555556,
              "#d8576b"
             ],
             [
              0.6666666666666666,
              "#ed7953"
             ],
             [
              0.7777777777777778,
              "#fb9f3a"
             ],
             [
              0.8888888888888888,
              "#fdca26"
             ],
             [
              1,
              "#f0f921"
             ]
            ],
            "type": "surface"
           }
          ],
          "table": [
           {
            "cells": {
             "fill": {
              "color": "#EBF0F8"
             },
             "line": {
              "color": "white"
             }
            },
            "header": {
             "fill": {
              "color": "#C8D4E3"
             },
             "line": {
              "color": "white"
             }
            },
            "type": "table"
           }
          ]
         },
         "layout": {
          "annotationdefaults": {
           "arrowcolor": "#2a3f5f",
           "arrowhead": 0,
           "arrowwidth": 1
          },
          "coloraxis": {
           "colorbar": {
            "outlinewidth": 0,
            "ticks": ""
           }
          },
          "colorscale": {
           "diverging": [
            [
             0,
             "#8e0152"
            ],
            [
             0.1,
             "#c51b7d"
            ],
            [
             0.2,
             "#de77ae"
            ],
            [
             0.3,
             "#f1b6da"
            ],
            [
             0.4,
             "#fde0ef"
            ],
            [
             0.5,
             "#f7f7f7"
            ],
            [
             0.6,
             "#e6f5d0"
            ],
            [
             0.7,
             "#b8e186"
            ],
            [
             0.8,
             "#7fbc41"
            ],
            [
             0.9,
             "#4d9221"
            ],
            [
             1,
             "#276419"
            ]
           ],
           "sequential": [
            [
             0,
             "#0d0887"
            ],
            [
             0.1111111111111111,
             "#46039f"
            ],
            [
             0.2222222222222222,
             "#7201a8"
            ],
            [
             0.3333333333333333,
             "#9c179e"
            ],
            [
             0.4444444444444444,
             "#bd3786"
            ],
            [
             0.5555555555555556,
             "#d8576b"
            ],
            [
             0.6666666666666666,
             "#ed7953"
            ],
            [
             0.7777777777777778,
             "#fb9f3a"
            ],
            [
             0.8888888888888888,
             "#fdca26"
            ],
            [
             1,
             "#f0f921"
            ]
           ],
           "sequentialminus": [
            [
             0,
             "#0d0887"
            ],
            [
             0.1111111111111111,
             "#46039f"
            ],
            [
             0.2222222222222222,
             "#7201a8"
            ],
            [
             0.3333333333333333,
             "#9c179e"
            ],
            [
             0.4444444444444444,
             "#bd3786"
            ],
            [
             0.5555555555555556,
             "#d8576b"
            ],
            [
             0.6666666666666666,
             "#ed7953"
            ],
            [
             0.7777777777777778,
             "#fb9f3a"
            ],
            [
             0.8888888888888888,
             "#fdca26"
            ],
            [
             1,
             "#f0f921"
            ]
           ]
          },
          "colorway": [
           "#636efa",
           "#EF553B",
           "#00cc96",
           "#ab63fa",
           "#FFA15A",
           "#19d3f3",
           "#FF6692",
           "#B6E880",
           "#FF97FF",
           "#FECB52"
          ],
          "font": {
           "color": "#2a3f5f"
          },
          "geo": {
           "bgcolor": "white",
           "lakecolor": "white",
           "landcolor": "#E5ECF6",
           "showlakes": true,
           "showland": true,
           "subunitcolor": "white"
          },
          "hoverlabel": {
           "align": "left"
          },
          "hovermode": "closest",
          "mapbox": {
           "style": "light"
          },
          "paper_bgcolor": "white",
          "plot_bgcolor": "#E5ECF6",
          "polar": {
           "angularaxis": {
            "gridcolor": "white",
            "linecolor": "white",
            "ticks": ""
           },
           "bgcolor": "#E5ECF6",
           "radialaxis": {
            "gridcolor": "white",
            "linecolor": "white",
            "ticks": ""
           }
          },
          "scene": {
           "xaxis": {
            "backgroundcolor": "#E5ECF6",
            "gridcolor": "white",
            "gridwidth": 2,
            "linecolor": "white",
            "showbackground": true,
            "ticks": "",
            "zerolinecolor": "white"
           },
           "yaxis": {
            "backgroundcolor": "#E5ECF6",
            "gridcolor": "white",
            "gridwidth": 2,
            "linecolor": "white",
            "showbackground": true,
            "ticks": "",
            "zerolinecolor": "white"
           },
           "zaxis": {
            "backgroundcolor": "#E5ECF6",
            "gridcolor": "white",
            "gridwidth": 2,
            "linecolor": "white",
            "showbackground": true,
            "ticks": "",
            "zerolinecolor": "white"
           }
          },
          "shapedefaults": {
           "line": {
            "color": "#2a3f5f"
           }
          },
          "ternary": {
           "aaxis": {
            "gridcolor": "white",
            "linecolor": "white",
            "ticks": ""
           },
           "baxis": {
            "gridcolor": "white",
            "linecolor": "white",
            "ticks": ""
           },
           "bgcolor": "#E5ECF6",
           "caxis": {
            "gridcolor": "white",
            "linecolor": "white",
            "ticks": ""
           }
          },
          "title": {
           "x": 0.05
          },
          "xaxis": {
           "automargin": true,
           "gridcolor": "white",
           "linecolor": "white",
           "ticks": "",
           "title": {
            "standoff": 15
           },
           "zerolinecolor": "white",
           "zerolinewidth": 2
          },
          "yaxis": {
           "automargin": true,
           "gridcolor": "white",
           "linecolor": "white",
           "ticks": "",
           "title": {
            "standoff": 15
           },
           "zerolinecolor": "white",
           "zerolinewidth": 2
          }
         }
        },
        "width": 600
       }
      },
      "text/html": [
       "<div>\n",
       "        \n",
       "        \n",
       "            <div id=\"fd1746cd-3a00-4ff5-9ae7-3a74a88c2fe3\" class=\"plotly-graph-div\" style=\"height:400px; width:600px;\"></div>\n",
       "            <script type=\"text/javascript\">\n",
       "                require([\"plotly\"], function(Plotly) {\n",
       "                    window.PLOTLYENV=window.PLOTLYENV || {};\n",
       "                    \n",
       "                if (document.getElementById(\"fd1746cd-3a00-4ff5-9ae7-3a74a88c2fe3\")) {\n",
       "                    Plotly.newPlot(\n",
       "                        'fd1746cd-3a00-4ff5-9ae7-3a74a88c2fe3',\n",
       "                        [{\"mode\": \"markers\", \"name\": \"training\", \"type\": \"scatter\", \"x\": [-1.0, -0.10000000149011612, 0.10000000149011612, 1.0], \"y\": [-1.0, 0.0, 0.0, 1.0]}, {\"mode\": \"lines\", \"name\": \"prediction\", \"type\": \"scatter\", \"x\": [-1.0, -0.935483870967742, -0.8709677419354839, -0.8064516129032258, -0.7419354838709677, -0.6774193548387097, -0.6129032258064516, -0.5483870967741935, -0.4838709677419355, -0.4193548387096775, -0.3548387096774194, -0.29032258064516125, -0.22580645161290325, -0.16129032258064524, -0.09677419354838712, -0.032258064516129004, 0.032258064516129004, 0.09677419354838701, 0.16129032258064502, 0.22580645161290325, 0.29032258064516125, 0.35483870967741926, 0.4193548387096775, 0.4838709677419355, 0.5483870967741935, 0.6129032258064515, 0.6774193548387095, 0.7419354838709677, 0.8064516129032258, 0.8709677419354838, 0.935483870967742, 1.0], \"y\": [-0.9978737831115723, -0.9157578945159912, -0.8296946287155151, -0.7403960824012756, -0.6488675475120544, -0.556447446346283, -0.46483635902404785, -0.37609100341796875, -0.29256391525268555, -0.2167620062828064, -0.15109556913375854, -0.09751525521278381, -0.0570673942565918, -0.029453366994857788, -0.012740850448608398, -0.003380458801984787, 0.0033804476261138916, 0.012740850448608398, 0.029453366994857788, 0.0570673942565918, 0.09751525521278381, 0.15109556913375854, 0.2167620062828064, 0.29256391525268555, 0.37609100341796875, 0.46483635902404785, 0.556447446346283, 0.6488675475120544, 0.7403960824012756, 0.8296946287155151, 0.9157578945159912, 0.9978737831115723]}],\n",
       "                        {\"height\": 400, \"template\": {\"data\": {\"bar\": [{\"error_x\": {\"color\": \"#2a3f5f\"}, \"error_y\": {\"color\": \"#2a3f5f\"}, \"marker\": {\"line\": {\"color\": \"#E5ECF6\", \"width\": 0.5}}, \"type\": \"bar\"}], \"barpolar\": [{\"marker\": {\"line\": {\"color\": \"#E5ECF6\", \"width\": 0.5}}, \"type\": \"barpolar\"}], \"carpet\": [{\"aaxis\": {\"endlinecolor\": \"#2a3f5f\", \"gridcolor\": \"white\", \"linecolor\": \"white\", \"minorgridcolor\": \"white\", \"startlinecolor\": \"#2a3f5f\"}, \"baxis\": {\"endlinecolor\": \"#2a3f5f\", \"gridcolor\": \"white\", \"linecolor\": \"white\", \"minorgridcolor\": \"white\", \"startlinecolor\": \"#2a3f5f\"}, \"type\": \"carpet\"}], \"choropleth\": [{\"colorbar\": {\"outlinewidth\": 0, \"ticks\": \"\"}, \"type\": \"choropleth\"}], \"contour\": [{\"colorbar\": {\"outlinewidth\": 0, \"ticks\": \"\"}, \"colorscale\": [[0.0, \"#0d0887\"], [0.1111111111111111, \"#46039f\"], [0.2222222222222222, \"#7201a8\"], [0.3333333333333333, \"#9c179e\"], [0.4444444444444444, \"#bd3786\"], [0.5555555555555556, \"#d8576b\"], [0.6666666666666666, \"#ed7953\"], [0.7777777777777778, \"#fb9f3a\"], [0.8888888888888888, \"#fdca26\"], [1.0, \"#f0f921\"]], \"type\": \"contour\"}], \"contourcarpet\": [{\"colorbar\": {\"outlinewidth\": 0, \"ticks\": \"\"}, \"type\": \"contourcarpet\"}], \"heatmap\": [{\"colorbar\": {\"outlinewidth\": 0, \"ticks\": \"\"}, \"colorscale\": [[0.0, \"#0d0887\"], [0.1111111111111111, \"#46039f\"], [0.2222222222222222, \"#7201a8\"], [0.3333333333333333, \"#9c179e\"], [0.4444444444444444, \"#bd3786\"], [0.5555555555555556, \"#d8576b\"], [0.6666666666666666, \"#ed7953\"], [0.7777777777777778, \"#fb9f3a\"], [0.8888888888888888, \"#fdca26\"], [1.0, \"#f0f921\"]], \"type\": \"heatmap\"}], \"heatmapgl\": [{\"colorbar\": {\"outlinewidth\": 0, \"ticks\": \"\"}, \"colorscale\": [[0.0, \"#0d0887\"], [0.1111111111111111, \"#46039f\"], [0.2222222222222222, \"#7201a8\"], [0.3333333333333333, \"#9c179e\"], [0.4444444444444444, \"#bd3786\"], [0.5555555555555556, \"#d8576b\"], [0.6666666666666666, \"#ed7953\"], [0.7777777777777778, \"#fb9f3a\"], [0.8888888888888888, \"#fdca26\"], [1.0, \"#f0f921\"]], \"type\": \"heatmapgl\"}], \"histogram\": [{\"marker\": {\"colorbar\": {\"outlinewidth\": 0, \"ticks\": \"\"}}, \"type\": \"histogram\"}], \"histogram2d\": [{\"colorbar\": {\"outlinewidth\": 0, \"ticks\": \"\"}, \"colorscale\": [[0.0, \"#0d0887\"], [0.1111111111111111, \"#46039f\"], [0.2222222222222222, \"#7201a8\"], [0.3333333333333333, \"#9c179e\"], [0.4444444444444444, \"#bd3786\"], [0.5555555555555556, \"#d8576b\"], [0.6666666666666666, \"#ed7953\"], [0.7777777777777778, \"#fb9f3a\"], [0.8888888888888888, \"#fdca26\"], [1.0, \"#f0f921\"]], \"type\": \"histogram2d\"}], \"histogram2dcontour\": [{\"colorbar\": {\"outlinewidth\": 0, \"ticks\": \"\"}, \"colorscale\": [[0.0, \"#0d0887\"], [0.1111111111111111, \"#46039f\"], [0.2222222222222222, \"#7201a8\"], [0.3333333333333333, \"#9c179e\"], [0.4444444444444444, \"#bd3786\"], [0.5555555555555556, \"#d8576b\"], [0.6666666666666666, \"#ed7953\"], [0.7777777777777778, \"#fb9f3a\"], [0.8888888888888888, \"#fdca26\"], [1.0, \"#f0f921\"]], \"type\": \"histogram2dcontour\"}], \"mesh3d\": [{\"colorbar\": {\"outlinewidth\": 0, \"ticks\": \"\"}, \"type\": \"mesh3d\"}], \"parcoords\": [{\"line\": {\"colorbar\": {\"outlinewidth\": 0, \"ticks\": \"\"}}, \"type\": \"parcoords\"}], \"pie\": [{\"automargin\": true, \"type\": \"pie\"}], \"scatter\": [{\"marker\": {\"colorbar\": {\"outlinewidth\": 0, \"ticks\": \"\"}}, \"type\": \"scatter\"}], \"scatter3d\": [{\"line\": {\"colorbar\": {\"outlinewidth\": 0, \"ticks\": \"\"}}, \"marker\": {\"colorbar\": {\"outlinewidth\": 0, \"ticks\": \"\"}}, \"type\": \"scatter3d\"}], \"scattercarpet\": [{\"marker\": {\"colorbar\": {\"outlinewidth\": 0, \"ticks\": \"\"}}, \"type\": \"scattercarpet\"}], \"scattergeo\": [{\"marker\": {\"colorbar\": {\"outlinewidth\": 0, \"ticks\": \"\"}}, \"type\": \"scattergeo\"}], \"scattergl\": [{\"marker\": {\"colorbar\": {\"outlinewidth\": 0, \"ticks\": \"\"}}, \"type\": \"scattergl\"}], \"scattermapbox\": [{\"marker\": {\"colorbar\": {\"outlinewidth\": 0, \"ticks\": \"\"}}, \"type\": \"scattermapbox\"}], \"scatterpolar\": [{\"marker\": {\"colorbar\": {\"outlinewidth\": 0, \"ticks\": \"\"}}, \"type\": \"scatterpolar\"}], \"scatterpolargl\": [{\"marker\": {\"colorbar\": {\"outlinewidth\": 0, \"ticks\": \"\"}}, \"type\": \"scatterpolargl\"}], \"scatterternary\": [{\"marker\": {\"colorbar\": {\"outlinewidth\": 0, \"ticks\": \"\"}}, \"type\": \"scatterternary\"}], \"surface\": [{\"colorbar\": {\"outlinewidth\": 0, \"ticks\": \"\"}, \"colorscale\": [[0.0, \"#0d0887\"], [0.1111111111111111, \"#46039f\"], [0.2222222222222222, \"#7201a8\"], [0.3333333333333333, \"#9c179e\"], [0.4444444444444444, \"#bd3786\"], [0.5555555555555556, \"#d8576b\"], [0.6666666666666666, \"#ed7953\"], [0.7777777777777778, \"#fb9f3a\"], [0.8888888888888888, \"#fdca26\"], [1.0, \"#f0f921\"]], \"type\": \"surface\"}], \"table\": [{\"cells\": {\"fill\": {\"color\": \"#EBF0F8\"}, \"line\": {\"color\": \"white\"}}, \"header\": {\"fill\": {\"color\": \"#C8D4E3\"}, \"line\": {\"color\": \"white\"}}, \"type\": \"table\"}]}, \"layout\": {\"annotationdefaults\": {\"arrowcolor\": \"#2a3f5f\", \"arrowhead\": 0, \"arrowwidth\": 1}, \"coloraxis\": {\"colorbar\": {\"outlinewidth\": 0, \"ticks\": \"\"}}, \"colorscale\": {\"diverging\": [[0, \"#8e0152\"], [0.1, \"#c51b7d\"], [0.2, \"#de77ae\"], [0.3, \"#f1b6da\"], [0.4, \"#fde0ef\"], [0.5, \"#f7f7f7\"], [0.6, \"#e6f5d0\"], [0.7, \"#b8e186\"], [0.8, \"#7fbc41\"], [0.9, \"#4d9221\"], [1, \"#276419\"]], \"sequential\": [[0.0, \"#0d0887\"], [0.1111111111111111, \"#46039f\"], [0.2222222222222222, \"#7201a8\"], [0.3333333333333333, \"#9c179e\"], [0.4444444444444444, \"#bd3786\"], [0.5555555555555556, \"#d8576b\"], [0.6666666666666666, \"#ed7953\"], [0.7777777777777778, \"#fb9f3a\"], [0.8888888888888888, \"#fdca26\"], [1.0, \"#f0f921\"]], \"sequentialminus\": [[0.0, \"#0d0887\"], [0.1111111111111111, \"#46039f\"], [0.2222222222222222, \"#7201a8\"], [0.3333333333333333, \"#9c179e\"], [0.4444444444444444, \"#bd3786\"], [0.5555555555555556, \"#d8576b\"], [0.6666666666666666, \"#ed7953\"], [0.7777777777777778, \"#fb9f3a\"], [0.8888888888888888, \"#fdca26\"], [1.0, \"#f0f921\"]]}, \"colorway\": [\"#636efa\", \"#EF553B\", \"#00cc96\", \"#ab63fa\", \"#FFA15A\", \"#19d3f3\", \"#FF6692\", \"#B6E880\", \"#FF97FF\", \"#FECB52\"], \"font\": {\"color\": \"#2a3f5f\"}, \"geo\": {\"bgcolor\": \"white\", \"lakecolor\": \"white\", \"landcolor\": \"#E5ECF6\", \"showlakes\": true, \"showland\": true, \"subunitcolor\": \"white\"}, \"hoverlabel\": {\"align\": \"left\"}, \"hovermode\": \"closest\", \"mapbox\": {\"style\": \"light\"}, \"paper_bgcolor\": \"white\", \"plot_bgcolor\": \"#E5ECF6\", \"polar\": {\"angularaxis\": {\"gridcolor\": \"white\", \"linecolor\": \"white\", \"ticks\": \"\"}, \"bgcolor\": \"#E5ECF6\", \"radialaxis\": {\"gridcolor\": \"white\", \"linecolor\": \"white\", \"ticks\": \"\"}}, \"scene\": {\"xaxis\": {\"backgroundcolor\": \"#E5ECF6\", \"gridcolor\": \"white\", \"gridwidth\": 2, \"linecolor\": \"white\", \"showbackground\": true, \"ticks\": \"\", \"zerolinecolor\": \"white\"}, \"yaxis\": {\"backgroundcolor\": \"#E5ECF6\", \"gridcolor\": \"white\", \"gridwidth\": 2, \"linecolor\": \"white\", \"showbackground\": true, \"ticks\": \"\", \"zerolinecolor\": \"white\"}, \"zaxis\": {\"backgroundcolor\": \"#E5ECF6\", \"gridcolor\": \"white\", \"gridwidth\": 2, \"linecolor\": \"white\", \"showbackground\": true, \"ticks\": \"\", \"zerolinecolor\": \"white\"}}, \"shapedefaults\": {\"line\": {\"color\": \"#2a3f5f\"}}, \"ternary\": {\"aaxis\": {\"gridcolor\": \"white\", \"linecolor\": \"white\", \"ticks\": \"\"}, \"baxis\": {\"gridcolor\": \"white\", \"linecolor\": \"white\", \"ticks\": \"\"}, \"bgcolor\": \"#E5ECF6\", \"caxis\": {\"gridcolor\": \"white\", \"linecolor\": \"white\", \"ticks\": \"\"}}, \"title\": {\"x\": 0.05}, \"xaxis\": {\"automargin\": true, \"gridcolor\": \"white\", \"linecolor\": \"white\", \"ticks\": \"\", \"title\": {\"standoff\": 15}, \"zerolinecolor\": \"white\", \"zerolinewidth\": 2}, \"yaxis\": {\"automargin\": true, \"gridcolor\": \"white\", \"linecolor\": \"white\", \"ticks\": \"\", \"title\": {\"standoff\": 15}, \"zerolinecolor\": \"white\", \"zerolinewidth\": 2}}}, \"width\": 600},\n",
       "                        {\"responsive\": true}\n",
       "                    ).then(function(){\n",
       "                            \n",
       "var gd = document.getElementById('fd1746cd-3a00-4ff5-9ae7-3a74a88c2fe3');\n",
       "var x = new MutationObserver(function (mutations, observer) {{\n",
       "        var display = window.getComputedStyle(gd).display;\n",
       "        if (!display || display === 'none') {{\n",
       "            console.log([gd, 'removed!']);\n",
       "            Plotly.purge(gd);\n",
       "            observer.disconnect();\n",
       "        }}\n",
       "}});\n",
       "\n",
       "// Listen for the removal of the full notebook cells\n",
       "var notebookContainer = gd.closest('#notebook-container');\n",
       "if (notebookContainer) {{\n",
       "    x.observe(notebookContainer, {childList: true});\n",
       "}}\n",
       "\n",
       "// Listen for the clearing of the current output cell\n",
       "var outputEl = gd.closest('.output');\n",
       "if (outputEl) {{\n",
       "    x.observe(outputEl, {childList: true});\n",
       "}}\n",
       "\n",
       "                        })\n",
       "                };\n",
       "                });\n",
       "            </script>\n",
       "        </div>"
      ]
     },
     "metadata": {},
     "output_type": "display_data"
    },
    {
     "data": {
      "application/vnd.plotly.v1+json": {
       "config": {
        "plotlyServerURL": "https://plot.ly"
       },
       "data": [
        {
         "name": "loss",
         "type": "scatter",
         "y": [
          2.0576735001341433,
          0.2554252523319252,
          0.12221464398294277,
          0.11667003426275398,
          0.11629145902010099,
          0.11605111921378637,
          0.11581514983869315,
          0.11558009674022093,
          0.11534580807359968,
          0.1151123046875,
          0.11487958731691493,
          0.11464759169986288,
          0.11441640769427809,
          0.11418601168313494,
          0.11395630628810069,
          0.11372734482838028,
          0.1134991441145106,
          0.11327167585626259,
          0.11304493623664655,
          0.1128189337763516,
          0.11259359433472794,
          0.11236899649322869,
          0.11214506581365839,
          0.11192191863654943,
          0.11169944292910779,
          0.1114775591680143,
          0.11125645505603275,
          0.11103603879364805,
          0.11081625985798789,
          0.11059715573196888,
          0.11037873887164368,
          0.11016091191457471,
          0.10994377578239319,
          0.10972727940679294,
          0.10951143083420582,
          0.10929623390266044,
          0.10908167539314821,
          0.10886772058450181,
          0.1086544116144174,
          0.10844171364702437,
          0.10822961307451316,
          0.10801815221454777,
          0.10780728299883768,
          0.1075969829389383,
          0.1073873030777179,
          0.10717825139991992,
          0.10696972711163086,
          0.10676184670690926,
          0.10655450032990607,
          0.10634776554154594,
          0.10614158010790112,
          0.10593592965388442,
          0.10573092740648908,
          0.10552638739548431,
          0.10532244937404968,
          0.10511906368774246,
          0.10491620247987914,
          0.10471390882154316,
          0.10451215927495988,
          0.10431087217809303,
          0.1041102157059592,
          0.10391005458893497,
          0.10371037822507935,
          0.10351126139818434,
          0.10331261269014586,
          0.10311454318956816,
          0.10291694764949624,
          0.10271989227149546,
          0.10252327116214624,
          0.1023271914911495,
          0.1021315606290817,
          0.10193646795485965,
          0.10174184791111655,
          0.1015477032152954,
          0.1013540641654118,
          0.10116089683974863,
          0.10096822239358069,
          0.10077597896335357,
          0.10058422920480066,
          0.10039289245568134,
          0.1002020826153152,
          0.10001170957821759,
          0.09982176651365529,
          0.09963228392357978,
          0.09944327848825066,
          0.09925469663459104,
          0.09906657368500033,
          0.0988788792928827,
          0.09869156400153445,
          0.0985047576107501,
          0.09831839197743637,
          0.09813241741519076,
          0.09794683139740296,
          0.09776172663820894,
          0.09757702474836628,
          0.09739277583268288,
          0.09720887707994082,
          0.09702542166935262,
          0.09684236884447818,
          0.09665969680488866,
          0.09647745597988454,
          0.09629563431046553,
          0.09611417603691531,
          0.0959330832213334,
          0.095752406569073,
          0.09557218254683991,
          0.09539227215549971,
          0.09521280433231288,
          0.09503367378552179,
          0.09485493642708459,
          0.09467655513633016,
          0.0944985762790375,
          0.094321007070304,
          0.09414374101000943,
          0.09396689379241215,
          0.09379034862883681,
          0.09361422163620121,
          0.09343845537583939,
          0.09326302692234822,
          0.09308798320697867,
          0.09291320110958744,
          0.09273885283067652,
          0.0925648452392783,
          0.0923911953806387,
          0.09221787497817256,
          0.09204489095204388,
          0.09187226040803848,
          0.09169998026441249,
          0.09152801179872026,
          0.09135635167386535,
          0.09118503737866494,
          0.09101408621506389,
          0.09084345922531817,
          0.09067314283269155,
          0.0905031799526989,
          0.09033352618655831,
          0.09016415745619687,
          0.0899951529853356,
          0.08982643188583586,
          0.08965807885744212,
          0.0894900127214907,
          0.08932221945758376,
          0.08915477895241787,
          0.08898761470413263,
          0.08882078594229555,
          0.08865420526742368,
          0.0884880109036943,
          0.08832206531575419,
          0.08815643065399245,
          0.08799109544392193,
          0.08782603221524804,
          0.08766127437668728,
          0.08749684494154555,
          0.08733263645797633,
          0.08716877838432296,
          0.0870052057990506,
          0.08684187741798464,
          0.086678837599677,
          0.08651610143143473,
          0.08635368411119518,
          0.08619144157030327,
          0.08602956424600311,
          0.08586793760951317,
          0.085706582095299,
          0.08554549379409497,
          0.08538469875987605,
          0.08522413308508944,
          0.08506382270270899,
          0.0849038568120117,
          0.08474405328439757,
          0.08458461123013622,
          0.08442538377465918,
          0.08426641634295959,
          0.08410776300602288,
          0.08394931737950698,
          0.08379114455190513,
          0.08363319317598757,
          0.08347552866065708,
          0.0833181079227682,
          0.0831609715433368,
          0.0830040285706578,
          0.08284738408711763,
          0.08269092153082494,
          0.08253474631355073,
          0.0823788233270969,
          0.08222313984794799,
          0.08206769440209341,
          0.08191248834468154,
          0.0817575315825133,
          0.08160281697610533,
          0.08144830874322136,
          0.08129407679789867,
          0.08114005671738683,
          0.08098625833528356,
          0.0808327290034726,
          0.08067941831220805,
          0.08052636509794946,
          0.08037348971961336,
          0.0802208425342178,
          0.080068445202153,
          0.07991630497966358,
          0.07976433576855274,
          0.07961261458632736,
          0.07946111941276912,
          0.0793098456716037,
          0.0791587916910026,
          0.07900797641299209,
          0.07885737758670662,
          0.0787069402489043,
          0.07855679277304918,
          0.07840678240940051,
          0.0782570497811344,
          0.07810754879115599,
          0.07795821208014625,
          0.0778091034329835,
          0.07766020317684467,
          0.07751154255088816,
          0.07736305672570372,
          0.07721476781728175,
          0.07706670113158648,
          0.07691885189800685,
          0.07677123350401888,
          0.07662375612517239,
          0.07647655453410582,
          0.07632951441371924,
          0.07618267031735233,
          0.07603604481548035,
          0.07588958088280456,
          0.07574340548822171,
          0.07559735399224327,
          0.07545149191686576,
          0.0753058945659703,
          0.07516044576238319,
          0.07501520534200151,
          0.07487017762734265,
          0.07472529530884028,
          0.07458063415863526,
          0.07443616731489248,
          0.07429191158113548,
          0.07414781166795667,
          0.07400394084805777,
          0.0738602311092994,
          0.07371670866137424,
          0.07357340308178521,
          0.07343025539558884,
          0.0732873141823667,
          0.07314455837050624,
          0.07300196991142147,
          0.07285957535252521,
          0.07271741105331786,
          0.07257539174771303,
          0.07243356650462593,
          0.0722919171420127,
          0.07215042856068334,
          0.07200914697526976,
          0.07186803149049024,
          0.07172707334851111,
          0.07158632877038514,
          0.07144576968864878,
          0.07130539720026823,
          0.07116516660570232,
          0.07102515086460438,
          0.07088529541176695,
          0.0707456110710919,
          0.070606098858144,
          0.07046677961999262,
          0.07032761146495217,
          0.0701886350982796,
          0.07004982174740738,
          0.06991121900865122,
          0.06977269465775345,
          0.06963443640513751,
          0.0694962984276867,
          0.06935838550868126,
          0.06922060144889004,
          0.06908298746298713,
          0.06894554119234277,
          0.0688082873283188,
          0.06867120329101972,
          0.06853426631850862,
          0.06839751473898564,
          0.06826088827061855,
          0.06812449019792523,
          0.06798819861096075,
          0.06785211709476123,
          0.06771618846419636,
          0.06758043086798125,
          0.06744483153026881,
          0.06730941216218818,
          0.06717417385216544,
          0.06703903086947949,
          0.06690409167392875,
          0.06676932960434724,
          0.06663470380578784,
          0.06650026412266968,
          0.06636595906181052,
          0.06623185974995767,
          0.06609784767398649,
          0.06596408220037793,
          0.0658304056754492,
          0.0656969391386333,
          0.06556363770654203,
          0.06543044189473708,
          0.06529742366348486,
          0.06516459839210283,
          0.06503188133689446,
          0.06489939513899969,
          0.06476698303984595,
          0.06463477877822883,
          0.06450270422036862,
          0.06437081441998649,
          0.06423911051506334,
          0.06410751738194102,
          0.06397610849095256,
          0.06384481569017839,
          0.0637136798949031,
          0.06358270940028193,
          0.0634519272463188,
          0.06332126106055325,
          0.06319079999201942,
          0.06306044931711681,
          0.06293026521916,
          0.06280025985652242,
          0.06267037489894912,
          0.06254067438539479,
          0.0624111277557234,
          0.062281678025793714,
          0.06215240634279478,
          0.06202332883568973,
          0.061894350794935084,
          0.06176555012023618,
          0.06163692414604732,
          0.061508381227402625,
          0.06138005654706437,
          0.061251881154522486,
          0.06112382361105476,
          0.06099591137898177,
          0.06086818745119402,
          0.06074059743425278,
          0.060613180586356445,
          0.06048589373450472,
          0.06035874155856681,
          0.06023175003774018,
          0.06010492987467732,
          0.05997825692389437,
          0.05985175157070732,
          0.05972530572615585,
          0.05959913853961419,
          0.05947303646573704,
          0.05934710388451305,
          0.059221316322238635,
          0.0590956884945745,
          0.058970201681019865,
          0.058844882502169515,
          0.0587197280661996,
          0.058594650023223754,
          0.05846977031672295,
          0.05834503435211252,
          0.05822042505723265,
          0.058095975308687216,
          0.05797171625609422,
          0.057847588754882835,
          0.057723581553075665,
          0.057599739892058965,
          0.05747603040910115,
          0.05735247425775306,
          0.05722905412333826,
          0.0571058401998172,
          0.056982694901414555,
          0.05685976608780797,
          0.05673693410748156,
          0.05661429829263976,
          0.0564917630657236,
          0.05636942614817482,
          0.056247206045672106,
          0.056125134634518084,
          0.056003181706134754,
          0.05588141886699792,
          0.05575981186981726,
          0.05563835127466266,
          0.05551698771609868,
          0.05539580799423263,
          0.05527476487739466,
          0.05515388248309139,
          0.05503314283211775,
          0.054912529905941934,
          0.05479212102970562,
          0.054671766367965446,
          0.054551645539099025,
          0.0544316552928779,
          0.054311800781710655,
          0.05419208720259278,
          0.05407250687977848,
          0.053953106011299795,
          0.05383384037887779,
          0.05371471738519564,
          0.05359577273494328,
          0.05347692271808601,
          0.05335822032946984,
          0.05323966218328885,
          0.0531213149903394,
          0.053003107682978653,
          0.052885019186306434,
          0.05276705912283855,
          0.05264927921225183,
          0.05253160975112931,
          0.052414118115430716,
          0.05229676988686289,
          0.052179574957170925,
          0.052062520945196755,
          0.051945611044670825,
          0.051828843984656904,
          0.05171222073276379,
          0.051595780621187505,
          0.051479490971775545,
          0.05136332787492687,
          0.05124732399414704,
          0.051131412109537214,
          0.05101572063752538,
          0.050900111566124576,
          0.050784670274432536,
          0.05066940709940581,
          0.05055428641491326,
          0.05043932073673626,
          0.05032443941508111,
          0.050209791418195794,
          0.05009523426767383,
          0.04998085942698919,
          0.04986662846353042,
          0.049752540028429326,
          0.04963862090227301,
          0.049524794682117346,
          0.04941115389620523,
          0.04929767148920571,
          0.04918431778745149,
          0.049071098427627226,
          0.048958059521088663,
          0.048845190403903053,
          0.04873242297869521,
          0.048619841757103065,
          0.04850738563693834,
          0.04839511081725089,
          0.04828292211859202,
          0.04817090472776347,
          0.04805907437666255,
          0.047947352250669026,
          0.04783578778099717,
          0.047724418663173084,
          0.04761317291735662,
          0.04750208326997672,
          0.04739111642805973,
          0.04728031511431977,
          0.047169668155171186,
          0.047059174165576444,
          0.04694880942935824,
          0.046838619598414476,
          0.046728563557822456,
          0.046618642255128226,
          0.04650891421644137,
          0.0463993180882369,
          0.046289882471572154,
          0.04618059842407257,
          0.04607142154114929,
          0.045962426038788376,
          0.045853605593889485,
          0.04574490801330136,
          0.045636392846413534,
          0.045527994915475725,
          0.04541980476831805,
          0.045311685156072694,
          0.0452037473249072,
          0.04509599258010756,
          0.04498836013304769,
          0.04488089495945944,
          0.04477356446264315,
          0.044666411314727095,
          0.04455941328186444,
          0.04445250077471382,
          0.04434581092093882,
          0.04423924796624999,
          0.04413286294881916,
          0.04402658973136512,
          0.04392048213733881,
          0.04381452808502101,
          0.04370874067646234,
          0.04360310510525427,
          0.04349767600480307,
          0.04339228586037606,
          0.04328713800475565,
          0.04318210076020466,
          0.04307726411768685,
          0.04297251711934618,
          0.04286796904931306,
          0.042763534252975854,
          0.04265933636531627,
          0.042555156908620564,
          0.04245126888114002,
          0.04234748474371736,
          0.04224385073267492,
          0.04214038314969171,
          0.0420370333753786,
          0.04193388695385595,
          0.041830905035950584,
          0.04172802188303544,
          0.04162533891027251,
          0.04152278190428988,
          0.04142039114890909,
          0.04131810448553726,
          0.04121606109055309,
          0.041114145267586506,
          0.04101237074112731,
          0.040910744256880745,
          0.04080931826885211,
          0.040707975595522576,
          0.04060686163877961,
          0.040505843031891114,
          0.04040502277308039,
          0.04030438357621459,
          0.0402038471713588,
          0.04010349125778475,
          0.040003245895347,
          0.03990323153248993,
          0.03980332122110673,
          0.03970359344770915,
          0.03960403195436974,
          0.03950458200758078,
          0.039405377395639096,
          0.039306239309690835,
          0.03920729147746894,
          0.03910846985506022,
          0.039009876866345085,
          0.038911411032135,
          0.038813103314005275,
          0.03871490830814528,
          0.038616942937328515,
          0.03851912281894117,
          0.03842138997821275,
          0.038323880259444346,
          0.03822649334899913,
          0.03812930957042341,
          0.03803226160931096,
          0.03793533669850363,
          0.037838605007795525,
          0.03774206185384125,
          0.03764566230123745,
          0.03754940590581351,
          0.03745330154202676,
          0.037357334801895556,
          0.037261581731372985,
          0.037165929652681985,
          0.03707051281377457,
          0.03697523385920458,
          0.03688006544831836,
          0.03678506540453532,
          0.03669024614091882,
          0.036595583613639744,
          0.03650110455707003,
          0.03640675444110236,
          0.03631253747673448,
          0.036218573630300954,
          0.036124692468423154,
          0.03603095925708847,
          0.03593744642056742,
          0.0358440338902385,
          0.035750820141438926,
          0.035657754496374316,
          0.035564882307591264,
          0.035472121406696956,
          0.03537952860709898,
          0.035287128325702334,
          0.03519485923187314,
          0.03510273894219793,
          0.03501078026922617,
          0.0349190428324638,
          0.03482741138812625,
          0.034735948776648935,
          0.034644679857064986,
          0.03455357584209817,
          0.034462577235223,
          0.034371766160443566,
          0.03428114410808278,
          0.03419060362476639,
          0.03410029898648146,
          0.03401010371102419,
          0.03392014394052537,
          0.03383030627521546,
          0.03374060204135841,
          0.03365106344139905,
          0.033561723019265695,
          0.03347251802002572,
          0.033383463478146656,
          0.0332946095522734,
          0.03320589825324343,
          0.03311731666626143,
          0.03302893809029554,
          0.03294073058556923,
          0.03285265655090618,
          0.032764770358640664,
          0.03267703789838665,
          0.03258945862561842,
          0.03250199796078564,
          0.03241473048841915,
          0.03232764696974977,
          0.03224068570608284,
          0.03215394001380224,
          0.032067311808076544,
          0.03198092944907294,
          0.031894592359849885,
          0.0318084527946796,
          0.031722506857934665,
          0.031636695411759244,
          0.03155113578036115,
          0.03146558583424599,
          0.03138028493716227,
          0.03129514770769159,
          0.031210121399542663,
          0.031125329413918552,
          0.03104065928365344,
          0.030956147734853195,
          0.03087179229893995,
          0.030787641524602054,
          0.03070358239930031,
          0.03061975635096355,
          0.03053607284883796,
          0.03045251490955328,
          0.030369158319765825,
          0.03028593747428971,
          0.030202895894109183,
          0.03012001477044055,
          0.030037313841048137,
          0.029954748933558588,
          0.02987233481567071,
          0.029790106932583552,
          0.029708017847631208,
          0.029626111938927256,
          0.029544350341286676,
          0.029462755000314683,
          0.029381337206704907,
          0.029300068641480378,
          0.0292189794355452,
          0.02913802014621875,
          0.0290572209059562,
          0.02897663126436201,
          0.02889616232844353,
          0.028815870659096174,
          0.028735786100876196,
          0.02865581187384681,
          0.02857597945851652,
          0.028496314558411694,
          0.02841681243733186,
          0.028337503222544524,
          0.02825834837142536,
          0.028179356414429972,
          0.028100499725540972,
          0.0280218168368432,
          0.02794327797054294,
          0.027864929256304807,
          0.027786753449426514,
          0.027708703697352254,
          0.027630820040810657,
          0.02755312184507331,
          0.027475586320528957,
          0.027398167046812978,
          0.02732093851504283,
          0.02724390875692859,
          0.027166946622953665,
          0.0270902073934773,
          0.02701361970666842,
          0.02693720970507693,
          0.026860961569076355,
          0.026784856036037703,
          0.02670894771866314,
          0.02663314541816768,
          0.026557490589957374,
          0.026482036151126466,
          0.026406708874185884,
          0.02633153858786406,
          0.026256629725395705,
          0.026181782219107986,
          0.026107111419880324,
          0.026032606550555067,
          0.02595826343398891,
          0.025884118320016677,
          0.025810072557491064,
          0.025736223126452226,
          0.0256624923349838,
          0.025588990395170038,
          0.025515580128284553,
          0.025442353841034264,
          0.025369303948891874,
          0.025296387110034985,
          0.025223628708845987,
          0.02515100119125806,
          0.02507860085594437,
          0.025006336567681687,
          0.02493418966651274,
          0.024862253652180345,
          0.024790429397178838,
          0.02471879087443535,
          0.02464733025698213,
          0.02457598396368279,
          0.0245048527581156,
          0.02443382297952644,
          0.02436303886620528,
          0.024292328846577838,
          0.024221764461512172,
          0.024151415675876847,
          0.024081176816520083,
          0.024011114301531414,
          0.02394120171943955,
          0.02387148671676495,
          0.02380187687777346,
          0.02373247123440314,
          0.023663171960018554,
          0.023594120613638865,
          0.023525112777136484,
          0.023456310134875917,
          0.023387641077680786,
          0.02331915920447317,
          0.023250807337786186,
          0.023182611735900215,
          0.023114600223243843,
          0.023046726442520968,
          0.02297899921344479,
          0.022911459214183104,
          0.02284405841860545,
          0.022776826173733784,
          0.022709717840494192,
          0.022642713955027826,
          0.022575964989346633,
          0.022509342621988924,
          0.022442894665052716,
          0.02237656674488915,
          0.02231037558606982,
          0.022244381286078887,
          0.022178483246556704,
          0.02211280736295839,
          0.022047271136598497,
          0.021981875816589076,
          0.021916631295818844,
          0.02185155890339108,
          0.021786642815515747,
          0.0217218536172249,
          0.02165723343444115,
          0.02159274200120409,
          0.02152840683626164,
          0.021464180531508392,
          0.02140018850562531,
          0.021336336701243817,
          0.021272582600654608,
          0.021209017652885437,
          0.021145613284000594,
          0.02108233090879174,
          0.021019282399434066,
          0.02095630876814726,
          0.0208934740718883,
          0.02083083056402241,
          0.020768302900034962,
          0.020705970139059417,
          0.020643757916846923,
          0.02058170904135215,
          0.0205198264127105,
          0.020458078108268933,
          0.020396448938566725,
          0.020335009400979064,
          0.020273717435473362,
          0.020212569344921875,
          0.020151510113356464,
          0.020090686138099806,
          0.020029981868577035,
          0.019969460336773354,
          0.019909020149642204,
          0.01984874342902822,
          0.019788605930825272,
          0.019728636957142352,
          0.019668844708054287,
          0.019609145459032286,
          0.01954961821981993,
          0.019490278005718384,
          0.019431059129320995,
          0.019371961201024312,
          0.01931299437287297,
          0.019254225602145455,
          0.019195609706690084,
          0.01913708269661253,
          0.01907876666411099,
          0.01902054343519162,
          0.01896250902310182,
          0.01890458511231723,
          0.018846808239038695,
          0.018789188279010476,
          0.018731694829000955,
          0.01867438126696268,
          0.018617182815069327,
          0.018560124058831416,
          0.01850324561324066,
          0.018446479725593264,
          0.018389867794603828,
          0.018333421565069535,
          0.01827712266768516,
          0.018220931737669623,
          0.018164917870603255,
          0.01810898949516825,
          0.018053232848049734,
          0.017997624460366464,
          0.01794217382108022,
          0.01788683358407798,
          0.017831677407726475,
          0.017776605499280455,
          0.01772172292872349,
          0.017666924382343713,
          0.017612318881562946,
          0.017557884192424333,
          0.017503523807097635,
          0.017449319313674137,
          0.017395276352174437,
          0.017341413215655656,
          0.0172875548169473,
          0.017233994200306878,
          0.01718050037981055,
          0.017127060387032225,
          0.017073877573913723,
          0.017020773102666344,
          0.016967859199362077,
          0.01691505076294175,
          0.01686243335638113,
          0.01680986680309149,
          0.016757468813870878,
          0.016705247943672424,
          0.016653121097898536,
          0.01660118295432041,
          0.016549310428543008,
          0.016497631156782804,
          0.01644602043079019,
          0.016394583635653243,
          0.016343284126818677,
          0.01629219197638538,
          0.016241173847491706,
          0.016190263695777397,
          0.01613950311660318,
          0.01608894869822808,
          0.016038459035197516,
          0.01598808389039069,
          0.015937877306083318,
          0.015887809739113176,
          0.015837815435028546,
          0.01578801583381719,
          0.015738361005398736,
          0.015688847686718608,
          0.015639404645717416,
          0.015590094622781353,
          0.015540961488457114,
          0.015491949627278132,
          0.01544310165481869,
          0.01539435485254443,
          0.015345743848216927,
          0.015297267558246341,
          0.015248916770196764,
          0.01520061465995181,
          0.015152586898766801,
          0.015104641496693928,
          0.015056827080658664,
          0.015009129389908523,
          0.014961521821090232,
          0.014914116469082517,
          0.01486675572106601,
          0.014819597606454068,
          0.014772576589176401,
          0.014725633702281941,
          0.014678838594573246,
          0.014632158373124106,
          0.014585559221767061,
          0.014539222578714291,
          0.014492928059953525,
          0.014446759674832986,
          0.01440075400392765,
          0.014354844692023692,
          0.01430909622733846,
          0.014263451494807273,
          0.014217898188086348,
          0.014172532165204522,
          0.014127236773874797,
          0.014082147549672762,
          0.014037100612227089,
          0.013992192570520619,
          0.01394740233436458,
          0.013902825767906354,
          0.013858263324221102,
          0.013813871574889275,
          0.013769616767604215,
          0.013725458878723274,
          0.013681406292075987,
          0.013637524584778146,
          0.013593722814773912,
          0.013550095726874063,
          0.013506514649034403,
          0.013463155670523334,
          0.013419847990159349,
          0.013376692733243746,
          0.013333611164238384,
          0.013290739219490562,
          0.013247913072081334,
          0.013205256589815672,
          0.013162682979028567,
          0.01312026347560413,
          0.013077919464336354,
          0.013035711961854662,
          0.012993628859315069,
          0.012951696087520422,
          0.012909877350452233,
          0.012868113259502314,
          0.01282647695805907,
          0.012785052214212911,
          0.012743652108757103,
          0.01270240060838684,
          0.012661269283184428,
          0.01262026795610328,
          0.01257937591897074,
          0.012538565226785283,
          0.012497888490101321,
          0.01245740017134557,
          0.012416945074661827,
          0.012376665205012254,
          0.012336420728832292,
          0.012296385367405196,
          0.012256401480315718,
          0.01221655891054815,
          0.012176776586767916,
          0.012137231947572534,
          0.012097686752604829,
          0.012058280985833645,
          0.012019008148835659,
          0.011979847077015177,
          0.01194077327787238,
          0.01190187380862657,
          0.011863005638767745,
          0.011824318605139331,
          0.011785719419397038,
          0.011747218857534061,
          0.01170885082702421,
          0.01167057174704654,
          0.01163243128398178,
          0.011594394408472285,
          0.011556479142569258,
          0.011518611518708345,
          0.011480902280365855,
          0.011443291954063935,
          0.011405867636939324,
          0.011368430203252981,
          0.01133117280236218,
          0.011294001870028152,
          0.011256909213858057,
          0.01122001817358152,
          0.011183183706205017,
          0.011146492536916798,
          0.01110985243367613,
          0.011073343409107506,
          0.011036954238513823,
          0.011000723480859821,
          0.01096448183252316,
          0.010928403954876719,
          0.010892455404298076,
          0.010856596249005288,
          0.010820823679522333,
          0.010785159470873908,
          0.010749635160167562,
          0.010714204941981997,
          0.010678838411097106,
          0.010643630539228932,
          0.01060845876543744,
          0.010573482753844045,
          0.010538556360970095,
          0.010503740000646015,
          0.010469054578084168,
          0.0104344700205789,
          0.01039994640700107,
          0.010365550328532517,
          0.010331256296894359,
          0.010297105608082249,
          0.010262984489063333,
          0.010228976459180462,
          0.010195109056013224,
          0.010161309217230585,
          0.010127678558241999,
          0.010094052262807221,
          0.01006056995619239,
          0.010027208046882808,
          0.009993878191913374,
          0.009960752373265323,
          0.009927644646608903,
          0.009894712189457451,
          0.009861825062999693,
          0.009829050345010247,
          0.00979634645731171,
          0.009763803535705195,
          0.009731312164442743,
          0.009698926124659937,
          0.009666677335140178,
          0.00963444105603919,
          0.009602342818048285
         ]
        },
        {
         "name": "error training",
         "type": "scatter",
         "y": [
          2.057673454284668,
          0.25542524456977844,
          0.12221464514732361,
          0.11667003482580185,
          0.11629145592451096,
          0.11605112254619598,
          0.11581514775753021,
          0.11558009684085846,
          0.11534580588340759,
          0.1151123046875,
          0.11487958580255508,
          0.11464758962392807,
          0.11441640555858612,
          0.11418601125478745,
          0.11395630985498428,
          0.11372734606266022,
          0.11349914222955704,
          0.11327167600393295,
          0.11304493993520737,
          0.11281893402338028,
          0.11259359121322632,
          0.11236899346113205,
          0.1121450662612915,
          0.11192192137241364,
          0.11169943958520889,
          0.1114775612950325,
          0.11125645786523819,
          0.1110360398888588,
          0.11081626266241074,
          0.1105971559882164,
          0.11037874221801758,
          0.11016090959310532,
          0.10994377732276917,
          0.10972727835178375,
          0.10951142758131027,
          0.10929623246192932,
          0.1090816780924797,
          0.10886771976947784,
          0.10865440964698792,
          0.10844171047210693,
          0.1082296147942543,
          0.10801815241575241,
          0.10780728608369827,
          0.1075969859957695,
          0.10738730430603027,
          0.10717824846506119,
          0.10696972906589508,
          0.10676185041666031,
          0.10655450075864792,
          0.10634776204824448,
          0.1061415821313858,
          0.10593593120574951,
          0.10573092848062515,
          0.1055263876914978,
          0.1053224503993988,
          0.10511906445026398,
          0.10491620004177094,
          0.10471390932798386,
          0.10451216250658035,
          0.10431087017059326,
          0.1041102185845375,
          0.10391005128622055,
          0.10371037572622299,
          0.1035112589597702,
          0.10331261157989502,
          0.1031145453453064,
          0.10291694849729538,
          0.10271989554166794,
          0.10252327471971512,
          0.10232719033956528,
          0.10213156044483185,
          0.1019364669919014,
          0.10174185037612915,
          0.10154770314693451,
          0.10135406255722046,
          0.10116089880466461,
          0.10096821933984756,
          0.10077597945928574,
          0.1005842313170433,
          0.1003928929567337,
          0.10020208358764648,
          0.10001170635223389,
          0.09982176870107651,
          0.09963228553533554,
          0.09944327920675278,
          0.09925469756126404,
          0.09906657040119171,
          0.0988788828253746,
          0.09869156032800674,
          0.09850475937128067,
          0.09831839054822922,
          0.0981324166059494,
          0.09794683009386063,
          0.09776172786951065,
          0.09757702797651291,
          0.09739277511835098,
          0.09720887988805771,
          0.09702542424201965,
          0.09684237092733383,
          0.09665969759225845,
          0.0964774563908577,
          0.09629563242197037,
          0.09611417353153229,
          0.09593307971954346,
          0.09575240314006805,
          0.09557218104600906,
          0.09539227187633514,
          0.09521280229091644,
          0.0950336754322052,
          0.094854936003685,
          0.09467655420303345,
          0.09449857473373413,
          0.09432100504636765,
          0.09414374083280563,
          0.09396689385175705,
          0.09379035234451294,
          0.09361422061920166,
          0.09343845397233963,
          0.09326303005218506,
          0.09308798611164093,
          0.0929132029414177,
          0.09273885190486908,
          0.09256484359502792,
          0.09239119291305542,
          0.09221787750720978,
          0.0920448899269104,
          0.09187225997447968,
          0.091699980199337,
          0.0915280133485794,
          0.09135635197162628,
          0.09118504077196121,
          0.0910140872001648,
          0.09084346145391464,
          0.09067314118146896,
          0.09050317853689194,
          0.09033352881669998,
          0.09016415476799011,
          0.08999515324831009,
          0.08982643485069275,
          0.08965808153152466,
          0.08949001133441925,
          0.08932221680879593,
          0.08915477991104126,
          0.08898761123418808,
          0.08882078528404236,
          0.08865420520305634,
          0.08848801255226135,
          0.08832206577062607,
          0.08815643191337585,
          0.08799109607934952,
          0.08782603591680527,
          0.0876612737774849,
          0.08749684691429138,
          0.08733263611793518,
          0.08716877549886703,
          0.08700520545244217,
          0.0868418738245964,
          0.08667884021997452,
          0.08651610463857651,
          0.08635368198156357,
          0.08619143813848495,
          0.08602956682443619,
          0.08586793392896652,
          0.08570658415555954,
          0.08554549515247345,
          0.08538469672203064,
          0.08522413671016693,
          0.08506382256746292,
          0.08490385860204697,
          0.08474405109882355,
          0.08458460867404938,
          0.08442538231611252,
          0.08426641672849655,
          0.08410776406526566,
          0.08394932001829147,
          0.08379114419221878,
          0.083633191883564,
          0.08347553014755249,
          0.08331810683012009,
          0.08316097408533096,
          0.08300402760505676,
          0.08284738659858704,
          0.08269092440605164,
          0.08253474533557892,
          0.0823788270354271,
          0.08222313970327377,
          0.08206769078969955,
          0.08191248774528503,
          0.08175753057003021,
          0.08160281926393509,
          0.08144830912351608,
          0.08129407465457916,
          0.08114005625247955,
          0.08098626136779785,
          0.08083272725343704,
          0.08067941665649414,
          0.08052636682987213,
          0.08037348836660385,
          0.08022084087133408,
          0.0800684466958046,
          0.07991630584001541,
          0.07976433634757996,
          0.0796126127243042,
          0.07946112006902695,
          0.079309843480587,
          0.07915879040956497,
          0.07900797575712204,
          0.07885737717151642,
          0.07870694249868393,
          0.07855679094791412,
          0.07840678095817566,
          0.07825704663991928,
          0.078107550740242,
          0.07795821130275726,
          0.07780910283327103,
          0.0776602029800415,
          0.07751154154539108,
          0.07736305892467499,
          0.07721477001905441,
          0.07706670463085175,
          0.07691885530948639,
          0.07677123695611954,
          0.07662375271320343,
          0.07647655159235,
          0.07632951438426971,
          0.07618267089128494,
          0.07603604346513748,
          0.07588957995176315,
          0.0757434070110321,
          0.0755973532795906,
          0.07545149326324463,
          0.07530589401721954,
          0.0751604437828064,
          0.07501520216464996,
          0.07487017661333084,
          0.07472529262304306,
          0.07458063215017319,
          0.07443616539239883,
          0.07429191470146179,
          0.07414781302213669,
          0.07400394231081009,
          0.07386022806167603,
          0.07371670752763748,
          0.07357340306043625,
          0.07343025505542755,
          0.07328731566667557,
          0.07314455509185791,
          0.07300197333097458,
          0.07285957783460617,
          0.07271741330623627,
          0.0725753903388977,
          0.07243356853723526,
          0.07229191809892654,
          0.07215043157339096,
          0.0720091462135315,
          0.07186803221702576,
          0.07172707468271255,
          0.07158632576465607,
          0.0714457705616951,
          0.07130539417266846,
          0.07116516679525375,
          0.07102514803409576,
          0.07088529318571091,
          0.07074560970067978,
          0.07060609757900238,
          0.0704667791724205,
          0.07032760977745056,
          0.07018863409757614,
          0.07004982233047485,
          0.06991121917963028,
          0.06977269798517227,
          0.06963443756103516,
          0.06949629634618759,
          0.06935838609933853,
          0.06922060251235962,
          0.06908299028873444,
          0.06894554197788239,
          0.06880828738212585,
          0.06867120414972305,
          0.06853426992893219,
          0.06839751452207565,
          0.06826088577508926,
          0.06812448799610138,
          0.06798820197582245,
          0.06785211712121964,
          0.06771618872880936,
          0.06758043169975281,
          0.0674448311328888,
          0.0673094093799591,
          0.06717417389154434,
          0.06703902781009674,
          0.06690409034490585,
          0.06676933169364929,
          0.06663470715284348,
          0.06650026142597198,
          0.06636595726013184,
          0.0662318617105484,
          0.06609784811735153,
          0.06596408039331436,
          0.06583040207624435,
          0.06569693982601166,
          0.0655636340379715,
          0.06543044000864029,
          0.06529742479324341,
          0.06516459584236145,
          0.06503187865018845,
          0.06489939242601395,
          0.06476698070764542,
          0.0646347776055336,
          0.06450270116329193,
          0.06437081098556519,
          0.06423910707235336,
          0.0641075149178505,
          0.06397610902786255,
          0.06384481489658356,
          0.0637136772274971,
          0.06358271092176437,
          0.06345193088054657,
          0.06332126259803772,
          0.06319080293178558,
          0.0630604475736618,
          0.06293026357889175,
          0.06280025839805603,
          0.06267037242650986,
          0.06254067271947861,
          0.06241112947463989,
          0.06228167936205864,
          0.06215240806341171,
          0.062023330479860306,
          0.06189434975385666,
          0.06176555156707764,
          0.061636924743652344,
          0.06150837987661362,
          0.0613800548017025,
          0.06125188246369362,
          0.06112382188439369,
          0.060995910316705704,
          0.06086818873882294,
          0.060740597546100616,
          0.060613181442022324,
          0.06048589199781418,
          0.060358740389347076,
          0.06023174896836281,
          0.06010492891073227,
          0.05997825786471367,
          0.0598517507314682,
          0.059725306928157806,
          0.0595991387963295,
          0.05947303771972656,
          0.05934710428118706,
          0.05922131612896919,
          0.05909568816423416,
          0.05897020176053047,
          0.05884488299489021,
          0.05871972814202309,
          0.05859465152025223,
          0.05846976861357689,
          0.05834503471851349,
          0.05822042375802994,
          0.05809597671031952,
          0.05797171592712402,
          0.05784758925437927,
          0.05772358179092407,
          0.057599738240242004,
          0.05747602880001068,
          0.05735247582197189,
          0.05722905322909355,
          0.057105839252471924,
          0.05698269605636597,
          0.05685976520180702,
          0.056736934930086136,
          0.05661429837346077,
          0.05649176239967346,
          0.05636942759156227,
          0.056247204542160034,
          0.056125134229660034,
          0.056003183126449585,
          0.05588141828775406,
          0.05575981363654137,
          0.055638350546360016,
          0.055516988039016724,
          0.055395808070898056,
          0.05527476593852043,
          0.05515388399362564,
          0.05503314360976219,
          0.05491252988576889,
          0.054792121052742004,
          0.054671768099069595,
          0.05455164611339569,
          0.05443165451288223,
          0.05431180074810982,
          0.054192088544368744,
          0.054072506725788116,
          0.053953107446432114,
          0.05383383855223656,
          0.05371471866965294,
          0.05359577387571335,
          0.05347692221403122,
          0.05335821956396103,
          0.05323966220021248,
          0.05312131345272064,
          0.05300310626626015,
          0.0528850182890892,
          0.052767060697078705,
          0.052649278193712234,
          0.052531611174345016,
          0.052414119243621826,
          0.05229676887392998,
          0.052179574966430664,
          0.05206252261996269,
          0.05194561183452606,
          0.05182884261012077,
          0.05171222239732742,
          0.0515957809984684,
          0.05147949233651161,
          0.051363326609134674,
          0.05124732479453087,
          0.051131412386894226,
          0.05101571977138519,
          0.050900112837553024,
          0.05078466981649399,
          0.05066940560936928,
          0.05055428668856621,
          0.050439320504665375,
          0.050324440002441406,
          0.05020979046821594,
          0.05009523406624794,
          0.04998086020350456,
          0.049866627901792526,
          0.04975254088640213,
          0.049638621509075165,
          0.04952479526400566,
          0.04941115528345108,
          0.049297671765089035,
          0.049184318631887436,
          0.04907109960913658,
          0.04895805940032005,
          0.048845190554857254,
          0.04873242229223251,
          0.048619840294122696,
          0.048507384955883026,
          0.04839511215686798,
          0.0482829213142395,
          0.04817090556025505,
          0.04805907607078552,
          0.04794735088944435,
          0.04783578962087631,
          0.047724418342113495,
          0.047613173723220825,
          0.04750208184123039,
          0.04739111661911011,
          0.047280315309762955,
          0.04716966673731804,
          0.04705917462706566,
          0.046948809176683426,
          0.04683861881494522,
          0.04672856256365776,
          0.046618640422821045,
          0.04650891572237015,
          0.0463993176817894,
          0.04628988355398178,
          0.0461805984377861,
          0.04607142135500908,
          0.04596242681145668,
          0.04585360735654831,
          0.04574490711092949,
          0.04563639312982559,
          0.04552799463272095,
          0.045419804751873016,
          0.045311685651540756,
          0.04520374909043312,
          0.04509599134325981,
          0.04498836025595665,
          0.04488089680671692,
          0.044773563742637634,
          0.044666409492492676,
          0.04455941170454025,
          0.044452499598264694,
          0.04434581100940704,
          0.04423924908041954,
          0.044132862240076065,
          0.04402659088373184,
          0.04392048344016075,
          0.0438145287334919,
          0.043708741664886475,
          0.04360310360789299,
          0.04349767416715622,
          0.04339228570461273,
          0.043287139385938644,
          0.04318210110068321,
          0.0430772639811039,
          0.042972516268491745,
          0.04286796972155571,
          0.04276353493332863,
          0.04265933483839035,
          0.04255515709519386,
          0.042451269924640656,
          0.04234748333692551,
          0.042243849486112595,
          0.04214038327336311,
          0.042037032544612885,
          0.04193388670682907,
          0.04183090478181839,
          0.04172802343964577,
          0.04162533953785896,
          0.041522782295942307,
          0.04142039269208908,
          0.041318103671073914,
          0.041216060519218445,
          0.041114144027233124,
          0.041012369096279144,
          0.0409107431769371,
          0.04080931842327118,
          0.04070797562599182,
          0.04060686007142067,
          0.04050584137439728,
          0.04040502384305,
          0.040304385125637054,
          0.040203846991062164,
          0.0401034913957119,
          0.04000324755907059,
          0.03990323096513748,
          0.03980332240462303,
          0.03970359265804291,
          0.039604030549526215,
          0.039504580199718475,
          0.039405375719070435,
          0.039306238293647766,
          0.03920729085803032,
          0.03910847008228302,
          0.03900987654924393,
          0.03891140967607498,
          0.03881310299038887,
          0.03871490806341171,
          0.03861694410443306,
          0.03851912170648575,
          0.0384213887155056,
          0.03832387924194336,
          0.03822649270296097,
          0.03812931105494499,
          0.03803225979208946,
          0.03793533518910408,
          0.03783860430121422,
          0.03774206340312958,
          0.03764566406607628,
          0.03754940629005432,
          0.0374533012509346,
          0.03735733404755592,
          0.03726158291101456,
          0.03716592863202095,
          0.037070512771606445,
          0.03697523474693298,
          0.03688006475567818,
          0.0367850661277771,
          0.03669024631381035,
          0.03659558296203613,
          0.03650110587477684,
          0.036406755447387695,
          0.036312539130449295,
          0.03621857240796089,
          0.03612469136714935,
          0.03603095933794975,
          0.03593744710087776,
          0.03584403544664383,
          0.035750821232795715,
          0.03565775603055954,
          0.035564880818128586,
          0.035472121089696884,
          0.03537952899932861,
          0.035287126898765564,
          0.03519485890865326,
          0.03510273993015289,
          0.03501078113913536,
          0.03491904214024544,
          0.03482741117477417,
          0.03473594784736633,
          0.034644678235054016,
          0.03455357626080513,
          0.0344625785946846,
          0.034371767193078995,
          0.03428114578127861,
          0.03419060260057449,
          0.03410029783844948,
          0.03401010483503342,
          0.03392014279961586,
          0.03383030742406845,
          0.03374060243368149,
          0.033651065081357956,
          0.033561721444129944,
          0.03347251936793327,
          0.03338346257805824,
          0.03329461067914963,
          0.033205896615982056,
          0.03311731666326523,
          0.03302893787622452,
          0.03294073045253754,
          0.0328526571393013,
          0.03276477009057999,
          0.03267703950405121,
          0.03258945792913437,
          0.03250199928879738,
          0.03241473063826561,
          0.032327648252248764,
          0.03224068507552147,
          0.03215394169092178,
          0.03206731006503105,
          0.03198092803359032,
          0.03189459070563316,
          0.03180845454335213,
          0.03172250837087631,
          0.03163669630885124,
          0.03155113756656647,
          0.03146558627486229,
          0.03138028457760811,
          0.03129514679312706,
          0.031210120767354965,
          0.031125329434871674,
          0.031040659174323082,
          0.030956147238612175,
          0.030871791765093803,
          0.030787641182541847,
          0.030703581869602203,
          0.030619757249951363,
          0.030536072328686714,
          0.030452514067292213,
          0.03036915883421898,
          0.03028593771159649,
          0.030202895402908325,
          0.030120015144348145,
          0.03003731369972229,
          0.02995474822819233,
          0.029872335493564606,
          0.029790107160806656,
          0.0297080185264349,
          0.029626112431287766,
          0.029544349759817123,
          0.029462754726409912,
          0.029381336644291878,
          0.02930006943643093,
          0.02921897917985916,
          0.029138019308447838,
          0.029057221487164497,
          0.02897663041949272,
          0.028896162286400795,
          0.028815871104598045,
          0.02873578667640686,
          0.02865581214427948,
          0.02857597917318344,
          0.028496313840150833,
          0.028416812419891357,
          0.028337502852082253,
          0.028258347883820534,
          0.028179356828331947,
          0.028100499883294106,
          0.028021816164255142,
          0.02794327773153782,
          0.027864929288625717,
          0.027786754071712494,
          0.02770870365202427,
          0.027630820870399475,
          0.027553122490644455,
          0.027475586161017418,
          0.027398167178034782,
          0.02732093818485737,
          0.027243908494710922,
          0.02716694585978985,
          0.027090206742286682,
          0.027013620361685753,
          0.02693720906972885,
          0.026860961690545082,
          0.026784855872392654,
          0.026708947494626045,
          0.026633145287632942,
          0.02655749022960663,
          0.02648203633725643,
          0.026406709104776382,
          0.02633153833448887,
          0.026256630197167397,
          0.0261817816644907,
          0.02610711194574833,
          0.02603260613977909,
          0.025958264246582985,
          0.025884117931127548,
          0.02581007219851017,
          0.02573622390627861,
          0.025662492960691452,
          0.02558899112045765,
          0.02551558054983616,
          0.025442354381084442,
          0.025369303300976753,
          0.02529638633131981,
          0.0252236295491457,
          0.025151001289486885,
          0.025078600272536278,
          0.025006337091326714,
          0.0249341893941164,
          0.024862254038453102,
          0.024790428578853607,
          0.024718791246414185,
          0.02464733086526394,
          0.024575984105467796,
          0.024504853412508965,
          0.02443382330238819,
          0.024363039061427116,
          0.02429232932627201,
          0.024221764877438545,
          0.02415141649544239,
          0.02408117614686489,
          0.024011114612221718,
          0.023941202089190483,
          0.023871487006545067,
          0.023801876232028008,
          0.023732470348477364,
          0.023663172498345375,
          0.023594120517373085,
          0.023525113239884377,
          0.023456310853362083,
          0.023387640714645386,
          0.02331915870308876,
          0.02325080707669258,
          0.023182611912488937,
          0.023114601150155067,
          0.02304672636091709,
          0.022978998720645905,
          0.02291145920753479,
          0.02284405753016472,
          0.022776825353503227,
          0.022709717974066734,
          0.02264271304011345,
          0.022575965151190758,
          0.022509342059493065,
          0.0224428940564394,
          0.022376567125320435,
          0.022310376167297363,
          0.02224438078701496,
          0.02217848412692547,
          0.022112807258963585,
          0.022047271952033043,
          0.021981876343488693,
          0.02191663160920143,
          0.0218515582382679,
          0.02178664319217205,
          0.0217218529433012,
          0.02165723405778408,
          0.021592741832137108,
          0.02152840606868267,
          0.021464180201292038,
          0.02140018902719021,
          0.02133633755147457,
          0.021272582933306694,
          0.02120901830494404,
          0.021145613864064217,
          0.021082330495119095,
          0.021019281819462776,
          0.020956309512257576,
          0.02089347317814827,
          0.020830830559134483,
          0.02076830342411995,
          0.020705970004200935,
          0.02064375765621662,
          0.02058170922100544,
          0.02051982656121254,
          0.020458078011870384,
          0.02039644867181778,
          0.020335009321570396,
          0.020273717120289803,
          0.02021257020533085,
          0.02015151083469391,
          0.020090686157345772,
          0.020029982551932335,
          0.019969459623098373,
          0.019909020513296127,
          0.019848743453621864,
          0.019788606092333794,
          0.019728636369109154,
          0.01966884545981884,
          0.01960914582014084,
          0.019549617543816566,
          0.019490277394652367,
          0.019431058317422867,
          0.019371960312128067,
          0.019312994554638863,
          0.019254226237535477,
          0.01919560879468918,
          0.019137082621455193,
          0.01907876692712307,
          0.01902054436504841,
          0.01896250993013382,
          0.018904585391283035,
          0.01884680800139904,
          0.01878918893635273,
          0.018731694668531418,
          0.01867438107728958,
          0.018617182970046997,
          0.018560124561190605,
          0.01850324496626854,
          0.018446478992700577,
          0.01838986761868,
          0.018333422020077705,
          0.0182771235704422,
          0.0182209312915802,
          0.018164917826652527,
          0.018108990043401718,
          0.01805323362350464,
          0.01799762435257435,
          0.017942173406481743,
          0.01788683421909809,
          0.017831677570939064,
          0.017776604741811752,
          0.01772172376513481,
          0.017666924744844437,
          0.017612319439649582,
          0.017557883635163307,
          0.01750352419912815,
          0.01744931936264038,
          0.017395276576280594,
          0.017341412603855133,
          0.01728755421936512,
          0.017233993858098984,
          0.01718050055205822,
          0.017127061262726784,
          0.017073877155780792,
          0.017020773142576218,
          0.016967859119176865,
          0.016915051266551018,
          0.016862433403730392,
          0.016809867694973946,
          0.01675746962428093,
          0.01670524850487709,
          0.016653120517730713,
          0.016601182520389557,
          0.016549309715628624,
          0.01649763062596321,
          0.01644602045416832,
          0.016394583508372307,
          0.016343284398317337,
          0.016292192041873932,
          0.016241174191236496,
          0.016190264374017715,
          0.016139503568410873,
          0.016088949516415596,
          0.016038458794355392,
          0.01598808355629444,
          0.01593787781894207,
          0.015887809917330742,
          0.015837814658880234,
          0.015788014978170395,
          0.015738360583782196,
          0.01568884775042534,
          0.015639403834939003,
          0.015590094961225986,
          0.015540961176156998,
          0.015491949394345284,
          0.015443101525306702,
          0.015394355170428753,
          0.015345743857324123,
          0.015297267585992813,
          0.015248917043209076,
          0.015200614929199219,
          0.015152586624026299,
          0.015104641206562519,
          0.01505682710558176,
          0.015009129419922829,
          0.014961522072553635,
          0.014914116822183132,
          0.014866755343973637,
          0.014819597825407982,
          0.014772576279938221,
          0.014725633896887302,
          0.014678838662803173,
          0.014632157981395721,
          0.014585559256374836,
          0.014539222232997417,
          0.014492928050458431,
          0.014446759596467018,
          0.014400754123926163,
          0.014354844577610493,
          0.014309096150100231,
          0.014263451099395752,
          0.01421789824962616,
          0.014172532595694065,
          0.014127236790955067,
          0.014082147739827633,
          0.014037100598216057,
          0.013992192223668098,
          0.013947402127087116,
          0.013902825303375721,
          0.01385826338082552,
          0.013813871890306473,
          0.01376961637288332,
          0.013725458644330502,
          0.013681406155228615,
          0.013637525029480457,
          0.013593723066151142,
          0.013550096191465855,
          0.013506514951586723,
          0.01346315536648035,
          0.013419847935438156,
          0.013376692309975624,
          0.013333611190319061,
          0.013290739618241787,
          0.013247912749648094,
          0.013205256313085556,
          0.013162682764232159,
          0.013120263814926147,
          0.013077919371426105,
          0.013035711832344532,
          0.012993629090487957,
          0.012951696291565895,
          0.012909877113997936,
          0.01286811288446188,
          0.01282647717744112,
          0.012785051949322224,
          0.012743651866912842,
          0.012702400796115398,
          0.012661268934607506,
          0.012620268389582634,
          0.012579375877976418,
          0.012538565322756767,
          0.012497888877987862,
          0.012457400560379028,
          0.012416944839060307,
          0.012376665137708187,
          0.012336420826613903,
          0.012296385131776333,
          0.012256401591002941,
          0.012216558679938316,
          0.012176776304841042,
          0.012137232348322868,
          0.012097686529159546,
          0.01205828133970499,
          0.01201900839805603,
          0.011979847215116024,
          0.011940773576498032,
          0.011901874095201492,
          0.011863005347549915,
          0.011824318207800388,
          0.01178571954369545,
          0.011747218668460846,
          0.011708850972354412,
          0.011670571751892567,
          0.011632431298494339,
          0.011594394221901894,
          0.011556479148566723,
          0.011518611572682858,
          0.011480902321636677,
          0.011443291790783405,
          0.011405867524445057,
          0.011368430219590664,
          0.011331172659993172,
          0.011294001713395119,
          0.011256908997893333,
          0.01122001837939024,
          0.011183183640241623,
          0.011146492324769497,
          0.011109852232038975,
          0.011073343455791473,
          0.011036953888833523,
          0.011000723578035831,
          0.010964482091367245,
          0.010928403586149216,
          0.010892455466091633,
          0.010856595821678638,
          0.010820823721587658,
          0.010785159654915333,
          0.0107496352866292,
          0.010714204981923103,
          0.01067883800715208,
          0.010643630288541317,
          0.010608458891510963,
          0.01057348307222128,
          0.01053855661302805,
          0.010503740049898624,
          0.01046905480325222,
          0.010434470139443874,
          0.010399946011602879,
          0.01036555040627718,
          0.010331256315112114,
          0.010297105647623539,
          0.010262984782457352,
          0.010228976607322693,
          0.010195109061896801,
          0.010161309503018856,
          0.010127678513526917,
          0.01009405218064785,
          0.010060570202767849,
          0.010027208365499973,
          0.009993878193199635,
          0.009960751980543137,
          0.009927644394338131,
          0.009894711896777153,
          0.009861825034022331,
          0.009829049929976463,
          0.00979634653776884,
          0.009763803333044052,
          0.009731312282383442,
          0.009698926471173763,
          0.009666677564382553,
          0.009634440764784813,
          0.00960234273225069
         ]
        },
        {
         "name": "error validation",
         "type": "scatter",
         "y": [
          0.18230445683002472,
          0.11006812006235123,
          0.12478449940681458,
          0.127177432179451,
          0.12707741558551788,
          0.12656505405902863,
          0.12598736584186554,
          0.12540048360824585,
          0.12481348216533661,
          0.12422794848680496,
          0.12364387512207031,
          0.12306167185306549,
          0.1224810779094696,
          0.12190214544534683,
          0.12132477760314941,
          0.12074911594390869,
          0.12017499655485153,
          0.11960257589817047,
          0.11903183162212372,
          0.11846252530813217,
          0.11789485067129135,
          0.11732875555753708,
          0.1167641133069992,
          0.11620122194290161,
          0.11563980579376221,
          0.11507980525493622,
          0.11452154815196991,
          0.11396469920873642,
          0.11340932548046112,
          0.11285559087991714,
          0.11230319738388062,
          0.111752450466156,
          0.11120297759771347,
          0.11065509915351868,
          0.11010860651731491,
          0.1095636785030365,
          0.1090201586484909,
          0.10847804695367813,
          0.10793740302324295,
          0.10739808529615402,
          0.10686029493808746,
          0.10632384568452835,
          0.10578878968954086,
          0.1052551344037056,
          0.10472274571657181,
          0.10419192910194397,
          0.1036624163389206,
          0.10313428193330765,
          0.10260742157697678,
          0.10208191722631454,
          0.10155785828828812,
          0.10103493183851242,
          0.1005135253071785,
          0.09999330341815948,
          0.0994744747877121,
          0.0989568829536438,
          0.09844061732292175,
          0.09792566299438477,
          0.09741194546222687,
          0.09689949452877045,
          0.09638841450214386,
          0.09587868303060532,
          0.09536989033222198,
          0.09486260265111923,
          0.09435634315013885,
          0.09385155141353607,
          0.09334786981344223,
          0.09284543991088867,
          0.09234416484832764,
          0.09184412658214569,
          0.09134542942047119,
          0.09084774553775787,
          0.090351402759552,
          0.08985617011785507,
          0.08936218172311783,
          0.08886934071779251,
          0.0883776992559433,
          0.0878872200846672,
          0.08739780634641647,
          0.08690964430570602,
          0.0864226445555687,
          0.08593667298555374,
          0.08545200526714325,
          0.08496835827827454,
          0.08448579907417297,
          0.08400456607341766,
          0.08352431654930115,
          0.08304525166749954,
          0.08256712555885315,
          0.0820903480052948,
          0.08161449432373047,
          0.08114001154899597,
          0.08066607266664505,
          0.08019367605447769,
          0.07972239702939987,
          0.07925201207399368,
          0.07878261059522629,
          0.07831446826457977,
          0.07784733921289444,
          0.07738128304481506,
          0.07691620290279388,
          0.07645222544670105,
          0.07598923146724701,
          0.07552740722894669,
          0.07506651431322098,
          0.0746067687869072,
          0.07414800673723221,
          0.07369019836187363,
          0.0732334777712822,
          0.07277781516313553,
          0.07232318818569183,
          0.07186953723430634,
          0.07141692191362381,
          0.07096508145332336,
          0.07051459699869156,
          0.07006500661373138,
          0.06961631774902344,
          0.06916875392198563,
          0.06872206926345825,
          0.06827640533447266,
          0.06783156096935272,
          0.06738787144422531,
          0.06694526225328445,
          0.06650348752737045,
          0.06606277078390121,
          0.06562289595603943,
          0.06518404185771942,
          0.06474624574184418,
          0.06430918723344803,
          0.06387323886156082,
          0.06343822926282883,
          0.06300415098667145,
          0.06257100403308868,
          0.06213891878724098,
          0.06170767545700073,
          0.06127749755978584,
          0.06084814295172691,
          0.060419682413339615,
          0.059992268681526184,
          0.05956568196415901,
          0.05914021655917168,
          0.058715496212244034,
          0.05829188600182533,
          0.057869017124176025,
          0.05744718760251999,
          0.05702618882060051,
          0.056606221944093704,
          0.056187067180871964,
          0.05576891824603081,
          0.05535171553492546,
          0.05493534356355667,
          0.05452001094818115,
          0.05410538241267204,
          0.05369193106889725,
          0.053279291838407516,
          0.05286756530404091,
          0.05245668441057205,
          0.05204674229025841,
          0.05163777619600296,
          0.05122973769903183,
          0.050822410732507706,
          0.0504162460565567,
          0.05001091957092285,
          0.04960646480321884,
          0.04920291155576706,
          0.048800259828567505,
          0.04839855059981346,
          0.04799770563840866,
          0.04759790748357773,
          0.04719892144203186,
          0.04680084437131882,
          0.04640374705195427,
          0.04600754752755165,
          0.045612335205078125,
          0.04521796107292175,
          0.044824548065662384,
          0.04443208500742912,
          0.04404037818312645,
          0.04364989697933197,
          0.04326016455888748,
          0.04287130385637283,
          0.04248344525694847,
          0.04209652915596962,
          0.04171052947640419,
          0.04132557660341263,
          0.04094155505299568,
          0.04055841639637947,
          0.04017633572220802,
          0.03979511559009552,
          0.03941496089100838,
          0.03903568908572197,
          0.03865744173526764,
          0.0382801853120327,
          0.03790374845266342,
          0.03752855211496353,
          0.037154216319322586,
          0.03678100183606148,
          0.0364086888730526,
          0.03603747487068176,
          0.035667285323143005,
          0.0352981761097908,
          0.03492993488907814,
          0.03456294909119606,
          0.03419695794582367,
          0.03383206948637962,
          0.033468179404735565,
          0.03310542553663254,
          0.032743681222200394,
          0.032383278012275696,
          0.032023828476667404,
          0.031665608286857605,
          0.03130846470594406,
          0.030952611938118935,
          0.03059789165854454,
          0.030244342982769012,
          0.02989204227924347,
          0.029541077092289925,
          0.029191186651587486,
          0.028842607513070107,
          0.028495337814092636,
          0.028149478137493134,
          0.027804862707853317,
          0.02746167778968811,
          0.0271198321133852,
          0.026779398322105408,
          0.026440290734171867,
          0.026102736592292786,
          0.02576667070388794,
          0.025432145223021507,
          0.025099191814661026,
          0.024767694994807243,
          0.02443797141313553,
          0.0241098590195179,
          0.023783521726727486,
          0.023458851501345634,
          0.023135950788855553,
          0.022814905270934105,
          0.022495675832033157,
          0.022178495302796364,
          0.021863184869289398,
          0.021549846976995468,
          0.021238718181848526,
          0.020929686725139618,
          0.020622912794351578,
          0.020318368449807167,
          0.020016321912407875,
          0.019716601818799973,
          0.019419318065047264,
          0.01912473887205124,
          0.01883281208574772,
          0.018543699756264687,
          0.01825741119682789,
          0.0179740097373724,
          0.017693839967250824,
          0.017416736111044884,
          0.01714293286204338,
          0.016872553154826164,
          0.016605857759714127,
          0.016342760995030403,
          0.01608356647193432,
          0.015828300267457962,
          0.01557722594588995,
          0.015330389142036438,
          0.015088064596056938,
          0.014850449748337269,
          0.014617595821619034,
          0.014389869756996632,
          0.014167319983243942,
          0.013950273394584656,
          0.013738755136728287,
          0.01353316567838192,
          0.01333374809473753,
          0.013140740804374218,
          0.012954245321452618,
          0.012774567119777203,
          0.012601915746927261,
          0.01243666559457779,
          0.012278985232114792,
          0.012129024602472782,
          0.011987277306616306,
          0.011853762902319431,
          0.011728840880095959,
          0.01161277387291193,
          0.011505484580993652,
          0.011407463811337948,
          0.011318984441459179,
          0.011239897459745407,
          0.011170553043484688,
          0.011111109517514706,
          0.011061559431254864,
          0.011022059246897697,
          0.010992774739861488,
          0.010973573662340641,
          0.010964484885334969,
          0.010965517722070217,
          0.010976621881127357,
          0.010997622273862362,
          0.011028663255274296,
          0.011069332249462605,
          0.011119686998426914,
          0.0111795449629426,
          0.011248281225562096,
          0.011326395906507969,
          0.011413130909204483,
          0.011508387513458729,
          0.011612076312303543,
          0.011723626405000687,
          0.011843070387840271,
          0.011969730257987976,
          0.012104041874408722,
          0.012244964018464088,
          0.012392556294798851,
          0.012546559795737267,
          0.012706723995506763,
          0.012872641906142235,
          0.013044151477515697,
          0.013221120461821556,
          0.013402990065515041,
          0.013589768670499325,
          0.013781090267002583,
          0.013976888731122017,
          0.014176830649375916,
          0.014380734413862228,
          0.01458839513361454,
          0.014799636788666248,
          0.015014260075986385,
          0.015231998637318611,
          0.015452947467565536,
          0.01567676104605198,
          0.015903187915682793,
          0.016132351011037827,
          0.016363801434636116,
          0.01659778505563736,
          0.016833828762173653,
          0.01707196980714798,
          0.017312129959464073,
          0.017554067075252533,
          0.017797917127609253,
          0.01804334484040737,
          0.01829020492732525,
          0.01853874884545803,
          0.01878872700035572,
          0.019039949402213097,
          0.01929238997399807,
          0.019546104595065117,
          0.019800711423158646,
          0.02005670592188835,
          0.020313428714871407,
          0.020571215078234673,
          0.0208297036588192,
          0.021089114248752594,
          0.02134929969906807,
          0.021610209718346596,
          0.021871712058782578,
          0.02213391475379467,
          0.02239670231938362,
          0.022660059854388237,
          0.022924045100808144,
          0.023188268765807152,
          0.023453183472156525,
          0.023718267679214478,
          0.023983867838978767,
          0.024249866604804993,
          0.024516038596630096,
          0.024782465770840645,
          0.02504936046898365,
          0.025316579267382622,
          0.025583570823073387,
          0.02585120126605034,
          0.026118705049157143,
          0.02638649195432663,
          0.02665449120104313,
          0.02692251466214657,
          0.02719063311815262,
          0.02745882235467434,
          0.027726992964744568,
          0.027995361015200615,
          0.028263628482818604,
          0.02853192761540413,
          0.02880035527050495,
          0.02906871773302555,
          0.029336977750062943,
          0.029605265706777573,
          0.029873330146074295,
          0.030141474679112434,
          0.03040952980518341,
          0.030677495524287224,
          0.030945418402552605,
          0.031213222071528435,
          0.03148083761334419,
          0.03174825385212898,
          0.032015617936849594,
          0.03228287771344185,
          0.03254999965429306,
          0.03281690552830696,
          0.033083610236644745,
          0.03335022181272507,
          0.03361665457487106,
          0.03388286381959915,
          0.03414880111813545,
          0.03441455960273743,
          0.034680094569921494,
          0.03494541347026825,
          0.03521063178777695,
          0.03547549247741699,
          0.03574018552899361,
          0.03600463643670082,
          0.03626878932118416,
          0.03653275966644287,
          0.036796413362026215,
          0.03705986216664314,
          0.03732296824455261,
          0.03758590668439865,
          0.03784852847456932,
          0.03811078146100044,
          0.038372814655303955,
          0.03863459452986717,
          0.038896191865205765,
          0.03915732353925705,
          0.03941815346479416,
          0.03967881575226784,
          0.03993906453251839,
          0.04019911587238312,
          0.04045870155096054,
          0.04071814566850662,
          0.04097716882824898,
          0.041235968470573425,
          0.04149443656206131,
          0.04175245761871338,
          0.04201019927859306,
          0.042267534881830215,
          0.042524661868810654,
          0.04278154298663139,
          0.04303788021206856,
          0.04329400882124901,
          0.043549805879592896,
          0.043805237859487534,
          0.04406021535396576,
          0.044315095990896225,
          0.04456938058137894,
          0.04482342302799225,
          0.04507698491215706,
          0.045330312103033066,
          0.04558340832591057,
          0.04583606868982315,
          0.046088289469480515,
          0.04634028300642967,
          0.04659169912338257,
          0.046842850744724274,
          0.04709366708993912,
          0.047344084829092026,
          0.04759416729211807,
          0.047843948006629944,
          0.04809330031275749,
          0.04834222421050072,
          0.04859081655740738,
          0.04883915185928345,
          0.04908699914813042,
          0.04933438450098038,
          0.0495813712477684,
          0.049828290939331055,
          0.05007455497980118,
          0.05032050609588623,
          0.05056620016694069,
          0.05081130564212799,
          0.05105609446763992,
          0.05130050331354141,
          0.05154450982809067,
          0.05178812891244888,
          0.052031565457582474,
          0.05227445065975189,
          0.052516840398311615,
          0.05275898054242134,
          0.053000740706920624,
          0.0532420314848423,
          0.05348293110728264,
          0.053723473101854324,
          0.05396358668804169,
          0.05420336127281189,
          0.05444275960326195,
          0.0546816810965538,
          0.054920393973588943,
          0.05515846610069275,
          0.055396318435668945,
          0.05563364923000336,
          0.05587063357234001,
          0.05610712990164757,
          0.05634339526295662,
          0.0565791092813015,
          0.05681467801332474,
          0.05704948678612709,
          0.05728417634963989,
          0.057518310844898224,
          0.057752177119255066,
          0.057985540479421616,
          0.058218587189912796,
          0.058451052755117416,
          0.058683253824710846,
          0.058915041387081146,
          0.059146296232938766,
          0.05937735736370087,
          0.059607766568660736,
          0.059837982058525085,
          0.0600677989423275,
          0.06029704585671425,
          0.06052599102258682,
          0.060754578560590744,
          0.06098282337188721,
          0.061210423707962036,
          0.061437614262104034,
          0.06166465952992439,
          0.06189119443297386,
          0.062117137014865875,
          0.06234288960695267,
          0.0625680461525917,
          0.06279299408197403,
          0.06301748752593994,
          0.06324142217636108,
          0.06346513330936432,
          0.06368839740753174,
          0.06391124427318573,
          0.06413358449935913,
          0.06435561180114746,
          0.06457725167274475,
          0.06479836255311966,
          0.0650191605091095,
          0.06523936986923218,
          0.06545940786600113,
          0.06567906588315964,
          0.06589812785387039,
          0.06611692160367966,
          0.06633511930704117,
          0.06655299663543701,
          0.06677054613828659,
          0.06698743999004364,
          0.06720409542322159,
          0.06742054224014282,
          0.06763628870248795,
          0.0678517147898674,
          0.06806676089763641,
          0.0682813748717308,
          0.06849563121795654,
          0.06870929896831512,
          0.06892266124486923,
          0.0691356435418129,
          0.06934811174869537,
          0.0695602297782898,
          0.06977207213640213,
          0.06998328119516373,
          0.0701942965388298,
          0.07040473818778992,
          0.07061468064785004,
          0.07082436233758926,
          0.07103375345468521,
          0.07124251127243042,
          0.07145099341869354,
          0.07165901362895966,
          0.07186654955148697,
          0.07207395881414413,
          0.07228059321641922,
          0.07248695194721222,
          0.07269290834665298,
          0.07289834320545197,
          0.07310356199741364,
          0.07330832630395889,
          0.07351268082857132,
          0.07371644675731659,
          0.07392001152038574,
          0.0741230919957161,
          0.07432582229375839,
          0.0745280534029007,
          0.07472993433475494,
          0.07493146508932114,
          0.07513229548931122,
          0.07533293962478638,
          0.07553321868181229,
          0.07573288679122925,
          0.07593228667974472,
          0.07613133639097214,
          0.0763300359249115,
          0.07652807980775833,
          0.07672593742609024,
          0.0769231840968132,
          0.07712016254663467,
          0.07731661200523376,
          0.07751267403364182,
          0.07770854979753494,
          0.07790384441614151,
          0.07809864729642868,
          0.07829316705465317,
          0.07848720997571945,
          0.07868094742298126,
          0.0788741186261177,
          0.07906705141067505,
          0.07925952225923538,
          0.07945160567760468,
          0.0796431228518486,
          0.07983452081680298,
          0.08002518862485886,
          0.08021560311317444,
          0.08040569722652435,
          0.08059515058994293,
          0.08078445494174957,
          0.0809732973575592,
          0.08116169273853302,
          0.08134961128234863,
          0.0815371498465538,
          0.08172427862882614,
          0.08191119879484177,
          0.08209756016731262,
          0.08228354901075363,
          0.08246899396181107,
          0.08265426009893417,
          0.0828389897942543,
          0.08302328735589981,
          0.08320730924606323,
          0.08339076489210129,
          0.08357393741607666,
          0.0837567001581192,
          0.08393918722867966,
          0.0841209813952446,
          0.0843026265501976,
          0.08448370546102524,
          0.08466441184282303,
          0.08484485745429993,
          0.08502466976642609,
          0.08520425111055374,
          0.085383340716362,
          0.08556219935417175,
          0.0857405737042427,
          0.08591853827238083,
          0.08609599620103836,
          0.0862732008099556,
          0.08644995838403702,
          0.0866263210773468,
          0.08680231124162674,
          0.08697783201932907,
          0.08715307712554932,
          0.08732784539461136,
          0.087502121925354,
          0.08767624199390411,
          0.08784990012645721,
          0.08802296966314316,
          0.08819582313299179,
          0.08836819976568222,
          0.08854016661643982,
          0.08871179074048996,
          0.08888310194015503,
          0.08905376493930817,
          0.08922436833381653,
          0.08939443528652191,
          0.08956414461135864,
          0.08973342925310135,
          0.08990228176116943,
          0.09007064253091812,
          0.09023886173963547,
          0.09040673077106476,
          0.09057390689849854,
          0.09074075520038605,
          0.09090738743543625,
          0.09107355773448944,
          0.091239333152771,
          0.09140472859144211,
          0.09156971424818039,
          0.09173428267240524,
          0.09189864993095398,
          0.09206248819828033,
          0.09222584962844849,
          0.0923890620470047,
          0.09255167096853256,
          0.09271378815174103,
          0.09287580847740173,
          0.0930371806025505,
          0.09319854527711868,
          0.0933593288064003,
          0.09351980686187744,
          0.0936797708272934,
          0.0938393622636795,
          0.09399853646755219,
          0.09415743499994278,
          0.09431599825620651,
          0.09447400271892548,
          0.09463165700435638,
          0.09478908777236938,
          0.09494598954916,
          0.09510263055562973,
          0.09525880962610245,
          0.09541468322277069,
          0.0955701470375061,
          0.0957251638174057,
          0.09587989002466202,
          0.0960342288017273,
          0.09618823230266571,
          0.09634192287921906,
          0.09649491310119629,
          0.09664783626794815,
          0.09680028259754181,
          0.09695236384868622,
          0.09710410237312317,
          0.09725537896156311,
          0.09740643948316574,
          0.09755701571702957,
          0.09770730882883072,
          0.09785699844360352,
          0.09800653904676437,
          0.098155677318573,
          0.09830443561077118,
          0.0984528586268425,
          0.0986008420586586,
          0.09874850511550903,
          0.09889578074216843,
          0.09904265403747559,
          0.09918917715549469,
          0.09933535754680634,
          0.09948109090328217,
          0.09962675720453262,
          0.09977170079946518,
          0.0999164804816246,
          0.10006083548069,
          0.10020500421524048,
          0.10034864395856857,
          0.10049183666706085,
          0.10063476860523224,
          0.10077741742134094,
          0.10091938823461533,
          0.1010613664984703,
          0.10120271146297455,
          0.10134393721818924,
          0.10148482024669647,
          0.10162515193223953,
          0.10176508873701096,
          0.10190479457378387,
          0.10204421728849411,
          0.10218316316604614,
          0.10232174396514893,
          0.10246005654335022,
          0.1025979295372963,
          0.10273551195859909,
          0.10287266224622726,
          0.1030096709728241,
          0.10314607620239258,
          0.10328212380409241,
          0.1034180149435997,
          0.10355349630117416,
          0.10368857532739639,
          0.10382330417633057,
          0.10395792126655579,
          0.10409199446439743,
          0.10422556102275848,
          0.10435906052589417,
          0.10449202358722687,
          0.10462463647127151,
          0.10475698858499527,
          0.1048889234662056,
          0.10502061992883682,
          0.10515186935663223,
          0.10528284311294556,
          0.10541348159313202,
          0.10554368793964386,
          0.10567368566989899,
          0.10580331087112427,
          0.10593239217996597,
          0.10606138408184052,
          0.1061900183558464,
          0.10631807893514633,
          0.10644593834877014,
          0.10657364130020142,
          0.10670080780982971,
          0.10682765394449234,
          0.10695414245128632,
          0.10708032548427582,
          0.10720624029636383,
          0.10733188688755035,
          0.10745697468519211,
          0.10758183151483536,
          0.10770639777183533,
          0.10783067345619202,
          0.10795441269874573,
          0.10807789117097855,
          0.10820118337869644,
          0.10832393169403076,
          0.10844659805297852,
          0.1085687056183815,
          0.10869064927101135,
          0.10881219804286957,
          0.10893338918685913,
          0.10905437171459198,
          0.10917482525110245,
          0.10929510742425919,
          0.1094149649143219,
          0.1095346212387085,
          0.109654001891613,
          0.10977291315793991,
          0.10989148914813995,
          0.11000987887382507,
          0.1101277694106102,
          0.11024553328752518,
          0.11036282777786255,
          0.11047976464033127,
          0.1105964258313179,
          0.11071278154850006,
          0.11082892119884491,
          0.11094462126493454,
          0.11106003075838089,
          0.11117514967918396,
          0.11128997802734375,
          0.11140432208776474,
          0.11151853948831558,
          0.11163243651390076,
          0.11174598336219788,
          0.11185931414365768,
          0.11197210848331451,
          0.11208473145961761,
          0.11219703406095505,
          0.11230891197919846,
          0.11242067813873291,
          0.11253196001052856,
          0.11264310777187347,
          0.112753726541996,
          0.11286415159702301,
          0.11297450959682465,
          0.1130841001868248,
          0.11319366097450256,
          0.1133028194308281,
          0.11341185867786407,
          0.11352033168077469,
          0.11362875998020172,
          0.11373676359653473,
          0.11384426802396774,
          0.11395154893398285,
          0.11405869573354721,
          0.11416544765233994,
          0.11427189409732819,
          0.11437827348709106,
          0.11448418349027634,
          0.11458978801965714,
          0.11469490826129913,
          0.1147998794913292,
          0.11490452289581299,
          0.11500915884971619,
          0.1151130422949791,
          0.11521689593791962,
          0.1153203696012497,
          0.11542362719774246,
          0.11552652716636658,
          0.11562924087047577,
          0.1157316192984581,
          0.1158335953950882,
          0.11593534052371979,
          0.11603675037622452,
          0.11613810807466507,
          0.11623899638652802,
          0.11633950471878052,
          0.11643971502780914,
          0.11653987318277359,
          0.1166396215558052,
          0.11673901230096817,
          0.11683811992406845,
          0.11693711578845978,
          0.11703558266162872,
          0.11713395267724991,
          0.11723198741674423,
          0.11732969433069229,
          0.11742717772722244,
          0.11752424389123917,
          0.11762125790119171,
          0.11771786957979202,
          0.11781417578458786,
          0.11791033297777176,
          0.11800610274076462,
          0.11810162663459778,
          0.11819695681333542,
          0.1182919517159462,
          0.11838642507791519,
          0.11848095059394836,
          0.11857502162456512,
          0.11866893619298935,
          0.11876247078180313,
          0.11885569244623184,
          0.11894871294498444,
          0.11904150247573853,
          0.11913400888442993,
          0.11922607570886612,
          0.11931814253330231,
          0.11940988898277283,
          0.11950137466192245,
          0.1195923388004303,
          0.11968338489532471,
          0.11977394670248032,
          0.11986424773931503,
          0.11995427310466766,
          0.12004417926073074,
          0.1201336532831192,
          0.1202230229973793,
          0.12031203508377075,
          0.1204008087515831,
          0.12048931419849396,
          0.12057752162218094,
          0.12066539376974106,
          0.12075332552194595,
          0.1208406463265419,
          0.12092790752649307,
          0.12101476639509201,
          0.12110146880149841,
          0.12118785083293915,
          0.12127404659986496,
          0.12136002629995346,
          0.12144558131694794,
          0.1215309277176857,
          0.12161602824926376,
          0.12170110642910004,
          0.1217857226729393,
          0.12186992913484573,
          0.12195409834384918,
          0.1220381110906601,
          0.12212171405553818,
          0.1222049742937088,
          0.12228824198246002,
          0.1223711371421814,
          0.12245369702577591,
          0.1225360855460167,
          0.12261822819709778,
          0.12270013242959976,
          0.12278175354003906,
          0.12286302447319031,
          0.12294428050518036,
          0.12302504479885101,
          0.12310592830181122,
          0.12318611890077591,
          0.12326638400554657,
          0.12334644794464111,
          0.12342610955238342,
          0.12350550293922424,
          0.12358474731445312,
          0.12366373091936111,
          0.12374252080917358,
          0.12382090836763382,
          0.1238991841673851,
          0.1239771619439125,
          0.12405480444431305,
          0.12413237988948822,
          0.12420985847711563,
          0.1242869570851326,
          0.1243637427687645,
          0.12444040924310684,
          0.1245168000459671,
          0.1245928704738617,
          0.12466863542795181,
          0.12474443018436432,
          0.12481985986232758,
          0.12489506602287292,
          0.12497016042470932,
          0.12504485249519348,
          0.1251194328069687,
          0.12519359588623047,
          0.12526759505271912,
          0.125341534614563,
          0.1254151314496994,
          0.12548838555812836,
          0.12556146085262299,
          0.12563452124595642,
          0.12570708990097046,
          0.12577970325946808,
          0.12585186958312988,
          0.12592408061027527,
          0.1259957253932953,
          0.12606744468212128,
          0.12613888084888458,
          0.12620995938777924,
          0.12628091871738434,
          0.12635158002376556,
          0.1264219880104065,
          0.12649239599704742,
          0.126562237739563,
          0.12663216888904572,
          0.12670180201530457,
          0.12677136063575745,
          0.1268405020236969,
          0.12690939009189606,
          0.12697821855545044,
          0.12704677879810333,
          0.12711511552333832,
          0.12718318402767181,
          0.12725095450878143,
          0.12731879949569702,
          0.12738630175590515,
          0.12745344638824463,
          0.1275206208229065,
          0.1275874823331833,
          0.12765416502952576,
          0.12772049009799957,
          0.12778671085834503,
          0.12785287201404572,
          0.12791867554187775,
          0.1279841810464859,
          0.12804967164993286,
          0.12811481952667236,
          0.12817977368831635,
          0.12824447453022003,
          0.1283092051744461
         ]
        }
       ],
       "layout": {
        "height": 400,
        "template": {
         "data": {
          "bar": [
           {
            "error_x": {
             "color": "#2a3f5f"
            },
            "error_y": {
             "color": "#2a3f5f"
            },
            "marker": {
             "line": {
              "color": "#E5ECF6",
              "width": 0.5
             }
            },
            "type": "bar"
           }
          ],
          "barpolar": [
           {
            "marker": {
             "line": {
              "color": "#E5ECF6",
              "width": 0.5
             }
            },
            "type": "barpolar"
           }
          ],
          "carpet": [
           {
            "aaxis": {
             "endlinecolor": "#2a3f5f",
             "gridcolor": "white",
             "linecolor": "white",
             "minorgridcolor": "white",
             "startlinecolor": "#2a3f5f"
            },
            "baxis": {
             "endlinecolor": "#2a3f5f",
             "gridcolor": "white",
             "linecolor": "white",
             "minorgridcolor": "white",
             "startlinecolor": "#2a3f5f"
            },
            "type": "carpet"
           }
          ],
          "choropleth": [
           {
            "colorbar": {
             "outlinewidth": 0,
             "ticks": ""
            },
            "type": "choropleth"
           }
          ],
          "contour": [
           {
            "colorbar": {
             "outlinewidth": 0,
             "ticks": ""
            },
            "colorscale": [
             [
              0,
              "#0d0887"
             ],
             [
              0.1111111111111111,
              "#46039f"
             ],
             [
              0.2222222222222222,
              "#7201a8"
             ],
             [
              0.3333333333333333,
              "#9c179e"
             ],
             [
              0.4444444444444444,
              "#bd3786"
             ],
             [
              0.5555555555555556,
              "#d8576b"
             ],
             [
              0.6666666666666666,
              "#ed7953"
             ],
             [
              0.7777777777777778,
              "#fb9f3a"
             ],
             [
              0.8888888888888888,
              "#fdca26"
             ],
             [
              1,
              "#f0f921"
             ]
            ],
            "type": "contour"
           }
          ],
          "contourcarpet": [
           {
            "colorbar": {
             "outlinewidth": 0,
             "ticks": ""
            },
            "type": "contourcarpet"
           }
          ],
          "heatmap": [
           {
            "colorbar": {
             "outlinewidth": 0,
             "ticks": ""
            },
            "colorscale": [
             [
              0,
              "#0d0887"
             ],
             [
              0.1111111111111111,
              "#46039f"
             ],
             [
              0.2222222222222222,
              "#7201a8"
             ],
             [
              0.3333333333333333,
              "#9c179e"
             ],
             [
              0.4444444444444444,
              "#bd3786"
             ],
             [
              0.5555555555555556,
              "#d8576b"
             ],
             [
              0.6666666666666666,
              "#ed7953"
             ],
             [
              0.7777777777777778,
              "#fb9f3a"
             ],
             [
              0.8888888888888888,
              "#fdca26"
             ],
             [
              1,
              "#f0f921"
             ]
            ],
            "type": "heatmap"
           }
          ],
          "heatmapgl": [
           {
            "colorbar": {
             "outlinewidth": 0,
             "ticks": ""
            },
            "colorscale": [
             [
              0,
              "#0d0887"
             ],
             [
              0.1111111111111111,
              "#46039f"
             ],
             [
              0.2222222222222222,
              "#7201a8"
             ],
             [
              0.3333333333333333,
              "#9c179e"
             ],
             [
              0.4444444444444444,
              "#bd3786"
             ],
             [
              0.5555555555555556,
              "#d8576b"
             ],
             [
              0.6666666666666666,
              "#ed7953"
             ],
             [
              0.7777777777777778,
              "#fb9f3a"
             ],
             [
              0.8888888888888888,
              "#fdca26"
             ],
             [
              1,
              "#f0f921"
             ]
            ],
            "type": "heatmapgl"
           }
          ],
          "histogram": [
           {
            "marker": {
             "colorbar": {
              "outlinewidth": 0,
              "ticks": ""
             }
            },
            "type": "histogram"
           }
          ],
          "histogram2d": [
           {
            "colorbar": {
             "outlinewidth": 0,
             "ticks": ""
            },
            "colorscale": [
             [
              0,
              "#0d0887"
             ],
             [
              0.1111111111111111,
              "#46039f"
             ],
             [
              0.2222222222222222,
              "#7201a8"
             ],
             [
              0.3333333333333333,
              "#9c179e"
             ],
             [
              0.4444444444444444,
              "#bd3786"
             ],
             [
              0.5555555555555556,
              "#d8576b"
             ],
             [
              0.6666666666666666,
              "#ed7953"
             ],
             [
              0.7777777777777778,
              "#fb9f3a"
             ],
             [
              0.8888888888888888,
              "#fdca26"
             ],
             [
              1,
              "#f0f921"
             ]
            ],
            "type": "histogram2d"
           }
          ],
          "histogram2dcontour": [
           {
            "colorbar": {
             "outlinewidth": 0,
             "ticks": ""
            },
            "colorscale": [
             [
              0,
              "#0d0887"
             ],
             [
              0.1111111111111111,
              "#46039f"
             ],
             [
              0.2222222222222222,
              "#7201a8"
             ],
             [
              0.3333333333333333,
              "#9c179e"
             ],
             [
              0.4444444444444444,
              "#bd3786"
             ],
             [
              0.5555555555555556,
              "#d8576b"
             ],
             [
              0.6666666666666666,
              "#ed7953"
             ],
             [
              0.7777777777777778,
              "#fb9f3a"
             ],
             [
              0.8888888888888888,
              "#fdca26"
             ],
             [
              1,
              "#f0f921"
             ]
            ],
            "type": "histogram2dcontour"
           }
          ],
          "mesh3d": [
           {
            "colorbar": {
             "outlinewidth": 0,
             "ticks": ""
            },
            "type": "mesh3d"
           }
          ],
          "parcoords": [
           {
            "line": {
             "colorbar": {
              "outlinewidth": 0,
              "ticks": ""
             }
            },
            "type": "parcoords"
           }
          ],
          "pie": [
           {
            "automargin": true,
            "type": "pie"
           }
          ],
          "scatter": [
           {
            "marker": {
             "colorbar": {
              "outlinewidth": 0,
              "ticks": ""
             }
            },
            "type": "scatter"
           }
          ],
          "scatter3d": [
           {
            "line": {
             "colorbar": {
              "outlinewidth": 0,
              "ticks": ""
             }
            },
            "marker": {
             "colorbar": {
              "outlinewidth": 0,
              "ticks": ""
             }
            },
            "type": "scatter3d"
           }
          ],
          "scattercarpet": [
           {
            "marker": {
             "colorbar": {
              "outlinewidth": 0,
              "ticks": ""
             }
            },
            "type": "scattercarpet"
           }
          ],
          "scattergeo": [
           {
            "marker": {
             "colorbar": {
              "outlinewidth": 0,
              "ticks": ""
             }
            },
            "type": "scattergeo"
           }
          ],
          "scattergl": [
           {
            "marker": {
             "colorbar": {
              "outlinewidth": 0,
              "ticks": ""
             }
            },
            "type": "scattergl"
           }
          ],
          "scattermapbox": [
           {
            "marker": {
             "colorbar": {
              "outlinewidth": 0,
              "ticks": ""
             }
            },
            "type": "scattermapbox"
           }
          ],
          "scatterpolar": [
           {
            "marker": {
             "colorbar": {
              "outlinewidth": 0,
              "ticks": ""
             }
            },
            "type": "scatterpolar"
           }
          ],
          "scatterpolargl": [
           {
            "marker": {
             "colorbar": {
              "outlinewidth": 0,
              "ticks": ""
             }
            },
            "type": "scatterpolargl"
           }
          ],
          "scatterternary": [
           {
            "marker": {
             "colorbar": {
              "outlinewidth": 0,
              "ticks": ""
             }
            },
            "type": "scatterternary"
           }
          ],
          "surface": [
           {
            "colorbar": {
             "outlinewidth": 0,
             "ticks": ""
            },
            "colorscale": [
             [
              0,
              "#0d0887"
             ],
             [
              0.1111111111111111,
              "#46039f"
             ],
             [
              0.2222222222222222,
              "#7201a8"
             ],
             [
              0.3333333333333333,
              "#9c179e"
             ],
             [
              0.4444444444444444,
              "#bd3786"
             ],
             [
              0.5555555555555556,
              "#d8576b"
             ],
             [
              0.6666666666666666,
              "#ed7953"
             ],
             [
              0.7777777777777778,
              "#fb9f3a"
             ],
             [
              0.8888888888888888,
              "#fdca26"
             ],
             [
              1,
              "#f0f921"
             ]
            ],
            "type": "surface"
           }
          ],
          "table": [
           {
            "cells": {
             "fill": {
              "color": "#EBF0F8"
             },
             "line": {
              "color": "white"
             }
            },
            "header": {
             "fill": {
              "color": "#C8D4E3"
             },
             "line": {
              "color": "white"
             }
            },
            "type": "table"
           }
          ]
         },
         "layout": {
          "annotationdefaults": {
           "arrowcolor": "#2a3f5f",
           "arrowhead": 0,
           "arrowwidth": 1
          },
          "coloraxis": {
           "colorbar": {
            "outlinewidth": 0,
            "ticks": ""
           }
          },
          "colorscale": {
           "diverging": [
            [
             0,
             "#8e0152"
            ],
            [
             0.1,
             "#c51b7d"
            ],
            [
             0.2,
             "#de77ae"
            ],
            [
             0.3,
             "#f1b6da"
            ],
            [
             0.4,
             "#fde0ef"
            ],
            [
             0.5,
             "#f7f7f7"
            ],
            [
             0.6,
             "#e6f5d0"
            ],
            [
             0.7,
             "#b8e186"
            ],
            [
             0.8,
             "#7fbc41"
            ],
            [
             0.9,
             "#4d9221"
            ],
            [
             1,
             "#276419"
            ]
           ],
           "sequential": [
            [
             0,
             "#0d0887"
            ],
            [
             0.1111111111111111,
             "#46039f"
            ],
            [
             0.2222222222222222,
             "#7201a8"
            ],
            [
             0.3333333333333333,
             "#9c179e"
            ],
            [
             0.4444444444444444,
             "#bd3786"
            ],
            [
             0.5555555555555556,
             "#d8576b"
            ],
            [
             0.6666666666666666,
             "#ed7953"
            ],
            [
             0.7777777777777778,
             "#fb9f3a"
            ],
            [
             0.8888888888888888,
             "#fdca26"
            ],
            [
             1,
             "#f0f921"
            ]
           ],
           "sequentialminus": [
            [
             0,
             "#0d0887"
            ],
            [
             0.1111111111111111,
             "#46039f"
            ],
            [
             0.2222222222222222,
             "#7201a8"
            ],
            [
             0.3333333333333333,
             "#9c179e"
            ],
            [
             0.4444444444444444,
             "#bd3786"
            ],
            [
             0.5555555555555556,
             "#d8576b"
            ],
            [
             0.6666666666666666,
             "#ed7953"
            ],
            [
             0.7777777777777778,
             "#fb9f3a"
            ],
            [
             0.8888888888888888,
             "#fdca26"
            ],
            [
             1,
             "#f0f921"
            ]
           ]
          },
          "colorway": [
           "#636efa",
           "#EF553B",
           "#00cc96",
           "#ab63fa",
           "#FFA15A",
           "#19d3f3",
           "#FF6692",
           "#B6E880",
           "#FF97FF",
           "#FECB52"
          ],
          "font": {
           "color": "#2a3f5f"
          },
          "geo": {
           "bgcolor": "white",
           "lakecolor": "white",
           "landcolor": "#E5ECF6",
           "showlakes": true,
           "showland": true,
           "subunitcolor": "white"
          },
          "hoverlabel": {
           "align": "left"
          },
          "hovermode": "closest",
          "mapbox": {
           "style": "light"
          },
          "paper_bgcolor": "white",
          "plot_bgcolor": "#E5ECF6",
          "polar": {
           "angularaxis": {
            "gridcolor": "white",
            "linecolor": "white",
            "ticks": ""
           },
           "bgcolor": "#E5ECF6",
           "radialaxis": {
            "gridcolor": "white",
            "linecolor": "white",
            "ticks": ""
           }
          },
          "scene": {
           "xaxis": {
            "backgroundcolor": "#E5ECF6",
            "gridcolor": "white",
            "gridwidth": 2,
            "linecolor": "white",
            "showbackground": true,
            "ticks": "",
            "zerolinecolor": "white"
           },
           "yaxis": {
            "backgroundcolor": "#E5ECF6",
            "gridcolor": "white",
            "gridwidth": 2,
            "linecolor": "white",
            "showbackground": true,
            "ticks": "",
            "zerolinecolor": "white"
           },
           "zaxis": {
            "backgroundcolor": "#E5ECF6",
            "gridcolor": "white",
            "gridwidth": 2,
            "linecolor": "white",
            "showbackground": true,
            "ticks": "",
            "zerolinecolor": "white"
           }
          },
          "shapedefaults": {
           "line": {
            "color": "#2a3f5f"
           }
          },
          "ternary": {
           "aaxis": {
            "gridcolor": "white",
            "linecolor": "white",
            "ticks": ""
           },
           "baxis": {
            "gridcolor": "white",
            "linecolor": "white",
            "ticks": ""
           },
           "bgcolor": "#E5ECF6",
           "caxis": {
            "gridcolor": "white",
            "linecolor": "white",
            "ticks": ""
           }
          },
          "title": {
           "x": 0.05
          },
          "xaxis": {
           "automargin": true,
           "gridcolor": "white",
           "linecolor": "white",
           "ticks": "",
           "title": {
            "standoff": 15
           },
           "zerolinecolor": "white",
           "zerolinewidth": 2
          },
          "yaxis": {
           "automargin": true,
           "gridcolor": "white",
           "linecolor": "white",
           "ticks": "",
           "title": {
            "standoff": 15
           },
           "zerolinecolor": "white",
           "zerolinewidth": 2
          }
         }
        },
        "width": 600,
        "xaxis": {
         "title": {
          "text": "epoch"
         }
        },
        "yaxis": {
         "type": "log"
        }
       }
      },
      "text/html": [
       "<div>\n",
       "        \n",
       "        \n",
       "            <div id=\"9cbb51b6-3254-40fd-a664-b21cf302c28f\" class=\"plotly-graph-div\" style=\"height:400px; width:600px;\"></div>\n",
       "            <script type=\"text/javascript\">\n",
       "                require([\"plotly\"], function(Plotly) {\n",
       "                    window.PLOTLYENV=window.PLOTLYENV || {};\n",
       "                    \n",
       "                if (document.getElementById(\"9cbb51b6-3254-40fd-a664-b21cf302c28f\")) {\n",
       "                    Plotly.newPlot(\n",
       "                        '9cbb51b6-3254-40fd-a664-b21cf302c28f',\n",
       "                        [{\"name\": \"loss\", \"type\": \"scatter\", \"y\": [2.0576735001341433, 0.2554252523319252, 0.12221464398294277, 0.11667003426275398, 0.11629145902010099, 0.11605111921378637, 0.11581514983869315, 0.11558009674022093, 0.11534580807359968, 0.1151123046875, 0.11487958731691493, 0.11464759169986288, 0.11441640769427809, 0.11418601168313494, 0.11395630628810069, 0.11372734482838028, 0.1134991441145106, 0.11327167585626259, 0.11304493623664655, 0.1128189337763516, 0.11259359433472794, 0.11236899649322869, 0.11214506581365839, 0.11192191863654943, 0.11169944292910779, 0.1114775591680143, 0.11125645505603275, 0.11103603879364805, 0.11081625985798789, 0.11059715573196888, 0.11037873887164368, 0.11016091191457471, 0.10994377578239319, 0.10972727940679294, 0.10951143083420582, 0.10929623390266044, 0.10908167539314821, 0.10886772058450181, 0.1086544116144174, 0.10844171364702437, 0.10822961307451316, 0.10801815221454777, 0.10780728299883768, 0.1075969829389383, 0.1073873030777179, 0.10717825139991992, 0.10696972711163086, 0.10676184670690926, 0.10655450032990607, 0.10634776554154594, 0.10614158010790112, 0.10593592965388442, 0.10573092740648908, 0.10552638739548431, 0.10532244937404968, 0.10511906368774246, 0.10491620247987914, 0.10471390882154316, 0.10451215927495988, 0.10431087217809303, 0.1041102157059592, 0.10391005458893497, 0.10371037822507935, 0.10351126139818434, 0.10331261269014586, 0.10311454318956816, 0.10291694764949624, 0.10271989227149546, 0.10252327116214624, 0.1023271914911495, 0.1021315606290817, 0.10193646795485965, 0.10174184791111655, 0.1015477032152954, 0.1013540641654118, 0.10116089683974863, 0.10096822239358069, 0.10077597896335357, 0.10058422920480066, 0.10039289245568134, 0.1002020826153152, 0.10001170957821759, 0.09982176651365529, 0.09963228392357978, 0.09944327848825066, 0.09925469663459104, 0.09906657368500033, 0.0988788792928827, 0.09869156400153445, 0.0985047576107501, 0.09831839197743637, 0.09813241741519076, 0.09794683139740296, 0.09776172663820894, 0.09757702474836628, 0.09739277583268288, 0.09720887707994082, 0.09702542166935262, 0.09684236884447818, 0.09665969680488866, 0.09647745597988454, 0.09629563431046553, 0.09611417603691531, 0.0959330832213334, 0.095752406569073, 0.09557218254683991, 0.09539227215549971, 0.09521280433231288, 0.09503367378552179, 0.09485493642708459, 0.09467655513633016, 0.0944985762790375, 0.094321007070304, 0.09414374101000943, 0.09396689379241215, 0.09379034862883681, 0.09361422163620121, 0.09343845537583939, 0.09326302692234822, 0.09308798320697867, 0.09291320110958744, 0.09273885283067652, 0.0925648452392783, 0.0923911953806387, 0.09221787497817256, 0.09204489095204388, 0.09187226040803848, 0.09169998026441249, 0.09152801179872026, 0.09135635167386535, 0.09118503737866494, 0.09101408621506389, 0.09084345922531817, 0.09067314283269155, 0.0905031799526989, 0.09033352618655831, 0.09016415745619687, 0.0899951529853356, 0.08982643188583586, 0.08965807885744212, 0.0894900127214907, 0.08932221945758376, 0.08915477895241787, 0.08898761470413263, 0.08882078594229555, 0.08865420526742368, 0.0884880109036943, 0.08832206531575419, 0.08815643065399245, 0.08799109544392193, 0.08782603221524804, 0.08766127437668728, 0.08749684494154555, 0.08733263645797633, 0.08716877838432296, 0.0870052057990506, 0.08684187741798464, 0.086678837599677, 0.08651610143143473, 0.08635368411119518, 0.08619144157030327, 0.08602956424600311, 0.08586793760951317, 0.085706582095299, 0.08554549379409497, 0.08538469875987605, 0.08522413308508944, 0.08506382270270899, 0.0849038568120117, 0.08474405328439757, 0.08458461123013622, 0.08442538377465918, 0.08426641634295959, 0.08410776300602288, 0.08394931737950698, 0.08379114455190513, 0.08363319317598757, 0.08347552866065708, 0.0833181079227682, 0.0831609715433368, 0.0830040285706578, 0.08284738408711763, 0.08269092153082494, 0.08253474631355073, 0.0823788233270969, 0.08222313984794799, 0.08206769440209341, 0.08191248834468154, 0.0817575315825133, 0.08160281697610533, 0.08144830874322136, 0.08129407679789867, 0.08114005671738683, 0.08098625833528356, 0.0808327290034726, 0.08067941831220805, 0.08052636509794946, 0.08037348971961336, 0.0802208425342178, 0.080068445202153, 0.07991630497966358, 0.07976433576855274, 0.07961261458632736, 0.07946111941276912, 0.0793098456716037, 0.0791587916910026, 0.07900797641299209, 0.07885737758670662, 0.0787069402489043, 0.07855679277304918, 0.07840678240940051, 0.0782570497811344, 0.07810754879115599, 0.07795821208014625, 0.0778091034329835, 0.07766020317684467, 0.07751154255088816, 0.07736305672570372, 0.07721476781728175, 0.07706670113158648, 0.07691885189800685, 0.07677123350401888, 0.07662375612517239, 0.07647655453410582, 0.07632951441371924, 0.07618267031735233, 0.07603604481548035, 0.07588958088280456, 0.07574340548822171, 0.07559735399224327, 0.07545149191686576, 0.0753058945659703, 0.07516044576238319, 0.07501520534200151, 0.07487017762734265, 0.07472529530884028, 0.07458063415863526, 0.07443616731489248, 0.07429191158113548, 0.07414781166795667, 0.07400394084805777, 0.0738602311092994, 0.07371670866137424, 0.07357340308178521, 0.07343025539558884, 0.0732873141823667, 0.07314455837050624, 0.07300196991142147, 0.07285957535252521, 0.07271741105331786, 0.07257539174771303, 0.07243356650462593, 0.0722919171420127, 0.07215042856068334, 0.07200914697526976, 0.07186803149049024, 0.07172707334851111, 0.07158632877038514, 0.07144576968864878, 0.07130539720026823, 0.07116516660570232, 0.07102515086460438, 0.07088529541176695, 0.0707456110710919, 0.070606098858144, 0.07046677961999262, 0.07032761146495217, 0.0701886350982796, 0.07004982174740738, 0.06991121900865122, 0.06977269465775345, 0.06963443640513751, 0.0694962984276867, 0.06935838550868126, 0.06922060144889004, 0.06908298746298713, 0.06894554119234277, 0.0688082873283188, 0.06867120329101972, 0.06853426631850862, 0.06839751473898564, 0.06826088827061855, 0.06812449019792523, 0.06798819861096075, 0.06785211709476123, 0.06771618846419636, 0.06758043086798125, 0.06744483153026881, 0.06730941216218818, 0.06717417385216544, 0.06703903086947949, 0.06690409167392875, 0.06676932960434724, 0.06663470380578784, 0.06650026412266968, 0.06636595906181052, 0.06623185974995767, 0.06609784767398649, 0.06596408220037793, 0.0658304056754492, 0.0656969391386333, 0.06556363770654203, 0.06543044189473708, 0.06529742366348486, 0.06516459839210283, 0.06503188133689446, 0.06489939513899969, 0.06476698303984595, 0.06463477877822883, 0.06450270422036862, 0.06437081441998649, 0.06423911051506334, 0.06410751738194102, 0.06397610849095256, 0.06384481569017839, 0.0637136798949031, 0.06358270940028193, 0.0634519272463188, 0.06332126106055325, 0.06319079999201942, 0.06306044931711681, 0.06293026521916, 0.06280025985652242, 0.06267037489894912, 0.06254067438539479, 0.0624111277557234, 0.062281678025793714, 0.06215240634279478, 0.06202332883568973, 0.061894350794935084, 0.06176555012023618, 0.06163692414604732, 0.061508381227402625, 0.06138005654706437, 0.061251881154522486, 0.06112382361105476, 0.06099591137898177, 0.06086818745119402, 0.06074059743425278, 0.060613180586356445, 0.06048589373450472, 0.06035874155856681, 0.06023175003774018, 0.06010492987467732, 0.05997825692389437, 0.05985175157070732, 0.05972530572615585, 0.05959913853961419, 0.05947303646573704, 0.05934710388451305, 0.059221316322238635, 0.0590956884945745, 0.058970201681019865, 0.058844882502169515, 0.0587197280661996, 0.058594650023223754, 0.05846977031672295, 0.05834503435211252, 0.05822042505723265, 0.058095975308687216, 0.05797171625609422, 0.057847588754882835, 0.057723581553075665, 0.057599739892058965, 0.05747603040910115, 0.05735247425775306, 0.05722905412333826, 0.0571058401998172, 0.056982694901414555, 0.05685976608780797, 0.05673693410748156, 0.05661429829263976, 0.0564917630657236, 0.05636942614817482, 0.056247206045672106, 0.056125134634518084, 0.056003181706134754, 0.05588141886699792, 0.05575981186981726, 0.05563835127466266, 0.05551698771609868, 0.05539580799423263, 0.05527476487739466, 0.05515388248309139, 0.05503314283211775, 0.054912529905941934, 0.05479212102970562, 0.054671766367965446, 0.054551645539099025, 0.0544316552928779, 0.054311800781710655, 0.05419208720259278, 0.05407250687977848, 0.053953106011299795, 0.05383384037887779, 0.05371471738519564, 0.05359577273494328, 0.05347692271808601, 0.05335822032946984, 0.05323966218328885, 0.0531213149903394, 0.053003107682978653, 0.052885019186306434, 0.05276705912283855, 0.05264927921225183, 0.05253160975112931, 0.052414118115430716, 0.05229676988686289, 0.052179574957170925, 0.052062520945196755, 0.051945611044670825, 0.051828843984656904, 0.05171222073276379, 0.051595780621187505, 0.051479490971775545, 0.05136332787492687, 0.05124732399414704, 0.051131412109537214, 0.05101572063752538, 0.050900111566124576, 0.050784670274432536, 0.05066940709940581, 0.05055428641491326, 0.05043932073673626, 0.05032443941508111, 0.050209791418195794, 0.05009523426767383, 0.04998085942698919, 0.04986662846353042, 0.049752540028429326, 0.04963862090227301, 0.049524794682117346, 0.04941115389620523, 0.04929767148920571, 0.04918431778745149, 0.049071098427627226, 0.048958059521088663, 0.048845190403903053, 0.04873242297869521, 0.048619841757103065, 0.04850738563693834, 0.04839511081725089, 0.04828292211859202, 0.04817090472776347, 0.04805907437666255, 0.047947352250669026, 0.04783578778099717, 0.047724418663173084, 0.04761317291735662, 0.04750208326997672, 0.04739111642805973, 0.04728031511431977, 0.047169668155171186, 0.047059174165576444, 0.04694880942935824, 0.046838619598414476, 0.046728563557822456, 0.046618642255128226, 0.04650891421644137, 0.0463993180882369, 0.046289882471572154, 0.04618059842407257, 0.04607142154114929, 0.045962426038788376, 0.045853605593889485, 0.04574490801330136, 0.045636392846413534, 0.045527994915475725, 0.04541980476831805, 0.045311685156072694, 0.0452037473249072, 0.04509599258010756, 0.04498836013304769, 0.04488089495945944, 0.04477356446264315, 0.044666411314727095, 0.04455941328186444, 0.04445250077471382, 0.04434581092093882, 0.04423924796624999, 0.04413286294881916, 0.04402658973136512, 0.04392048213733881, 0.04381452808502101, 0.04370874067646234, 0.04360310510525427, 0.04349767600480307, 0.04339228586037606, 0.04328713800475565, 0.04318210076020466, 0.04307726411768685, 0.04297251711934618, 0.04286796904931306, 0.042763534252975854, 0.04265933636531627, 0.042555156908620564, 0.04245126888114002, 0.04234748474371736, 0.04224385073267492, 0.04214038314969171, 0.0420370333753786, 0.04193388695385595, 0.041830905035950584, 0.04172802188303544, 0.04162533891027251, 0.04152278190428988, 0.04142039114890909, 0.04131810448553726, 0.04121606109055309, 0.041114145267586506, 0.04101237074112731, 0.040910744256880745, 0.04080931826885211, 0.040707975595522576, 0.04060686163877961, 0.040505843031891114, 0.04040502277308039, 0.04030438357621459, 0.0402038471713588, 0.04010349125778475, 0.040003245895347, 0.03990323153248993, 0.03980332122110673, 0.03970359344770915, 0.03960403195436974, 0.03950458200758078, 0.039405377395639096, 0.039306239309690835, 0.03920729147746894, 0.03910846985506022, 0.039009876866345085, 0.038911411032135, 0.038813103314005275, 0.03871490830814528, 0.038616942937328515, 0.03851912281894117, 0.03842138997821275, 0.038323880259444346, 0.03822649334899913, 0.03812930957042341, 0.03803226160931096, 0.03793533669850363, 0.037838605007795525, 0.03774206185384125, 0.03764566230123745, 0.03754940590581351, 0.03745330154202676, 0.037357334801895556, 0.037261581731372985, 0.037165929652681985, 0.03707051281377457, 0.03697523385920458, 0.03688006544831836, 0.03678506540453532, 0.03669024614091882, 0.036595583613639744, 0.03650110455707003, 0.03640675444110236, 0.03631253747673448, 0.036218573630300954, 0.036124692468423154, 0.03603095925708847, 0.03593744642056742, 0.0358440338902385, 0.035750820141438926, 0.035657754496374316, 0.035564882307591264, 0.035472121406696956, 0.03537952860709898, 0.035287128325702334, 0.03519485923187314, 0.03510273894219793, 0.03501078026922617, 0.0349190428324638, 0.03482741138812625, 0.034735948776648935, 0.034644679857064986, 0.03455357584209817, 0.034462577235223, 0.034371766160443566, 0.03428114410808278, 0.03419060362476639, 0.03410029898648146, 0.03401010371102419, 0.03392014394052537, 0.03383030627521546, 0.03374060204135841, 0.03365106344139905, 0.033561723019265695, 0.03347251802002572, 0.033383463478146656, 0.0332946095522734, 0.03320589825324343, 0.03311731666626143, 0.03302893809029554, 0.03294073058556923, 0.03285265655090618, 0.032764770358640664, 0.03267703789838665, 0.03258945862561842, 0.03250199796078564, 0.03241473048841915, 0.03232764696974977, 0.03224068570608284, 0.03215394001380224, 0.032067311808076544, 0.03198092944907294, 0.031894592359849885, 0.0318084527946796, 0.031722506857934665, 0.031636695411759244, 0.03155113578036115, 0.03146558583424599, 0.03138028493716227, 0.03129514770769159, 0.031210121399542663, 0.031125329413918552, 0.03104065928365344, 0.030956147734853195, 0.03087179229893995, 0.030787641524602054, 0.03070358239930031, 0.03061975635096355, 0.03053607284883796, 0.03045251490955328, 0.030369158319765825, 0.03028593747428971, 0.030202895894109183, 0.03012001477044055, 0.030037313841048137, 0.029954748933558588, 0.02987233481567071, 0.029790106932583552, 0.029708017847631208, 0.029626111938927256, 0.029544350341286676, 0.029462755000314683, 0.029381337206704907, 0.029300068641480378, 0.0292189794355452, 0.02913802014621875, 0.0290572209059562, 0.02897663126436201, 0.02889616232844353, 0.028815870659096174, 0.028735786100876196, 0.02865581187384681, 0.02857597945851652, 0.028496314558411694, 0.02841681243733186, 0.028337503222544524, 0.02825834837142536, 0.028179356414429972, 0.028100499725540972, 0.0280218168368432, 0.02794327797054294, 0.027864929256304807, 0.027786753449426514, 0.027708703697352254, 0.027630820040810657, 0.02755312184507331, 0.027475586320528957, 0.027398167046812978, 0.02732093851504283, 0.02724390875692859, 0.027166946622953665, 0.0270902073934773, 0.02701361970666842, 0.02693720970507693, 0.026860961569076355, 0.026784856036037703, 0.02670894771866314, 0.02663314541816768, 0.026557490589957374, 0.026482036151126466, 0.026406708874185884, 0.02633153858786406, 0.026256629725395705, 0.026181782219107986, 0.026107111419880324, 0.026032606550555067, 0.02595826343398891, 0.025884118320016677, 0.025810072557491064, 0.025736223126452226, 0.0256624923349838, 0.025588990395170038, 0.025515580128284553, 0.025442353841034264, 0.025369303948891874, 0.025296387110034985, 0.025223628708845987, 0.02515100119125806, 0.02507860085594437, 0.025006336567681687, 0.02493418966651274, 0.024862253652180345, 0.024790429397178838, 0.02471879087443535, 0.02464733025698213, 0.02457598396368279, 0.0245048527581156, 0.02443382297952644, 0.02436303886620528, 0.024292328846577838, 0.024221764461512172, 0.024151415675876847, 0.024081176816520083, 0.024011114301531414, 0.02394120171943955, 0.02387148671676495, 0.02380187687777346, 0.02373247123440314, 0.023663171960018554, 0.023594120613638865, 0.023525112777136484, 0.023456310134875917, 0.023387641077680786, 0.02331915920447317, 0.023250807337786186, 0.023182611735900215, 0.023114600223243843, 0.023046726442520968, 0.02297899921344479, 0.022911459214183104, 0.02284405841860545, 0.022776826173733784, 0.022709717840494192, 0.022642713955027826, 0.022575964989346633, 0.022509342621988924, 0.022442894665052716, 0.02237656674488915, 0.02231037558606982, 0.022244381286078887, 0.022178483246556704, 0.02211280736295839, 0.022047271136598497, 0.021981875816589076, 0.021916631295818844, 0.02185155890339108, 0.021786642815515747, 0.0217218536172249, 0.02165723343444115, 0.02159274200120409, 0.02152840683626164, 0.021464180531508392, 0.02140018850562531, 0.021336336701243817, 0.021272582600654608, 0.021209017652885437, 0.021145613284000594, 0.02108233090879174, 0.021019282399434066, 0.02095630876814726, 0.0208934740718883, 0.02083083056402241, 0.020768302900034962, 0.020705970139059417, 0.020643757916846923, 0.02058170904135215, 0.0205198264127105, 0.020458078108268933, 0.020396448938566725, 0.020335009400979064, 0.020273717435473362, 0.020212569344921875, 0.020151510113356464, 0.020090686138099806, 0.020029981868577035, 0.019969460336773354, 0.019909020149642204, 0.01984874342902822, 0.019788605930825272, 0.019728636957142352, 0.019668844708054287, 0.019609145459032286, 0.01954961821981993, 0.019490278005718384, 0.019431059129320995, 0.019371961201024312, 0.01931299437287297, 0.019254225602145455, 0.019195609706690084, 0.01913708269661253, 0.01907876666411099, 0.01902054343519162, 0.01896250902310182, 0.01890458511231723, 0.018846808239038695, 0.018789188279010476, 0.018731694829000955, 0.01867438126696268, 0.018617182815069327, 0.018560124058831416, 0.01850324561324066, 0.018446479725593264, 0.018389867794603828, 0.018333421565069535, 0.01827712266768516, 0.018220931737669623, 0.018164917870603255, 0.01810898949516825, 0.018053232848049734, 0.017997624460366464, 0.01794217382108022, 0.01788683358407798, 0.017831677407726475, 0.017776605499280455, 0.01772172292872349, 0.017666924382343713, 0.017612318881562946, 0.017557884192424333, 0.017503523807097635, 0.017449319313674137, 0.017395276352174437, 0.017341413215655656, 0.0172875548169473, 0.017233994200306878, 0.01718050037981055, 0.017127060387032225, 0.017073877573913723, 0.017020773102666344, 0.016967859199362077, 0.01691505076294175, 0.01686243335638113, 0.01680986680309149, 0.016757468813870878, 0.016705247943672424, 0.016653121097898536, 0.01660118295432041, 0.016549310428543008, 0.016497631156782804, 0.01644602043079019, 0.016394583635653243, 0.016343284126818677, 0.01629219197638538, 0.016241173847491706, 0.016190263695777397, 0.01613950311660318, 0.01608894869822808, 0.016038459035197516, 0.01598808389039069, 0.015937877306083318, 0.015887809739113176, 0.015837815435028546, 0.01578801583381719, 0.015738361005398736, 0.015688847686718608, 0.015639404645717416, 0.015590094622781353, 0.015540961488457114, 0.015491949627278132, 0.01544310165481869, 0.01539435485254443, 0.015345743848216927, 0.015297267558246341, 0.015248916770196764, 0.01520061465995181, 0.015152586898766801, 0.015104641496693928, 0.015056827080658664, 0.015009129389908523, 0.014961521821090232, 0.014914116469082517, 0.01486675572106601, 0.014819597606454068, 0.014772576589176401, 0.014725633702281941, 0.014678838594573246, 0.014632158373124106, 0.014585559221767061, 0.014539222578714291, 0.014492928059953525, 0.014446759674832986, 0.01440075400392765, 0.014354844692023692, 0.01430909622733846, 0.014263451494807273, 0.014217898188086348, 0.014172532165204522, 0.014127236773874797, 0.014082147549672762, 0.014037100612227089, 0.013992192570520619, 0.01394740233436458, 0.013902825767906354, 0.013858263324221102, 0.013813871574889275, 0.013769616767604215, 0.013725458878723274, 0.013681406292075987, 0.013637524584778146, 0.013593722814773912, 0.013550095726874063, 0.013506514649034403, 0.013463155670523334, 0.013419847990159349, 0.013376692733243746, 0.013333611164238384, 0.013290739219490562, 0.013247913072081334, 0.013205256589815672, 0.013162682979028567, 0.01312026347560413, 0.013077919464336354, 0.013035711961854662, 0.012993628859315069, 0.012951696087520422, 0.012909877350452233, 0.012868113259502314, 0.01282647695805907, 0.012785052214212911, 0.012743652108757103, 0.01270240060838684, 0.012661269283184428, 0.01262026795610328, 0.01257937591897074, 0.012538565226785283, 0.012497888490101321, 0.01245740017134557, 0.012416945074661827, 0.012376665205012254, 0.012336420728832292, 0.012296385367405196, 0.012256401480315718, 0.01221655891054815, 0.012176776586767916, 0.012137231947572534, 0.012097686752604829, 0.012058280985833645, 0.012019008148835659, 0.011979847077015177, 0.01194077327787238, 0.01190187380862657, 0.011863005638767745, 0.011824318605139331, 0.011785719419397038, 0.011747218857534061, 0.01170885082702421, 0.01167057174704654, 0.01163243128398178, 0.011594394408472285, 0.011556479142569258, 0.011518611518708345, 0.011480902280365855, 0.011443291954063935, 0.011405867636939324, 0.011368430203252981, 0.01133117280236218, 0.011294001870028152, 0.011256909213858057, 0.01122001817358152, 0.011183183706205017, 0.011146492536916798, 0.01110985243367613, 0.011073343409107506, 0.011036954238513823, 0.011000723480859821, 0.01096448183252316, 0.010928403954876719, 0.010892455404298076, 0.010856596249005288, 0.010820823679522333, 0.010785159470873908, 0.010749635160167562, 0.010714204941981997, 0.010678838411097106, 0.010643630539228932, 0.01060845876543744, 0.010573482753844045, 0.010538556360970095, 0.010503740000646015, 0.010469054578084168, 0.0104344700205789, 0.01039994640700107, 0.010365550328532517, 0.010331256296894359, 0.010297105608082249, 0.010262984489063333, 0.010228976459180462, 0.010195109056013224, 0.010161309217230585, 0.010127678558241999, 0.010094052262807221, 0.01006056995619239, 0.010027208046882808, 0.009993878191913374, 0.009960752373265323, 0.009927644646608903, 0.009894712189457451, 0.009861825062999693, 0.009829050345010247, 0.00979634645731171, 0.009763803535705195, 0.009731312164442743, 0.009698926124659937, 0.009666677335140178, 0.00963444105603919, 0.009602342818048285]}, {\"name\": \"error training\", \"type\": \"scatter\", \"y\": [2.057673454284668, 0.25542524456977844, 0.12221464514732361, 0.11667003482580185, 0.11629145592451096, 0.11605112254619598, 0.11581514775753021, 0.11558009684085846, 0.11534580588340759, 0.1151123046875, 0.11487958580255508, 0.11464758962392807, 0.11441640555858612, 0.11418601125478745, 0.11395630985498428, 0.11372734606266022, 0.11349914222955704, 0.11327167600393295, 0.11304493993520737, 0.11281893402338028, 0.11259359121322632, 0.11236899346113205, 0.1121450662612915, 0.11192192137241364, 0.11169943958520889, 0.1114775612950325, 0.11125645786523819, 0.1110360398888588, 0.11081626266241074, 0.1105971559882164, 0.11037874221801758, 0.11016090959310532, 0.10994377732276917, 0.10972727835178375, 0.10951142758131027, 0.10929623246192932, 0.1090816780924797, 0.10886771976947784, 0.10865440964698792, 0.10844171047210693, 0.1082296147942543, 0.10801815241575241, 0.10780728608369827, 0.1075969859957695, 0.10738730430603027, 0.10717824846506119, 0.10696972906589508, 0.10676185041666031, 0.10655450075864792, 0.10634776204824448, 0.1061415821313858, 0.10593593120574951, 0.10573092848062515, 0.1055263876914978, 0.1053224503993988, 0.10511906445026398, 0.10491620004177094, 0.10471390932798386, 0.10451216250658035, 0.10431087017059326, 0.1041102185845375, 0.10391005128622055, 0.10371037572622299, 0.1035112589597702, 0.10331261157989502, 0.1031145453453064, 0.10291694849729538, 0.10271989554166794, 0.10252327471971512, 0.10232719033956528, 0.10213156044483185, 0.1019364669919014, 0.10174185037612915, 0.10154770314693451, 0.10135406255722046, 0.10116089880466461, 0.10096821933984756, 0.10077597945928574, 0.1005842313170433, 0.1003928929567337, 0.10020208358764648, 0.10001170635223389, 0.09982176870107651, 0.09963228553533554, 0.09944327920675278, 0.09925469756126404, 0.09906657040119171, 0.0988788828253746, 0.09869156032800674, 0.09850475937128067, 0.09831839054822922, 0.0981324166059494, 0.09794683009386063, 0.09776172786951065, 0.09757702797651291, 0.09739277511835098, 0.09720887988805771, 0.09702542424201965, 0.09684237092733383, 0.09665969759225845, 0.0964774563908577, 0.09629563242197037, 0.09611417353153229, 0.09593307971954346, 0.09575240314006805, 0.09557218104600906, 0.09539227187633514, 0.09521280229091644, 0.0950336754322052, 0.094854936003685, 0.09467655420303345, 0.09449857473373413, 0.09432100504636765, 0.09414374083280563, 0.09396689385175705, 0.09379035234451294, 0.09361422061920166, 0.09343845397233963, 0.09326303005218506, 0.09308798611164093, 0.0929132029414177, 0.09273885190486908, 0.09256484359502792, 0.09239119291305542, 0.09221787750720978, 0.0920448899269104, 0.09187225997447968, 0.091699980199337, 0.0915280133485794, 0.09135635197162628, 0.09118504077196121, 0.0910140872001648, 0.09084346145391464, 0.09067314118146896, 0.09050317853689194, 0.09033352881669998, 0.09016415476799011, 0.08999515324831009, 0.08982643485069275, 0.08965808153152466, 0.08949001133441925, 0.08932221680879593, 0.08915477991104126, 0.08898761123418808, 0.08882078528404236, 0.08865420520305634, 0.08848801255226135, 0.08832206577062607, 0.08815643191337585, 0.08799109607934952, 0.08782603591680527, 0.0876612737774849, 0.08749684691429138, 0.08733263611793518, 0.08716877549886703, 0.08700520545244217, 0.0868418738245964, 0.08667884021997452, 0.08651610463857651, 0.08635368198156357, 0.08619143813848495, 0.08602956682443619, 0.08586793392896652, 0.08570658415555954, 0.08554549515247345, 0.08538469672203064, 0.08522413671016693, 0.08506382256746292, 0.08490385860204697, 0.08474405109882355, 0.08458460867404938, 0.08442538231611252, 0.08426641672849655, 0.08410776406526566, 0.08394932001829147, 0.08379114419221878, 0.083633191883564, 0.08347553014755249, 0.08331810683012009, 0.08316097408533096, 0.08300402760505676, 0.08284738659858704, 0.08269092440605164, 0.08253474533557892, 0.0823788270354271, 0.08222313970327377, 0.08206769078969955, 0.08191248774528503, 0.08175753057003021, 0.08160281926393509, 0.08144830912351608, 0.08129407465457916, 0.08114005625247955, 0.08098626136779785, 0.08083272725343704, 0.08067941665649414, 0.08052636682987213, 0.08037348836660385, 0.08022084087133408, 0.0800684466958046, 0.07991630584001541, 0.07976433634757996, 0.0796126127243042, 0.07946112006902695, 0.079309843480587, 0.07915879040956497, 0.07900797575712204, 0.07885737717151642, 0.07870694249868393, 0.07855679094791412, 0.07840678095817566, 0.07825704663991928, 0.078107550740242, 0.07795821130275726, 0.07780910283327103, 0.0776602029800415, 0.07751154154539108, 0.07736305892467499, 0.07721477001905441, 0.07706670463085175, 0.07691885530948639, 0.07677123695611954, 0.07662375271320343, 0.07647655159235, 0.07632951438426971, 0.07618267089128494, 0.07603604346513748, 0.07588957995176315, 0.0757434070110321, 0.0755973532795906, 0.07545149326324463, 0.07530589401721954, 0.0751604437828064, 0.07501520216464996, 0.07487017661333084, 0.07472529262304306, 0.07458063215017319, 0.07443616539239883, 0.07429191470146179, 0.07414781302213669, 0.07400394231081009, 0.07386022806167603, 0.07371670752763748, 0.07357340306043625, 0.07343025505542755, 0.07328731566667557, 0.07314455509185791, 0.07300197333097458, 0.07285957783460617, 0.07271741330623627, 0.0725753903388977, 0.07243356853723526, 0.07229191809892654, 0.07215043157339096, 0.0720091462135315, 0.07186803221702576, 0.07172707468271255, 0.07158632576465607, 0.0714457705616951, 0.07130539417266846, 0.07116516679525375, 0.07102514803409576, 0.07088529318571091, 0.07074560970067978, 0.07060609757900238, 0.0704667791724205, 0.07032760977745056, 0.07018863409757614, 0.07004982233047485, 0.06991121917963028, 0.06977269798517227, 0.06963443756103516, 0.06949629634618759, 0.06935838609933853, 0.06922060251235962, 0.06908299028873444, 0.06894554197788239, 0.06880828738212585, 0.06867120414972305, 0.06853426992893219, 0.06839751452207565, 0.06826088577508926, 0.06812448799610138, 0.06798820197582245, 0.06785211712121964, 0.06771618872880936, 0.06758043169975281, 0.0674448311328888, 0.0673094093799591, 0.06717417389154434, 0.06703902781009674, 0.06690409034490585, 0.06676933169364929, 0.06663470715284348, 0.06650026142597198, 0.06636595726013184, 0.0662318617105484, 0.06609784811735153, 0.06596408039331436, 0.06583040207624435, 0.06569693982601166, 0.0655636340379715, 0.06543044000864029, 0.06529742479324341, 0.06516459584236145, 0.06503187865018845, 0.06489939242601395, 0.06476698070764542, 0.0646347776055336, 0.06450270116329193, 0.06437081098556519, 0.06423910707235336, 0.0641075149178505, 0.06397610902786255, 0.06384481489658356, 0.0637136772274971, 0.06358271092176437, 0.06345193088054657, 0.06332126259803772, 0.06319080293178558, 0.0630604475736618, 0.06293026357889175, 0.06280025839805603, 0.06267037242650986, 0.06254067271947861, 0.06241112947463989, 0.06228167936205864, 0.06215240806341171, 0.062023330479860306, 0.06189434975385666, 0.06176555156707764, 0.061636924743652344, 0.06150837987661362, 0.0613800548017025, 0.06125188246369362, 0.06112382188439369, 0.060995910316705704, 0.06086818873882294, 0.060740597546100616, 0.060613181442022324, 0.06048589199781418, 0.060358740389347076, 0.06023174896836281, 0.06010492891073227, 0.05997825786471367, 0.0598517507314682, 0.059725306928157806, 0.0595991387963295, 0.05947303771972656, 0.05934710428118706, 0.05922131612896919, 0.05909568816423416, 0.05897020176053047, 0.05884488299489021, 0.05871972814202309, 0.05859465152025223, 0.05846976861357689, 0.05834503471851349, 0.05822042375802994, 0.05809597671031952, 0.05797171592712402, 0.05784758925437927, 0.05772358179092407, 0.057599738240242004, 0.05747602880001068, 0.05735247582197189, 0.05722905322909355, 0.057105839252471924, 0.05698269605636597, 0.05685976520180702, 0.056736934930086136, 0.05661429837346077, 0.05649176239967346, 0.05636942759156227, 0.056247204542160034, 0.056125134229660034, 0.056003183126449585, 0.05588141828775406, 0.05575981363654137, 0.055638350546360016, 0.055516988039016724, 0.055395808070898056, 0.05527476593852043, 0.05515388399362564, 0.05503314360976219, 0.05491252988576889, 0.054792121052742004, 0.054671768099069595, 0.05455164611339569, 0.05443165451288223, 0.05431180074810982, 0.054192088544368744, 0.054072506725788116, 0.053953107446432114, 0.05383383855223656, 0.05371471866965294, 0.05359577387571335, 0.05347692221403122, 0.05335821956396103, 0.05323966220021248, 0.05312131345272064, 0.05300310626626015, 0.0528850182890892, 0.052767060697078705, 0.052649278193712234, 0.052531611174345016, 0.052414119243621826, 0.05229676887392998, 0.052179574966430664, 0.05206252261996269, 0.05194561183452606, 0.05182884261012077, 0.05171222239732742, 0.0515957809984684, 0.05147949233651161, 0.051363326609134674, 0.05124732479453087, 0.051131412386894226, 0.05101571977138519, 0.050900112837553024, 0.05078466981649399, 0.05066940560936928, 0.05055428668856621, 0.050439320504665375, 0.050324440002441406, 0.05020979046821594, 0.05009523406624794, 0.04998086020350456, 0.049866627901792526, 0.04975254088640213, 0.049638621509075165, 0.04952479526400566, 0.04941115528345108, 0.049297671765089035, 0.049184318631887436, 0.04907109960913658, 0.04895805940032005, 0.048845190554857254, 0.04873242229223251, 0.048619840294122696, 0.048507384955883026, 0.04839511215686798, 0.0482829213142395, 0.04817090556025505, 0.04805907607078552, 0.04794735088944435, 0.04783578962087631, 0.047724418342113495, 0.047613173723220825, 0.04750208184123039, 0.04739111661911011, 0.047280315309762955, 0.04716966673731804, 0.04705917462706566, 0.046948809176683426, 0.04683861881494522, 0.04672856256365776, 0.046618640422821045, 0.04650891572237015, 0.0463993176817894, 0.04628988355398178, 0.0461805984377861, 0.04607142135500908, 0.04596242681145668, 0.04585360735654831, 0.04574490711092949, 0.04563639312982559, 0.04552799463272095, 0.045419804751873016, 0.045311685651540756, 0.04520374909043312, 0.04509599134325981, 0.04498836025595665, 0.04488089680671692, 0.044773563742637634, 0.044666409492492676, 0.04455941170454025, 0.044452499598264694, 0.04434581100940704, 0.04423924908041954, 0.044132862240076065, 0.04402659088373184, 0.04392048344016075, 0.0438145287334919, 0.043708741664886475, 0.04360310360789299, 0.04349767416715622, 0.04339228570461273, 0.043287139385938644, 0.04318210110068321, 0.0430772639811039, 0.042972516268491745, 0.04286796972155571, 0.04276353493332863, 0.04265933483839035, 0.04255515709519386, 0.042451269924640656, 0.04234748333692551, 0.042243849486112595, 0.04214038327336311, 0.042037032544612885, 0.04193388670682907, 0.04183090478181839, 0.04172802343964577, 0.04162533953785896, 0.041522782295942307, 0.04142039269208908, 0.041318103671073914, 0.041216060519218445, 0.041114144027233124, 0.041012369096279144, 0.0409107431769371, 0.04080931842327118, 0.04070797562599182, 0.04060686007142067, 0.04050584137439728, 0.04040502384305, 0.040304385125637054, 0.040203846991062164, 0.0401034913957119, 0.04000324755907059, 0.03990323096513748, 0.03980332240462303, 0.03970359265804291, 0.039604030549526215, 0.039504580199718475, 0.039405375719070435, 0.039306238293647766, 0.03920729085803032, 0.03910847008228302, 0.03900987654924393, 0.03891140967607498, 0.03881310299038887, 0.03871490806341171, 0.03861694410443306, 0.03851912170648575, 0.0384213887155056, 0.03832387924194336, 0.03822649270296097, 0.03812931105494499, 0.03803225979208946, 0.03793533518910408, 0.03783860430121422, 0.03774206340312958, 0.03764566406607628, 0.03754940629005432, 0.0374533012509346, 0.03735733404755592, 0.03726158291101456, 0.03716592863202095, 0.037070512771606445, 0.03697523474693298, 0.03688006475567818, 0.0367850661277771, 0.03669024631381035, 0.03659558296203613, 0.03650110587477684, 0.036406755447387695, 0.036312539130449295, 0.03621857240796089, 0.03612469136714935, 0.03603095933794975, 0.03593744710087776, 0.03584403544664383, 0.035750821232795715, 0.03565775603055954, 0.035564880818128586, 0.035472121089696884, 0.03537952899932861, 0.035287126898765564, 0.03519485890865326, 0.03510273993015289, 0.03501078113913536, 0.03491904214024544, 0.03482741117477417, 0.03473594784736633, 0.034644678235054016, 0.03455357626080513, 0.0344625785946846, 0.034371767193078995, 0.03428114578127861, 0.03419060260057449, 0.03410029783844948, 0.03401010483503342, 0.03392014279961586, 0.03383030742406845, 0.03374060243368149, 0.033651065081357956, 0.033561721444129944, 0.03347251936793327, 0.03338346257805824, 0.03329461067914963, 0.033205896615982056, 0.03311731666326523, 0.03302893787622452, 0.03294073045253754, 0.0328526571393013, 0.03276477009057999, 0.03267703950405121, 0.03258945792913437, 0.03250199928879738, 0.03241473063826561, 0.032327648252248764, 0.03224068507552147, 0.03215394169092178, 0.03206731006503105, 0.03198092803359032, 0.03189459070563316, 0.03180845454335213, 0.03172250837087631, 0.03163669630885124, 0.03155113756656647, 0.03146558627486229, 0.03138028457760811, 0.03129514679312706, 0.031210120767354965, 0.031125329434871674, 0.031040659174323082, 0.030956147238612175, 0.030871791765093803, 0.030787641182541847, 0.030703581869602203, 0.030619757249951363, 0.030536072328686714, 0.030452514067292213, 0.03036915883421898, 0.03028593771159649, 0.030202895402908325, 0.030120015144348145, 0.03003731369972229, 0.02995474822819233, 0.029872335493564606, 0.029790107160806656, 0.0297080185264349, 0.029626112431287766, 0.029544349759817123, 0.029462754726409912, 0.029381336644291878, 0.02930006943643093, 0.02921897917985916, 0.029138019308447838, 0.029057221487164497, 0.02897663041949272, 0.028896162286400795, 0.028815871104598045, 0.02873578667640686, 0.02865581214427948, 0.02857597917318344, 0.028496313840150833, 0.028416812419891357, 0.028337502852082253, 0.028258347883820534, 0.028179356828331947, 0.028100499883294106, 0.028021816164255142, 0.02794327773153782, 0.027864929288625717, 0.027786754071712494, 0.02770870365202427, 0.027630820870399475, 0.027553122490644455, 0.027475586161017418, 0.027398167178034782, 0.02732093818485737, 0.027243908494710922, 0.02716694585978985, 0.027090206742286682, 0.027013620361685753, 0.02693720906972885, 0.026860961690545082, 0.026784855872392654, 0.026708947494626045, 0.026633145287632942, 0.02655749022960663, 0.02648203633725643, 0.026406709104776382, 0.02633153833448887, 0.026256630197167397, 0.0261817816644907, 0.02610711194574833, 0.02603260613977909, 0.025958264246582985, 0.025884117931127548, 0.02581007219851017, 0.02573622390627861, 0.025662492960691452, 0.02558899112045765, 0.02551558054983616, 0.025442354381084442, 0.025369303300976753, 0.02529638633131981, 0.0252236295491457, 0.025151001289486885, 0.025078600272536278, 0.025006337091326714, 0.0249341893941164, 0.024862254038453102, 0.024790428578853607, 0.024718791246414185, 0.02464733086526394, 0.024575984105467796, 0.024504853412508965, 0.02443382330238819, 0.024363039061427116, 0.02429232932627201, 0.024221764877438545, 0.02415141649544239, 0.02408117614686489, 0.024011114612221718, 0.023941202089190483, 0.023871487006545067, 0.023801876232028008, 0.023732470348477364, 0.023663172498345375, 0.023594120517373085, 0.023525113239884377, 0.023456310853362083, 0.023387640714645386, 0.02331915870308876, 0.02325080707669258, 0.023182611912488937, 0.023114601150155067, 0.02304672636091709, 0.022978998720645905, 0.02291145920753479, 0.02284405753016472, 0.022776825353503227, 0.022709717974066734, 0.02264271304011345, 0.022575965151190758, 0.022509342059493065, 0.0224428940564394, 0.022376567125320435, 0.022310376167297363, 0.02224438078701496, 0.02217848412692547, 0.022112807258963585, 0.022047271952033043, 0.021981876343488693, 0.02191663160920143, 0.0218515582382679, 0.02178664319217205, 0.0217218529433012, 0.02165723405778408, 0.021592741832137108, 0.02152840606868267, 0.021464180201292038, 0.02140018902719021, 0.02133633755147457, 0.021272582933306694, 0.02120901830494404, 0.021145613864064217, 0.021082330495119095, 0.021019281819462776, 0.020956309512257576, 0.02089347317814827, 0.020830830559134483, 0.02076830342411995, 0.020705970004200935, 0.02064375765621662, 0.02058170922100544, 0.02051982656121254, 0.020458078011870384, 0.02039644867181778, 0.020335009321570396, 0.020273717120289803, 0.02021257020533085, 0.02015151083469391, 0.020090686157345772, 0.020029982551932335, 0.019969459623098373, 0.019909020513296127, 0.019848743453621864, 0.019788606092333794, 0.019728636369109154, 0.01966884545981884, 0.01960914582014084, 0.019549617543816566, 0.019490277394652367, 0.019431058317422867, 0.019371960312128067, 0.019312994554638863, 0.019254226237535477, 0.01919560879468918, 0.019137082621455193, 0.01907876692712307, 0.01902054436504841, 0.01896250993013382, 0.018904585391283035, 0.01884680800139904, 0.01878918893635273, 0.018731694668531418, 0.01867438107728958, 0.018617182970046997, 0.018560124561190605, 0.01850324496626854, 0.018446478992700577, 0.01838986761868, 0.018333422020077705, 0.0182771235704422, 0.0182209312915802, 0.018164917826652527, 0.018108990043401718, 0.01805323362350464, 0.01799762435257435, 0.017942173406481743, 0.01788683421909809, 0.017831677570939064, 0.017776604741811752, 0.01772172376513481, 0.017666924744844437, 0.017612319439649582, 0.017557883635163307, 0.01750352419912815, 0.01744931936264038, 0.017395276576280594, 0.017341412603855133, 0.01728755421936512, 0.017233993858098984, 0.01718050055205822, 0.017127061262726784, 0.017073877155780792, 0.017020773142576218, 0.016967859119176865, 0.016915051266551018, 0.016862433403730392, 0.016809867694973946, 0.01675746962428093, 0.01670524850487709, 0.016653120517730713, 0.016601182520389557, 0.016549309715628624, 0.01649763062596321, 0.01644602045416832, 0.016394583508372307, 0.016343284398317337, 0.016292192041873932, 0.016241174191236496, 0.016190264374017715, 0.016139503568410873, 0.016088949516415596, 0.016038458794355392, 0.01598808355629444, 0.01593787781894207, 0.015887809917330742, 0.015837814658880234, 0.015788014978170395, 0.015738360583782196, 0.01568884775042534, 0.015639403834939003, 0.015590094961225986, 0.015540961176156998, 0.015491949394345284, 0.015443101525306702, 0.015394355170428753, 0.015345743857324123, 0.015297267585992813, 0.015248917043209076, 0.015200614929199219, 0.015152586624026299, 0.015104641206562519, 0.01505682710558176, 0.015009129419922829, 0.014961522072553635, 0.014914116822183132, 0.014866755343973637, 0.014819597825407982, 0.014772576279938221, 0.014725633896887302, 0.014678838662803173, 0.014632157981395721, 0.014585559256374836, 0.014539222232997417, 0.014492928050458431, 0.014446759596467018, 0.014400754123926163, 0.014354844577610493, 0.014309096150100231, 0.014263451099395752, 0.01421789824962616, 0.014172532595694065, 0.014127236790955067, 0.014082147739827633, 0.014037100598216057, 0.013992192223668098, 0.013947402127087116, 0.013902825303375721, 0.01385826338082552, 0.013813871890306473, 0.01376961637288332, 0.013725458644330502, 0.013681406155228615, 0.013637525029480457, 0.013593723066151142, 0.013550096191465855, 0.013506514951586723, 0.01346315536648035, 0.013419847935438156, 0.013376692309975624, 0.013333611190319061, 0.013290739618241787, 0.013247912749648094, 0.013205256313085556, 0.013162682764232159, 0.013120263814926147, 0.013077919371426105, 0.013035711832344532, 0.012993629090487957, 0.012951696291565895, 0.012909877113997936, 0.01286811288446188, 0.01282647717744112, 0.012785051949322224, 0.012743651866912842, 0.012702400796115398, 0.012661268934607506, 0.012620268389582634, 0.012579375877976418, 0.012538565322756767, 0.012497888877987862, 0.012457400560379028, 0.012416944839060307, 0.012376665137708187, 0.012336420826613903, 0.012296385131776333, 0.012256401591002941, 0.012216558679938316, 0.012176776304841042, 0.012137232348322868, 0.012097686529159546, 0.01205828133970499, 0.01201900839805603, 0.011979847215116024, 0.011940773576498032, 0.011901874095201492, 0.011863005347549915, 0.011824318207800388, 0.01178571954369545, 0.011747218668460846, 0.011708850972354412, 0.011670571751892567, 0.011632431298494339, 0.011594394221901894, 0.011556479148566723, 0.011518611572682858, 0.011480902321636677, 0.011443291790783405, 0.011405867524445057, 0.011368430219590664, 0.011331172659993172, 0.011294001713395119, 0.011256908997893333, 0.01122001837939024, 0.011183183640241623, 0.011146492324769497, 0.011109852232038975, 0.011073343455791473, 0.011036953888833523, 0.011000723578035831, 0.010964482091367245, 0.010928403586149216, 0.010892455466091633, 0.010856595821678638, 0.010820823721587658, 0.010785159654915333, 0.0107496352866292, 0.010714204981923103, 0.01067883800715208, 0.010643630288541317, 0.010608458891510963, 0.01057348307222128, 0.01053855661302805, 0.010503740049898624, 0.01046905480325222, 0.010434470139443874, 0.010399946011602879, 0.01036555040627718, 0.010331256315112114, 0.010297105647623539, 0.010262984782457352, 0.010228976607322693, 0.010195109061896801, 0.010161309503018856, 0.010127678513526917, 0.01009405218064785, 0.010060570202767849, 0.010027208365499973, 0.009993878193199635, 0.009960751980543137, 0.009927644394338131, 0.009894711896777153, 0.009861825034022331, 0.009829049929976463, 0.00979634653776884, 0.009763803333044052, 0.009731312282383442, 0.009698926471173763, 0.009666677564382553, 0.009634440764784813, 0.00960234273225069]}, {\"name\": \"error validation\", \"type\": \"scatter\", \"y\": [0.18230445683002472, 0.11006812006235123, 0.12478449940681458, 0.127177432179451, 0.12707741558551788, 0.12656505405902863, 0.12598736584186554, 0.12540048360824585, 0.12481348216533661, 0.12422794848680496, 0.12364387512207031, 0.12306167185306549, 0.1224810779094696, 0.12190214544534683, 0.12132477760314941, 0.12074911594390869, 0.12017499655485153, 0.11960257589817047, 0.11903183162212372, 0.11846252530813217, 0.11789485067129135, 0.11732875555753708, 0.1167641133069992, 0.11620122194290161, 0.11563980579376221, 0.11507980525493622, 0.11452154815196991, 0.11396469920873642, 0.11340932548046112, 0.11285559087991714, 0.11230319738388062, 0.111752450466156, 0.11120297759771347, 0.11065509915351868, 0.11010860651731491, 0.1095636785030365, 0.1090201586484909, 0.10847804695367813, 0.10793740302324295, 0.10739808529615402, 0.10686029493808746, 0.10632384568452835, 0.10578878968954086, 0.1052551344037056, 0.10472274571657181, 0.10419192910194397, 0.1036624163389206, 0.10313428193330765, 0.10260742157697678, 0.10208191722631454, 0.10155785828828812, 0.10103493183851242, 0.1005135253071785, 0.09999330341815948, 0.0994744747877121, 0.0989568829536438, 0.09844061732292175, 0.09792566299438477, 0.09741194546222687, 0.09689949452877045, 0.09638841450214386, 0.09587868303060532, 0.09536989033222198, 0.09486260265111923, 0.09435634315013885, 0.09385155141353607, 0.09334786981344223, 0.09284543991088867, 0.09234416484832764, 0.09184412658214569, 0.09134542942047119, 0.09084774553775787, 0.090351402759552, 0.08985617011785507, 0.08936218172311783, 0.08886934071779251, 0.0883776992559433, 0.0878872200846672, 0.08739780634641647, 0.08690964430570602, 0.0864226445555687, 0.08593667298555374, 0.08545200526714325, 0.08496835827827454, 0.08448579907417297, 0.08400456607341766, 0.08352431654930115, 0.08304525166749954, 0.08256712555885315, 0.0820903480052948, 0.08161449432373047, 0.08114001154899597, 0.08066607266664505, 0.08019367605447769, 0.07972239702939987, 0.07925201207399368, 0.07878261059522629, 0.07831446826457977, 0.07784733921289444, 0.07738128304481506, 0.07691620290279388, 0.07645222544670105, 0.07598923146724701, 0.07552740722894669, 0.07506651431322098, 0.0746067687869072, 0.07414800673723221, 0.07369019836187363, 0.0732334777712822, 0.07277781516313553, 0.07232318818569183, 0.07186953723430634, 0.07141692191362381, 0.07096508145332336, 0.07051459699869156, 0.07006500661373138, 0.06961631774902344, 0.06916875392198563, 0.06872206926345825, 0.06827640533447266, 0.06783156096935272, 0.06738787144422531, 0.06694526225328445, 0.06650348752737045, 0.06606277078390121, 0.06562289595603943, 0.06518404185771942, 0.06474624574184418, 0.06430918723344803, 0.06387323886156082, 0.06343822926282883, 0.06300415098667145, 0.06257100403308868, 0.06213891878724098, 0.06170767545700073, 0.06127749755978584, 0.06084814295172691, 0.060419682413339615, 0.059992268681526184, 0.05956568196415901, 0.05914021655917168, 0.058715496212244034, 0.05829188600182533, 0.057869017124176025, 0.05744718760251999, 0.05702618882060051, 0.056606221944093704, 0.056187067180871964, 0.05576891824603081, 0.05535171553492546, 0.05493534356355667, 0.05452001094818115, 0.05410538241267204, 0.05369193106889725, 0.053279291838407516, 0.05286756530404091, 0.05245668441057205, 0.05204674229025841, 0.05163777619600296, 0.05122973769903183, 0.050822410732507706, 0.0504162460565567, 0.05001091957092285, 0.04960646480321884, 0.04920291155576706, 0.048800259828567505, 0.04839855059981346, 0.04799770563840866, 0.04759790748357773, 0.04719892144203186, 0.04680084437131882, 0.04640374705195427, 0.04600754752755165, 0.045612335205078125, 0.04521796107292175, 0.044824548065662384, 0.04443208500742912, 0.04404037818312645, 0.04364989697933197, 0.04326016455888748, 0.04287130385637283, 0.04248344525694847, 0.04209652915596962, 0.04171052947640419, 0.04132557660341263, 0.04094155505299568, 0.04055841639637947, 0.04017633572220802, 0.03979511559009552, 0.03941496089100838, 0.03903568908572197, 0.03865744173526764, 0.0382801853120327, 0.03790374845266342, 0.03752855211496353, 0.037154216319322586, 0.03678100183606148, 0.0364086888730526, 0.03603747487068176, 0.035667285323143005, 0.0352981761097908, 0.03492993488907814, 0.03456294909119606, 0.03419695794582367, 0.03383206948637962, 0.033468179404735565, 0.03310542553663254, 0.032743681222200394, 0.032383278012275696, 0.032023828476667404, 0.031665608286857605, 0.03130846470594406, 0.030952611938118935, 0.03059789165854454, 0.030244342982769012, 0.02989204227924347, 0.029541077092289925, 0.029191186651587486, 0.028842607513070107, 0.028495337814092636, 0.028149478137493134, 0.027804862707853317, 0.02746167778968811, 0.0271198321133852, 0.026779398322105408, 0.026440290734171867, 0.026102736592292786, 0.02576667070388794, 0.025432145223021507, 0.025099191814661026, 0.024767694994807243, 0.02443797141313553, 0.0241098590195179, 0.023783521726727486, 0.023458851501345634, 0.023135950788855553, 0.022814905270934105, 0.022495675832033157, 0.022178495302796364, 0.021863184869289398, 0.021549846976995468, 0.021238718181848526, 0.020929686725139618, 0.020622912794351578, 0.020318368449807167, 0.020016321912407875, 0.019716601818799973, 0.019419318065047264, 0.01912473887205124, 0.01883281208574772, 0.018543699756264687, 0.01825741119682789, 0.0179740097373724, 0.017693839967250824, 0.017416736111044884, 0.01714293286204338, 0.016872553154826164, 0.016605857759714127, 0.016342760995030403, 0.01608356647193432, 0.015828300267457962, 0.01557722594588995, 0.015330389142036438, 0.015088064596056938, 0.014850449748337269, 0.014617595821619034, 0.014389869756996632, 0.014167319983243942, 0.013950273394584656, 0.013738755136728287, 0.01353316567838192, 0.01333374809473753, 0.013140740804374218, 0.012954245321452618, 0.012774567119777203, 0.012601915746927261, 0.01243666559457779, 0.012278985232114792, 0.012129024602472782, 0.011987277306616306, 0.011853762902319431, 0.011728840880095959, 0.01161277387291193, 0.011505484580993652, 0.011407463811337948, 0.011318984441459179, 0.011239897459745407, 0.011170553043484688, 0.011111109517514706, 0.011061559431254864, 0.011022059246897697, 0.010992774739861488, 0.010973573662340641, 0.010964484885334969, 0.010965517722070217, 0.010976621881127357, 0.010997622273862362, 0.011028663255274296, 0.011069332249462605, 0.011119686998426914, 0.0111795449629426, 0.011248281225562096, 0.011326395906507969, 0.011413130909204483, 0.011508387513458729, 0.011612076312303543, 0.011723626405000687, 0.011843070387840271, 0.011969730257987976, 0.012104041874408722, 0.012244964018464088, 0.012392556294798851, 0.012546559795737267, 0.012706723995506763, 0.012872641906142235, 0.013044151477515697, 0.013221120461821556, 0.013402990065515041, 0.013589768670499325, 0.013781090267002583, 0.013976888731122017, 0.014176830649375916, 0.014380734413862228, 0.01458839513361454, 0.014799636788666248, 0.015014260075986385, 0.015231998637318611, 0.015452947467565536, 0.01567676104605198, 0.015903187915682793, 0.016132351011037827, 0.016363801434636116, 0.01659778505563736, 0.016833828762173653, 0.01707196980714798, 0.017312129959464073, 0.017554067075252533, 0.017797917127609253, 0.01804334484040737, 0.01829020492732525, 0.01853874884545803, 0.01878872700035572, 0.019039949402213097, 0.01929238997399807, 0.019546104595065117, 0.019800711423158646, 0.02005670592188835, 0.020313428714871407, 0.020571215078234673, 0.0208297036588192, 0.021089114248752594, 0.02134929969906807, 0.021610209718346596, 0.021871712058782578, 0.02213391475379467, 0.02239670231938362, 0.022660059854388237, 0.022924045100808144, 0.023188268765807152, 0.023453183472156525, 0.023718267679214478, 0.023983867838978767, 0.024249866604804993, 0.024516038596630096, 0.024782465770840645, 0.02504936046898365, 0.025316579267382622, 0.025583570823073387, 0.02585120126605034, 0.026118705049157143, 0.02638649195432663, 0.02665449120104313, 0.02692251466214657, 0.02719063311815262, 0.02745882235467434, 0.027726992964744568, 0.027995361015200615, 0.028263628482818604, 0.02853192761540413, 0.02880035527050495, 0.02906871773302555, 0.029336977750062943, 0.029605265706777573, 0.029873330146074295, 0.030141474679112434, 0.03040952980518341, 0.030677495524287224, 0.030945418402552605, 0.031213222071528435, 0.03148083761334419, 0.03174825385212898, 0.032015617936849594, 0.03228287771344185, 0.03254999965429306, 0.03281690552830696, 0.033083610236644745, 0.03335022181272507, 0.03361665457487106, 0.03388286381959915, 0.03414880111813545, 0.03441455960273743, 0.034680094569921494, 0.03494541347026825, 0.03521063178777695, 0.03547549247741699, 0.03574018552899361, 0.03600463643670082, 0.03626878932118416, 0.03653275966644287, 0.036796413362026215, 0.03705986216664314, 0.03732296824455261, 0.03758590668439865, 0.03784852847456932, 0.03811078146100044, 0.038372814655303955, 0.03863459452986717, 0.038896191865205765, 0.03915732353925705, 0.03941815346479416, 0.03967881575226784, 0.03993906453251839, 0.04019911587238312, 0.04045870155096054, 0.04071814566850662, 0.04097716882824898, 0.041235968470573425, 0.04149443656206131, 0.04175245761871338, 0.04201019927859306, 0.042267534881830215, 0.042524661868810654, 0.04278154298663139, 0.04303788021206856, 0.04329400882124901, 0.043549805879592896, 0.043805237859487534, 0.04406021535396576, 0.044315095990896225, 0.04456938058137894, 0.04482342302799225, 0.04507698491215706, 0.045330312103033066, 0.04558340832591057, 0.04583606868982315, 0.046088289469480515, 0.04634028300642967, 0.04659169912338257, 0.046842850744724274, 0.04709366708993912, 0.047344084829092026, 0.04759416729211807, 0.047843948006629944, 0.04809330031275749, 0.04834222421050072, 0.04859081655740738, 0.04883915185928345, 0.04908699914813042, 0.04933438450098038, 0.0495813712477684, 0.049828290939331055, 0.05007455497980118, 0.05032050609588623, 0.05056620016694069, 0.05081130564212799, 0.05105609446763992, 0.05130050331354141, 0.05154450982809067, 0.05178812891244888, 0.052031565457582474, 0.05227445065975189, 0.052516840398311615, 0.05275898054242134, 0.053000740706920624, 0.0532420314848423, 0.05348293110728264, 0.053723473101854324, 0.05396358668804169, 0.05420336127281189, 0.05444275960326195, 0.0546816810965538, 0.054920393973588943, 0.05515846610069275, 0.055396318435668945, 0.05563364923000336, 0.05587063357234001, 0.05610712990164757, 0.05634339526295662, 0.0565791092813015, 0.05681467801332474, 0.05704948678612709, 0.05728417634963989, 0.057518310844898224, 0.057752177119255066, 0.057985540479421616, 0.058218587189912796, 0.058451052755117416, 0.058683253824710846, 0.058915041387081146, 0.059146296232938766, 0.05937735736370087, 0.059607766568660736, 0.059837982058525085, 0.0600677989423275, 0.06029704585671425, 0.06052599102258682, 0.060754578560590744, 0.06098282337188721, 0.061210423707962036, 0.061437614262104034, 0.06166465952992439, 0.06189119443297386, 0.062117137014865875, 0.06234288960695267, 0.0625680461525917, 0.06279299408197403, 0.06301748752593994, 0.06324142217636108, 0.06346513330936432, 0.06368839740753174, 0.06391124427318573, 0.06413358449935913, 0.06435561180114746, 0.06457725167274475, 0.06479836255311966, 0.0650191605091095, 0.06523936986923218, 0.06545940786600113, 0.06567906588315964, 0.06589812785387039, 0.06611692160367966, 0.06633511930704117, 0.06655299663543701, 0.06677054613828659, 0.06698743999004364, 0.06720409542322159, 0.06742054224014282, 0.06763628870248795, 0.0678517147898674, 0.06806676089763641, 0.0682813748717308, 0.06849563121795654, 0.06870929896831512, 0.06892266124486923, 0.0691356435418129, 0.06934811174869537, 0.0695602297782898, 0.06977207213640213, 0.06998328119516373, 0.0701942965388298, 0.07040473818778992, 0.07061468064785004, 0.07082436233758926, 0.07103375345468521, 0.07124251127243042, 0.07145099341869354, 0.07165901362895966, 0.07186654955148697, 0.07207395881414413, 0.07228059321641922, 0.07248695194721222, 0.07269290834665298, 0.07289834320545197, 0.07310356199741364, 0.07330832630395889, 0.07351268082857132, 0.07371644675731659, 0.07392001152038574, 0.0741230919957161, 0.07432582229375839, 0.0745280534029007, 0.07472993433475494, 0.07493146508932114, 0.07513229548931122, 0.07533293962478638, 0.07553321868181229, 0.07573288679122925, 0.07593228667974472, 0.07613133639097214, 0.0763300359249115, 0.07652807980775833, 0.07672593742609024, 0.0769231840968132, 0.07712016254663467, 0.07731661200523376, 0.07751267403364182, 0.07770854979753494, 0.07790384441614151, 0.07809864729642868, 0.07829316705465317, 0.07848720997571945, 0.07868094742298126, 0.0788741186261177, 0.07906705141067505, 0.07925952225923538, 0.07945160567760468, 0.0796431228518486, 0.07983452081680298, 0.08002518862485886, 0.08021560311317444, 0.08040569722652435, 0.08059515058994293, 0.08078445494174957, 0.0809732973575592, 0.08116169273853302, 0.08134961128234863, 0.0815371498465538, 0.08172427862882614, 0.08191119879484177, 0.08209756016731262, 0.08228354901075363, 0.08246899396181107, 0.08265426009893417, 0.0828389897942543, 0.08302328735589981, 0.08320730924606323, 0.08339076489210129, 0.08357393741607666, 0.0837567001581192, 0.08393918722867966, 0.0841209813952446, 0.0843026265501976, 0.08448370546102524, 0.08466441184282303, 0.08484485745429993, 0.08502466976642609, 0.08520425111055374, 0.085383340716362, 0.08556219935417175, 0.0857405737042427, 0.08591853827238083, 0.08609599620103836, 0.0862732008099556, 0.08644995838403702, 0.0866263210773468, 0.08680231124162674, 0.08697783201932907, 0.08715307712554932, 0.08732784539461136, 0.087502121925354, 0.08767624199390411, 0.08784990012645721, 0.08802296966314316, 0.08819582313299179, 0.08836819976568222, 0.08854016661643982, 0.08871179074048996, 0.08888310194015503, 0.08905376493930817, 0.08922436833381653, 0.08939443528652191, 0.08956414461135864, 0.08973342925310135, 0.08990228176116943, 0.09007064253091812, 0.09023886173963547, 0.09040673077106476, 0.09057390689849854, 0.09074075520038605, 0.09090738743543625, 0.09107355773448944, 0.091239333152771, 0.09140472859144211, 0.09156971424818039, 0.09173428267240524, 0.09189864993095398, 0.09206248819828033, 0.09222584962844849, 0.0923890620470047, 0.09255167096853256, 0.09271378815174103, 0.09287580847740173, 0.0930371806025505, 0.09319854527711868, 0.0933593288064003, 0.09351980686187744, 0.0936797708272934, 0.0938393622636795, 0.09399853646755219, 0.09415743499994278, 0.09431599825620651, 0.09447400271892548, 0.09463165700435638, 0.09478908777236938, 0.09494598954916, 0.09510263055562973, 0.09525880962610245, 0.09541468322277069, 0.0955701470375061, 0.0957251638174057, 0.09587989002466202, 0.0960342288017273, 0.09618823230266571, 0.09634192287921906, 0.09649491310119629, 0.09664783626794815, 0.09680028259754181, 0.09695236384868622, 0.09710410237312317, 0.09725537896156311, 0.09740643948316574, 0.09755701571702957, 0.09770730882883072, 0.09785699844360352, 0.09800653904676437, 0.098155677318573, 0.09830443561077118, 0.0984528586268425, 0.0986008420586586, 0.09874850511550903, 0.09889578074216843, 0.09904265403747559, 0.09918917715549469, 0.09933535754680634, 0.09948109090328217, 0.09962675720453262, 0.09977170079946518, 0.0999164804816246, 0.10006083548069, 0.10020500421524048, 0.10034864395856857, 0.10049183666706085, 0.10063476860523224, 0.10077741742134094, 0.10091938823461533, 0.1010613664984703, 0.10120271146297455, 0.10134393721818924, 0.10148482024669647, 0.10162515193223953, 0.10176508873701096, 0.10190479457378387, 0.10204421728849411, 0.10218316316604614, 0.10232174396514893, 0.10246005654335022, 0.1025979295372963, 0.10273551195859909, 0.10287266224622726, 0.1030096709728241, 0.10314607620239258, 0.10328212380409241, 0.1034180149435997, 0.10355349630117416, 0.10368857532739639, 0.10382330417633057, 0.10395792126655579, 0.10409199446439743, 0.10422556102275848, 0.10435906052589417, 0.10449202358722687, 0.10462463647127151, 0.10475698858499527, 0.1048889234662056, 0.10502061992883682, 0.10515186935663223, 0.10528284311294556, 0.10541348159313202, 0.10554368793964386, 0.10567368566989899, 0.10580331087112427, 0.10593239217996597, 0.10606138408184052, 0.1061900183558464, 0.10631807893514633, 0.10644593834877014, 0.10657364130020142, 0.10670080780982971, 0.10682765394449234, 0.10695414245128632, 0.10708032548427582, 0.10720624029636383, 0.10733188688755035, 0.10745697468519211, 0.10758183151483536, 0.10770639777183533, 0.10783067345619202, 0.10795441269874573, 0.10807789117097855, 0.10820118337869644, 0.10832393169403076, 0.10844659805297852, 0.1085687056183815, 0.10869064927101135, 0.10881219804286957, 0.10893338918685913, 0.10905437171459198, 0.10917482525110245, 0.10929510742425919, 0.1094149649143219, 0.1095346212387085, 0.109654001891613, 0.10977291315793991, 0.10989148914813995, 0.11000987887382507, 0.1101277694106102, 0.11024553328752518, 0.11036282777786255, 0.11047976464033127, 0.1105964258313179, 0.11071278154850006, 0.11082892119884491, 0.11094462126493454, 0.11106003075838089, 0.11117514967918396, 0.11128997802734375, 0.11140432208776474, 0.11151853948831558, 0.11163243651390076, 0.11174598336219788, 0.11185931414365768, 0.11197210848331451, 0.11208473145961761, 0.11219703406095505, 0.11230891197919846, 0.11242067813873291, 0.11253196001052856, 0.11264310777187347, 0.112753726541996, 0.11286415159702301, 0.11297450959682465, 0.1130841001868248, 0.11319366097450256, 0.1133028194308281, 0.11341185867786407, 0.11352033168077469, 0.11362875998020172, 0.11373676359653473, 0.11384426802396774, 0.11395154893398285, 0.11405869573354721, 0.11416544765233994, 0.11427189409732819, 0.11437827348709106, 0.11448418349027634, 0.11458978801965714, 0.11469490826129913, 0.1147998794913292, 0.11490452289581299, 0.11500915884971619, 0.1151130422949791, 0.11521689593791962, 0.1153203696012497, 0.11542362719774246, 0.11552652716636658, 0.11562924087047577, 0.1157316192984581, 0.1158335953950882, 0.11593534052371979, 0.11603675037622452, 0.11613810807466507, 0.11623899638652802, 0.11633950471878052, 0.11643971502780914, 0.11653987318277359, 0.1166396215558052, 0.11673901230096817, 0.11683811992406845, 0.11693711578845978, 0.11703558266162872, 0.11713395267724991, 0.11723198741674423, 0.11732969433069229, 0.11742717772722244, 0.11752424389123917, 0.11762125790119171, 0.11771786957979202, 0.11781417578458786, 0.11791033297777176, 0.11800610274076462, 0.11810162663459778, 0.11819695681333542, 0.1182919517159462, 0.11838642507791519, 0.11848095059394836, 0.11857502162456512, 0.11866893619298935, 0.11876247078180313, 0.11885569244623184, 0.11894871294498444, 0.11904150247573853, 0.11913400888442993, 0.11922607570886612, 0.11931814253330231, 0.11940988898277283, 0.11950137466192245, 0.1195923388004303, 0.11968338489532471, 0.11977394670248032, 0.11986424773931503, 0.11995427310466766, 0.12004417926073074, 0.1201336532831192, 0.1202230229973793, 0.12031203508377075, 0.1204008087515831, 0.12048931419849396, 0.12057752162218094, 0.12066539376974106, 0.12075332552194595, 0.1208406463265419, 0.12092790752649307, 0.12101476639509201, 0.12110146880149841, 0.12118785083293915, 0.12127404659986496, 0.12136002629995346, 0.12144558131694794, 0.1215309277176857, 0.12161602824926376, 0.12170110642910004, 0.1217857226729393, 0.12186992913484573, 0.12195409834384918, 0.1220381110906601, 0.12212171405553818, 0.1222049742937088, 0.12228824198246002, 0.1223711371421814, 0.12245369702577591, 0.1225360855460167, 0.12261822819709778, 0.12270013242959976, 0.12278175354003906, 0.12286302447319031, 0.12294428050518036, 0.12302504479885101, 0.12310592830181122, 0.12318611890077591, 0.12326638400554657, 0.12334644794464111, 0.12342610955238342, 0.12350550293922424, 0.12358474731445312, 0.12366373091936111, 0.12374252080917358, 0.12382090836763382, 0.1238991841673851, 0.1239771619439125, 0.12405480444431305, 0.12413237988948822, 0.12420985847711563, 0.1242869570851326, 0.1243637427687645, 0.12444040924310684, 0.1245168000459671, 0.1245928704738617, 0.12466863542795181, 0.12474443018436432, 0.12481985986232758, 0.12489506602287292, 0.12497016042470932, 0.12504485249519348, 0.1251194328069687, 0.12519359588623047, 0.12526759505271912, 0.125341534614563, 0.1254151314496994, 0.12548838555812836, 0.12556146085262299, 0.12563452124595642, 0.12570708990097046, 0.12577970325946808, 0.12585186958312988, 0.12592408061027527, 0.1259957253932953, 0.12606744468212128, 0.12613888084888458, 0.12620995938777924, 0.12628091871738434, 0.12635158002376556, 0.1264219880104065, 0.12649239599704742, 0.126562237739563, 0.12663216888904572, 0.12670180201530457, 0.12677136063575745, 0.1268405020236969, 0.12690939009189606, 0.12697821855545044, 0.12704677879810333, 0.12711511552333832, 0.12718318402767181, 0.12725095450878143, 0.12731879949569702, 0.12738630175590515, 0.12745344638824463, 0.1275206208229065, 0.1275874823331833, 0.12765416502952576, 0.12772049009799957, 0.12778671085834503, 0.12785287201404572, 0.12791867554187775, 0.1279841810464859, 0.12804967164993286, 0.12811481952667236, 0.12817977368831635, 0.12824447453022003, 0.1283092051744461]}],\n",
       "                        {\"height\": 400, \"template\": {\"data\": {\"bar\": [{\"error_x\": {\"color\": \"#2a3f5f\"}, \"error_y\": {\"color\": \"#2a3f5f\"}, \"marker\": {\"line\": {\"color\": \"#E5ECF6\", \"width\": 0.5}}, \"type\": \"bar\"}], \"barpolar\": [{\"marker\": {\"line\": {\"color\": \"#E5ECF6\", \"width\": 0.5}}, \"type\": \"barpolar\"}], \"carpet\": [{\"aaxis\": {\"endlinecolor\": \"#2a3f5f\", \"gridcolor\": \"white\", \"linecolor\": \"white\", \"minorgridcolor\": \"white\", \"startlinecolor\": \"#2a3f5f\"}, \"baxis\": {\"endlinecolor\": \"#2a3f5f\", \"gridcolor\": \"white\", \"linecolor\": \"white\", \"minorgridcolor\": \"white\", \"startlinecolor\": \"#2a3f5f\"}, \"type\": \"carpet\"}], \"choropleth\": [{\"colorbar\": {\"outlinewidth\": 0, \"ticks\": \"\"}, \"type\": \"choropleth\"}], \"contour\": [{\"colorbar\": {\"outlinewidth\": 0, \"ticks\": \"\"}, \"colorscale\": [[0.0, \"#0d0887\"], [0.1111111111111111, \"#46039f\"], [0.2222222222222222, \"#7201a8\"], [0.3333333333333333, \"#9c179e\"], [0.4444444444444444, \"#bd3786\"], [0.5555555555555556, \"#d8576b\"], [0.6666666666666666, \"#ed7953\"], [0.7777777777777778, \"#fb9f3a\"], [0.8888888888888888, \"#fdca26\"], [1.0, \"#f0f921\"]], \"type\": \"contour\"}], \"contourcarpet\": [{\"colorbar\": {\"outlinewidth\": 0, \"ticks\": \"\"}, \"type\": \"contourcarpet\"}], \"heatmap\": [{\"colorbar\": {\"outlinewidth\": 0, \"ticks\": \"\"}, \"colorscale\": [[0.0, \"#0d0887\"], [0.1111111111111111, \"#46039f\"], [0.2222222222222222, \"#7201a8\"], [0.3333333333333333, \"#9c179e\"], [0.4444444444444444, \"#bd3786\"], [0.5555555555555556, \"#d8576b\"], [0.6666666666666666, \"#ed7953\"], [0.7777777777777778, \"#fb9f3a\"], [0.8888888888888888, \"#fdca26\"], [1.0, \"#f0f921\"]], \"type\": \"heatmap\"}], \"heatmapgl\": [{\"colorbar\": {\"outlinewidth\": 0, \"ticks\": \"\"}, \"colorscale\": [[0.0, \"#0d0887\"], [0.1111111111111111, \"#46039f\"], [0.2222222222222222, \"#7201a8\"], [0.3333333333333333, \"#9c179e\"], [0.4444444444444444, \"#bd3786\"], [0.5555555555555556, \"#d8576b\"], [0.6666666666666666, \"#ed7953\"], [0.7777777777777778, \"#fb9f3a\"], [0.8888888888888888, \"#fdca26\"], [1.0, \"#f0f921\"]], \"type\": \"heatmapgl\"}], \"histogram\": [{\"marker\": {\"colorbar\": {\"outlinewidth\": 0, \"ticks\": \"\"}}, \"type\": \"histogram\"}], \"histogram2d\": [{\"colorbar\": {\"outlinewidth\": 0, \"ticks\": \"\"}, \"colorscale\": [[0.0, \"#0d0887\"], [0.1111111111111111, \"#46039f\"], [0.2222222222222222, \"#7201a8\"], [0.3333333333333333, \"#9c179e\"], [0.4444444444444444, \"#bd3786\"], [0.5555555555555556, \"#d8576b\"], [0.6666666666666666, \"#ed7953\"], [0.7777777777777778, \"#fb9f3a\"], [0.8888888888888888, \"#fdca26\"], [1.0, \"#f0f921\"]], \"type\": \"histogram2d\"}], \"histogram2dcontour\": [{\"colorbar\": {\"outlinewidth\": 0, \"ticks\": \"\"}, \"colorscale\": [[0.0, \"#0d0887\"], [0.1111111111111111, \"#46039f\"], [0.2222222222222222, \"#7201a8\"], [0.3333333333333333, \"#9c179e\"], [0.4444444444444444, \"#bd3786\"], [0.5555555555555556, \"#d8576b\"], [0.6666666666666666, \"#ed7953\"], [0.7777777777777778, \"#fb9f3a\"], [0.8888888888888888, \"#fdca26\"], [1.0, \"#f0f921\"]], \"type\": \"histogram2dcontour\"}], \"mesh3d\": [{\"colorbar\": {\"outlinewidth\": 0, \"ticks\": \"\"}, \"type\": \"mesh3d\"}], \"parcoords\": [{\"line\": {\"colorbar\": {\"outlinewidth\": 0, \"ticks\": \"\"}}, \"type\": \"parcoords\"}], \"pie\": [{\"automargin\": true, \"type\": \"pie\"}], \"scatter\": [{\"marker\": {\"colorbar\": {\"outlinewidth\": 0, \"ticks\": \"\"}}, \"type\": \"scatter\"}], \"scatter3d\": [{\"line\": {\"colorbar\": {\"outlinewidth\": 0, \"ticks\": \"\"}}, \"marker\": {\"colorbar\": {\"outlinewidth\": 0, \"ticks\": \"\"}}, \"type\": \"scatter3d\"}], \"scattercarpet\": [{\"marker\": {\"colorbar\": {\"outlinewidth\": 0, \"ticks\": \"\"}}, \"type\": \"scattercarpet\"}], \"scattergeo\": [{\"marker\": {\"colorbar\": {\"outlinewidth\": 0, \"ticks\": \"\"}}, \"type\": \"scattergeo\"}], \"scattergl\": [{\"marker\": {\"colorbar\": {\"outlinewidth\": 0, \"ticks\": \"\"}}, \"type\": \"scattergl\"}], \"scattermapbox\": [{\"marker\": {\"colorbar\": {\"outlinewidth\": 0, \"ticks\": \"\"}}, \"type\": \"scattermapbox\"}], \"scatterpolar\": [{\"marker\": {\"colorbar\": {\"outlinewidth\": 0, \"ticks\": \"\"}}, \"type\": \"scatterpolar\"}], \"scatterpolargl\": [{\"marker\": {\"colorbar\": {\"outlinewidth\": 0, \"ticks\": \"\"}}, \"type\": \"scatterpolargl\"}], \"scatterternary\": [{\"marker\": {\"colorbar\": {\"outlinewidth\": 0, \"ticks\": \"\"}}, \"type\": \"scatterternary\"}], \"surface\": [{\"colorbar\": {\"outlinewidth\": 0, \"ticks\": \"\"}, \"colorscale\": [[0.0, \"#0d0887\"], [0.1111111111111111, \"#46039f\"], [0.2222222222222222, \"#7201a8\"], [0.3333333333333333, \"#9c179e\"], [0.4444444444444444, \"#bd3786\"], [0.5555555555555556, \"#d8576b\"], [0.6666666666666666, \"#ed7953\"], [0.7777777777777778, \"#fb9f3a\"], [0.8888888888888888, \"#fdca26\"], [1.0, \"#f0f921\"]], \"type\": \"surface\"}], \"table\": [{\"cells\": {\"fill\": {\"color\": \"#EBF0F8\"}, \"line\": {\"color\": \"white\"}}, \"header\": {\"fill\": {\"color\": \"#C8D4E3\"}, \"line\": {\"color\": \"white\"}}, \"type\": \"table\"}]}, \"layout\": {\"annotationdefaults\": {\"arrowcolor\": \"#2a3f5f\", \"arrowhead\": 0, \"arrowwidth\": 1}, \"coloraxis\": {\"colorbar\": {\"outlinewidth\": 0, \"ticks\": \"\"}}, \"colorscale\": {\"diverging\": [[0, \"#8e0152\"], [0.1, \"#c51b7d\"], [0.2, \"#de77ae\"], [0.3, \"#f1b6da\"], [0.4, \"#fde0ef\"], [0.5, \"#f7f7f7\"], [0.6, \"#e6f5d0\"], [0.7, \"#b8e186\"], [0.8, \"#7fbc41\"], [0.9, \"#4d9221\"], [1, \"#276419\"]], \"sequential\": [[0.0, \"#0d0887\"], [0.1111111111111111, \"#46039f\"], [0.2222222222222222, \"#7201a8\"], [0.3333333333333333, \"#9c179e\"], [0.4444444444444444, \"#bd3786\"], [0.5555555555555556, \"#d8576b\"], [0.6666666666666666, \"#ed7953\"], [0.7777777777777778, \"#fb9f3a\"], [0.8888888888888888, \"#fdca26\"], [1.0, \"#f0f921\"]], \"sequentialminus\": [[0.0, \"#0d0887\"], [0.1111111111111111, \"#46039f\"], [0.2222222222222222, \"#7201a8\"], [0.3333333333333333, \"#9c179e\"], [0.4444444444444444, \"#bd3786\"], [0.5555555555555556, \"#d8576b\"], [0.6666666666666666, \"#ed7953\"], [0.7777777777777778, \"#fb9f3a\"], [0.8888888888888888, \"#fdca26\"], [1.0, \"#f0f921\"]]}, \"colorway\": [\"#636efa\", \"#EF553B\", \"#00cc96\", \"#ab63fa\", \"#FFA15A\", \"#19d3f3\", \"#FF6692\", \"#B6E880\", \"#FF97FF\", \"#FECB52\"], \"font\": {\"color\": \"#2a3f5f\"}, \"geo\": {\"bgcolor\": \"white\", \"lakecolor\": \"white\", \"landcolor\": \"#E5ECF6\", \"showlakes\": true, \"showland\": true, \"subunitcolor\": \"white\"}, \"hoverlabel\": {\"align\": \"left\"}, \"hovermode\": \"closest\", \"mapbox\": {\"style\": \"light\"}, \"paper_bgcolor\": \"white\", \"plot_bgcolor\": \"#E5ECF6\", \"polar\": {\"angularaxis\": {\"gridcolor\": \"white\", \"linecolor\": \"white\", \"ticks\": \"\"}, \"bgcolor\": \"#E5ECF6\", \"radialaxis\": {\"gridcolor\": \"white\", \"linecolor\": \"white\", \"ticks\": \"\"}}, \"scene\": {\"xaxis\": {\"backgroundcolor\": \"#E5ECF6\", \"gridcolor\": \"white\", \"gridwidth\": 2, \"linecolor\": \"white\", \"showbackground\": true, \"ticks\": \"\", \"zerolinecolor\": \"white\"}, \"yaxis\": {\"backgroundcolor\": \"#E5ECF6\", \"gridcolor\": \"white\", \"gridwidth\": 2, \"linecolor\": \"white\", \"showbackground\": true, \"ticks\": \"\", \"zerolinecolor\": \"white\"}, \"zaxis\": {\"backgroundcolor\": \"#E5ECF6\", \"gridcolor\": \"white\", \"gridwidth\": 2, \"linecolor\": \"white\", \"showbackground\": true, \"ticks\": \"\", \"zerolinecolor\": \"white\"}}, \"shapedefaults\": {\"line\": {\"color\": \"#2a3f5f\"}}, \"ternary\": {\"aaxis\": {\"gridcolor\": \"white\", \"linecolor\": \"white\", \"ticks\": \"\"}, \"baxis\": {\"gridcolor\": \"white\", \"linecolor\": \"white\", \"ticks\": \"\"}, \"bgcolor\": \"#E5ECF6\", \"caxis\": {\"gridcolor\": \"white\", \"linecolor\": \"white\", \"ticks\": \"\"}}, \"title\": {\"x\": 0.05}, \"xaxis\": {\"automargin\": true, \"gridcolor\": \"white\", \"linecolor\": \"white\", \"ticks\": \"\", \"title\": {\"standoff\": 15}, \"zerolinecolor\": \"white\", \"zerolinewidth\": 2}, \"yaxis\": {\"automargin\": true, \"gridcolor\": \"white\", \"linecolor\": \"white\", \"ticks\": \"\", \"title\": {\"standoff\": 15}, \"zerolinecolor\": \"white\", \"zerolinewidth\": 2}}}, \"width\": 600, \"xaxis\": {\"title\": {\"text\": \"epoch\"}}, \"yaxis\": {\"type\": \"log\"}},\n",
       "                        {\"responsive\": true}\n",
       "                    ).then(function(){\n",
       "                            \n",
       "var gd = document.getElementById('9cbb51b6-3254-40fd-a664-b21cf302c28f');\n",
       "var x = new MutationObserver(function (mutations, observer) {{\n",
       "        var display = window.getComputedStyle(gd).display;\n",
       "        if (!display || display === 'none') {{\n",
       "            console.log([gd, 'removed!']);\n",
       "            Plotly.purge(gd);\n",
       "            observer.disconnect();\n",
       "        }}\n",
       "}});\n",
       "\n",
       "// Listen for the removal of the full notebook cells\n",
       "var notebookContainer = gd.closest('#notebook-container');\n",
       "if (notebookContainer) {{\n",
       "    x.observe(notebookContainer, {childList: true});\n",
       "}}\n",
       "\n",
       "// Listen for the clearing of the current output cell\n",
       "var outputEl = gd.closest('.output');\n",
       "if (outputEl) {{\n",
       "    x.observe(outputEl, {childList: true});\n",
       "}}\n",
       "\n",
       "                        })\n",
       "                };\n",
       "                });\n",
       "            </script>\n",
       "        </div>"
      ]
     },
     "metadata": {},
     "output_type": "display_data"
    }
   ],
   "source": [
    "dnn_val = keras.models.Sequential()\n",
    "dnn_val.add(keras.layers.InputLayer(input_shape=1))\n",
    "dnn_val.add(keras.layers.Dense(8, activation='tanh',\n",
    "            kernel_initializer=tf.random_uniform_initializer(minval=-1.5, maxval=1.5)\n",
    "            ))\n",
    "dnn_val.add(keras.layers.Dense(1, activation=\"linear\",\n",
    "            kernel_initializer=tf.random_uniform_initializer(minval=-1.5, maxval=1.5)\n",
    "            ))\n",
    "\n",
    "n_epochs = 1000\n",
    "metric_lr = np.zeros((n_epochs,))\n",
    "initial_learning_rate = 0.1\n",
    "final_learning_rate = 0.1\n",
    "dnn_val.compile(loss='mse', optimizer=optimr, metrics=['mse','mae'])\n",
    "\n",
    "history = dnn_val.fit(x_t, y_t,           \n",
    "                  validation_data=(x_v,y_v),         \n",
    "                  epochs=n_epochs,\n",
    "                  batch_size=int(x_t.size),\n",
    "                  callbacks = [lr_callback,print_dots()], \n",
    "                  verbose = 0)\n",
    "\n",
    "fig = go.Figure()\n",
    "fig.add_trace(go.Scatter(x=x_t, y=y_t, mode='markers', name='training'))\n",
    "x_p = np.linspace(-1,1,32)\n",
    "fig.add_trace(go.Scatter(x=x_p, mode='lines',                        \n",
    "                         y=np.array(dnn_val.predict(x_p)).reshape((x_p.size,)),\n",
    "                         name='prediction'))\n",
    "fig.update_layout(height=400, width=600)\n",
    "fig.show()\n",
    "\n",
    "fig = go.Figure()\n",
    "plot_history(fig, history)\n",
    "fig.show()"
   ]
  },
  {
   "cell_type": "code",
   "execution_count": 9,
   "metadata": {
    "colab": {
     "base_uri": "https://localhost:8080/",
     "height": 417
    },
    "colab_type": "code",
    "id": "2P3OTTQuJjh-",
    "outputId": "b2389841-48ad-4df0-f330-82c64715f658"
   },
   "outputs": [
    {
     "data": {
      "application/vnd.plotly.v1+json": {
       "config": {
        "plotlyServerURL": "https://plot.ly"
       },
       "data": [
        {
         "type": "scatter",
         "x": [
          -3,
          -2.9047619047619047,
          -2.8095238095238093,
          -2.7142857142857144,
          -2.619047619047619,
          -2.5238095238095237,
          -2.428571428571429,
          -2.3333333333333335,
          -2.238095238095238,
          -2.142857142857143,
          -2.0476190476190474,
          -1.9523809523809526,
          -1.8571428571428572,
          -1.7619047619047619,
          -1.6666666666666667,
          -1.5714285714285716,
          -1.4761904761904763,
          -1.380952380952381,
          -1.2857142857142858,
          -1.1904761904761907,
          -1.0952380952380953,
          -1,
          -0.9047619047619051,
          -0.8095238095238098,
          -0.7142857142857144,
          -0.6190476190476191,
          -0.5238095238095237,
          -0.4285714285714288,
          -0.3333333333333335,
          -0.23809523809523814,
          -0.14285714285714324,
          -0.047619047619047894,
          0.04761904761904745,
          0.1428571428571428,
          0.23809523809523814,
          0.33333333333333304,
          0.4285714285714284,
          0.5238095238095237,
          0.6190476190476186,
          0.714285714285714,
          0.8095238095238093,
          0.9047619047619047,
          1,
          1.095238095238095,
          1.1904761904761898,
          1.2857142857142856,
          1.3809523809523805,
          1.4761904761904763,
          1.5714285714285712,
          1.666666666666666,
          1.7619047619047619,
          1.8571428571428568,
          1.9523809523809526,
          2.0476190476190474,
          2.1428571428571423,
          2.238095238095238,
          2.333333333333333,
          2.428571428571428,
          2.5238095238095237,
          2.6190476190476186,
          2.7142857142857135,
          2.8095238095238093,
          2.904761904761904,
          3
         ],
         "y": [
          -0.9950547536867305,
          -0.9940202169988993,
          -0.9927700413902472,
          -0.9912596409131113,
          -0.9894353776027437,
          -0.987232800412068,
          -0.9845745769741759,
          -0.9813680813098666,
          -0.9775026046431903,
          -0.9728461661125113,
          -0.9672419182051477,
          -0.9605041720417713,
          -0.9524141152036708,
          -0.9427153658555383,
          -0.9311096086675776,
          -0.9172526978798493,
          -0.90075179666671,
          -0.881164350980331,
          -0.8579999616984019,
          -0.830726495254754,
          -0.7987820071928856,
          -0.7615941559557649,
          -0.7186086249826393,
          -0.6693274859077085,
          -0.6133572603953826,
          -0.5504645777458922,
          -0.48063485786664617,
          -0.4041267397578594,
          -0.32151273753163445,
          -0.23369581718506166,
          -0.1418931937669329,
          -0.04758308700276262,
          0.047583087002762176,
          0.1418931937669325,
          0.23369581718506166,
          0.32151273753163406,
          0.404126739757859,
          0.48063485786664617,
          0.5504645777458919,
          0.6133572603953824,
          0.6693274859077083,
          0.7186086249826391,
          0.7615941559557649,
          0.7987820071928854,
          0.8307264952547537,
          0.8579999616984018,
          0.8811643509803309,
          0.90075179666671,
          0.9172526978798492,
          0.9311096086675775,
          0.9427153658555383,
          0.9524141152036707,
          0.9605041720417713,
          0.9672419182051477,
          0.9728461661125113,
          0.9775026046431903,
          0.9813680813098666,
          0.9845745769741759,
          0.987232800412068,
          0.9894353776027437,
          0.9912596409131113,
          0.9927700413902472,
          0.9940202169988993,
          0.9950547536867305
         ]
        }
       ],
       "layout": {
        "height": 400,
        "template": {
         "data": {
          "bar": [
           {
            "error_x": {
             "color": "#2a3f5f"
            },
            "error_y": {
             "color": "#2a3f5f"
            },
            "marker": {
             "line": {
              "color": "#E5ECF6",
              "width": 0.5
             }
            },
            "type": "bar"
           }
          ],
          "barpolar": [
           {
            "marker": {
             "line": {
              "color": "#E5ECF6",
              "width": 0.5
             }
            },
            "type": "barpolar"
           }
          ],
          "carpet": [
           {
            "aaxis": {
             "endlinecolor": "#2a3f5f",
             "gridcolor": "white",
             "linecolor": "white",
             "minorgridcolor": "white",
             "startlinecolor": "#2a3f5f"
            },
            "baxis": {
             "endlinecolor": "#2a3f5f",
             "gridcolor": "white",
             "linecolor": "white",
             "minorgridcolor": "white",
             "startlinecolor": "#2a3f5f"
            },
            "type": "carpet"
           }
          ],
          "choropleth": [
           {
            "colorbar": {
             "outlinewidth": 0,
             "ticks": ""
            },
            "type": "choropleth"
           }
          ],
          "contour": [
           {
            "colorbar": {
             "outlinewidth": 0,
             "ticks": ""
            },
            "colorscale": [
             [
              0,
              "#0d0887"
             ],
             [
              0.1111111111111111,
              "#46039f"
             ],
             [
              0.2222222222222222,
              "#7201a8"
             ],
             [
              0.3333333333333333,
              "#9c179e"
             ],
             [
              0.4444444444444444,
              "#bd3786"
             ],
             [
              0.5555555555555556,
              "#d8576b"
             ],
             [
              0.6666666666666666,
              "#ed7953"
             ],
             [
              0.7777777777777778,
              "#fb9f3a"
             ],
             [
              0.8888888888888888,
              "#fdca26"
             ],
             [
              1,
              "#f0f921"
             ]
            ],
            "type": "contour"
           }
          ],
          "contourcarpet": [
           {
            "colorbar": {
             "outlinewidth": 0,
             "ticks": ""
            },
            "type": "contourcarpet"
           }
          ],
          "heatmap": [
           {
            "colorbar": {
             "outlinewidth": 0,
             "ticks": ""
            },
            "colorscale": [
             [
              0,
              "#0d0887"
             ],
             [
              0.1111111111111111,
              "#46039f"
             ],
             [
              0.2222222222222222,
              "#7201a8"
             ],
             [
              0.3333333333333333,
              "#9c179e"
             ],
             [
              0.4444444444444444,
              "#bd3786"
             ],
             [
              0.5555555555555556,
              "#d8576b"
             ],
             [
              0.6666666666666666,
              "#ed7953"
             ],
             [
              0.7777777777777778,
              "#fb9f3a"
             ],
             [
              0.8888888888888888,
              "#fdca26"
             ],
             [
              1,
              "#f0f921"
             ]
            ],
            "type": "heatmap"
           }
          ],
          "heatmapgl": [
           {
            "colorbar": {
             "outlinewidth": 0,
             "ticks": ""
            },
            "colorscale": [
             [
              0,
              "#0d0887"
             ],
             [
              0.1111111111111111,
              "#46039f"
             ],
             [
              0.2222222222222222,
              "#7201a8"
             ],
             [
              0.3333333333333333,
              "#9c179e"
             ],
             [
              0.4444444444444444,
              "#bd3786"
             ],
             [
              0.5555555555555556,
              "#d8576b"
             ],
             [
              0.6666666666666666,
              "#ed7953"
             ],
             [
              0.7777777777777778,
              "#fb9f3a"
             ],
             [
              0.8888888888888888,
              "#fdca26"
             ],
             [
              1,
              "#f0f921"
             ]
            ],
            "type": "heatmapgl"
           }
          ],
          "histogram": [
           {
            "marker": {
             "colorbar": {
              "outlinewidth": 0,
              "ticks": ""
             }
            },
            "type": "histogram"
           }
          ],
          "histogram2d": [
           {
            "colorbar": {
             "outlinewidth": 0,
             "ticks": ""
            },
            "colorscale": [
             [
              0,
              "#0d0887"
             ],
             [
              0.1111111111111111,
              "#46039f"
             ],
             [
              0.2222222222222222,
              "#7201a8"
             ],
             [
              0.3333333333333333,
              "#9c179e"
             ],
             [
              0.4444444444444444,
              "#bd3786"
             ],
             [
              0.5555555555555556,
              "#d8576b"
             ],
             [
              0.6666666666666666,
              "#ed7953"
             ],
             [
              0.7777777777777778,
              "#fb9f3a"
             ],
             [
              0.8888888888888888,
              "#fdca26"
             ],
             [
              1,
              "#f0f921"
             ]
            ],
            "type": "histogram2d"
           }
          ],
          "histogram2dcontour": [
           {
            "colorbar": {
             "outlinewidth": 0,
             "ticks": ""
            },
            "colorscale": [
             [
              0,
              "#0d0887"
             ],
             [
              0.1111111111111111,
              "#46039f"
             ],
             [
              0.2222222222222222,
              "#7201a8"
             ],
             [
              0.3333333333333333,
              "#9c179e"
             ],
             [
              0.4444444444444444,
              "#bd3786"
             ],
             [
              0.5555555555555556,
              "#d8576b"
             ],
             [
              0.6666666666666666,
              "#ed7953"
             ],
             [
              0.7777777777777778,
              "#fb9f3a"
             ],
             [
              0.8888888888888888,
              "#fdca26"
             ],
             [
              1,
              "#f0f921"
             ]
            ],
            "type": "histogram2dcontour"
           }
          ],
          "mesh3d": [
           {
            "colorbar": {
             "outlinewidth": 0,
             "ticks": ""
            },
            "type": "mesh3d"
           }
          ],
          "parcoords": [
           {
            "line": {
             "colorbar": {
              "outlinewidth": 0,
              "ticks": ""
             }
            },
            "type": "parcoords"
           }
          ],
          "pie": [
           {
            "automargin": true,
            "type": "pie"
           }
          ],
          "scatter": [
           {
            "marker": {
             "colorbar": {
              "outlinewidth": 0,
              "ticks": ""
             }
            },
            "type": "scatter"
           }
          ],
          "scatter3d": [
           {
            "line": {
             "colorbar": {
              "outlinewidth": 0,
              "ticks": ""
             }
            },
            "marker": {
             "colorbar": {
              "outlinewidth": 0,
              "ticks": ""
             }
            },
            "type": "scatter3d"
           }
          ],
          "scattercarpet": [
           {
            "marker": {
             "colorbar": {
              "outlinewidth": 0,
              "ticks": ""
             }
            },
            "type": "scattercarpet"
           }
          ],
          "scattergeo": [
           {
            "marker": {
             "colorbar": {
              "outlinewidth": 0,
              "ticks": ""
             }
            },
            "type": "scattergeo"
           }
          ],
          "scattergl": [
           {
            "marker": {
             "colorbar": {
              "outlinewidth": 0,
              "ticks": ""
             }
            },
            "type": "scattergl"
           }
          ],
          "scattermapbox": [
           {
            "marker": {
             "colorbar": {
              "outlinewidth": 0,
              "ticks": ""
             }
            },
            "type": "scattermapbox"
           }
          ],
          "scatterpolar": [
           {
            "marker": {
             "colorbar": {
              "outlinewidth": 0,
              "ticks": ""
             }
            },
            "type": "scatterpolar"
           }
          ],
          "scatterpolargl": [
           {
            "marker": {
             "colorbar": {
              "outlinewidth": 0,
              "ticks": ""
             }
            },
            "type": "scatterpolargl"
           }
          ],
          "scatterternary": [
           {
            "marker": {
             "colorbar": {
              "outlinewidth": 0,
              "ticks": ""
             }
            },
            "type": "scatterternary"
           }
          ],
          "surface": [
           {
            "colorbar": {
             "outlinewidth": 0,
             "ticks": ""
            },
            "colorscale": [
             [
              0,
              "#0d0887"
             ],
             [
              0.1111111111111111,
              "#46039f"
             ],
             [
              0.2222222222222222,
              "#7201a8"
             ],
             [
              0.3333333333333333,
              "#9c179e"
             ],
             [
              0.4444444444444444,
              "#bd3786"
             ],
             [
              0.5555555555555556,
              "#d8576b"
             ],
             [
              0.6666666666666666,
              "#ed7953"
             ],
             [
              0.7777777777777778,
              "#fb9f3a"
             ],
             [
              0.8888888888888888,
              "#fdca26"
             ],
             [
              1,
              "#f0f921"
             ]
            ],
            "type": "surface"
           }
          ],
          "table": [
           {
            "cells": {
             "fill": {
              "color": "#EBF0F8"
             },
             "line": {
              "color": "white"
             }
            },
            "header": {
             "fill": {
              "color": "#C8D4E3"
             },
             "line": {
              "color": "white"
             }
            },
            "type": "table"
           }
          ]
         },
         "layout": {
          "annotationdefaults": {
           "arrowcolor": "#2a3f5f",
           "arrowhead": 0,
           "arrowwidth": 1
          },
          "coloraxis": {
           "colorbar": {
            "outlinewidth": 0,
            "ticks": ""
           }
          },
          "colorscale": {
           "diverging": [
            [
             0,
             "#8e0152"
            ],
            [
             0.1,
             "#c51b7d"
            ],
            [
             0.2,
             "#de77ae"
            ],
            [
             0.3,
             "#f1b6da"
            ],
            [
             0.4,
             "#fde0ef"
            ],
            [
             0.5,
             "#f7f7f7"
            ],
            [
             0.6,
             "#e6f5d0"
            ],
            [
             0.7,
             "#b8e186"
            ],
            [
             0.8,
             "#7fbc41"
            ],
            [
             0.9,
             "#4d9221"
            ],
            [
             1,
             "#276419"
            ]
           ],
           "sequential": [
            [
             0,
             "#0d0887"
            ],
            [
             0.1111111111111111,
             "#46039f"
            ],
            [
             0.2222222222222222,
             "#7201a8"
            ],
            [
             0.3333333333333333,
             "#9c179e"
            ],
            [
             0.4444444444444444,
             "#bd3786"
            ],
            [
             0.5555555555555556,
             "#d8576b"
            ],
            [
             0.6666666666666666,
             "#ed7953"
            ],
            [
             0.7777777777777778,
             "#fb9f3a"
            ],
            [
             0.8888888888888888,
             "#fdca26"
            ],
            [
             1,
             "#f0f921"
            ]
           ],
           "sequentialminus": [
            [
             0,
             "#0d0887"
            ],
            [
             0.1111111111111111,
             "#46039f"
            ],
            [
             0.2222222222222222,
             "#7201a8"
            ],
            [
             0.3333333333333333,
             "#9c179e"
            ],
            [
             0.4444444444444444,
             "#bd3786"
            ],
            [
             0.5555555555555556,
             "#d8576b"
            ],
            [
             0.6666666666666666,
             "#ed7953"
            ],
            [
             0.7777777777777778,
             "#fb9f3a"
            ],
            [
             0.8888888888888888,
             "#fdca26"
            ],
            [
             1,
             "#f0f921"
            ]
           ]
          },
          "colorway": [
           "#636efa",
           "#EF553B",
           "#00cc96",
           "#ab63fa",
           "#FFA15A",
           "#19d3f3",
           "#FF6692",
           "#B6E880",
           "#FF97FF",
           "#FECB52"
          ],
          "font": {
           "color": "#2a3f5f"
          },
          "geo": {
           "bgcolor": "white",
           "lakecolor": "white",
           "landcolor": "#E5ECF6",
           "showlakes": true,
           "showland": true,
           "subunitcolor": "white"
          },
          "hoverlabel": {
           "align": "left"
          },
          "hovermode": "closest",
          "mapbox": {
           "style": "light"
          },
          "paper_bgcolor": "white",
          "plot_bgcolor": "#E5ECF6",
          "polar": {
           "angularaxis": {
            "gridcolor": "white",
            "linecolor": "white",
            "ticks": ""
           },
           "bgcolor": "#E5ECF6",
           "radialaxis": {
            "gridcolor": "white",
            "linecolor": "white",
            "ticks": ""
           }
          },
          "scene": {
           "xaxis": {
            "backgroundcolor": "#E5ECF6",
            "gridcolor": "white",
            "gridwidth": 2,
            "linecolor": "white",
            "showbackground": true,
            "ticks": "",
            "zerolinecolor": "white"
           },
           "yaxis": {
            "backgroundcolor": "#E5ECF6",
            "gridcolor": "white",
            "gridwidth": 2,
            "linecolor": "white",
            "showbackground": true,
            "ticks": "",
            "zerolinecolor": "white"
           },
           "zaxis": {
            "backgroundcolor": "#E5ECF6",
            "gridcolor": "white",
            "gridwidth": 2,
            "linecolor": "white",
            "showbackground": true,
            "ticks": "",
            "zerolinecolor": "white"
           }
          },
          "shapedefaults": {
           "line": {
            "color": "#2a3f5f"
           }
          },
          "ternary": {
           "aaxis": {
            "gridcolor": "white",
            "linecolor": "white",
            "ticks": ""
           },
           "baxis": {
            "gridcolor": "white",
            "linecolor": "white",
            "ticks": ""
           },
           "bgcolor": "#E5ECF6",
           "caxis": {
            "gridcolor": "white",
            "linecolor": "white",
            "ticks": ""
           }
          },
          "title": {
           "x": 0.05
          },
          "xaxis": {
           "automargin": true,
           "gridcolor": "white",
           "linecolor": "white",
           "ticks": "",
           "title": {
            "standoff": 15
           },
           "zerolinecolor": "white",
           "zerolinewidth": 2
          },
          "yaxis": {
           "automargin": true,
           "gridcolor": "white",
           "linecolor": "white",
           "ticks": "",
           "title": {
            "standoff": 15
           },
           "zerolinecolor": "white",
           "zerolinewidth": 2
          }
         }
        },
        "width": 600,
        "xaxis": {
         "title": {
          "text": "x"
         }
        },
        "yaxis": {
         "title": {
          "text": "tanh"
         }
        }
       }
      },
      "text/html": [
       "<div>\n",
       "        \n",
       "        \n",
       "            <div id=\"25321b29-b65c-4e7b-9160-54d1a2828ef7\" class=\"plotly-graph-div\" style=\"height:400px; width:600px;\"></div>\n",
       "            <script type=\"text/javascript\">\n",
       "                require([\"plotly\"], function(Plotly) {\n",
       "                    window.PLOTLYENV=window.PLOTLYENV || {};\n",
       "                    \n",
       "                if (document.getElementById(\"25321b29-b65c-4e7b-9160-54d1a2828ef7\")) {\n",
       "                    Plotly.newPlot(\n",
       "                        '25321b29-b65c-4e7b-9160-54d1a2828ef7',\n",
       "                        [{\"type\": \"scatter\", \"x\": [-3.0, -2.9047619047619047, -2.8095238095238093, -2.7142857142857144, -2.619047619047619, -2.5238095238095237, -2.428571428571429, -2.3333333333333335, -2.238095238095238, -2.142857142857143, -2.0476190476190474, -1.9523809523809526, -1.8571428571428572, -1.7619047619047619, -1.6666666666666667, -1.5714285714285716, -1.4761904761904763, -1.380952380952381, -1.2857142857142858, -1.1904761904761907, -1.0952380952380953, -1.0, -0.9047619047619051, -0.8095238095238098, -0.7142857142857144, -0.6190476190476191, -0.5238095238095237, -0.4285714285714288, -0.3333333333333335, -0.23809523809523814, -0.14285714285714324, -0.047619047619047894, 0.04761904761904745, 0.1428571428571428, 0.23809523809523814, 0.33333333333333304, 0.4285714285714284, 0.5238095238095237, 0.6190476190476186, 0.714285714285714, 0.8095238095238093, 0.9047619047619047, 1.0, 1.095238095238095, 1.1904761904761898, 1.2857142857142856, 1.3809523809523805, 1.4761904761904763, 1.5714285714285712, 1.666666666666666, 1.7619047619047619, 1.8571428571428568, 1.9523809523809526, 2.0476190476190474, 2.1428571428571423, 2.238095238095238, 2.333333333333333, 2.428571428571428, 2.5238095238095237, 2.6190476190476186, 2.7142857142857135, 2.8095238095238093, 2.904761904761904, 3.0], \"y\": [-0.9950547536867305, -0.9940202169988993, -0.9927700413902472, -0.9912596409131113, -0.9894353776027437, -0.987232800412068, -0.9845745769741759, -0.9813680813098666, -0.9775026046431903, -0.9728461661125113, -0.9672419182051477, -0.9605041720417713, -0.9524141152036708, -0.9427153658555383, -0.9311096086675776, -0.9172526978798493, -0.90075179666671, -0.881164350980331, -0.8579999616984019, -0.830726495254754, -0.7987820071928856, -0.7615941559557649, -0.7186086249826393, -0.6693274859077085, -0.6133572603953826, -0.5504645777458922, -0.48063485786664617, -0.4041267397578594, -0.32151273753163445, -0.23369581718506166, -0.1418931937669329, -0.04758308700276262, 0.047583087002762176, 0.1418931937669325, 0.23369581718506166, 0.32151273753163406, 0.404126739757859, 0.48063485786664617, 0.5504645777458919, 0.6133572603953824, 0.6693274859077083, 0.7186086249826391, 0.7615941559557649, 0.7987820071928854, 0.8307264952547537, 0.8579999616984018, 0.8811643509803309, 0.90075179666671, 0.9172526978798492, 0.9311096086675775, 0.9427153658555383, 0.9524141152036707, 0.9605041720417713, 0.9672419182051477, 0.9728461661125113, 0.9775026046431903, 0.9813680813098666, 0.9845745769741759, 0.987232800412068, 0.9894353776027437, 0.9912596409131113, 0.9927700413902472, 0.9940202169988993, 0.9950547536867305]}],\n",
       "                        {\"height\": 400, \"template\": {\"data\": {\"bar\": [{\"error_x\": {\"color\": \"#2a3f5f\"}, \"error_y\": {\"color\": \"#2a3f5f\"}, \"marker\": {\"line\": {\"color\": \"#E5ECF6\", \"width\": 0.5}}, \"type\": \"bar\"}], \"barpolar\": [{\"marker\": {\"line\": {\"color\": \"#E5ECF6\", \"width\": 0.5}}, \"type\": \"barpolar\"}], \"carpet\": [{\"aaxis\": {\"endlinecolor\": \"#2a3f5f\", \"gridcolor\": \"white\", \"linecolor\": \"white\", \"minorgridcolor\": \"white\", \"startlinecolor\": \"#2a3f5f\"}, \"baxis\": {\"endlinecolor\": \"#2a3f5f\", \"gridcolor\": \"white\", \"linecolor\": \"white\", \"minorgridcolor\": \"white\", \"startlinecolor\": \"#2a3f5f\"}, \"type\": \"carpet\"}], \"choropleth\": [{\"colorbar\": {\"outlinewidth\": 0, \"ticks\": \"\"}, \"type\": \"choropleth\"}], \"contour\": [{\"colorbar\": {\"outlinewidth\": 0, \"ticks\": \"\"}, \"colorscale\": [[0.0, \"#0d0887\"], [0.1111111111111111, \"#46039f\"], [0.2222222222222222, \"#7201a8\"], [0.3333333333333333, \"#9c179e\"], [0.4444444444444444, \"#bd3786\"], [0.5555555555555556, \"#d8576b\"], [0.6666666666666666, \"#ed7953\"], [0.7777777777777778, \"#fb9f3a\"], [0.8888888888888888, \"#fdca26\"], [1.0, \"#f0f921\"]], \"type\": \"contour\"}], \"contourcarpet\": [{\"colorbar\": {\"outlinewidth\": 0, \"ticks\": \"\"}, \"type\": \"contourcarpet\"}], \"heatmap\": [{\"colorbar\": {\"outlinewidth\": 0, \"ticks\": \"\"}, \"colorscale\": [[0.0, \"#0d0887\"], [0.1111111111111111, \"#46039f\"], [0.2222222222222222, \"#7201a8\"], [0.3333333333333333, \"#9c179e\"], [0.4444444444444444, \"#bd3786\"], [0.5555555555555556, \"#d8576b\"], [0.6666666666666666, \"#ed7953\"], [0.7777777777777778, \"#fb9f3a\"], [0.8888888888888888, \"#fdca26\"], [1.0, \"#f0f921\"]], \"type\": \"heatmap\"}], \"heatmapgl\": [{\"colorbar\": {\"outlinewidth\": 0, \"ticks\": \"\"}, \"colorscale\": [[0.0, \"#0d0887\"], [0.1111111111111111, \"#46039f\"], [0.2222222222222222, \"#7201a8\"], [0.3333333333333333, \"#9c179e\"], [0.4444444444444444, \"#bd3786\"], [0.5555555555555556, \"#d8576b\"], [0.6666666666666666, \"#ed7953\"], [0.7777777777777778, \"#fb9f3a\"], [0.8888888888888888, \"#fdca26\"], [1.0, \"#f0f921\"]], \"type\": \"heatmapgl\"}], \"histogram\": [{\"marker\": {\"colorbar\": {\"outlinewidth\": 0, \"ticks\": \"\"}}, \"type\": \"histogram\"}], \"histogram2d\": [{\"colorbar\": {\"outlinewidth\": 0, \"ticks\": \"\"}, \"colorscale\": [[0.0, \"#0d0887\"], [0.1111111111111111, \"#46039f\"], [0.2222222222222222, \"#7201a8\"], [0.3333333333333333, \"#9c179e\"], [0.4444444444444444, \"#bd3786\"], [0.5555555555555556, \"#d8576b\"], [0.6666666666666666, \"#ed7953\"], [0.7777777777777778, \"#fb9f3a\"], [0.8888888888888888, \"#fdca26\"], [1.0, \"#f0f921\"]], \"type\": \"histogram2d\"}], \"histogram2dcontour\": [{\"colorbar\": {\"outlinewidth\": 0, \"ticks\": \"\"}, \"colorscale\": [[0.0, \"#0d0887\"], [0.1111111111111111, \"#46039f\"], [0.2222222222222222, \"#7201a8\"], [0.3333333333333333, \"#9c179e\"], [0.4444444444444444, \"#bd3786\"], [0.5555555555555556, \"#d8576b\"], [0.6666666666666666, \"#ed7953\"], [0.7777777777777778, \"#fb9f3a\"], [0.8888888888888888, \"#fdca26\"], [1.0, \"#f0f921\"]], \"type\": \"histogram2dcontour\"}], \"mesh3d\": [{\"colorbar\": {\"outlinewidth\": 0, \"ticks\": \"\"}, \"type\": \"mesh3d\"}], \"parcoords\": [{\"line\": {\"colorbar\": {\"outlinewidth\": 0, \"ticks\": \"\"}}, \"type\": \"parcoords\"}], \"pie\": [{\"automargin\": true, \"type\": \"pie\"}], \"scatter\": [{\"marker\": {\"colorbar\": {\"outlinewidth\": 0, \"ticks\": \"\"}}, \"type\": \"scatter\"}], \"scatter3d\": [{\"line\": {\"colorbar\": {\"outlinewidth\": 0, \"ticks\": \"\"}}, \"marker\": {\"colorbar\": {\"outlinewidth\": 0, \"ticks\": \"\"}}, \"type\": \"scatter3d\"}], \"scattercarpet\": [{\"marker\": {\"colorbar\": {\"outlinewidth\": 0, \"ticks\": \"\"}}, \"type\": \"scattercarpet\"}], \"scattergeo\": [{\"marker\": {\"colorbar\": {\"outlinewidth\": 0, \"ticks\": \"\"}}, \"type\": \"scattergeo\"}], \"scattergl\": [{\"marker\": {\"colorbar\": {\"outlinewidth\": 0, \"ticks\": \"\"}}, \"type\": \"scattergl\"}], \"scattermapbox\": [{\"marker\": {\"colorbar\": {\"outlinewidth\": 0, \"ticks\": \"\"}}, \"type\": \"scattermapbox\"}], \"scatterpolar\": [{\"marker\": {\"colorbar\": {\"outlinewidth\": 0, \"ticks\": \"\"}}, \"type\": \"scatterpolar\"}], \"scatterpolargl\": [{\"marker\": {\"colorbar\": {\"outlinewidth\": 0, \"ticks\": \"\"}}, \"type\": \"scatterpolargl\"}], \"scatterternary\": [{\"marker\": {\"colorbar\": {\"outlinewidth\": 0, \"ticks\": \"\"}}, \"type\": \"scatterternary\"}], \"surface\": [{\"colorbar\": {\"outlinewidth\": 0, \"ticks\": \"\"}, \"colorscale\": [[0.0, \"#0d0887\"], [0.1111111111111111, \"#46039f\"], [0.2222222222222222, \"#7201a8\"], [0.3333333333333333, \"#9c179e\"], [0.4444444444444444, \"#bd3786\"], [0.5555555555555556, \"#d8576b\"], [0.6666666666666666, \"#ed7953\"], [0.7777777777777778, \"#fb9f3a\"], [0.8888888888888888, \"#fdca26\"], [1.0, \"#f0f921\"]], \"type\": \"surface\"}], \"table\": [{\"cells\": {\"fill\": {\"color\": \"#EBF0F8\"}, \"line\": {\"color\": \"white\"}}, \"header\": {\"fill\": {\"color\": \"#C8D4E3\"}, \"line\": {\"color\": \"white\"}}, \"type\": \"table\"}]}, \"layout\": {\"annotationdefaults\": {\"arrowcolor\": \"#2a3f5f\", \"arrowhead\": 0, \"arrowwidth\": 1}, \"coloraxis\": {\"colorbar\": {\"outlinewidth\": 0, \"ticks\": \"\"}}, \"colorscale\": {\"diverging\": [[0, \"#8e0152\"], [0.1, \"#c51b7d\"], [0.2, \"#de77ae\"], [0.3, \"#f1b6da\"], [0.4, \"#fde0ef\"], [0.5, \"#f7f7f7\"], [0.6, \"#e6f5d0\"], [0.7, \"#b8e186\"], [0.8, \"#7fbc41\"], [0.9, \"#4d9221\"], [1, \"#276419\"]], \"sequential\": [[0.0, \"#0d0887\"], [0.1111111111111111, \"#46039f\"], [0.2222222222222222, \"#7201a8\"], [0.3333333333333333, \"#9c179e\"], [0.4444444444444444, \"#bd3786\"], [0.5555555555555556, \"#d8576b\"], [0.6666666666666666, \"#ed7953\"], [0.7777777777777778, \"#fb9f3a\"], [0.8888888888888888, \"#fdca26\"], [1.0, \"#f0f921\"]], \"sequentialminus\": [[0.0, \"#0d0887\"], [0.1111111111111111, \"#46039f\"], [0.2222222222222222, \"#7201a8\"], [0.3333333333333333, \"#9c179e\"], [0.4444444444444444, \"#bd3786\"], [0.5555555555555556, \"#d8576b\"], [0.6666666666666666, \"#ed7953\"], [0.7777777777777778, \"#fb9f3a\"], [0.8888888888888888, \"#fdca26\"], [1.0, \"#f0f921\"]]}, \"colorway\": [\"#636efa\", \"#EF553B\", \"#00cc96\", \"#ab63fa\", \"#FFA15A\", \"#19d3f3\", \"#FF6692\", \"#B6E880\", \"#FF97FF\", \"#FECB52\"], \"font\": {\"color\": \"#2a3f5f\"}, \"geo\": {\"bgcolor\": \"white\", \"lakecolor\": \"white\", \"landcolor\": \"#E5ECF6\", \"showlakes\": true, \"showland\": true, \"subunitcolor\": \"white\"}, \"hoverlabel\": {\"align\": \"left\"}, \"hovermode\": \"closest\", \"mapbox\": {\"style\": \"light\"}, \"paper_bgcolor\": \"white\", \"plot_bgcolor\": \"#E5ECF6\", \"polar\": {\"angularaxis\": {\"gridcolor\": \"white\", \"linecolor\": \"white\", \"ticks\": \"\"}, \"bgcolor\": \"#E5ECF6\", \"radialaxis\": {\"gridcolor\": \"white\", \"linecolor\": \"white\", \"ticks\": \"\"}}, \"scene\": {\"xaxis\": {\"backgroundcolor\": \"#E5ECF6\", \"gridcolor\": \"white\", \"gridwidth\": 2, \"linecolor\": \"white\", \"showbackground\": true, \"ticks\": \"\", \"zerolinecolor\": \"white\"}, \"yaxis\": {\"backgroundcolor\": \"#E5ECF6\", \"gridcolor\": \"white\", \"gridwidth\": 2, \"linecolor\": \"white\", \"showbackground\": true, \"ticks\": \"\", \"zerolinecolor\": \"white\"}, \"zaxis\": {\"backgroundcolor\": \"#E5ECF6\", \"gridcolor\": \"white\", \"gridwidth\": 2, \"linecolor\": \"white\", \"showbackground\": true, \"ticks\": \"\", \"zerolinecolor\": \"white\"}}, \"shapedefaults\": {\"line\": {\"color\": \"#2a3f5f\"}}, \"ternary\": {\"aaxis\": {\"gridcolor\": \"white\", \"linecolor\": \"white\", \"ticks\": \"\"}, \"baxis\": {\"gridcolor\": \"white\", \"linecolor\": \"white\", \"ticks\": \"\"}, \"bgcolor\": \"#E5ECF6\", \"caxis\": {\"gridcolor\": \"white\", \"linecolor\": \"white\", \"ticks\": \"\"}}, \"title\": {\"x\": 0.05}, \"xaxis\": {\"automargin\": true, \"gridcolor\": \"white\", \"linecolor\": \"white\", \"ticks\": \"\", \"title\": {\"standoff\": 15}, \"zerolinecolor\": \"white\", \"zerolinewidth\": 2}, \"yaxis\": {\"automargin\": true, \"gridcolor\": \"white\", \"linecolor\": \"white\", \"ticks\": \"\", \"title\": {\"standoff\": 15}, \"zerolinecolor\": \"white\", \"zerolinewidth\": 2}}}, \"width\": 600, \"xaxis\": {\"title\": {\"text\": \"x\"}}, \"yaxis\": {\"title\": {\"text\": \"tanh\"}}},\n",
       "                        {\"responsive\": true}\n",
       "                    ).then(function(){\n",
       "                            \n",
       "var gd = document.getElementById('25321b29-b65c-4e7b-9160-54d1a2828ef7');\n",
       "var x = new MutationObserver(function (mutations, observer) {{\n",
       "        var display = window.getComputedStyle(gd).display;\n",
       "        if (!display || display === 'none') {{\n",
       "            console.log([gd, 'removed!']);\n",
       "            Plotly.purge(gd);\n",
       "            observer.disconnect();\n",
       "        }}\n",
       "}});\n",
       "\n",
       "// Listen for the removal of the full notebook cells\n",
       "var notebookContainer = gd.closest('#notebook-container');\n",
       "if (notebookContainer) {{\n",
       "    x.observe(notebookContainer, {childList: true});\n",
       "}}\n",
       "\n",
       "// Listen for the clearing of the current output cell\n",
       "var outputEl = gd.closest('.output');\n",
       "if (outputEl) {{\n",
       "    x.observe(outputEl, {childList: true});\n",
       "}}\n",
       "\n",
       "                        })\n",
       "                };\n",
       "                });\n",
       "            </script>\n",
       "        </div>"
      ]
     },
     "metadata": {},
     "output_type": "display_data"
    }
   ],
   "source": [
    "x = np.linspace(-3,3,64)\n",
    "fig = go.Figure()\n",
    "fig.add_trace(go.Scatter(x=x, y=np.tanh(x)))\n",
    "fig.update_layout(height=400, width=600, xaxis_title='x',yaxis_title='tanh')\n",
    "fig.show()"
   ]
  },
  {
   "cell_type": "code",
   "execution_count": 10,
   "metadata": {
    "colab": {
     "base_uri": "https://localhost:8080/",
     "height": 869
    },
    "colab_type": "code",
    "id": "gAnmZ9_tLnMz",
    "outputId": "47a31c46-6902-48bd-8933-2ada71b617b9"
   },
   "outputs": [
    {
     "name": "stdout",
     "output_type": "stream",
     "text": [
      "\n",
      "..........\n",
      "Training is complete\n"
     ]
    },
    {
     "data": {
      "application/vnd.plotly.v1+json": {
       "config": {
        "plotlyServerURL": "https://plot.ly"
       },
       "data": [
        {
         "mode": "markers",
         "name": "training",
         "type": "scatter",
         "x": [
          -1,
          -0.10000000149011612,
          0.10000000149011612,
          1
         ],
         "y": [
          -1,
          0,
          0,
          1
         ]
        },
        {
         "mode": "lines",
         "name": "prediction",
         "type": "scatter",
         "x": [
          -1,
          -0.9921568627450981,
          -0.9843137254901961,
          -0.9764705882352941,
          -0.9686274509803922,
          -0.9607843137254902,
          -0.9529411764705882,
          -0.9450980392156862,
          -0.9372549019607843,
          -0.9294117647058824,
          -0.9215686274509804,
          -0.9137254901960784,
          -0.9058823529411765,
          -0.8980392156862745,
          -0.8901960784313725,
          -0.8823529411764706,
          -0.8745098039215686,
          -0.8666666666666667,
          -0.8588235294117648,
          -0.8509803921568627,
          -0.8431372549019608,
          -0.8352941176470589,
          -0.8274509803921568,
          -0.8196078431372549,
          -0.8117647058823529,
          -0.803921568627451,
          -0.7960784313725491,
          -0.788235294117647,
          -0.7803921568627451,
          -0.7725490196078432,
          -0.7647058823529411,
          -0.7568627450980392,
          -0.7490196078431373,
          -0.7411764705882353,
          -0.7333333333333334,
          -0.7254901960784313,
          -0.7176470588235294,
          -0.7098039215686275,
          -0.7019607843137254,
          -0.6941176470588235,
          -0.6862745098039216,
          -0.6784313725490196,
          -0.6705882352941177,
          -0.6627450980392157,
          -0.6549019607843137,
          -0.6470588235294118,
          -0.6392156862745098,
          -0.6313725490196078,
          -0.6235294117647059,
          -0.615686274509804,
          -0.607843137254902,
          -0.6,
          -0.592156862745098,
          -0.5843137254901961,
          -0.5764705882352941,
          -0.5686274509803921,
          -0.5607843137254902,
          -0.5529411764705883,
          -0.5450980392156863,
          -0.5372549019607843,
          -0.5294117647058824,
          -0.5215686274509804,
          -0.5137254901960784,
          -0.5058823529411764,
          -0.4980392156862745,
          -0.4901960784313726,
          -0.48235294117647065,
          -0.4745098039215686,
          -0.4666666666666667,
          -0.45882352941176474,
          -0.4509803921568627,
          -0.44313725490196076,
          -0.43529411764705883,
          -0.4274509803921569,
          -0.41960784313725497,
          -0.4117647058823529,
          -0.403921568627451,
          -0.39607843137254906,
          -0.388235294117647,
          -0.3803921568627451,
          -0.37254901960784315,
          -0.3647058823529412,
          -0.3568627450980393,
          -0.34901960784313724,
          -0.3411764705882353,
          -0.33333333333333337,
          -0.3254901960784313,
          -0.3176470588235294,
          -0.30980392156862746,
          -0.3019607843137255,
          -0.2941176470588236,
          -0.28627450980392155,
          -0.2784313725490196,
          -0.2705882352941177,
          -0.26274509803921564,
          -0.2549019607843137,
          -0.24705882352941178,
          -0.23921568627450984,
          -0.2313725490196079,
          -0.22352941176470587,
          -0.21568627450980393,
          -0.207843137254902,
          -0.19999999999999996,
          -0.19215686274509802,
          -0.1843137254901961,
          -0.17647058823529416,
          -0.16862745098039222,
          -0.16078431372549018,
          -0.15294117647058825,
          -0.14509803921568631,
          -0.13725490196078427,
          -0.12941176470588234,
          -0.1215686274509804,
          -0.11372549019607847,
          -0.10588235294117654,
          -0.0980392156862745,
          -0.09019607843137256,
          -0.08235294117647063,
          -0.07450980392156858,
          -0.06666666666666665,
          -0.05882352941176472,
          -0.050980392156862786,
          -0.04313725490196085,
          -0.03529411764705881,
          -0.027450980392156876,
          -0.019607843137254943,
          -0.0117647058823529,
          -0.0039215686274509665,
          0.0039215686274509665,
          0.0117647058823529,
          0.019607843137254832,
          0.027450980392156765,
          0.0352941176470587,
          0.04313725490196085,
          0.050980392156862786,
          0.05882352941176472,
          0.06666666666666665,
          0.07450980392156858,
          0.08235294117647052,
          0.09019607843137245,
          0.0980392156862746,
          0.10588235294117654,
          0.11372549019607847,
          0.1215686274509804,
          0.12941176470588234,
          0.13725490196078427,
          0.1450980392156862,
          0.15294117647058814,
          0.16078431372549007,
          0.16862745098039222,
          0.17647058823529416,
          0.1843137254901961,
          0.19215686274509802,
          0.19999999999999996,
          0.2078431372549019,
          0.21568627450980382,
          0.22352941176470598,
          0.2313725490196079,
          0.23921568627450984,
          0.24705882352941178,
          0.2549019607843137,
          0.26274509803921564,
          0.2705882352941176,
          0.2784313725490195,
          0.28627450980392144,
          0.2941176470588236,
          0.3019607843137255,
          0.30980392156862746,
          0.3176470588235294,
          0.3254901960784313,
          0.33333333333333326,
          0.3411764705882352,
          0.34901960784313735,
          0.3568627450980393,
          0.3647058823529412,
          0.37254901960784315,
          0.3803921568627451,
          0.388235294117647,
          0.39607843137254894,
          0.4039215686274509,
          0.4117647058823528,
          0.41960784313725497,
          0.4274509803921569,
          0.43529411764705883,
          0.44313725490196076,
          0.4509803921568627,
          0.45882352941176463,
          0.46666666666666656,
          0.4745098039215687,
          0.48235294117647065,
          0.4901960784313726,
          0.4980392156862745,
          0.5058823529411764,
          0.5137254901960784,
          0.5215686274509803,
          0.5294117647058822,
          0.5372549019607842,
          0.5450980392156863,
          0.5529411764705883,
          0.5607843137254902,
          0.5686274509803921,
          0.5764705882352941,
          0.584313725490196,
          0.5921568627450979,
          0.6000000000000001,
          0.607843137254902,
          0.615686274509804,
          0.6235294117647059,
          0.6313725490196078,
          0.6392156862745098,
          0.6470588235294117,
          0.6549019607843136,
          0.6627450980392156,
          0.6705882352941177,
          0.6784313725490196,
          0.6862745098039216,
          0.6941176470588235,
          0.7019607843137254,
          0.7098039215686274,
          0.7176470588235293,
          0.7254901960784315,
          0.7333333333333334,
          0.7411764705882353,
          0.7490196078431373,
          0.7568627450980392,
          0.7647058823529411,
          0.7725490196078431,
          0.780392156862745,
          0.7882352941176469,
          0.7960784313725491,
          0.803921568627451,
          0.8117647058823529,
          0.8196078431372549,
          0.8274509803921568,
          0.8352941176470587,
          0.8431372549019607,
          0.8509803921568628,
          0.8588235294117648,
          0.8666666666666667,
          0.8745098039215686,
          0.8823529411764706,
          0.8901960784313725,
          0.8980392156862744,
          0.9058823529411764,
          0.9137254901960783,
          0.9215686274509804,
          0.9294117647058824,
          0.9372549019607843,
          0.9450980392156862,
          0.9529411764705882,
          0.9607843137254901,
          0.968627450980392,
          0.9764705882352942,
          0.9843137254901961,
          0.9921568627450981,
          1
         ],
         "y": [
          -0.9999761581420898,
          -1.000594139099121,
          -1.00117826461792,
          -1.0017290115356445,
          -1.0022478103637695,
          -1.00272798538208,
          -1.0031704902648926,
          -1.0035743713378906,
          -1.0039372444152832,
          -1.0042600631713867,
          -1.0045380592346191,
          -1.0047688484191895,
          -1.004953384399414,
          -1.0050897598266602,
          -1.0051751136779785,
          -1.0052070617675781,
          -1.0051851272583008,
          -1.005105972290039,
          -1.004967212677002,
          -1.0047659873962402,
          -1.0045037269592285,
          -1.0041742324829102,
          -1.0037760734558105,
          -1.003310203552246,
          -1.0027685165405273,
          -1.002152919769287,
          -1.0014586448669434,
          -1.0006828308105469,
          -0.9998226165771484,
          -0.9988770484924316,
          -0.9978418350219727,
          -0.9967122077941895,
          -0.995488166809082,
          -0.9941625595092773,
          -0.9927363395690918,
          -0.9912042617797852,
          -0.9895610809326172,
          -0.9878063201904297,
          -0.9859323501586914,
          -0.9839396476745605,
          -0.9818201065063477,
          -0.9795722961425781,
          -0.9771919250488281,
          -0.974672794342041,
          -0.972012996673584,
          -0.9692068099975586,
          -0.9662480354309082,
          -0.963134765625,
          -0.9598574638366699,
          -0.956416130065918,
          -0.9528017044067383,
          -0.9490127563476562,
          -0.9450383186340332,
          -0.9408745765686035,
          -0.9365172386169434,
          -0.9319581985473633,
          -0.9271917343139648,
          -0.922213077545166,
          -0.9170112609863281,
          -0.9115810394287109,
          -0.9059162139892578,
          -0.9000048637390137,
          -0.8938426971435547,
          -0.8874201774597168,
          -0.8807282447814941,
          -0.8737597465515137,
          -0.8665003776550293,
          -0.858945369720459,
          -0.8510794639587402,
          -0.8428969383239746,
          -0.8343813419342041,
          -0.8255248069763184,
          -0.8163115978240967,
          -0.8067307472229004,
          -0.7967667579650879,
          -0.7864053249359131,
          -0.7756345272064209,
          -0.7644364833831787,
          -0.7527961730957031,
          -0.7406928539276123,
          -0.7281155586242676,
          -0.7150416374206543,
          -0.7014539241790771,
          -0.6873323917388916,
          -0.672661304473877,
          -0.6574199199676514,
          -0.6415867805480957,
          -0.6251492500305176,
          -0.6080851554870605,
          -0.590376615524292,
          -0.5720126628875732,
          -0.5529780387878418,
          -0.533261775970459,
          -0.5128574371337891,
          -0.4917638301849365,
          -0.4699840545654297,
          -0.4475252628326416,
          -0.4244070053100586,
          -0.40065479278564453,
          -0.37630629539489746,
          -0.3514089584350586,
          -0.32602500915527344,
          -0.3002345561981201,
          -0.27412843704223633,
          -0.24782419204711914,
          -0.22144794464111328,
          -0.19515752792358398,
          -0.16912007331848145,
          -0.14353227615356445,
          -0.11860394477844238,
          -0.09456169605255127,
          -0.07165038585662842,
          -0.050116658210754395,
          -0.030214905738830566,
          -0.012192010879516602,
          0.003716588020324707,
          0.01730179786682129,
          0.028383970260620117,
          0.036833226680755615,
          0.042571067810058594,
          0.04558718204498291,
          0.045940399169921875,
          0.0437701940536499,
          0.039292603731155396,
          0.032802581787109375,
          0.024663880467414856,
          0.015301287174224854,
          0.005185283720493317,
          -0.005185283720493317,
          -0.015301346778869629,
          -0.024663880467414856,
          -0.032802581787109375,
          -0.039292603731155396,
          -0.0437701940536499,
          -0.045940399169921875,
          -0.04558718204498291,
          -0.042571067810058594,
          -0.036833226680755615,
          -0.028383970260620117,
          -0.01730179786682129,
          -0.003716588020324707,
          0.012192010879516602,
          0.030214905738830566,
          0.050116658210754395,
          0.07165038585662842,
          0.09456169605255127,
          0.11860394477844238,
          0.14353227615356445,
          0.16912007331848145,
          0.19515752792358398,
          0.22144794464111328,
          0.24782419204711914,
          0.27412843704223633,
          0.3002345561981201,
          0.32602500915527344,
          0.3514089584350586,
          0.37630629539489746,
          0.40065479278564453,
          0.4244070053100586,
          0.4475252628326416,
          0.4699840545654297,
          0.4917638301849365,
          0.5128574371337891,
          0.533261775970459,
          0.5529780387878418,
          0.5720126628875732,
          0.590376615524292,
          0.6080851554870605,
          0.6251492500305176,
          0.6415867805480957,
          0.6574199199676514,
          0.672661304473877,
          0.6873323917388916,
          0.7014539241790771,
          0.7150416374206543,
          0.7281155586242676,
          0.7406928539276123,
          0.7527961730957031,
          0.7644364833831787,
          0.7756345272064209,
          0.7864053249359131,
          0.7967667579650879,
          0.8067307472229004,
          0.8163115978240967,
          0.8255248069763184,
          0.8343813419342041,
          0.8428969383239746,
          0.8510794639587402,
          0.858945369720459,
          0.8665003776550293,
          0.8737597465515137,
          0.8807282447814941,
          0.8874201774597168,
          0.8938426971435547,
          0.9000048637390137,
          0.9059162139892578,
          0.9115810394287109,
          0.9170112609863281,
          0.922213077545166,
          0.9271917343139648,
          0.9319581985473633,
          0.9365172386169434,
          0.9408745765686035,
          0.9450383186340332,
          0.9490127563476562,
          0.9528017044067383,
          0.956416130065918,
          0.9598574638366699,
          0.963134765625,
          0.9662480354309082,
          0.9692068099975586,
          0.972012996673584,
          0.974672794342041,
          0.9771919250488281,
          0.9795722961425781,
          0.9818201065063477,
          0.9839396476745605,
          0.9859323501586914,
          0.9878063201904297,
          0.9895610809326172,
          0.9912042617797852,
          0.9927363395690918,
          0.9941625595092773,
          0.995488166809082,
          0.9967122077941895,
          0.9978418350219727,
          0.9988770484924316,
          0.9998226165771484,
          1.0006828308105469,
          1.0014586448669434,
          1.002152919769287,
          1.0027685165405273,
          1.003310203552246,
          1.0037760734558105,
          1.0041742324829102,
          1.0045037269592285,
          1.0047659873962402,
          1.004967212677002,
          1.005105972290039,
          1.0051851272583008,
          1.0052070617675781,
          1.0051751136779785,
          1.0050897598266602,
          1.004953384399414,
          1.0047688484191895,
          1.0045380592346191,
          1.0042600631713867,
          1.0039372444152832,
          1.0035743713378906,
          1.0031704902648926,
          1.00272798538208,
          1.0022478103637695,
          1.0017290115356445,
          1.00117826461792,
          1.000594139099121,
          0.9999761581420898
         ]
        }
       ],
       "layout": {
        "height": 400,
        "template": {
         "data": {
          "bar": [
           {
            "error_x": {
             "color": "#2a3f5f"
            },
            "error_y": {
             "color": "#2a3f5f"
            },
            "marker": {
             "line": {
              "color": "#E5ECF6",
              "width": 0.5
             }
            },
            "type": "bar"
           }
          ],
          "barpolar": [
           {
            "marker": {
             "line": {
              "color": "#E5ECF6",
              "width": 0.5
             }
            },
            "type": "barpolar"
           }
          ],
          "carpet": [
           {
            "aaxis": {
             "endlinecolor": "#2a3f5f",
             "gridcolor": "white",
             "linecolor": "white",
             "minorgridcolor": "white",
             "startlinecolor": "#2a3f5f"
            },
            "baxis": {
             "endlinecolor": "#2a3f5f",
             "gridcolor": "white",
             "linecolor": "white",
             "minorgridcolor": "white",
             "startlinecolor": "#2a3f5f"
            },
            "type": "carpet"
           }
          ],
          "choropleth": [
           {
            "colorbar": {
             "outlinewidth": 0,
             "ticks": ""
            },
            "type": "choropleth"
           }
          ],
          "contour": [
           {
            "colorbar": {
             "outlinewidth": 0,
             "ticks": ""
            },
            "colorscale": [
             [
              0,
              "#0d0887"
             ],
             [
              0.1111111111111111,
              "#46039f"
             ],
             [
              0.2222222222222222,
              "#7201a8"
             ],
             [
              0.3333333333333333,
              "#9c179e"
             ],
             [
              0.4444444444444444,
              "#bd3786"
             ],
             [
              0.5555555555555556,
              "#d8576b"
             ],
             [
              0.6666666666666666,
              "#ed7953"
             ],
             [
              0.7777777777777778,
              "#fb9f3a"
             ],
             [
              0.8888888888888888,
              "#fdca26"
             ],
             [
              1,
              "#f0f921"
             ]
            ],
            "type": "contour"
           }
          ],
          "contourcarpet": [
           {
            "colorbar": {
             "outlinewidth": 0,
             "ticks": ""
            },
            "type": "contourcarpet"
           }
          ],
          "heatmap": [
           {
            "colorbar": {
             "outlinewidth": 0,
             "ticks": ""
            },
            "colorscale": [
             [
              0,
              "#0d0887"
             ],
             [
              0.1111111111111111,
              "#46039f"
             ],
             [
              0.2222222222222222,
              "#7201a8"
             ],
             [
              0.3333333333333333,
              "#9c179e"
             ],
             [
              0.4444444444444444,
              "#bd3786"
             ],
             [
              0.5555555555555556,
              "#d8576b"
             ],
             [
              0.6666666666666666,
              "#ed7953"
             ],
             [
              0.7777777777777778,
              "#fb9f3a"
             ],
             [
              0.8888888888888888,
              "#fdca26"
             ],
             [
              1,
              "#f0f921"
             ]
            ],
            "type": "heatmap"
           }
          ],
          "heatmapgl": [
           {
            "colorbar": {
             "outlinewidth": 0,
             "ticks": ""
            },
            "colorscale": [
             [
              0,
              "#0d0887"
             ],
             [
              0.1111111111111111,
              "#46039f"
             ],
             [
              0.2222222222222222,
              "#7201a8"
             ],
             [
              0.3333333333333333,
              "#9c179e"
             ],
             [
              0.4444444444444444,
              "#bd3786"
             ],
             [
              0.5555555555555556,
              "#d8576b"
             ],
             [
              0.6666666666666666,
              "#ed7953"
             ],
             [
              0.7777777777777778,
              "#fb9f3a"
             ],
             [
              0.8888888888888888,
              "#fdca26"
             ],
             [
              1,
              "#f0f921"
             ]
            ],
            "type": "heatmapgl"
           }
          ],
          "histogram": [
           {
            "marker": {
             "colorbar": {
              "outlinewidth": 0,
              "ticks": ""
             }
            },
            "type": "histogram"
           }
          ],
          "histogram2d": [
           {
            "colorbar": {
             "outlinewidth": 0,
             "ticks": ""
            },
            "colorscale": [
             [
              0,
              "#0d0887"
             ],
             [
              0.1111111111111111,
              "#46039f"
             ],
             [
              0.2222222222222222,
              "#7201a8"
             ],
             [
              0.3333333333333333,
              "#9c179e"
             ],
             [
              0.4444444444444444,
              "#bd3786"
             ],
             [
              0.5555555555555556,
              "#d8576b"
             ],
             [
              0.6666666666666666,
              "#ed7953"
             ],
             [
              0.7777777777777778,
              "#fb9f3a"
             ],
             [
              0.8888888888888888,
              "#fdca26"
             ],
             [
              1,
              "#f0f921"
             ]
            ],
            "type": "histogram2d"
           }
          ],
          "histogram2dcontour": [
           {
            "colorbar": {
             "outlinewidth": 0,
             "ticks": ""
            },
            "colorscale": [
             [
              0,
              "#0d0887"
             ],
             [
              0.1111111111111111,
              "#46039f"
             ],
             [
              0.2222222222222222,
              "#7201a8"
             ],
             [
              0.3333333333333333,
              "#9c179e"
             ],
             [
              0.4444444444444444,
              "#bd3786"
             ],
             [
              0.5555555555555556,
              "#d8576b"
             ],
             [
              0.6666666666666666,
              "#ed7953"
             ],
             [
              0.7777777777777778,
              "#fb9f3a"
             ],
             [
              0.8888888888888888,
              "#fdca26"
             ],
             [
              1,
              "#f0f921"
             ]
            ],
            "type": "histogram2dcontour"
           }
          ],
          "mesh3d": [
           {
            "colorbar": {
             "outlinewidth": 0,
             "ticks": ""
            },
            "type": "mesh3d"
           }
          ],
          "parcoords": [
           {
            "line": {
             "colorbar": {
              "outlinewidth": 0,
              "ticks": ""
             }
            },
            "type": "parcoords"
           }
          ],
          "pie": [
           {
            "automargin": true,
            "type": "pie"
           }
          ],
          "scatter": [
           {
            "marker": {
             "colorbar": {
              "outlinewidth": 0,
              "ticks": ""
             }
            },
            "type": "scatter"
           }
          ],
          "scatter3d": [
           {
            "line": {
             "colorbar": {
              "outlinewidth": 0,
              "ticks": ""
             }
            },
            "marker": {
             "colorbar": {
              "outlinewidth": 0,
              "ticks": ""
             }
            },
            "type": "scatter3d"
           }
          ],
          "scattercarpet": [
           {
            "marker": {
             "colorbar": {
              "outlinewidth": 0,
              "ticks": ""
             }
            },
            "type": "scattercarpet"
           }
          ],
          "scattergeo": [
           {
            "marker": {
             "colorbar": {
              "outlinewidth": 0,
              "ticks": ""
             }
            },
            "type": "scattergeo"
           }
          ],
          "scattergl": [
           {
            "marker": {
             "colorbar": {
              "outlinewidth": 0,
              "ticks": ""
             }
            },
            "type": "scattergl"
           }
          ],
          "scattermapbox": [
           {
            "marker": {
             "colorbar": {
              "outlinewidth": 0,
              "ticks": ""
             }
            },
            "type": "scattermapbox"
           }
          ],
          "scatterpolar": [
           {
            "marker": {
             "colorbar": {
              "outlinewidth": 0,
              "ticks": ""
             }
            },
            "type": "scatterpolar"
           }
          ],
          "scatterpolargl": [
           {
            "marker": {
             "colorbar": {
              "outlinewidth": 0,
              "ticks": ""
             }
            },
            "type": "scatterpolargl"
           }
          ],
          "scatterternary": [
           {
            "marker": {
             "colorbar": {
              "outlinewidth": 0,
              "ticks": ""
             }
            },
            "type": "scatterternary"
           }
          ],
          "surface": [
           {
            "colorbar": {
             "outlinewidth": 0,
             "ticks": ""
            },
            "colorscale": [
             [
              0,
              "#0d0887"
             ],
             [
              0.1111111111111111,
              "#46039f"
             ],
             [
              0.2222222222222222,
              "#7201a8"
             ],
             [
              0.3333333333333333,
              "#9c179e"
             ],
             [
              0.4444444444444444,
              "#bd3786"
             ],
             [
              0.5555555555555556,
              "#d8576b"
             ],
             [
              0.6666666666666666,
              "#ed7953"
             ],
             [
              0.7777777777777778,
              "#fb9f3a"
             ],
             [
              0.8888888888888888,
              "#fdca26"
             ],
             [
              1,
              "#f0f921"
             ]
            ],
            "type": "surface"
           }
          ],
          "table": [
           {
            "cells": {
             "fill": {
              "color": "#EBF0F8"
             },
             "line": {
              "color": "white"
             }
            },
            "header": {
             "fill": {
              "color": "#C8D4E3"
             },
             "line": {
              "color": "white"
             }
            },
            "type": "table"
           }
          ]
         },
         "layout": {
          "annotationdefaults": {
           "arrowcolor": "#2a3f5f",
           "arrowhead": 0,
           "arrowwidth": 1
          },
          "coloraxis": {
           "colorbar": {
            "outlinewidth": 0,
            "ticks": ""
           }
          },
          "colorscale": {
           "diverging": [
            [
             0,
             "#8e0152"
            ],
            [
             0.1,
             "#c51b7d"
            ],
            [
             0.2,
             "#de77ae"
            ],
            [
             0.3,
             "#f1b6da"
            ],
            [
             0.4,
             "#fde0ef"
            ],
            [
             0.5,
             "#f7f7f7"
            ],
            [
             0.6,
             "#e6f5d0"
            ],
            [
             0.7,
             "#b8e186"
            ],
            [
             0.8,
             "#7fbc41"
            ],
            [
             0.9,
             "#4d9221"
            ],
            [
             1,
             "#276419"
            ]
           ],
           "sequential": [
            [
             0,
             "#0d0887"
            ],
            [
             0.1111111111111111,
             "#46039f"
            ],
            [
             0.2222222222222222,
             "#7201a8"
            ],
            [
             0.3333333333333333,
             "#9c179e"
            ],
            [
             0.4444444444444444,
             "#bd3786"
            ],
            [
             0.5555555555555556,
             "#d8576b"
            ],
            [
             0.6666666666666666,
             "#ed7953"
            ],
            [
             0.7777777777777778,
             "#fb9f3a"
            ],
            [
             0.8888888888888888,
             "#fdca26"
            ],
            [
             1,
             "#f0f921"
            ]
           ],
           "sequentialminus": [
            [
             0,
             "#0d0887"
            ],
            [
             0.1111111111111111,
             "#46039f"
            ],
            [
             0.2222222222222222,
             "#7201a8"
            ],
            [
             0.3333333333333333,
             "#9c179e"
            ],
            [
             0.4444444444444444,
             "#bd3786"
            ],
            [
             0.5555555555555556,
             "#d8576b"
            ],
            [
             0.6666666666666666,
             "#ed7953"
            ],
            [
             0.7777777777777778,
             "#fb9f3a"
            ],
            [
             0.8888888888888888,
             "#fdca26"
            ],
            [
             1,
             "#f0f921"
            ]
           ]
          },
          "colorway": [
           "#636efa",
           "#EF553B",
           "#00cc96",
           "#ab63fa",
           "#FFA15A",
           "#19d3f3",
           "#FF6692",
           "#B6E880",
           "#FF97FF",
           "#FECB52"
          ],
          "font": {
           "color": "#2a3f5f"
          },
          "geo": {
           "bgcolor": "white",
           "lakecolor": "white",
           "landcolor": "#E5ECF6",
           "showlakes": true,
           "showland": true,
           "subunitcolor": "white"
          },
          "hoverlabel": {
           "align": "left"
          },
          "hovermode": "closest",
          "mapbox": {
           "style": "light"
          },
          "paper_bgcolor": "white",
          "plot_bgcolor": "#E5ECF6",
          "polar": {
           "angularaxis": {
            "gridcolor": "white",
            "linecolor": "white",
            "ticks": ""
           },
           "bgcolor": "#E5ECF6",
           "radialaxis": {
            "gridcolor": "white",
            "linecolor": "white",
            "ticks": ""
           }
          },
          "scene": {
           "xaxis": {
            "backgroundcolor": "#E5ECF6",
            "gridcolor": "white",
            "gridwidth": 2,
            "linecolor": "white",
            "showbackground": true,
            "ticks": "",
            "zerolinecolor": "white"
           },
           "yaxis": {
            "backgroundcolor": "#E5ECF6",
            "gridcolor": "white",
            "gridwidth": 2,
            "linecolor": "white",
            "showbackground": true,
            "ticks": "",
            "zerolinecolor": "white"
           },
           "zaxis": {
            "backgroundcolor": "#E5ECF6",
            "gridcolor": "white",
            "gridwidth": 2,
            "linecolor": "white",
            "showbackground": true,
            "ticks": "",
            "zerolinecolor": "white"
           }
          },
          "shapedefaults": {
           "line": {
            "color": "#2a3f5f"
           }
          },
          "ternary": {
           "aaxis": {
            "gridcolor": "white",
            "linecolor": "white",
            "ticks": ""
           },
           "baxis": {
            "gridcolor": "white",
            "linecolor": "white",
            "ticks": ""
           },
           "bgcolor": "#E5ECF6",
           "caxis": {
            "gridcolor": "white",
            "linecolor": "white",
            "ticks": ""
           }
          },
          "title": {
           "x": 0.05
          },
          "xaxis": {
           "automargin": true,
           "gridcolor": "white",
           "linecolor": "white",
           "ticks": "",
           "title": {
            "standoff": 15
           },
           "zerolinecolor": "white",
           "zerolinewidth": 2
          },
          "yaxis": {
           "automargin": true,
           "gridcolor": "white",
           "linecolor": "white",
           "ticks": "",
           "title": {
            "standoff": 15
           },
           "zerolinecolor": "white",
           "zerolinewidth": 2
          }
         }
        },
        "width": 600
       }
      },
      "text/html": [
       "<div>\n",
       "        \n",
       "        \n",
       "            <div id=\"ad0fca73-887a-44d2-9b71-f5de6be5f05f\" class=\"plotly-graph-div\" style=\"height:400px; width:600px;\"></div>\n",
       "            <script type=\"text/javascript\">\n",
       "                require([\"plotly\"], function(Plotly) {\n",
       "                    window.PLOTLYENV=window.PLOTLYENV || {};\n",
       "                    \n",
       "                if (document.getElementById(\"ad0fca73-887a-44d2-9b71-f5de6be5f05f\")) {\n",
       "                    Plotly.newPlot(\n",
       "                        'ad0fca73-887a-44d2-9b71-f5de6be5f05f',\n",
       "                        [{\"mode\": \"markers\", \"name\": \"training\", \"type\": \"scatter\", \"x\": [-1.0, -0.10000000149011612, 0.10000000149011612, 1.0], \"y\": [-1.0, 0.0, 0.0, 1.0]}, {\"mode\": \"lines\", \"name\": \"prediction\", \"type\": \"scatter\", \"x\": [-1.0, -0.9921568627450981, -0.9843137254901961, -0.9764705882352941, -0.9686274509803922, -0.9607843137254902, -0.9529411764705882, -0.9450980392156862, -0.9372549019607843, -0.9294117647058824, -0.9215686274509804, -0.9137254901960784, -0.9058823529411765, -0.8980392156862745, -0.8901960784313725, -0.8823529411764706, -0.8745098039215686, -0.8666666666666667, -0.8588235294117648, -0.8509803921568627, -0.8431372549019608, -0.8352941176470589, -0.8274509803921568, -0.8196078431372549, -0.8117647058823529, -0.803921568627451, -0.7960784313725491, -0.788235294117647, -0.7803921568627451, -0.7725490196078432, -0.7647058823529411, -0.7568627450980392, -0.7490196078431373, -0.7411764705882353, -0.7333333333333334, -0.7254901960784313, -0.7176470588235294, -0.7098039215686275, -0.7019607843137254, -0.6941176470588235, -0.6862745098039216, -0.6784313725490196, -0.6705882352941177, -0.6627450980392157, -0.6549019607843137, -0.6470588235294118, -0.6392156862745098, -0.6313725490196078, -0.6235294117647059, -0.615686274509804, -0.607843137254902, -0.6, -0.592156862745098, -0.5843137254901961, -0.5764705882352941, -0.5686274509803921, -0.5607843137254902, -0.5529411764705883, -0.5450980392156863, -0.5372549019607843, -0.5294117647058824, -0.5215686274509804, -0.5137254901960784, -0.5058823529411764, -0.4980392156862745, -0.4901960784313726, -0.48235294117647065, -0.4745098039215686, -0.4666666666666667, -0.45882352941176474, -0.4509803921568627, -0.44313725490196076, -0.43529411764705883, -0.4274509803921569, -0.41960784313725497, -0.4117647058823529, -0.403921568627451, -0.39607843137254906, -0.388235294117647, -0.3803921568627451, -0.37254901960784315, -0.3647058823529412, -0.3568627450980393, -0.34901960784313724, -0.3411764705882353, -0.33333333333333337, -0.3254901960784313, -0.3176470588235294, -0.30980392156862746, -0.3019607843137255, -0.2941176470588236, -0.28627450980392155, -0.2784313725490196, -0.2705882352941177, -0.26274509803921564, -0.2549019607843137, -0.24705882352941178, -0.23921568627450984, -0.2313725490196079, -0.22352941176470587, -0.21568627450980393, -0.207843137254902, -0.19999999999999996, -0.19215686274509802, -0.1843137254901961, -0.17647058823529416, -0.16862745098039222, -0.16078431372549018, -0.15294117647058825, -0.14509803921568631, -0.13725490196078427, -0.12941176470588234, -0.1215686274509804, -0.11372549019607847, -0.10588235294117654, -0.0980392156862745, -0.09019607843137256, -0.08235294117647063, -0.07450980392156858, -0.06666666666666665, -0.05882352941176472, -0.050980392156862786, -0.04313725490196085, -0.03529411764705881, -0.027450980392156876, -0.019607843137254943, -0.0117647058823529, -0.0039215686274509665, 0.0039215686274509665, 0.0117647058823529, 0.019607843137254832, 0.027450980392156765, 0.0352941176470587, 0.04313725490196085, 0.050980392156862786, 0.05882352941176472, 0.06666666666666665, 0.07450980392156858, 0.08235294117647052, 0.09019607843137245, 0.0980392156862746, 0.10588235294117654, 0.11372549019607847, 0.1215686274509804, 0.12941176470588234, 0.13725490196078427, 0.1450980392156862, 0.15294117647058814, 0.16078431372549007, 0.16862745098039222, 0.17647058823529416, 0.1843137254901961, 0.19215686274509802, 0.19999999999999996, 0.2078431372549019, 0.21568627450980382, 0.22352941176470598, 0.2313725490196079, 0.23921568627450984, 0.24705882352941178, 0.2549019607843137, 0.26274509803921564, 0.2705882352941176, 0.2784313725490195, 0.28627450980392144, 0.2941176470588236, 0.3019607843137255, 0.30980392156862746, 0.3176470588235294, 0.3254901960784313, 0.33333333333333326, 0.3411764705882352, 0.34901960784313735, 0.3568627450980393, 0.3647058823529412, 0.37254901960784315, 0.3803921568627451, 0.388235294117647, 0.39607843137254894, 0.4039215686274509, 0.4117647058823528, 0.41960784313725497, 0.4274509803921569, 0.43529411764705883, 0.44313725490196076, 0.4509803921568627, 0.45882352941176463, 0.46666666666666656, 0.4745098039215687, 0.48235294117647065, 0.4901960784313726, 0.4980392156862745, 0.5058823529411764, 0.5137254901960784, 0.5215686274509803, 0.5294117647058822, 0.5372549019607842, 0.5450980392156863, 0.5529411764705883, 0.5607843137254902, 0.5686274509803921, 0.5764705882352941, 0.584313725490196, 0.5921568627450979, 0.6000000000000001, 0.607843137254902, 0.615686274509804, 0.6235294117647059, 0.6313725490196078, 0.6392156862745098, 0.6470588235294117, 0.6549019607843136, 0.6627450980392156, 0.6705882352941177, 0.6784313725490196, 0.6862745098039216, 0.6941176470588235, 0.7019607843137254, 0.7098039215686274, 0.7176470588235293, 0.7254901960784315, 0.7333333333333334, 0.7411764705882353, 0.7490196078431373, 0.7568627450980392, 0.7647058823529411, 0.7725490196078431, 0.780392156862745, 0.7882352941176469, 0.7960784313725491, 0.803921568627451, 0.8117647058823529, 0.8196078431372549, 0.8274509803921568, 0.8352941176470587, 0.8431372549019607, 0.8509803921568628, 0.8588235294117648, 0.8666666666666667, 0.8745098039215686, 0.8823529411764706, 0.8901960784313725, 0.8980392156862744, 0.9058823529411764, 0.9137254901960783, 0.9215686274509804, 0.9294117647058824, 0.9372549019607843, 0.9450980392156862, 0.9529411764705882, 0.9607843137254901, 0.968627450980392, 0.9764705882352942, 0.9843137254901961, 0.9921568627450981, 1.0], \"y\": [-0.9999761581420898, -1.000594139099121, -1.00117826461792, -1.0017290115356445, -1.0022478103637695, -1.00272798538208, -1.0031704902648926, -1.0035743713378906, -1.0039372444152832, -1.0042600631713867, -1.0045380592346191, -1.0047688484191895, -1.004953384399414, -1.0050897598266602, -1.0051751136779785, -1.0052070617675781, -1.0051851272583008, -1.005105972290039, -1.004967212677002, -1.0047659873962402, -1.0045037269592285, -1.0041742324829102, -1.0037760734558105, -1.003310203552246, -1.0027685165405273, -1.002152919769287, -1.0014586448669434, -1.0006828308105469, -0.9998226165771484, -0.9988770484924316, -0.9978418350219727, -0.9967122077941895, -0.995488166809082, -0.9941625595092773, -0.9927363395690918, -0.9912042617797852, -0.9895610809326172, -0.9878063201904297, -0.9859323501586914, -0.9839396476745605, -0.9818201065063477, -0.9795722961425781, -0.9771919250488281, -0.974672794342041, -0.972012996673584, -0.9692068099975586, -0.9662480354309082, -0.963134765625, -0.9598574638366699, -0.956416130065918, -0.9528017044067383, -0.9490127563476562, -0.9450383186340332, -0.9408745765686035, -0.9365172386169434, -0.9319581985473633, -0.9271917343139648, -0.922213077545166, -0.9170112609863281, -0.9115810394287109, -0.9059162139892578, -0.9000048637390137, -0.8938426971435547, -0.8874201774597168, -0.8807282447814941, -0.8737597465515137, -0.8665003776550293, -0.858945369720459, -0.8510794639587402, -0.8428969383239746, -0.8343813419342041, -0.8255248069763184, -0.8163115978240967, -0.8067307472229004, -0.7967667579650879, -0.7864053249359131, -0.7756345272064209, -0.7644364833831787, -0.7527961730957031, -0.7406928539276123, -0.7281155586242676, -0.7150416374206543, -0.7014539241790771, -0.6873323917388916, -0.672661304473877, -0.6574199199676514, -0.6415867805480957, -0.6251492500305176, -0.6080851554870605, -0.590376615524292, -0.5720126628875732, -0.5529780387878418, -0.533261775970459, -0.5128574371337891, -0.4917638301849365, -0.4699840545654297, -0.4475252628326416, -0.4244070053100586, -0.40065479278564453, -0.37630629539489746, -0.3514089584350586, -0.32602500915527344, -0.3002345561981201, -0.27412843704223633, -0.24782419204711914, -0.22144794464111328, -0.19515752792358398, -0.16912007331848145, -0.14353227615356445, -0.11860394477844238, -0.09456169605255127, -0.07165038585662842, -0.050116658210754395, -0.030214905738830566, -0.012192010879516602, 0.003716588020324707, 0.01730179786682129, 0.028383970260620117, 0.036833226680755615, 0.042571067810058594, 0.04558718204498291, 0.045940399169921875, 0.0437701940536499, 0.039292603731155396, 0.032802581787109375, 0.024663880467414856, 0.015301287174224854, 0.005185283720493317, -0.005185283720493317, -0.015301346778869629, -0.024663880467414856, -0.032802581787109375, -0.039292603731155396, -0.0437701940536499, -0.045940399169921875, -0.04558718204498291, -0.042571067810058594, -0.036833226680755615, -0.028383970260620117, -0.01730179786682129, -0.003716588020324707, 0.012192010879516602, 0.030214905738830566, 0.050116658210754395, 0.07165038585662842, 0.09456169605255127, 0.11860394477844238, 0.14353227615356445, 0.16912007331848145, 0.19515752792358398, 0.22144794464111328, 0.24782419204711914, 0.27412843704223633, 0.3002345561981201, 0.32602500915527344, 0.3514089584350586, 0.37630629539489746, 0.40065479278564453, 0.4244070053100586, 0.4475252628326416, 0.4699840545654297, 0.4917638301849365, 0.5128574371337891, 0.533261775970459, 0.5529780387878418, 0.5720126628875732, 0.590376615524292, 0.6080851554870605, 0.6251492500305176, 0.6415867805480957, 0.6574199199676514, 0.672661304473877, 0.6873323917388916, 0.7014539241790771, 0.7150416374206543, 0.7281155586242676, 0.7406928539276123, 0.7527961730957031, 0.7644364833831787, 0.7756345272064209, 0.7864053249359131, 0.7967667579650879, 0.8067307472229004, 0.8163115978240967, 0.8255248069763184, 0.8343813419342041, 0.8428969383239746, 0.8510794639587402, 0.858945369720459, 0.8665003776550293, 0.8737597465515137, 0.8807282447814941, 0.8874201774597168, 0.8938426971435547, 0.9000048637390137, 0.9059162139892578, 0.9115810394287109, 0.9170112609863281, 0.922213077545166, 0.9271917343139648, 0.9319581985473633, 0.9365172386169434, 0.9408745765686035, 0.9450383186340332, 0.9490127563476562, 0.9528017044067383, 0.956416130065918, 0.9598574638366699, 0.963134765625, 0.9662480354309082, 0.9692068099975586, 0.972012996673584, 0.974672794342041, 0.9771919250488281, 0.9795722961425781, 0.9818201065063477, 0.9839396476745605, 0.9859323501586914, 0.9878063201904297, 0.9895610809326172, 0.9912042617797852, 0.9927363395690918, 0.9941625595092773, 0.995488166809082, 0.9967122077941895, 0.9978418350219727, 0.9988770484924316, 0.9998226165771484, 1.0006828308105469, 1.0014586448669434, 1.002152919769287, 1.0027685165405273, 1.003310203552246, 1.0037760734558105, 1.0041742324829102, 1.0045037269592285, 1.0047659873962402, 1.004967212677002, 1.005105972290039, 1.0051851272583008, 1.0052070617675781, 1.0051751136779785, 1.0050897598266602, 1.004953384399414, 1.0047688484191895, 1.0045380592346191, 1.0042600631713867, 1.0039372444152832, 1.0035743713378906, 1.0031704902648926, 1.00272798538208, 1.0022478103637695, 1.0017290115356445, 1.00117826461792, 1.000594139099121, 0.9999761581420898]}],\n",
       "                        {\"height\": 400, \"template\": {\"data\": {\"bar\": [{\"error_x\": {\"color\": \"#2a3f5f\"}, \"error_y\": {\"color\": \"#2a3f5f\"}, \"marker\": {\"line\": {\"color\": \"#E5ECF6\", \"width\": 0.5}}, \"type\": \"bar\"}], \"barpolar\": [{\"marker\": {\"line\": {\"color\": \"#E5ECF6\", \"width\": 0.5}}, \"type\": \"barpolar\"}], \"carpet\": [{\"aaxis\": {\"endlinecolor\": \"#2a3f5f\", \"gridcolor\": \"white\", \"linecolor\": \"white\", \"minorgridcolor\": \"white\", \"startlinecolor\": \"#2a3f5f\"}, \"baxis\": {\"endlinecolor\": \"#2a3f5f\", \"gridcolor\": \"white\", \"linecolor\": \"white\", \"minorgridcolor\": \"white\", \"startlinecolor\": \"#2a3f5f\"}, \"type\": \"carpet\"}], \"choropleth\": [{\"colorbar\": {\"outlinewidth\": 0, \"ticks\": \"\"}, \"type\": \"choropleth\"}], \"contour\": [{\"colorbar\": {\"outlinewidth\": 0, \"ticks\": \"\"}, \"colorscale\": [[0.0, \"#0d0887\"], [0.1111111111111111, \"#46039f\"], [0.2222222222222222, \"#7201a8\"], [0.3333333333333333, \"#9c179e\"], [0.4444444444444444, \"#bd3786\"], [0.5555555555555556, \"#d8576b\"], [0.6666666666666666, \"#ed7953\"], [0.7777777777777778, \"#fb9f3a\"], [0.8888888888888888, \"#fdca26\"], [1.0, \"#f0f921\"]], \"type\": \"contour\"}], \"contourcarpet\": [{\"colorbar\": {\"outlinewidth\": 0, \"ticks\": \"\"}, \"type\": \"contourcarpet\"}], \"heatmap\": [{\"colorbar\": {\"outlinewidth\": 0, \"ticks\": \"\"}, \"colorscale\": [[0.0, \"#0d0887\"], [0.1111111111111111, \"#46039f\"], [0.2222222222222222, \"#7201a8\"], [0.3333333333333333, \"#9c179e\"], [0.4444444444444444, \"#bd3786\"], [0.5555555555555556, \"#d8576b\"], [0.6666666666666666, \"#ed7953\"], [0.7777777777777778, \"#fb9f3a\"], [0.8888888888888888, \"#fdca26\"], [1.0, \"#f0f921\"]], \"type\": \"heatmap\"}], \"heatmapgl\": [{\"colorbar\": {\"outlinewidth\": 0, \"ticks\": \"\"}, \"colorscale\": [[0.0, \"#0d0887\"], [0.1111111111111111, \"#46039f\"], [0.2222222222222222, \"#7201a8\"], [0.3333333333333333, \"#9c179e\"], [0.4444444444444444, \"#bd3786\"], [0.5555555555555556, \"#d8576b\"], [0.6666666666666666, \"#ed7953\"], [0.7777777777777778, \"#fb9f3a\"], [0.8888888888888888, \"#fdca26\"], [1.0, \"#f0f921\"]], \"type\": \"heatmapgl\"}], \"histogram\": [{\"marker\": {\"colorbar\": {\"outlinewidth\": 0, \"ticks\": \"\"}}, \"type\": \"histogram\"}], \"histogram2d\": [{\"colorbar\": {\"outlinewidth\": 0, \"ticks\": \"\"}, \"colorscale\": [[0.0, \"#0d0887\"], [0.1111111111111111, \"#46039f\"], [0.2222222222222222, \"#7201a8\"], [0.3333333333333333, \"#9c179e\"], [0.4444444444444444, \"#bd3786\"], [0.5555555555555556, \"#d8576b\"], [0.6666666666666666, \"#ed7953\"], [0.7777777777777778, \"#fb9f3a\"], [0.8888888888888888, \"#fdca26\"], [1.0, \"#f0f921\"]], \"type\": \"histogram2d\"}], \"histogram2dcontour\": [{\"colorbar\": {\"outlinewidth\": 0, \"ticks\": \"\"}, \"colorscale\": [[0.0, \"#0d0887\"], [0.1111111111111111, \"#46039f\"], [0.2222222222222222, \"#7201a8\"], [0.3333333333333333, \"#9c179e\"], [0.4444444444444444, \"#bd3786\"], [0.5555555555555556, \"#d8576b\"], [0.6666666666666666, \"#ed7953\"], [0.7777777777777778, \"#fb9f3a\"], [0.8888888888888888, \"#fdca26\"], [1.0, \"#f0f921\"]], \"type\": \"histogram2dcontour\"}], \"mesh3d\": [{\"colorbar\": {\"outlinewidth\": 0, \"ticks\": \"\"}, \"type\": \"mesh3d\"}], \"parcoords\": [{\"line\": {\"colorbar\": {\"outlinewidth\": 0, \"ticks\": \"\"}}, \"type\": \"parcoords\"}], \"pie\": [{\"automargin\": true, \"type\": \"pie\"}], \"scatter\": [{\"marker\": {\"colorbar\": {\"outlinewidth\": 0, \"ticks\": \"\"}}, \"type\": \"scatter\"}], \"scatter3d\": [{\"line\": {\"colorbar\": {\"outlinewidth\": 0, \"ticks\": \"\"}}, \"marker\": {\"colorbar\": {\"outlinewidth\": 0, \"ticks\": \"\"}}, \"type\": \"scatter3d\"}], \"scattercarpet\": [{\"marker\": {\"colorbar\": {\"outlinewidth\": 0, \"ticks\": \"\"}}, \"type\": \"scattercarpet\"}], \"scattergeo\": [{\"marker\": {\"colorbar\": {\"outlinewidth\": 0, \"ticks\": \"\"}}, \"type\": \"scattergeo\"}], \"scattergl\": [{\"marker\": {\"colorbar\": {\"outlinewidth\": 0, \"ticks\": \"\"}}, \"type\": \"scattergl\"}], \"scattermapbox\": [{\"marker\": {\"colorbar\": {\"outlinewidth\": 0, \"ticks\": \"\"}}, \"type\": \"scattermapbox\"}], \"scatterpolar\": [{\"marker\": {\"colorbar\": {\"outlinewidth\": 0, \"ticks\": \"\"}}, \"type\": \"scatterpolar\"}], \"scatterpolargl\": [{\"marker\": {\"colorbar\": {\"outlinewidth\": 0, \"ticks\": \"\"}}, \"type\": \"scatterpolargl\"}], \"scatterternary\": [{\"marker\": {\"colorbar\": {\"outlinewidth\": 0, \"ticks\": \"\"}}, \"type\": \"scatterternary\"}], \"surface\": [{\"colorbar\": {\"outlinewidth\": 0, \"ticks\": \"\"}, \"colorscale\": [[0.0, \"#0d0887\"], [0.1111111111111111, \"#46039f\"], [0.2222222222222222, \"#7201a8\"], [0.3333333333333333, \"#9c179e\"], [0.4444444444444444, \"#bd3786\"], [0.5555555555555556, \"#d8576b\"], [0.6666666666666666, \"#ed7953\"], [0.7777777777777778, \"#fb9f3a\"], [0.8888888888888888, \"#fdca26\"], [1.0, \"#f0f921\"]], \"type\": \"surface\"}], \"table\": [{\"cells\": {\"fill\": {\"color\": \"#EBF0F8\"}, \"line\": {\"color\": \"white\"}}, \"header\": {\"fill\": {\"color\": \"#C8D4E3\"}, \"line\": {\"color\": \"white\"}}, \"type\": \"table\"}]}, \"layout\": {\"annotationdefaults\": {\"arrowcolor\": \"#2a3f5f\", \"arrowhead\": 0, \"arrowwidth\": 1}, \"coloraxis\": {\"colorbar\": {\"outlinewidth\": 0, \"ticks\": \"\"}}, \"colorscale\": {\"diverging\": [[0, \"#8e0152\"], [0.1, \"#c51b7d\"], [0.2, \"#de77ae\"], [0.3, \"#f1b6da\"], [0.4, \"#fde0ef\"], [0.5, \"#f7f7f7\"], [0.6, \"#e6f5d0\"], [0.7, \"#b8e186\"], [0.8, \"#7fbc41\"], [0.9, \"#4d9221\"], [1, \"#276419\"]], \"sequential\": [[0.0, \"#0d0887\"], [0.1111111111111111, \"#46039f\"], [0.2222222222222222, \"#7201a8\"], [0.3333333333333333, \"#9c179e\"], [0.4444444444444444, \"#bd3786\"], [0.5555555555555556, \"#d8576b\"], [0.6666666666666666, \"#ed7953\"], [0.7777777777777778, \"#fb9f3a\"], [0.8888888888888888, \"#fdca26\"], [1.0, \"#f0f921\"]], \"sequentialminus\": [[0.0, \"#0d0887\"], [0.1111111111111111, \"#46039f\"], [0.2222222222222222, \"#7201a8\"], [0.3333333333333333, \"#9c179e\"], [0.4444444444444444, \"#bd3786\"], [0.5555555555555556, \"#d8576b\"], [0.6666666666666666, \"#ed7953\"], [0.7777777777777778, \"#fb9f3a\"], [0.8888888888888888, \"#fdca26\"], [1.0, \"#f0f921\"]]}, \"colorway\": [\"#636efa\", \"#EF553B\", \"#00cc96\", \"#ab63fa\", \"#FFA15A\", \"#19d3f3\", \"#FF6692\", \"#B6E880\", \"#FF97FF\", \"#FECB52\"], \"font\": {\"color\": \"#2a3f5f\"}, \"geo\": {\"bgcolor\": \"white\", \"lakecolor\": \"white\", \"landcolor\": \"#E5ECF6\", \"showlakes\": true, \"showland\": true, \"subunitcolor\": \"white\"}, \"hoverlabel\": {\"align\": \"left\"}, \"hovermode\": \"closest\", \"mapbox\": {\"style\": \"light\"}, \"paper_bgcolor\": \"white\", \"plot_bgcolor\": \"#E5ECF6\", \"polar\": {\"angularaxis\": {\"gridcolor\": \"white\", \"linecolor\": \"white\", \"ticks\": \"\"}, \"bgcolor\": \"#E5ECF6\", \"radialaxis\": {\"gridcolor\": \"white\", \"linecolor\": \"white\", \"ticks\": \"\"}}, \"scene\": {\"xaxis\": {\"backgroundcolor\": \"#E5ECF6\", \"gridcolor\": \"white\", \"gridwidth\": 2, \"linecolor\": \"white\", \"showbackground\": true, \"ticks\": \"\", \"zerolinecolor\": \"white\"}, \"yaxis\": {\"backgroundcolor\": \"#E5ECF6\", \"gridcolor\": \"white\", \"gridwidth\": 2, \"linecolor\": \"white\", \"showbackground\": true, \"ticks\": \"\", \"zerolinecolor\": \"white\"}, \"zaxis\": {\"backgroundcolor\": \"#E5ECF6\", \"gridcolor\": \"white\", \"gridwidth\": 2, \"linecolor\": \"white\", \"showbackground\": true, \"ticks\": \"\", \"zerolinecolor\": \"white\"}}, \"shapedefaults\": {\"line\": {\"color\": \"#2a3f5f\"}}, \"ternary\": {\"aaxis\": {\"gridcolor\": \"white\", \"linecolor\": \"white\", \"ticks\": \"\"}, \"baxis\": {\"gridcolor\": \"white\", \"linecolor\": \"white\", \"ticks\": \"\"}, \"bgcolor\": \"#E5ECF6\", \"caxis\": {\"gridcolor\": \"white\", \"linecolor\": \"white\", \"ticks\": \"\"}}, \"title\": {\"x\": 0.05}, \"xaxis\": {\"automargin\": true, \"gridcolor\": \"white\", \"linecolor\": \"white\", \"ticks\": \"\", \"title\": {\"standoff\": 15}, \"zerolinecolor\": \"white\", \"zerolinewidth\": 2}, \"yaxis\": {\"automargin\": true, \"gridcolor\": \"white\", \"linecolor\": \"white\", \"ticks\": \"\", \"title\": {\"standoff\": 15}, \"zerolinecolor\": \"white\", \"zerolinewidth\": 2}}}, \"width\": 600},\n",
       "                        {\"responsive\": true}\n",
       "                    ).then(function(){\n",
       "                            \n",
       "var gd = document.getElementById('ad0fca73-887a-44d2-9b71-f5de6be5f05f');\n",
       "var x = new MutationObserver(function (mutations, observer) {{\n",
       "        var display = window.getComputedStyle(gd).display;\n",
       "        if (!display || display === 'none') {{\n",
       "            console.log([gd, 'removed!']);\n",
       "            Plotly.purge(gd);\n",
       "            observer.disconnect();\n",
       "        }}\n",
       "}});\n",
       "\n",
       "// Listen for the removal of the full notebook cells\n",
       "var notebookContainer = gd.closest('#notebook-container');\n",
       "if (notebookContainer) {{\n",
       "    x.observe(notebookContainer, {childList: true});\n",
       "}}\n",
       "\n",
       "// Listen for the clearing of the current output cell\n",
       "var outputEl = gd.closest('.output');\n",
       "if (outputEl) {{\n",
       "    x.observe(outputEl, {childList: true});\n",
       "}}\n",
       "\n",
       "                        })\n",
       "                };\n",
       "                });\n",
       "            </script>\n",
       "        </div>"
      ]
     },
     "metadata": {},
     "output_type": "display_data"
    },
    {
     "data": {
      "application/vnd.plotly.v1+json": {
       "config": {
        "plotlyServerURL": "https://plot.ly"
       },
       "data": [
        {
         "name": "loss",
         "type": "scatter",
         "y": [
          4.8391138346889635,
          8.71337462404017,
          0.6287047258765258,
          0.11861030791595058,
          0.08932847516843827,
          0.08209658473217155,
          0.07573844706156013,
          0.06987735087256483,
          0.0644701588403237,
          0.05948210658389277,
          0.054879740462749925,
          0.05063336185580503,
          0.046716162664157124,
          0.04310240198166256,
          0.0397678558186659,
          0.03669221012762287,
          0.033854251679594945,
          0.031235577935964907,
          0.028820198154571628,
          0.02659152983084136,
          0.024534548048775195,
          0.022636641143488064,
          0.020886412647061453,
          0.01927157195698527,
          0.017780626822361523,
          0.016405531251581104,
          0.015136892275430879,
          0.013966488178674848,
          0.012887194092918617,
          0.011890264515708703,
          0.010970495988934738,
          0.010122546999269944,
          0.009340004062732592,
          0.008618025062672034,
          0.007950774024994252,
          0.007336132720879499,
          0.006769334270567397,
          0.006245787186059614,
          0.005763264967357571,
          0.005317609655057794,
          0.004906422931192173,
          0.004526809806539944,
          0.004177168841096346,
          0.00385418882608118,
          0.0035560067691804043,
          0.0032814108141805084,
          0.0030274121924227593,
          0.0027937991237632722,
          0.0025774201871060433,
          0.0023784119310524612,
          0.0021946310931932693,
          0.0020245703880326276,
          0.0018682972145507434,
          0.001723643980525324,
          0.0015906444248192178,
          0.0014679854572637032,
          0.0013539992411736354,
          0.0012500238127455398,
          0.0011520800697514448,
          0.0010633204012088626,
          0.000980762928100671,
          0.0009055568258964956,
          0.0008352796120889098,
          0.0007711262961590906,
          0.0007111555835873901,
          0.0006566825036688385,
          0.0006052917855049831,
          0.0005593292243640126,
          0.0005156874545070962,
          0.00047570442723200045,
          0.00043949902645766607,
          0.00040528356932140766,
          0.000372778865961414,
          0.00034437651150320706,
          0.00031844352549473617,
          0.00029322911940462003,
          0.00027057326125478395,
          0.000250060971027056,
          0.0002304547745167172,
          0.0002128308184830365,
          0.000196230584973513,
          0.00018141640828427396,
          0.00016742731463404058,
          0.0001545381201365885,
          0.00014246924082758392,
          0.0001312212194780858,
          0.00012060260128493576,
          0.00011188679348978225,
          0.00010331532893855843,
          9.532048142586516e-05,
          8.777495830563633e-05,
          8.11751365947886e-05,
          7.435143691315791e-05,
          6.907476306393315e-05,
          6.454057432437375e-05,
          5.871296529212982e-05,
          5.376332350682429e-05,
          5.051436501295123e-05,
          4.6233613618980534e-05,
          4.2677591627668146e-05
         ]
        },
        {
         "name": "error training",
         "type": "scatter",
         "y": [
          4.839113712310791,
          8.713375091552734,
          0.6287047266960144,
          0.11861030757427216,
          0.08932847529649734,
          0.08209658414125443,
          0.07573844492435455,
          0.06987734884023666,
          0.06447015702724457,
          0.05948210507631302,
          0.05487973988056183,
          0.05063336342573166,
          0.04671616107225418,
          0.04310240224003792,
          0.039767857640981674,
          0.03669220954179764,
          0.033854249864816666,
          0.031235577538609505,
          0.02882019802927971,
          0.026591530069708824,
          0.024534547701478004,
          0.022636640816926956,
          0.020886411890387535,
          0.019271571189165115,
          0.017780626192688942,
          0.016405532136559486,
          0.015136891975998878,
          0.013966487720608711,
          0.012887193821370602,
          0.011890264227986336,
          0.010970495641231537,
          0.010122546926140785,
          0.009340004064142704,
          0.008618025109171867,
          0.007950774393975735,
          0.0073361326940357685,
          0.006769334431737661,
          0.006245787255465984,
          0.005763264838606119,
          0.005317609757184982,
          0.004906422924250364,
          0.00452680978924036,
          0.004177168942987919,
          0.003854188835248351,
          0.003556006820872426,
          0.0032814107835292816,
          0.0030274121090769768,
          0.00279379915446043,
          0.0025774200912564993,
          0.0023784118238836527,
          0.0021946311462670565,
          0.002024570479989052,
          0.0018682972295209765,
          0.0017236439744010568,
          0.0015906444750726223,
          0.0014679854502901435,
          0.0013539992505684495,
          0.0012500238372012973,
          0.0011520800180733204,
          0.001063320436514914,
          0.0009807628812268376,
          0.0009055568370968103,
          0.0008352795848622918,
          0.0007711263024248183,
          0.0007111555896699429,
          0.0006566825322806835,
          0.0006052918033674359,
          0.0005593292298726737,
          0.0005156874540261924,
          0.0004757044371217489,
          0.00043949903920292854,
          0.0004052835574839264,
          0.000372778857126832,
          0.00034437651629559696,
          0.00031844351906329393,
          0.0002932291245087981,
          0.00027057324768975377,
          0.0002500609843991697,
          0.00023045478155836463,
          0.00021283081150613725,
          0.0001962305832421407,
          0.00018141641339752823,
          0.0001674273080425337,
          0.0001545381237519905,
          0.00014246924547478557,
          0.00013122122618369758,
          0.0001206025990541093,
          0.00011188679491169751,
          0.00010331533121643588,
          9.532047988614067e-05,
          8.777495531830937e-05,
          8.117513789329678e-05,
          7.435143925249577e-05,
          6.907476199558005e-05,
          6.45405743853189e-05,
          5.8712965255836025e-05,
          5.3763324103783816e-05,
          5.051436528447084e-05,
          4.6233613829826936e-05,
          4.2677591409301385e-05
         ]
        },
        {
         "name": "error validation",
         "type": "scatter",
         "y": [
          9.82839584350586,
          0.5578321814537048,
          0.2123398333787918,
          0.25265780091285706,
          0.25568336248397827,
          0.25395381450653076,
          0.2519162893295288,
          0.25005781650543213,
          0.24841086566448212,
          0.246956005692482,
          0.24567095935344696,
          0.24453195929527283,
          0.24352264404296875,
          0.24262726306915283,
          0.24183346331119537,
          0.24112729728221893,
          0.240498885512352,
          0.23993787169456482,
          0.23943743109703064,
          0.2389891892671585,
          0.23858807981014252,
          0.23822852969169617,
          0.23790627717971802,
          0.2376164048910141,
          0.23735588788986206,
          0.23712030053138733,
          0.23690800368785858,
          0.23671546578407288,
          0.236542746424675,
          0.23638470470905304,
          0.2362423837184906,
          0.23611217737197876,
          0.2359963059425354,
          0.2358892858028412,
          0.23579208552837372,
          0.2357025146484375,
          0.2356218546628952,
          0.23554842174053192,
          0.23548173904418945,
          0.23541903495788574,
          0.23536346852779388,
          0.23531226813793182,
          0.23526480793952942,
          0.23522226512432098,
          0.23518213629722595,
          0.23514647781848907,
          0.23511318862438202,
          0.23508359491825104,
          0.23505480587482452,
          0.23502953350543976,
          0.2350049465894699,
          0.2349827140569687,
          0.2349633127450943,
          0.23494555056095123,
          0.23492884635925293,
          0.2349129319190979,
          0.2348981648683548,
          0.23488643765449524,
          0.23487213253974915,
          0.23486199975013733,
          0.23485137522220612,
          0.2348421961069107,
          0.23483440279960632,
          0.2348250299692154,
          0.23481811583042145,
          0.2348124086856842,
          0.23480524122714996,
          0.23479972779750824,
          0.23479413986206055,
          0.23478876054286957,
          0.2347850203514099,
          0.23478087782859802,
          0.2347765415906906,
          0.2347716987133026,
          0.23476973176002502,
          0.23476573824882507,
          0.23476313054561615,
          0.23476119339466095,
          0.23475885391235352,
          0.2347564548254013,
          0.23475459218025208,
          0.23475351929664612,
          0.2347513735294342,
          0.2347496896982193,
          0.23474743962287903,
          0.2347467988729477,
          0.2347445785999298,
          0.23474453389644623,
          0.2347438782453537,
          0.23474258184432983,
          0.23474262654781342,
          0.23474042117595673,
          0.23473988473415375,
          0.23473915457725525,
          0.23473875224590302,
          0.23473703861236572,
          0.23473700881004333,
          0.234737366437912,
          0.23473702371120453,
          0.2347363531589508
         ]
        }
       ],
       "layout": {
        "height": 400,
        "template": {
         "data": {
          "bar": [
           {
            "error_x": {
             "color": "#2a3f5f"
            },
            "error_y": {
             "color": "#2a3f5f"
            },
            "marker": {
             "line": {
              "color": "#E5ECF6",
              "width": 0.5
             }
            },
            "type": "bar"
           }
          ],
          "barpolar": [
           {
            "marker": {
             "line": {
              "color": "#E5ECF6",
              "width": 0.5
             }
            },
            "type": "barpolar"
           }
          ],
          "carpet": [
           {
            "aaxis": {
             "endlinecolor": "#2a3f5f",
             "gridcolor": "white",
             "linecolor": "white",
             "minorgridcolor": "white",
             "startlinecolor": "#2a3f5f"
            },
            "baxis": {
             "endlinecolor": "#2a3f5f",
             "gridcolor": "white",
             "linecolor": "white",
             "minorgridcolor": "white",
             "startlinecolor": "#2a3f5f"
            },
            "type": "carpet"
           }
          ],
          "choropleth": [
           {
            "colorbar": {
             "outlinewidth": 0,
             "ticks": ""
            },
            "type": "choropleth"
           }
          ],
          "contour": [
           {
            "colorbar": {
             "outlinewidth": 0,
             "ticks": ""
            },
            "colorscale": [
             [
              0,
              "#0d0887"
             ],
             [
              0.1111111111111111,
              "#46039f"
             ],
             [
              0.2222222222222222,
              "#7201a8"
             ],
             [
              0.3333333333333333,
              "#9c179e"
             ],
             [
              0.4444444444444444,
              "#bd3786"
             ],
             [
              0.5555555555555556,
              "#d8576b"
             ],
             [
              0.6666666666666666,
              "#ed7953"
             ],
             [
              0.7777777777777778,
              "#fb9f3a"
             ],
             [
              0.8888888888888888,
              "#fdca26"
             ],
             [
              1,
              "#f0f921"
             ]
            ],
            "type": "contour"
           }
          ],
          "contourcarpet": [
           {
            "colorbar": {
             "outlinewidth": 0,
             "ticks": ""
            },
            "type": "contourcarpet"
           }
          ],
          "heatmap": [
           {
            "colorbar": {
             "outlinewidth": 0,
             "ticks": ""
            },
            "colorscale": [
             [
              0,
              "#0d0887"
             ],
             [
              0.1111111111111111,
              "#46039f"
             ],
             [
              0.2222222222222222,
              "#7201a8"
             ],
             [
              0.3333333333333333,
              "#9c179e"
             ],
             [
              0.4444444444444444,
              "#bd3786"
             ],
             [
              0.5555555555555556,
              "#d8576b"
             ],
             [
              0.6666666666666666,
              "#ed7953"
             ],
             [
              0.7777777777777778,
              "#fb9f3a"
             ],
             [
              0.8888888888888888,
              "#fdca26"
             ],
             [
              1,
              "#f0f921"
             ]
            ],
            "type": "heatmap"
           }
          ],
          "heatmapgl": [
           {
            "colorbar": {
             "outlinewidth": 0,
             "ticks": ""
            },
            "colorscale": [
             [
              0,
              "#0d0887"
             ],
             [
              0.1111111111111111,
              "#46039f"
             ],
             [
              0.2222222222222222,
              "#7201a8"
             ],
             [
              0.3333333333333333,
              "#9c179e"
             ],
             [
              0.4444444444444444,
              "#bd3786"
             ],
             [
              0.5555555555555556,
              "#d8576b"
             ],
             [
              0.6666666666666666,
              "#ed7953"
             ],
             [
              0.7777777777777778,
              "#fb9f3a"
             ],
             [
              0.8888888888888888,
              "#fdca26"
             ],
             [
              1,
              "#f0f921"
             ]
            ],
            "type": "heatmapgl"
           }
          ],
          "histogram": [
           {
            "marker": {
             "colorbar": {
              "outlinewidth": 0,
              "ticks": ""
             }
            },
            "type": "histogram"
           }
          ],
          "histogram2d": [
           {
            "colorbar": {
             "outlinewidth": 0,
             "ticks": ""
            },
            "colorscale": [
             [
              0,
              "#0d0887"
             ],
             [
              0.1111111111111111,
              "#46039f"
             ],
             [
              0.2222222222222222,
              "#7201a8"
             ],
             [
              0.3333333333333333,
              "#9c179e"
             ],
             [
              0.4444444444444444,
              "#bd3786"
             ],
             [
              0.5555555555555556,
              "#d8576b"
             ],
             [
              0.6666666666666666,
              "#ed7953"
             ],
             [
              0.7777777777777778,
              "#fb9f3a"
             ],
             [
              0.8888888888888888,
              "#fdca26"
             ],
             [
              1,
              "#f0f921"
             ]
            ],
            "type": "histogram2d"
           }
          ],
          "histogram2dcontour": [
           {
            "colorbar": {
             "outlinewidth": 0,
             "ticks": ""
            },
            "colorscale": [
             [
              0,
              "#0d0887"
             ],
             [
              0.1111111111111111,
              "#46039f"
             ],
             [
              0.2222222222222222,
              "#7201a8"
             ],
             [
              0.3333333333333333,
              "#9c179e"
             ],
             [
              0.4444444444444444,
              "#bd3786"
             ],
             [
              0.5555555555555556,
              "#d8576b"
             ],
             [
              0.6666666666666666,
              "#ed7953"
             ],
             [
              0.7777777777777778,
              "#fb9f3a"
             ],
             [
              0.8888888888888888,
              "#fdca26"
             ],
             [
              1,
              "#f0f921"
             ]
            ],
            "type": "histogram2dcontour"
           }
          ],
          "mesh3d": [
           {
            "colorbar": {
             "outlinewidth": 0,
             "ticks": ""
            },
            "type": "mesh3d"
           }
          ],
          "parcoords": [
           {
            "line": {
             "colorbar": {
              "outlinewidth": 0,
              "ticks": ""
             }
            },
            "type": "parcoords"
           }
          ],
          "pie": [
           {
            "automargin": true,
            "type": "pie"
           }
          ],
          "scatter": [
           {
            "marker": {
             "colorbar": {
              "outlinewidth": 0,
              "ticks": ""
             }
            },
            "type": "scatter"
           }
          ],
          "scatter3d": [
           {
            "line": {
             "colorbar": {
              "outlinewidth": 0,
              "ticks": ""
             }
            },
            "marker": {
             "colorbar": {
              "outlinewidth": 0,
              "ticks": ""
             }
            },
            "type": "scatter3d"
           }
          ],
          "scattercarpet": [
           {
            "marker": {
             "colorbar": {
              "outlinewidth": 0,
              "ticks": ""
             }
            },
            "type": "scattercarpet"
           }
          ],
          "scattergeo": [
           {
            "marker": {
             "colorbar": {
              "outlinewidth": 0,
              "ticks": ""
             }
            },
            "type": "scattergeo"
           }
          ],
          "scattergl": [
           {
            "marker": {
             "colorbar": {
              "outlinewidth": 0,
              "ticks": ""
             }
            },
            "type": "scattergl"
           }
          ],
          "scattermapbox": [
           {
            "marker": {
             "colorbar": {
              "outlinewidth": 0,
              "ticks": ""
             }
            },
            "type": "scattermapbox"
           }
          ],
          "scatterpolar": [
           {
            "marker": {
             "colorbar": {
              "outlinewidth": 0,
              "ticks": ""
             }
            },
            "type": "scatterpolar"
           }
          ],
          "scatterpolargl": [
           {
            "marker": {
             "colorbar": {
              "outlinewidth": 0,
              "ticks": ""
             }
            },
            "type": "scatterpolargl"
           }
          ],
          "scatterternary": [
           {
            "marker": {
             "colorbar": {
              "outlinewidth": 0,
              "ticks": ""
             }
            },
            "type": "scatterternary"
           }
          ],
          "surface": [
           {
            "colorbar": {
             "outlinewidth": 0,
             "ticks": ""
            },
            "colorscale": [
             [
              0,
              "#0d0887"
             ],
             [
              0.1111111111111111,
              "#46039f"
             ],
             [
              0.2222222222222222,
              "#7201a8"
             ],
             [
              0.3333333333333333,
              "#9c179e"
             ],
             [
              0.4444444444444444,
              "#bd3786"
             ],
             [
              0.5555555555555556,
              "#d8576b"
             ],
             [
              0.6666666666666666,
              "#ed7953"
             ],
             [
              0.7777777777777778,
              "#fb9f3a"
             ],
             [
              0.8888888888888888,
              "#fdca26"
             ],
             [
              1,
              "#f0f921"
             ]
            ],
            "type": "surface"
           }
          ],
          "table": [
           {
            "cells": {
             "fill": {
              "color": "#EBF0F8"
             },
             "line": {
              "color": "white"
             }
            },
            "header": {
             "fill": {
              "color": "#C8D4E3"
             },
             "line": {
              "color": "white"
             }
            },
            "type": "table"
           }
          ]
         },
         "layout": {
          "annotationdefaults": {
           "arrowcolor": "#2a3f5f",
           "arrowhead": 0,
           "arrowwidth": 1
          },
          "coloraxis": {
           "colorbar": {
            "outlinewidth": 0,
            "ticks": ""
           }
          },
          "colorscale": {
           "diverging": [
            [
             0,
             "#8e0152"
            ],
            [
             0.1,
             "#c51b7d"
            ],
            [
             0.2,
             "#de77ae"
            ],
            [
             0.3,
             "#f1b6da"
            ],
            [
             0.4,
             "#fde0ef"
            ],
            [
             0.5,
             "#f7f7f7"
            ],
            [
             0.6,
             "#e6f5d0"
            ],
            [
             0.7,
             "#b8e186"
            ],
            [
             0.8,
             "#7fbc41"
            ],
            [
             0.9,
             "#4d9221"
            ],
            [
             1,
             "#276419"
            ]
           ],
           "sequential": [
            [
             0,
             "#0d0887"
            ],
            [
             0.1111111111111111,
             "#46039f"
            ],
            [
             0.2222222222222222,
             "#7201a8"
            ],
            [
             0.3333333333333333,
             "#9c179e"
            ],
            [
             0.4444444444444444,
             "#bd3786"
            ],
            [
             0.5555555555555556,
             "#d8576b"
            ],
            [
             0.6666666666666666,
             "#ed7953"
            ],
            [
             0.7777777777777778,
             "#fb9f3a"
            ],
            [
             0.8888888888888888,
             "#fdca26"
            ],
            [
             1,
             "#f0f921"
            ]
           ],
           "sequentialminus": [
            [
             0,
             "#0d0887"
            ],
            [
             0.1111111111111111,
             "#46039f"
            ],
            [
             0.2222222222222222,
             "#7201a8"
            ],
            [
             0.3333333333333333,
             "#9c179e"
            ],
            [
             0.4444444444444444,
             "#bd3786"
            ],
            [
             0.5555555555555556,
             "#d8576b"
            ],
            [
             0.6666666666666666,
             "#ed7953"
            ],
            [
             0.7777777777777778,
             "#fb9f3a"
            ],
            [
             0.8888888888888888,
             "#fdca26"
            ],
            [
             1,
             "#f0f921"
            ]
           ]
          },
          "colorway": [
           "#636efa",
           "#EF553B",
           "#00cc96",
           "#ab63fa",
           "#FFA15A",
           "#19d3f3",
           "#FF6692",
           "#B6E880",
           "#FF97FF",
           "#FECB52"
          ],
          "font": {
           "color": "#2a3f5f"
          },
          "geo": {
           "bgcolor": "white",
           "lakecolor": "white",
           "landcolor": "#E5ECF6",
           "showlakes": true,
           "showland": true,
           "subunitcolor": "white"
          },
          "hoverlabel": {
           "align": "left"
          },
          "hovermode": "closest",
          "mapbox": {
           "style": "light"
          },
          "paper_bgcolor": "white",
          "plot_bgcolor": "#E5ECF6",
          "polar": {
           "angularaxis": {
            "gridcolor": "white",
            "linecolor": "white",
            "ticks": ""
           },
           "bgcolor": "#E5ECF6",
           "radialaxis": {
            "gridcolor": "white",
            "linecolor": "white",
            "ticks": ""
           }
          },
          "scene": {
           "xaxis": {
            "backgroundcolor": "#E5ECF6",
            "gridcolor": "white",
            "gridwidth": 2,
            "linecolor": "white",
            "showbackground": true,
            "ticks": "",
            "zerolinecolor": "white"
           },
           "yaxis": {
            "backgroundcolor": "#E5ECF6",
            "gridcolor": "white",
            "gridwidth": 2,
            "linecolor": "white",
            "showbackground": true,
            "ticks": "",
            "zerolinecolor": "white"
           },
           "zaxis": {
            "backgroundcolor": "#E5ECF6",
            "gridcolor": "white",
            "gridwidth": 2,
            "linecolor": "white",
            "showbackground": true,
            "ticks": "",
            "zerolinecolor": "white"
           }
          },
          "shapedefaults": {
           "line": {
            "color": "#2a3f5f"
           }
          },
          "ternary": {
           "aaxis": {
            "gridcolor": "white",
            "linecolor": "white",
            "ticks": ""
           },
           "baxis": {
            "gridcolor": "white",
            "linecolor": "white",
            "ticks": ""
           },
           "bgcolor": "#E5ECF6",
           "caxis": {
            "gridcolor": "white",
            "linecolor": "white",
            "ticks": ""
           }
          },
          "title": {
           "x": 0.05
          },
          "xaxis": {
           "automargin": true,
           "gridcolor": "white",
           "linecolor": "white",
           "ticks": "",
           "title": {
            "standoff": 15
           },
           "zerolinecolor": "white",
           "zerolinewidth": 2
          },
          "yaxis": {
           "automargin": true,
           "gridcolor": "white",
           "linecolor": "white",
           "ticks": "",
           "title": {
            "standoff": 15
           },
           "zerolinecolor": "white",
           "zerolinewidth": 2
          }
         }
        },
        "width": 600,
        "xaxis": {
         "title": {
          "text": "epoch"
         }
        },
        "yaxis": {
         "type": "log"
        }
       }
      },
      "text/html": [
       "<div>\n",
       "        \n",
       "        \n",
       "            <div id=\"a02aeb51-8612-4f89-b6b7-46732565f239\" class=\"plotly-graph-div\" style=\"height:400px; width:600px;\"></div>\n",
       "            <script type=\"text/javascript\">\n",
       "                require([\"plotly\"], function(Plotly) {\n",
       "                    window.PLOTLYENV=window.PLOTLYENV || {};\n",
       "                    \n",
       "                if (document.getElementById(\"a02aeb51-8612-4f89-b6b7-46732565f239\")) {\n",
       "                    Plotly.newPlot(\n",
       "                        'a02aeb51-8612-4f89-b6b7-46732565f239',\n",
       "                        [{\"name\": \"loss\", \"type\": \"scatter\", \"y\": [4.8391138346889635, 8.71337462404017, 0.6287047258765258, 0.11861030791595058, 0.08932847516843827, 0.08209658473217155, 0.07573844706156013, 0.06987735087256483, 0.0644701588403237, 0.05948210658389277, 0.054879740462749925, 0.05063336185580503, 0.046716162664157124, 0.04310240198166256, 0.0397678558186659, 0.03669221012762287, 0.033854251679594945, 0.031235577935964907, 0.028820198154571628, 0.02659152983084136, 0.024534548048775195, 0.022636641143488064, 0.020886412647061453, 0.01927157195698527, 0.017780626822361523, 0.016405531251581104, 0.015136892275430879, 0.013966488178674848, 0.012887194092918617, 0.011890264515708703, 0.010970495988934738, 0.010122546999269944, 0.009340004062732592, 0.008618025062672034, 0.007950774024994252, 0.007336132720879499, 0.006769334270567397, 0.006245787186059614, 0.005763264967357571, 0.005317609655057794, 0.004906422931192173, 0.004526809806539944, 0.004177168841096346, 0.00385418882608118, 0.0035560067691804043, 0.0032814108141805084, 0.0030274121924227593, 0.0027937991237632722, 0.0025774201871060433, 0.0023784119310524612, 0.0021946310931932693, 0.0020245703880326276, 0.0018682972145507434, 0.001723643980525324, 0.0015906444248192178, 0.0014679854572637032, 0.0013539992411736354, 0.0012500238127455398, 0.0011520800697514448, 0.0010633204012088626, 0.000980762928100671, 0.0009055568258964956, 0.0008352796120889098, 0.0007711262961590906, 0.0007111555835873901, 0.0006566825036688385, 0.0006052917855049831, 0.0005593292243640126, 0.0005156874545070962, 0.00047570442723200045, 0.00043949902645766607, 0.00040528356932140766, 0.000372778865961414, 0.00034437651150320706, 0.00031844352549473617, 0.00029322911940462003, 0.00027057326125478395, 0.000250060971027056, 0.0002304547745167172, 0.0002128308184830365, 0.000196230584973513, 0.00018141640828427396, 0.00016742731463404058, 0.0001545381201365885, 0.00014246924082758392, 0.0001312212194780858, 0.00012060260128493576, 0.00011188679348978225, 0.00010331532893855843, 9.532048142586516e-05, 8.777495830563633e-05, 8.11751365947886e-05, 7.435143691315791e-05, 6.907476306393315e-05, 6.454057432437375e-05, 5.871296529212982e-05, 5.376332350682429e-05, 5.051436501295123e-05, 4.6233613618980534e-05, 4.2677591627668146e-05]}, {\"name\": \"error training\", \"type\": \"scatter\", \"y\": [4.839113712310791, 8.713375091552734, 0.6287047266960144, 0.11861030757427216, 0.08932847529649734, 0.08209658414125443, 0.07573844492435455, 0.06987734884023666, 0.06447015702724457, 0.05948210507631302, 0.05487973988056183, 0.05063336342573166, 0.04671616107225418, 0.04310240224003792, 0.039767857640981674, 0.03669220954179764, 0.033854249864816666, 0.031235577538609505, 0.02882019802927971, 0.026591530069708824, 0.024534547701478004, 0.022636640816926956, 0.020886411890387535, 0.019271571189165115, 0.017780626192688942, 0.016405532136559486, 0.015136891975998878, 0.013966487720608711, 0.012887193821370602, 0.011890264227986336, 0.010970495641231537, 0.010122546926140785, 0.009340004064142704, 0.008618025109171867, 0.007950774393975735, 0.0073361326940357685, 0.006769334431737661, 0.006245787255465984, 0.005763264838606119, 0.005317609757184982, 0.004906422924250364, 0.00452680978924036, 0.004177168942987919, 0.003854188835248351, 0.003556006820872426, 0.0032814107835292816, 0.0030274121090769768, 0.00279379915446043, 0.0025774200912564993, 0.0023784118238836527, 0.0021946311462670565, 0.002024570479989052, 0.0018682972295209765, 0.0017236439744010568, 0.0015906444750726223, 0.0014679854502901435, 0.0013539992505684495, 0.0012500238372012973, 0.0011520800180733204, 0.001063320436514914, 0.0009807628812268376, 0.0009055568370968103, 0.0008352795848622918, 0.0007711263024248183, 0.0007111555896699429, 0.0006566825322806835, 0.0006052918033674359, 0.0005593292298726737, 0.0005156874540261924, 0.0004757044371217489, 0.00043949903920292854, 0.0004052835574839264, 0.000372778857126832, 0.00034437651629559696, 0.00031844351906329393, 0.0002932291245087981, 0.00027057324768975377, 0.0002500609843991697, 0.00023045478155836463, 0.00021283081150613725, 0.0001962305832421407, 0.00018141641339752823, 0.0001674273080425337, 0.0001545381237519905, 0.00014246924547478557, 0.00013122122618369758, 0.0001206025990541093, 0.00011188679491169751, 0.00010331533121643588, 9.532047988614067e-05, 8.777495531830937e-05, 8.117513789329678e-05, 7.435143925249577e-05, 6.907476199558005e-05, 6.45405743853189e-05, 5.8712965255836025e-05, 5.3763324103783816e-05, 5.051436528447084e-05, 4.6233613829826936e-05, 4.2677591409301385e-05]}, {\"name\": \"error validation\", \"type\": \"scatter\", \"y\": [9.82839584350586, 0.5578321814537048, 0.2123398333787918, 0.25265780091285706, 0.25568336248397827, 0.25395381450653076, 0.2519162893295288, 0.25005781650543213, 0.24841086566448212, 0.246956005692482, 0.24567095935344696, 0.24453195929527283, 0.24352264404296875, 0.24262726306915283, 0.24183346331119537, 0.24112729728221893, 0.240498885512352, 0.23993787169456482, 0.23943743109703064, 0.2389891892671585, 0.23858807981014252, 0.23822852969169617, 0.23790627717971802, 0.2376164048910141, 0.23735588788986206, 0.23712030053138733, 0.23690800368785858, 0.23671546578407288, 0.236542746424675, 0.23638470470905304, 0.2362423837184906, 0.23611217737197876, 0.2359963059425354, 0.2358892858028412, 0.23579208552837372, 0.2357025146484375, 0.2356218546628952, 0.23554842174053192, 0.23548173904418945, 0.23541903495788574, 0.23536346852779388, 0.23531226813793182, 0.23526480793952942, 0.23522226512432098, 0.23518213629722595, 0.23514647781848907, 0.23511318862438202, 0.23508359491825104, 0.23505480587482452, 0.23502953350543976, 0.2350049465894699, 0.2349827140569687, 0.2349633127450943, 0.23494555056095123, 0.23492884635925293, 0.2349129319190979, 0.2348981648683548, 0.23488643765449524, 0.23487213253974915, 0.23486199975013733, 0.23485137522220612, 0.2348421961069107, 0.23483440279960632, 0.2348250299692154, 0.23481811583042145, 0.2348124086856842, 0.23480524122714996, 0.23479972779750824, 0.23479413986206055, 0.23478876054286957, 0.2347850203514099, 0.23478087782859802, 0.2347765415906906, 0.2347716987133026, 0.23476973176002502, 0.23476573824882507, 0.23476313054561615, 0.23476119339466095, 0.23475885391235352, 0.2347564548254013, 0.23475459218025208, 0.23475351929664612, 0.2347513735294342, 0.2347496896982193, 0.23474743962287903, 0.2347467988729477, 0.2347445785999298, 0.23474453389644623, 0.2347438782453537, 0.23474258184432983, 0.23474262654781342, 0.23474042117595673, 0.23473988473415375, 0.23473915457725525, 0.23473875224590302, 0.23473703861236572, 0.23473700881004333, 0.234737366437912, 0.23473702371120453, 0.2347363531589508]}],\n",
       "                        {\"height\": 400, \"template\": {\"data\": {\"bar\": [{\"error_x\": {\"color\": \"#2a3f5f\"}, \"error_y\": {\"color\": \"#2a3f5f\"}, \"marker\": {\"line\": {\"color\": \"#E5ECF6\", \"width\": 0.5}}, \"type\": \"bar\"}], \"barpolar\": [{\"marker\": {\"line\": {\"color\": \"#E5ECF6\", \"width\": 0.5}}, \"type\": \"barpolar\"}], \"carpet\": [{\"aaxis\": {\"endlinecolor\": \"#2a3f5f\", \"gridcolor\": \"white\", \"linecolor\": \"white\", \"minorgridcolor\": \"white\", \"startlinecolor\": \"#2a3f5f\"}, \"baxis\": {\"endlinecolor\": \"#2a3f5f\", \"gridcolor\": \"white\", \"linecolor\": \"white\", \"minorgridcolor\": \"white\", \"startlinecolor\": \"#2a3f5f\"}, \"type\": \"carpet\"}], \"choropleth\": [{\"colorbar\": {\"outlinewidth\": 0, \"ticks\": \"\"}, \"type\": \"choropleth\"}], \"contour\": [{\"colorbar\": {\"outlinewidth\": 0, \"ticks\": \"\"}, \"colorscale\": [[0.0, \"#0d0887\"], [0.1111111111111111, \"#46039f\"], [0.2222222222222222, \"#7201a8\"], [0.3333333333333333, \"#9c179e\"], [0.4444444444444444, \"#bd3786\"], [0.5555555555555556, \"#d8576b\"], [0.6666666666666666, \"#ed7953\"], [0.7777777777777778, \"#fb9f3a\"], [0.8888888888888888, \"#fdca26\"], [1.0, \"#f0f921\"]], \"type\": \"contour\"}], \"contourcarpet\": [{\"colorbar\": {\"outlinewidth\": 0, \"ticks\": \"\"}, \"type\": \"contourcarpet\"}], \"heatmap\": [{\"colorbar\": {\"outlinewidth\": 0, \"ticks\": \"\"}, \"colorscale\": [[0.0, \"#0d0887\"], [0.1111111111111111, \"#46039f\"], [0.2222222222222222, \"#7201a8\"], [0.3333333333333333, \"#9c179e\"], [0.4444444444444444, \"#bd3786\"], [0.5555555555555556, \"#d8576b\"], [0.6666666666666666, \"#ed7953\"], [0.7777777777777778, \"#fb9f3a\"], [0.8888888888888888, \"#fdca26\"], [1.0, \"#f0f921\"]], \"type\": \"heatmap\"}], \"heatmapgl\": [{\"colorbar\": {\"outlinewidth\": 0, \"ticks\": \"\"}, \"colorscale\": [[0.0, \"#0d0887\"], [0.1111111111111111, \"#46039f\"], [0.2222222222222222, \"#7201a8\"], [0.3333333333333333, \"#9c179e\"], [0.4444444444444444, \"#bd3786\"], [0.5555555555555556, \"#d8576b\"], [0.6666666666666666, \"#ed7953\"], [0.7777777777777778, \"#fb9f3a\"], [0.8888888888888888, \"#fdca26\"], [1.0, \"#f0f921\"]], \"type\": \"heatmapgl\"}], \"histogram\": [{\"marker\": {\"colorbar\": {\"outlinewidth\": 0, \"ticks\": \"\"}}, \"type\": \"histogram\"}], \"histogram2d\": [{\"colorbar\": {\"outlinewidth\": 0, \"ticks\": \"\"}, \"colorscale\": [[0.0, \"#0d0887\"], [0.1111111111111111, \"#46039f\"], [0.2222222222222222, \"#7201a8\"], [0.3333333333333333, \"#9c179e\"], [0.4444444444444444, \"#bd3786\"], [0.5555555555555556, \"#d8576b\"], [0.6666666666666666, \"#ed7953\"], [0.7777777777777778, \"#fb9f3a\"], [0.8888888888888888, \"#fdca26\"], [1.0, \"#f0f921\"]], \"type\": \"histogram2d\"}], \"histogram2dcontour\": [{\"colorbar\": {\"outlinewidth\": 0, \"ticks\": \"\"}, \"colorscale\": [[0.0, \"#0d0887\"], [0.1111111111111111, \"#46039f\"], [0.2222222222222222, \"#7201a8\"], [0.3333333333333333, \"#9c179e\"], [0.4444444444444444, \"#bd3786\"], [0.5555555555555556, \"#d8576b\"], [0.6666666666666666, \"#ed7953\"], [0.7777777777777778, \"#fb9f3a\"], [0.8888888888888888, \"#fdca26\"], [1.0, \"#f0f921\"]], \"type\": \"histogram2dcontour\"}], \"mesh3d\": [{\"colorbar\": {\"outlinewidth\": 0, \"ticks\": \"\"}, \"type\": \"mesh3d\"}], \"parcoords\": [{\"line\": {\"colorbar\": {\"outlinewidth\": 0, \"ticks\": \"\"}}, \"type\": \"parcoords\"}], \"pie\": [{\"automargin\": true, \"type\": \"pie\"}], \"scatter\": [{\"marker\": {\"colorbar\": {\"outlinewidth\": 0, \"ticks\": \"\"}}, \"type\": \"scatter\"}], \"scatter3d\": [{\"line\": {\"colorbar\": {\"outlinewidth\": 0, \"ticks\": \"\"}}, \"marker\": {\"colorbar\": {\"outlinewidth\": 0, \"ticks\": \"\"}}, \"type\": \"scatter3d\"}], \"scattercarpet\": [{\"marker\": {\"colorbar\": {\"outlinewidth\": 0, \"ticks\": \"\"}}, \"type\": \"scattercarpet\"}], \"scattergeo\": [{\"marker\": {\"colorbar\": {\"outlinewidth\": 0, \"ticks\": \"\"}}, \"type\": \"scattergeo\"}], \"scattergl\": [{\"marker\": {\"colorbar\": {\"outlinewidth\": 0, \"ticks\": \"\"}}, \"type\": \"scattergl\"}], \"scattermapbox\": [{\"marker\": {\"colorbar\": {\"outlinewidth\": 0, \"ticks\": \"\"}}, \"type\": \"scattermapbox\"}], \"scatterpolar\": [{\"marker\": {\"colorbar\": {\"outlinewidth\": 0, \"ticks\": \"\"}}, \"type\": \"scatterpolar\"}], \"scatterpolargl\": [{\"marker\": {\"colorbar\": {\"outlinewidth\": 0, \"ticks\": \"\"}}, \"type\": \"scatterpolargl\"}], \"scatterternary\": [{\"marker\": {\"colorbar\": {\"outlinewidth\": 0, \"ticks\": \"\"}}, \"type\": \"scatterternary\"}], \"surface\": [{\"colorbar\": {\"outlinewidth\": 0, \"ticks\": \"\"}, \"colorscale\": [[0.0, \"#0d0887\"], [0.1111111111111111, \"#46039f\"], [0.2222222222222222, \"#7201a8\"], [0.3333333333333333, \"#9c179e\"], [0.4444444444444444, \"#bd3786\"], [0.5555555555555556, \"#d8576b\"], [0.6666666666666666, \"#ed7953\"], [0.7777777777777778, \"#fb9f3a\"], [0.8888888888888888, \"#fdca26\"], [1.0, \"#f0f921\"]], \"type\": \"surface\"}], \"table\": [{\"cells\": {\"fill\": {\"color\": \"#EBF0F8\"}, \"line\": {\"color\": \"white\"}}, \"header\": {\"fill\": {\"color\": \"#C8D4E3\"}, \"line\": {\"color\": \"white\"}}, \"type\": \"table\"}]}, \"layout\": {\"annotationdefaults\": {\"arrowcolor\": \"#2a3f5f\", \"arrowhead\": 0, \"arrowwidth\": 1}, \"coloraxis\": {\"colorbar\": {\"outlinewidth\": 0, \"ticks\": \"\"}}, \"colorscale\": {\"diverging\": [[0, \"#8e0152\"], [0.1, \"#c51b7d\"], [0.2, \"#de77ae\"], [0.3, \"#f1b6da\"], [0.4, \"#fde0ef\"], [0.5, \"#f7f7f7\"], [0.6, \"#e6f5d0\"], [0.7, \"#b8e186\"], [0.8, \"#7fbc41\"], [0.9, \"#4d9221\"], [1, \"#276419\"]], \"sequential\": [[0.0, \"#0d0887\"], [0.1111111111111111, \"#46039f\"], [0.2222222222222222, \"#7201a8\"], [0.3333333333333333, \"#9c179e\"], [0.4444444444444444, \"#bd3786\"], [0.5555555555555556, \"#d8576b\"], [0.6666666666666666, \"#ed7953\"], [0.7777777777777778, \"#fb9f3a\"], [0.8888888888888888, \"#fdca26\"], [1.0, \"#f0f921\"]], \"sequentialminus\": [[0.0, \"#0d0887\"], [0.1111111111111111, \"#46039f\"], [0.2222222222222222, \"#7201a8\"], [0.3333333333333333, \"#9c179e\"], [0.4444444444444444, \"#bd3786\"], [0.5555555555555556, \"#d8576b\"], [0.6666666666666666, \"#ed7953\"], [0.7777777777777778, \"#fb9f3a\"], [0.8888888888888888, \"#fdca26\"], [1.0, \"#f0f921\"]]}, \"colorway\": [\"#636efa\", \"#EF553B\", \"#00cc96\", \"#ab63fa\", \"#FFA15A\", \"#19d3f3\", \"#FF6692\", \"#B6E880\", \"#FF97FF\", \"#FECB52\"], \"font\": {\"color\": \"#2a3f5f\"}, \"geo\": {\"bgcolor\": \"white\", \"lakecolor\": \"white\", \"landcolor\": \"#E5ECF6\", \"showlakes\": true, \"showland\": true, \"subunitcolor\": \"white\"}, \"hoverlabel\": {\"align\": \"left\"}, \"hovermode\": \"closest\", \"mapbox\": {\"style\": \"light\"}, \"paper_bgcolor\": \"white\", \"plot_bgcolor\": \"#E5ECF6\", \"polar\": {\"angularaxis\": {\"gridcolor\": \"white\", \"linecolor\": \"white\", \"ticks\": \"\"}, \"bgcolor\": \"#E5ECF6\", \"radialaxis\": {\"gridcolor\": \"white\", \"linecolor\": \"white\", \"ticks\": \"\"}}, \"scene\": {\"xaxis\": {\"backgroundcolor\": \"#E5ECF6\", \"gridcolor\": \"white\", \"gridwidth\": 2, \"linecolor\": \"white\", \"showbackground\": true, \"ticks\": \"\", \"zerolinecolor\": \"white\"}, \"yaxis\": {\"backgroundcolor\": \"#E5ECF6\", \"gridcolor\": \"white\", \"gridwidth\": 2, \"linecolor\": \"white\", \"showbackground\": true, \"ticks\": \"\", \"zerolinecolor\": \"white\"}, \"zaxis\": {\"backgroundcolor\": \"#E5ECF6\", \"gridcolor\": \"white\", \"gridwidth\": 2, \"linecolor\": \"white\", \"showbackground\": true, \"ticks\": \"\", \"zerolinecolor\": \"white\"}}, \"shapedefaults\": {\"line\": {\"color\": \"#2a3f5f\"}}, \"ternary\": {\"aaxis\": {\"gridcolor\": \"white\", \"linecolor\": \"white\", \"ticks\": \"\"}, \"baxis\": {\"gridcolor\": \"white\", \"linecolor\": \"white\", \"ticks\": \"\"}, \"bgcolor\": \"#E5ECF6\", \"caxis\": {\"gridcolor\": \"white\", \"linecolor\": \"white\", \"ticks\": \"\"}}, \"title\": {\"x\": 0.05}, \"xaxis\": {\"automargin\": true, \"gridcolor\": \"white\", \"linecolor\": \"white\", \"ticks\": \"\", \"title\": {\"standoff\": 15}, \"zerolinecolor\": \"white\", \"zerolinewidth\": 2}, \"yaxis\": {\"automargin\": true, \"gridcolor\": \"white\", \"linecolor\": \"white\", \"ticks\": \"\", \"title\": {\"standoff\": 15}, \"zerolinecolor\": \"white\", \"zerolinewidth\": 2}}}, \"width\": 600, \"xaxis\": {\"title\": {\"text\": \"epoch\"}}, \"yaxis\": {\"type\": \"log\"}},\n",
       "                        {\"responsive\": true}\n",
       "                    ).then(function(){\n",
       "                            \n",
       "var gd = document.getElementById('a02aeb51-8612-4f89-b6b7-46732565f239');\n",
       "var x = new MutationObserver(function (mutations, observer) {{\n",
       "        var display = window.getComputedStyle(gd).display;\n",
       "        if (!display || display === 'none') {{\n",
       "            console.log([gd, 'removed!']);\n",
       "            Plotly.purge(gd);\n",
       "            observer.disconnect();\n",
       "        }}\n",
       "}});\n",
       "\n",
       "// Listen for the removal of the full notebook cells\n",
       "var notebookContainer = gd.closest('#notebook-container');\n",
       "if (notebookContainer) {{\n",
       "    x.observe(notebookContainer, {childList: true});\n",
       "}}\n",
       "\n",
       "// Listen for the clearing of the current output cell\n",
       "var outputEl = gd.closest('.output');\n",
       "if (outputEl) {{\n",
       "    x.observe(outputEl, {childList: true});\n",
       "}}\n",
       "\n",
       "                        })\n",
       "                };\n",
       "                });\n",
       "            </script>\n",
       "        </div>"
      ]
     },
     "metadata": {},
     "output_type": "display_data"
    }
   ],
   "source": [
    "dnn_val = keras.models.Sequential()\n",
    "dnn_val.add(keras.layers.InputLayer(input_shape=1))\n",
    "dnn_val.add(keras.layers.Dense(8, activation='tanh',\n",
    "            kernel_initializer=tf.random_uniform_initializer(minval=-10, maxval=10)\n",
    "            ))\n",
    "dnn_val.add(keras.layers.Dense(1, activation=\"linear\",\n",
    "            kernel_initializer=tf.random_uniform_initializer(minval=-10, maxval=10)\n",
    "            ))\n",
    "\n",
    "n_epochs = 100\n",
    "metric_lr = np.zeros((n_epochs,))\n",
    "initial_learning_rate = 0.1\n",
    "final_learning_rate = 0.1\n",
    "dnn_val.compile(loss='mse', optimizer=optimr, metrics=['mse','mae'])\n",
    "\n",
    "history = dnn_val.fit(x_t, y_t,           \n",
    "                  validation_data=(x_v,y_v),         \n",
    "                  epochs=n_epochs,\n",
    "                  batch_size=int(x_t.size),\n",
    "                  callbacks = [lr_callback,print_dots()], \n",
    "                  verbose = 0)\n",
    "\n",
    "fig = go.Figure()\n",
    "fig.add_trace(go.Scatter(x=x_t, y=y_t, mode='markers', name='training'))\n",
    "x_p = np.linspace(-1,1,256)\n",
    "fig.add_trace(go.Scatter(x=x_p, mode='lines',                        \n",
    "                         y=np.array(dnn_val.predict(x_p)).reshape((x_p.size,)),\n",
    "                         name='prediction'))\n",
    "fig.update_layout(height=400, width=600)\n",
    "fig.show()\n",
    "\n",
    "fig = go.Figure()\n",
    "plot_history(fig, history)\n",
    "fig.show()"
   ]
  },
  {
   "cell_type": "code",
   "execution_count": 11,
   "metadata": {
    "colab": {
     "base_uri": "https://localhost:8080/",
     "height": 869
    },
    "colab_type": "code",
    "id": "jvNkafrfMn2U",
    "outputId": "64264185-d65c-405a-dcb2-b37d5683047d"
   },
   "outputs": [
    {
     "name": "stdout",
     "output_type": "stream",
     "text": [
      "\n",
      "..........\n",
      "Training is complete\n"
     ]
    },
    {
     "data": {
      "application/vnd.plotly.v1+json": {
       "config": {
        "plotlyServerURL": "https://plot.ly"
       },
       "data": [
        {
         "mode": "markers",
         "name": "training",
         "type": "scatter",
         "x": [
          -1,
          -0.10000000149011612,
          0.10000000149011612,
          1
         ],
         "y": [
          -1,
          0,
          0,
          1
         ]
        },
        {
         "mode": "lines",
         "name": "prediction",
         "type": "scatter",
         "x": [
          -1,
          -0.9921568627450981,
          -0.9843137254901961,
          -0.9764705882352941,
          -0.9686274509803922,
          -0.9607843137254902,
          -0.9529411764705882,
          -0.9450980392156862,
          -0.9372549019607843,
          -0.9294117647058824,
          -0.9215686274509804,
          -0.9137254901960784,
          -0.9058823529411765,
          -0.8980392156862745,
          -0.8901960784313725,
          -0.8823529411764706,
          -0.8745098039215686,
          -0.8666666666666667,
          -0.8588235294117648,
          -0.8509803921568627,
          -0.8431372549019608,
          -0.8352941176470589,
          -0.8274509803921568,
          -0.8196078431372549,
          -0.8117647058823529,
          -0.803921568627451,
          -0.7960784313725491,
          -0.788235294117647,
          -0.7803921568627451,
          -0.7725490196078432,
          -0.7647058823529411,
          -0.7568627450980392,
          -0.7490196078431373,
          -0.7411764705882353,
          -0.7333333333333334,
          -0.7254901960784313,
          -0.7176470588235294,
          -0.7098039215686275,
          -0.7019607843137254,
          -0.6941176470588235,
          -0.6862745098039216,
          -0.6784313725490196,
          -0.6705882352941177,
          -0.6627450980392157,
          -0.6549019607843137,
          -0.6470588235294118,
          -0.6392156862745098,
          -0.6313725490196078,
          -0.6235294117647059,
          -0.615686274509804,
          -0.607843137254902,
          -0.6,
          -0.592156862745098,
          -0.5843137254901961,
          -0.5764705882352941,
          -0.5686274509803921,
          -0.5607843137254902,
          -0.5529411764705883,
          -0.5450980392156863,
          -0.5372549019607843,
          -0.5294117647058824,
          -0.5215686274509804,
          -0.5137254901960784,
          -0.5058823529411764,
          -0.4980392156862745,
          -0.4901960784313726,
          -0.48235294117647065,
          -0.4745098039215686,
          -0.4666666666666667,
          -0.45882352941176474,
          -0.4509803921568627,
          -0.44313725490196076,
          -0.43529411764705883,
          -0.4274509803921569,
          -0.41960784313725497,
          -0.4117647058823529,
          -0.403921568627451,
          -0.39607843137254906,
          -0.388235294117647,
          -0.3803921568627451,
          -0.37254901960784315,
          -0.3647058823529412,
          -0.3568627450980393,
          -0.34901960784313724,
          -0.3411764705882353,
          -0.33333333333333337,
          -0.3254901960784313,
          -0.3176470588235294,
          -0.30980392156862746,
          -0.3019607843137255,
          -0.2941176470588236,
          -0.28627450980392155,
          -0.2784313725490196,
          -0.2705882352941177,
          -0.26274509803921564,
          -0.2549019607843137,
          -0.24705882352941178,
          -0.23921568627450984,
          -0.2313725490196079,
          -0.22352941176470587,
          -0.21568627450980393,
          -0.207843137254902,
          -0.19999999999999996,
          -0.19215686274509802,
          -0.1843137254901961,
          -0.17647058823529416,
          -0.16862745098039222,
          -0.16078431372549018,
          -0.15294117647058825,
          -0.14509803921568631,
          -0.13725490196078427,
          -0.12941176470588234,
          -0.1215686274509804,
          -0.11372549019607847,
          -0.10588235294117654,
          -0.0980392156862745,
          -0.09019607843137256,
          -0.08235294117647063,
          -0.07450980392156858,
          -0.06666666666666665,
          -0.05882352941176472,
          -0.050980392156862786,
          -0.04313725490196085,
          -0.03529411764705881,
          -0.027450980392156876,
          -0.019607843137254943,
          -0.0117647058823529,
          -0.0039215686274509665,
          0.0039215686274509665,
          0.0117647058823529,
          0.019607843137254832,
          0.027450980392156765,
          0.0352941176470587,
          0.04313725490196085,
          0.050980392156862786,
          0.05882352941176472,
          0.06666666666666665,
          0.07450980392156858,
          0.08235294117647052,
          0.09019607843137245,
          0.0980392156862746,
          0.10588235294117654,
          0.11372549019607847,
          0.1215686274509804,
          0.12941176470588234,
          0.13725490196078427,
          0.1450980392156862,
          0.15294117647058814,
          0.16078431372549007,
          0.16862745098039222,
          0.17647058823529416,
          0.1843137254901961,
          0.19215686274509802,
          0.19999999999999996,
          0.2078431372549019,
          0.21568627450980382,
          0.22352941176470598,
          0.2313725490196079,
          0.23921568627450984,
          0.24705882352941178,
          0.2549019607843137,
          0.26274509803921564,
          0.2705882352941176,
          0.2784313725490195,
          0.28627450980392144,
          0.2941176470588236,
          0.3019607843137255,
          0.30980392156862746,
          0.3176470588235294,
          0.3254901960784313,
          0.33333333333333326,
          0.3411764705882352,
          0.34901960784313735,
          0.3568627450980393,
          0.3647058823529412,
          0.37254901960784315,
          0.3803921568627451,
          0.388235294117647,
          0.39607843137254894,
          0.4039215686274509,
          0.4117647058823528,
          0.41960784313725497,
          0.4274509803921569,
          0.43529411764705883,
          0.44313725490196076,
          0.4509803921568627,
          0.45882352941176463,
          0.46666666666666656,
          0.4745098039215687,
          0.48235294117647065,
          0.4901960784313726,
          0.4980392156862745,
          0.5058823529411764,
          0.5137254901960784,
          0.5215686274509803,
          0.5294117647058822,
          0.5372549019607842,
          0.5450980392156863,
          0.5529411764705883,
          0.5607843137254902,
          0.5686274509803921,
          0.5764705882352941,
          0.584313725490196,
          0.5921568627450979,
          0.6000000000000001,
          0.607843137254902,
          0.615686274509804,
          0.6235294117647059,
          0.6313725490196078,
          0.6392156862745098,
          0.6470588235294117,
          0.6549019607843136,
          0.6627450980392156,
          0.6705882352941177,
          0.6784313725490196,
          0.6862745098039216,
          0.6941176470588235,
          0.7019607843137254,
          0.7098039215686274,
          0.7176470588235293,
          0.7254901960784315,
          0.7333333333333334,
          0.7411764705882353,
          0.7490196078431373,
          0.7568627450980392,
          0.7647058823529411,
          0.7725490196078431,
          0.780392156862745,
          0.7882352941176469,
          0.7960784313725491,
          0.803921568627451,
          0.8117647058823529,
          0.8196078431372549,
          0.8274509803921568,
          0.8352941176470587,
          0.8431372549019607,
          0.8509803921568628,
          0.8588235294117648,
          0.8666666666666667,
          0.8745098039215686,
          0.8823529411764706,
          0.8901960784313725,
          0.8980392156862744,
          0.9058823529411764,
          0.9137254901960783,
          0.9215686274509804,
          0.9294117647058824,
          0.9372549019607843,
          0.9450980392156862,
          0.9529411764705882,
          0.9607843137254901,
          0.968627450980392,
          0.9764705882352942,
          0.9843137254901961,
          0.9921568627450981,
          1
         ],
         "y": [
          -0.9790772795677185,
          -0.9746462106704712,
          -0.9701651930809021,
          -0.9656340479850769,
          -0.9610522985458374,
          -0.9564194679260254,
          -0.9517356157302856,
          -0.9470000267028809,
          -0.9422127604484558,
          -0.9373733997344971,
          -0.9324815273284912,
          -0.9275369644165039,
          -0.9225393533706665,
          -0.917488694190979,
          -0.9123841524124146,
          -0.9072259068489075,
          -0.9020135998725891,
          -0.8967470526695251,
          -0.8914257884025574,
          -0.8860499262809753,
          -0.8806188106536865,
          -0.8751325011253357,
          -0.8695906400680542,
          -0.8639932870864868,
          -0.8583400249481201,
          -0.852630615234375,
          -0.8468649387359619,
          -0.8410430550575256,
          -0.8351643681526184,
          -0.8292290568351746,
          -0.8232369422912598,
          -0.8171878457069397,
          -0.8110816478729248,
          -0.8049182295799255,
          -0.7986975312232971,
          -0.7924194931983948,
          -0.786083996295929,
          -0.7796909809112549,
          -0.773240327835083,
          -0.7667320966720581,
          -0.7601664066314697,
          -0.753542959690094,
          -0.7468618750572205,
          -0.7401232719421387,
          -0.7333270907402039,
          -0.7264732122421265,
          -0.7195620536804199,
          -0.7125933766365051,
          -0.705567479133606,
          -0.6984842419624329,
          -0.6913440227508545,
          -0.6841466426849365,
          -0.6768925786018372,
          -0.6695817708969116,
          -0.6622146368026733,
          -0.6547911167144775,
          -0.6473114490509033,
          -0.6397760510444641,
          -0.6321849226951599,
          -0.6245384216308594,
          -0.6168367862701416,
          -0.6090804934501648,
          -0.6012696623802185,
          -0.5934045910835266,
          -0.5854856371879578,
          -0.5775132775306702,
          -0.5694878101348877,
          -0.5614096522331238,
          -0.5532792210578918,
          -0.5450968742370605,
          -0.5368630886077881,
          -0.5285783410072327,
          -0.5202430486679077,
          -0.511857807636261,
          -0.5034230947494507,
          -0.4949394762516022,
          -0.4864073693752289,
          -0.47782737016677856,
          -0.4692002236843109,
          -0.46052637696266174,
          -0.4518064856529236,
          -0.44304123520851135,
          -0.4342311918735504,
          -0.4253770411014557,
          -0.4164794981479645,
          -0.4075392484664917,
          -0.39855706691741943,
          -0.3895335793495178,
          -0.3804696500301361,
          -0.3713659942150116,
          -0.362223356962204,
          -0.35304251313209534,
          -0.34382447600364685,
          -0.3345698416233063,
          -0.3252795338630676,
          -0.3159545063972473,
          -0.30659547448158264,
          -0.2972033619880676,
          -0.28777918219566345,
          -0.2783237397670746,
          -0.2688380181789398,
          -0.2593229115009308,
          -0.24977944791316986,
          -0.24020852148532867,
          -0.23061108589172363,
          -0.2209881991147995,
          -0.21134087443351746,
          -0.20167005062103271,
          -0.19197677075862885,
          -0.1822621077299118,
          -0.17252705991268158,
          -0.16277265548706055,
          -0.15299999713897705,
          -0.14321015775203705,
          -0.13340415060520172,
          -0.12358314543962479,
          -0.11374814063310623,
          -0.10390027612447739,
          -0.0940406322479248,
          -0.08417034894227982,
          -0.07429049164056778,
          -0.06440219283103943,
          -0.0545065775513649,
          -0.04460475593805313,
          -0.03469786047935486,
          -0.02478700876235962,
          -0.014873337931931019,
          -0.0049579693004488945,
          0.004957965575158596,
          0.014873333275318146,
          0.02478700876235962,
          0.03469786047935486,
          0.04460475593805313,
          0.0545065775513649,
          0.06440219283103943,
          0.07429049164056778,
          0.08417034894227982,
          0.0940406322479248,
          0.10390027612447739,
          0.11374814063310623,
          0.12358314543962479,
          0.13340415060520172,
          0.14321015775203705,
          0.15299999713897705,
          0.16277265548706055,
          0.17252705991268158,
          0.1822621077299118,
          0.19197677075862885,
          0.20167005062103271,
          0.21134087443351746,
          0.2209881991147995,
          0.23061108589172363,
          0.24020852148532867,
          0.24977944791316986,
          0.2593229115009308,
          0.2688380181789398,
          0.2783237397670746,
          0.28777918219566345,
          0.2972033619880676,
          0.30659547448158264,
          0.3159545063972473,
          0.3252795338630676,
          0.3345698416233063,
          0.34382447600364685,
          0.35304251313209534,
          0.362223356962204,
          0.3713659942150116,
          0.3804696500301361,
          0.3895335793495178,
          0.39855706691741943,
          0.4075392484664917,
          0.4164794981479645,
          0.4253770411014557,
          0.4342311918735504,
          0.44304123520851135,
          0.4518064856529236,
          0.46052637696266174,
          0.4692002236843109,
          0.47782737016677856,
          0.4864073693752289,
          0.4949394762516022,
          0.5034230947494507,
          0.511857807636261,
          0.5202430486679077,
          0.5285783410072327,
          0.5368630886077881,
          0.5450968742370605,
          0.5532792210578918,
          0.5614096522331238,
          0.5694878101348877,
          0.5775132775306702,
          0.5854856371879578,
          0.5934045910835266,
          0.6012696623802185,
          0.6090804934501648,
          0.6168367862701416,
          0.6245384216308594,
          0.6321849226951599,
          0.6397760510444641,
          0.6473114490509033,
          0.6547911167144775,
          0.6622146368026733,
          0.6695817708969116,
          0.6768925786018372,
          0.6841466426849365,
          0.6913440227508545,
          0.6984842419624329,
          0.705567479133606,
          0.7125933766365051,
          0.7195620536804199,
          0.7264732122421265,
          0.7333270907402039,
          0.7401232719421387,
          0.7468618750572205,
          0.753542959690094,
          0.7601664066314697,
          0.7667320966720581,
          0.773240327835083,
          0.7796909809112549,
          0.786083996295929,
          0.7924194931983948,
          0.7986975312232971,
          0.8049182295799255,
          0.8110816478729248,
          0.8171878457069397,
          0.8232369422912598,
          0.8292290568351746,
          0.8351643681526184,
          0.8410430550575256,
          0.8468649387359619,
          0.852630615234375,
          0.8583400249481201,
          0.8639932870864868,
          0.8695906400680542,
          0.8751325011253357,
          0.8806188106536865,
          0.8860499262809753,
          0.8914257884025574,
          0.8967470526695251,
          0.9020135998725891,
          0.9072259068489075,
          0.9123841524124146,
          0.917488694190979,
          0.9225393533706665,
          0.9275369644165039,
          0.9324815273284912,
          0.9373733997344971,
          0.9422127604484558,
          0.9470000267028809,
          0.9517356157302856,
          0.9564194679260254,
          0.9610522985458374,
          0.9656340479850769,
          0.9701651930809021,
          0.9746462106704712,
          0.9790772795677185
         ]
        }
       ],
       "layout": {
        "height": 400,
        "template": {
         "data": {
          "bar": [
           {
            "error_x": {
             "color": "#2a3f5f"
            },
            "error_y": {
             "color": "#2a3f5f"
            },
            "marker": {
             "line": {
              "color": "#E5ECF6",
              "width": 0.5
             }
            },
            "type": "bar"
           }
          ],
          "barpolar": [
           {
            "marker": {
             "line": {
              "color": "#E5ECF6",
              "width": 0.5
             }
            },
            "type": "barpolar"
           }
          ],
          "carpet": [
           {
            "aaxis": {
             "endlinecolor": "#2a3f5f",
             "gridcolor": "white",
             "linecolor": "white",
             "minorgridcolor": "white",
             "startlinecolor": "#2a3f5f"
            },
            "baxis": {
             "endlinecolor": "#2a3f5f",
             "gridcolor": "white",
             "linecolor": "white",
             "minorgridcolor": "white",
             "startlinecolor": "#2a3f5f"
            },
            "type": "carpet"
           }
          ],
          "choropleth": [
           {
            "colorbar": {
             "outlinewidth": 0,
             "ticks": ""
            },
            "type": "choropleth"
           }
          ],
          "contour": [
           {
            "colorbar": {
             "outlinewidth": 0,
             "ticks": ""
            },
            "colorscale": [
             [
              0,
              "#0d0887"
             ],
             [
              0.1111111111111111,
              "#46039f"
             ],
             [
              0.2222222222222222,
              "#7201a8"
             ],
             [
              0.3333333333333333,
              "#9c179e"
             ],
             [
              0.4444444444444444,
              "#bd3786"
             ],
             [
              0.5555555555555556,
              "#d8576b"
             ],
             [
              0.6666666666666666,
              "#ed7953"
             ],
             [
              0.7777777777777778,
              "#fb9f3a"
             ],
             [
              0.8888888888888888,
              "#fdca26"
             ],
             [
              1,
              "#f0f921"
             ]
            ],
            "type": "contour"
           }
          ],
          "contourcarpet": [
           {
            "colorbar": {
             "outlinewidth": 0,
             "ticks": ""
            },
            "type": "contourcarpet"
           }
          ],
          "heatmap": [
           {
            "colorbar": {
             "outlinewidth": 0,
             "ticks": ""
            },
            "colorscale": [
             [
              0,
              "#0d0887"
             ],
             [
              0.1111111111111111,
              "#46039f"
             ],
             [
              0.2222222222222222,
              "#7201a8"
             ],
             [
              0.3333333333333333,
              "#9c179e"
             ],
             [
              0.4444444444444444,
              "#bd3786"
             ],
             [
              0.5555555555555556,
              "#d8576b"
             ],
             [
              0.6666666666666666,
              "#ed7953"
             ],
             [
              0.7777777777777778,
              "#fb9f3a"
             ],
             [
              0.8888888888888888,
              "#fdca26"
             ],
             [
              1,
              "#f0f921"
             ]
            ],
            "type": "heatmap"
           }
          ],
          "heatmapgl": [
           {
            "colorbar": {
             "outlinewidth": 0,
             "ticks": ""
            },
            "colorscale": [
             [
              0,
              "#0d0887"
             ],
             [
              0.1111111111111111,
              "#46039f"
             ],
             [
              0.2222222222222222,
              "#7201a8"
             ],
             [
              0.3333333333333333,
              "#9c179e"
             ],
             [
              0.4444444444444444,
              "#bd3786"
             ],
             [
              0.5555555555555556,
              "#d8576b"
             ],
             [
              0.6666666666666666,
              "#ed7953"
             ],
             [
              0.7777777777777778,
              "#fb9f3a"
             ],
             [
              0.8888888888888888,
              "#fdca26"
             ],
             [
              1,
              "#f0f921"
             ]
            ],
            "type": "heatmapgl"
           }
          ],
          "histogram": [
           {
            "marker": {
             "colorbar": {
              "outlinewidth": 0,
              "ticks": ""
             }
            },
            "type": "histogram"
           }
          ],
          "histogram2d": [
           {
            "colorbar": {
             "outlinewidth": 0,
             "ticks": ""
            },
            "colorscale": [
             [
              0,
              "#0d0887"
             ],
             [
              0.1111111111111111,
              "#46039f"
             ],
             [
              0.2222222222222222,
              "#7201a8"
             ],
             [
              0.3333333333333333,
              "#9c179e"
             ],
             [
              0.4444444444444444,
              "#bd3786"
             ],
             [
              0.5555555555555556,
              "#d8576b"
             ],
             [
              0.6666666666666666,
              "#ed7953"
             ],
             [
              0.7777777777777778,
              "#fb9f3a"
             ],
             [
              0.8888888888888888,
              "#fdca26"
             ],
             [
              1,
              "#f0f921"
             ]
            ],
            "type": "histogram2d"
           }
          ],
          "histogram2dcontour": [
           {
            "colorbar": {
             "outlinewidth": 0,
             "ticks": ""
            },
            "colorscale": [
             [
              0,
              "#0d0887"
             ],
             [
              0.1111111111111111,
              "#46039f"
             ],
             [
              0.2222222222222222,
              "#7201a8"
             ],
             [
              0.3333333333333333,
              "#9c179e"
             ],
             [
              0.4444444444444444,
              "#bd3786"
             ],
             [
              0.5555555555555556,
              "#d8576b"
             ],
             [
              0.6666666666666666,
              "#ed7953"
             ],
             [
              0.7777777777777778,
              "#fb9f3a"
             ],
             [
              0.8888888888888888,
              "#fdca26"
             ],
             [
              1,
              "#f0f921"
             ]
            ],
            "type": "histogram2dcontour"
           }
          ],
          "mesh3d": [
           {
            "colorbar": {
             "outlinewidth": 0,
             "ticks": ""
            },
            "type": "mesh3d"
           }
          ],
          "parcoords": [
           {
            "line": {
             "colorbar": {
              "outlinewidth": 0,
              "ticks": ""
             }
            },
            "type": "parcoords"
           }
          ],
          "pie": [
           {
            "automargin": true,
            "type": "pie"
           }
          ],
          "scatter": [
           {
            "marker": {
             "colorbar": {
              "outlinewidth": 0,
              "ticks": ""
             }
            },
            "type": "scatter"
           }
          ],
          "scatter3d": [
           {
            "line": {
             "colorbar": {
              "outlinewidth": 0,
              "ticks": ""
             }
            },
            "marker": {
             "colorbar": {
              "outlinewidth": 0,
              "ticks": ""
             }
            },
            "type": "scatter3d"
           }
          ],
          "scattercarpet": [
           {
            "marker": {
             "colorbar": {
              "outlinewidth": 0,
              "ticks": ""
             }
            },
            "type": "scattercarpet"
           }
          ],
          "scattergeo": [
           {
            "marker": {
             "colorbar": {
              "outlinewidth": 0,
              "ticks": ""
             }
            },
            "type": "scattergeo"
           }
          ],
          "scattergl": [
           {
            "marker": {
             "colorbar": {
              "outlinewidth": 0,
              "ticks": ""
             }
            },
            "type": "scattergl"
           }
          ],
          "scattermapbox": [
           {
            "marker": {
             "colorbar": {
              "outlinewidth": 0,
              "ticks": ""
             }
            },
            "type": "scattermapbox"
           }
          ],
          "scatterpolar": [
           {
            "marker": {
             "colorbar": {
              "outlinewidth": 0,
              "ticks": ""
             }
            },
            "type": "scatterpolar"
           }
          ],
          "scatterpolargl": [
           {
            "marker": {
             "colorbar": {
              "outlinewidth": 0,
              "ticks": ""
             }
            },
            "type": "scatterpolargl"
           }
          ],
          "scatterternary": [
           {
            "marker": {
             "colorbar": {
              "outlinewidth": 0,
              "ticks": ""
             }
            },
            "type": "scatterternary"
           }
          ],
          "surface": [
           {
            "colorbar": {
             "outlinewidth": 0,
             "ticks": ""
            },
            "colorscale": [
             [
              0,
              "#0d0887"
             ],
             [
              0.1111111111111111,
              "#46039f"
             ],
             [
              0.2222222222222222,
              "#7201a8"
             ],
             [
              0.3333333333333333,
              "#9c179e"
             ],
             [
              0.4444444444444444,
              "#bd3786"
             ],
             [
              0.5555555555555556,
              "#d8576b"
             ],
             [
              0.6666666666666666,
              "#ed7953"
             ],
             [
              0.7777777777777778,
              "#fb9f3a"
             ],
             [
              0.8888888888888888,
              "#fdca26"
             ],
             [
              1,
              "#f0f921"
             ]
            ],
            "type": "surface"
           }
          ],
          "table": [
           {
            "cells": {
             "fill": {
              "color": "#EBF0F8"
             },
             "line": {
              "color": "white"
             }
            },
            "header": {
             "fill": {
              "color": "#C8D4E3"
             },
             "line": {
              "color": "white"
             }
            },
            "type": "table"
           }
          ]
         },
         "layout": {
          "annotationdefaults": {
           "arrowcolor": "#2a3f5f",
           "arrowhead": 0,
           "arrowwidth": 1
          },
          "coloraxis": {
           "colorbar": {
            "outlinewidth": 0,
            "ticks": ""
           }
          },
          "colorscale": {
           "diverging": [
            [
             0,
             "#8e0152"
            ],
            [
             0.1,
             "#c51b7d"
            ],
            [
             0.2,
             "#de77ae"
            ],
            [
             0.3,
             "#f1b6da"
            ],
            [
             0.4,
             "#fde0ef"
            ],
            [
             0.5,
             "#f7f7f7"
            ],
            [
             0.6,
             "#e6f5d0"
            ],
            [
             0.7,
             "#b8e186"
            ],
            [
             0.8,
             "#7fbc41"
            ],
            [
             0.9,
             "#4d9221"
            ],
            [
             1,
             "#276419"
            ]
           ],
           "sequential": [
            [
             0,
             "#0d0887"
            ],
            [
             0.1111111111111111,
             "#46039f"
            ],
            [
             0.2222222222222222,
             "#7201a8"
            ],
            [
             0.3333333333333333,
             "#9c179e"
            ],
            [
             0.4444444444444444,
             "#bd3786"
            ],
            [
             0.5555555555555556,
             "#d8576b"
            ],
            [
             0.6666666666666666,
             "#ed7953"
            ],
            [
             0.7777777777777778,
             "#fb9f3a"
            ],
            [
             0.8888888888888888,
             "#fdca26"
            ],
            [
             1,
             "#f0f921"
            ]
           ],
           "sequentialminus": [
            [
             0,
             "#0d0887"
            ],
            [
             0.1111111111111111,
             "#46039f"
            ],
            [
             0.2222222222222222,
             "#7201a8"
            ],
            [
             0.3333333333333333,
             "#9c179e"
            ],
            [
             0.4444444444444444,
             "#bd3786"
            ],
            [
             0.5555555555555556,
             "#d8576b"
            ],
            [
             0.6666666666666666,
             "#ed7953"
            ],
            [
             0.7777777777777778,
             "#fb9f3a"
            ],
            [
             0.8888888888888888,
             "#fdca26"
            ],
            [
             1,
             "#f0f921"
            ]
           ]
          },
          "colorway": [
           "#636efa",
           "#EF553B",
           "#00cc96",
           "#ab63fa",
           "#FFA15A",
           "#19d3f3",
           "#FF6692",
           "#B6E880",
           "#FF97FF",
           "#FECB52"
          ],
          "font": {
           "color": "#2a3f5f"
          },
          "geo": {
           "bgcolor": "white",
           "lakecolor": "white",
           "landcolor": "#E5ECF6",
           "showlakes": true,
           "showland": true,
           "subunitcolor": "white"
          },
          "hoverlabel": {
           "align": "left"
          },
          "hovermode": "closest",
          "mapbox": {
           "style": "light"
          },
          "paper_bgcolor": "white",
          "plot_bgcolor": "#E5ECF6",
          "polar": {
           "angularaxis": {
            "gridcolor": "white",
            "linecolor": "white",
            "ticks": ""
           },
           "bgcolor": "#E5ECF6",
           "radialaxis": {
            "gridcolor": "white",
            "linecolor": "white",
            "ticks": ""
           }
          },
          "scene": {
           "xaxis": {
            "backgroundcolor": "#E5ECF6",
            "gridcolor": "white",
            "gridwidth": 2,
            "linecolor": "white",
            "showbackground": true,
            "ticks": "",
            "zerolinecolor": "white"
           },
           "yaxis": {
            "backgroundcolor": "#E5ECF6",
            "gridcolor": "white",
            "gridwidth": 2,
            "linecolor": "white",
            "showbackground": true,
            "ticks": "",
            "zerolinecolor": "white"
           },
           "zaxis": {
            "backgroundcolor": "#E5ECF6",
            "gridcolor": "white",
            "gridwidth": 2,
            "linecolor": "white",
            "showbackground": true,
            "ticks": "",
            "zerolinecolor": "white"
           }
          },
          "shapedefaults": {
           "line": {
            "color": "#2a3f5f"
           }
          },
          "ternary": {
           "aaxis": {
            "gridcolor": "white",
            "linecolor": "white",
            "ticks": ""
           },
           "baxis": {
            "gridcolor": "white",
            "linecolor": "white",
            "ticks": ""
           },
           "bgcolor": "#E5ECF6",
           "caxis": {
            "gridcolor": "white",
            "linecolor": "white",
            "ticks": ""
           }
          },
          "title": {
           "x": 0.05
          },
          "xaxis": {
           "automargin": true,
           "gridcolor": "white",
           "linecolor": "white",
           "ticks": "",
           "title": {
            "standoff": 15
           },
           "zerolinecolor": "white",
           "zerolinewidth": 2
          },
          "yaxis": {
           "automargin": true,
           "gridcolor": "white",
           "linecolor": "white",
           "ticks": "",
           "title": {
            "standoff": 15
           },
           "zerolinecolor": "white",
           "zerolinewidth": 2
          }
         }
        },
        "width": 600
       }
      },
      "text/html": [
       "<div>\n",
       "        \n",
       "        \n",
       "            <div id=\"5b2b0613-8052-4d1c-90ba-432826de5acb\" class=\"plotly-graph-div\" style=\"height:400px; width:600px;\"></div>\n",
       "            <script type=\"text/javascript\">\n",
       "                require([\"plotly\"], function(Plotly) {\n",
       "                    window.PLOTLYENV=window.PLOTLYENV || {};\n",
       "                    \n",
       "                if (document.getElementById(\"5b2b0613-8052-4d1c-90ba-432826de5acb\")) {\n",
       "                    Plotly.newPlot(\n",
       "                        '5b2b0613-8052-4d1c-90ba-432826de5acb',\n",
       "                        [{\"mode\": \"markers\", \"name\": \"training\", \"type\": \"scatter\", \"x\": [-1.0, -0.10000000149011612, 0.10000000149011612, 1.0], \"y\": [-1.0, 0.0, 0.0, 1.0]}, {\"mode\": \"lines\", \"name\": \"prediction\", \"type\": \"scatter\", \"x\": [-1.0, -0.9921568627450981, -0.9843137254901961, -0.9764705882352941, -0.9686274509803922, -0.9607843137254902, -0.9529411764705882, -0.9450980392156862, -0.9372549019607843, -0.9294117647058824, -0.9215686274509804, -0.9137254901960784, -0.9058823529411765, -0.8980392156862745, -0.8901960784313725, -0.8823529411764706, -0.8745098039215686, -0.8666666666666667, -0.8588235294117648, -0.8509803921568627, -0.8431372549019608, -0.8352941176470589, -0.8274509803921568, -0.8196078431372549, -0.8117647058823529, -0.803921568627451, -0.7960784313725491, -0.788235294117647, -0.7803921568627451, -0.7725490196078432, -0.7647058823529411, -0.7568627450980392, -0.7490196078431373, -0.7411764705882353, -0.7333333333333334, -0.7254901960784313, -0.7176470588235294, -0.7098039215686275, -0.7019607843137254, -0.6941176470588235, -0.6862745098039216, -0.6784313725490196, -0.6705882352941177, -0.6627450980392157, -0.6549019607843137, -0.6470588235294118, -0.6392156862745098, -0.6313725490196078, -0.6235294117647059, -0.615686274509804, -0.607843137254902, -0.6, -0.592156862745098, -0.5843137254901961, -0.5764705882352941, -0.5686274509803921, -0.5607843137254902, -0.5529411764705883, -0.5450980392156863, -0.5372549019607843, -0.5294117647058824, -0.5215686274509804, -0.5137254901960784, -0.5058823529411764, -0.4980392156862745, -0.4901960784313726, -0.48235294117647065, -0.4745098039215686, -0.4666666666666667, -0.45882352941176474, -0.4509803921568627, -0.44313725490196076, -0.43529411764705883, -0.4274509803921569, -0.41960784313725497, -0.4117647058823529, -0.403921568627451, -0.39607843137254906, -0.388235294117647, -0.3803921568627451, -0.37254901960784315, -0.3647058823529412, -0.3568627450980393, -0.34901960784313724, -0.3411764705882353, -0.33333333333333337, -0.3254901960784313, -0.3176470588235294, -0.30980392156862746, -0.3019607843137255, -0.2941176470588236, -0.28627450980392155, -0.2784313725490196, -0.2705882352941177, -0.26274509803921564, -0.2549019607843137, -0.24705882352941178, -0.23921568627450984, -0.2313725490196079, -0.22352941176470587, -0.21568627450980393, -0.207843137254902, -0.19999999999999996, -0.19215686274509802, -0.1843137254901961, -0.17647058823529416, -0.16862745098039222, -0.16078431372549018, -0.15294117647058825, -0.14509803921568631, -0.13725490196078427, -0.12941176470588234, -0.1215686274509804, -0.11372549019607847, -0.10588235294117654, -0.0980392156862745, -0.09019607843137256, -0.08235294117647063, -0.07450980392156858, -0.06666666666666665, -0.05882352941176472, -0.050980392156862786, -0.04313725490196085, -0.03529411764705881, -0.027450980392156876, -0.019607843137254943, -0.0117647058823529, -0.0039215686274509665, 0.0039215686274509665, 0.0117647058823529, 0.019607843137254832, 0.027450980392156765, 0.0352941176470587, 0.04313725490196085, 0.050980392156862786, 0.05882352941176472, 0.06666666666666665, 0.07450980392156858, 0.08235294117647052, 0.09019607843137245, 0.0980392156862746, 0.10588235294117654, 0.11372549019607847, 0.1215686274509804, 0.12941176470588234, 0.13725490196078427, 0.1450980392156862, 0.15294117647058814, 0.16078431372549007, 0.16862745098039222, 0.17647058823529416, 0.1843137254901961, 0.19215686274509802, 0.19999999999999996, 0.2078431372549019, 0.21568627450980382, 0.22352941176470598, 0.2313725490196079, 0.23921568627450984, 0.24705882352941178, 0.2549019607843137, 0.26274509803921564, 0.2705882352941176, 0.2784313725490195, 0.28627450980392144, 0.2941176470588236, 0.3019607843137255, 0.30980392156862746, 0.3176470588235294, 0.3254901960784313, 0.33333333333333326, 0.3411764705882352, 0.34901960784313735, 0.3568627450980393, 0.3647058823529412, 0.37254901960784315, 0.3803921568627451, 0.388235294117647, 0.39607843137254894, 0.4039215686274509, 0.4117647058823528, 0.41960784313725497, 0.4274509803921569, 0.43529411764705883, 0.44313725490196076, 0.4509803921568627, 0.45882352941176463, 0.46666666666666656, 0.4745098039215687, 0.48235294117647065, 0.4901960784313726, 0.4980392156862745, 0.5058823529411764, 0.5137254901960784, 0.5215686274509803, 0.5294117647058822, 0.5372549019607842, 0.5450980392156863, 0.5529411764705883, 0.5607843137254902, 0.5686274509803921, 0.5764705882352941, 0.584313725490196, 0.5921568627450979, 0.6000000000000001, 0.607843137254902, 0.615686274509804, 0.6235294117647059, 0.6313725490196078, 0.6392156862745098, 0.6470588235294117, 0.6549019607843136, 0.6627450980392156, 0.6705882352941177, 0.6784313725490196, 0.6862745098039216, 0.6941176470588235, 0.7019607843137254, 0.7098039215686274, 0.7176470588235293, 0.7254901960784315, 0.7333333333333334, 0.7411764705882353, 0.7490196078431373, 0.7568627450980392, 0.7647058823529411, 0.7725490196078431, 0.780392156862745, 0.7882352941176469, 0.7960784313725491, 0.803921568627451, 0.8117647058823529, 0.8196078431372549, 0.8274509803921568, 0.8352941176470587, 0.8431372549019607, 0.8509803921568628, 0.8588235294117648, 0.8666666666666667, 0.8745098039215686, 0.8823529411764706, 0.8901960784313725, 0.8980392156862744, 0.9058823529411764, 0.9137254901960783, 0.9215686274509804, 0.9294117647058824, 0.9372549019607843, 0.9450980392156862, 0.9529411764705882, 0.9607843137254901, 0.968627450980392, 0.9764705882352942, 0.9843137254901961, 0.9921568627450981, 1.0], \"y\": [-0.9790772795677185, -0.9746462106704712, -0.9701651930809021, -0.9656340479850769, -0.9610522985458374, -0.9564194679260254, -0.9517356157302856, -0.9470000267028809, -0.9422127604484558, -0.9373733997344971, -0.9324815273284912, -0.9275369644165039, -0.9225393533706665, -0.917488694190979, -0.9123841524124146, -0.9072259068489075, -0.9020135998725891, -0.8967470526695251, -0.8914257884025574, -0.8860499262809753, -0.8806188106536865, -0.8751325011253357, -0.8695906400680542, -0.8639932870864868, -0.8583400249481201, -0.852630615234375, -0.8468649387359619, -0.8410430550575256, -0.8351643681526184, -0.8292290568351746, -0.8232369422912598, -0.8171878457069397, -0.8110816478729248, -0.8049182295799255, -0.7986975312232971, -0.7924194931983948, -0.786083996295929, -0.7796909809112549, -0.773240327835083, -0.7667320966720581, -0.7601664066314697, -0.753542959690094, -0.7468618750572205, -0.7401232719421387, -0.7333270907402039, -0.7264732122421265, -0.7195620536804199, -0.7125933766365051, -0.705567479133606, -0.6984842419624329, -0.6913440227508545, -0.6841466426849365, -0.6768925786018372, -0.6695817708969116, -0.6622146368026733, -0.6547911167144775, -0.6473114490509033, -0.6397760510444641, -0.6321849226951599, -0.6245384216308594, -0.6168367862701416, -0.6090804934501648, -0.6012696623802185, -0.5934045910835266, -0.5854856371879578, -0.5775132775306702, -0.5694878101348877, -0.5614096522331238, -0.5532792210578918, -0.5450968742370605, -0.5368630886077881, -0.5285783410072327, -0.5202430486679077, -0.511857807636261, -0.5034230947494507, -0.4949394762516022, -0.4864073693752289, -0.47782737016677856, -0.4692002236843109, -0.46052637696266174, -0.4518064856529236, -0.44304123520851135, -0.4342311918735504, -0.4253770411014557, -0.4164794981479645, -0.4075392484664917, -0.39855706691741943, -0.3895335793495178, -0.3804696500301361, -0.3713659942150116, -0.362223356962204, -0.35304251313209534, -0.34382447600364685, -0.3345698416233063, -0.3252795338630676, -0.3159545063972473, -0.30659547448158264, -0.2972033619880676, -0.28777918219566345, -0.2783237397670746, -0.2688380181789398, -0.2593229115009308, -0.24977944791316986, -0.24020852148532867, -0.23061108589172363, -0.2209881991147995, -0.21134087443351746, -0.20167005062103271, -0.19197677075862885, -0.1822621077299118, -0.17252705991268158, -0.16277265548706055, -0.15299999713897705, -0.14321015775203705, -0.13340415060520172, -0.12358314543962479, -0.11374814063310623, -0.10390027612447739, -0.0940406322479248, -0.08417034894227982, -0.07429049164056778, -0.06440219283103943, -0.0545065775513649, -0.04460475593805313, -0.03469786047935486, -0.02478700876235962, -0.014873337931931019, -0.0049579693004488945, 0.004957965575158596, 0.014873333275318146, 0.02478700876235962, 0.03469786047935486, 0.04460475593805313, 0.0545065775513649, 0.06440219283103943, 0.07429049164056778, 0.08417034894227982, 0.0940406322479248, 0.10390027612447739, 0.11374814063310623, 0.12358314543962479, 0.13340415060520172, 0.14321015775203705, 0.15299999713897705, 0.16277265548706055, 0.17252705991268158, 0.1822621077299118, 0.19197677075862885, 0.20167005062103271, 0.21134087443351746, 0.2209881991147995, 0.23061108589172363, 0.24020852148532867, 0.24977944791316986, 0.2593229115009308, 0.2688380181789398, 0.2783237397670746, 0.28777918219566345, 0.2972033619880676, 0.30659547448158264, 0.3159545063972473, 0.3252795338630676, 0.3345698416233063, 0.34382447600364685, 0.35304251313209534, 0.362223356962204, 0.3713659942150116, 0.3804696500301361, 0.3895335793495178, 0.39855706691741943, 0.4075392484664917, 0.4164794981479645, 0.4253770411014557, 0.4342311918735504, 0.44304123520851135, 0.4518064856529236, 0.46052637696266174, 0.4692002236843109, 0.47782737016677856, 0.4864073693752289, 0.4949394762516022, 0.5034230947494507, 0.511857807636261, 0.5202430486679077, 0.5285783410072327, 0.5368630886077881, 0.5450968742370605, 0.5532792210578918, 0.5614096522331238, 0.5694878101348877, 0.5775132775306702, 0.5854856371879578, 0.5934045910835266, 0.6012696623802185, 0.6090804934501648, 0.6168367862701416, 0.6245384216308594, 0.6321849226951599, 0.6397760510444641, 0.6473114490509033, 0.6547911167144775, 0.6622146368026733, 0.6695817708969116, 0.6768925786018372, 0.6841466426849365, 0.6913440227508545, 0.6984842419624329, 0.705567479133606, 0.7125933766365051, 0.7195620536804199, 0.7264732122421265, 0.7333270907402039, 0.7401232719421387, 0.7468618750572205, 0.753542959690094, 0.7601664066314697, 0.7667320966720581, 0.773240327835083, 0.7796909809112549, 0.786083996295929, 0.7924194931983948, 0.7986975312232971, 0.8049182295799255, 0.8110816478729248, 0.8171878457069397, 0.8232369422912598, 0.8292290568351746, 0.8351643681526184, 0.8410430550575256, 0.8468649387359619, 0.852630615234375, 0.8583400249481201, 0.8639932870864868, 0.8695906400680542, 0.8751325011253357, 0.8806188106536865, 0.8860499262809753, 0.8914257884025574, 0.8967470526695251, 0.9020135998725891, 0.9072259068489075, 0.9123841524124146, 0.917488694190979, 0.9225393533706665, 0.9275369644165039, 0.9324815273284912, 0.9373733997344971, 0.9422127604484558, 0.9470000267028809, 0.9517356157302856, 0.9564194679260254, 0.9610522985458374, 0.9656340479850769, 0.9701651930809021, 0.9746462106704712, 0.9790772795677185]}],\n",
       "                        {\"height\": 400, \"template\": {\"data\": {\"bar\": [{\"error_x\": {\"color\": \"#2a3f5f\"}, \"error_y\": {\"color\": \"#2a3f5f\"}, \"marker\": {\"line\": {\"color\": \"#E5ECF6\", \"width\": 0.5}}, \"type\": \"bar\"}], \"barpolar\": [{\"marker\": {\"line\": {\"color\": \"#E5ECF6\", \"width\": 0.5}}, \"type\": \"barpolar\"}], \"carpet\": [{\"aaxis\": {\"endlinecolor\": \"#2a3f5f\", \"gridcolor\": \"white\", \"linecolor\": \"white\", \"minorgridcolor\": \"white\", \"startlinecolor\": \"#2a3f5f\"}, \"baxis\": {\"endlinecolor\": \"#2a3f5f\", \"gridcolor\": \"white\", \"linecolor\": \"white\", \"minorgridcolor\": \"white\", \"startlinecolor\": \"#2a3f5f\"}, \"type\": \"carpet\"}], \"choropleth\": [{\"colorbar\": {\"outlinewidth\": 0, \"ticks\": \"\"}, \"type\": \"choropleth\"}], \"contour\": [{\"colorbar\": {\"outlinewidth\": 0, \"ticks\": \"\"}, \"colorscale\": [[0.0, \"#0d0887\"], [0.1111111111111111, \"#46039f\"], [0.2222222222222222, \"#7201a8\"], [0.3333333333333333, \"#9c179e\"], [0.4444444444444444, \"#bd3786\"], [0.5555555555555556, \"#d8576b\"], [0.6666666666666666, \"#ed7953\"], [0.7777777777777778, \"#fb9f3a\"], [0.8888888888888888, \"#fdca26\"], [1.0, \"#f0f921\"]], \"type\": \"contour\"}], \"contourcarpet\": [{\"colorbar\": {\"outlinewidth\": 0, \"ticks\": \"\"}, \"type\": \"contourcarpet\"}], \"heatmap\": [{\"colorbar\": {\"outlinewidth\": 0, \"ticks\": \"\"}, \"colorscale\": [[0.0, \"#0d0887\"], [0.1111111111111111, \"#46039f\"], [0.2222222222222222, \"#7201a8\"], [0.3333333333333333, \"#9c179e\"], [0.4444444444444444, \"#bd3786\"], [0.5555555555555556, \"#d8576b\"], [0.6666666666666666, \"#ed7953\"], [0.7777777777777778, \"#fb9f3a\"], [0.8888888888888888, \"#fdca26\"], [1.0, \"#f0f921\"]], \"type\": \"heatmap\"}], \"heatmapgl\": [{\"colorbar\": {\"outlinewidth\": 0, \"ticks\": \"\"}, \"colorscale\": [[0.0, \"#0d0887\"], [0.1111111111111111, \"#46039f\"], [0.2222222222222222, \"#7201a8\"], [0.3333333333333333, \"#9c179e\"], [0.4444444444444444, \"#bd3786\"], [0.5555555555555556, \"#d8576b\"], [0.6666666666666666, \"#ed7953\"], [0.7777777777777778, \"#fb9f3a\"], [0.8888888888888888, \"#fdca26\"], [1.0, \"#f0f921\"]], \"type\": \"heatmapgl\"}], \"histogram\": [{\"marker\": {\"colorbar\": {\"outlinewidth\": 0, \"ticks\": \"\"}}, \"type\": \"histogram\"}], \"histogram2d\": [{\"colorbar\": {\"outlinewidth\": 0, \"ticks\": \"\"}, \"colorscale\": [[0.0, \"#0d0887\"], [0.1111111111111111, \"#46039f\"], [0.2222222222222222, \"#7201a8\"], [0.3333333333333333, \"#9c179e\"], [0.4444444444444444, \"#bd3786\"], [0.5555555555555556, \"#d8576b\"], [0.6666666666666666, \"#ed7953\"], [0.7777777777777778, \"#fb9f3a\"], [0.8888888888888888, \"#fdca26\"], [1.0, \"#f0f921\"]], \"type\": \"histogram2d\"}], \"histogram2dcontour\": [{\"colorbar\": {\"outlinewidth\": 0, \"ticks\": \"\"}, \"colorscale\": [[0.0, \"#0d0887\"], [0.1111111111111111, \"#46039f\"], [0.2222222222222222, \"#7201a8\"], [0.3333333333333333, \"#9c179e\"], [0.4444444444444444, \"#bd3786\"], [0.5555555555555556, \"#d8576b\"], [0.6666666666666666, \"#ed7953\"], [0.7777777777777778, \"#fb9f3a\"], [0.8888888888888888, \"#fdca26\"], [1.0, \"#f0f921\"]], \"type\": \"histogram2dcontour\"}], \"mesh3d\": [{\"colorbar\": {\"outlinewidth\": 0, \"ticks\": \"\"}, \"type\": \"mesh3d\"}], \"parcoords\": [{\"line\": {\"colorbar\": {\"outlinewidth\": 0, \"ticks\": \"\"}}, \"type\": \"parcoords\"}], \"pie\": [{\"automargin\": true, \"type\": \"pie\"}], \"scatter\": [{\"marker\": {\"colorbar\": {\"outlinewidth\": 0, \"ticks\": \"\"}}, \"type\": \"scatter\"}], \"scatter3d\": [{\"line\": {\"colorbar\": {\"outlinewidth\": 0, \"ticks\": \"\"}}, \"marker\": {\"colorbar\": {\"outlinewidth\": 0, \"ticks\": \"\"}}, \"type\": \"scatter3d\"}], \"scattercarpet\": [{\"marker\": {\"colorbar\": {\"outlinewidth\": 0, \"ticks\": \"\"}}, \"type\": \"scattercarpet\"}], \"scattergeo\": [{\"marker\": {\"colorbar\": {\"outlinewidth\": 0, \"ticks\": \"\"}}, \"type\": \"scattergeo\"}], \"scattergl\": [{\"marker\": {\"colorbar\": {\"outlinewidth\": 0, \"ticks\": \"\"}}, \"type\": \"scattergl\"}], \"scattermapbox\": [{\"marker\": {\"colorbar\": {\"outlinewidth\": 0, \"ticks\": \"\"}}, \"type\": \"scattermapbox\"}], \"scatterpolar\": [{\"marker\": {\"colorbar\": {\"outlinewidth\": 0, \"ticks\": \"\"}}, \"type\": \"scatterpolar\"}], \"scatterpolargl\": [{\"marker\": {\"colorbar\": {\"outlinewidth\": 0, \"ticks\": \"\"}}, \"type\": \"scatterpolargl\"}], \"scatterternary\": [{\"marker\": {\"colorbar\": {\"outlinewidth\": 0, \"ticks\": \"\"}}, \"type\": \"scatterternary\"}], \"surface\": [{\"colorbar\": {\"outlinewidth\": 0, \"ticks\": \"\"}, \"colorscale\": [[0.0, \"#0d0887\"], [0.1111111111111111, \"#46039f\"], [0.2222222222222222, \"#7201a8\"], [0.3333333333333333, \"#9c179e\"], [0.4444444444444444, \"#bd3786\"], [0.5555555555555556, \"#d8576b\"], [0.6666666666666666, \"#ed7953\"], [0.7777777777777778, \"#fb9f3a\"], [0.8888888888888888, \"#fdca26\"], [1.0, \"#f0f921\"]], \"type\": \"surface\"}], \"table\": [{\"cells\": {\"fill\": {\"color\": \"#EBF0F8\"}, \"line\": {\"color\": \"white\"}}, \"header\": {\"fill\": {\"color\": \"#C8D4E3\"}, \"line\": {\"color\": \"white\"}}, \"type\": \"table\"}]}, \"layout\": {\"annotationdefaults\": {\"arrowcolor\": \"#2a3f5f\", \"arrowhead\": 0, \"arrowwidth\": 1}, \"coloraxis\": {\"colorbar\": {\"outlinewidth\": 0, \"ticks\": \"\"}}, \"colorscale\": {\"diverging\": [[0, \"#8e0152\"], [0.1, \"#c51b7d\"], [0.2, \"#de77ae\"], [0.3, \"#f1b6da\"], [0.4, \"#fde0ef\"], [0.5, \"#f7f7f7\"], [0.6, \"#e6f5d0\"], [0.7, \"#b8e186\"], [0.8, \"#7fbc41\"], [0.9, \"#4d9221\"], [1, \"#276419\"]], \"sequential\": [[0.0, \"#0d0887\"], [0.1111111111111111, \"#46039f\"], [0.2222222222222222, \"#7201a8\"], [0.3333333333333333, \"#9c179e\"], [0.4444444444444444, \"#bd3786\"], [0.5555555555555556, \"#d8576b\"], [0.6666666666666666, \"#ed7953\"], [0.7777777777777778, \"#fb9f3a\"], [0.8888888888888888, \"#fdca26\"], [1.0, \"#f0f921\"]], \"sequentialminus\": [[0.0, \"#0d0887\"], [0.1111111111111111, \"#46039f\"], [0.2222222222222222, \"#7201a8\"], [0.3333333333333333, \"#9c179e\"], [0.4444444444444444, \"#bd3786\"], [0.5555555555555556, \"#d8576b\"], [0.6666666666666666, \"#ed7953\"], [0.7777777777777778, \"#fb9f3a\"], [0.8888888888888888, \"#fdca26\"], [1.0, \"#f0f921\"]]}, \"colorway\": [\"#636efa\", \"#EF553B\", \"#00cc96\", \"#ab63fa\", \"#FFA15A\", \"#19d3f3\", \"#FF6692\", \"#B6E880\", \"#FF97FF\", \"#FECB52\"], \"font\": {\"color\": \"#2a3f5f\"}, \"geo\": {\"bgcolor\": \"white\", \"lakecolor\": \"white\", \"landcolor\": \"#E5ECF6\", \"showlakes\": true, \"showland\": true, \"subunitcolor\": \"white\"}, \"hoverlabel\": {\"align\": \"left\"}, \"hovermode\": \"closest\", \"mapbox\": {\"style\": \"light\"}, \"paper_bgcolor\": \"white\", \"plot_bgcolor\": \"#E5ECF6\", \"polar\": {\"angularaxis\": {\"gridcolor\": \"white\", \"linecolor\": \"white\", \"ticks\": \"\"}, \"bgcolor\": \"#E5ECF6\", \"radialaxis\": {\"gridcolor\": \"white\", \"linecolor\": \"white\", \"ticks\": \"\"}}, \"scene\": {\"xaxis\": {\"backgroundcolor\": \"#E5ECF6\", \"gridcolor\": \"white\", \"gridwidth\": 2, \"linecolor\": \"white\", \"showbackground\": true, \"ticks\": \"\", \"zerolinecolor\": \"white\"}, \"yaxis\": {\"backgroundcolor\": \"#E5ECF6\", \"gridcolor\": \"white\", \"gridwidth\": 2, \"linecolor\": \"white\", \"showbackground\": true, \"ticks\": \"\", \"zerolinecolor\": \"white\"}, \"zaxis\": {\"backgroundcolor\": \"#E5ECF6\", \"gridcolor\": \"white\", \"gridwidth\": 2, \"linecolor\": \"white\", \"showbackground\": true, \"ticks\": \"\", \"zerolinecolor\": \"white\"}}, \"shapedefaults\": {\"line\": {\"color\": \"#2a3f5f\"}}, \"ternary\": {\"aaxis\": {\"gridcolor\": \"white\", \"linecolor\": \"white\", \"ticks\": \"\"}, \"baxis\": {\"gridcolor\": \"white\", \"linecolor\": \"white\", \"ticks\": \"\"}, \"bgcolor\": \"#E5ECF6\", \"caxis\": {\"gridcolor\": \"white\", \"linecolor\": \"white\", \"ticks\": \"\"}}, \"title\": {\"x\": 0.05}, \"xaxis\": {\"automargin\": true, \"gridcolor\": \"white\", \"linecolor\": \"white\", \"ticks\": \"\", \"title\": {\"standoff\": 15}, \"zerolinecolor\": \"white\", \"zerolinewidth\": 2}, \"yaxis\": {\"automargin\": true, \"gridcolor\": \"white\", \"linecolor\": \"white\", \"ticks\": \"\", \"title\": {\"standoff\": 15}, \"zerolinecolor\": \"white\", \"zerolinewidth\": 2}}}, \"width\": 600},\n",
       "                        {\"responsive\": true}\n",
       "                    ).then(function(){\n",
       "                            \n",
       "var gd = document.getElementById('5b2b0613-8052-4d1c-90ba-432826de5acb');\n",
       "var x = new MutationObserver(function (mutations, observer) {{\n",
       "        var display = window.getComputedStyle(gd).display;\n",
       "        if (!display || display === 'none') {{\n",
       "            console.log([gd, 'removed!']);\n",
       "            Plotly.purge(gd);\n",
       "            observer.disconnect();\n",
       "        }}\n",
       "}});\n",
       "\n",
       "// Listen for the removal of the full notebook cells\n",
       "var notebookContainer = gd.closest('#notebook-container');\n",
       "if (notebookContainer) {{\n",
       "    x.observe(notebookContainer, {childList: true});\n",
       "}}\n",
       "\n",
       "// Listen for the clearing of the current output cell\n",
       "var outputEl = gd.closest('.output');\n",
       "if (outputEl) {{\n",
       "    x.observe(outputEl, {childList: true});\n",
       "}}\n",
       "\n",
       "                        })\n",
       "                };\n",
       "                });\n",
       "            </script>\n",
       "        </div>"
      ]
     },
     "metadata": {},
     "output_type": "display_data"
    },
    {
     "data": {
      "application/vnd.plotly.v1+json": {
       "config": {
        "plotlyServerURL": "https://plot.ly"
       },
       "data": [
        {
         "name": "loss",
         "type": "scatter",
         "y": [
          0.6212846234764718,
          0.5977612322187155,
          0.5735658060331692,
          0.5486801599623637,
          0.5231866662562578,
          0.4972452781332225,
          0.47106922522328804,
          0.4449001712210976,
          0.41898672970649453,
          0.3935667656117121,
          0.3688547753335577,
          0.34503387067221225,
          0.32225233108381723,
          0.3006235427583203,
          0.2802274978682917,
          0.2611147472720794,
          0.24330992709116703,
          0.2268161422660945,
          0.21161875386830287,
          0.19768902691562898,
          0.18498680513920232,
          0.1734632670532979,
          0.16306297917293797,
          0.15372513217166586,
          0.14538525534035038,
          0.13797623135597334,
          0.13142913645139184,
          0.12567448438520046,
          0.12064276439057829,
          0.1162657648466869,
          0.11247685959369955,
          0.10921236276027443,
          0.10641194616803434,
          0.10401934298723514,
          0.10198261411831942,
          0.10025444776759256,
          0.09879228711097647,
          0.09755821552527869,
          0.0965187775904616,
          0.0956447676409744,
          0.09491070811201541,
          0.0942948621173166,
          0.09377840724349502,
          0.09334534495765902,
          0.09298212772577427,
          0.09267726732194104,
          0.09242110859898983,
          0.09220560873914409,
          0.09202385800666571,
          0.09187021775028545,
          0.09173992094605347,
          0.09162900163966163,
          0.09153415745773165,
          0.09145260739795091,
          0.09138211946598863,
          0.09132080710423415,
          0.09126705612036276,
          0.09121960878507014,
          0.09117735136136455,
          0.0911393867211053,
          0.09110498421231888,
          0.09107353942375587,
          0.09104453884143611,
          0.09101753457976311,
          0.09099223159614726,
          0.09096829857971402,
          0.09094551644270849,
          0.09092374777123009,
          0.09090269105841711,
          0.09088233655157132,
          0.09086251560106877,
          0.09084315679229858,
          0.09082418351486289,
          0.09080553447305739,
          0.09078714831686045,
          0.0907689995551269,
          0.0907510267559533,
          0.09073321975950062,
          0.09071555813060174,
          0.09069801114901334,
          0.09068059428683434,
          0.09066322030428617,
          0.09064598169462956,
          0.09062876035847013,
          0.09061161283567087,
          0.09059454944826312,
          0.0905775239745858,
          0.09056054157801129,
          0.09054361256867917,
          0.09052671125699248,
          0.09050985823794251,
          0.09049303810103863,
          0.09047626630495624,
          0.0904595171379306,
          0.09044278546385034,
          0.09042612278876389,
          0.09040946219328884,
          0.09039282943622404,
          0.09037626060026122,
          0.09035968872614802
         ]
        },
        {
         "name": "error training",
         "type": "scatter",
         "y": [
          0.6212846040725708,
          0.5977612137794495,
          0.5735657811164856,
          0.5486801862716675,
          0.5231866836547852,
          0.49724528193473816,
          0.47106921672821045,
          0.44490018486976624,
          0.4189867377281189,
          0.393566757440567,
          0.3688547611236572,
          0.3450338840484619,
          0.3222523331642151,
          0.3006235361099243,
          0.28022751212120056,
          0.2611147463321686,
          0.24330992996692657,
          0.22681614756584167,
          0.21161875128746033,
          0.197689026594162,
          0.18498679995536804,
          0.17346327006816864,
          0.16306297481060028,
          0.15372513234615326,
          0.1453852504491806,
          0.13797622919082642,
          0.13142913579940796,
          0.12567448616027832,
          0.1206427663564682,
          0.11626576632261276,
          0.11247686296701431,
          0.10921236127614975,
          0.10641194880008698,
          0.10401934385299683,
          0.10198261588811874,
          0.10025444626808167,
          0.09879228472709656,
          0.09755821526050568,
          0.09651877731084824,
          0.0956447646021843,
          0.09491071105003357,
          0.09429486095905304,
          0.09377840906381607,
          0.09334534406661987,
          0.09298212826251984,
          0.09267726540565491,
          0.09242110699415207,
          0.09220560640096664,
          0.09202385693788528,
          0.09187021851539612,
          0.09173992276191711,
          0.09162899851799011,
          0.09153416007757187,
          0.09145260602235794,
          0.09138211607933044,
          0.09132080525159836,
          0.09126705676317215,
          0.09121961146593094,
          0.09117735177278519,
          0.09113938361406326,
          0.09110498428344727,
          0.09107354283332825,
          0.09104453772306442,
          0.09101753681898117,
          0.09099223464727402,
          0.0909682959318161,
          0.0909455195069313,
          0.0909237489104271,
          0.09090269356966019,
          0.09088233858346939,
          0.09086251258850098,
          0.09084315598011017,
          0.0908241868019104,
          0.0908055379986763,
          0.09078714996576309,
          0.09076900035142899,
          0.0907510295510292,
          0.09073322266340256,
          0.09071555733680725,
          0.0906980112195015,
          0.09068059176206589,
          0.09066321700811386,
          0.09064598381519318,
          0.09062875807285309,
          0.09061161428689957,
          0.09059455245733261,
          0.09057752043008804,
          0.09056054055690765,
          0.09054361283779144,
          0.09052671492099762,
          0.09050986170768738,
          0.09049303829669952,
          0.09047626703977585,
          0.09045951813459396,
          0.09044278413057327,
          0.09042612463235855,
          0.09040946513414383,
          0.0903928279876709,
          0.09037625789642334,
          0.09035968780517578
         ]
        },
        {
         "name": "error validation",
         "type": "scatter",
         "y": [
          0.5527912378311157,
          0.529949426651001,
          0.5063084363937378,
          0.4819280505180359,
          0.45694562792778015,
          0.4315546751022339,
          0.4059823453426361,
          0.3804687559604645,
          0.3552495539188385,
          0.3305429518222809,
          0.30654048919677734,
          0.2834025025367737,
          0.26125699281692505,
          0.24020010232925415,
          0.22029942274093628,
          0.20159707963466644,
          0.1841142177581787,
          0.1678546965122223,
          0.15280920267105103,
          0.1389583945274353,
          0.1262761503458023,
          0.11473197489976883,
          0.10429272800683975,
          0.09492401033639908,
          0.08659098297357559,
          0.07925784587860107,
          0.07288729399442673,
          0.0674385204911232,
          0.06286555528640747,
          0.059114426374435425,
          0.05612223595380783,
          0.05381673946976662,
          0.052118003368377686,
          0.05094149708747864,
          0.05020209029316902,
          0.04981831833720207,
          0.04971570149064064,
          0.04982854053378105,
          0.050101183354854584,
          0.050487615168094635,
          0.05095084384083748,
          0.051461610943078995,
          0.05199739336967468,
          0.052541133016347885,
          0.05308011919260025,
          0.05360507220029831,
          0.05410970747470856,
          0.054589517414569855,
          0.055041857063770294,
          0.055465228855609894,
          0.05585911497473717,
          0.0562235563993454,
          0.05655916780233383,
          0.056866880506277084,
          0.05714789032936096,
          0.057403627783060074,
          0.05763540044426918,
          0.057844702154397964,
          0.05803300067782402,
          0.05820173770189285,
          0.058352354913949966,
          0.0584862045943737,
          0.05860448628664017,
          0.05870847776532173,
          0.05879925563931465,
          0.05887794867157936,
          0.05894555523991585,
          0.05900290980935097,
          0.059051014482975006,
          0.0590905100107193,
          0.05912225320935249,
          0.05914686620235443,
          0.05916499346494675,
          0.05917717143893242,
          0.059183958917856216,
          0.059185851365327835,
          0.059183258563280106,
          0.059176623821258545,
          0.05916615575551987,
          0.05915246158838272,
          0.059135645627975464,
          0.05911611020565033,
          0.05909400433301926,
          0.05906962975859642,
          0.059043142944574356,
          0.05901484936475754,
          0.05898476019501686,
          0.058953240513801575,
          0.058920230716466904,
          0.058886028826236725,
          0.05885066092014313,
          0.058814242482185364,
          0.05877691134810448,
          0.05873876437544823,
          0.05869987607002258,
          0.05866025388240814,
          0.05862008407711983,
          0.058579303324222565,
          0.058538082987070084,
          0.05849642679095268
         ]
        }
       ],
       "layout": {
        "height": 400,
        "template": {
         "data": {
          "bar": [
           {
            "error_x": {
             "color": "#2a3f5f"
            },
            "error_y": {
             "color": "#2a3f5f"
            },
            "marker": {
             "line": {
              "color": "#E5ECF6",
              "width": 0.5
             }
            },
            "type": "bar"
           }
          ],
          "barpolar": [
           {
            "marker": {
             "line": {
              "color": "#E5ECF6",
              "width": 0.5
             }
            },
            "type": "barpolar"
           }
          ],
          "carpet": [
           {
            "aaxis": {
             "endlinecolor": "#2a3f5f",
             "gridcolor": "white",
             "linecolor": "white",
             "minorgridcolor": "white",
             "startlinecolor": "#2a3f5f"
            },
            "baxis": {
             "endlinecolor": "#2a3f5f",
             "gridcolor": "white",
             "linecolor": "white",
             "minorgridcolor": "white",
             "startlinecolor": "#2a3f5f"
            },
            "type": "carpet"
           }
          ],
          "choropleth": [
           {
            "colorbar": {
             "outlinewidth": 0,
             "ticks": ""
            },
            "type": "choropleth"
           }
          ],
          "contour": [
           {
            "colorbar": {
             "outlinewidth": 0,
             "ticks": ""
            },
            "colorscale": [
             [
              0,
              "#0d0887"
             ],
             [
              0.1111111111111111,
              "#46039f"
             ],
             [
              0.2222222222222222,
              "#7201a8"
             ],
             [
              0.3333333333333333,
              "#9c179e"
             ],
             [
              0.4444444444444444,
              "#bd3786"
             ],
             [
              0.5555555555555556,
              "#d8576b"
             ],
             [
              0.6666666666666666,
              "#ed7953"
             ],
             [
              0.7777777777777778,
              "#fb9f3a"
             ],
             [
              0.8888888888888888,
              "#fdca26"
             ],
             [
              1,
              "#f0f921"
             ]
            ],
            "type": "contour"
           }
          ],
          "contourcarpet": [
           {
            "colorbar": {
             "outlinewidth": 0,
             "ticks": ""
            },
            "type": "contourcarpet"
           }
          ],
          "heatmap": [
           {
            "colorbar": {
             "outlinewidth": 0,
             "ticks": ""
            },
            "colorscale": [
             [
              0,
              "#0d0887"
             ],
             [
              0.1111111111111111,
              "#46039f"
             ],
             [
              0.2222222222222222,
              "#7201a8"
             ],
             [
              0.3333333333333333,
              "#9c179e"
             ],
             [
              0.4444444444444444,
              "#bd3786"
             ],
             [
              0.5555555555555556,
              "#d8576b"
             ],
             [
              0.6666666666666666,
              "#ed7953"
             ],
             [
              0.7777777777777778,
              "#fb9f3a"
             ],
             [
              0.8888888888888888,
              "#fdca26"
             ],
             [
              1,
              "#f0f921"
             ]
            ],
            "type": "heatmap"
           }
          ],
          "heatmapgl": [
           {
            "colorbar": {
             "outlinewidth": 0,
             "ticks": ""
            },
            "colorscale": [
             [
              0,
              "#0d0887"
             ],
             [
              0.1111111111111111,
              "#46039f"
             ],
             [
              0.2222222222222222,
              "#7201a8"
             ],
             [
              0.3333333333333333,
              "#9c179e"
             ],
             [
              0.4444444444444444,
              "#bd3786"
             ],
             [
              0.5555555555555556,
              "#d8576b"
             ],
             [
              0.6666666666666666,
              "#ed7953"
             ],
             [
              0.7777777777777778,
              "#fb9f3a"
             ],
             [
              0.8888888888888888,
              "#fdca26"
             ],
             [
              1,
              "#f0f921"
             ]
            ],
            "type": "heatmapgl"
           }
          ],
          "histogram": [
           {
            "marker": {
             "colorbar": {
              "outlinewidth": 0,
              "ticks": ""
             }
            },
            "type": "histogram"
           }
          ],
          "histogram2d": [
           {
            "colorbar": {
             "outlinewidth": 0,
             "ticks": ""
            },
            "colorscale": [
             [
              0,
              "#0d0887"
             ],
             [
              0.1111111111111111,
              "#46039f"
             ],
             [
              0.2222222222222222,
              "#7201a8"
             ],
             [
              0.3333333333333333,
              "#9c179e"
             ],
             [
              0.4444444444444444,
              "#bd3786"
             ],
             [
              0.5555555555555556,
              "#d8576b"
             ],
             [
              0.6666666666666666,
              "#ed7953"
             ],
             [
              0.7777777777777778,
              "#fb9f3a"
             ],
             [
              0.8888888888888888,
              "#fdca26"
             ],
             [
              1,
              "#f0f921"
             ]
            ],
            "type": "histogram2d"
           }
          ],
          "histogram2dcontour": [
           {
            "colorbar": {
             "outlinewidth": 0,
             "ticks": ""
            },
            "colorscale": [
             [
              0,
              "#0d0887"
             ],
             [
              0.1111111111111111,
              "#46039f"
             ],
             [
              0.2222222222222222,
              "#7201a8"
             ],
             [
              0.3333333333333333,
              "#9c179e"
             ],
             [
              0.4444444444444444,
              "#bd3786"
             ],
             [
              0.5555555555555556,
              "#d8576b"
             ],
             [
              0.6666666666666666,
              "#ed7953"
             ],
             [
              0.7777777777777778,
              "#fb9f3a"
             ],
             [
              0.8888888888888888,
              "#fdca26"
             ],
             [
              1,
              "#f0f921"
             ]
            ],
            "type": "histogram2dcontour"
           }
          ],
          "mesh3d": [
           {
            "colorbar": {
             "outlinewidth": 0,
             "ticks": ""
            },
            "type": "mesh3d"
           }
          ],
          "parcoords": [
           {
            "line": {
             "colorbar": {
              "outlinewidth": 0,
              "ticks": ""
             }
            },
            "type": "parcoords"
           }
          ],
          "pie": [
           {
            "automargin": true,
            "type": "pie"
           }
          ],
          "scatter": [
           {
            "marker": {
             "colorbar": {
              "outlinewidth": 0,
              "ticks": ""
             }
            },
            "type": "scatter"
           }
          ],
          "scatter3d": [
           {
            "line": {
             "colorbar": {
              "outlinewidth": 0,
              "ticks": ""
             }
            },
            "marker": {
             "colorbar": {
              "outlinewidth": 0,
              "ticks": ""
             }
            },
            "type": "scatter3d"
           }
          ],
          "scattercarpet": [
           {
            "marker": {
             "colorbar": {
              "outlinewidth": 0,
              "ticks": ""
             }
            },
            "type": "scattercarpet"
           }
          ],
          "scattergeo": [
           {
            "marker": {
             "colorbar": {
              "outlinewidth": 0,
              "ticks": ""
             }
            },
            "type": "scattergeo"
           }
          ],
          "scattergl": [
           {
            "marker": {
             "colorbar": {
              "outlinewidth": 0,
              "ticks": ""
             }
            },
            "type": "scattergl"
           }
          ],
          "scattermapbox": [
           {
            "marker": {
             "colorbar": {
              "outlinewidth": 0,
              "ticks": ""
             }
            },
            "type": "scattermapbox"
           }
          ],
          "scatterpolar": [
           {
            "marker": {
             "colorbar": {
              "outlinewidth": 0,
              "ticks": ""
             }
            },
            "type": "scatterpolar"
           }
          ],
          "scatterpolargl": [
           {
            "marker": {
             "colorbar": {
              "outlinewidth": 0,
              "ticks": ""
             }
            },
            "type": "scatterpolargl"
           }
          ],
          "scatterternary": [
           {
            "marker": {
             "colorbar": {
              "outlinewidth": 0,
              "ticks": ""
             }
            },
            "type": "scatterternary"
           }
          ],
          "surface": [
           {
            "colorbar": {
             "outlinewidth": 0,
             "ticks": ""
            },
            "colorscale": [
             [
              0,
              "#0d0887"
             ],
             [
              0.1111111111111111,
              "#46039f"
             ],
             [
              0.2222222222222222,
              "#7201a8"
             ],
             [
              0.3333333333333333,
              "#9c179e"
             ],
             [
              0.4444444444444444,
              "#bd3786"
             ],
             [
              0.5555555555555556,
              "#d8576b"
             ],
             [
              0.6666666666666666,
              "#ed7953"
             ],
             [
              0.7777777777777778,
              "#fb9f3a"
             ],
             [
              0.8888888888888888,
              "#fdca26"
             ],
             [
              1,
              "#f0f921"
             ]
            ],
            "type": "surface"
           }
          ],
          "table": [
           {
            "cells": {
             "fill": {
              "color": "#EBF0F8"
             },
             "line": {
              "color": "white"
             }
            },
            "header": {
             "fill": {
              "color": "#C8D4E3"
             },
             "line": {
              "color": "white"
             }
            },
            "type": "table"
           }
          ]
         },
         "layout": {
          "annotationdefaults": {
           "arrowcolor": "#2a3f5f",
           "arrowhead": 0,
           "arrowwidth": 1
          },
          "coloraxis": {
           "colorbar": {
            "outlinewidth": 0,
            "ticks": ""
           }
          },
          "colorscale": {
           "diverging": [
            [
             0,
             "#8e0152"
            ],
            [
             0.1,
             "#c51b7d"
            ],
            [
             0.2,
             "#de77ae"
            ],
            [
             0.3,
             "#f1b6da"
            ],
            [
             0.4,
             "#fde0ef"
            ],
            [
             0.5,
             "#f7f7f7"
            ],
            [
             0.6,
             "#e6f5d0"
            ],
            [
             0.7,
             "#b8e186"
            ],
            [
             0.8,
             "#7fbc41"
            ],
            [
             0.9,
             "#4d9221"
            ],
            [
             1,
             "#276419"
            ]
           ],
           "sequential": [
            [
             0,
             "#0d0887"
            ],
            [
             0.1111111111111111,
             "#46039f"
            ],
            [
             0.2222222222222222,
             "#7201a8"
            ],
            [
             0.3333333333333333,
             "#9c179e"
            ],
            [
             0.4444444444444444,
             "#bd3786"
            ],
            [
             0.5555555555555556,
             "#d8576b"
            ],
            [
             0.6666666666666666,
             "#ed7953"
            ],
            [
             0.7777777777777778,
             "#fb9f3a"
            ],
            [
             0.8888888888888888,
             "#fdca26"
            ],
            [
             1,
             "#f0f921"
            ]
           ],
           "sequentialminus": [
            [
             0,
             "#0d0887"
            ],
            [
             0.1111111111111111,
             "#46039f"
            ],
            [
             0.2222222222222222,
             "#7201a8"
            ],
            [
             0.3333333333333333,
             "#9c179e"
            ],
            [
             0.4444444444444444,
             "#bd3786"
            ],
            [
             0.5555555555555556,
             "#d8576b"
            ],
            [
             0.6666666666666666,
             "#ed7953"
            ],
            [
             0.7777777777777778,
             "#fb9f3a"
            ],
            [
             0.8888888888888888,
             "#fdca26"
            ],
            [
             1,
             "#f0f921"
            ]
           ]
          },
          "colorway": [
           "#636efa",
           "#EF553B",
           "#00cc96",
           "#ab63fa",
           "#FFA15A",
           "#19d3f3",
           "#FF6692",
           "#B6E880",
           "#FF97FF",
           "#FECB52"
          ],
          "font": {
           "color": "#2a3f5f"
          },
          "geo": {
           "bgcolor": "white",
           "lakecolor": "white",
           "landcolor": "#E5ECF6",
           "showlakes": true,
           "showland": true,
           "subunitcolor": "white"
          },
          "hoverlabel": {
           "align": "left"
          },
          "hovermode": "closest",
          "mapbox": {
           "style": "light"
          },
          "paper_bgcolor": "white",
          "plot_bgcolor": "#E5ECF6",
          "polar": {
           "angularaxis": {
            "gridcolor": "white",
            "linecolor": "white",
            "ticks": ""
           },
           "bgcolor": "#E5ECF6",
           "radialaxis": {
            "gridcolor": "white",
            "linecolor": "white",
            "ticks": ""
           }
          },
          "scene": {
           "xaxis": {
            "backgroundcolor": "#E5ECF6",
            "gridcolor": "white",
            "gridwidth": 2,
            "linecolor": "white",
            "showbackground": true,
            "ticks": "",
            "zerolinecolor": "white"
           },
           "yaxis": {
            "backgroundcolor": "#E5ECF6",
            "gridcolor": "white",
            "gridwidth": 2,
            "linecolor": "white",
            "showbackground": true,
            "ticks": "",
            "zerolinecolor": "white"
           },
           "zaxis": {
            "backgroundcolor": "#E5ECF6",
            "gridcolor": "white",
            "gridwidth": 2,
            "linecolor": "white",
            "showbackground": true,
            "ticks": "",
            "zerolinecolor": "white"
           }
          },
          "shapedefaults": {
           "line": {
            "color": "#2a3f5f"
           }
          },
          "ternary": {
           "aaxis": {
            "gridcolor": "white",
            "linecolor": "white",
            "ticks": ""
           },
           "baxis": {
            "gridcolor": "white",
            "linecolor": "white",
            "ticks": ""
           },
           "bgcolor": "#E5ECF6",
           "caxis": {
            "gridcolor": "white",
            "linecolor": "white",
            "ticks": ""
           }
          },
          "title": {
           "x": 0.05
          },
          "xaxis": {
           "automargin": true,
           "gridcolor": "white",
           "linecolor": "white",
           "ticks": "",
           "title": {
            "standoff": 15
           },
           "zerolinecolor": "white",
           "zerolinewidth": 2
          },
          "yaxis": {
           "automargin": true,
           "gridcolor": "white",
           "linecolor": "white",
           "ticks": "",
           "title": {
            "standoff": 15
           },
           "zerolinecolor": "white",
           "zerolinewidth": 2
          }
         }
        },
        "width": 600,
        "xaxis": {
         "title": {
          "text": "epoch"
         }
        },
        "yaxis": {
         "type": "log"
        }
       }
      },
      "text/html": [
       "<div>\n",
       "        \n",
       "        \n",
       "            <div id=\"0709f526-7b49-4407-ae97-895663f45314\" class=\"plotly-graph-div\" style=\"height:400px; width:600px;\"></div>\n",
       "            <script type=\"text/javascript\">\n",
       "                require([\"plotly\"], function(Plotly) {\n",
       "                    window.PLOTLYENV=window.PLOTLYENV || {};\n",
       "                    \n",
       "                if (document.getElementById(\"0709f526-7b49-4407-ae97-895663f45314\")) {\n",
       "                    Plotly.newPlot(\n",
       "                        '0709f526-7b49-4407-ae97-895663f45314',\n",
       "                        [{\"name\": \"loss\", \"type\": \"scatter\", \"y\": [0.6212846234764718, 0.5977612322187155, 0.5735658060331692, 0.5486801599623637, 0.5231866662562578, 0.4972452781332225, 0.47106922522328804, 0.4449001712210976, 0.41898672970649453, 0.3935667656117121, 0.3688547753335577, 0.34503387067221225, 0.32225233108381723, 0.3006235427583203, 0.2802274978682917, 0.2611147472720794, 0.24330992709116703, 0.2268161422660945, 0.21161875386830287, 0.19768902691562898, 0.18498680513920232, 0.1734632670532979, 0.16306297917293797, 0.15372513217166586, 0.14538525534035038, 0.13797623135597334, 0.13142913645139184, 0.12567448438520046, 0.12064276439057829, 0.1162657648466869, 0.11247685959369955, 0.10921236276027443, 0.10641194616803434, 0.10401934298723514, 0.10198261411831942, 0.10025444776759256, 0.09879228711097647, 0.09755821552527869, 0.0965187775904616, 0.0956447676409744, 0.09491070811201541, 0.0942948621173166, 0.09377840724349502, 0.09334534495765902, 0.09298212772577427, 0.09267726732194104, 0.09242110859898983, 0.09220560873914409, 0.09202385800666571, 0.09187021775028545, 0.09173992094605347, 0.09162900163966163, 0.09153415745773165, 0.09145260739795091, 0.09138211946598863, 0.09132080710423415, 0.09126705612036276, 0.09121960878507014, 0.09117735136136455, 0.0911393867211053, 0.09110498421231888, 0.09107353942375587, 0.09104453884143611, 0.09101753457976311, 0.09099223159614726, 0.09096829857971402, 0.09094551644270849, 0.09092374777123009, 0.09090269105841711, 0.09088233655157132, 0.09086251560106877, 0.09084315679229858, 0.09082418351486289, 0.09080553447305739, 0.09078714831686045, 0.0907689995551269, 0.0907510267559533, 0.09073321975950062, 0.09071555813060174, 0.09069801114901334, 0.09068059428683434, 0.09066322030428617, 0.09064598169462956, 0.09062876035847013, 0.09061161283567087, 0.09059454944826312, 0.0905775239745858, 0.09056054157801129, 0.09054361256867917, 0.09052671125699248, 0.09050985823794251, 0.09049303810103863, 0.09047626630495624, 0.0904595171379306, 0.09044278546385034, 0.09042612278876389, 0.09040946219328884, 0.09039282943622404, 0.09037626060026122, 0.09035968872614802]}, {\"name\": \"error training\", \"type\": \"scatter\", \"y\": [0.6212846040725708, 0.5977612137794495, 0.5735657811164856, 0.5486801862716675, 0.5231866836547852, 0.49724528193473816, 0.47106921672821045, 0.44490018486976624, 0.4189867377281189, 0.393566757440567, 0.3688547611236572, 0.3450338840484619, 0.3222523331642151, 0.3006235361099243, 0.28022751212120056, 0.2611147463321686, 0.24330992996692657, 0.22681614756584167, 0.21161875128746033, 0.197689026594162, 0.18498679995536804, 0.17346327006816864, 0.16306297481060028, 0.15372513234615326, 0.1453852504491806, 0.13797622919082642, 0.13142913579940796, 0.12567448616027832, 0.1206427663564682, 0.11626576632261276, 0.11247686296701431, 0.10921236127614975, 0.10641194880008698, 0.10401934385299683, 0.10198261588811874, 0.10025444626808167, 0.09879228472709656, 0.09755821526050568, 0.09651877731084824, 0.0956447646021843, 0.09491071105003357, 0.09429486095905304, 0.09377840906381607, 0.09334534406661987, 0.09298212826251984, 0.09267726540565491, 0.09242110699415207, 0.09220560640096664, 0.09202385693788528, 0.09187021851539612, 0.09173992276191711, 0.09162899851799011, 0.09153416007757187, 0.09145260602235794, 0.09138211607933044, 0.09132080525159836, 0.09126705676317215, 0.09121961146593094, 0.09117735177278519, 0.09113938361406326, 0.09110498428344727, 0.09107354283332825, 0.09104453772306442, 0.09101753681898117, 0.09099223464727402, 0.0909682959318161, 0.0909455195069313, 0.0909237489104271, 0.09090269356966019, 0.09088233858346939, 0.09086251258850098, 0.09084315598011017, 0.0908241868019104, 0.0908055379986763, 0.09078714996576309, 0.09076900035142899, 0.0907510295510292, 0.09073322266340256, 0.09071555733680725, 0.0906980112195015, 0.09068059176206589, 0.09066321700811386, 0.09064598381519318, 0.09062875807285309, 0.09061161428689957, 0.09059455245733261, 0.09057752043008804, 0.09056054055690765, 0.09054361283779144, 0.09052671492099762, 0.09050986170768738, 0.09049303829669952, 0.09047626703977585, 0.09045951813459396, 0.09044278413057327, 0.09042612463235855, 0.09040946513414383, 0.0903928279876709, 0.09037625789642334, 0.09035968780517578]}, {\"name\": \"error validation\", \"type\": \"scatter\", \"y\": [0.5527912378311157, 0.529949426651001, 0.5063084363937378, 0.4819280505180359, 0.45694562792778015, 0.4315546751022339, 0.4059823453426361, 0.3804687559604645, 0.3552495539188385, 0.3305429518222809, 0.30654048919677734, 0.2834025025367737, 0.26125699281692505, 0.24020010232925415, 0.22029942274093628, 0.20159707963466644, 0.1841142177581787, 0.1678546965122223, 0.15280920267105103, 0.1389583945274353, 0.1262761503458023, 0.11473197489976883, 0.10429272800683975, 0.09492401033639908, 0.08659098297357559, 0.07925784587860107, 0.07288729399442673, 0.0674385204911232, 0.06286555528640747, 0.059114426374435425, 0.05612223595380783, 0.05381673946976662, 0.052118003368377686, 0.05094149708747864, 0.05020209029316902, 0.04981831833720207, 0.04971570149064064, 0.04982854053378105, 0.050101183354854584, 0.050487615168094635, 0.05095084384083748, 0.051461610943078995, 0.05199739336967468, 0.052541133016347885, 0.05308011919260025, 0.05360507220029831, 0.05410970747470856, 0.054589517414569855, 0.055041857063770294, 0.055465228855609894, 0.05585911497473717, 0.0562235563993454, 0.05655916780233383, 0.056866880506277084, 0.05714789032936096, 0.057403627783060074, 0.05763540044426918, 0.057844702154397964, 0.05803300067782402, 0.05820173770189285, 0.058352354913949966, 0.0584862045943737, 0.05860448628664017, 0.05870847776532173, 0.05879925563931465, 0.05887794867157936, 0.05894555523991585, 0.05900290980935097, 0.059051014482975006, 0.0590905100107193, 0.05912225320935249, 0.05914686620235443, 0.05916499346494675, 0.05917717143893242, 0.059183958917856216, 0.059185851365327835, 0.059183258563280106, 0.059176623821258545, 0.05916615575551987, 0.05915246158838272, 0.059135645627975464, 0.05911611020565033, 0.05909400433301926, 0.05906962975859642, 0.059043142944574356, 0.05901484936475754, 0.05898476019501686, 0.058953240513801575, 0.058920230716466904, 0.058886028826236725, 0.05885066092014313, 0.058814242482185364, 0.05877691134810448, 0.05873876437544823, 0.05869987607002258, 0.05866025388240814, 0.05862008407711983, 0.058579303324222565, 0.058538082987070084, 0.05849642679095268]}],\n",
       "                        {\"height\": 400, \"template\": {\"data\": {\"bar\": [{\"error_x\": {\"color\": \"#2a3f5f\"}, \"error_y\": {\"color\": \"#2a3f5f\"}, \"marker\": {\"line\": {\"color\": \"#E5ECF6\", \"width\": 0.5}}, \"type\": \"bar\"}], \"barpolar\": [{\"marker\": {\"line\": {\"color\": \"#E5ECF6\", \"width\": 0.5}}, \"type\": \"barpolar\"}], \"carpet\": [{\"aaxis\": {\"endlinecolor\": \"#2a3f5f\", \"gridcolor\": \"white\", \"linecolor\": \"white\", \"minorgridcolor\": \"white\", \"startlinecolor\": \"#2a3f5f\"}, \"baxis\": {\"endlinecolor\": \"#2a3f5f\", \"gridcolor\": \"white\", \"linecolor\": \"white\", \"minorgridcolor\": \"white\", \"startlinecolor\": \"#2a3f5f\"}, \"type\": \"carpet\"}], \"choropleth\": [{\"colorbar\": {\"outlinewidth\": 0, \"ticks\": \"\"}, \"type\": \"choropleth\"}], \"contour\": [{\"colorbar\": {\"outlinewidth\": 0, \"ticks\": \"\"}, \"colorscale\": [[0.0, \"#0d0887\"], [0.1111111111111111, \"#46039f\"], [0.2222222222222222, \"#7201a8\"], [0.3333333333333333, \"#9c179e\"], [0.4444444444444444, \"#bd3786\"], [0.5555555555555556, \"#d8576b\"], [0.6666666666666666, \"#ed7953\"], [0.7777777777777778, \"#fb9f3a\"], [0.8888888888888888, \"#fdca26\"], [1.0, \"#f0f921\"]], \"type\": \"contour\"}], \"contourcarpet\": [{\"colorbar\": {\"outlinewidth\": 0, \"ticks\": \"\"}, \"type\": \"contourcarpet\"}], \"heatmap\": [{\"colorbar\": {\"outlinewidth\": 0, \"ticks\": \"\"}, \"colorscale\": [[0.0, \"#0d0887\"], [0.1111111111111111, \"#46039f\"], [0.2222222222222222, \"#7201a8\"], [0.3333333333333333, \"#9c179e\"], [0.4444444444444444, \"#bd3786\"], [0.5555555555555556, \"#d8576b\"], [0.6666666666666666, \"#ed7953\"], [0.7777777777777778, \"#fb9f3a\"], [0.8888888888888888, \"#fdca26\"], [1.0, \"#f0f921\"]], \"type\": \"heatmap\"}], \"heatmapgl\": [{\"colorbar\": {\"outlinewidth\": 0, \"ticks\": \"\"}, \"colorscale\": [[0.0, \"#0d0887\"], [0.1111111111111111, \"#46039f\"], [0.2222222222222222, \"#7201a8\"], [0.3333333333333333, \"#9c179e\"], [0.4444444444444444, \"#bd3786\"], [0.5555555555555556, \"#d8576b\"], [0.6666666666666666, \"#ed7953\"], [0.7777777777777778, \"#fb9f3a\"], [0.8888888888888888, \"#fdca26\"], [1.0, \"#f0f921\"]], \"type\": \"heatmapgl\"}], \"histogram\": [{\"marker\": {\"colorbar\": {\"outlinewidth\": 0, \"ticks\": \"\"}}, \"type\": \"histogram\"}], \"histogram2d\": [{\"colorbar\": {\"outlinewidth\": 0, \"ticks\": \"\"}, \"colorscale\": [[0.0, \"#0d0887\"], [0.1111111111111111, \"#46039f\"], [0.2222222222222222, \"#7201a8\"], [0.3333333333333333, \"#9c179e\"], [0.4444444444444444, \"#bd3786\"], [0.5555555555555556, \"#d8576b\"], [0.6666666666666666, \"#ed7953\"], [0.7777777777777778, \"#fb9f3a\"], [0.8888888888888888, \"#fdca26\"], [1.0, \"#f0f921\"]], \"type\": \"histogram2d\"}], \"histogram2dcontour\": [{\"colorbar\": {\"outlinewidth\": 0, \"ticks\": \"\"}, \"colorscale\": [[0.0, \"#0d0887\"], [0.1111111111111111, \"#46039f\"], [0.2222222222222222, \"#7201a8\"], [0.3333333333333333, \"#9c179e\"], [0.4444444444444444, \"#bd3786\"], [0.5555555555555556, \"#d8576b\"], [0.6666666666666666, \"#ed7953\"], [0.7777777777777778, \"#fb9f3a\"], [0.8888888888888888, \"#fdca26\"], [1.0, \"#f0f921\"]], \"type\": \"histogram2dcontour\"}], \"mesh3d\": [{\"colorbar\": {\"outlinewidth\": 0, \"ticks\": \"\"}, \"type\": \"mesh3d\"}], \"parcoords\": [{\"line\": {\"colorbar\": {\"outlinewidth\": 0, \"ticks\": \"\"}}, \"type\": \"parcoords\"}], \"pie\": [{\"automargin\": true, \"type\": \"pie\"}], \"scatter\": [{\"marker\": {\"colorbar\": {\"outlinewidth\": 0, \"ticks\": \"\"}}, \"type\": \"scatter\"}], \"scatter3d\": [{\"line\": {\"colorbar\": {\"outlinewidth\": 0, \"ticks\": \"\"}}, \"marker\": {\"colorbar\": {\"outlinewidth\": 0, \"ticks\": \"\"}}, \"type\": \"scatter3d\"}], \"scattercarpet\": [{\"marker\": {\"colorbar\": {\"outlinewidth\": 0, \"ticks\": \"\"}}, \"type\": \"scattercarpet\"}], \"scattergeo\": [{\"marker\": {\"colorbar\": {\"outlinewidth\": 0, \"ticks\": \"\"}}, \"type\": \"scattergeo\"}], \"scattergl\": [{\"marker\": {\"colorbar\": {\"outlinewidth\": 0, \"ticks\": \"\"}}, \"type\": \"scattergl\"}], \"scattermapbox\": [{\"marker\": {\"colorbar\": {\"outlinewidth\": 0, \"ticks\": \"\"}}, \"type\": \"scattermapbox\"}], \"scatterpolar\": [{\"marker\": {\"colorbar\": {\"outlinewidth\": 0, \"ticks\": \"\"}}, \"type\": \"scatterpolar\"}], \"scatterpolargl\": [{\"marker\": {\"colorbar\": {\"outlinewidth\": 0, \"ticks\": \"\"}}, \"type\": \"scatterpolargl\"}], \"scatterternary\": [{\"marker\": {\"colorbar\": {\"outlinewidth\": 0, \"ticks\": \"\"}}, \"type\": \"scatterternary\"}], \"surface\": [{\"colorbar\": {\"outlinewidth\": 0, \"ticks\": \"\"}, \"colorscale\": [[0.0, \"#0d0887\"], [0.1111111111111111, \"#46039f\"], [0.2222222222222222, \"#7201a8\"], [0.3333333333333333, \"#9c179e\"], [0.4444444444444444, \"#bd3786\"], [0.5555555555555556, \"#d8576b\"], [0.6666666666666666, \"#ed7953\"], [0.7777777777777778, \"#fb9f3a\"], [0.8888888888888888, \"#fdca26\"], [1.0, \"#f0f921\"]], \"type\": \"surface\"}], \"table\": [{\"cells\": {\"fill\": {\"color\": \"#EBF0F8\"}, \"line\": {\"color\": \"white\"}}, \"header\": {\"fill\": {\"color\": \"#C8D4E3\"}, \"line\": {\"color\": \"white\"}}, \"type\": \"table\"}]}, \"layout\": {\"annotationdefaults\": {\"arrowcolor\": \"#2a3f5f\", \"arrowhead\": 0, \"arrowwidth\": 1}, \"coloraxis\": {\"colorbar\": {\"outlinewidth\": 0, \"ticks\": \"\"}}, \"colorscale\": {\"diverging\": [[0, \"#8e0152\"], [0.1, \"#c51b7d\"], [0.2, \"#de77ae\"], [0.3, \"#f1b6da\"], [0.4, \"#fde0ef\"], [0.5, \"#f7f7f7\"], [0.6, \"#e6f5d0\"], [0.7, \"#b8e186\"], [0.8, \"#7fbc41\"], [0.9, \"#4d9221\"], [1, \"#276419\"]], \"sequential\": [[0.0, \"#0d0887\"], [0.1111111111111111, \"#46039f\"], [0.2222222222222222, \"#7201a8\"], [0.3333333333333333, \"#9c179e\"], [0.4444444444444444, \"#bd3786\"], [0.5555555555555556, \"#d8576b\"], [0.6666666666666666, \"#ed7953\"], [0.7777777777777778, \"#fb9f3a\"], [0.8888888888888888, \"#fdca26\"], [1.0, \"#f0f921\"]], \"sequentialminus\": [[0.0, \"#0d0887\"], [0.1111111111111111, \"#46039f\"], [0.2222222222222222, \"#7201a8\"], [0.3333333333333333, \"#9c179e\"], [0.4444444444444444, \"#bd3786\"], [0.5555555555555556, \"#d8576b\"], [0.6666666666666666, \"#ed7953\"], [0.7777777777777778, \"#fb9f3a\"], [0.8888888888888888, \"#fdca26\"], [1.0, \"#f0f921\"]]}, \"colorway\": [\"#636efa\", \"#EF553B\", \"#00cc96\", \"#ab63fa\", \"#FFA15A\", \"#19d3f3\", \"#FF6692\", \"#B6E880\", \"#FF97FF\", \"#FECB52\"], \"font\": {\"color\": \"#2a3f5f\"}, \"geo\": {\"bgcolor\": \"white\", \"lakecolor\": \"white\", \"landcolor\": \"#E5ECF6\", \"showlakes\": true, \"showland\": true, \"subunitcolor\": \"white\"}, \"hoverlabel\": {\"align\": \"left\"}, \"hovermode\": \"closest\", \"mapbox\": {\"style\": \"light\"}, \"paper_bgcolor\": \"white\", \"plot_bgcolor\": \"#E5ECF6\", \"polar\": {\"angularaxis\": {\"gridcolor\": \"white\", \"linecolor\": \"white\", \"ticks\": \"\"}, \"bgcolor\": \"#E5ECF6\", \"radialaxis\": {\"gridcolor\": \"white\", \"linecolor\": \"white\", \"ticks\": \"\"}}, \"scene\": {\"xaxis\": {\"backgroundcolor\": \"#E5ECF6\", \"gridcolor\": \"white\", \"gridwidth\": 2, \"linecolor\": \"white\", \"showbackground\": true, \"ticks\": \"\", \"zerolinecolor\": \"white\"}, \"yaxis\": {\"backgroundcolor\": \"#E5ECF6\", \"gridcolor\": \"white\", \"gridwidth\": 2, \"linecolor\": \"white\", \"showbackground\": true, \"ticks\": \"\", \"zerolinecolor\": \"white\"}, \"zaxis\": {\"backgroundcolor\": \"#E5ECF6\", \"gridcolor\": \"white\", \"gridwidth\": 2, \"linecolor\": \"white\", \"showbackground\": true, \"ticks\": \"\", \"zerolinecolor\": \"white\"}}, \"shapedefaults\": {\"line\": {\"color\": \"#2a3f5f\"}}, \"ternary\": {\"aaxis\": {\"gridcolor\": \"white\", \"linecolor\": \"white\", \"ticks\": \"\"}, \"baxis\": {\"gridcolor\": \"white\", \"linecolor\": \"white\", \"ticks\": \"\"}, \"bgcolor\": \"#E5ECF6\", \"caxis\": {\"gridcolor\": \"white\", \"linecolor\": \"white\", \"ticks\": \"\"}}, \"title\": {\"x\": 0.05}, \"xaxis\": {\"automargin\": true, \"gridcolor\": \"white\", \"linecolor\": \"white\", \"ticks\": \"\", \"title\": {\"standoff\": 15}, \"zerolinecolor\": \"white\", \"zerolinewidth\": 2}, \"yaxis\": {\"automargin\": true, \"gridcolor\": \"white\", \"linecolor\": \"white\", \"ticks\": \"\", \"title\": {\"standoff\": 15}, \"zerolinecolor\": \"white\", \"zerolinewidth\": 2}}}, \"width\": 600, \"xaxis\": {\"title\": {\"text\": \"epoch\"}}, \"yaxis\": {\"type\": \"log\"}},\n",
       "                        {\"responsive\": true}\n",
       "                    ).then(function(){\n",
       "                            \n",
       "var gd = document.getElementById('0709f526-7b49-4407-ae97-895663f45314');\n",
       "var x = new MutationObserver(function (mutations, observer) {{\n",
       "        var display = window.getComputedStyle(gd).display;\n",
       "        if (!display || display === 'none') {{\n",
       "            console.log([gd, 'removed!']);\n",
       "            Plotly.purge(gd);\n",
       "            observer.disconnect();\n",
       "        }}\n",
       "}});\n",
       "\n",
       "// Listen for the removal of the full notebook cells\n",
       "var notebookContainer = gd.closest('#notebook-container');\n",
       "if (notebookContainer) {{\n",
       "    x.observe(notebookContainer, {childList: true});\n",
       "}}\n",
       "\n",
       "// Listen for the clearing of the current output cell\n",
       "var outputEl = gd.closest('.output');\n",
       "if (outputEl) {{\n",
       "    x.observe(outputEl, {childList: true});\n",
       "}}\n",
       "\n",
       "                        })\n",
       "                };\n",
       "                });\n",
       "            </script>\n",
       "        </div>"
      ]
     },
     "metadata": {},
     "output_type": "display_data"
    }
   ],
   "source": [
    "small = keras.models.Sequential()\n",
    "small.add(keras.layers.InputLayer(input_shape=1))\n",
    "small.add(keras.layers.Dense(1, activation='tanh'))\n",
    "small.add(keras.layers.Dense(1, activation=\"linear\"))\n",
    "\n",
    "n_epochs = 100\n",
    "metric_lr = np.zeros((n_epochs,))\n",
    "initial_learning_rate = 0.1\n",
    "final_learning_rate = 0.1\n",
    "small.compile(loss='mse', optimizer=optimr, metrics=['mse','mae'])\n",
    "\n",
    "history = small.fit(x_t, y_t,           \n",
    "                  validation_data=(x_v,y_v),         \n",
    "                  epochs=n_epochs,\n",
    "                  batch_size=int(x_t.size),\n",
    "                  callbacks = [lr_callback,print_dots()], \n",
    "                  verbose = 0)\n",
    "\n",
    "fig = go.Figure()\n",
    "fig.add_trace(go.Scatter(x=x_t, y=y_t, mode='markers', name='training'))\n",
    "x_p = np.linspace(-1,1,256)\n",
    "fig.add_trace(go.Scatter(x=x_p, mode='lines',                        \n",
    "                         y=np.array(small.predict(x_p)).reshape((x_p.size,)),\n",
    "                         name='prediction'))\n",
    "fig.update_layout(height=400, width=600)\n",
    "fig.show()\n",
    "\n",
    "fig = go.Figure()\n",
    "plot_history(fig, history)\n",
    "fig.show()"
   ]
  },
  {
   "cell_type": "code",
   "execution_count": 12,
   "metadata": {
    "colab": {
     "base_uri": "https://localhost:8080/",
     "height": 869
    },
    "colab_type": "code",
    "id": "znMgAHA7G1DF",
    "outputId": "1cb20fca-a70f-4e1b-c804-d2f9bb265d09"
   },
   "outputs": [
    {
     "name": "stdout",
     "output_type": "stream",
     "text": [
      "\n",
      "..........\n",
      "Training is complete\n"
     ]
    },
    {
     "data": {
      "application/vnd.plotly.v1+json": {
       "config": {
        "plotlyServerURL": "https://plot.ly"
       },
       "data": [
        {
         "mode": "markers",
         "name": "training",
         "type": "scatter",
         "x": [
          -1,
          -0.10000000149011612,
          0.10000000149011612,
          1
         ],
         "y": [
          -1,
          0,
          0,
          1
         ]
        },
        {
         "mode": "lines",
         "name": "prediction",
         "type": "scatter",
         "x": [
          -1,
          -0.9921568627450981,
          -0.9843137254901961,
          -0.9764705882352941,
          -0.9686274509803922,
          -0.9607843137254902,
          -0.9529411764705882,
          -0.9450980392156862,
          -0.9372549019607843,
          -0.9294117647058824,
          -0.9215686274509804,
          -0.9137254901960784,
          -0.9058823529411765,
          -0.8980392156862745,
          -0.8901960784313725,
          -0.8823529411764706,
          -0.8745098039215686,
          -0.8666666666666667,
          -0.8588235294117648,
          -0.8509803921568627,
          -0.8431372549019608,
          -0.8352941176470589,
          -0.8274509803921568,
          -0.8196078431372549,
          -0.8117647058823529,
          -0.803921568627451,
          -0.7960784313725491,
          -0.788235294117647,
          -0.7803921568627451,
          -0.7725490196078432,
          -0.7647058823529411,
          -0.7568627450980392,
          -0.7490196078431373,
          -0.7411764705882353,
          -0.7333333333333334,
          -0.7254901960784313,
          -0.7176470588235294,
          -0.7098039215686275,
          -0.7019607843137254,
          -0.6941176470588235,
          -0.6862745098039216,
          -0.6784313725490196,
          -0.6705882352941177,
          -0.6627450980392157,
          -0.6549019607843137,
          -0.6470588235294118,
          -0.6392156862745098,
          -0.6313725490196078,
          -0.6235294117647059,
          -0.615686274509804,
          -0.607843137254902,
          -0.6,
          -0.592156862745098,
          -0.5843137254901961,
          -0.5764705882352941,
          -0.5686274509803921,
          -0.5607843137254902,
          -0.5529411764705883,
          -0.5450980392156863,
          -0.5372549019607843,
          -0.5294117647058824,
          -0.5215686274509804,
          -0.5137254901960784,
          -0.5058823529411764,
          -0.4980392156862745,
          -0.4901960784313726,
          -0.48235294117647065,
          -0.4745098039215686,
          -0.4666666666666667,
          -0.45882352941176474,
          -0.4509803921568627,
          -0.44313725490196076,
          -0.43529411764705883,
          -0.4274509803921569,
          -0.41960784313725497,
          -0.4117647058823529,
          -0.403921568627451,
          -0.39607843137254906,
          -0.388235294117647,
          -0.3803921568627451,
          -0.37254901960784315,
          -0.3647058823529412,
          -0.3568627450980393,
          -0.34901960784313724,
          -0.3411764705882353,
          -0.33333333333333337,
          -0.3254901960784313,
          -0.3176470588235294,
          -0.30980392156862746,
          -0.3019607843137255,
          -0.2941176470588236,
          -0.28627450980392155,
          -0.2784313725490196,
          -0.2705882352941177,
          -0.26274509803921564,
          -0.2549019607843137,
          -0.24705882352941178,
          -0.23921568627450984,
          -0.2313725490196079,
          -0.22352941176470587,
          -0.21568627450980393,
          -0.207843137254902,
          -0.19999999999999996,
          -0.19215686274509802,
          -0.1843137254901961,
          -0.17647058823529416,
          -0.16862745098039222,
          -0.16078431372549018,
          -0.15294117647058825,
          -0.14509803921568631,
          -0.13725490196078427,
          -0.12941176470588234,
          -0.1215686274509804,
          -0.11372549019607847,
          -0.10588235294117654,
          -0.0980392156862745,
          -0.09019607843137256,
          -0.08235294117647063,
          -0.07450980392156858,
          -0.06666666666666665,
          -0.05882352941176472,
          -0.050980392156862786,
          -0.04313725490196085,
          -0.03529411764705881,
          -0.027450980392156876,
          -0.019607843137254943,
          -0.0117647058823529,
          -0.0039215686274509665,
          0.0039215686274509665,
          0.0117647058823529,
          0.019607843137254832,
          0.027450980392156765,
          0.0352941176470587,
          0.04313725490196085,
          0.050980392156862786,
          0.05882352941176472,
          0.06666666666666665,
          0.07450980392156858,
          0.08235294117647052,
          0.09019607843137245,
          0.0980392156862746,
          0.10588235294117654,
          0.11372549019607847,
          0.1215686274509804,
          0.12941176470588234,
          0.13725490196078427,
          0.1450980392156862,
          0.15294117647058814,
          0.16078431372549007,
          0.16862745098039222,
          0.17647058823529416,
          0.1843137254901961,
          0.19215686274509802,
          0.19999999999999996,
          0.2078431372549019,
          0.21568627450980382,
          0.22352941176470598,
          0.2313725490196079,
          0.23921568627450984,
          0.24705882352941178,
          0.2549019607843137,
          0.26274509803921564,
          0.2705882352941176,
          0.2784313725490195,
          0.28627450980392144,
          0.2941176470588236,
          0.3019607843137255,
          0.30980392156862746,
          0.3176470588235294,
          0.3254901960784313,
          0.33333333333333326,
          0.3411764705882352,
          0.34901960784313735,
          0.3568627450980393,
          0.3647058823529412,
          0.37254901960784315,
          0.3803921568627451,
          0.388235294117647,
          0.39607843137254894,
          0.4039215686274509,
          0.4117647058823528,
          0.41960784313725497,
          0.4274509803921569,
          0.43529411764705883,
          0.44313725490196076,
          0.4509803921568627,
          0.45882352941176463,
          0.46666666666666656,
          0.4745098039215687,
          0.48235294117647065,
          0.4901960784313726,
          0.4980392156862745,
          0.5058823529411764,
          0.5137254901960784,
          0.5215686274509803,
          0.5294117647058822,
          0.5372549019607842,
          0.5450980392156863,
          0.5529411764705883,
          0.5607843137254902,
          0.5686274509803921,
          0.5764705882352941,
          0.584313725490196,
          0.5921568627450979,
          0.6000000000000001,
          0.607843137254902,
          0.615686274509804,
          0.6235294117647059,
          0.6313725490196078,
          0.6392156862745098,
          0.6470588235294117,
          0.6549019607843136,
          0.6627450980392156,
          0.6705882352941177,
          0.6784313725490196,
          0.6862745098039216,
          0.6941176470588235,
          0.7019607843137254,
          0.7098039215686274,
          0.7176470588235293,
          0.7254901960784315,
          0.7333333333333334,
          0.7411764705882353,
          0.7490196078431373,
          0.7568627450980392,
          0.7647058823529411,
          0.7725490196078431,
          0.780392156862745,
          0.7882352941176469,
          0.7960784313725491,
          0.803921568627451,
          0.8117647058823529,
          0.8196078431372549,
          0.8274509803921568,
          0.8352941176470587,
          0.8431372549019607,
          0.8509803921568628,
          0.8588235294117648,
          0.8666666666666667,
          0.8745098039215686,
          0.8823529411764706,
          0.8901960784313725,
          0.8980392156862744,
          0.9058823529411764,
          0.9137254901960783,
          0.9215686274509804,
          0.9294117647058824,
          0.9372549019607843,
          0.9450980392156862,
          0.9529411764705882,
          0.9607843137254901,
          0.968627450980392,
          0.9764705882352942,
          0.9843137254901961,
          0.9921568627450981,
          1
         ],
         "y": [
          -0.980150580406189,
          -0.9741684794425964,
          -0.9681536555290222,
          -0.9621058702468872,
          -0.956025242805481,
          -0.949911892414093,
          -0.9437656998634338,
          -0.9375869035720825,
          -0.9313752055168152,
          -0.92513108253479,
          -0.9188541769981384,
          -0.9125447869300842,
          -0.9062027931213379,
          -0.899828314781189,
          -0.8934214115142822,
          -0.8869822025299072,
          -0.880510687828064,
          -0.8740069270133972,
          -0.8674709796905518,
          -0.8609030246734619,
          -0.8543030619621277,
          -0.8476710319519043,
          -0.84100741147995,
          -0.8343117833137512,
          -0.8275846838951111,
          -0.82082599401474,
          -0.814035952091217,
          -0.8072144985198975,
          -0.8003618121147156,
          -0.7934780120849609,
          -0.7865633368492126,
          -0.7796176671981812,
          -0.7726414203643799,
          -0.7656344771385193,
          -0.7585971355438232,
          -0.7515294551849365,
          -0.7444316744804382,
          -0.7373038530349731,
          -0.7301461696624756,
          -0.7229587435722351,
          -0.7157418727874756,
          -0.7084956169128418,
          -0.7012202143669128,
          -0.6939157843589783,
          -0.6865824460983276,
          -0.6792206168174744,
          -0.6718302369117737,
          -0.664411723613739,
          -0.6569651365280151,
          -0.6494905948638916,
          -0.6419883966445923,
          -0.6344589591026306,
          -0.6269022226333618,
          -0.6193184852600098,
          -0.6117080450057983,
          -0.6040710806846619,
          -0.5964078307151794,
          -0.5887184739112854,
          -0.5810033679008484,
          -0.5732627511024475,
          -0.5654967427253723,
          -0.5577057600021362,
          -0.5498899817466736,
          -0.5420496463775635,
          -0.5341851115226746,
          -0.5262966156005859,
          -0.5183844566345215,
          -0.5104488730430603,
          -0.5024901628494263,
          -0.49450862407684326,
          -0.48650452494621277,
          -0.47847825288772583,
          -0.47043001651763916,
          -0.4623601734638214,
          -0.4542689919471741,
          -0.4461568593978882,
          -0.43802404403686523,
          -0.4298708438873291,
          -0.42169761657714844,
          -0.4135047197341919,
          -0.40529245138168335,
          -0.39706116914749146,
          -0.3888111710548401,
          -0.3805428743362427,
          -0.3722565770149231,
          -0.36395263671875,
          -0.35563141107559204,
          -0.34729328751564026,
          -0.3389385938644409,
          -0.3305676579475403,
          -0.32218098640441895,
          -0.31377875804901123,
          -0.3053615391254425,
          -0.2969295382499695,
          -0.28848326206207275,
          -0.2800230383872986,
          -0.2715492248535156,
          -0.2630622684955597,
          -0.25456252694129944,
          -0.2460504174232483,
          -0.2375262975692749,
          -0.2289905995130539,
          -0.2204437106847763,
          -0.21188604831695557,
          -0.20331798493862152,
          -0.1947399377822876,
          -0.1861523538827896,
          -0.1775556057691574,
          -0.1689501255750656,
          -0.16033633053302765,
          -0.15171460807323456,
          -0.14308539032936096,
          -0.13444910943508148,
          -0.12580619752407074,
          -0.11715704202651978,
          -0.1085021048784256,
          -0.09984175860881805,
          -0.09117648005485535,
          -0.08250667154788971,
          -0.07383277267217636,
          -0.06515520066022873,
          -0.05647439509630203,
          -0.04779078811407089,
          -0.03910479694604874,
          -0.030416857451200485,
          -0.02172740548849106,
          -0.013036875985562801,
          -0.004345697816461325,
          0.004345697816461325,
          0.013036876916885376,
          0.021727407351136208,
          0.030416857451200485,
          0.03910479694604874,
          0.047790784388780594,
          0.05647439509630203,
          0.06515520066022873,
          0.07383277267217636,
          0.08250667154788971,
          0.09117648005485535,
          0.09984175860881805,
          0.1085021048784256,
          0.11715704202651978,
          0.12580619752407074,
          0.13444910943508148,
          0.14308539032936096,
          0.15171460807323456,
          0.16033633053302765,
          0.1689501255750656,
          0.1775556057691574,
          0.1861523538827896,
          0.1947399377822876,
          0.20331798493862152,
          0.21188604831695557,
          0.2204437106847763,
          0.2289905995130539,
          0.2375262975692749,
          0.2460504174232483,
          0.25456252694129944,
          0.2630622684955597,
          0.2715492248535156,
          0.2800230383872986,
          0.28848326206207275,
          0.2969295382499695,
          0.3053615391254425,
          0.31377875804901123,
          0.32218098640441895,
          0.3305676579475403,
          0.3389385938644409,
          0.34729328751564026,
          0.35563141107559204,
          0.36395263671875,
          0.3722565770149231,
          0.3805428743362427,
          0.3888111710548401,
          0.39706116914749146,
          0.40529245138168335,
          0.4135047197341919,
          0.42169761657714844,
          0.4298708438873291,
          0.43802404403686523,
          0.4461568593978882,
          0.4542689919471741,
          0.4623601734638214,
          0.47043001651763916,
          0.47847825288772583,
          0.48650452494621277,
          0.49450862407684326,
          0.5024901628494263,
          0.5104488730430603,
          0.5183844566345215,
          0.5262966156005859,
          0.5341851115226746,
          0.5420496463775635,
          0.5498899817466736,
          0.5577057600021362,
          0.5654967427253723,
          0.5732627511024475,
          0.5810033679008484,
          0.5887184739112854,
          0.5964078307151794,
          0.6040710806846619,
          0.6117080450057983,
          0.6193184852600098,
          0.6269022226333618,
          0.6344589591026306,
          0.6419883966445923,
          0.6494905948638916,
          0.6569651365280151,
          0.664411723613739,
          0.6718302369117737,
          0.6792206168174744,
          0.6865824460983276,
          0.6939157843589783,
          0.7012202143669128,
          0.7084956169128418,
          0.7157418727874756,
          0.7229587435722351,
          0.7301461696624756,
          0.7373038530349731,
          0.7444316744804382,
          0.7515294551849365,
          0.7585971355438232,
          0.7656344771385193,
          0.7726414203643799,
          0.7796176671981812,
          0.7865633368492126,
          0.7934780120849609,
          0.8003618121147156,
          0.8072144985198975,
          0.814035952091217,
          0.82082599401474,
          0.8275846838951111,
          0.8343117833137512,
          0.84100741147995,
          0.8476710319519043,
          0.8543030619621277,
          0.8609030246734619,
          0.8674709796905518,
          0.8740069270133972,
          0.880510687828064,
          0.8869822025299072,
          0.8934214115142822,
          0.899828314781189,
          0.9062027931213379,
          0.9125447869300842,
          0.9188541769981384,
          0.92513108253479,
          0.9313752055168152,
          0.9375869035720825,
          0.9437656998634338,
          0.949911892414093,
          0.956025242805481,
          0.9621058702468872,
          0.9681536555290222,
          0.9741684794425964,
          0.980150580406189
         ]
        }
       ],
       "layout": {
        "height": 400,
        "template": {
         "data": {
          "bar": [
           {
            "error_x": {
             "color": "#2a3f5f"
            },
            "error_y": {
             "color": "#2a3f5f"
            },
            "marker": {
             "line": {
              "color": "#E5ECF6",
              "width": 0.5
             }
            },
            "type": "bar"
           }
          ],
          "barpolar": [
           {
            "marker": {
             "line": {
              "color": "#E5ECF6",
              "width": 0.5
             }
            },
            "type": "barpolar"
           }
          ],
          "carpet": [
           {
            "aaxis": {
             "endlinecolor": "#2a3f5f",
             "gridcolor": "white",
             "linecolor": "white",
             "minorgridcolor": "white",
             "startlinecolor": "#2a3f5f"
            },
            "baxis": {
             "endlinecolor": "#2a3f5f",
             "gridcolor": "white",
             "linecolor": "white",
             "minorgridcolor": "white",
             "startlinecolor": "#2a3f5f"
            },
            "type": "carpet"
           }
          ],
          "choropleth": [
           {
            "colorbar": {
             "outlinewidth": 0,
             "ticks": ""
            },
            "type": "choropleth"
           }
          ],
          "contour": [
           {
            "colorbar": {
             "outlinewidth": 0,
             "ticks": ""
            },
            "colorscale": [
             [
              0,
              "#0d0887"
             ],
             [
              0.1111111111111111,
              "#46039f"
             ],
             [
              0.2222222222222222,
              "#7201a8"
             ],
             [
              0.3333333333333333,
              "#9c179e"
             ],
             [
              0.4444444444444444,
              "#bd3786"
             ],
             [
              0.5555555555555556,
              "#d8576b"
             ],
             [
              0.6666666666666666,
              "#ed7953"
             ],
             [
              0.7777777777777778,
              "#fb9f3a"
             ],
             [
              0.8888888888888888,
              "#fdca26"
             ],
             [
              1,
              "#f0f921"
             ]
            ],
            "type": "contour"
           }
          ],
          "contourcarpet": [
           {
            "colorbar": {
             "outlinewidth": 0,
             "ticks": ""
            },
            "type": "contourcarpet"
           }
          ],
          "heatmap": [
           {
            "colorbar": {
             "outlinewidth": 0,
             "ticks": ""
            },
            "colorscale": [
             [
              0,
              "#0d0887"
             ],
             [
              0.1111111111111111,
              "#46039f"
             ],
             [
              0.2222222222222222,
              "#7201a8"
             ],
             [
              0.3333333333333333,
              "#9c179e"
             ],
             [
              0.4444444444444444,
              "#bd3786"
             ],
             [
              0.5555555555555556,
              "#d8576b"
             ],
             [
              0.6666666666666666,
              "#ed7953"
             ],
             [
              0.7777777777777778,
              "#fb9f3a"
             ],
             [
              0.8888888888888888,
              "#fdca26"
             ],
             [
              1,
              "#f0f921"
             ]
            ],
            "type": "heatmap"
           }
          ],
          "heatmapgl": [
           {
            "colorbar": {
             "outlinewidth": 0,
             "ticks": ""
            },
            "colorscale": [
             [
              0,
              "#0d0887"
             ],
             [
              0.1111111111111111,
              "#46039f"
             ],
             [
              0.2222222222222222,
              "#7201a8"
             ],
             [
              0.3333333333333333,
              "#9c179e"
             ],
             [
              0.4444444444444444,
              "#bd3786"
             ],
             [
              0.5555555555555556,
              "#d8576b"
             ],
             [
              0.6666666666666666,
              "#ed7953"
             ],
             [
              0.7777777777777778,
              "#fb9f3a"
             ],
             [
              0.8888888888888888,
              "#fdca26"
             ],
             [
              1,
              "#f0f921"
             ]
            ],
            "type": "heatmapgl"
           }
          ],
          "histogram": [
           {
            "marker": {
             "colorbar": {
              "outlinewidth": 0,
              "ticks": ""
             }
            },
            "type": "histogram"
           }
          ],
          "histogram2d": [
           {
            "colorbar": {
             "outlinewidth": 0,
             "ticks": ""
            },
            "colorscale": [
             [
              0,
              "#0d0887"
             ],
             [
              0.1111111111111111,
              "#46039f"
             ],
             [
              0.2222222222222222,
              "#7201a8"
             ],
             [
              0.3333333333333333,
              "#9c179e"
             ],
             [
              0.4444444444444444,
              "#bd3786"
             ],
             [
              0.5555555555555556,
              "#d8576b"
             ],
             [
              0.6666666666666666,
              "#ed7953"
             ],
             [
              0.7777777777777778,
              "#fb9f3a"
             ],
             [
              0.8888888888888888,
              "#fdca26"
             ],
             [
              1,
              "#f0f921"
             ]
            ],
            "type": "histogram2d"
           }
          ],
          "histogram2dcontour": [
           {
            "colorbar": {
             "outlinewidth": 0,
             "ticks": ""
            },
            "colorscale": [
             [
              0,
              "#0d0887"
             ],
             [
              0.1111111111111111,
              "#46039f"
             ],
             [
              0.2222222222222222,
              "#7201a8"
             ],
             [
              0.3333333333333333,
              "#9c179e"
             ],
             [
              0.4444444444444444,
              "#bd3786"
             ],
             [
              0.5555555555555556,
              "#d8576b"
             ],
             [
              0.6666666666666666,
              "#ed7953"
             ],
             [
              0.7777777777777778,
              "#fb9f3a"
             ],
             [
              0.8888888888888888,
              "#fdca26"
             ],
             [
              1,
              "#f0f921"
             ]
            ],
            "type": "histogram2dcontour"
           }
          ],
          "mesh3d": [
           {
            "colorbar": {
             "outlinewidth": 0,
             "ticks": ""
            },
            "type": "mesh3d"
           }
          ],
          "parcoords": [
           {
            "line": {
             "colorbar": {
              "outlinewidth": 0,
              "ticks": ""
             }
            },
            "type": "parcoords"
           }
          ],
          "pie": [
           {
            "automargin": true,
            "type": "pie"
           }
          ],
          "scatter": [
           {
            "marker": {
             "colorbar": {
              "outlinewidth": 0,
              "ticks": ""
             }
            },
            "type": "scatter"
           }
          ],
          "scatter3d": [
           {
            "line": {
             "colorbar": {
              "outlinewidth": 0,
              "ticks": ""
             }
            },
            "marker": {
             "colorbar": {
              "outlinewidth": 0,
              "ticks": ""
             }
            },
            "type": "scatter3d"
           }
          ],
          "scattercarpet": [
           {
            "marker": {
             "colorbar": {
              "outlinewidth": 0,
              "ticks": ""
             }
            },
            "type": "scattercarpet"
           }
          ],
          "scattergeo": [
           {
            "marker": {
             "colorbar": {
              "outlinewidth": 0,
              "ticks": ""
             }
            },
            "type": "scattergeo"
           }
          ],
          "scattergl": [
           {
            "marker": {
             "colorbar": {
              "outlinewidth": 0,
              "ticks": ""
             }
            },
            "type": "scattergl"
           }
          ],
          "scattermapbox": [
           {
            "marker": {
             "colorbar": {
              "outlinewidth": 0,
              "ticks": ""
             }
            },
            "type": "scattermapbox"
           }
          ],
          "scatterpolar": [
           {
            "marker": {
             "colorbar": {
              "outlinewidth": 0,
              "ticks": ""
             }
            },
            "type": "scatterpolar"
           }
          ],
          "scatterpolargl": [
           {
            "marker": {
             "colorbar": {
              "outlinewidth": 0,
              "ticks": ""
             }
            },
            "type": "scatterpolargl"
           }
          ],
          "scatterternary": [
           {
            "marker": {
             "colorbar": {
              "outlinewidth": 0,
              "ticks": ""
             }
            },
            "type": "scatterternary"
           }
          ],
          "surface": [
           {
            "colorbar": {
             "outlinewidth": 0,
             "ticks": ""
            },
            "colorscale": [
             [
              0,
              "#0d0887"
             ],
             [
              0.1111111111111111,
              "#46039f"
             ],
             [
              0.2222222222222222,
              "#7201a8"
             ],
             [
              0.3333333333333333,
              "#9c179e"
             ],
             [
              0.4444444444444444,
              "#bd3786"
             ],
             [
              0.5555555555555556,
              "#d8576b"
             ],
             [
              0.6666666666666666,
              "#ed7953"
             ],
             [
              0.7777777777777778,
              "#fb9f3a"
             ],
             [
              0.8888888888888888,
              "#fdca26"
             ],
             [
              1,
              "#f0f921"
             ]
            ],
            "type": "surface"
           }
          ],
          "table": [
           {
            "cells": {
             "fill": {
              "color": "#EBF0F8"
             },
             "line": {
              "color": "white"
             }
            },
            "header": {
             "fill": {
              "color": "#C8D4E3"
             },
             "line": {
              "color": "white"
             }
            },
            "type": "table"
           }
          ]
         },
         "layout": {
          "annotationdefaults": {
           "arrowcolor": "#2a3f5f",
           "arrowhead": 0,
           "arrowwidth": 1
          },
          "coloraxis": {
           "colorbar": {
            "outlinewidth": 0,
            "ticks": ""
           }
          },
          "colorscale": {
           "diverging": [
            [
             0,
             "#8e0152"
            ],
            [
             0.1,
             "#c51b7d"
            ],
            [
             0.2,
             "#de77ae"
            ],
            [
             0.3,
             "#f1b6da"
            ],
            [
             0.4,
             "#fde0ef"
            ],
            [
             0.5,
             "#f7f7f7"
            ],
            [
             0.6,
             "#e6f5d0"
            ],
            [
             0.7,
             "#b8e186"
            ],
            [
             0.8,
             "#7fbc41"
            ],
            [
             0.9,
             "#4d9221"
            ],
            [
             1,
             "#276419"
            ]
           ],
           "sequential": [
            [
             0,
             "#0d0887"
            ],
            [
             0.1111111111111111,
             "#46039f"
            ],
            [
             0.2222222222222222,
             "#7201a8"
            ],
            [
             0.3333333333333333,
             "#9c179e"
            ],
            [
             0.4444444444444444,
             "#bd3786"
            ],
            [
             0.5555555555555556,
             "#d8576b"
            ],
            [
             0.6666666666666666,
             "#ed7953"
            ],
            [
             0.7777777777777778,
             "#fb9f3a"
            ],
            [
             0.8888888888888888,
             "#fdca26"
            ],
            [
             1,
             "#f0f921"
            ]
           ],
           "sequentialminus": [
            [
             0,
             "#0d0887"
            ],
            [
             0.1111111111111111,
             "#46039f"
            ],
            [
             0.2222222222222222,
             "#7201a8"
            ],
            [
             0.3333333333333333,
             "#9c179e"
            ],
            [
             0.4444444444444444,
             "#bd3786"
            ],
            [
             0.5555555555555556,
             "#d8576b"
            ],
            [
             0.6666666666666666,
             "#ed7953"
            ],
            [
             0.7777777777777778,
             "#fb9f3a"
            ],
            [
             0.8888888888888888,
             "#fdca26"
            ],
            [
             1,
             "#f0f921"
            ]
           ]
          },
          "colorway": [
           "#636efa",
           "#EF553B",
           "#00cc96",
           "#ab63fa",
           "#FFA15A",
           "#19d3f3",
           "#FF6692",
           "#B6E880",
           "#FF97FF",
           "#FECB52"
          ],
          "font": {
           "color": "#2a3f5f"
          },
          "geo": {
           "bgcolor": "white",
           "lakecolor": "white",
           "landcolor": "#E5ECF6",
           "showlakes": true,
           "showland": true,
           "subunitcolor": "white"
          },
          "hoverlabel": {
           "align": "left"
          },
          "hovermode": "closest",
          "mapbox": {
           "style": "light"
          },
          "paper_bgcolor": "white",
          "plot_bgcolor": "#E5ECF6",
          "polar": {
           "angularaxis": {
            "gridcolor": "white",
            "linecolor": "white",
            "ticks": ""
           },
           "bgcolor": "#E5ECF6",
           "radialaxis": {
            "gridcolor": "white",
            "linecolor": "white",
            "ticks": ""
           }
          },
          "scene": {
           "xaxis": {
            "backgroundcolor": "#E5ECF6",
            "gridcolor": "white",
            "gridwidth": 2,
            "linecolor": "white",
            "showbackground": true,
            "ticks": "",
            "zerolinecolor": "white"
           },
           "yaxis": {
            "backgroundcolor": "#E5ECF6",
            "gridcolor": "white",
            "gridwidth": 2,
            "linecolor": "white",
            "showbackground": true,
            "ticks": "",
            "zerolinecolor": "white"
           },
           "zaxis": {
            "backgroundcolor": "#E5ECF6",
            "gridcolor": "white",
            "gridwidth": 2,
            "linecolor": "white",
            "showbackground": true,
            "ticks": "",
            "zerolinecolor": "white"
           }
          },
          "shapedefaults": {
           "line": {
            "color": "#2a3f5f"
           }
          },
          "ternary": {
           "aaxis": {
            "gridcolor": "white",
            "linecolor": "white",
            "ticks": ""
           },
           "baxis": {
            "gridcolor": "white",
            "linecolor": "white",
            "ticks": ""
           },
           "bgcolor": "#E5ECF6",
           "caxis": {
            "gridcolor": "white",
            "linecolor": "white",
            "ticks": ""
           }
          },
          "title": {
           "x": 0.05
          },
          "xaxis": {
           "automargin": true,
           "gridcolor": "white",
           "linecolor": "white",
           "ticks": "",
           "title": {
            "standoff": 15
           },
           "zerolinecolor": "white",
           "zerolinewidth": 2
          },
          "yaxis": {
           "automargin": true,
           "gridcolor": "white",
           "linecolor": "white",
           "ticks": "",
           "title": {
            "standoff": 15
           },
           "zerolinecolor": "white",
           "zerolinewidth": 2
          }
         }
        },
        "width": 600
       }
      },
      "text/html": [
       "<div>\n",
       "        \n",
       "        \n",
       "            <div id=\"43c27d7e-0c3c-43c1-bc5e-95999a1f9d21\" class=\"plotly-graph-div\" style=\"height:400px; width:600px;\"></div>\n",
       "            <script type=\"text/javascript\">\n",
       "                require([\"plotly\"], function(Plotly) {\n",
       "                    window.PLOTLYENV=window.PLOTLYENV || {};\n",
       "                    \n",
       "                if (document.getElementById(\"43c27d7e-0c3c-43c1-bc5e-95999a1f9d21\")) {\n",
       "                    Plotly.newPlot(\n",
       "                        '43c27d7e-0c3c-43c1-bc5e-95999a1f9d21',\n",
       "                        [{\"mode\": \"markers\", \"name\": \"training\", \"type\": \"scatter\", \"x\": [-1.0, -0.10000000149011612, 0.10000000149011612, 1.0], \"y\": [-1.0, 0.0, 0.0, 1.0]}, {\"mode\": \"lines\", \"name\": \"prediction\", \"type\": \"scatter\", \"x\": [-1.0, -0.9921568627450981, -0.9843137254901961, -0.9764705882352941, -0.9686274509803922, -0.9607843137254902, -0.9529411764705882, -0.9450980392156862, -0.9372549019607843, -0.9294117647058824, -0.9215686274509804, -0.9137254901960784, -0.9058823529411765, -0.8980392156862745, -0.8901960784313725, -0.8823529411764706, -0.8745098039215686, -0.8666666666666667, -0.8588235294117648, -0.8509803921568627, -0.8431372549019608, -0.8352941176470589, -0.8274509803921568, -0.8196078431372549, -0.8117647058823529, -0.803921568627451, -0.7960784313725491, -0.788235294117647, -0.7803921568627451, -0.7725490196078432, -0.7647058823529411, -0.7568627450980392, -0.7490196078431373, -0.7411764705882353, -0.7333333333333334, -0.7254901960784313, -0.7176470588235294, -0.7098039215686275, -0.7019607843137254, -0.6941176470588235, -0.6862745098039216, -0.6784313725490196, -0.6705882352941177, -0.6627450980392157, -0.6549019607843137, -0.6470588235294118, -0.6392156862745098, -0.6313725490196078, -0.6235294117647059, -0.615686274509804, -0.607843137254902, -0.6, -0.592156862745098, -0.5843137254901961, -0.5764705882352941, -0.5686274509803921, -0.5607843137254902, -0.5529411764705883, -0.5450980392156863, -0.5372549019607843, -0.5294117647058824, -0.5215686274509804, -0.5137254901960784, -0.5058823529411764, -0.4980392156862745, -0.4901960784313726, -0.48235294117647065, -0.4745098039215686, -0.4666666666666667, -0.45882352941176474, -0.4509803921568627, -0.44313725490196076, -0.43529411764705883, -0.4274509803921569, -0.41960784313725497, -0.4117647058823529, -0.403921568627451, -0.39607843137254906, -0.388235294117647, -0.3803921568627451, -0.37254901960784315, -0.3647058823529412, -0.3568627450980393, -0.34901960784313724, -0.3411764705882353, -0.33333333333333337, -0.3254901960784313, -0.3176470588235294, -0.30980392156862746, -0.3019607843137255, -0.2941176470588236, -0.28627450980392155, -0.2784313725490196, -0.2705882352941177, -0.26274509803921564, -0.2549019607843137, -0.24705882352941178, -0.23921568627450984, -0.2313725490196079, -0.22352941176470587, -0.21568627450980393, -0.207843137254902, -0.19999999999999996, -0.19215686274509802, -0.1843137254901961, -0.17647058823529416, -0.16862745098039222, -0.16078431372549018, -0.15294117647058825, -0.14509803921568631, -0.13725490196078427, -0.12941176470588234, -0.1215686274509804, -0.11372549019607847, -0.10588235294117654, -0.0980392156862745, -0.09019607843137256, -0.08235294117647063, -0.07450980392156858, -0.06666666666666665, -0.05882352941176472, -0.050980392156862786, -0.04313725490196085, -0.03529411764705881, -0.027450980392156876, -0.019607843137254943, -0.0117647058823529, -0.0039215686274509665, 0.0039215686274509665, 0.0117647058823529, 0.019607843137254832, 0.027450980392156765, 0.0352941176470587, 0.04313725490196085, 0.050980392156862786, 0.05882352941176472, 0.06666666666666665, 0.07450980392156858, 0.08235294117647052, 0.09019607843137245, 0.0980392156862746, 0.10588235294117654, 0.11372549019607847, 0.1215686274509804, 0.12941176470588234, 0.13725490196078427, 0.1450980392156862, 0.15294117647058814, 0.16078431372549007, 0.16862745098039222, 0.17647058823529416, 0.1843137254901961, 0.19215686274509802, 0.19999999999999996, 0.2078431372549019, 0.21568627450980382, 0.22352941176470598, 0.2313725490196079, 0.23921568627450984, 0.24705882352941178, 0.2549019607843137, 0.26274509803921564, 0.2705882352941176, 0.2784313725490195, 0.28627450980392144, 0.2941176470588236, 0.3019607843137255, 0.30980392156862746, 0.3176470588235294, 0.3254901960784313, 0.33333333333333326, 0.3411764705882352, 0.34901960784313735, 0.3568627450980393, 0.3647058823529412, 0.37254901960784315, 0.3803921568627451, 0.388235294117647, 0.39607843137254894, 0.4039215686274509, 0.4117647058823528, 0.41960784313725497, 0.4274509803921569, 0.43529411764705883, 0.44313725490196076, 0.4509803921568627, 0.45882352941176463, 0.46666666666666656, 0.4745098039215687, 0.48235294117647065, 0.4901960784313726, 0.4980392156862745, 0.5058823529411764, 0.5137254901960784, 0.5215686274509803, 0.5294117647058822, 0.5372549019607842, 0.5450980392156863, 0.5529411764705883, 0.5607843137254902, 0.5686274509803921, 0.5764705882352941, 0.584313725490196, 0.5921568627450979, 0.6000000000000001, 0.607843137254902, 0.615686274509804, 0.6235294117647059, 0.6313725490196078, 0.6392156862745098, 0.6470588235294117, 0.6549019607843136, 0.6627450980392156, 0.6705882352941177, 0.6784313725490196, 0.6862745098039216, 0.6941176470588235, 0.7019607843137254, 0.7098039215686274, 0.7176470588235293, 0.7254901960784315, 0.7333333333333334, 0.7411764705882353, 0.7490196078431373, 0.7568627450980392, 0.7647058823529411, 0.7725490196078431, 0.780392156862745, 0.7882352941176469, 0.7960784313725491, 0.803921568627451, 0.8117647058823529, 0.8196078431372549, 0.8274509803921568, 0.8352941176470587, 0.8431372549019607, 0.8509803921568628, 0.8588235294117648, 0.8666666666666667, 0.8745098039215686, 0.8823529411764706, 0.8901960784313725, 0.8980392156862744, 0.9058823529411764, 0.9137254901960783, 0.9215686274509804, 0.9294117647058824, 0.9372549019607843, 0.9450980392156862, 0.9529411764705882, 0.9607843137254901, 0.968627450980392, 0.9764705882352942, 0.9843137254901961, 0.9921568627450981, 1.0], \"y\": [-0.980150580406189, -0.9741684794425964, -0.9681536555290222, -0.9621058702468872, -0.956025242805481, -0.949911892414093, -0.9437656998634338, -0.9375869035720825, -0.9313752055168152, -0.92513108253479, -0.9188541769981384, -0.9125447869300842, -0.9062027931213379, -0.899828314781189, -0.8934214115142822, -0.8869822025299072, -0.880510687828064, -0.8740069270133972, -0.8674709796905518, -0.8609030246734619, -0.8543030619621277, -0.8476710319519043, -0.84100741147995, -0.8343117833137512, -0.8275846838951111, -0.82082599401474, -0.814035952091217, -0.8072144985198975, -0.8003618121147156, -0.7934780120849609, -0.7865633368492126, -0.7796176671981812, -0.7726414203643799, -0.7656344771385193, -0.7585971355438232, -0.7515294551849365, -0.7444316744804382, -0.7373038530349731, -0.7301461696624756, -0.7229587435722351, -0.7157418727874756, -0.7084956169128418, -0.7012202143669128, -0.6939157843589783, -0.6865824460983276, -0.6792206168174744, -0.6718302369117737, -0.664411723613739, -0.6569651365280151, -0.6494905948638916, -0.6419883966445923, -0.6344589591026306, -0.6269022226333618, -0.6193184852600098, -0.6117080450057983, -0.6040710806846619, -0.5964078307151794, -0.5887184739112854, -0.5810033679008484, -0.5732627511024475, -0.5654967427253723, -0.5577057600021362, -0.5498899817466736, -0.5420496463775635, -0.5341851115226746, -0.5262966156005859, -0.5183844566345215, -0.5104488730430603, -0.5024901628494263, -0.49450862407684326, -0.48650452494621277, -0.47847825288772583, -0.47043001651763916, -0.4623601734638214, -0.4542689919471741, -0.4461568593978882, -0.43802404403686523, -0.4298708438873291, -0.42169761657714844, -0.4135047197341919, -0.40529245138168335, -0.39706116914749146, -0.3888111710548401, -0.3805428743362427, -0.3722565770149231, -0.36395263671875, -0.35563141107559204, -0.34729328751564026, -0.3389385938644409, -0.3305676579475403, -0.32218098640441895, -0.31377875804901123, -0.3053615391254425, -0.2969295382499695, -0.28848326206207275, -0.2800230383872986, -0.2715492248535156, -0.2630622684955597, -0.25456252694129944, -0.2460504174232483, -0.2375262975692749, -0.2289905995130539, -0.2204437106847763, -0.21188604831695557, -0.20331798493862152, -0.1947399377822876, -0.1861523538827896, -0.1775556057691574, -0.1689501255750656, -0.16033633053302765, -0.15171460807323456, -0.14308539032936096, -0.13444910943508148, -0.12580619752407074, -0.11715704202651978, -0.1085021048784256, -0.09984175860881805, -0.09117648005485535, -0.08250667154788971, -0.07383277267217636, -0.06515520066022873, -0.05647439509630203, -0.04779078811407089, -0.03910479694604874, -0.030416857451200485, -0.02172740548849106, -0.013036875985562801, -0.004345697816461325, 0.004345697816461325, 0.013036876916885376, 0.021727407351136208, 0.030416857451200485, 0.03910479694604874, 0.047790784388780594, 0.05647439509630203, 0.06515520066022873, 0.07383277267217636, 0.08250667154788971, 0.09117648005485535, 0.09984175860881805, 0.1085021048784256, 0.11715704202651978, 0.12580619752407074, 0.13444910943508148, 0.14308539032936096, 0.15171460807323456, 0.16033633053302765, 0.1689501255750656, 0.1775556057691574, 0.1861523538827896, 0.1947399377822876, 0.20331798493862152, 0.21188604831695557, 0.2204437106847763, 0.2289905995130539, 0.2375262975692749, 0.2460504174232483, 0.25456252694129944, 0.2630622684955597, 0.2715492248535156, 0.2800230383872986, 0.28848326206207275, 0.2969295382499695, 0.3053615391254425, 0.31377875804901123, 0.32218098640441895, 0.3305676579475403, 0.3389385938644409, 0.34729328751564026, 0.35563141107559204, 0.36395263671875, 0.3722565770149231, 0.3805428743362427, 0.3888111710548401, 0.39706116914749146, 0.40529245138168335, 0.4135047197341919, 0.42169761657714844, 0.4298708438873291, 0.43802404403686523, 0.4461568593978882, 0.4542689919471741, 0.4623601734638214, 0.47043001651763916, 0.47847825288772583, 0.48650452494621277, 0.49450862407684326, 0.5024901628494263, 0.5104488730430603, 0.5183844566345215, 0.5262966156005859, 0.5341851115226746, 0.5420496463775635, 0.5498899817466736, 0.5577057600021362, 0.5654967427253723, 0.5732627511024475, 0.5810033679008484, 0.5887184739112854, 0.5964078307151794, 0.6040710806846619, 0.6117080450057983, 0.6193184852600098, 0.6269022226333618, 0.6344589591026306, 0.6419883966445923, 0.6494905948638916, 0.6569651365280151, 0.664411723613739, 0.6718302369117737, 0.6792206168174744, 0.6865824460983276, 0.6939157843589783, 0.7012202143669128, 0.7084956169128418, 0.7157418727874756, 0.7229587435722351, 0.7301461696624756, 0.7373038530349731, 0.7444316744804382, 0.7515294551849365, 0.7585971355438232, 0.7656344771385193, 0.7726414203643799, 0.7796176671981812, 0.7865633368492126, 0.7934780120849609, 0.8003618121147156, 0.8072144985198975, 0.814035952091217, 0.82082599401474, 0.8275846838951111, 0.8343117833137512, 0.84100741147995, 0.8476710319519043, 0.8543030619621277, 0.8609030246734619, 0.8674709796905518, 0.8740069270133972, 0.880510687828064, 0.8869822025299072, 0.8934214115142822, 0.899828314781189, 0.9062027931213379, 0.9125447869300842, 0.9188541769981384, 0.92513108253479, 0.9313752055168152, 0.9375869035720825, 0.9437656998634338, 0.949911892414093, 0.956025242805481, 0.9621058702468872, 0.9681536555290222, 0.9741684794425964, 0.980150580406189]}],\n",
       "                        {\"height\": 400, \"template\": {\"data\": {\"bar\": [{\"error_x\": {\"color\": \"#2a3f5f\"}, \"error_y\": {\"color\": \"#2a3f5f\"}, \"marker\": {\"line\": {\"color\": \"#E5ECF6\", \"width\": 0.5}}, \"type\": \"bar\"}], \"barpolar\": [{\"marker\": {\"line\": {\"color\": \"#E5ECF6\", \"width\": 0.5}}, \"type\": \"barpolar\"}], \"carpet\": [{\"aaxis\": {\"endlinecolor\": \"#2a3f5f\", \"gridcolor\": \"white\", \"linecolor\": \"white\", \"minorgridcolor\": \"white\", \"startlinecolor\": \"#2a3f5f\"}, \"baxis\": {\"endlinecolor\": \"#2a3f5f\", \"gridcolor\": \"white\", \"linecolor\": \"white\", \"minorgridcolor\": \"white\", \"startlinecolor\": \"#2a3f5f\"}, \"type\": \"carpet\"}], \"choropleth\": [{\"colorbar\": {\"outlinewidth\": 0, \"ticks\": \"\"}, \"type\": \"choropleth\"}], \"contour\": [{\"colorbar\": {\"outlinewidth\": 0, \"ticks\": \"\"}, \"colorscale\": [[0.0, \"#0d0887\"], [0.1111111111111111, \"#46039f\"], [0.2222222222222222, \"#7201a8\"], [0.3333333333333333, \"#9c179e\"], [0.4444444444444444, \"#bd3786\"], [0.5555555555555556, \"#d8576b\"], [0.6666666666666666, \"#ed7953\"], [0.7777777777777778, \"#fb9f3a\"], [0.8888888888888888, \"#fdca26\"], [1.0, \"#f0f921\"]], \"type\": \"contour\"}], \"contourcarpet\": [{\"colorbar\": {\"outlinewidth\": 0, \"ticks\": \"\"}, \"type\": \"contourcarpet\"}], \"heatmap\": [{\"colorbar\": {\"outlinewidth\": 0, \"ticks\": \"\"}, \"colorscale\": [[0.0, \"#0d0887\"], [0.1111111111111111, \"#46039f\"], [0.2222222222222222, \"#7201a8\"], [0.3333333333333333, \"#9c179e\"], [0.4444444444444444, \"#bd3786\"], [0.5555555555555556, \"#d8576b\"], [0.6666666666666666, \"#ed7953\"], [0.7777777777777778, \"#fb9f3a\"], [0.8888888888888888, \"#fdca26\"], [1.0, \"#f0f921\"]], \"type\": \"heatmap\"}], \"heatmapgl\": [{\"colorbar\": {\"outlinewidth\": 0, \"ticks\": \"\"}, \"colorscale\": [[0.0, \"#0d0887\"], [0.1111111111111111, \"#46039f\"], [0.2222222222222222, \"#7201a8\"], [0.3333333333333333, \"#9c179e\"], [0.4444444444444444, \"#bd3786\"], [0.5555555555555556, \"#d8576b\"], [0.6666666666666666, \"#ed7953\"], [0.7777777777777778, \"#fb9f3a\"], [0.8888888888888888, \"#fdca26\"], [1.0, \"#f0f921\"]], \"type\": \"heatmapgl\"}], \"histogram\": [{\"marker\": {\"colorbar\": {\"outlinewidth\": 0, \"ticks\": \"\"}}, \"type\": \"histogram\"}], \"histogram2d\": [{\"colorbar\": {\"outlinewidth\": 0, \"ticks\": \"\"}, \"colorscale\": [[0.0, \"#0d0887\"], [0.1111111111111111, \"#46039f\"], [0.2222222222222222, \"#7201a8\"], [0.3333333333333333, \"#9c179e\"], [0.4444444444444444, \"#bd3786\"], [0.5555555555555556, \"#d8576b\"], [0.6666666666666666, \"#ed7953\"], [0.7777777777777778, \"#fb9f3a\"], [0.8888888888888888, \"#fdca26\"], [1.0, \"#f0f921\"]], \"type\": \"histogram2d\"}], \"histogram2dcontour\": [{\"colorbar\": {\"outlinewidth\": 0, \"ticks\": \"\"}, \"colorscale\": [[0.0, \"#0d0887\"], [0.1111111111111111, \"#46039f\"], [0.2222222222222222, \"#7201a8\"], [0.3333333333333333, \"#9c179e\"], [0.4444444444444444, \"#bd3786\"], [0.5555555555555556, \"#d8576b\"], [0.6666666666666666, \"#ed7953\"], [0.7777777777777778, \"#fb9f3a\"], [0.8888888888888888, \"#fdca26\"], [1.0, \"#f0f921\"]], \"type\": \"histogram2dcontour\"}], \"mesh3d\": [{\"colorbar\": {\"outlinewidth\": 0, \"ticks\": \"\"}, \"type\": \"mesh3d\"}], \"parcoords\": [{\"line\": {\"colorbar\": {\"outlinewidth\": 0, \"ticks\": \"\"}}, \"type\": \"parcoords\"}], \"pie\": [{\"automargin\": true, \"type\": \"pie\"}], \"scatter\": [{\"marker\": {\"colorbar\": {\"outlinewidth\": 0, \"ticks\": \"\"}}, \"type\": \"scatter\"}], \"scatter3d\": [{\"line\": {\"colorbar\": {\"outlinewidth\": 0, \"ticks\": \"\"}}, \"marker\": {\"colorbar\": {\"outlinewidth\": 0, \"ticks\": \"\"}}, \"type\": \"scatter3d\"}], \"scattercarpet\": [{\"marker\": {\"colorbar\": {\"outlinewidth\": 0, \"ticks\": \"\"}}, \"type\": \"scattercarpet\"}], \"scattergeo\": [{\"marker\": {\"colorbar\": {\"outlinewidth\": 0, \"ticks\": \"\"}}, \"type\": \"scattergeo\"}], \"scattergl\": [{\"marker\": {\"colorbar\": {\"outlinewidth\": 0, \"ticks\": \"\"}}, \"type\": \"scattergl\"}], \"scattermapbox\": [{\"marker\": {\"colorbar\": {\"outlinewidth\": 0, \"ticks\": \"\"}}, \"type\": \"scattermapbox\"}], \"scatterpolar\": [{\"marker\": {\"colorbar\": {\"outlinewidth\": 0, \"ticks\": \"\"}}, \"type\": \"scatterpolar\"}], \"scatterpolargl\": [{\"marker\": {\"colorbar\": {\"outlinewidth\": 0, \"ticks\": \"\"}}, \"type\": \"scatterpolargl\"}], \"scatterternary\": [{\"marker\": {\"colorbar\": {\"outlinewidth\": 0, \"ticks\": \"\"}}, \"type\": \"scatterternary\"}], \"surface\": [{\"colorbar\": {\"outlinewidth\": 0, \"ticks\": \"\"}, \"colorscale\": [[0.0, \"#0d0887\"], [0.1111111111111111, \"#46039f\"], [0.2222222222222222, \"#7201a8\"], [0.3333333333333333, \"#9c179e\"], [0.4444444444444444, \"#bd3786\"], [0.5555555555555556, \"#d8576b\"], [0.6666666666666666, \"#ed7953\"], [0.7777777777777778, \"#fb9f3a\"], [0.8888888888888888, \"#fdca26\"], [1.0, \"#f0f921\"]], \"type\": \"surface\"}], \"table\": [{\"cells\": {\"fill\": {\"color\": \"#EBF0F8\"}, \"line\": {\"color\": \"white\"}}, \"header\": {\"fill\": {\"color\": \"#C8D4E3\"}, \"line\": {\"color\": \"white\"}}, \"type\": \"table\"}]}, \"layout\": {\"annotationdefaults\": {\"arrowcolor\": \"#2a3f5f\", \"arrowhead\": 0, \"arrowwidth\": 1}, \"coloraxis\": {\"colorbar\": {\"outlinewidth\": 0, \"ticks\": \"\"}}, \"colorscale\": {\"diverging\": [[0, \"#8e0152\"], [0.1, \"#c51b7d\"], [0.2, \"#de77ae\"], [0.3, \"#f1b6da\"], [0.4, \"#fde0ef\"], [0.5, \"#f7f7f7\"], [0.6, \"#e6f5d0\"], [0.7, \"#b8e186\"], [0.8, \"#7fbc41\"], [0.9, \"#4d9221\"], [1, \"#276419\"]], \"sequential\": [[0.0, \"#0d0887\"], [0.1111111111111111, \"#46039f\"], [0.2222222222222222, \"#7201a8\"], [0.3333333333333333, \"#9c179e\"], [0.4444444444444444, \"#bd3786\"], [0.5555555555555556, \"#d8576b\"], [0.6666666666666666, \"#ed7953\"], [0.7777777777777778, \"#fb9f3a\"], [0.8888888888888888, \"#fdca26\"], [1.0, \"#f0f921\"]], \"sequentialminus\": [[0.0, \"#0d0887\"], [0.1111111111111111, \"#46039f\"], [0.2222222222222222, \"#7201a8\"], [0.3333333333333333, \"#9c179e\"], [0.4444444444444444, \"#bd3786\"], [0.5555555555555556, \"#d8576b\"], [0.6666666666666666, \"#ed7953\"], [0.7777777777777778, \"#fb9f3a\"], [0.8888888888888888, \"#fdca26\"], [1.0, \"#f0f921\"]]}, \"colorway\": [\"#636efa\", \"#EF553B\", \"#00cc96\", \"#ab63fa\", \"#FFA15A\", \"#19d3f3\", \"#FF6692\", \"#B6E880\", \"#FF97FF\", \"#FECB52\"], \"font\": {\"color\": \"#2a3f5f\"}, \"geo\": {\"bgcolor\": \"white\", \"lakecolor\": \"white\", \"landcolor\": \"#E5ECF6\", \"showlakes\": true, \"showland\": true, \"subunitcolor\": \"white\"}, \"hoverlabel\": {\"align\": \"left\"}, \"hovermode\": \"closest\", \"mapbox\": {\"style\": \"light\"}, \"paper_bgcolor\": \"white\", \"plot_bgcolor\": \"#E5ECF6\", \"polar\": {\"angularaxis\": {\"gridcolor\": \"white\", \"linecolor\": \"white\", \"ticks\": \"\"}, \"bgcolor\": \"#E5ECF6\", \"radialaxis\": {\"gridcolor\": \"white\", \"linecolor\": \"white\", \"ticks\": \"\"}}, \"scene\": {\"xaxis\": {\"backgroundcolor\": \"#E5ECF6\", \"gridcolor\": \"white\", \"gridwidth\": 2, \"linecolor\": \"white\", \"showbackground\": true, \"ticks\": \"\", \"zerolinecolor\": \"white\"}, \"yaxis\": {\"backgroundcolor\": \"#E5ECF6\", \"gridcolor\": \"white\", \"gridwidth\": 2, \"linecolor\": \"white\", \"showbackground\": true, \"ticks\": \"\", \"zerolinecolor\": \"white\"}, \"zaxis\": {\"backgroundcolor\": \"#E5ECF6\", \"gridcolor\": \"white\", \"gridwidth\": 2, \"linecolor\": \"white\", \"showbackground\": true, \"ticks\": \"\", \"zerolinecolor\": \"white\"}}, \"shapedefaults\": {\"line\": {\"color\": \"#2a3f5f\"}}, \"ternary\": {\"aaxis\": {\"gridcolor\": \"white\", \"linecolor\": \"white\", \"ticks\": \"\"}, \"baxis\": {\"gridcolor\": \"white\", \"linecolor\": \"white\", \"ticks\": \"\"}, \"bgcolor\": \"#E5ECF6\", \"caxis\": {\"gridcolor\": \"white\", \"linecolor\": \"white\", \"ticks\": \"\"}}, \"title\": {\"x\": 0.05}, \"xaxis\": {\"automargin\": true, \"gridcolor\": \"white\", \"linecolor\": \"white\", \"ticks\": \"\", \"title\": {\"standoff\": 15}, \"zerolinecolor\": \"white\", \"zerolinewidth\": 2}, \"yaxis\": {\"automargin\": true, \"gridcolor\": \"white\", \"linecolor\": \"white\", \"ticks\": \"\", \"title\": {\"standoff\": 15}, \"zerolinecolor\": \"white\", \"zerolinewidth\": 2}}}, \"width\": 600},\n",
       "                        {\"responsive\": true}\n",
       "                    ).then(function(){\n",
       "                            \n",
       "var gd = document.getElementById('43c27d7e-0c3c-43c1-bc5e-95999a1f9d21');\n",
       "var x = new MutationObserver(function (mutations, observer) {{\n",
       "        var display = window.getComputedStyle(gd).display;\n",
       "        if (!display || display === 'none') {{\n",
       "            console.log([gd, 'removed!']);\n",
       "            Plotly.purge(gd);\n",
       "            observer.disconnect();\n",
       "        }}\n",
       "}});\n",
       "\n",
       "// Listen for the removal of the full notebook cells\n",
       "var notebookContainer = gd.closest('#notebook-container');\n",
       "if (notebookContainer) {{\n",
       "    x.observe(notebookContainer, {childList: true});\n",
       "}}\n",
       "\n",
       "// Listen for the clearing of the current output cell\n",
       "var outputEl = gd.closest('.output');\n",
       "if (outputEl) {{\n",
       "    x.observe(outputEl, {childList: true});\n",
       "}}\n",
       "\n",
       "                        })\n",
       "                };\n",
       "                });\n",
       "            </script>\n",
       "        </div>"
      ]
     },
     "metadata": {},
     "output_type": "display_data"
    },
    {
     "data": {
      "application/vnd.plotly.v1+json": {
       "config": {
        "plotlyServerURL": "https://plot.ly"
       },
       "data": [
        {
         "name": "loss",
         "type": "scatter",
         "y": [
          0.9636170778749289,
          0.741049486350848,
          0.5776831768633105,
          0.4562354699525412,
          0.3667890943975597,
          0.30253388934210085,
          0.2580175884511475,
          0.22845995461282143,
          0.2096421771805543,
          0.1980702448492597,
          0.19111235106197483,
          0.18696101524705608,
          0.18446252087223758,
          0.1829169561829879,
          0.1819136423831452,
          0.1812165961232126,
          0.18069182517695057,
          0.18026390091788355,
          0.1798904765232931,
          0.17954789833983606,
          0.17922290572692026,
          0.17890814026412852,
          0.17859950526084598,
          0.17829467154556994,
          0.17799238195418318,
          0.1776918842540949,
          0.17739282004783255,
          0.1770949757245634,
          0.17679818888271695,
          0.17650243319746983,
          0.17620762929514897,
          0.17591378725506993,
          0.1756208641780272,
          0.17532886998183436,
          0.17503780931510693,
          0.17474766552440904,
          0.17445843250761395,
          0.17417011480211117,
          0.17388271696097757,
          0.1735962220933556,
          0.17331064005100305,
          0.17302596997125722,
          0.17274221636271722,
          0.17245934594738704,
          0.17217739553279182,
          0.17189633713839766,
          0.17161618057360545,
          0.17133691395535303,
          0.17105855253129862,
          0.17078107891440655,
          0.17050449743904467,
          0.17022881245376859,
          0.16995399544210565,
          0.16968008355360073,
          0.16940704269589638,
          0.1691348825937967,
          0.1688636185363551,
          0.16859322722833878,
          0.16832370734271543,
          0.16805506307214066,
          0.16778728752122776,
          0.16752038485583196,
          0.1672543592547766,
          0.16698919817831082,
          0.1667249001652986,
          0.16646145813706073,
          0.16619889297505425,
          0.16593716955421434,
          0.16567631997039828,
          0.1654163089463268,
          0.1651571629985306,
          0.16489886361416475,
          0.16464143740433734,
          0.16438483181620495,
          0.16412907907039395,
          0.1638741717935958,
          0.1636201082453523,
          0.16336688096048382,
          0.16311451096263832,
          0.16286296792647864,
          0.16261224996239798,
          0.16236237810081708,
          0.1621133332745905,
          0.1618651135474397,
          0.16161772848353964,
          0.16137115883632558,
          0.16112542568961435,
          0.16088050972085152,
          0.1606364088700882,
          0.1603931326653858,
          0.16015067904947994,
          0.15990902264360468,
          0.15966819039892274,
          0.15942816852543787,
          0.1591889548383117,
          0.1589505412680064,
          0.15871295489212756,
          0.15847614654042616,
          0.15824014913337983,
          0.1580049604104262
         ]
        },
        {
         "name": "error training",
         "type": "scatter",
         "y": [
          0.9503095746040344,
          0.7241600155830383,
          0.5559576749801636,
          0.42822080850601196,
          0.33093035221099854,
          0.2574107050895691,
          0.2027159035205841,
          0.16294284164905548,
          0.13487716019153595,
          0.11577759683132172,
          0.1032726988196373,
          0.0953693762421608,
          0.09050578624010086,
          0.08755780011415482,
          0.08577682077884674,
          0.0846923366189003,
          0.08401964604854584,
          0.08359022438526154,
          0.08330530673265457,
          0.08310718089342117,
          0.08296196162700653,
          0.08284958451986313,
          0.0827581062912941,
          0.08268013596534729,
          0.08261120319366455,
          0.0825483649969101,
          0.08248985558748245,
          0.08243443071842194,
          0.08238121122121811,
          0.08232971280813217,
          0.08227948099374771,
          0.08223026245832443,
          0.08218182623386383,
          0.08213406056165695,
          0.08208685368299484,
          0.08204010874032974,
          0.08199375867843628,
          0.08194778114557266,
          0.08190212398767471,
          0.08185680955648422,
          0.08181175589561462,
          0.08176697790622711,
          0.08172246813774109,
          0.08167818188667297,
          0.08163418620824814,
          0.08159039169549942,
          0.081546850502491,
          0.08150354027748108,
          0.08146046847105026,
          0.08141760528087616,
          0.08137497305870056,
          0.08133257180452347,
          0.0812903568148613,
          0.08124838769435883,
          0.08120664209127426,
          0.08116509765386581,
          0.08112377673387527,
          0.08108265697956085,
          0.08104176074266434,
          0.08100108057260513,
          0.08096059411764145,
          0.08092030882835388,
          0.08088026195764542,
          0.08084039390087128,
          0.08080076426267624,
          0.08076131343841553,
          0.08072207868099213,
          0.08068303018808365,
          0.08064419776201248,
          0.08060554414987564,
          0.08056711405515671,
          0.0805288553237915,
          0.0804908499121666,
          0.08045298606157303,
          0.08041532337665558,
          0.08037786185741425,
          0.08034059405326843,
          0.08030351996421814,
          0.08026666194200516,
          0.08022996783256531,
          0.08019345998764038,
          0.08015714585781097,
          0.08012101799249649,
          0.08008506149053574,
          0.08004932105541229,
          0.08001374453306198,
          0.07997836917638779,
          0.07994316518306732,
          0.07990814745426178,
          0.07987329363822937,
          0.07983864098787308,
          0.07980415225028992,
          0.07976983487606049,
          0.07973571866750717,
          0.07970175892114639,
          0.07966798543930054,
          0.0796343982219696,
          0.07960096001625061,
          0.07956769317388535,
          0.079534612596035
         ]
        },
        {
         "name": "error validation",
         "type": "scatter",
         "y": [
          0.669633150100708,
          0.5077956318855286,
          0.3842485547065735,
          0.28929972648620605,
          0.21651694178581238,
          0.16115473210811615,
          0.11953645944595337,
          0.08879006654024124,
          0.0666980892419815,
          0.05155181512236595,
          0.04194711521267891,
          0.036549318581819534,
          0.03401017189025879,
          0.03313946723937988,
          0.033093009144067764,
          0.03337743878364563,
          0.03374325856566429,
          0.03407964110374451,
          0.034346241503953934,
          0.034535445272922516,
          0.03465351462364197,
          0.03471152111887932,
          0.034720830619335175,
          0.0346919447183609,
          0.034633465111255646,
          0.03455258533358574,
          0.034454699605703354,
          0.0343441367149353,
          0.034224219620227814,
          0.03409741818904877,
          0.033965595066547394,
          0.0338301807641983,
          0.03369229659438133,
          0.03355268016457558,
          0.033411987125873566,
          0.03327061980962753,
          0.033128950744867325,
          0.032987236976623535,
          0.032845642417669296,
          0.032704420387744904,
          0.03256351128220558,
          0.03242306783795357,
          0.032283131033182144,
          0.032143834978342056,
          0.03200504183769226,
          0.03186692297458649,
          0.03172941133379936,
          0.031592559069395065,
          0.03145637363195419,
          0.03132083639502525,
          0.03118601255118847,
          0.031051771715283394,
          0.030918294563889503,
          0.03078540414571762,
          0.030653223395347595,
          0.030521731823682785,
          0.03039093129336834,
          0.030260711908340454,
          0.03013121895492077,
          0.030002430081367493,
          0.029874224215745926,
          0.029746759682893753,
          0.02961987815797329,
          0.029493683949112892,
          0.02936815656721592,
          0.02924327924847603,
          0.02911905199289322,
          0.028995469212532043,
          0.028872519731521606,
          0.028750229626893997,
          0.028628531843423843,
          0.02850753627717495,
          0.02838716469705105,
          0.028267458081245422,
          0.028148304671049118,
          0.02802983485162258,
          0.02791200578212738,
          0.027794810011982918,
          0.027678219601511955,
          0.027562247589230537,
          0.027446873486042023,
          0.027332160621881485,
          0.027218034490942955,
          0.027104545384645462,
          0.02699168026447296,
          0.026879392564296722,
          0.02676774375140667,
          0.026656650006771088,
          0.026546217501163483,
          0.026436379179358482,
          0.02632712759077549,
          0.026218459010124207,
          0.026110373437404633,
          0.026002882048487663,
          0.025895990431308746,
          0.02578973025083542,
          0.025684010237455368,
          0.025578904896974564,
          0.02547440677881241,
          0.025370391085743904
         ]
        }
       ],
       "layout": {
        "height": 400,
        "template": {
         "data": {
          "bar": [
           {
            "error_x": {
             "color": "#2a3f5f"
            },
            "error_y": {
             "color": "#2a3f5f"
            },
            "marker": {
             "line": {
              "color": "#E5ECF6",
              "width": 0.5
             }
            },
            "type": "bar"
           }
          ],
          "barpolar": [
           {
            "marker": {
             "line": {
              "color": "#E5ECF6",
              "width": 0.5
             }
            },
            "type": "barpolar"
           }
          ],
          "carpet": [
           {
            "aaxis": {
             "endlinecolor": "#2a3f5f",
             "gridcolor": "white",
             "linecolor": "white",
             "minorgridcolor": "white",
             "startlinecolor": "#2a3f5f"
            },
            "baxis": {
             "endlinecolor": "#2a3f5f",
             "gridcolor": "white",
             "linecolor": "white",
             "minorgridcolor": "white",
             "startlinecolor": "#2a3f5f"
            },
            "type": "carpet"
           }
          ],
          "choropleth": [
           {
            "colorbar": {
             "outlinewidth": 0,
             "ticks": ""
            },
            "type": "choropleth"
           }
          ],
          "contour": [
           {
            "colorbar": {
             "outlinewidth": 0,
             "ticks": ""
            },
            "colorscale": [
             [
              0,
              "#0d0887"
             ],
             [
              0.1111111111111111,
              "#46039f"
             ],
             [
              0.2222222222222222,
              "#7201a8"
             ],
             [
              0.3333333333333333,
              "#9c179e"
             ],
             [
              0.4444444444444444,
              "#bd3786"
             ],
             [
              0.5555555555555556,
              "#d8576b"
             ],
             [
              0.6666666666666666,
              "#ed7953"
             ],
             [
              0.7777777777777778,
              "#fb9f3a"
             ],
             [
              0.8888888888888888,
              "#fdca26"
             ],
             [
              1,
              "#f0f921"
             ]
            ],
            "type": "contour"
           }
          ],
          "contourcarpet": [
           {
            "colorbar": {
             "outlinewidth": 0,
             "ticks": ""
            },
            "type": "contourcarpet"
           }
          ],
          "heatmap": [
           {
            "colorbar": {
             "outlinewidth": 0,
             "ticks": ""
            },
            "colorscale": [
             [
              0,
              "#0d0887"
             ],
             [
              0.1111111111111111,
              "#46039f"
             ],
             [
              0.2222222222222222,
              "#7201a8"
             ],
             [
              0.3333333333333333,
              "#9c179e"
             ],
             [
              0.4444444444444444,
              "#bd3786"
             ],
             [
              0.5555555555555556,
              "#d8576b"
             ],
             [
              0.6666666666666666,
              "#ed7953"
             ],
             [
              0.7777777777777778,
              "#fb9f3a"
             ],
             [
              0.8888888888888888,
              "#fdca26"
             ],
             [
              1,
              "#f0f921"
             ]
            ],
            "type": "heatmap"
           }
          ],
          "heatmapgl": [
           {
            "colorbar": {
             "outlinewidth": 0,
             "ticks": ""
            },
            "colorscale": [
             [
              0,
              "#0d0887"
             ],
             [
              0.1111111111111111,
              "#46039f"
             ],
             [
              0.2222222222222222,
              "#7201a8"
             ],
             [
              0.3333333333333333,
              "#9c179e"
             ],
             [
              0.4444444444444444,
              "#bd3786"
             ],
             [
              0.5555555555555556,
              "#d8576b"
             ],
             [
              0.6666666666666666,
              "#ed7953"
             ],
             [
              0.7777777777777778,
              "#fb9f3a"
             ],
             [
              0.8888888888888888,
              "#fdca26"
             ],
             [
              1,
              "#f0f921"
             ]
            ],
            "type": "heatmapgl"
           }
          ],
          "histogram": [
           {
            "marker": {
             "colorbar": {
              "outlinewidth": 0,
              "ticks": ""
             }
            },
            "type": "histogram"
           }
          ],
          "histogram2d": [
           {
            "colorbar": {
             "outlinewidth": 0,
             "ticks": ""
            },
            "colorscale": [
             [
              0,
              "#0d0887"
             ],
             [
              0.1111111111111111,
              "#46039f"
             ],
             [
              0.2222222222222222,
              "#7201a8"
             ],
             [
              0.3333333333333333,
              "#9c179e"
             ],
             [
              0.4444444444444444,
              "#bd3786"
             ],
             [
              0.5555555555555556,
              "#d8576b"
             ],
             [
              0.6666666666666666,
              "#ed7953"
             ],
             [
              0.7777777777777778,
              "#fb9f3a"
             ],
             [
              0.8888888888888888,
              "#fdca26"
             ],
             [
              1,
              "#f0f921"
             ]
            ],
            "type": "histogram2d"
           }
          ],
          "histogram2dcontour": [
           {
            "colorbar": {
             "outlinewidth": 0,
             "ticks": ""
            },
            "colorscale": [
             [
              0,
              "#0d0887"
             ],
             [
              0.1111111111111111,
              "#46039f"
             ],
             [
              0.2222222222222222,
              "#7201a8"
             ],
             [
              0.3333333333333333,
              "#9c179e"
             ],
             [
              0.4444444444444444,
              "#bd3786"
             ],
             [
              0.5555555555555556,
              "#d8576b"
             ],
             [
              0.6666666666666666,
              "#ed7953"
             ],
             [
              0.7777777777777778,
              "#fb9f3a"
             ],
             [
              0.8888888888888888,
              "#fdca26"
             ],
             [
              1,
              "#f0f921"
             ]
            ],
            "type": "histogram2dcontour"
           }
          ],
          "mesh3d": [
           {
            "colorbar": {
             "outlinewidth": 0,
             "ticks": ""
            },
            "type": "mesh3d"
           }
          ],
          "parcoords": [
           {
            "line": {
             "colorbar": {
              "outlinewidth": 0,
              "ticks": ""
             }
            },
            "type": "parcoords"
           }
          ],
          "pie": [
           {
            "automargin": true,
            "type": "pie"
           }
          ],
          "scatter": [
           {
            "marker": {
             "colorbar": {
              "outlinewidth": 0,
              "ticks": ""
             }
            },
            "type": "scatter"
           }
          ],
          "scatter3d": [
           {
            "line": {
             "colorbar": {
              "outlinewidth": 0,
              "ticks": ""
             }
            },
            "marker": {
             "colorbar": {
              "outlinewidth": 0,
              "ticks": ""
             }
            },
            "type": "scatter3d"
           }
          ],
          "scattercarpet": [
           {
            "marker": {
             "colorbar": {
              "outlinewidth": 0,
              "ticks": ""
             }
            },
            "type": "scattercarpet"
           }
          ],
          "scattergeo": [
           {
            "marker": {
             "colorbar": {
              "outlinewidth": 0,
              "ticks": ""
             }
            },
            "type": "scattergeo"
           }
          ],
          "scattergl": [
           {
            "marker": {
             "colorbar": {
              "outlinewidth": 0,
              "ticks": ""
             }
            },
            "type": "scattergl"
           }
          ],
          "scattermapbox": [
           {
            "marker": {
             "colorbar": {
              "outlinewidth": 0,
              "ticks": ""
             }
            },
            "type": "scattermapbox"
           }
          ],
          "scatterpolar": [
           {
            "marker": {
             "colorbar": {
              "outlinewidth": 0,
              "ticks": ""
             }
            },
            "type": "scatterpolar"
           }
          ],
          "scatterpolargl": [
           {
            "marker": {
             "colorbar": {
              "outlinewidth": 0,
              "ticks": ""
             }
            },
            "type": "scatterpolargl"
           }
          ],
          "scatterternary": [
           {
            "marker": {
             "colorbar": {
              "outlinewidth": 0,
              "ticks": ""
             }
            },
            "type": "scatterternary"
           }
          ],
          "surface": [
           {
            "colorbar": {
             "outlinewidth": 0,
             "ticks": ""
            },
            "colorscale": [
             [
              0,
              "#0d0887"
             ],
             [
              0.1111111111111111,
              "#46039f"
             ],
             [
              0.2222222222222222,
              "#7201a8"
             ],
             [
              0.3333333333333333,
              "#9c179e"
             ],
             [
              0.4444444444444444,
              "#bd3786"
             ],
             [
              0.5555555555555556,
              "#d8576b"
             ],
             [
              0.6666666666666666,
              "#ed7953"
             ],
             [
              0.7777777777777778,
              "#fb9f3a"
             ],
             [
              0.8888888888888888,
              "#fdca26"
             ],
             [
              1,
              "#f0f921"
             ]
            ],
            "type": "surface"
           }
          ],
          "table": [
           {
            "cells": {
             "fill": {
              "color": "#EBF0F8"
             },
             "line": {
              "color": "white"
             }
            },
            "header": {
             "fill": {
              "color": "#C8D4E3"
             },
             "line": {
              "color": "white"
             }
            },
            "type": "table"
           }
          ]
         },
         "layout": {
          "annotationdefaults": {
           "arrowcolor": "#2a3f5f",
           "arrowhead": 0,
           "arrowwidth": 1
          },
          "coloraxis": {
           "colorbar": {
            "outlinewidth": 0,
            "ticks": ""
           }
          },
          "colorscale": {
           "diverging": [
            [
             0,
             "#8e0152"
            ],
            [
             0.1,
             "#c51b7d"
            ],
            [
             0.2,
             "#de77ae"
            ],
            [
             0.3,
             "#f1b6da"
            ],
            [
             0.4,
             "#fde0ef"
            ],
            [
             0.5,
             "#f7f7f7"
            ],
            [
             0.6,
             "#e6f5d0"
            ],
            [
             0.7,
             "#b8e186"
            ],
            [
             0.8,
             "#7fbc41"
            ],
            [
             0.9,
             "#4d9221"
            ],
            [
             1,
             "#276419"
            ]
           ],
           "sequential": [
            [
             0,
             "#0d0887"
            ],
            [
             0.1111111111111111,
             "#46039f"
            ],
            [
             0.2222222222222222,
             "#7201a8"
            ],
            [
             0.3333333333333333,
             "#9c179e"
            ],
            [
             0.4444444444444444,
             "#bd3786"
            ],
            [
             0.5555555555555556,
             "#d8576b"
            ],
            [
             0.6666666666666666,
             "#ed7953"
            ],
            [
             0.7777777777777778,
             "#fb9f3a"
            ],
            [
             0.8888888888888888,
             "#fdca26"
            ],
            [
             1,
             "#f0f921"
            ]
           ],
           "sequentialminus": [
            [
             0,
             "#0d0887"
            ],
            [
             0.1111111111111111,
             "#46039f"
            ],
            [
             0.2222222222222222,
             "#7201a8"
            ],
            [
             0.3333333333333333,
             "#9c179e"
            ],
            [
             0.4444444444444444,
             "#bd3786"
            ],
            [
             0.5555555555555556,
             "#d8576b"
            ],
            [
             0.6666666666666666,
             "#ed7953"
            ],
            [
             0.7777777777777778,
             "#fb9f3a"
            ],
            [
             0.8888888888888888,
             "#fdca26"
            ],
            [
             1,
             "#f0f921"
            ]
           ]
          },
          "colorway": [
           "#636efa",
           "#EF553B",
           "#00cc96",
           "#ab63fa",
           "#FFA15A",
           "#19d3f3",
           "#FF6692",
           "#B6E880",
           "#FF97FF",
           "#FECB52"
          ],
          "font": {
           "color": "#2a3f5f"
          },
          "geo": {
           "bgcolor": "white",
           "lakecolor": "white",
           "landcolor": "#E5ECF6",
           "showlakes": true,
           "showland": true,
           "subunitcolor": "white"
          },
          "hoverlabel": {
           "align": "left"
          },
          "hovermode": "closest",
          "mapbox": {
           "style": "light"
          },
          "paper_bgcolor": "white",
          "plot_bgcolor": "#E5ECF6",
          "polar": {
           "angularaxis": {
            "gridcolor": "white",
            "linecolor": "white",
            "ticks": ""
           },
           "bgcolor": "#E5ECF6",
           "radialaxis": {
            "gridcolor": "white",
            "linecolor": "white",
            "ticks": ""
           }
          },
          "scene": {
           "xaxis": {
            "backgroundcolor": "#E5ECF6",
            "gridcolor": "white",
            "gridwidth": 2,
            "linecolor": "white",
            "showbackground": true,
            "ticks": "",
            "zerolinecolor": "white"
           },
           "yaxis": {
            "backgroundcolor": "#E5ECF6",
            "gridcolor": "white",
            "gridwidth": 2,
            "linecolor": "white",
            "showbackground": true,
            "ticks": "",
            "zerolinecolor": "white"
           },
           "zaxis": {
            "backgroundcolor": "#E5ECF6",
            "gridcolor": "white",
            "gridwidth": 2,
            "linecolor": "white",
            "showbackground": true,
            "ticks": "",
            "zerolinecolor": "white"
           }
          },
          "shapedefaults": {
           "line": {
            "color": "#2a3f5f"
           }
          },
          "ternary": {
           "aaxis": {
            "gridcolor": "white",
            "linecolor": "white",
            "ticks": ""
           },
           "baxis": {
            "gridcolor": "white",
            "linecolor": "white",
            "ticks": ""
           },
           "bgcolor": "#E5ECF6",
           "caxis": {
            "gridcolor": "white",
            "linecolor": "white",
            "ticks": ""
           }
          },
          "title": {
           "x": 0.05
          },
          "xaxis": {
           "automargin": true,
           "gridcolor": "white",
           "linecolor": "white",
           "ticks": "",
           "title": {
            "standoff": 15
           },
           "zerolinecolor": "white",
           "zerolinewidth": 2
          },
          "yaxis": {
           "automargin": true,
           "gridcolor": "white",
           "linecolor": "white",
           "ticks": "",
           "title": {
            "standoff": 15
           },
           "zerolinecolor": "white",
           "zerolinewidth": 2
          }
         }
        },
        "width": 600,
        "xaxis": {
         "title": {
          "text": "epoch"
         }
        },
        "yaxis": {
         "type": "log"
        }
       }
      },
      "text/html": [
       "<div>\n",
       "        \n",
       "        \n",
       "            <div id=\"ff1c6f0f-068c-4963-9430-ad7b44c99d73\" class=\"plotly-graph-div\" style=\"height:400px; width:600px;\"></div>\n",
       "            <script type=\"text/javascript\">\n",
       "                require([\"plotly\"], function(Plotly) {\n",
       "                    window.PLOTLYENV=window.PLOTLYENV || {};\n",
       "                    \n",
       "                if (document.getElementById(\"ff1c6f0f-068c-4963-9430-ad7b44c99d73\")) {\n",
       "                    Plotly.newPlot(\n",
       "                        'ff1c6f0f-068c-4963-9430-ad7b44c99d73',\n",
       "                        [{\"name\": \"loss\", \"type\": \"scatter\", \"y\": [0.9636170778749289, 0.741049486350848, 0.5776831768633105, 0.4562354699525412, 0.3667890943975597, 0.30253388934210085, 0.2580175884511475, 0.22845995461282143, 0.2096421771805543, 0.1980702448492597, 0.19111235106197483, 0.18696101524705608, 0.18446252087223758, 0.1829169561829879, 0.1819136423831452, 0.1812165961232126, 0.18069182517695057, 0.18026390091788355, 0.1798904765232931, 0.17954789833983606, 0.17922290572692026, 0.17890814026412852, 0.17859950526084598, 0.17829467154556994, 0.17799238195418318, 0.1776918842540949, 0.17739282004783255, 0.1770949757245634, 0.17679818888271695, 0.17650243319746983, 0.17620762929514897, 0.17591378725506993, 0.1756208641780272, 0.17532886998183436, 0.17503780931510693, 0.17474766552440904, 0.17445843250761395, 0.17417011480211117, 0.17388271696097757, 0.1735962220933556, 0.17331064005100305, 0.17302596997125722, 0.17274221636271722, 0.17245934594738704, 0.17217739553279182, 0.17189633713839766, 0.17161618057360545, 0.17133691395535303, 0.17105855253129862, 0.17078107891440655, 0.17050449743904467, 0.17022881245376859, 0.16995399544210565, 0.16968008355360073, 0.16940704269589638, 0.1691348825937967, 0.1688636185363551, 0.16859322722833878, 0.16832370734271543, 0.16805506307214066, 0.16778728752122776, 0.16752038485583196, 0.1672543592547766, 0.16698919817831082, 0.1667249001652986, 0.16646145813706073, 0.16619889297505425, 0.16593716955421434, 0.16567631997039828, 0.1654163089463268, 0.1651571629985306, 0.16489886361416475, 0.16464143740433734, 0.16438483181620495, 0.16412907907039395, 0.1638741717935958, 0.1636201082453523, 0.16336688096048382, 0.16311451096263832, 0.16286296792647864, 0.16261224996239798, 0.16236237810081708, 0.1621133332745905, 0.1618651135474397, 0.16161772848353964, 0.16137115883632558, 0.16112542568961435, 0.16088050972085152, 0.1606364088700882, 0.1603931326653858, 0.16015067904947994, 0.15990902264360468, 0.15966819039892274, 0.15942816852543787, 0.1591889548383117, 0.1589505412680064, 0.15871295489212756, 0.15847614654042616, 0.15824014913337983, 0.1580049604104262]}, {\"name\": \"error training\", \"type\": \"scatter\", \"y\": [0.9503095746040344, 0.7241600155830383, 0.5559576749801636, 0.42822080850601196, 0.33093035221099854, 0.2574107050895691, 0.2027159035205841, 0.16294284164905548, 0.13487716019153595, 0.11577759683132172, 0.1032726988196373, 0.0953693762421608, 0.09050578624010086, 0.08755780011415482, 0.08577682077884674, 0.0846923366189003, 0.08401964604854584, 0.08359022438526154, 0.08330530673265457, 0.08310718089342117, 0.08296196162700653, 0.08284958451986313, 0.0827581062912941, 0.08268013596534729, 0.08261120319366455, 0.0825483649969101, 0.08248985558748245, 0.08243443071842194, 0.08238121122121811, 0.08232971280813217, 0.08227948099374771, 0.08223026245832443, 0.08218182623386383, 0.08213406056165695, 0.08208685368299484, 0.08204010874032974, 0.08199375867843628, 0.08194778114557266, 0.08190212398767471, 0.08185680955648422, 0.08181175589561462, 0.08176697790622711, 0.08172246813774109, 0.08167818188667297, 0.08163418620824814, 0.08159039169549942, 0.081546850502491, 0.08150354027748108, 0.08146046847105026, 0.08141760528087616, 0.08137497305870056, 0.08133257180452347, 0.0812903568148613, 0.08124838769435883, 0.08120664209127426, 0.08116509765386581, 0.08112377673387527, 0.08108265697956085, 0.08104176074266434, 0.08100108057260513, 0.08096059411764145, 0.08092030882835388, 0.08088026195764542, 0.08084039390087128, 0.08080076426267624, 0.08076131343841553, 0.08072207868099213, 0.08068303018808365, 0.08064419776201248, 0.08060554414987564, 0.08056711405515671, 0.0805288553237915, 0.0804908499121666, 0.08045298606157303, 0.08041532337665558, 0.08037786185741425, 0.08034059405326843, 0.08030351996421814, 0.08026666194200516, 0.08022996783256531, 0.08019345998764038, 0.08015714585781097, 0.08012101799249649, 0.08008506149053574, 0.08004932105541229, 0.08001374453306198, 0.07997836917638779, 0.07994316518306732, 0.07990814745426178, 0.07987329363822937, 0.07983864098787308, 0.07980415225028992, 0.07976983487606049, 0.07973571866750717, 0.07970175892114639, 0.07966798543930054, 0.0796343982219696, 0.07960096001625061, 0.07956769317388535, 0.079534612596035]}, {\"name\": \"error validation\", \"type\": \"scatter\", \"y\": [0.669633150100708, 0.5077956318855286, 0.3842485547065735, 0.28929972648620605, 0.21651694178581238, 0.16115473210811615, 0.11953645944595337, 0.08879006654024124, 0.0666980892419815, 0.05155181512236595, 0.04194711521267891, 0.036549318581819534, 0.03401017189025879, 0.03313946723937988, 0.033093009144067764, 0.03337743878364563, 0.03374325856566429, 0.03407964110374451, 0.034346241503953934, 0.034535445272922516, 0.03465351462364197, 0.03471152111887932, 0.034720830619335175, 0.0346919447183609, 0.034633465111255646, 0.03455258533358574, 0.034454699605703354, 0.0343441367149353, 0.034224219620227814, 0.03409741818904877, 0.033965595066547394, 0.0338301807641983, 0.03369229659438133, 0.03355268016457558, 0.033411987125873566, 0.03327061980962753, 0.033128950744867325, 0.032987236976623535, 0.032845642417669296, 0.032704420387744904, 0.03256351128220558, 0.03242306783795357, 0.032283131033182144, 0.032143834978342056, 0.03200504183769226, 0.03186692297458649, 0.03172941133379936, 0.031592559069395065, 0.03145637363195419, 0.03132083639502525, 0.03118601255118847, 0.031051771715283394, 0.030918294563889503, 0.03078540414571762, 0.030653223395347595, 0.030521731823682785, 0.03039093129336834, 0.030260711908340454, 0.03013121895492077, 0.030002430081367493, 0.029874224215745926, 0.029746759682893753, 0.02961987815797329, 0.029493683949112892, 0.02936815656721592, 0.02924327924847603, 0.02911905199289322, 0.028995469212532043, 0.028872519731521606, 0.028750229626893997, 0.028628531843423843, 0.02850753627717495, 0.02838716469705105, 0.028267458081245422, 0.028148304671049118, 0.02802983485162258, 0.02791200578212738, 0.027794810011982918, 0.027678219601511955, 0.027562247589230537, 0.027446873486042023, 0.027332160621881485, 0.027218034490942955, 0.027104545384645462, 0.02699168026447296, 0.026879392564296722, 0.02676774375140667, 0.026656650006771088, 0.026546217501163483, 0.026436379179358482, 0.02632712759077549, 0.026218459010124207, 0.026110373437404633, 0.026002882048487663, 0.025895990431308746, 0.02578973025083542, 0.025684010237455368, 0.025578904896974564, 0.02547440677881241, 0.025370391085743904]}],\n",
       "                        {\"height\": 400, \"template\": {\"data\": {\"bar\": [{\"error_x\": {\"color\": \"#2a3f5f\"}, \"error_y\": {\"color\": \"#2a3f5f\"}, \"marker\": {\"line\": {\"color\": \"#E5ECF6\", \"width\": 0.5}}, \"type\": \"bar\"}], \"barpolar\": [{\"marker\": {\"line\": {\"color\": \"#E5ECF6\", \"width\": 0.5}}, \"type\": \"barpolar\"}], \"carpet\": [{\"aaxis\": {\"endlinecolor\": \"#2a3f5f\", \"gridcolor\": \"white\", \"linecolor\": \"white\", \"minorgridcolor\": \"white\", \"startlinecolor\": \"#2a3f5f\"}, \"baxis\": {\"endlinecolor\": \"#2a3f5f\", \"gridcolor\": \"white\", \"linecolor\": \"white\", \"minorgridcolor\": \"white\", \"startlinecolor\": \"#2a3f5f\"}, \"type\": \"carpet\"}], \"choropleth\": [{\"colorbar\": {\"outlinewidth\": 0, \"ticks\": \"\"}, \"type\": \"choropleth\"}], \"contour\": [{\"colorbar\": {\"outlinewidth\": 0, \"ticks\": \"\"}, \"colorscale\": [[0.0, \"#0d0887\"], [0.1111111111111111, \"#46039f\"], [0.2222222222222222, \"#7201a8\"], [0.3333333333333333, \"#9c179e\"], [0.4444444444444444, \"#bd3786\"], [0.5555555555555556, \"#d8576b\"], [0.6666666666666666, \"#ed7953\"], [0.7777777777777778, \"#fb9f3a\"], [0.8888888888888888, \"#fdca26\"], [1.0, \"#f0f921\"]], \"type\": \"contour\"}], \"contourcarpet\": [{\"colorbar\": {\"outlinewidth\": 0, \"ticks\": \"\"}, \"type\": \"contourcarpet\"}], \"heatmap\": [{\"colorbar\": {\"outlinewidth\": 0, \"ticks\": \"\"}, \"colorscale\": [[0.0, \"#0d0887\"], [0.1111111111111111, \"#46039f\"], [0.2222222222222222, \"#7201a8\"], [0.3333333333333333, \"#9c179e\"], [0.4444444444444444, \"#bd3786\"], [0.5555555555555556, \"#d8576b\"], [0.6666666666666666, \"#ed7953\"], [0.7777777777777778, \"#fb9f3a\"], [0.8888888888888888, \"#fdca26\"], [1.0, \"#f0f921\"]], \"type\": \"heatmap\"}], \"heatmapgl\": [{\"colorbar\": {\"outlinewidth\": 0, \"ticks\": \"\"}, \"colorscale\": [[0.0, \"#0d0887\"], [0.1111111111111111, \"#46039f\"], [0.2222222222222222, \"#7201a8\"], [0.3333333333333333, \"#9c179e\"], [0.4444444444444444, \"#bd3786\"], [0.5555555555555556, \"#d8576b\"], [0.6666666666666666, \"#ed7953\"], [0.7777777777777778, \"#fb9f3a\"], [0.8888888888888888, \"#fdca26\"], [1.0, \"#f0f921\"]], \"type\": \"heatmapgl\"}], \"histogram\": [{\"marker\": {\"colorbar\": {\"outlinewidth\": 0, \"ticks\": \"\"}}, \"type\": \"histogram\"}], \"histogram2d\": [{\"colorbar\": {\"outlinewidth\": 0, \"ticks\": \"\"}, \"colorscale\": [[0.0, \"#0d0887\"], [0.1111111111111111, \"#46039f\"], [0.2222222222222222, \"#7201a8\"], [0.3333333333333333, \"#9c179e\"], [0.4444444444444444, \"#bd3786\"], [0.5555555555555556, \"#d8576b\"], [0.6666666666666666, \"#ed7953\"], [0.7777777777777778, \"#fb9f3a\"], [0.8888888888888888, \"#fdca26\"], [1.0, \"#f0f921\"]], \"type\": \"histogram2d\"}], \"histogram2dcontour\": [{\"colorbar\": {\"outlinewidth\": 0, \"ticks\": \"\"}, \"colorscale\": [[0.0, \"#0d0887\"], [0.1111111111111111, \"#46039f\"], [0.2222222222222222, \"#7201a8\"], [0.3333333333333333, \"#9c179e\"], [0.4444444444444444, \"#bd3786\"], [0.5555555555555556, \"#d8576b\"], [0.6666666666666666, \"#ed7953\"], [0.7777777777777778, \"#fb9f3a\"], [0.8888888888888888, \"#fdca26\"], [1.0, \"#f0f921\"]], \"type\": \"histogram2dcontour\"}], \"mesh3d\": [{\"colorbar\": {\"outlinewidth\": 0, \"ticks\": \"\"}, \"type\": \"mesh3d\"}], \"parcoords\": [{\"line\": {\"colorbar\": {\"outlinewidth\": 0, \"ticks\": \"\"}}, \"type\": \"parcoords\"}], \"pie\": [{\"automargin\": true, \"type\": \"pie\"}], \"scatter\": [{\"marker\": {\"colorbar\": {\"outlinewidth\": 0, \"ticks\": \"\"}}, \"type\": \"scatter\"}], \"scatter3d\": [{\"line\": {\"colorbar\": {\"outlinewidth\": 0, \"ticks\": \"\"}}, \"marker\": {\"colorbar\": {\"outlinewidth\": 0, \"ticks\": \"\"}}, \"type\": \"scatter3d\"}], \"scattercarpet\": [{\"marker\": {\"colorbar\": {\"outlinewidth\": 0, \"ticks\": \"\"}}, \"type\": \"scattercarpet\"}], \"scattergeo\": [{\"marker\": {\"colorbar\": {\"outlinewidth\": 0, \"ticks\": \"\"}}, \"type\": \"scattergeo\"}], \"scattergl\": [{\"marker\": {\"colorbar\": {\"outlinewidth\": 0, \"ticks\": \"\"}}, \"type\": \"scattergl\"}], \"scattermapbox\": [{\"marker\": {\"colorbar\": {\"outlinewidth\": 0, \"ticks\": \"\"}}, \"type\": \"scattermapbox\"}], \"scatterpolar\": [{\"marker\": {\"colorbar\": {\"outlinewidth\": 0, \"ticks\": \"\"}}, \"type\": \"scatterpolar\"}], \"scatterpolargl\": [{\"marker\": {\"colorbar\": {\"outlinewidth\": 0, \"ticks\": \"\"}}, \"type\": \"scatterpolargl\"}], \"scatterternary\": [{\"marker\": {\"colorbar\": {\"outlinewidth\": 0, \"ticks\": \"\"}}, \"type\": \"scatterternary\"}], \"surface\": [{\"colorbar\": {\"outlinewidth\": 0, \"ticks\": \"\"}, \"colorscale\": [[0.0, \"#0d0887\"], [0.1111111111111111, \"#46039f\"], [0.2222222222222222, \"#7201a8\"], [0.3333333333333333, \"#9c179e\"], [0.4444444444444444, \"#bd3786\"], [0.5555555555555556, \"#d8576b\"], [0.6666666666666666, \"#ed7953\"], [0.7777777777777778, \"#fb9f3a\"], [0.8888888888888888, \"#fdca26\"], [1.0, \"#f0f921\"]], \"type\": \"surface\"}], \"table\": [{\"cells\": {\"fill\": {\"color\": \"#EBF0F8\"}, \"line\": {\"color\": \"white\"}}, \"header\": {\"fill\": {\"color\": \"#C8D4E3\"}, \"line\": {\"color\": \"white\"}}, \"type\": \"table\"}]}, \"layout\": {\"annotationdefaults\": {\"arrowcolor\": \"#2a3f5f\", \"arrowhead\": 0, \"arrowwidth\": 1}, \"coloraxis\": {\"colorbar\": {\"outlinewidth\": 0, \"ticks\": \"\"}}, \"colorscale\": {\"diverging\": [[0, \"#8e0152\"], [0.1, \"#c51b7d\"], [0.2, \"#de77ae\"], [0.3, \"#f1b6da\"], [0.4, \"#fde0ef\"], [0.5, \"#f7f7f7\"], [0.6, \"#e6f5d0\"], [0.7, \"#b8e186\"], [0.8, \"#7fbc41\"], [0.9, \"#4d9221\"], [1, \"#276419\"]], \"sequential\": [[0.0, \"#0d0887\"], [0.1111111111111111, \"#46039f\"], [0.2222222222222222, \"#7201a8\"], [0.3333333333333333, \"#9c179e\"], [0.4444444444444444, \"#bd3786\"], [0.5555555555555556, \"#d8576b\"], [0.6666666666666666, \"#ed7953\"], [0.7777777777777778, \"#fb9f3a\"], [0.8888888888888888, \"#fdca26\"], [1.0, \"#f0f921\"]], \"sequentialminus\": [[0.0, \"#0d0887\"], [0.1111111111111111, \"#46039f\"], [0.2222222222222222, \"#7201a8\"], [0.3333333333333333, \"#9c179e\"], [0.4444444444444444, \"#bd3786\"], [0.5555555555555556, \"#d8576b\"], [0.6666666666666666, \"#ed7953\"], [0.7777777777777778, \"#fb9f3a\"], [0.8888888888888888, \"#fdca26\"], [1.0, \"#f0f921\"]]}, \"colorway\": [\"#636efa\", \"#EF553B\", \"#00cc96\", \"#ab63fa\", \"#FFA15A\", \"#19d3f3\", \"#FF6692\", \"#B6E880\", \"#FF97FF\", \"#FECB52\"], \"font\": {\"color\": \"#2a3f5f\"}, \"geo\": {\"bgcolor\": \"white\", \"lakecolor\": \"white\", \"landcolor\": \"#E5ECF6\", \"showlakes\": true, \"showland\": true, \"subunitcolor\": \"white\"}, \"hoverlabel\": {\"align\": \"left\"}, \"hovermode\": \"closest\", \"mapbox\": {\"style\": \"light\"}, \"paper_bgcolor\": \"white\", \"plot_bgcolor\": \"#E5ECF6\", \"polar\": {\"angularaxis\": {\"gridcolor\": \"white\", \"linecolor\": \"white\", \"ticks\": \"\"}, \"bgcolor\": \"#E5ECF6\", \"radialaxis\": {\"gridcolor\": \"white\", \"linecolor\": \"white\", \"ticks\": \"\"}}, \"scene\": {\"xaxis\": {\"backgroundcolor\": \"#E5ECF6\", \"gridcolor\": \"white\", \"gridwidth\": 2, \"linecolor\": \"white\", \"showbackground\": true, \"ticks\": \"\", \"zerolinecolor\": \"white\"}, \"yaxis\": {\"backgroundcolor\": \"#E5ECF6\", \"gridcolor\": \"white\", \"gridwidth\": 2, \"linecolor\": \"white\", \"showbackground\": true, \"ticks\": \"\", \"zerolinecolor\": \"white\"}, \"zaxis\": {\"backgroundcolor\": \"#E5ECF6\", \"gridcolor\": \"white\", \"gridwidth\": 2, \"linecolor\": \"white\", \"showbackground\": true, \"ticks\": \"\", \"zerolinecolor\": \"white\"}}, \"shapedefaults\": {\"line\": {\"color\": \"#2a3f5f\"}}, \"ternary\": {\"aaxis\": {\"gridcolor\": \"white\", \"linecolor\": \"white\", \"ticks\": \"\"}, \"baxis\": {\"gridcolor\": \"white\", \"linecolor\": \"white\", \"ticks\": \"\"}, \"bgcolor\": \"#E5ECF6\", \"caxis\": {\"gridcolor\": \"white\", \"linecolor\": \"white\", \"ticks\": \"\"}}, \"title\": {\"x\": 0.05}, \"xaxis\": {\"automargin\": true, \"gridcolor\": \"white\", \"linecolor\": \"white\", \"ticks\": \"\", \"title\": {\"standoff\": 15}, \"zerolinecolor\": \"white\", \"zerolinewidth\": 2}, \"yaxis\": {\"automargin\": true, \"gridcolor\": \"white\", \"linecolor\": \"white\", \"ticks\": \"\", \"title\": {\"standoff\": 15}, \"zerolinecolor\": \"white\", \"zerolinewidth\": 2}}}, \"width\": 600, \"xaxis\": {\"title\": {\"text\": \"epoch\"}}, \"yaxis\": {\"type\": \"log\"}},\n",
       "                        {\"responsive\": true}\n",
       "                    ).then(function(){\n",
       "                            \n",
       "var gd = document.getElementById('ff1c6f0f-068c-4963-9430-ad7b44c99d73');\n",
       "var x = new MutationObserver(function (mutations, observer) {{\n",
       "        var display = window.getComputedStyle(gd).display;\n",
       "        if (!display || display === 'none') {{\n",
       "            console.log([gd, 'removed!']);\n",
       "            Plotly.purge(gd);\n",
       "            observer.disconnect();\n",
       "        }}\n",
       "}});\n",
       "\n",
       "// Listen for the removal of the full notebook cells\n",
       "var notebookContainer = gd.closest('#notebook-container');\n",
       "if (notebookContainer) {{\n",
       "    x.observe(notebookContainer, {childList: true});\n",
       "}}\n",
       "\n",
       "// Listen for the clearing of the current output cell\n",
       "var outputEl = gd.closest('.output');\n",
       "if (outputEl) {{\n",
       "    x.observe(outputEl, {childList: true});\n",
       "}}\n",
       "\n",
       "                        })\n",
       "                };\n",
       "                });\n",
       "            </script>\n",
       "        </div>"
      ]
     },
     "metadata": {},
     "output_type": "display_data"
    }
   ],
   "source": [
    "l2reg = 1e-2\n",
    "\n",
    "regd = keras.models.Sequential()\n",
    "regd.add(keras.layers.InputLayer(input_shape=1))\n",
    "regd.add(keras.layers.Dense(8, activation='tanh',\n",
    "                          kernel_regularizer=tf.keras.regularizers.l2(l=l2reg),\n",
    "                          bias_regularizer=tf.keras.regularizers.l2(l=l2reg)))\n",
    "regd.add(keras.layers.Dense(1, activation=\"linear\"))\n",
    "\n",
    "n_epochs = 100\n",
    "metric_lr = np.zeros((n_epochs,))\n",
    "initial_learning_rate = 0.1\n",
    "final_learning_rate = 0.1\n",
    "regd.compile(loss='mse', optimizer=optimr, metrics=['mse','mae'])\n",
    "\n",
    "history = regd.fit(x_t, y_t,           \n",
    "                  validation_data=(x_v,y_v),         \n",
    "                  epochs=n_epochs,\n",
    "                  batch_size=int(x_t.size),\n",
    "                  callbacks = [lr_callback,print_dots()], \n",
    "                  verbose = 0)\n",
    "\n",
    "fig = go.Figure()\n",
    "fig.add_trace(go.Scatter(x=x_t, y=y_t, mode='markers', name='training'))\n",
    "x_p = np.linspace(-1,1,256)\n",
    "fig.add_trace(go.Scatter(x=x_p, mode='lines',                        \n",
    "                         y=np.array(regd.predict(x_p)).reshape((x_p.size,)),\n",
    "                         name='prediction'))\n",
    "fig.update_layout(height=400, width=600)\n",
    "fig.show()\n",
    "\n",
    "fig = go.Figure()\n",
    "plot_history(fig, history)\n",
    "fig.show()"
   ]
  }
 ],
 "metadata": {
  "colab": {
   "collapsed_sections": [],
   "name": "DNN_reg.ipynb",
   "provenance": []
  },
  "kernelspec": {
   "display_name": "Python 3",
   "language": "python",
   "name": "python3"
  },
  "language_info": {
   "codemirror_mode": {
    "name": "ipython",
    "version": 3
   },
   "file_extension": ".py",
   "mimetype": "text/x-python",
   "name": "python",
   "nbconvert_exporter": "python",
   "pygments_lexer": "ipython3",
   "version": "3.7.6"
  }
 },
 "nbformat": 4,
 "nbformat_minor": 4
}
