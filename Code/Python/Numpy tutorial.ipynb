{
 "cells": [
  {
   "cell_type": "markdown",
   "metadata": {
    "colab_type": "text",
    "id": "2WzXZa7JvtxC"
   },
   "source": [
    "# Numpy basic\n",
    "\n",
    "What data structures have we seen so far ?\n",
    "lists, tuples, dictionnaries, ...\n",
    "no real array!\n",
    "\n",
    "Numpy fixes that. Arrays are data structures where all elements are the same, can be randomly accessed and modified very efficiently."
   ]
  },
  {
   "cell_type": "code",
   "execution_count": 1,
   "metadata": {
    "colab": {},
    "colab_type": "code",
    "id": "btwh_Lk1AMMY"
   },
   "outputs": [],
   "source": [
    "import numpy as np"
   ]
  },
  {
   "cell_type": "markdown",
   "metadata": {
    "colab_type": "text",
    "id": "mtmkbqngN6jP"
   },
   "source": [
    "## The Array class"
   ]
  },
  {
   "cell_type": "code",
   "execution_count": 2,
   "metadata": {
    "colab": {
     "base_uri": "https://localhost:8080/",
     "height": 69
    },
    "colab_type": "code",
    "id": "zV6o5ojbvbzI",
    "outputId": "7dc69077-d68b-4eae-98b0-48a7282b9399"
   },
   "outputs": [
    {
     "name": "stdout",
     "output_type": "stream",
     "text": [
      "<class 'numpy.ndarray'>\n",
      "[1 2 3 4]\n",
      "int64\n"
     ]
    }
   ],
   "source": [
    "# 1-d arrays\n",
    "a = np.array([1, 2, 3, 4]) # add `dtype=float` to force type\n",
    "print(type(a)) # numpy.ndarray\n",
    "print(a)\n",
    "print(a.dtype)"
   ]
  },
  {
   "cell_type": "code",
   "execution_count": 3,
   "metadata": {
    "colab": {
     "base_uri": "https://localhost:8080/",
     "height": 156
    },
    "colab_type": "code",
    "id": "s_jrW4kOKvjO",
    "outputId": "21a4bae1-0db7-41aa-d1dc-24a05485c6d5"
   },
   "outputs": [
    {
     "name": "stdout",
     "output_type": "stream",
     "text": [
      "[[1. 2. 3.]\n",
      " [4. 5. 6.]]\n",
      "(2, 3)\n",
      "2\n",
      "[[1]\n",
      " [2]\n",
      " [3]]\n",
      "(3, 1)\n"
     ]
    }
   ],
   "source": [
    "# 2-d arrays\n",
    "A = np.array([ [1., 2., 3.], \n",
    "               [4., 5., 6.] ])\n",
    "print(A)\n",
    "print(A.shape)\n",
    "print(len(A.shape))\n",
    "\n",
    "B = np.array([ [1], \n",
    "               [2], \n",
    "               [3] ])\n",
    "print(B)\n",
    "print(B.shape)"
   ]
  },
  {
   "cell_type": "code",
   "execution_count": 4,
   "metadata": {
    "colab": {
     "base_uri": "https://localhost:8080/",
     "height": 225
    },
    "colab_type": "code",
    "id": "BTLND5iYLexQ",
    "outputId": "1c08d674-8c3b-45d7-d059-317e33e6b9de"
   },
   "outputs": [
    {
     "name": "stdout",
     "output_type": "stream",
     "text": [
      "[[ 1.  2.  3.]\n",
      " [ 4.  5.  6.]\n",
      " [ 7.  8.  9.]\n",
      " [10. 11. 12.]]\n",
      "6.0\n",
      "[[ 4.  5.]\n",
      " [ 7.  8.]\n",
      " [10. 11.]]\n",
      "[ 2.  5.  8. 11.]\n",
      "[1. 2. 3.]\n",
      "[[1. 2. 3.]\n",
      " [7. 8. 9.]]\n"
     ]
    }
   ],
   "source": [
    "# Indexing & Slicing\n",
    "A = np.array([[1, 2, 3], [4, 5, 6], [7, 8, 9], [10, 11, 12]], float)\n",
    "print(A)\n",
    "print(A[1,2])\n",
    "print(A[1:,:2])\n",
    "print(A[:,1])\n",
    "print(A[0,:])\n",
    "print(A[::2,:])"
   ]
  },
  {
   "cell_type": "code",
   "execution_count": 5,
   "metadata": {
    "cellView": "both",
    "colab": {
     "base_uri": "https://localhost:8080/",
     "height": 208
    },
    "colab_type": "code",
    "id": "0R3RtqxyMHry",
    "outputId": "09a93f64-8d91-4631-e4ee-431aaf9b5423"
   },
   "outputs": [
    {
     "name": "stdout",
     "output_type": "stream",
     "text": [
      "[[1. 2. 3.]\n",
      " [4. 5. 6.]]\n",
      "[[1. 2.]\n",
      " [3. 4.]\n",
      " [5. 6.]]\n",
      "[[1.]\n",
      " [2.]\n",
      " [3.]\n",
      " [4.]\n",
      " [5.]\n",
      " [6.]]\n"
     ]
    }
   ],
   "source": [
    "# Reshaping\n",
    "# Arrays are row major, and that is preserved\n",
    "A = np.array([[1, 2, 3], [4, 5, 6]], float)\n",
    "print(A)\n",
    "\n",
    "B = A.reshape((3, 2))\n",
    "print(B)\n",
    "\n",
    "# Using '-1' means \"whatever you need to make it work\"\n",
    "C = A.reshape((6, -1))\n",
    "print(C)"
   ]
  },
  {
   "cell_type": "markdown",
   "metadata": {
    "colab_type": "text",
    "id": "3fhJmlZbi9yH"
   },
   "source": [
    "### Views and Copies"
   ]
  },
  {
   "cell_type": "code",
   "execution_count": 6,
   "metadata": {
    "cellView": "both",
    "colab": {
     "base_uri": "https://localhost:8080/",
     "height": 104
    },
    "colab_type": "code",
    "id": "epqyDJU3OFpX",
    "outputId": "3e50ce12-ea31-4278-b9f8-06f744ca6448"
   },
   "outputs": [
    {
     "name": "stdout",
     "output_type": "stream",
     "text": [
      "[[ 1  2  3  4  5  6]\n",
      " [ 7  8  9 10 11 12]]\n",
      "[3 9]\n",
      "[[  1   2 100   4   5   6]\n",
      " [  7   8   9  10  11  12]]\n"
     ]
    }
   ],
   "source": [
    "# Notice that slices are views\n",
    "B = np.array([[1, 2, 3, 4, 5, 6],\n",
    "              [7, 8, 9, 10, 11, 12]])\n",
    "print(B)\n",
    "b = B[:,2]\n",
    "print(b)\n",
    "b[0] = 100\n",
    "print(B)"
   ]
  },
  {
   "cell_type": "code",
   "execution_count": 7,
   "metadata": {
    "colab": {
     "base_uri": "https://localhost:8080/",
     "height": 52
    },
    "colab_type": "code",
    "id": "1M1sAdR_jNOi",
    "outputId": "6ee87939-f55c-47c6-e4b3-974a203be501"
   },
   "outputs": [
    {
     "name": "stdout",
     "output_type": "stream",
     "text": [
      "[[1000.    2.    3.]\n",
      " [   4.    5.    6.]]\n"
     ]
    }
   ],
   "source": [
    "# Same for reshape\n",
    "A = np.array([[1, 2, 3], [4, 5, 6]], float)\n",
    "B = A.reshape((3, 2))\n",
    "B[0,0] = 1000\n",
    "print(A)"
   ]
  },
  {
   "cell_type": "code",
   "execution_count": 8,
   "metadata": {
    "colab": {
     "base_uri": "https://localhost:8080/",
     "height": 104
    },
    "colab_type": "code",
    "id": "AFtWcQaBjNMK",
    "outputId": "ebe42749-0b5a-4682-be25-b5096397a9f4"
   },
   "outputs": [
    {
     "name": "stdout",
     "output_type": "stream",
     "text": [
      "[[1. 2. 3.]\n",
      " [4. 5. 6.]]\n",
      "[[100.   2.]\n",
      " [  3.   4.]\n",
      " [  5.   6.]]\n"
     ]
    }
   ],
   "source": [
    "# You can explicitly copy an array\n",
    "A = np.array([[1, 2, 3], [4, 5, 6]], float)\n",
    "B = A.reshape((3, 2)).copy()\n",
    "\n",
    "B[0,0] = 100\n",
    "print(A)\n",
    "print(B)"
   ]
  },
  {
   "cell_type": "markdown",
   "metadata": {
    "colab_type": "text",
    "id": "Kaqo-0PwOQYn"
   },
   "source": [
    "## More initialization and manipulation"
   ]
  },
  {
   "cell_type": "code",
   "execution_count": 9,
   "metadata": {
    "colab": {
     "base_uri": "https://localhost:8080/",
     "height": 208
    },
    "colab_type": "code",
    "id": "s3n6j7uKOR-I",
    "outputId": "25f29b79-1d46-4913-8b5c-b5b3e8e59894"
   },
   "outputs": [
    {
     "name": "stdout",
     "output_type": "stream",
     "text": [
      "[0 1 2 3 4 5 6 7 8 9]\n",
      "[ 2  4  6  8 10 12]\n",
      "[[0. 0. 0.]\n",
      " [0. 0. 0.]]\n",
      "[[1. 1.]\n",
      " [1. 1.]\n",
      " [1. 1.]]\n",
      "[[0.94402567 0.82401577]\n",
      " [0.49461713 0.10315001]\n",
      " [0.310114   0.20672066]]\n",
      "[-1.   -0.25  0.5   1.25  2.  ]\n"
     ]
    }
   ],
   "source": [
    "print(np.arange(10))\n",
    "print(np.arange(2, 13, 2))\n",
    "print(np.zeros((2, 3)))\n",
    "print(np.ones((3, 2)))\n",
    "print(np.random.rand(3, 2))\n",
    "print(np.linspace(-1, 2, 5))"
   ]
  },
  {
   "cell_type": "markdown",
   "metadata": {
    "colab_type": "text",
    "id": "H83NKKIPgoKQ"
   },
   "source": [
    "## Operations on arrays"
   ]
  },
  {
   "cell_type": "markdown",
   "metadata": {
    "colab_type": "text",
    "id": "cBRfuxLojNGz"
   },
   "source": [
    "### Usual math operations"
   ]
  },
  {
   "cell_type": "markdown",
   "metadata": {
    "colab_type": "text",
    "id": "Kcd-nOxygwQl"
   },
   "source": [
    "`+, -, *, /, **, %` are all element-wise"
   ]
  },
  {
   "cell_type": "code",
   "execution_count": 10,
   "metadata": {
    "colab": {
     "base_uri": "https://localhost:8080/",
     "height": 225
    },
    "colab_type": "code",
    "id": "iEEviYhUgsFr",
    "outputId": "1651f37d-5cba-4db7-ec89-c598ee8e17ff"
   },
   "outputs": [
    {
     "name": "stdout",
     "output_type": "stream",
     "text": [
      "[[-5. -5.]\n",
      " [-5. -5.]\n",
      " [-5. -5.]]\n",
      "[[ 0.  6.]\n",
      " [14. 24.]\n",
      " [36. 50.]]\n",
      "[[0. 0.]\n",
      " [0. 0.]\n",
      " [0. 0.]]\n",
      "[[0.         0.16666667]\n",
      " [0.28571429 0.375     ]\n",
      " [0.44444444 0.5       ]]\n"
     ]
    }
   ],
   "source": [
    "# 3x2\n",
    "A = np.arange(6, dtype=float).reshape((3, 2))\n",
    "B = np.arange(5, 11, dtype=int).reshape((3, 2))\n",
    "print(A - B)\n",
    "print(A * B) \n",
    "print(A // B)\n",
    "print(A / B)"
   ]
  },
  {
   "cell_type": "code",
   "execution_count": 11,
   "metadata": {
    "colab": {},
    "colab_type": "code",
    "id": "4IRFXf2BhVaA"
   },
   "outputs": [],
   "source": [
    "# Sizes have to match\n",
    "C = np.arange(4).reshape(2, 2)\n",
    "# print(A * C) # <-- Error"
   ]
  },
  {
   "cell_type": "code",
   "execution_count": 12,
   "metadata": {
    "colab": {
     "base_uri": "https://localhost:8080/",
     "height": 139
    },
    "colab_type": "code",
    "id": "gS8a97V4IfNc",
    "outputId": "5de35dda-61c8-450f-c29a-9c2d905aab16"
   },
   "outputs": [
    {
     "name": "stdout",
     "output_type": "stream",
     "text": [
      "[ 0  6 14 24 36]\n",
      "80\n",
      "[[ 0  0  0  0  0]\n",
      " [ 5  6  7  8  9]\n",
      " [10 12 14 16 18]\n",
      " [15 18 21 24 27]\n",
      " [20 24 28 32 36]]\n"
     ]
    }
   ],
   "source": [
    "# Inner & Outer products of vectors (1d arrays)\n",
    "a = np.arange(5)\n",
    "b = np.arange(5, 10)\n",
    "# Element-wise\n",
    "print(a * b)\n",
    "# Inner product\n",
    "print(a.dot(b))\n",
    "# Outer product\n",
    "print(np.outer(a,b))"
   ]
  },
  {
   "cell_type": "markdown",
   "metadata": {
    "colab_type": "text",
    "id": "jS7jRz0NhY3G"
   },
   "source": [
    "### Broadcasting\n",
    "\n",
    "This is the way numpy operate on arrays of different shapes"
   ]
  },
  {
   "cell_type": "code",
   "execution_count": 13,
   "metadata": {
    "colab": {
     "base_uri": "https://localhost:8080/",
     "height": 69
    },
    "colab_type": "code",
    "id": "4LFB85HmiGCx",
    "outputId": "ed87fa49-7a26-4baa-d7cb-a1a040f8f0a8"
   },
   "outputs": [
    {
     "name": "stdout",
     "output_type": "stream",
     "text": [
      "(2, 5)\n",
      "[[0 1 2 3 4]\n",
      " [5 6 7 8 9]]\n"
     ]
    }
   ],
   "source": [
    "A = np.arange(10).reshape(2, 5)\n",
    "print(A.shape)\n",
    "print(A)"
   ]
  },
  {
   "cell_type": "code",
   "execution_count": 14,
   "metadata": {
    "colab": {
     "base_uri": "https://localhost:8080/",
     "height": 52
    },
    "colab_type": "code",
    "id": "RHYs0bGV8pui",
    "outputId": "d71f4f3d-a27c-4e1f-e616-f0df9827bf7b"
   },
   "outputs": [
    {
     "name": "stdout",
     "output_type": "stream",
     "text": [
      "[[ 2.  3.  4.  5.  6.]\n",
      " [ 7.  8.  9. 10. 11.]]\n"
     ]
    }
   ],
   "source": [
    "# With scalar: obvious\n",
    "b = 2.0\n",
    "print(A + b)"
   ]
  },
  {
   "cell_type": "code",
   "execution_count": 15,
   "metadata": {
    "colab": {
     "base_uri": "https://localhost:8080/",
     "height": 52
    },
    "colab_type": "code",
    "id": "X8kWsGH28rti",
    "outputId": "ba4b8294-8cb9-49c0-b50f-9931e8efece6"
   },
   "outputs": [
    {
     "name": "stdout",
     "output_type": "stream",
     "text": [
      "[[ 0  2  4  6  8]\n",
      " [ 5  7  9 11 13]]\n"
     ]
    }
   ],
   "source": [
    "# With other arrays: loop backward from end and match/stretch dimensions\n",
    "b = np.arange(5)\n",
    "print(A + b)"
   ]
  },
  {
   "cell_type": "code",
   "execution_count": 16,
   "metadata": {
    "colab": {
     "base_uri": "https://localhost:8080/",
     "height": 52
    },
    "colab_type": "code",
    "id": "Ohc_cfr-HHO0",
    "outputId": "8a280ef7-81d5-41b2-8d50-1ffad88af686"
   },
   "outputs": [
    {
     "name": "stdout",
     "output_type": "stream",
     "text": [
      "(2, 3, 2)\n",
      "(2, 3)\n"
     ]
    }
   ],
   "source": [
    "# Sizes have to match\n",
    "A = np.arange(12).reshape(2, 3, 2)\n",
    "print(A.shape)\n",
    "b = np.arange(6).reshape(2, 3) # Won't work\n",
    "print(b.shape)\n",
    "\n",
    "# print(A + b)"
   ]
  },
  {
   "cell_type": "markdown",
   "metadata": {
    "colab_type": "text",
    "id": "BQ0C9nI7s_J8"
   },
   "source": [
    "### Other array operations"
   ]
  },
  {
   "cell_type": "code",
   "execution_count": 17,
   "metadata": {
    "colab": {
     "base_uri": "https://localhost:8080/",
     "height": 173
    },
    "colab_type": "code",
    "id": "RlDji4D9tA2s",
    "outputId": "7291924d-16f8-44d2-b448-6192faf0e653"
   },
   "outputs": [
    {
     "name": "stdout",
     "output_type": "stream",
     "text": [
      "45\n",
      "4.5\n",
      "0\n",
      "8.25\n",
      "0\n",
      "9\n",
      "2.8722813232690143\n",
      "0\n",
      "9\n"
     ]
    }
   ],
   "source": [
    "a = np.arange(10)\n",
    "print(a.sum())\n",
    "print(a.mean())\n",
    "print(a.prod())\n",
    "print(a.var())\n",
    "print(a.min())\n",
    "print(a.max())\n",
    "print(a.std())\n",
    "print(a.argmin())\n",
    "print(a.argmax())"
   ]
  },
  {
   "cell_type": "markdown",
   "metadata": {
    "colab_type": "text",
    "id": "jbFR38BmtOqm"
   },
   "source": [
    "### Axis keyword"
   ]
  },
  {
   "cell_type": "code",
   "execution_count": 18,
   "metadata": {
    "colab": {
     "base_uri": "https://localhost:8080/",
     "height": 104
    },
    "colab_type": "code",
    "id": "NI_n6fFytQRV",
    "outputId": "9ab9561b-22a3-463e-e8f4-601f9f7a5aa4"
   },
   "outputs": [
    {
     "name": "stdout",
     "output_type": "stream",
     "text": [
      "[[0 1 2]\n",
      " [3 4 5]]\n",
      "[3 5 7]\n",
      "[1.5 2.5 3.5]\n",
      "[0.81649658 0.81649658]\n"
     ]
    }
   ],
   "source": [
    "a = np.arange(6).reshape(2, 3)\n",
    "print(a)\n",
    "print(a.sum(axis=0))\n",
    "print(a.mean(axis=0))\n",
    "print(a.std(axis=1))"
   ]
  },
  {
   "cell_type": "markdown",
   "metadata": {
    "colab_type": "text",
    "id": "-NKD1u8VwBcM"
   },
   "source": [
    "### Mini-Exercice: normalize data"
   ]
  },
  {
   "cell_type": "code",
   "execution_count": 19,
   "metadata": {
    "colab": {},
    "colab_type": "code",
    "id": "t1vobjeawLkG"
   },
   "outputs": [],
   "source": [
    "X = 2 + 3 * np.random.randn(1000, 10)\n",
    "\n",
    "# TODO: Each row is an observation ; Each column in a feature.\n",
    "# Normalize the data by removing from each column its mean\n",
    "# and by dividing each columns by its standard deviation.\n",
    "# You may need to Google some things, but the result is a one-liner."
   ]
  },
  {
   "cell_type": "code",
   "execution_count": 20,
   "metadata": {
    "cellView": "form",
    "colab": {},
    "colab_type": "code",
    "id": "KoPtS2_6VrxH"
   },
   "outputs": [],
   "source": [
    "#@title Solution\n",
    "Y = (X - X.mean(axis=0)) / X.std(axis=0)"
   ]
  },
  {
   "cell_type": "markdown",
   "metadata": {
    "colab_type": "text",
    "id": "0KS8fMIHMUNY"
   },
   "source": [
    "# Plotting basic"
   ]
  },
  {
   "cell_type": "code",
   "execution_count": 21,
   "metadata": {
    "colab": {},
    "colab_type": "code",
    "id": "XLsxOR7YIaM-"
   },
   "outputs": [],
   "source": [
    "import matplotlib.pyplot as plt"
   ]
  },
  {
   "cell_type": "markdown",
   "metadata": {
    "colab_type": "text",
    "id": "9vQrpgaTPXrf"
   },
   "source": [
    "## 1D Line plots"
   ]
  },
  {
   "cell_type": "code",
   "execution_count": 22,
   "metadata": {
    "colab": {
     "base_uri": "https://localhost:8080/",
     "height": 295
    },
    "colab_type": "code",
    "id": "l8TDglT9MWrN",
    "outputId": "666c9ff7-aa31-4ac3-bc4d-fc393ce04c7f"
   },
   "outputs": [
    {
     "data": {
      "image/png": "[encoded data removed]",
      "text/plain": [
       "<Figure size 432x288 with 1 Axes>"
      ]
     },
     "metadata": {
      "needs_background": "light"
     },
     "output_type": "display_data"
    }
   ],
   "source": [
    "plt.figure()\n",
    "x = np.linspace(-1, 10, 100)\n",
    "y = np.sin(x)\n",
    "plt.plot(x, y)\n",
    "plt.plot(x, y**2, )\n",
    "plt.xlabel(\"x\")\n",
    "plt.xlabel(\"y\")\n",
    "plt.title(\"sin(x) and sin(x^2)\")\n",
    "plt.show()"
   ]
  },
  {
   "cell_type": "code",
   "execution_count": 23,
   "metadata": {
    "colab": {
     "base_uri": "https://localhost:8080/",
     "height": 300
    },
    "colab_type": "code",
    "id": "qDZ84Yh_MqY_",
    "outputId": "f74d61ac-7aa6-4832-a233-0395de460a01"
   },
   "outputs": [
    {
     "data": {
      "text/plain": [
       "Text(0, 0.5, 'Gain')"
      ]
     },
     "execution_count": 23,
     "metadata": {},
     "output_type": "execute_result"
    },
    {
     "data": {
      "image/png": "[encoded data removed]",
      "text/plain": [
       "<Figure size 432x288 with 1 Axes>"
      ]
     },
     "metadata": {
      "needs_background": "light"
     },
     "output_type": "display_data"
    }
   ],
   "source": [
    "x = np.logspace(0., 3., 10) # 10^0 to 10^3\n",
    "y = np.exp(np.tanh(0.5*np.log(x)))\n",
    "plt.loglog(x, y, marker=\"d\", linestyle='-.') # semilogx, semilogy also exist\n",
    "plt.xlabel(\"Frequency\")\n",
    "plt.ylabel(\"Gain\")"
   ]
  },
  {
   "cell_type": "markdown",
   "metadata": {
    "colab_type": "text",
    "id": "H8Ndh_uHPZPA"
   },
   "source": [
    "## 2D Contour plots\n",
    "\n"
   ]
  },
  {
   "cell_type": "code",
   "execution_count": 24,
   "metadata": {
    "colab": {
     "base_uri": "https://localhost:8080/",
     "height": 312
    },
    "colab_type": "code",
    "id": "2NM2gg6wP1PB",
    "outputId": "466fc76f-8bbc-4da5-f628-97ac6530dfa7"
   },
   "outputs": [
    {
     "data": {
      "text/plain": [
       "Text(0.5, 1.0, 'Velocity field')"
      ]
     },
     "execution_count": 24,
     "metadata": {},
     "output_type": "execute_result"
    },
    {
     "data": {
      "image/png": "[encoded data removed]",
      "text/plain": [
       "<Figure size 432x288 with 1 Axes>"
      ]
     },
     "metadata": {
      "needs_background": "light"
     },
     "output_type": "display_data"
    }
   ],
   "source": [
    "# Create a 2D grid of 10x10 points\n",
    "x = np.linspace(-3.0, 3.0, 5)\n",
    "y = np.linspace(-2.0, 2.0, 5)\n",
    "X, Y = np.meshgrid(x, y)\n",
    "# Create the Z 2D grid\n",
    "Z = X**2 + np.sin(Y) * X\n",
    "# Plot (X,Y,Z)\n",
    "plt.contourf(X, Y, Z)\n",
    "plt.xlabel(\"x\")\n",
    "plt.ylabel(\"y\")\n",
    "plt.title(\"Velocity field\")"
   ]
  },
  {
   "cell_type": "markdown",
   "metadata": {
    "colab_type": "text",
    "id": "K5q3KgAVRbIB"
   },
   "source": [
    "## Exercice: the Mandelbrot fractal\n",
    "\n",
    "**For the math people (you can skip)**\n",
    "\n",
    "The Mandelbrot set is formally defined as the set of complex number $M$ such that\n",
    "$$M = \\{x \\in \\mathbb{C} : \\lim_{n \\to \\infty} |z_n| < \\infty | z_0 = 0, z_{n+1} = z_n^2 + x\\}$$\n",
    "\n",
    "Draw the mandelbrot set over the complex plane defined by \n",
    "$-2.5 \\leq \\Re(x) \\leq 0.75$, $-1.25 \\leq \\Im(x) \\leq 1.25$ \n",
    "\n"
   ]
  },
  {
   "cell_type": "code",
   "execution_count": 25,
   "metadata": {
    "colab": {},
    "colab_type": "code",
    "id": "gUJ64OyERe7X"
   },
   "outputs": [],
   "source": [
    "import numpy as np\n",
    "\n",
    "# For x, y two real numbers, returns True is x+iy belongs to the Mandelbrot set\n",
    "# Otherwise, returns False.\n",
    "def isInMandelbrot(x,y):\n",
    "    zn = 0.0 + 1j*0.0 # Complex number\n",
    "    for it in range(20):\n",
    "        zn = zn**2 + x + 1j*y\n",
    "        if abs(zn) > 2:\n",
    "            return False\n",
    "    return True"
   ]
  },
  {
   "cell_type": "markdown",
   "metadata": {
    "colab_type": "text",
    "id": "rZL0yNoJl34Y"
   },
   "source": [
    "\n",
    "*TODO:*\n",
    "1. Generate `X` and `Y` grids using `meshgrid` like above. Use 500 points in each dimension. `x` should go from -2.5 to 0.75, and `y` from -1.25 to 1.25. Combine `np.linspace` and `np.meshgrid`\n",
    "2. Generate a `Val` matrix of the same shape full of zeroes.\n",
    "3. Iterate through all 500x500 `x,y` points\n",
    "    - For each `x,y`, call `isInMandelbrot(x,y)`\n",
    "    - If `isInMandelbrot(x,y)` returns `True`, set `Val` at `x,y` as 1.\n",
    "6. Plot `(X,Y,Val)` using contourf.\n",
    "\n",
    "BONUS (Hard): Try to rewrite the `isInMandelbrot` function and your code to avoid the double-loop over `x` and `y`"
   ]
  },
  {
   "cell_type": "code",
   "execution_count": 26,
   "metadata": {
    "cellView": "form",
    "colab": {
     "base_uri": "https://localhost:8080/",
     "height": 282
    },
    "colab_type": "code",
    "id": "vSXlGG3SXxmQ",
    "outputId": "733f174a-4bc8-48fd-ac63-14b98b97d2e9"
   },
   "outputs": [
    {
     "data": {
      "text/plain": [
       "<matplotlib.contour.QuadContourSet at 0x7fceb6637a90>"
      ]
     },
     "execution_count": 26,
     "metadata": {},
     "output_type": "execute_result"
    },
    {
     "data": {
      "image/png": "[encoded data removed]",
      "text/plain": [
       "<Figure size 432x288 with 1 Axes>"
      ]
     },
     "metadata": {
      "needs_background": "light"
     },
     "output_type": "display_data"
    }
   ],
   "source": [
    "#@title Solution\n",
    "n = 500\n",
    "# Generate a grid\n",
    "x = np.linspace(-2.5, 0.75, n)\n",
    "y = np.linspace(-1.25, 1.25, n)\n",
    "X, Y = np.meshgrid(x, y)\n",
    "Val = np.zeros((n, n))\n",
    "# For each (x, y)\n",
    "for i in range(n):\n",
    "    for j in range(n):\n",
    "        x = X[i,j]\n",
    "        y = Y[i,j]\n",
    "        if isInMandelbrot(x,y):\n",
    "            Val[i,j] = 1.0\n",
    "plt.contourf(X, Y, Val)            \n",
    "        \n",
    "    "
   ]
  },
  {
   "cell_type": "markdown",
   "metadata": {
    "colab_type": "text",
    "id": "qgpJ4hw0AOhN"
   },
   "source": [
    "## Exercise: The diet problem"
   ]
  },
  {
   "cell_type": "markdown",
   "metadata": {
    "colab_type": "text",
    "id": "ISHSGFmRCOUF"
   },
   "source": [
    "*TO DO*:\n",
    "- Create the `A` matrix, the `b` and `c` vector like on the slide\n",
    "- Call `result = scipy.optimize.linprog(c,A_ub=-A,b_ub=-b)`\n",
    "- Print the solution and interpret it. The actual numbers are in the `result.x`"
   ]
  },
  {
   "cell_type": "code",
   "execution_count": 27,
   "metadata": {
    "cellView": "form",
    "colab": {
     "base_uri": "https://localhost:8080/",
     "height": 34
    },
    "colab_type": "code",
    "id": "VBxZkHNVANju",
    "outputId": "844a9b22-4a59-456f-f5f5-4e4ef5bb401c"
   },
   "outputs": [
    {
     "name": "stdout",
     "output_type": "stream",
     "text": [
      "Corn = 5.1109218757906355e-14, Milk = 0.30000000000088917, Bread = 0.6723076923071684\n"
     ]
    }
   ],
   "source": [
    "#@title Solution\n",
    "import scipy.optimize\n",
    "\n",
    "b = np.array(\n",
    "        [150,80]\n",
    "    )\n",
    "\n",
    "c = np.array(\n",
    "        [1.8,2.3,0.5]\n",
    "    )\n",
    "\n",
    "A = np.array(\n",
    "    [\n",
    "        [107,500,0],\n",
    "        [72,121,65]\n",
    "    ])\n",
    "\n",
    "# min c' x st Ax >= b\n",
    "res = scipy.optimize.linprog(c,A_ub=-A,b_ub=-b)\n",
    "print('Corn = {}, Milk = {}, Bread = {}'.format(res.x[0],res.x[1],res.x[2]))\n"
   ]
  },
  {
   "cell_type": "markdown",
   "metadata": {
    "colab_type": "text",
    "id": "MllxWoME-3Db"
   },
   "source": [
    "# Extra Numpy Exercices"
   ]
  },
  {
   "cell_type": "markdown",
   "metadata": {
    "colab_type": "text",
    "id": "R4aRqe1m_ARQ"
   },
   "source": [
    "## Matrix decomposition\n",
    "\n",
    "From a matrix $A$ of $n$ rows and columns, compute $L$ (lower triangular) and $U$ (upper-triangular) such that \n",
    "$A = LU$.\n",
    "\n",
    "Use the following algorithm.\n",
    "- For $i = 1,\\dots,n$:\n",
    "    - Build column $i$ of $L$ : for all $j = i,\\dots,n$\n",
    "    $$ L_{ji} = A_{ji} / A_{ii}$$\n",
    "    - Build row $i$ of $U$: for all $j = i,\\dots,n$\n",
    "    $$U_{ij} = A_{ij}$$ \n",
    "    - update remaining part (rows $j = i+1...n$ and columns $k = i+1...n$) of what is left of $A$ by \n",
    "    $$A_{jk} = A_{jk} - L_{ji} U_{ik}$$\n",
    "\n"
   ]
  },
  {
   "cell_type": "code",
   "execution_count": 28,
   "metadata": {
    "colab": {},
    "colab_type": "code",
    "id": "Uu7aMTxGjPUG"
   },
   "outputs": [],
   "source": [
    "import numpy as np\n",
    "\n",
    "# TODO: build a function \"LU(A)\" \n",
    "# (1) Get the number of rows n of A\n",
    "# (2) Initialize two matrices, L and U, \n",
    "#     of size n x n filled with 0's\n",
    "# (3) Apply the above algorithm to A, L and U.\n",
    "def LU(A):\n",
    "    # ...\n",
    "    pass"
   ]
  },
  {
   "cell_type": "code",
   "execution_count": 29,
   "metadata": {
    "cellView": "form",
    "colab": {},
    "colab_type": "code",
    "id": "rYqow9ihU3Tw"
   },
   "outputs": [],
   "source": [
    "#@title Solution\n",
    "def LU(A):\n",
    "    n = A.shape[0]\n",
    "    L = np.zeros((n, n))\n",
    "    U = np.zeros((n, n))\n",
    "    for i in range(n):\n",
    "        for j in range(i,n):\n",
    "            L[j,i] = A[j,i] / A[i,i]\n",
    "        for j in range(i,n):\n",
    "            U[i,j] = A[i,j]\n",
    "        for j in range(i+1,n):           \n",
    "            for k in range(i+1,n):\n",
    "                A[j,k] = A[j,k] - L[j,i] * U[i,k]\n",
    "    return (L, U) "
   ]
  },
  {
   "cell_type": "code",
   "execution_count": 30,
   "metadata": {
    "cellView": "form",
    "colab": {},
    "colab_type": "code",
    "id": "U5YPKNmu_OHx"
   },
   "outputs": [],
   "source": [
    "#@title Solution\n",
    "def LU(A):\n",
    "    n = A.shape[0]\n",
    "    L = np.zeros((n, n))\n",
    "    U = np.zeros((n, n))\n",
    "    for i in range(n):\n",
    "        for j in range(i,n):\n",
    "            L[j,i] = A[j,i] / A[i,i]\n",
    "        for j in range(i,n):\n",
    "            U[i,j] = A[i,j]\n",
    "        for j in range(i+1,n):           \n",
    "            for k in range(i+1,n):\n",
    "                A[j,k] = A[j,k] - L[j,i] * U[i,k]\n",
    "    return (L, U) "
   ]
  },
  {
   "cell_type": "markdown",
   "metadata": {
    "colab_type": "text",
    "id": "lvdEyeVQo0vX"
   },
   "source": [
    "## Lower triangular solves\n",
    "Once we have $A = LU$, we solve $Ax = b$ by\n",
    "1. Solving $Ly = b$ (forward solve)\n",
    "2. Solving $Ux = y$ (backward solve)\n",
    "\n",
    "Step $1$:\n",
    "- For $i = 1,\\dots,n$:\n",
    "    - $y_i = b_i$\n",
    "    - For $j = 1,\\dots,i-1$:\n",
    "        - $y_i = y_i - L_{ij} y_j$\n",
    "        \n",
    "Step $2$\n",
    "- For $i = n,\\dots,1$:\n",
    "    - $x_i = y_i$\n",
    "    - For $j = i+1,\\dots,n$:\n",
    "        - $x_i = x_i - U_{ij} x_j$\n",
    "    - $x_i = x_i / U_{ii}$\n",
    "    \n",
    "Solution is in $x$    "
   ]
  },
  {
   "cell_type": "code",
   "execution_count": 31,
   "metadata": {
    "colab": {},
    "colab_type": "code",
    "id": "JT-fQiwwjmft"
   },
   "outputs": [],
   "source": [
    "# TODO: building a function \"solve(L, U, b)\"\n",
    "# that use L, U and b and return x \n",
    "# (1) Get the size n \n",
    "# (2) Create empty x and y vectors of size n\n",
    "# (3) Apply the above algorithm on y\n",
    "# (4) Apply the above algorithm on x\n",
    "# (5) Return x\n",
    "def solve(L, U, b):\n",
    "    # Implement it here\n",
    "    pass"
   ]
  },
  {
   "cell_type": "code",
   "execution_count": 32,
   "metadata": {
    "cellView": "form",
    "colab": {},
    "colab_type": "code",
    "id": "QIN7-zBEVRqO"
   },
   "outputs": [],
   "source": [
    "#@title Solution\n",
    "def solve(L, U, b):\n",
    "    n = A.shape[0]       \n",
    "    # L (forward)\n",
    "    y = np.zeros(n)\n",
    "    for i in range(n):\n",
    "        y[i] = b[i]\n",
    "        for j in range(i):\n",
    "            y[i] -= L[i,j] * y[j]\n",
    "    # U (backward) \n",
    "    x = np.zeros(n)\n",
    "    for i in range(n-1,-1,-1):\n",
    "        x[i] = y[i]\n",
    "        for j in range(i+1,n):\n",
    "            x[i] -= U[i,j] * x[j]\n",
    "        x[i] = x[i] / U[i,i]\n",
    "    return x"
   ]
  },
  {
   "cell_type": "code",
   "execution_count": 33,
   "metadata": {
    "colab": {
     "base_uri": "https://localhost:8080/"
    },
    "colab_type": "code",
    "id": "-gq13QqwjWqg",
    "outputId": "ffa441cb-bbec-4820-f1d3-d134f8fb0be8"
   },
   "outputs": [
    {
     "name": "stdout",
     "output_type": "stream",
     "text": [
      "Error (should be < 1e-10): 2.2588068256071973e-14\n"
     ]
    }
   ],
   "source": [
    "# Run this code to test your LU and solve functions\n",
    "# Generate A and b\n",
    "n = 10\n",
    "A = np.random.rand(n, n)\n",
    "b = np.random.rand(n)\n",
    "# Make copies for check after\n",
    "A_ = A.copy()\n",
    "b_ = b.copy()\n",
    "# Factorize and solve using your function\n",
    "(L, U) = LU(A)     \n",
    "x = solve(L, U, b) \n",
    "# Is is accurate compared to Python's function ?\n",
    "print(\"Error (should be < 1e-10): {}\".format(np.linalg.norm(x - np.linalg.solve(A_, b_))))"
   ]
  },
  {
   "cell_type": "markdown",
   "metadata": {
    "colab_type": "text",
    "id": "9kDfVGEcv0pl"
   },
   "source": [
    "# Extra Linear Algebra concepts"
   ]
  },
  {
   "cell_type": "markdown",
   "metadata": {
    "colab_type": "text",
    "id": "mBvxcrEZIJ5M"
   },
   "source": [
    "Most of the \"dense\" linear algebra routines can be found in scipy.linalg"
   ]
  },
  {
   "cell_type": "code",
   "execution_count": 34,
   "metadata": {
    "colab": {},
    "colab_type": "code",
    "id": "ggOpjTMSYD0i"
   },
   "outputs": [],
   "source": [
    "import numpy as np\n",
    "import scipy.linalg\n",
    "import matplotlib.pyplot as plt"
   ]
  },
  {
   "cell_type": "code",
   "execution_count": 35,
   "metadata": {
    "colab": {
     "base_uri": "https://localhost:8080/",
     "height": 34
    },
    "colab_type": "code",
    "id": "Xn4jCrd6uy55",
    "outputId": "8a5a6ebd-cacc-42cc-bb6c-0a6194c5445b"
   },
   "outputs": [
    {
     "name": "stdout",
     "output_type": "stream",
     "text": [
      "(10, 8)\n"
     ]
    }
   ],
   "source": [
    "A = np.random.randn(10, 5)\n",
    "B = np.random.randn(8,  5)\n",
    "\n",
    "# Matrix-Matrix product\n",
    "C = A.dot(B.T)\n",
    "print(C.shape)\n",
    "\n",
    "# The rest is like before\n",
    "C = np.random.randn(20, 5)\n",
    "C = C.reshape(10, 10)\n",
    "D = np.eye(10)\n",
    "E = C + 10*D"
   ]
  },
  {
   "cell_type": "markdown",
   "metadata": {
    "colab_type": "text",
    "id": "-Ua5UxFOVpiO"
   },
   "source": [
    "## QR factorization and least square\n",
    "\n",
    "Say you are looking for $x$ such that\n",
    "$$ \\| Ax - b \\| $$\n",
    "is minimized, where $A \\in R^{m \\times n}$ ($m >\\!\\!> n$).\n",
    "\n",
    "This can be achieved by computing a (thin-)QR factorization\n",
    "$$ Q_1 R_1 = A $$\n",
    "and solving\n",
    "$$ R_1 x = Q_1^\\top b $$"
   ]
  },
  {
   "cell_type": "code",
   "execution_count": 36,
   "metadata": {
    "colab": {
     "base_uri": "https://localhost:8080/",
     "height": 34
    },
    "colab_type": "code",
    "id": "SyrAUwY3XKl-",
    "outputId": "4379adc7-360e-43d3-c64f-3a7e5080c189"
   },
   "outputs": [
    {
     "name": "stdout",
     "output_type": "stream",
     "text": [
      "Least square error 0.0009881049969851308\n"
     ]
    }
   ],
   "source": [
    "# In python, this is achieved using \n",
    "A = np.random.randn(100, 50)\n",
    "b = A.dot(np.random.randn(50)) + 0.01 * np.random.randn(100) \n",
    "\n",
    "# (1) QR\n",
    "# 'economic' can be replaced by 'full' to compute the full QR factorization\n",
    "(Q, R) = scipy.linalg.qr(A, mode='economic') \n",
    "\n",
    "# (2) Solve\n",
    "x = scipy.linalg.solve(R, Q.T.dot(b))\n",
    "\n",
    "# What is the error ?\n",
    "print(\"Least square error {}\".format( np.linalg.norm( A.dot(x)-b ) / np.linalg.norm(b) )) #~ 1e-3"
   ]
  },
  {
   "cell_type": "markdown",
   "metadata": {
    "colab_type": "text",
    "id": "eGBDkm8BYqav"
   },
   "source": [
    "#### Exercice: linear regression\n",
    "\n",
    "Say you have $\\{x,y\\}_{i=1}^N$ data, and you expect $y = a_0 + a_1 x + \\epsilon$ where $\\epsilon$ is a small noise.\n",
    "\n",
    "This can be solve using a QR factorization. Simply build the matrix and right-hand side\n",
    "$$ A = \\begin{bmatrix} 1 & x_0 \\\\\n",
    "                                          1 & x_1 \\\\\n",
    "                                           \\vdots \\\\\n",
    "                                          1 & x_{N-1} \\end{bmatrix} $$\n",
    "$$ b = \\begin{bmatrix} y_0 \\\\ y_1 \\\\ \\vdots \\\\ y_{N-1} \\end{bmatrix} $$\n",
    "The least-square solution $x$ gives you $a_0$ and $a_1$."
   ]
  },
  {
   "cell_type": "code",
   "execution_count": 37,
   "metadata": {
    "colab": {},
    "colab_type": "code",
    "id": "P47Cv11RZQbj"
   },
   "outputs": [],
   "source": [
    "# Generate data {(x_i, y_i)}\n",
    "N = 100\n",
    "a_0 = 20.\n",
    "a_1 = -10.\n",
    "x = np.random.rand(N)\n",
    "y = a_0 + a_1 * x + 0.5 * np.random.randn(N)"
   ]
  },
  {
   "cell_type": "code",
   "execution_count": 38,
   "metadata": {
    "colab": {
     "base_uri": "https://localhost:8080/",
     "height": 295
    },
    "colab_type": "code",
    "id": "yeuHZemqrATa",
    "outputId": "109beef4-13ed-4b8d-9b9e-b6b5eba7d496"
   },
   "outputs": [
    {
     "data": {
      "image/png": "[encoded data removed]",
      "text/plain": [
       "<Figure size 432x288 with 1 Axes>"
      ]
     },
     "metadata": {
      "needs_background": "light"
     },
     "output_type": "display_data"
    }
   ],
   "source": [
    "# Plot data\n",
    "plt.plot(x, y, marker='*', linestyle=\"\")\n",
    "plt.xlabel(\"Hair thickness (um)\")\n",
    "plt.ylabel(\"Shampoo use (L/day)\")\n",
    "plt.title(\"Shampoo use as a function of hair thickness\")\n",
    "plt.show()"
   ]
  },
  {
   "cell_type": "markdown",
   "metadata": {
    "colab_type": "text",
    "id": "Xn54s009q1tM"
   },
   "source": [
    "*TODO:*\n",
    "1. Setup the matrices A = [1, x] and the vector b = [y_1, ..., y_N]\n",
    "2. Compute Q and R from A (like above)\n",
    "3. Compute a = R^(-1) (Q^T b) (like above)\n",
    "4. Use the solution to plot the curve a_0 + a_1 x\n",
    "5. Add the data points on the plot\n",
    "\n",
    "*Bonus:*\n",
    "6. Predic the shampoo use if someone has a hair thickness of 0.7 um"
   ]
  },
  {
   "cell_type": "code",
   "execution_count": 39,
   "metadata": {
    "cellView": "form",
    "colab": {
     "base_uri": "https://localhost:8080/",
     "height": 331
    },
    "colab_type": "code",
    "id": "0FewgqhZYIy4",
    "outputId": "9fabd5db-d6dd-4cb8-e1d2-05ededb7cc7e"
   },
   "outputs": [
    {
     "name": "stdout",
     "output_type": "stream",
     "text": [
      "True a: 20.0 -10.0\n",
      "Recovered a: 20.022268456415993 -9.964651784529718\n",
      "Prediction for {} um: {} L/day 0.7 13.0\n"
     ]
    },
    {
     "data": {
      "image/png": "[encoded data removed]",
      "text/plain": [
       "<Figure size 432x288 with 1 Axes>"
      ]
     },
     "metadata": {
      "needs_background": "light"
     },
     "output_type": "display_data"
    }
   ],
   "source": [
    "#@title Solution\n",
    "A = np.ones((N, 2), dtype=float)\n",
    "A[:,1] = x\n",
    "b = y\n",
    "\n",
    "(Q, R) = scipy.linalg.qr(A, mode='economic')\n",
    "a = scipy.linalg.solve(R, Q.T.dot(b))\n",
    "print(\"True a: {} {}\\nRecovered a: {} {}\".format(a_0, a_1, a[0], a[1]))\n",
    "\n",
    "xx = np.linspace(0, 1, 100)\n",
    "yy = a[0] + a[1] * xx\n",
    "plt.plot(xx, yy)\n",
    "plt.plot(x, y, marker=\"*\", linestyle='None')\n",
    "plt.xlabel('Hair thickness [um]')\n",
    "plt.ylabel('Shampoo use [L/day]')\n",
    "\n",
    "# Bonus\n",
    "x_ = 0.7\n",
    "y_ = a_0 + a_1 * 0.7\n",
    "print(\"Prediction for {} um: {} L/day\", x_, y_)\n",
    "plt.plot(x_, y_, marker=\"d\")\n",
    "plt.show()"
   ]
  },
  {
   "cell_type": "markdown",
   "metadata": {
    "colab_type": "text",
    "id": "CeG5NIsNbXHu"
   },
   "source": [
    "## Eigenvalues- and Singular values- Decomposition and Principal Component Analysis\n",
    "\n",
    "Given $N$ $d-$dimensional feature vectors $x_i$, aranged in a (centered-) $d \\times N$ matrix\n",
    "$$ X = \\begin{bmatrix} x_0 & x_1 & \\dots & x_{N-1} \\end{bmatrix} $$\n",
    "the leading singular vectors of \n",
    "$X$\n",
    "or the leading eigenvector of \n",
    "$X X^\\top$\n",
    "give the principal direction of the data."
   ]
  },
  {
   "cell_type": "code",
   "execution_count": 40,
   "metadata": {
    "colab": {
     "base_uri": "https://localhost:8080/",
     "height": 296
    },
    "colab_type": "code",
    "id": "xxkpn_-Kbbbs",
    "outputId": "de39f981-ddd2-47a7-bfc4-ccfccc71f76d"
   },
   "outputs": [
    {
     "data": {
      "text/plain": [
       "Text(0, 0.5, 'Cool level')"
      ]
     },
     "execution_count": 40,
     "metadata": {},
     "output_type": "execute_result"
    },
    {
     "data": {
      "image/png": "[encoded data removed]",
      "text/plain": [
       "<Figure size 432x288 with 1 Axes>"
      ]
     },
     "metadata": {
      "needs_background": "light"
     },
     "output_type": "display_data"
    }
   ],
   "source": [
    "import math\n",
    "\n",
    "# We can compute\n",
    "# SVD using scipy.linalg.svd\n",
    "# EVD using scipy.linalg.eig\n",
    "\n",
    "# Generate points in 2D\n",
    "N = 500\n",
    "angle = 0.65 # <= pi/4\n",
    "X = np.array([[math.cos(angle),math.sin(angle)],[-math.sin(angle),math.cos(angle)]]).dot(np.diag([0.1, 0.5]).dot(np.random.randn(2, N)))\n",
    "plt.plot(X[0,:], X[1,:], marker=\"*\", linestyle='None')\n",
    "plt.xlabel('Age')\n",
    "plt.ylabel('Cool level')\n",
    "\n",
    "# TODO: \n",
    "# (1) Find leading (first) singular vectors of X\n",
    "# (2) Plot its direction\n",
    "# (3) Find leading (first) eigenvectors of X*X^T\n",
    "# (4) Plot its direction"
   ]
  },
  {
   "cell_type": "code",
   "execution_count": 41,
   "metadata": {
    "cellView": "form",
    "colab": {
     "base_uri": "https://localhost:8080/",
     "height": 279
    },
    "colab_type": "code",
    "id": "gjRMt12RYg0q",
    "outputId": "96f0f0fb-3d66-4832-8eea-4e587ea461a3"
   },
   "outputs": [
    {
     "data": {
      "image/png": "[encoded data removed]",
      "text/plain": [
       "<Figure size 432x288 with 1 Axes>"
      ]
     },
     "metadata": {
      "needs_background": "light"
     },
     "output_type": "display_data"
    }
   ],
   "source": [
    "#@title Solution\n",
    "\n",
    "# Generate points in 2D\n",
    "N = 500\n",
    "angle = 0.65 # <= pi/4\n",
    "X = np.array([[math.cos(angle),math.sin(angle)],[-math.sin(angle),math.cos(angle)]]).dot(np.diag([0.1, 0.5]).dot(np.random.randn(2, N)))\n",
    "plt.plot(X[0,:], X[1,:], marker=\"*\", linestyle='None')\n",
    "plt.xlabel('Age')\n",
    "plt.ylabel('Cool level')\n",
    "\n",
    "# SVD\n",
    "(U, s, V) = scipy.linalg.svd(X)\n",
    "plt.plot([0,U[0,0]],[0,U[1,0]],linestyle=\"--\",color=\"black\");\n",
    "\n",
    "# EVD\n",
    "M = X.dot(X.T)\n",
    "(W, V) = scipy.linalg.eigh(M)\n",
    "plt.plot([0,V[0,1]],[0,V[1,1]],linestyle=\"--\",color=\"red\");\n"
   ]
  },
  {
   "cell_type": "markdown",
   "metadata": {
    "colab_type": "text",
    "id": "pitER6-RKi1a"
   },
   "source": [
    "## Linear Systems\n"
   ]
  },
  {
   "cell_type": "code",
   "execution_count": 42,
   "metadata": {
    "colab": {},
    "colab_type": "code",
    "id": "0Fpksi4OKuMB"
   },
   "outputs": [
    {
     "name": "stdout",
     "output_type": "stream",
     "text": [
      "Time using solve 100 times: 3.7454729080200195 sec\n",
      "Time using solve 100 times: 0.05447196960449219 sec\n"
     ]
    }
   ],
   "source": [
    "# The simple way\n",
    "A = np.random.randn(1000, 1000)\n",
    "b = np.random.randn(1000)\n",
    "x = scipy.linalg.solve(A,b)\n",
    "\n",
    "# What if you need to solve a lot of linear systems?\n",
    "import time\n",
    "N = 100\n",
    "\n",
    "# Using Numpy solve \n",
    "t0 = time.time()\n",
    "for i in range(N):\n",
    "    x = scipy.linalg.solve(A,b)\n",
    "print(\"Time using solve {} times: {} sec\".format(N, time.time() - t0))\n",
    "\n",
    "# Using Scipy LU factorization & only using solve after\n",
    "t0 = time.time()\n",
    "lu, piv = scipy.linalg.lu_factor(A)\n",
    "for i in range(N):\n",
    "    x = scipy.linalg.lu_solve((lu, piv), b)\n",
    "print(\"Time using solve {} times: {} sec\".format(N, time.time() - t0))   "
   ]
  },
  {
   "cell_type": "markdown",
   "metadata": {
    "colab_type": "text",
    "id": "CCjOAZpvMjRA"
   },
   "source": [
    "### Mini-Exercice: complexity analysis\n",
    "Mesure the time taken to solve linear systems of size 1000 ... 10 000 (will take some time, about 1-2 minutes).\n",
    "Plot the time versus size on a log-log plot.\n",
    "What do you estimate the complexity is ?"
   ]
  },
  {
   "cell_type": "code",
   "execution_count": 43,
   "metadata": {
    "colab": {},
    "colab_type": "code",
    "id": "q48XOeSjNH2I"
   },
   "outputs": [],
   "source": [
    "# TODO:\n",
    "# (1) For i = 1000 ... 10 000 (using like 10 samples), generate random A matrix & b vector\n",
    "# (2) Time the time it takes to call np.linalg.solve(A, b) and record it in a vector\n",
    "# (3) Plot the time as a function of the matrix size on a loglog plot.\n",
    "\n",
    "# It will take about 1 minute to run."
   ]
  },
  {
   "cell_type": "code",
   "execution_count": 44,
   "metadata": {
    "cellView": "form",
    "colab": {},
    "colab_type": "code",
    "id": "dUOOh_MCZaFq"
   },
   "outputs": [
    {
     "name": "stdout",
     "output_type": "stream",
     "text": [
      "Size 1000 Time 0.03462791442871094\n",
      "Size 1291 Time 0.08424210548400879\n",
      "Size 1668 Time 0.11189913749694824\n",
      "Size 2154 Time 0.3067960739135742\n",
      "Size 2782 Time 0.5882570743560791\n",
      "Size 3593 Time 0.8778798580169678\n",
      "Size 4641 Time 2.534061908721924\n",
      "Size 5994 Time 4.713036775588989\n",
      "Size 7742 Time 9.031451940536499\n",
      "Size 10000 Time 18.515003204345703\n"
     ]
    },
    {
     "data": {
      "text/plain": [
       "[<matplotlib.lines.Line2D at 0x7fce01efa690>]"
      ]
     },
     "execution_count": 44,
     "metadata": {},
     "output_type": "execute_result"
    },
    {
     "data": {
      "image/png": "[encoded data removed]",
      "text/plain": [
       "<Figure size 432x288 with 1 Axes>"
      ]
     },
     "metadata": {
      "needs_background": "light"
     },
     "output_type": "display_data"
    }
   ],
   "source": [
    "#@title Solution\n",
    "N = np.logspace(3, 4, 10)\n",
    "T = np.zeros(10)\n",
    "for i in range(len(N)):\n",
    "    n = int(N[i])\n",
    "    A = np.random.randn(n, n)\n",
    "    b = np.random.randn(n)\n",
    "    t0 = time.time()\n",
    "    x = scipy.linalg.solve(A,b)\n",
    "    t1 = time.time()\n",
    "    T[i] = t1 - t0\n",
    "    print(\"Size {} Time {}\".format(n, T[i]))\n",
    "plt.loglog(N, T)    "
   ]
  }
 ],
 "metadata": {
  "colab": {
   "collapsed_sections": [
    "7RYifxrIjTND",
    "lvdEyeVQo0vX",
    "pitER6-RKi1a"
   ],
   "name": "Numpy.ipynb",
   "provenance": []
  },
  "kernelspec": {
   "display_name": "Python 3",
   "language": "python",
   "name": "python3"
  },
  "language_info": {
   "codemirror_mode": {
    "name": "ipython",
    "version": 3
   },
   "file_extension": ".py",
   "mimetype": "text/x-python",
   "name": "python",
   "nbconvert_exporter": "python",
   "pygments_lexer": "ipython3",
   "version": "3.7.9"
  }
 },
 "nbformat": 4,
 "nbformat_minor": 4
}
