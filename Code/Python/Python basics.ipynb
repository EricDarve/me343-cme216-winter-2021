{
 "cells": [
  {
   "cell_type": "markdown",
   "metadata": {
    "colab_type": "text",
    "id": "IYgvIvo7_R54"
   },
   "source": [
    "# Introduction to Python"
   ]
  },
  {
   "cell_type": "code",
   "execution_count": 1,
   "metadata": {
    "colab": {
     "base_uri": "https://localhost:8080/",
     "height": 34
    },
    "colab_type": "code",
    "id": "zQ6sSXQqvhr5",
    "outputId": "d866ca90-aa91-4e34-df54-e7b03ff35ac5"
   },
   "outputs": [
    {
     "name": "stdout",
     "output_type": "stream",
     "text": [
      "It works!\n"
     ]
    }
   ],
   "source": [
    "# Clic in the cell and press CRTL-ENTER (Windows) or CMD-ENTER (Mac)\n",
    "print(\"It works!\")"
   ]
  },
  {
   "cell_type": "code",
   "execution_count": 2,
   "metadata": {
    "colab": {
     "base_uri": "https://localhost:8080/",
     "height": 399
    },
    "colab_type": "code",
    "id": "S7WyplSsyYMq",
    "outputId": "157150f4-c733-4f37-9445-12cc6a196c61"
   },
   "outputs": [
    {
     "name": "stdout",
     "output_type": "stream",
     "text": [
      "--2020-04-12 13:26:30--  https://web.stanford.edu/~lcambier/python/text.txt\n",
      "Resolving web.stanford.edu (web.stanford.edu)... 171.67.215.200\n",
      "Connecting to web.stanford.edu (web.stanford.edu)|171.67.215.200|:443... connected.\n",
      "HTTP request sent, awaiting response... 200 OK\n",
      "Length: 88 [text/plain]\n",
      "Saving to: ‘text.txt’\n",
      "\n",
      "text.txt            100%[===================>]      88  --.-KB/s    in 0s      \n",
      "\n",
      "2020-04-12 13:26:30 (3.36 MB/s) - ‘text.txt’ saved [88/88]\n",
      "\n",
      "--2020-04-12 13:26:30--  https://web.stanford.edu/~lcambier/python/star_wars_4th.txt\n",
      "Resolving web.stanford.edu (web.stanford.edu)... 171.67.215.200\n",
      "Connecting to web.stanford.edu (web.stanford.edu)|171.67.215.200|:443... connected.\n",
      "HTTP request sent, awaiting response... 200 OK\n",
      "Length: 326321 (319K) [text/plain]\n",
      "Saving to: ‘star_wars_4th.txt’\n",
      "\n",
      "star_wars_4th.txt   100%[===================>] 318.67K  --.-KB/s    in 0.1s    \n",
      "\n",
      "2020-04-12 13:26:31 (2.58 MB/s) - ‘star_wars_4th.txt’ saved [326321/326321]\n",
      "\n"
     ]
    }
   ],
   "source": [
    "!wget https://web.stanford.edu/~lcambier/python/text.txt -O text.txt\n",
    "!wget https://web.stanford.edu/~lcambier/python/star_wars_4th.txt -O star_wars_4th.txt"
   ]
  },
  {
   "cell_type": "markdown",
   "metadata": {
    "colab_type": "text",
    "id": "cOfRjRipDaTJ"
   },
   "source": [
    "## Variables"
   ]
  },
  {
   "cell_type": "markdown",
   "metadata": {
    "colab_type": "text",
    "id": "VlTJiagm-d5V"
   },
   "source": [
    "All programs manipulate data. \n",
    "Data of all sort is stored in memory in your computer, and can be refered using variables."
   ]
  },
  {
   "cell_type": "markdown",
   "metadata": {
    "colab_type": "text",
    "id": "EPT_561U5nG1"
   },
   "source": [
    "### Numbers"
   ]
  },
  {
   "cell_type": "markdown",
   "metadata": {
    "colab_type": "text",
    "id": "aJNDC3Gl_C2u"
   },
   "source": [
    "To visualize the data referenced by some variable, using print(...)."
   ]
  },
  {
   "cell_type": "code",
   "execution_count": 3,
   "metadata": {
    "colab": {
     "base_uri": "https://localhost:8080/",
     "height": 121
    },
    "colab_type": "code",
    "id": "P9GkqguE_b_0",
    "outputId": "4791b028-d3c6-4755-fb8d-6db31ac73a05"
   },
   "outputs": [
    {
     "name": "stdout",
     "output_type": "stream",
     "text": [
      "2\n",
      "-3\n",
      "12.4\n",
      "-0.0001342\n",
      "<class 'int'>\n",
      "<class 'float'>\n"
     ]
    }
   ],
   "source": [
    "# Integer\n",
    "a = 2\n",
    "b = -3\n",
    "\n",
    "# Floating point number\n",
    "c = 12.4\n",
    "d = -1.342e-4\n",
    "\n",
    "# Visualize the data variables point to\n",
    "print(a)\n",
    "print(b)\n",
    "print(c)\n",
    "print(d)\n",
    "print(type(a)) # The type. In python, everything is a class. More on that later.\n",
    "print(type(d))"
   ]
  },
  {
   "cell_type": "markdown",
   "metadata": {
    "colab_type": "text",
    "id": "V3gAhl255qtm"
   },
   "source": [
    "### Text"
   ]
  },
  {
   "cell_type": "code",
   "execution_count": 4,
   "metadata": {
    "colab": {
     "base_uri": "https://localhost:8080/",
     "height": 52
    },
    "colab_type": "code",
    "id": "d6gueEu__m3v",
    "outputId": "5a2b3e3f-97f2-4ab4-bb8c-d822761aa421"
   },
   "outputs": [
    {
     "name": "stdout",
     "output_type": "stream",
     "text": [
      "String\n",
      "Another string\n"
     ]
    }
   ],
   "source": [
    "s1 = \"String\"          # Double quotes\n",
    "s2 = 'Another string'  # Single quotes. It does the same.\n",
    "print(s1)\n",
    "print(s2)"
   ]
  },
  {
   "cell_type": "markdown",
   "metadata": {
    "colab_type": "text",
    "id": "H76rvHBd_TdV"
   },
   "source": [
    "Note that strings are defined using double or single quote."
   ]
  },
  {
   "cell_type": "markdown",
   "metadata": {
    "colab_type": "text",
    "id": "OP-aQaL5503t"
   },
   "source": [
    "### Booleans"
   ]
  },
  {
   "cell_type": "markdown",
   "metadata": {
    "colab_type": "text",
    "id": "YSkd_P0K_XXk"
   },
   "source": [
    "Booleans are either True or False"
   ]
  },
  {
   "cell_type": "code",
   "execution_count": 5,
   "metadata": {
    "colab": {
     "base_uri": "https://localhost:8080/",
     "height": 52
    },
    "colab_type": "code",
    "id": "-ERdYnAi_csX",
    "outputId": "403895c2-2a32-4be1-d523-f32ebcd9cbcc"
   },
   "outputs": [
    {
     "name": "stdout",
     "output_type": "stream",
     "text": [
      "True\n",
      "False\n"
     ]
    }
   ],
   "source": [
    "a = True\n",
    "b = False\n",
    "print(a)\n",
    "print(b)"
   ]
  },
  {
   "cell_type": "markdown",
   "metadata": {
    "colab_type": "text",
    "id": "S7KzKsleYnk-"
   },
   "source": [
    "### Arithmetics\n",
    "Supports the usual mathematical operations"
   ]
  },
  {
   "cell_type": "code",
   "execution_count": 6,
   "metadata": {
    "colab": {
     "base_uri": "https://localhost:8080/",
     "height": 86
    },
    "colab_type": "code",
    "id": "oqNjdbtYYq61",
    "outputId": "b634f2cf-c9d9-4d59-af9f-4892b22bb41f"
   },
   "outputs": [
    {
     "name": "stdout",
     "output_type": "stream",
     "text": [
      "2\n",
      "3.14\n",
      "-1.1400000000000001\n",
      "6.28\n"
     ]
    }
   ],
   "source": [
    "a = 2\n",
    "b = 3.14\n",
    "print(a)\n",
    "print(b)\n",
    "c = a-b \n",
    "print(c)\n",
    "d = a*b\n",
    "print(d)"
   ]
  },
  {
   "cell_type": "code",
   "execution_count": 7,
   "metadata": {
    "colab": {},
    "colab_type": "code",
    "id": "JKLOlnthDDtC"
   },
   "outputs": [],
   "source": [
    "a11 = 3.\n",
    "a12 = 3.\n",
    "a22 = 2.\n",
    "a21 = 1.\n",
    "b1  = 2.4\n",
    "b2  = 2.1"
   ]
  },
  {
   "cell_type": "markdown",
   "metadata": {
    "colab_type": "text",
    "id": "gsuAfH6-_srB"
   },
   "source": [
    "#### Mini-Exercice: a calculator\n",
    "\n",
    "The solution of the following 2-by-2 system of equations\n",
    "\n",
    "$$ a_{11} x_1 + a_{12} x_2 = b_1 $$\n",
    "$$ a_{21} x_1 + a_{22} x_2 = b_2 $$\n",
    "\n",
    "Is given by\n",
    "$$ d = a_{11} a_{22} - a_{21} a_{12} $$\n",
    "$$ x_1 = \\frac{b_1 a_{22} - a_{12} b_2}{d} $$\n",
    "$$ x_2 = \\frac{b_2 a_{11} - a_{21} b_1}{d} $$\n",
    "\n",
    "Implement a short python code computing this formula and printing the solution"
   ]
  },
  {
   "cell_type": "markdown",
   "metadata": {
    "colab_type": "text",
    "id": "2G-kVrQT4nxh"
   },
   "source": [
    "**TODO:** compute and print x1 and x2, using the formula above"
   ]
  },
  {
   "cell_type": "code",
   "execution_count": 8,
   "metadata": {
    "cellView": "form",
    "colab": {
     "base_uri": "https://localhost:8080/",
     "height": 52
    },
    "colab_type": "code",
    "id": "xAPJH3g5Plpz",
    "outputId": "0f3f32ea-d63e-4845-e8ca-059ea4412a3f"
   },
   "outputs": [
    {
     "name": "stdout",
     "output_type": "stream",
     "text": [
      "-0.5000000000000003\n",
      "1.3000000000000003\n"
     ]
    }
   ],
   "source": [
    "#@title Solution\n",
    "detA = a11 * a22 - a21 * a12\n",
    "x1 = (b1 * a22 - a12 * b2)/detA\n",
    "x2 = (b2 * a11 - a21 * b1)/detA\n",
    "print(x1)\n",
    "print(x2)"
   ]
  },
  {
   "cell_type": "markdown",
   "metadata": {
    "colab_type": "text",
    "id": "exl7W5WwZF1b"
   },
   "source": [
    "### Strings operations"
   ]
  },
  {
   "cell_type": "code",
   "execution_count": 9,
   "metadata": {
    "colab": {
     "base_uri": "https://localhost:8080/",
     "height": 52
    },
    "colab_type": "code",
    "id": "pWY7m3MA6PBB",
    "outputId": "6b045f2b-a58b-4828-8c1b-8588a294b6bf"
   },
   "outputs": [
    {
     "name": "stdout",
     "output_type": "stream",
     "text": [
      "Léopold\n",
      "7\n"
     ]
    }
   ],
   "source": [
    "name = \"Léopold\"\n",
    "print(name)\n",
    "print(len(name))"
   ]
  },
  {
   "cell_type": "markdown",
   "metadata": {
    "colab_type": "text",
    "id": "hZIx1zoM6I1d"
   },
   "source": [
    "#### Interpolation"
   ]
  },
  {
   "cell_type": "code",
   "execution_count": 10,
   "metadata": {
    "colab": {
     "base_uri": "https://localhost:8080/",
     "height": 34
    },
    "colab_type": "code",
    "id": "GXGTkDtTZHhm",
    "outputId": "fe51c3b5-a0ad-4f5a-e2af-1c79122d3108"
   },
   "outputs": [
    {
     "name": "stdout",
     "output_type": "stream",
     "text": [
      "3.14159 is the best number, but 2.71828 is really cool too, right?\n"
     ]
    }
   ],
   "source": [
    "a = 3.14159\n",
    "b = 2.71828\n",
    "s = \"right?\"\n",
    "s2 = \"{} is the best number, but {} is really cool too, {}\".format(a, b, s)\n",
    "print(s2)"
   ]
  },
  {
   "cell_type": "markdown",
   "metadata": {
    "colab_type": "text",
    "id": "TF0Ogwik6K6D"
   },
   "source": [
    "#### Concatenation"
   ]
  },
  {
   "cell_type": "code",
   "execution_count": 11,
   "metadata": {
    "colab": {
     "base_uri": "https://localhost:8080/",
     "height": 52
    },
    "colab_type": "code",
    "id": "f2Usc8djUwRG",
    "outputId": "48e8f268-4e55-4db7-9cc1-af799c94753a"
   },
   "outputs": [
    {
     "name": "stdout",
     "output_type": "stream",
     "text": [
      "ab\n",
      "zZzZzZzZzZ\n"
     ]
    }
   ],
   "source": [
    "s = \"a\" + \"b\"\n",
    "print(s)\n",
    "a = 5\n",
    "print(\"zZ\" * a)"
   ]
  },
  {
   "cell_type": "markdown",
   "metadata": {
    "colab_type": "text",
    "id": "WA39Nv7RVuyy"
   },
   "source": [
    "### Comparisons"
   ]
  },
  {
   "cell_type": "code",
   "execution_count": 12,
   "metadata": {
    "colab": {
     "base_uri": "https://localhost:8080/",
     "height": 104
    },
    "colab_type": "code",
    "id": "KQVg9-NCVwm2",
    "outputId": "54dff440-a337-4379-f11c-ef2ab4d178cb"
   },
   "outputs": [
    {
     "name": "stdout",
     "output_type": "stream",
     "text": [
      "False\n",
      "False\n",
      "True\n",
      "True\n",
      "True\n"
     ]
    }
   ],
   "source": [
    "print(1 > 2) # False\n",
    "print(2 < 1) # False\n",
    "print(\"String\" == \"String\") # True\n",
    "print(not(1 > 2)) # True\n",
    "print(1 != 2)     # True"
   ]
  },
  {
   "cell_type": "markdown",
   "metadata": {
    "colab_type": "text",
    "id": "YUERxj90ZasC"
   },
   "source": [
    "### Conversion"
   ]
  },
  {
   "cell_type": "code",
   "execution_count": 13,
   "metadata": {
    "colab": {
     "base_uri": "https://localhost:8080/",
     "height": 121
    },
    "colab_type": "code",
    "id": "Imm7HlF1ZhHf",
    "outputId": "5fa01edc-dd1d-484c-f708-0960541da2c0"
   },
   "outputs": [
    {
     "name": "stdout",
     "output_type": "stream",
     "text": [
      "2\n",
      "4.0\n",
      "2.3\n",
      "4\n",
      "1342\n",
      "1430000000000.0\n"
     ]
    }
   ],
   "source": [
    "print(int(2.7))\n",
    "print(float(4))\n",
    "print(str(2.3))\n",
    "print(str(4))\n",
    "print(int('1342'))\n",
    "a = float(\"1.43e12\")\n",
    "print(a)"
   ]
  },
  {
   "cell_type": "markdown",
   "metadata": {
    "colab_type": "text",
    "id": "DRAc4zCyDmE_"
   },
   "source": [
    "## Control-Flow"
   ]
  },
  {
   "cell_type": "markdown",
   "metadata": {
    "colab_type": "text",
    "id": "d0PGIIsP8S3K"
   },
   "source": [
    "### if/elif/else"
   ]
  },
  {
   "cell_type": "markdown",
   "metadata": {
    "colab_type": "text",
    "id": "MHJdc4SlDoBr"
   },
   "source": [
    "Like in most other languages. \n",
    "Allows to perform operations depending on conditions.\n",
    "One key difference: indentation matters!"
   ]
  },
  {
   "cell_type": "code",
   "execution_count": 14,
   "metadata": {
    "colab": {},
    "colab_type": "code",
    "id": "5JzbdscKDuv4"
   },
   "outputs": [],
   "source": [
    "a = 3\n",
    "b = 3\n",
    "if a > b: # <-- Colon\n",
    "    print(\"a > b\") # <-- Indentation (spaces, please)\n",
    "    if a == 2:\n",
    "        print('a == 2 and a > b')\n",
    "# <-- Vertical spaces are OK\n",
    "elif a == b:\n",
    "    pass # <-- Cannot be empty. `pass` does nothing.\n",
    "elif a == 2:\n",
    "    print(\"a == 2\")\n",
    "else:\n",
    "    print(\"a < b\")"
   ]
  },
  {
   "cell_type": "markdown",
   "metadata": {
    "colab_type": "text",
    "id": "ziy9angI8DnD"
   },
   "source": [
    "### Ranges"
   ]
  },
  {
   "cell_type": "markdown",
   "metadata": {
    "colab_type": "text",
    "id": "fHokzGQBEp79"
   },
   "source": [
    "\"range(10)\" returns an iterators over 0 ... 9 and is the same as doing `for(int i = 0; i < 10; i++)` in C/C++\n",
    "\n",
    "\n",
    "\n"
   ]
  },
  {
   "cell_type": "code",
   "execution_count": 15,
   "metadata": {
    "colab": {
     "base_uri": "https://localhost:8080/",
     "height": 208
    },
    "colab_type": "code",
    "id": "_mz2xqGUD8MN",
    "outputId": "b766fc99-f0aa-4d80-bbbf-46142fcd64f8"
   },
   "outputs": [
    {
     "name": "stdout",
     "output_type": "stream",
     "text": [
      "1\n",
      "1\n",
      "2\n",
      "3\n",
      "5\n",
      "8\n",
      "13\n",
      "21\n",
      "34\n",
      "55\n",
      "89\n"
     ]
    }
   ],
   "source": [
    "a = 1\n",
    "b = 1\n",
    "stop = 10\n",
    "for i in range(stop):\n",
    "    print(a)\n",
    "    sumab = a+b\n",
    "    a = b\n",
    "    b = sumab\n",
    "print(a) # What is this equal to?"
   ]
  },
  {
   "cell_type": "markdown",
   "metadata": {
    "colab_type": "text",
    "id": "LOPdharl8Vgd"
   },
   "source": [
    "### While"
   ]
  },
  {
   "cell_type": "code",
   "execution_count": 16,
   "metadata": {
    "colab": {
     "base_uri": "https://localhost:8080/",
     "height": 34
    },
    "colab_type": "code",
    "id": "moO_hogsEvQL",
    "outputId": "75c69987-6d1e-4299-ac9e-ef9de22c1121"
   },
   "outputs": [
    {
     "name": "stdout",
     "output_type": "stream",
     "text": [
      "1000\n"
     ]
    }
   ],
   "source": [
    "n = 1\n",
    "while n < 1000:\n",
    "    n = n+1\n",
    "print(n) # What is this equal to?"
   ]
  },
  {
   "cell_type": "markdown",
   "metadata": {
    "colab_type": "text",
    "id": "AdeRoqKzE9GS"
   },
   "source": [
    "All with the usual break/continue"
   ]
  },
  {
   "cell_type": "code",
   "execution_count": 17,
   "metadata": {
    "colab": {
     "base_uri": "https://localhost:8080/",
     "height": 156
    },
    "colab_type": "code",
    "id": "yWgc5ANlE8mw",
    "outputId": "cf5a1a06-c9e5-420a-cf00-7ba2493839c7"
   },
   "outputs": [
    {
     "name": "stdout",
     "output_type": "stream",
     "text": [
      "11\n",
      "13\n",
      "15\n",
      "17\n",
      "19\n",
      "21\n",
      "23\n",
      "25\n"
     ]
    }
   ],
   "source": [
    "for i in range(10, 30):\n",
    "    if i % 2 == 0:\n",
    "        continue # Skip to the next iteration\n",
    "    elif i == 27:\n",
    "        break # Stop the loop\n",
    "    else:\n",
    "        print(i)"
   ]
  },
  {
   "cell_type": "markdown",
   "metadata": {
    "colab_type": "text",
    "id": "RQ4BXla8AEcI"
   },
   "source": [
    "### Mini-Exercise: an approximation to e\n",
    "\n",
    "For all $n \\geq 0$, the following is an approximation of $e$ that gets better as $n$ grows:\n",
    "\n",
    "$$ e = \\sum_{k=0}^{n} \\frac{1}{k!}$$\n",
    "\n",
    "Compute an approximation using from $n=1$ to $n=30$ terms and compute the error you get for each approximation. Stop when the error is below 1e-10."
   ]
  },
  {
   "cell_type": "code",
   "execution_count": 18,
   "metadata": {
    "colab": {
     "base_uri": "https://localhost:8080/",
     "height": 52
    },
    "colab_type": "code",
    "id": "Q5464R88Aw4L",
    "outputId": "62271205-c193-4e0c-ea04-977e0296721c"
   },
   "outputs": [
    {
     "name": "stdout",
     "output_type": "stream",
     "text": [
      "2.718281828459045\n",
      "3628800\n"
     ]
    }
   ],
   "source": [
    "import math\n",
    "# Run this first to add math functions\n",
    "# Exact e can be obtained by math.e\n",
    "print(math.e)\n",
    "# k! can be computed using math.factorial(k)\n",
    "print(math.factorial(10))"
   ]
  },
  {
   "cell_type": "code",
   "execution_count": 19,
   "metadata": {
    "cellView": "form",
    "colab": {
     "base_uri": "https://localhost:8080/",
     "height": 260
    },
    "colab_type": "code",
    "id": "hoiwvlUBQCBd",
    "outputId": "422e7a49-6968-4d22-ee16-b0ed3443792b"
   },
   "outputs": [
    {
     "name": "stdout",
     "output_type": "stream",
     "text": [
      "0: true 2.718281828459045 approx 1.0 error 1.718281828459045\n",
      "1: true 2.718281828459045 approx 2.0 error 0.7182818284590451\n",
      "2: true 2.718281828459045 approx 2.5 error 0.2182818284590451\n",
      "3: true 2.718281828459045 approx 2.6666666666666665 error 0.05161516179237857\n",
      "4: true 2.718281828459045 approx 2.708333333333333 error 0.009948495125712054\n",
      "5: true 2.718281828459045 approx 2.7166666666666663 error 0.0016151617923787498\n",
      "6: true 2.718281828459045 approx 2.7180555555555554 error 0.0002262729034896438\n",
      "7: true 2.718281828459045 approx 2.7182539682539684 error 2.7860205076724043e-05\n",
      "8: true 2.718281828459045 approx 2.71827876984127 error 3.0586177750535626e-06\n",
      "9: true 2.718281828459045 approx 2.7182815255731922 error 3.0288585284310443e-07\n",
      "10: true 2.718281828459045 approx 2.7182818011463845 error 2.7312660577649694e-08\n",
      "11: true 2.718281828459045 approx 2.718281826198493 error 2.260552189881082e-09\n",
      "12: true 2.718281828459045 approx 2.7182818282861687 error 1.7287637987806193e-10\n",
      "13: true 2.718281828459045 approx 2.7182818284467594 error 1.2285727990501982e-11\n"
     ]
    }
   ],
   "source": [
    "#@title Solution\n",
    "e_approx = 0\n",
    "for n in range(30):\n",
    "    e_approx = e_approx + 1 / math.factorial(n)\n",
    "    err = abs(math.e-e_approx)\n",
    "    print(\"{}: true {} approx {} error {}\".format(n, math.e, e_approx, err))\n",
    "    if(err < 1e-10):\n",
    "        break\n",
    "        "
   ]
  },
  {
   "cell_type": "markdown",
   "metadata": {
    "colab_type": "text",
    "id": "Rk0RUZYcBSro"
   },
   "source": [
    "## Containers\n",
    "Containers are used to combine many basic values (integers, real numbers, strings) together, and perform operations on many of them"
   ]
  },
  {
   "cell_type": "markdown",
   "metadata": {
    "colab_type": "text",
    "id": "gzrUpMNRCs7v"
   },
   "source": [
    "### Lists"
   ]
  },
  {
   "cell_type": "markdown",
   "metadata": {
    "colab_type": "text",
    "id": "UyDjPO_ABWOL"
   },
   "source": [
    "You can put multiple variables into another variable."
   ]
  },
  {
   "cell_type": "code",
   "execution_count": 20,
   "metadata": {
    "colab": {
     "base_uri": "https://localhost:8080/",
     "height": 104
    },
    "colab_type": "code",
    "id": "gAXg7i25BVsk",
    "outputId": "fc23573c-98a4-4264-d6e6-7033e88a64f4"
   },
   "outputs": [
    {
     "name": "stdout",
     "output_type": "stream",
     "text": [
      "[1, 2, 3]\n",
      "['A', 'B', 'C']\n",
      "[0.0001, 1, 'C']\n",
      "[[1, 2, 3], ['A', 'B', 'C'], [0.0001, 1, 'C']]\n",
      "3\n"
     ]
    }
   ],
   "source": [
    "# A list of 3 integers\n",
    "a = [1, 2, 3]\n",
    "print(a)\n",
    "# 3 strings\n",
    "b = [\"A\", \"B\", \"C\"]\n",
    "print(b)\n",
    "# A mix of real number, integer and string\n",
    "c = [1e-4, 1, \"C\"]\n",
    "print(c)\n",
    "# A mix of lists !\n",
    "L = [a, b, c]\n",
    "print(L)\n",
    "# The length of a list\n",
    "print(len(L))"
   ]
  },
  {
   "cell_type": "markdown",
   "metadata": {
    "colab_type": "text",
    "id": "5OZJw9XL-oP2"
   },
   "source": [
    "#### Indexing"
   ]
  },
  {
   "cell_type": "markdown",
   "metadata": {
    "colab_type": "text",
    "id": "nRqehC0RBlPa"
   },
   "source": [
    "All indexing in python is **0-based**. Like C/C++ or Go. Unlike Matlab, Fortran or Julia"
   ]
  },
  {
   "cell_type": "code",
   "execution_count": 21,
   "metadata": {
    "colab": {
     "base_uri": "https://localhost:8080/",
     "height": 69
    },
    "colab_type": "code",
    "id": "sUoPzXO9Bvs8",
    "outputId": "70ef9a8a-8fb2-404e-a25c-21e8e1d9efb1"
   },
   "outputs": [
    {
     "name": "stdout",
     "output_type": "stream",
     "text": [
      "['A', 'B', 'C', 'D', 'E', 'F', 'G']\n",
      "A\n",
      "['A', 'Abis', 'C', 'D', 'E', 'F', 'G']\n"
     ]
    }
   ],
   "source": [
    "# A list\n",
    "a = ['A', 'B', 'C', 'D', 'E', 'F', 'G']\n",
    "print(a)\n",
    "# The first element of the list\n",
    "print(a[0])\n",
    "# Change the second element\n",
    "a[1] = 'Abis'\n",
    "print(a)"
   ]
  },
  {
   "cell_type": "markdown",
   "metadata": {
    "colab_type": "text",
    "id": "rUVHUXvE-rwH"
   },
   "source": [
    "#### Slicing"
   ]
  },
  {
   "cell_type": "markdown",
   "metadata": {
    "colab_type": "text",
    "id": "0Qqhlhz3CH8f"
   },
   "source": [
    "Python has a natural slicing syntax.\n",
    "If A is a list (or array or other indexable structure)\n",
    "`A[start:end:slice]` will return *a new list* equal to\n",
    "`A[start, start+slice, start+2*slice, ... ]`\n",
    "where the last element has index at most end-1.\n",
    "Start can be ommited (default 0), end too (default len(a)), slice too (default 1)"
   ]
  },
  {
   "cell_type": "code",
   "execution_count": 22,
   "metadata": {
    "colab": {
     "base_uri": "https://localhost:8080/",
     "height": 69
    },
    "colab_type": "code",
    "id": "36Og8ZxlCYQj",
    "outputId": "6b4b78e2-4b87-40ca-cadb-0821b8238b20"
   },
   "outputs": [
    {
     "name": "stdout",
     "output_type": "stream",
     "text": [
      "['C', 'D', 'E']\n",
      "['A', 'C', 'E', 'G']\n",
      "['B', 'E']\n"
     ]
    }
   ],
   "source": [
    "a = ['A', 'B', 'C', 'D', 'E', 'F', 'G']\n",
    "a1 = a[2:5]\n",
    "print(a1)\n",
    "a2 = a[::2]\n",
    "print(a2)\n",
    "a3 = a[1::3]\n",
    "print(a3)"
   ]
  },
  {
   "cell_type": "markdown",
   "metadata": {
    "colab_type": "text",
    "id": "HnF9jPk8MDSX"
   },
   "source": [
    "You can even use negative start/end/step"
   ]
  },
  {
   "cell_type": "code",
   "execution_count": 23,
   "metadata": {
    "colab": {
     "base_uri": "https://localhost:8080/",
     "height": 34
    },
    "colab_type": "code",
    "id": "uNVXkHt5MGVl",
    "outputId": "2b1b0fd7-4946-4fc9-c2f2-6d05636bbc64"
   },
   "outputs": [
    {
     "name": "stdout",
     "output_type": "stream",
     "text": [
      "G\n"
     ]
    }
   ],
   "source": [
    "a = ['A', 'B', 'C', 'D', 'E', 'F', 'G']\n",
    "print(a[-1])"
   ]
  },
  {
   "cell_type": "code",
   "execution_count": 24,
   "metadata": {
    "colab": {
     "base_uri": "https://localhost:8080/",
     "height": 34
    },
    "colab_type": "code",
    "id": "nEEDWGuuMQiB",
    "outputId": "e0293163-ad6c-49ce-87d4-d84255f662ae"
   },
   "outputs": [
    {
     "name": "stdout",
     "output_type": "stream",
     "text": [
      "['B', 'C', 'D', 'E']\n"
     ]
    }
   ],
   "source": [
    "print(a[-6:5]) # = ?"
   ]
  },
  {
   "cell_type": "markdown",
   "metadata": {
    "colab_type": "text",
    "id": "z1fIc1rf_Fxh"
   },
   "source": [
    "#### Append"
   ]
  },
  {
   "cell_type": "code",
   "execution_count": 25,
   "metadata": {
    "colab": {
     "base_uri": "https://localhost:8080/",
     "height": 69
    },
    "colab_type": "code",
    "id": "deus-0BXI0Wd",
    "outputId": "2fa4352c-0735-46a4-dc9a-e451eb0c720f"
   },
   "outputs": [
    {
     "name": "stdout",
     "output_type": "stream",
     "text": [
      "[1, 2]\n",
      "[1, 2, 1]\n",
      "[1, 1]\n"
     ]
    }
   ],
   "source": [
    "# Create list\n",
    "l = [1, 2]\n",
    "print(l)\n",
    "# Add `1` at the end\n",
    "l.append(1)\n",
    "print(l)\n",
    "# Remove the second entry\n",
    "del l[1]\n",
    "print(l)"
   ]
  },
  {
   "cell_type": "markdown",
   "metadata": {
    "colab_type": "text",
    "id": "dUT7SERJ_5L0"
   },
   "source": [
    "#### List comprehension\n",
    "The most Pythonic thing there is"
   ]
  },
  {
   "cell_type": "code",
   "execution_count": 26,
   "metadata": {
    "colab": {
     "base_uri": "https://localhost:8080/",
     "height": 106
    },
    "colab_type": "code",
    "id": "eQsnLHXWIE9a",
    "outputId": "f508b668-36d7-4db5-c96f-2dbe68be06bc"
   },
   "outputs": [
    {
     "name": "stdout",
     "output_type": "stream",
     "text": [
      "[0, 1, 4, 9, 16, 25, 36, 49, 64, 81]\n",
      "[0, 0, 1, 3, 6, 10, 15, 21, 28, 36]\n",
      "[0, 4, 16, 36, 64]\n",
      "[(0, 10), (0, 11), (0, 12), (0, 13), (0, 14), (0, 15), (0, 16), (0, 17), (0, 18), (0, 19), (1, 10), (1, 11), (1, 12), (1, 13), (1, 14), (1, 15), (1, 16), (1, 17), (1, 18), (1, 19)]\n"
     ]
    }
   ],
   "source": [
    "# 1. Create v[i] = i^2 (square) for i = 0, 1, ..., 9\n",
    "v = [i**2 for i in range(10)]\n",
    "print(v)\n",
    "\n",
    "# 2. Create v[i] = 0 + 1 + ... + i for i = 0, 1, ..., 9\n",
    "v = [sum(range(i)) for i in range(10)]\n",
    "print(v)\n",
    "\n",
    "# 3. Like (1) but only if i is even\n",
    "v = [i**2 for i in range(10) if i % 2 == 0]\n",
    "print(v)\n",
    "\n",
    "# 4. Crazy stuff !\n",
    "v = [(i,j) for i in range(10) if i // 2 == 0 for j in range(10, 20) if i % j == i]\n",
    "print(v)"
   ]
  },
  {
   "cell_type": "markdown",
   "metadata": {
    "colab_type": "text",
    "id": "35CQVZSMItMv"
   },
   "source": [
    "#### Mini-Exercise: a dot product\n",
    "$$ s= \\sum_{i=1}^N a_i b_i $$\n"
   ]
  },
  {
   "cell_type": "code",
   "execution_count": 27,
   "metadata": {
    "colab": {},
    "colab_type": "code",
    "id": "hbkX3l5oJI7t"
   },
   "outputs": [],
   "source": [
    "a = [1, 4, 2, 4, 7, 1, 3, 6, 9]\n",
    "b = [4, 9, 1, 2, 4, 6, 7, 8, 1]\n",
    "\n",
    "# TODO: compute s, a single integer"
   ]
  },
  {
   "cell_type": "code",
   "execution_count": 28,
   "metadata": {
    "cellView": "form",
    "colab": {
     "base_uri": "https://localhost:8080/"
    },
    "colab_type": "code",
    "id": "25jha29GQQG2",
    "outputId": "133640f8-da9d-48a1-f9c1-2ec3b246c18b"
   },
   "outputs": [
    {
     "name": "stdout",
     "output_type": "stream",
     "text": [
      "162\n"
     ]
    }
   ],
   "source": [
    "#@title Solution\n",
    "s = 0\n",
    "for i in range(len(a)):\n",
    "    s = s + a[i]*b[i]\n",
    "print(s)"
   ]
  },
  {
   "cell_type": "markdown",
   "metadata": {
    "colab_type": "text",
    "id": "IlH5Jyp3JcMc"
   },
   "source": [
    "#### Mini-Exercise: a matrix-vector product\n",
    "$$A \\in \\mathbb{R}^{m \\times n}, x \\in \\mathbb{R}^n, y \\in \\mathbb{R}^m$$\n",
    "$$y_i = \\sum_{j=1}^n A_{ij} x_j$$\n"
   ]
  },
  {
   "cell_type": "code",
   "execution_count": 29,
   "metadata": {
    "colab": {},
    "colab_type": "code",
    "id": "lBA-2Y-jKCaj"
   },
   "outputs": [],
   "source": [
    "# 3x5-matrix using a list of lists. \n",
    "# Use A[i][j] for A_(ij)\n",
    "A = [ [1, 6, 3, 6, 7], \n",
    "      [5, 8, 3, 1, 3], \n",
    "      [6, 8, 3, 2, 4] ] \n",
    "x = [3, 6, 6, 3, 4] # 5-vector\n",
    "\n",
    "# TODO: compute y, an integer list of length 3"
   ]
  },
  {
   "cell_type": "code",
   "execution_count": 30,
   "metadata": {
    "cellView": "form",
    "colab": {
     "base_uri": "https://localhost:8080/"
    },
    "colab_type": "code",
    "id": "4k2sO13iQV6X",
    "outputId": "d5ec42dc-676a-4d7e-b6ca-86bd741138a8"
   },
   "outputs": [
    {
     "name": "stdout",
     "output_type": "stream",
     "text": [
      "[103, 96, 106]\n"
     ]
    }
   ],
   "source": [
    "#@title Solution\n",
    "y = [0, 0, 0] # 3-vector\n",
    "for i in range(3):\n",
    "    for j in range(5):\n",
    "        y[i] += A[i][j] * x[j]\n",
    "print(y)"
   ]
  },
  {
   "cell_type": "markdown",
   "metadata": {
    "colab_type": "text",
    "id": "rrkPbiOuZYlE"
   },
   "source": [
    "#### Mini-Exercise: a matrix-matrix product\n",
    "$$A \\in \\mathbb{R}^{m \\times r}, B \\in \\mathbb{R}^{r \\times n}, C \\in \\mathbb{R}^{m \\times n}$$\n",
    "$$C_{ij} = \\sum_{k=1}^r A_{ik} B_{kj}$$"
   ]
  },
  {
   "cell_type": "code",
   "execution_count": 31,
   "metadata": {
    "colab": {},
    "colab_type": "code",
    "id": "qMACqL4tZnWD"
   },
   "outputs": [],
   "source": [
    "A = [ [1, 6, 3, 6, 7], \n",
    "      [5, 8, 3, 1, 3], \n",
    "      [6, 8, 3, 2, 4] ] # 3x5\n",
    "B = [ [1, 2], \n",
    "      [3, 4], \n",
    "      [5, 6],\n",
    "      [7, 8],\n",
    "      [9, 10] ] # 5x2\n",
    "\n",
    "# TODO: compute C, a list of lists, representing a matrix of size 3x2"
   ]
  },
  {
   "cell_type": "code",
   "execution_count": 32,
   "metadata": {
    "cellView": "form",
    "colab": {
     "base_uri": "https://localhost:8080/",
     "height": 34
    },
    "colab_type": "code",
    "id": "_nHmX2pQQZd_",
    "outputId": "a796243d-0662-489e-8b3c-0a50197c5764"
   },
   "outputs": [
    {
     "name": "stdout",
     "output_type": "stream",
     "text": [
      "[[139, 162], [78, 98], [95, 118]]\n"
     ]
    }
   ],
   "source": [
    "#@title Solution\n",
    "C = [ [0, 0] for i in range(3) ] # 3 x 2\n",
    "for i in range(3):\n",
    "    for j in range(2):\n",
    "        for k in range(5):\n",
    "            C[i][j] += A[i][k] * B[k][j]\n",
    "print(C)            \n"
   ]
  },
  {
   "cell_type": "markdown",
   "metadata": {
    "colab_type": "text",
    "id": "J7yK_d6XIfuh"
   },
   "source": [
    "#### Mini-Exercise: list comprehension\n",
    "In one line, create a list c which correspond to the square difference of pairwise elements of a and b, only if the elements in a are even (otherwise, skip)."
   ]
  },
  {
   "cell_type": "code",
   "execution_count": 33,
   "metadata": {
    "colab": {},
    "colab_type": "code",
    "id": "RGMCbeCdIwgK"
   },
   "outputs": [],
   "source": [
    "a = [3, 4, 2, 3, 5, 4, 8, 3, 5, 4, 8, 1, 2, 0]\n",
    "b = [2, 4, 0, 3, 1, 6, 7, 4, 2, 1, 8, 9, 3, 0]\n",
    "\n",
    "# TODO: construct c"
   ]
  },
  {
   "cell_type": "code",
   "execution_count": 34,
   "metadata": {
    "cellView": "form",
    "colab": {
     "base_uri": "https://localhost:8080/",
     "height": 34
    },
    "colab_type": "code",
    "id": "YeXydmE-QcHP",
    "outputId": "53435610-b00a-499e-ac05-6f887076af6f"
   },
   "outputs": [
    {
     "name": "stdout",
     "output_type": "stream",
     "text": [
      "[0, 4, 4, 1, 9, 0, 1, 0]\n"
     ]
    }
   ],
   "source": [
    "#@title Solution #1\n",
    "c = [(a[i]-b[i])**2 for i in range(len(a)) if (a[i] % 2 == 0)]\n",
    "print(c)"
   ]
  },
  {
   "cell_type": "code",
   "execution_count": 35,
   "metadata": {
    "cellView": "form",
    "colab": {
     "base_uri": "https://localhost:8080/",
     "height": 34
    },
    "colab_type": "code",
    "id": "Uy22f05GcmDb",
    "outputId": "c5b9e919-3d19-436d-ea99-b996e233f7e7"
   },
   "outputs": [
    {
     "name": "stdout",
     "output_type": "stream",
     "text": [
      "[0, 4, 4, 1, 9, 0, 1, 0]\n"
     ]
    }
   ],
   "source": [
    "#@title Solution #2\n",
    "c = [(ai-bi)**2 for (ai,bi) in zip(a,b) if ai % 2 == 0]\n",
    "print(c)"
   ]
  },
  {
   "cell_type": "markdown",
   "metadata": {
    "colab_type": "text",
    "id": "goMGjmZLCvng"
   },
   "source": [
    "### Tuples\n",
    "\n",
    "Like lists, but immutable. Cannot be changed."
   ]
  },
  {
   "cell_type": "code",
   "execution_count": 36,
   "metadata": {
    "colab": {
     "base_uri": "https://localhost:8080/",
     "height": 34
    },
    "colab_type": "code",
    "id": "8UWi0-DDCyAr",
    "outputId": "147c997d-c5c1-449e-b43c-d7ef1d1a1b2b"
   },
   "outputs": [
    {
     "name": "stdout",
     "output_type": "stream",
     "text": [
      "[10, 'Foo', 3.14, 2.71, '42']\n"
     ]
    }
   ],
   "source": [
    "l = [1, \"Foo\", 3.14, 2.71, \"42\"]\n",
    "l[0] = 10 # <-- OK!\n",
    "print(l)\n",
    "\n",
    "# a = (1, \"Foo\", 3.14, 2.71, \"42\")\n",
    "# a[0] = 2 # <-- Error. Tuples are immutable\n",
    "# print(a)"
   ]
  },
  {
   "cell_type": "markdown",
   "metadata": {
    "colab_type": "text",
    "id": "iKc04IMFBE2v"
   },
   "source": [
    "But otherwise, they support most of the same operations as lists"
   ]
  },
  {
   "cell_type": "code",
   "execution_count": 37,
   "metadata": {
    "colab": {
     "base_uri": "https://localhost:8080/",
     "height": 69
    },
    "colab_type": "code",
    "id": "SpKGyVDnC2vz",
    "outputId": "f4b503d6-da7e-4467-cccd-293045bb201b"
   },
   "outputs": [
    {
     "name": "stdout",
     "output_type": "stream",
     "text": [
      "14\n",
      "3\n",
      "[4, 5, 3, 8, 0]\n"
     ]
    }
   ],
   "source": [
    "print(len(a))\n",
    "print(a[0])\n",
    "print(a[1::3])"
   ]
  },
  {
   "cell_type": "markdown",
   "metadata": {
    "colab_type": "text",
    "id": "AnVSzJbFDCIu"
   },
   "source": [
    "### Dictionaries\n",
    "\n",
    "Dictionaries are (mutable) collections of (key, value) pairs."
   ]
  },
  {
   "cell_type": "code",
   "execution_count": 38,
   "metadata": {
    "colab": {
     "base_uri": "https://localhost:8080/",
     "height": 86
    },
    "colab_type": "code",
    "id": "Bi-5drHGDLDn",
    "outputId": "e0827111-56e9-47ca-b90d-3c97a5935c21"
   },
   "outputs": [
    {
     "name": "stdout",
     "output_type": "stream",
     "text": [
      "{'John': 1685, 'Alex': 147, 'Bob': -37, 'Steve': -10}\n",
      "4\n",
      "1685\n",
      "-37\n"
     ]
    }
   ],
   "source": [
    "D = {\"John\":1685, \"Alex\":147, \"Bob\":-37, \"Steve\":-10}\n",
    "print(D)\n",
    "print(len(D))\n",
    "print(D[\"John\"])\n",
    "print(D[\"Bob\"])"
   ]
  },
  {
   "cell_type": "markdown",
   "metadata": {
    "colab_type": "text",
    "id": "u31uvu3RBtUC"
   },
   "source": [
    "#### Iterating"
   ]
  },
  {
   "cell_type": "code",
   "execution_count": 39,
   "metadata": {
    "colab": {
     "base_uri": "https://localhost:8080/",
     "height": 86
    },
    "colab_type": "code",
    "id": "pgBIAETnFRoX",
    "outputId": "3c4b76ca-7570-4800-a355-58c1bb35ee41"
   },
   "outputs": [
    {
     "name": "stdout",
     "output_type": "stream",
     "text": [
      "John's account: 1685 (positive)\n",
      "Alex's account: 147 (positive)\n",
      "Bob's account: -37 (negative)\n",
      "Steve's account: -10 (negative)\n"
     ]
    }
   ],
   "source": [
    "for (k, v) in D.items():\n",
    "    if v >= 0:\n",
    "        print(\"{}'s account: {} (positive)\".format(k, v))\n",
    "    else:\n",
    "        print(\"{}'s account: {} (negative)\".format(k, v))"
   ]
  },
  {
   "cell_type": "code",
   "execution_count": 40,
   "metadata": {
    "colab": {
     "base_uri": "https://localhost:8080/",
     "height": 52
    },
    "colab_type": "code",
    "id": "Yolcrlh7FtEl",
    "outputId": "3e9f39f4-bdbe-4813-a9a5-689b0db4e44e"
   },
   "outputs": [
    {
     "name": "stdout",
     "output_type": "stream",
     "text": [
      "dict_keys(['John', 'Alex', 'Bob', 'Steve'])\n",
      "dict_values([1685, 147, -37, -10])\n"
     ]
    }
   ],
   "source": [
    "print(D.keys())\n",
    "print(D.values())"
   ]
  },
  {
   "cell_type": "markdown",
   "metadata": {
    "colab_type": "text",
    "id": "B0Dyio59Bvy_"
   },
   "source": [
    "#### Assignment"
   ]
  },
  {
   "cell_type": "code",
   "execution_count": 41,
   "metadata": {
    "colab": {
     "base_uri": "https://localhost:8080/",
     "height": 69
    },
    "colab_type": "code",
    "id": "fzKopFS6OJV9",
    "outputId": "e710229c-e31e-42de-c59a-e77a2699464c"
   },
   "outputs": [
    {
     "name": "stdout",
     "output_type": "stream",
     "text": [
      "{'John': 1585, 'Alex': 147, 'Bob': -37, 'Steve': -10}\n",
      "{'John': 1585, 'Alex': 147, 'Bob': -37, 'Steve': -10, 'Leo': 100000}\n",
      "{'John': 1585, 'Alex': 147, 'Bob': -37, 'Steve': -10}\n"
     ]
    }
   ],
   "source": [
    "# Add John if it doesn't exist, otherwise change it\n",
    "if \"John\" in D:\n",
    "    D[\"John\"] = D[\"John\"] - 100\n",
    "else:\n",
    "    D[\"John\"] = 10    \n",
    "print(D)\n",
    "\n",
    "# Set Leo \n",
    "D[\"Leo\"] = 100000\n",
    "print(D)\n",
    "\n",
    "# D[\"Cindy\"] = D[\"Cindy\"] - 1 # <-- Error (unlike C++)\n",
    "\n",
    "# Remove Leo\n",
    "del D[\"Leo\"]\n",
    "print(D)"
   ]
  },
  {
   "cell_type": "markdown",
   "metadata": {
    "colab_type": "text",
    "id": "ex3PMovpF8ZD"
   },
   "source": [
    "### Mini-Exercise: filtering data\n",
    "In the \"database\", return a list of (emails, age) of all customer with score > 500"
   ]
  },
  {
   "cell_type": "code",
   "execution_count": 42,
   "metadata": {
    "colab": {
     "base_uri": "https://localhost:8080/"
    },
    "colab_type": "code",
    "id": "2swN9jjoKswD",
    "outputId": "d2611f15-4ba2-4447-bf6c-b183511baebd"
   },
   "outputs": [
    {
     "data": {
      "text/plain": [
       "{'Juliane': ('juliane@aol.net', 71, 368),\n",
       " 'Timothy': ('timothy@outlook.com', 44, 535),\n",
       " 'Camilla': ('camilla@gmail.com', 55, 727),\n",
       " 'Elizbeth': ('elizbeth@outlook.com', 19, 790),\n",
       " 'Nena': ('nena@aol.net', 60, 532),\n",
       " 'Yolando': ('yolando@outlook.com', 37, 622),\n",
       " 'Emerson': ('emerson@gmail.com', 45, 599),\n",
       " 'Katelynn': ('katelynn@aol.net', 38, 738),\n",
       " 'Dreama': ('dreama@outlook.com', 28, 748),\n",
       " 'Debi': ('debi@outlook.com', 21, 644),\n",
       " 'Becki': ('becki@gmail.com', 42, 478),\n",
       " 'Rossana': ('rossana@aol.net', 42, 797),\n",
       " 'Jennefer': ('jennefer@outlook.com', 47, 405),\n",
       " 'Mary': ('mary@outlook.com', 62, 542)}"
      ]
     },
     "execution_count": 42,
     "metadata": {},
     "output_type": "execute_result"
    }
   ],
   "source": [
    "# This simply defines some random data\n",
    "# No need to understand the details\n",
    "import random\n",
    "names = [\"Juliane\",\"Timothy\",\"Camilla\",\"Elizbeth\",\"Nena\",\"Yolando\",\"Emerson\",\n",
    "         \"Katelynn\",\"Dreama\",\"Debi\",\"Becki\",\"Rossana\",\"Jennefer\",\"Mary\"]\n",
    "domain = [\"gmail.com\",\"outlook.com\",\"aol.net\"]\n",
    "data = {}\n",
    "for i in range(len(names)):\n",
    "    name  = names[i]\n",
    "    email = \"{}@{}\".format(name.lower(),random.choice(domain))\n",
    "    age   = random.randint(18, 75)\n",
    "    score = random.randint(350, 850)\n",
    "    data[name] = (email, age, score) \n",
    "\n",
    "# This prints the data nicely\n",
    "data"
   ]
  },
  {
   "cell_type": "markdown",
   "metadata": {
    "colab_type": "text",
    "id": "dYqFMJjJCFm2"
   },
   "source": [
    "*TODO*: Return a list of (name, email) for all customer with a score > 500"
   ]
  },
  {
   "cell_type": "code",
   "execution_count": 43,
   "metadata": {
    "cellView": "form",
    "colab": {
     "base_uri": "https://localhost:8080/"
    },
    "colab_type": "code",
    "id": "U1jxDq2aQhcG",
    "outputId": "b1ed6715-d2c5-4c65-daf4-136539335fbf"
   },
   "outputs": [
    {
     "data": {
      "text/plain": [
       "[('Timothy', 'timothy@outlook.com'),\n",
       " ('Camilla', 'camilla@gmail.com'),\n",
       " ('Elizbeth', 'elizbeth@outlook.com'),\n",
       " ('Nena', 'nena@aol.net'),\n",
       " ('Yolando', 'yolando@outlook.com'),\n",
       " ('Emerson', 'emerson@gmail.com'),\n",
       " ('Katelynn', 'katelynn@aol.net'),\n",
       " ('Dreama', 'dreama@outlook.com'),\n",
       " ('Debi', 'debi@outlook.com'),\n",
       " ('Rossana', 'rossana@aol.net'),\n",
       " ('Mary', 'mary@outlook.com')]"
      ]
     },
     "execution_count": 43,
     "metadata": {},
     "output_type": "execute_result"
    }
   ],
   "source": [
    "#@title Solution #1\n",
    "l1 = []\n",
    "for (k,v) in data.items():\n",
    "    if v[2] > 500:\n",
    "        l1.append((k,v[0]))\n",
    "# Nice print\n",
    "l1"
   ]
  },
  {
   "cell_type": "code",
   "execution_count": 44,
   "metadata": {
    "cellView": "form",
    "colab": {
     "base_uri": "https://localhost:8080/"
    },
    "colab_type": "code",
    "id": "NWaj8O_CCXdg",
    "outputId": "3e6f8d20-cc03-4aac-ca17-2fc9ebcebc5c"
   },
   "outputs": [
    {
     "data": {
      "text/plain": [
       "[('Timothy', 'timothy@outlook.com'),\n",
       " ('Camilla', 'camilla@gmail.com'),\n",
       " ('Elizbeth', 'elizbeth@outlook.com'),\n",
       " ('Nena', 'nena@aol.net'),\n",
       " ('Yolando', 'yolando@outlook.com'),\n",
       " ('Emerson', 'emerson@gmail.com'),\n",
       " ('Katelynn', 'katelynn@aol.net'),\n",
       " ('Dreama', 'dreama@outlook.com'),\n",
       " ('Debi', 'debi@outlook.com'),\n",
       " ('Rossana', 'rossana@aol.net'),\n",
       " ('Mary', 'mary@outlook.com')]"
      ]
     },
     "execution_count": 44,
     "metadata": {},
     "output_type": "execute_result"
    }
   ],
   "source": [
    "#@title Solution #2\n",
    "l2 = [(k,v[0]) for (k,v) in data.items() if v[2] > 500]\n",
    "# Nice print\n",
    "l2"
   ]
  },
  {
   "cell_type": "markdown",
   "metadata": {
    "colab_type": "text",
    "id": "I_KfQU1AiqQR"
   },
   "source": [
    "###Harder Mini-Exercice: merging dictionaries\n",
    "We have a list of dictionaries \"string\" => \"int\".\n",
    "Merge the dictionaries into one. \n",
    "When two entries have the same key, keep the largest.\n"
   ]
  },
  {
   "cell_type": "code",
   "execution_count": 45,
   "metadata": {
    "colab": {},
    "colab_type": "code",
    "id": "yFDUwrHyjDlU"
   },
   "outputs": [],
   "source": [
    "from random import choice, randint\n",
    "from string import ascii_letters as al\n",
    "\n",
    "# Creates the data\n",
    "# No need to understand the details\n",
    "L = [{''.join([choice(al) for i in range(1)]):randint(1, 1000) for i in range(100)} for j in range(100)]"
   ]
  },
  {
   "cell_type": "markdown",
   "metadata": {
    "colab_type": "text",
    "id": "A29Xrp-1Crui"
   },
   "source": [
    "*TODO:* We have a list `L` of distionaries (`L[0]` is one, `L[1]` is another, etc). Each dictionary is a set of string=>integer key-values pair.\n",
    "\n",
    "Merge them all into one, i.e., create one dictionary of string=>integer defined as the union of all the dictionaries on L.\n",
    "\n",
    "When you have multiple data for the same key, keep the largest (maximum)."
   ]
  },
  {
   "cell_type": "code",
   "execution_count": 46,
   "metadata": {
    "cellView": "form",
    "colab": {
     "base_uri": "https://localhost:8080/"
    },
    "colab_type": "code",
    "id": "6CaVscUmQtiW",
    "outputId": "cfcad00b-926f-4169-dfc1-454d4e222347"
   },
   "outputs": [
    {
     "name": "stdout",
     "output_type": "stream",
     "text": [
      "{'z': 978, 'H': 993, 'J': 993, 'A': 1000, 'F': 989, 'i': 991, 'l': 990, 'v': 1000, 'o': 999, 'M': 960, 'g': 993, 'Z': 1000, 'S': 983, 'K': 992, 'V': 1000, 'G': 981, 'f': 1000, 'C': 997, 'N': 999, 'n': 993, 'e': 992, 'Y': 990, 'P': 996, 'b': 992, 'y': 989, 'R': 982, 'm': 988, 'x': 997, 'X': 998, 'a': 985, 'k': 982, 'W': 999, 'u': 993, 'c': 993, 'j': 975, 'r': 979, 'B': 982, 'T': 999, 'U': 996, 'p': 970, 'w': 988, 'D': 997, 'L': 991, 'd': 989, 'O': 993, 'h': 999, 'Q': 981, 'E': 985, 's': 991, 'q': 984, 't': 998, 'I': 988}\n"
     ]
    }
   ],
   "source": [
    "#@title Solution\n",
    "# TODO: Merge the data\n",
    "M = {}\n",
    "for d in L:\n",
    "    for (k,v) in d.items():\n",
    "        if k in M:\n",
    "            M[k] = max(v, M[k])\n",
    "        else:\n",
    "            M[k] = v  \n",
    "print(M) "
   ]
  },
  {
   "cell_type": "markdown",
   "metadata": {
    "colab_type": "text",
    "id": "ehwL19X3WWvo"
   },
   "source": [
    "## Reading files"
   ]
  },
  {
   "cell_type": "markdown",
   "metadata": {
    "colab_type": "text",
    "id": "MRq-o1YqEfpM"
   },
   "source": [
    "First way. Using explicit `open` and `close`."
   ]
  },
  {
   "cell_type": "code",
   "execution_count": 47,
   "metadata": {
    "colab": {
     "base_uri": "https://localhost:8080/"
    },
    "colab_type": "code",
    "id": "5AZgOrcNWpSO",
    "outputId": "df607b80-f445-4c21-d503-815ae8d39d04"
   },
   "outputs": [
    {
     "name": "stdout",
     "output_type": "stream",
     "text": [
      "How are you today?\n",
      "\n",
      "Have you heard about those ICME workshops?\n",
      "\n",
      "I heard they're great :-)\n",
      "\n"
     ]
    }
   ],
   "source": [
    "# Open the file and create a `handle` (link) to it\n",
    "f = open(\"text.txt\",'r')\n",
    "# Iterates through all lines\n",
    "for l in f:\n",
    "    print(l)\n",
    "# IMPORTANT! Close the file\n",
    "f.close() "
   ]
  },
  {
   "cell_type": "markdown",
   "metadata": {
    "colab_type": "text",
    "id": "kFj9eZ5QE5E1"
   },
   "source": [
    "Second way. Using the `with` construct"
   ]
  },
  {
   "cell_type": "code",
   "execution_count": 48,
   "metadata": {
    "colab": {
     "base_uri": "https://localhost:8080/"
    },
    "colab_type": "code",
    "id": "0MWUnmc-EfBD",
    "outputId": "c0a69620-3618-41b7-d457-edfd098916fc"
   },
   "outputs": [
    {
     "name": "stdout",
     "output_type": "stream",
     "text": [
      "How are you today?\n",
      "\n",
      "Have you heard about those ICME workshops?\n",
      "\n",
      "I heard they're great :-)\n",
      "\n"
     ]
    }
   ],
   "source": [
    "with open(\"text.txt\",\"r\") as f:\n",
    "    for l in f:\n",
    "        print(l)"
   ]
  },
  {
   "cell_type": "markdown",
   "metadata": {
    "colab_type": "text",
    "id": "H-knql6mFJwH"
   },
   "source": [
    "## Writing files"
   ]
  },
  {
   "cell_type": "code",
   "execution_count": 49,
   "metadata": {
    "colab": {},
    "colab_type": "code",
    "id": "d35qeQ4K_4Uw"
   },
   "outputs": [],
   "source": [
    "with open(\"text-write.txt\", \"w\") as f:\n",
    "    f.write(\"First line\\n\") \n",
    "    f.write(\"Second line\\n\")"
   ]
  },
  {
   "cell_type": "code",
   "execution_count": 50,
   "metadata": {
    "colab": {
     "base_uri": "https://localhost:8080/"
    },
    "colab_type": "code",
    "id": "R3lT8LA7FW-B",
    "outputId": "11864628-434a-4e97-8308-ee461ae4e55d"
   },
   "outputs": [
    {
     "name": "stdout",
     "output_type": "stream",
     "text": [
      "First line\r\n",
      "Second line\r\n"
     ]
    }
   ],
   "source": [
    "!cat text-write.txt # Read file using shell command"
   ]
  },
  {
   "cell_type": "markdown",
   "metadata": {
    "colab_type": "text",
    "id": "OC77P0-Ikn3i"
   },
   "source": [
    "## Long exercise: read file, count frequencies of words, remove short ones and display the 10 most frequent"
   ]
  },
  {
   "cell_type": "markdown",
   "metadata": {
    "colab_type": "text",
    "id": "Gs2lkLs4p7JN"
   },
   "source": [
    "The text-file `star_wars_4th.txt` contains the 4th Star Wars script.\n",
    "\n",
    "We want you to find the 10 most common words of more than 4 characters.\n"
   ]
  },
  {
   "cell_type": "code",
   "execution_count": 51,
   "metadata": {
    "colab": {
     "base_uri": "https://localhost:8080/",
     "height": 52
    },
    "colab_type": "code",
    "id": "3gkpPhANlVG1",
    "outputId": "d0b19ff2-885b-4216-85fa-b614031acc3d"
   },
   "outputs": [
    {
     "name": "stdout",
     "output_type": "stream",
     "text": [
      "['Comment', 'est', 'mon', 'anglais?']\n",
      "incroyable\n"
     ]
    }
   ],
   "source": [
    "# Boiler plate\n",
    "import string\n",
    "\n",
    "# Some hints:\n",
    "\n",
    "# Break string into words\n",
    "s = \"Comment est mon anglais?\"\n",
    "print(s.split()) # = [\"Comment\", \"est\", \"mon\", \"anglais?\"]\n",
    "\n",
    "# Convert to lowercases\n",
    "s = \"INCROYABLE\"\n",
    "print(s.lower()) # = \"incroyable\""
   ]
  },
  {
   "cell_type": "markdown",
   "metadata": {
    "colab_type": "text",
    "id": "3RISJlWYFjta"
   },
   "source": [
    "*TODO*: \n",
    "0. Initialize an empty dictionary.\n",
    "1. read file line by line\n",
    "    - Break line into words\n",
    "    - Convert each word to lower case. BONUS: remove any punctuation\n",
    "    - If the word has more than 4 characters:\n",
    "        - If the word is already in the dictionary, increment its count by 1        \n",
    "        - Else, add word to dictionary with count of 1\n",
    "2. Convert dictionary to list of (word, count). Use list(dict.items()) to that.\n",
    "3. Sort (descending) by word count. Google to find out how.\n",
    "4. Print the 10 most frequent"
   ]
  },
  {
   "cell_type": "code",
   "execution_count": 52,
   "metadata": {
    "cellView": "form",
    "colab": {
     "base_uri": "https://localhost:8080/",
     "height": 191
    },
    "colab_type": "code",
    "id": "DiuqDObpQ1FO",
    "outputId": "827270f4-b386-4d84-f738-c21310235a24"
   },
   "outputs": [
    {
     "data": {
      "text/plain": [
       "[('death', 225),\n",
       " ('cockpit', 185),\n",
       " ('threepio', 173),\n",
       " (\"luke's\", 111),\n",
       " ('vader', 100),\n",
       " ('around', 93),\n",
       " ('fighter', 92),\n",
       " ('artoo', 87),\n",
       " ('imperial', 85),\n",
       " ('looks', 81)]"
      ]
     },
     "execution_count": 52,
     "metadata": {},
     "output_type": "execute_result"
    }
   ],
   "source": [
    "#@title Solution\n",
    "import string\n",
    "words = {} # Store word:count pairs\n",
    "with open(\"star_wars_4th.txt\",'r') as f:\n",
    "    for line in f:\n",
    "        for w_ in line.split():\n",
    "            w = w_.lower()\n",
    "            if len(w) > 4:\n",
    "                if w in words:\n",
    "                    words[w] += 1\n",
    "                else:\n",
    "                    words[w] = 1\n",
    "words = list(words.items())\n",
    "words = sorted(words, key=lambda x:x[1], reverse=True)\n",
    "words[:10]               "
   ]
  },
  {
   "cell_type": "markdown",
   "metadata": {
    "colab_type": "text",
    "id": "De0JIcZIRPt9"
   },
   "source": [
    "## Extra Exercise: reading and processing text data\n"
   ]
  },
  {
   "cell_type": "code",
   "execution_count": 53,
   "metadata": {
    "colab": {},
    "colab_type": "code",
    "id": "5Z5GS5zjUPPP"
   },
   "outputs": [],
   "source": [
    "# TODO:\n",
    "# (1) Read dist.female.first and dist.male.first files\n",
    "#     Each file has many lines, each following the format\n",
    "#         NAMES         x y z\n",
    "#     Only the first word (the name) matters. You can ignore x, y and z\n",
    "# (2) For each file, go through all lines, read the name (by splitting) the line\n",
    "# (3) Find the names in common between the two files"
   ]
  },
  {
   "cell_type": "code",
   "execution_count": 54,
   "metadata": {
    "cellView": "form",
    "colab": {
     "base_uri": "https://localhost:8080/",
     "height": 235
    },
    "colab_type": "code",
    "id": "4-eNUQ-WRppc",
    "outputId": "c108e1b0-08ff-4fae-a3aa-20ac8a450e08"
   },
   "outputs": [
    {
     "name": "stdout",
     "output_type": "stream",
     "text": [
      "13\n",
      "MARY\n",
      "PATRICIA\n",
      "MARIA\n",
      "CAROL\n",
      "SHIRLEY\n",
      "FRANCES\n",
      "JEAN\n",
      "JOAN\n",
      "ASHLEY\n",
      "KELLY\n",
      "ANDREA\n",
      "ROBIN\n",
      "CONNIE\n",
      "TRACY\n",
      "CARMEN\n",
      "KIM\n",
      "SHANNON\n",
      "LESLIE\n",
      "JAMIE\n",
      "GAIL\n",
      "ERIN\n",
      "LAUREN\n",
      "LYNN\n",
      "MARION\n",
      "DANA\n",
      "STACY\n",
      "STACEY\n",
      "JESSIE\n",
      "WILLIE\n",
      "JACKIE\n",
      "COURTNEY\n",
      "TERRY\n",
      "BILLIE\n",
      "TRACEY\n",
      "BOBBIE\n",
      "LINDSEY\n",
      "LINDSAY\n",
      "GUADALUPE\n",
      "SANDY\n",
      "JAN\n",
      "LEE\n",
      "WHITNEY\n",
      "GAYLE\n",
      "PAT\n",
      "JOHNNIE\n",
      "FRANCIS\n",
      "JODY\n",
      "ANGEL\n",
      "ANTONIA\n",
      "LEIGH\n",
      "KELLEY\n",
      "KERRY\n",
      "LAVERNE\n",
      "ALEXIS\n",
      "CASEY\n",
      "OLLIE\n",
      "JAIME\n",
      "SHELBY\n",
      "JEWEL\n",
      "CHRIS\n",
      "SHAWN\n",
      "FRANKIE\n",
      "MORGAN\n",
      "JEWELL\n",
      "CLEO\n",
      "ROSARIO\n",
      "LUPE\n",
      "LOU\n",
      "LESLEY\n",
      "ROBBIE\n",
      "JIMMIE\n",
      "DOMINIQUE\n",
      "RENE\n",
      "GALE\n",
      "DALE\n",
      "DEE\n",
      "TOMMIE\n",
      "JORDAN\n",
      "MICHAEL\n",
      "TAYLOR\n",
      "JOHN\n",
      "KRIS\n",
      "JERRY\n",
      "MERLE\n",
      "KASEY\n",
      "EDDIE\n",
      "JAMES\n",
      "YOUNG\n",
      "CHRISTIAN\n",
      "CAREY\n",
      "LACY\n",
      "ADRIAN\n",
      "ROBERT\n",
      "SYDNEY\n",
      "BOBBY\n",
      "ELISHA\n",
      "JESSE\n",
      "BENNIE\n",
      "AUBREY\n",
      "CHONG\n",
      "YONG\n",
      "FREDDIE\n",
      "ARIEL\n",
      "WILLIAM\n",
      "DEVON\n",
      "ALVA\n",
      "CRUZ\n",
      "CHARLIE\n",
      "RYAN\n",
      "NOEL\n",
      "CHARLES\n",
      "TRINIDAD\n",
      "DAVID\n",
      "CARROLL\n",
      "SAMMIE\n",
      "LOREN\n",
      "JOE\n",
      "GENE\n",
      "LAVERN\n",
      "GEORGE\n",
      "DANIEL\n",
      "LOUIS\n",
      "LONNIE\n",
      "CECIL\n",
      "GERRY\n",
      "RAY\n",
      "BLAIR\n",
      "JOSEPH\n",
      "COREY\n",
      "IVORY\n",
      "DONNIE\n",
      "CARROL\n",
      "MICKEY\n",
      "BILLY\n",
      "SIDNEY\n",
      "CARY\n",
      "MARTY\n",
      "RONNIE\n",
      "KENDALL\n",
      "CORY\n",
      "IRA\n",
      "TONY\n",
      "TOBY\n",
      "MARK\n",
      "RICHARD\n",
      "KYLE\n",
      "DEVIN\n",
      "SANTOS\n",
      "HONG\n",
      "RANDY\n",
      "DEAN\n",
      "TOMMY\n",
      "JOSE\n",
      "VAN\n",
      "PAUL\n",
      "THOMAS\n",
      "JUAN\n",
      "CAMERON\n",
      "JOEY\n",
      "ODELL\n",
      "JOHNIE\n",
      "CLAIR\n",
      "AUGUSTINE\n",
      "CHRISTOPHER\n",
      "PARIS\n",
      "GABRIEL\n",
      "PATRICK\n",
      "CLYDE\n",
      "DUSTY\n",
      "BRITT\n",
      "NUMBERS\n",
      "JOHNNY\n",
      "JAY\n",
      "ANTHONY\n",
      "CARL\n",
      "ANTONIO\n",
      "SANG\n",
      "MARIO\n",
      "KEVIN\n",
      "DORIAN\n",
      "DALLAS\n",
      "CHI\n",
      "ALEXANDER\n",
      "CHUNG\n",
      "ANDREW\n",
      "THANH\n",
      "MICHEL\n",
      "SUNG\n",
      "SHANE\n",
      "JESUS\n",
      "HOLLIS\n",
      "HENRY\n",
      "DARNELL\n",
      "DARYL\n",
      "CODY\n",
      "SAM\n",
      "NORMAN\n",
      "DENNIS\n",
      "STEVIE\n",
      "MICAH\n",
      "ERIC\n",
      "ALI\n",
      "NICKY\n",
      "JASON\n",
      "ANDRE\n",
      "REFUGIO\n",
      "GARY\n",
      "SEAN\n",
      "KENNETH\n",
      "THEO\n",
      "STEPHEN\n",
      "SON\n",
      "LANE\n",
      "JOEL\n",
      "DONALD\n",
      "ALEX\n",
      "VAL\n",
      "TYLER\n",
      "STEVEN\n",
      "SHAUN\n",
      "FRANK\n",
      "ARTHUR\n",
      "AARON\n",
      "PERRY\n",
      "MINH\n",
      "MATTHEW\n",
      "KIRBY\n",
      "FRANCISCO\n",
      "SCOTT\n",
      "RONALD\n",
      "MICHAL\n",
      "MAURICE\n",
      "BRANDON\n",
      "MICHEAL\n",
      "LUIS\n",
      "JUSTIN\n",
      "JULIAN\n",
      "JIMMY\n",
      "TRISTAN\n",
      "LOUIE\n",
      "EDWARD\n",
      "KARL\n",
      "BERNIE\n",
      "JAMEY\n",
      "WALTER\n",
      "JAE\n",
      "EVAN\n",
      "EUGENE\n",
      "RUDY\n",
      "MARTIN\n",
      "ANGELO\n",
      "ALLEN\n",
      "RAYMOND\n",
      "OTHA\n",
      "MELVIN\n",
      "MITCHELL\n",
      "DEMETRIUS\n",
      "BRETT\n",
      "TROY\n",
      "LARRY\n",
      "ROYCE\n",
      "JACK\n",
      "AVERY\n",
      "VALENTINE\n",
      "TORY\n",
      "JON\n",
      "GREGORY\n",
      "DREW\n",
      "MERRILL\n",
      "MAN\n",
      "JUDE\n",
      "DEON\n",
      "DANNIE\n",
      "CHANG\n",
      "BERRY\n",
      "TIMOTHY\n",
      "SAMMY\n",
      "LEON\n",
      "CARLOS\n",
      "ALBERT\n",
      "WESLEY\n",
      "SCOTTIE\n",
      "ROBERTO\n",
      "LAWRENCE\n",
      "HAROLD\n",
      "LOGAN\n",
      "GERALD\n",
      "BRIAN\n",
      "VICTOR\n",
      "TERRELL\n",
      "LEO\n",
      "LAURENCE\n",
      "JOSHUA\n",
      "JEFFREY\n",
      "RICKIE\n",
      "QUINN\n",
      "GLENN\n",
      "CLAUDE\n",
      "SHAYNE\n",
      "ROY\n",
      "MARLIN\n",
      "KEITH\n",
      "FRED\n",
      "ELMER\n",
      "DAN\n",
      "ADAM\n",
      "DONG\n",
      "CLARENCE\n",
      "MIKE\n",
      "JAME\n",
      "TRAVIS\n",
      "SOL\n",
      "RORY\n",
      "PETER\n",
      "JEREMY\n",
      "DION\n",
      "CURTIS\n",
      "COLBY\n",
      "SAMUEL\n",
      "OSCAR\n",
      "LEWIS\n",
      "JULIO\n",
      "ELLIS\n",
      "DENNY\n",
      "BLAKE\n",
      "AUSTIN\n",
      "VIRGIL\n",
      "VERNON\n",
      "RUSSELL\n",
      "MARSHALL\n",
      "LESTER\n"
     ]
    }
   ],
   "source": [
    "#@title Solution\n",
    "names = {}\n",
    "with open(\"dist.female.first\",'r') as f:\n",
    "    for line in f:\n",
    "        name = line.split()[0]\n",
    "        names[name] = 1\n",
    "with open(\"dist.male.first\",'r') as f:\n",
    "    for line in f:\n",
    "        name = line.split()[0]\n",
    "        if name in names:            \n",
    "            names[name] += 1\n",
    "print(n)\n",
    "for (k,v) in names.items():\n",
    "    if v == 2:\n",
    "        print(k)"
   ]
  },
  {
   "cell_type": "markdown",
   "metadata": {
    "colab_type": "text",
    "id": "Xd-pkEyshDHw"
   },
   "source": [
    "# More Advanced Concepts"
   ]
  },
  {
   "cell_type": "markdown",
   "metadata": {
    "colab_type": "text",
    "id": "mKBfjPxJX5nh"
   },
   "source": [
    "## Functions"
   ]
  },
  {
   "cell_type": "code",
   "execution_count": 55,
   "metadata": {
    "colab": {},
    "colab_type": "code",
    "id": "NUK0hXJhiurr"
   },
   "outputs": [
    {
     "name": "stdout",
     "output_type": "stream",
     "text": [
      "6\n",
      "7\n"
     ]
    }
   ],
   "source": [
    "# Basic function\n",
    "def foo(x, y):\n",
    "    return x+y\n",
    "\n",
    "a = foo(1, 5)\n",
    "print(a)\n",
    "b = foo(2, 5)\n",
    "print(b)"
   ]
  },
  {
   "cell_type": "code",
   "execution_count": 56,
   "metadata": {
    "colab": {},
    "colab_type": "code",
    "id": "YrUJvZpHSz4g"
   },
   "outputs": [
    {
     "name": "stdout",
     "output_type": "stream",
     "text": [
      "<class 'function'>\n"
     ]
    }
   ],
   "source": [
    "# Even functions are objects!\n",
    "print(type(foo))"
   ]
  },
  {
   "cell_type": "code",
   "execution_count": 57,
   "metadata": {
    "colab": {},
    "colab_type": "code",
    "id": "JxCcAel-l6WK"
   },
   "outputs": [
    {
     "name": "stdout",
     "output_type": "stream",
     "text": [
      "3\n"
     ]
    }
   ],
   "source": [
    "# This means this is allowed\n",
    "f = foo\n",
    "print(f(1,2))"
   ]
  },
  {
   "cell_type": "markdown",
   "metadata": {
    "colab_type": "text",
    "id": "XfaEBpp9H6ey"
   },
   "source": [
    "### Default arguments"
   ]
  },
  {
   "cell_type": "code",
   "execution_count": 58,
   "metadata": {
    "colab": {},
    "colab_type": "code",
    "id": "Zr2FYACiS3iR"
   },
   "outputs": [
    {
     "name": "stdout",
     "output_type": "stream",
     "text": [
      "6\n",
      "7\n",
      "9\n",
      "5\n",
      "13\n"
     ]
    }
   ],
   "source": [
    "# Default arguments\n",
    "def bar(x, y=2, z=3):\n",
    "    print(x+y+z)\n",
    "    \n",
    "# Positional arguments\n",
    "bar(1)\n",
    "bar(1, 3)\n",
    "bar(1, 3, 5)\n",
    "\n",
    "# Position + keyword arguments\n",
    "bar(1, z=2)\n",
    "bar(z=1, x=10)"
   ]
  },
  {
   "cell_type": "markdown",
   "metadata": {
    "colab_type": "text",
    "id": "5p3N0yflIKmE"
   },
   "source": [
    "### Anonymous functions"
   ]
  },
  {
   "cell_type": "code",
   "execution_count": 59,
   "metadata": {
    "colab": {},
    "colab_type": "code",
    "id": "ArPFcG45S-tX"
   },
   "outputs": [
    {
     "name": "stdout",
     "output_type": "stream",
     "text": [
      "4\n"
     ]
    }
   ],
   "source": [
    "# Anonymous function\n",
    "f = lambda x:x + 2\n",
    "print(f(2))"
   ]
  },
  {
   "cell_type": "code",
   "execution_count": 60,
   "metadata": {
    "colab": {},
    "colab_type": "code",
    "id": "uMdSkjl1mOx5"
   },
   "outputs": [
    {
     "name": "stdout",
     "output_type": "stream",
     "text": [
      "3\n"
     ]
    }
   ],
   "source": [
    "# A function returning functions!\n",
    "def add_(x):\n",
    "    return (lambda y: x + y)\n",
    "f = add_(1)\n",
    "print(f(2))"
   ]
  },
  {
   "cell_type": "markdown",
   "metadata": {
    "colab_type": "text",
    "id": "UhdsFQ8nHOHw"
   },
   "source": [
    "### Exercice: function definition\n",
    "\n",
    "Define a 3-lines function greet(names, msg) where `names` is a list of names (strings) and that prints, for all `name` in `names`\n",
    "```\n",
    "msg name!\n",
    "```\n",
    "where `msg` takes the default value `Hello`, but can be overridden if provided."
   ]
  },
  {
   "cell_type": "markdown",
   "metadata": {
    "colab_type": "text",
    "id": "LPvGlBY6JIbG"
   },
   "source": [
    "*TODO:* build function greet(...) as defined above"
   ]
  },
  {
   "cell_type": "code",
   "execution_count": 61,
   "metadata": {
    "cellView": "form",
    "colab": {},
    "colab_type": "code",
    "id": "iGaiIZAkRwP8"
   },
   "outputs": [],
   "source": [
    "#@title Solution\n",
    "def greet(names, msg=\"Hello\"):\n",
    "    for n in names:\n",
    "        print(\"{} {}!\".format(msg, n))"
   ]
  },
  {
   "cell_type": "code",
   "execution_count": 62,
   "metadata": {
    "colab": {},
    "colab_type": "code",
    "id": "iADVWxYCUPcK"
   },
   "outputs": [
    {
     "name": "stdout",
     "output_type": "stream",
     "text": [
      "Coucou Leopold!\n",
      "Coucou Cindy!\n",
      "Coucou John!\n",
      "Coucou Bob!\n"
     ]
    }
   ],
   "source": [
    "# This should then be working :        \n",
    "greet([\"Leopold\", \"Cindy\", \"John\", \"Bob\"], msg=\"Coucou\")"
   ]
  },
  {
   "cell_type": "markdown",
   "metadata": {
    "colab_type": "text",
    "id": "XVDemxqEDidh"
   },
   "source": [
    "## Iterables & Generators\n",
    "\n",
    "Anything we can do `for x in ...` is an iterable."
   ]
  },
  {
   "cell_type": "code",
   "execution_count": 63,
   "metadata": {
    "colab": {},
    "colab_type": "code",
    "id": "KSECKhg5DsPU"
   },
   "outputs": [
    {
     "name": "stdout",
     "output_type": "stream",
     "text": [
      "0\n",
      "1\n",
      "2\n",
      "3\n",
      "4\n"
     ]
    }
   ],
   "source": [
    "for i in range(5):\n",
    "    print(i)"
   ]
  },
  {
   "cell_type": "code",
   "execution_count": 64,
   "metadata": {
    "colab": {},
    "colab_type": "code",
    "id": "hpg1UDZOELup"
   },
   "outputs": [
    {
     "name": "stdout",
     "output_type": "stream",
     "text": [
      "a\n",
      " \n",
      "s\n",
      "t\n",
      "r\n",
      "i\n",
      "n\n",
      "g\n",
      "!\n"
     ]
    }
   ],
   "source": [
    "for s in \"a string!\":\n",
    "    print(s)"
   ]
  },
  {
   "cell_type": "code",
   "execution_count": 65,
   "metadata": {
    "colab": {},
    "colab_type": "code",
    "id": "nkyefeGxF7fw"
   },
   "outputs": [
    {
     "name": "stdout",
     "output_type": "stream",
     "text": [
      "1\n",
      "2\n",
      "3\n"
     ]
    }
   ],
   "source": [
    "for l in [1, 2, 3]:\n",
    "    print(l)"
   ]
  },
  {
   "cell_type": "code",
   "execution_count": 66,
   "metadata": {
    "colab": {},
    "colab_type": "code",
    "id": "Rl8mmF7cxwaW"
   },
   "outputs": [
    {
     "name": "stdout",
     "output_type": "stream",
     "text": [
      "a\n",
      "1\n",
      "b\n",
      "2\n",
      "c\n",
      "100\n"
     ]
    }
   ],
   "source": [
    "d = {\"a\":1, \"b\":2, \"c\":100}\n",
    "for (k, v) in d.items():\n",
    "    print(k)\n",
    "    print(v)\n",
    "    "
   ]
  },
  {
   "cell_type": "markdown",
   "metadata": {
    "colab_type": "text",
    "id": "Nmn4PXzGF9pk"
   },
   "source": [
    "Those are all iterables. \n",
    "Those are objects that one can iterate over. \n",
    "A generator is iterable but that does not require the construction of all the elements beforehand.\n",
    "\n",
    "We use the keyword yield to create a simple generator."
   ]
  },
  {
   "cell_type": "code",
   "execution_count": 67,
   "metadata": {
    "colab": {},
    "colab_type": "code",
    "id": "Rhdw-cFIGPTw"
   },
   "outputs": [
    {
     "name": "stdout",
     "output_type": "stream",
     "text": [
      "0\n",
      "1\n",
      "4\n",
      "9\n",
      "16\n",
      "25\n",
      "36\n",
      "49\n",
      "64\n",
      "81\n"
     ]
    }
   ],
   "source": [
    "def squares10():\n",
    "    for n in range(10):\n",
    "        yield n**2\n",
    "\n",
    "for x in squares10():\n",
    "    print(x)   "
   ]
  },
  {
   "cell_type": "markdown",
   "metadata": {
    "colab_type": "text",
    "id": "fGbWVn4fGeN1"
   },
   "source": [
    "### Exercise: create a generator for the $n$ first Fibonacci numbers\n",
    "Create a generator for the first $n$ elements of the Fibonacci sequence:\n",
    "$$ n_0 = 1, n_1 = 1, n_{i+1} = n_i + n_{i-1} $$"
   ]
  },
  {
   "cell_type": "markdown",
   "metadata": {
    "colab_type": "text",
    "id": "sAdrpJZGMIDD"
   },
   "source": [
    "*TODO:* define a function fibo(n) yielding the first n Fibonacci numbers.\n",
    "Use it to print the first 10."
   ]
  },
  {
   "cell_type": "code",
   "execution_count": 68,
   "metadata": {
    "cellView": "form",
    "colab": {},
    "colab_type": "code",
    "id": "6x1ydXmnR75F"
   },
   "outputs": [
    {
     "name": "stdout",
     "output_type": "stream",
     "text": [
      "1\n",
      "1\n",
      "2\n",
      "3\n",
      "5\n",
      "8\n",
      "13\n",
      "21\n",
      "34\n",
      "55\n"
     ]
    }
   ],
   "source": [
    "#@title Solution\n",
    "def fibo(n):\n",
    "    a = 1\n",
    "    b = 1\n",
    "    yield a\n",
    "    for i in range(1, n):\n",
    "        (a, b) = (b, a+b)\n",
    "        yield a\n",
    "        \n",
    "for x in fibo(10):\n",
    "    print(x)"
   ]
  },
  {
   "cell_type": "markdown",
   "metadata": {
    "colab_type": "text",
    "id": "jB75ZryjKA35"
   },
   "source": [
    "### Exercise: reverse, map, filter\n",
    "\n",
    "Reverse : Create a generator that takes a collection (like a list) as input, and generates the reverse list\n",
    "\n",
    "Map : Create a generator that takes a function and an iterable, and returns the function applied on each element\n",
    "\n",
    "Filter: Create a generator that takes a function f, and iterable, and generate the elements e for which the function f(e) returns True.\n",
    "\n",
    "Trick for printing: ```list(g)```  returns a list of the elements generated by g."
   ]
  },
  {
   "cell_type": "markdown",
   "metadata": {
    "colab_type": "text",
    "id": "dLXK6DJEMWG3"
   },
   "source": [
    "*TODO:* define the `myreverse` and `mymap` functions    "
   ]
  },
  {
   "cell_type": "code",
   "execution_count": 69,
   "metadata": {
    "cellView": "form",
    "colab": {},
    "colab_type": "code",
    "id": "AzfqMq2XSFnq"
   },
   "outputs": [],
   "source": [
    "#@title Solution\n",
    "def myreverse(l):\n",
    "    for i in range(len(l)-1,-1,-1):\n",
    "        yield l[i]\n",
    "\n",
    "def mymap(f, l):\n",
    "    for x in l:\n",
    "        yield f(x)\n",
    "\n",
    "def myfilter(f, l):\n",
    "    for x in l:\n",
    "        if f(x):\n",
    "            yield x\n"
   ]
  },
  {
   "cell_type": "code",
   "execution_count": 70,
   "metadata": {
    "colab": {},
    "colab_type": "code",
    "id": "NYpOedcoUWKa"
   },
   "outputs": [
    {
     "name": "stdout",
     "output_type": "stream",
     "text": [
      "[4, 3, 2, 1]\n",
      "[1, 4, 9, 16]\n",
      "[2, 4]\n"
     ]
    }
   ],
   "source": [
    "# This should then be working:\n",
    "l = [1,2,3,4]\n",
    "print(list(myreverse(l)))   \n",
    "print(list(mymap(lambda x:x**2, l)))\n",
    "print(list(myfilter(lambda x: x%2==0, l)))"
   ]
  },
  {
   "cell_type": "markdown",
   "metadata": {
    "colab_type": "text",
    "id": "jFaDudyQBNJs"
   },
   "source": [
    "## Python \"Memory Model\" (AKA How to stop being confused)"
   ]
  },
  {
   "cell_type": "markdown",
   "metadata": {
    "colab_type": "text",
    "id": "NAZGnxTw_-Dm"
   },
   "source": [
    "\n",
    "Python memory model:\n",
    "- Variables point to data in memory\n",
    "- All variables are object (\"type(a) is class 'int'\")\n",
    "- Some objects are mutable (can be changed), some are immutable (cannot be changed)"
   ]
  },
  {
   "cell_type": "markdown",
   "metadata": {
    "colab_type": "text",
    "id": "FsGG4QdtcCS1"
   },
   "source": [
    "### Variable binding"
   ]
  },
  {
   "cell_type": "markdown",
   "metadata": {
    "colab_type": "text",
    "id": "ubM4QjbVX2WL"
   },
   "source": [
    "When we write\n",
    "```\n",
    "a = ...\n",
    "a = ...\n",
    "```\n",
    "we simply \"rebind\" a: it points (refers) to something else. The underlying data may or may not be modified.\n",
    "\n"
   ]
  },
  {
   "cell_type": "code",
   "execution_count": 71,
   "metadata": {
    "colab": {},
    "colab_type": "code",
    "id": "BVak7bHLAwHL"
   },
   "outputs": [],
   "source": [
    "a = 2\n",
    "a = 3 # This creates a ~new~ \"3\" in memory and points a to it"
   ]
  },
  {
   "cell_type": "code",
   "execution_count": 72,
   "metadata": {
    "colab": {},
    "colab_type": "code",
    "id": "oKdomzzBY1Bk"
   },
   "outputs": [
    {
     "name": "stdout",
     "output_type": "stream",
     "text": [
      "Stanford\n"
     ]
    }
   ],
   "source": [
    "a = \"Stanford\"\n",
    "b = a\n",
    "a = \"ICME\"\n",
    "print(b)"
   ]
  },
  {
   "cell_type": "code",
   "execution_count": 73,
   "metadata": {
    "colab": {},
    "colab_type": "code",
    "id": "a-rvPFT5ZUiq"
   },
   "outputs": [
    {
     "name": "stdout",
     "output_type": "stream",
     "text": [
      "['ICME', 2, 3]\n"
     ]
    }
   ],
   "source": [
    "a = [1, 2, 3]\n",
    "b = a\n",
    "a[0] = \"ICME\"\n",
    "print(b)"
   ]
  },
  {
   "cell_type": "code",
   "execution_count": 74,
   "metadata": {
    "colab": {},
    "colab_type": "code",
    "id": "rR9l7H7DA17a"
   },
   "outputs": [
    {
     "name": "stdout",
     "output_type": "stream",
     "text": [
      "([[3, 4], 2], 1, 'String')\n"
     ]
    }
   ],
   "source": [
    "a = [1, 2]\n",
    "t = (a, 1, \"String\")\n",
    "a[0] = [3, 4]\n",
    "print(t)"
   ]
  },
  {
   "cell_type": "markdown",
   "metadata": {
    "colab_type": "text",
    "id": "COZ1ZjWUbLXX"
   },
   "source": [
    "### Immutable vs Mutable\n",
    "In Python, an object is either mutable or immutable. Mutable object can be changed. Immutable can't."
   ]
  },
  {
   "cell_type": "markdown",
   "metadata": {
    "colab_type": "text",
    "id": "V5FfALuLAoN5"
   },
   "source": [
    "- Lists, dictionaries are mutable\n",
    "- **Tuple**, int, string, double are immutable\n",
    "- Complex structures are usually mutable\n"
   ]
  },
  {
   "cell_type": "code",
   "execution_count": 75,
   "metadata": {
    "colab": {},
    "colab_type": "code",
    "id": "s-TI1jZCbK8L"
   },
   "outputs": [],
   "source": [
    "a = [1, 2, 3, 4]\n",
    "a[2] = 10 # OK: list are mutable"
   ]
  },
  {
   "cell_type": "code",
   "execution_count": 76,
   "metadata": {
    "colab": {},
    "colab_type": "code",
    "id": "yFvKXbRJbcy1"
   },
   "outputs": [],
   "source": [
    "s = \"abcdef\"\n",
    "# s[0] = 'e' # NOT OK: immutable"
   ]
  },
  {
   "cell_type": "code",
   "execution_count": 77,
   "metadata": {
    "colab": {},
    "colab_type": "code",
    "id": "KA99i_FRbe1n"
   },
   "outputs": [],
   "source": [
    "t = (1, 4, 2)\n",
    "# t[1] = 3 # NOT OK: immutable"
   ]
  },
  {
   "cell_type": "code",
   "execution_count": 78,
   "metadata": {
    "colab": {},
    "colab_type": "code",
    "id": "SMuM89enbhFl"
   },
   "outputs": [],
   "source": [
    "t = ([1, 2, 3], \"test\", (3, 4)) # Quid ?"
   ]
  },
  {
   "cell_type": "code",
   "execution_count": 79,
   "metadata": {
    "colab": {},
    "colab_type": "code",
    "id": "lZtS_qYCbuuS"
   },
   "outputs": [
    {
     "name": "stdout",
     "output_type": "stream",
     "text": [
      "([3, 2, 3], 'test', (3, 4))\n"
     ]
    }
   ],
   "source": [
    "# Mutable in immutable\n",
    "t[0][0] = 3 # OK: list mutable\n",
    "print(t)\n",
    "# t[0] = [4, 5] # NOT OK: tuple immutable"
   ]
  },
  {
   "cell_type": "code",
   "execution_count": 80,
   "metadata": {
    "colab": {},
    "colab_type": "code",
    "id": "6wiHYiUxbv4y"
   },
   "outputs": [],
   "source": [
    "# Immutable in mutable\n",
    "# t[1] = \"test 2\" # NOT OK: tuple immutable\n",
    "# t[1][0] = 'u' # NOT OK: string immutable"
   ]
  },
  {
   "cell_type": "markdown",
   "metadata": {
    "colab_type": "text",
    "id": "qFyCs0axcFSx"
   },
   "source": [
    "### Function arguments"
   ]
  },
  {
   "cell_type": "markdown",
   "metadata": {
    "colab_type": "text",
    "id": "NNmsMWowYCn0"
   },
   "source": [
    "Functions take their arguments by reference. We receive a reference to some object in memory.\n",
    "```\n",
    "def fun(x):\n",
    "    # Here, x points to something\n",
    "```\n",
    "At this point if we write\n",
    "```\n",
    "    x = ...\n",
    "```\n",
    "we merely \"bind\" x to some other object in memory. We haven't touched the input \"x\".\n",
    "On the other hand,\n",
    "```\n",
    "    somefunction(x)\n",
    "```\n",
    "may modify x, or not, depending on the function definition.\n"
   ]
  },
  {
   "cell_type": "markdown",
   "metadata": {
    "colab_type": "text",
    "id": "mUXJuB_UDrtZ"
   },
   "source": [
    "### Mini-Quizz"
   ]
  },
  {
   "cell_type": "code",
   "execution_count": 81,
   "metadata": {
    "colab": {},
    "colab_type": "code",
    "id": "RLgwd3UFA4_z"
   },
   "outputs": [
    {
     "name": "stdout",
     "output_type": "stream",
     "text": [
      "3\n"
     ]
    }
   ],
   "source": [
    "## (1)\n",
    "def fun(x):\n",
    "    x = 2\n",
    "    return x\n",
    "\n",
    "a = 3\n",
    "fun(a)\n",
    "print(a) # = ?"
   ]
  },
  {
   "cell_type": "code",
   "execution_count": 82,
   "metadata": {
    "colab": {},
    "colab_type": "code",
    "id": "2FdBRCqmEbFs"
   },
   "outputs": [
    {
     "name": "stdout",
     "output_type": "stream",
     "text": [
      "[1, 8, 7]\n"
     ]
    }
   ],
   "source": [
    "## (2)\n",
    "def fun2(x):\n",
    "    x[0] = 1\n",
    "\n",
    "a = [9, 8, 7]\n",
    "b = a\n",
    "fun2(b)\n",
    "print(a) # = ?"
   ]
  },
  {
   "cell_type": "code",
   "execution_count": 83,
   "metadata": {
    "colab": {},
    "colab_type": "code",
    "id": "SIebuW8XEcl8"
   },
   "outputs": [
    {
     "name": "stdout",
     "output_type": "stream",
     "text": [
      "[(1, 4, 5), 3, 2]\n"
     ]
    }
   ],
   "source": [
    "## (3)\n",
    "def fun3(x):\n",
    "    x[0] = (1, 4, 5)\n",
    "\n",
    "a = [(1,2,3),3,2]\n",
    "fun3(a)\n",
    "print(a) # = ?\n",
    "# a[0][0] = 2\n",
    "# print(a) # = ?"
   ]
  },
  {
   "cell_type": "code",
   "execution_count": 84,
   "metadata": {
    "colab": {},
    "colab_type": "code",
    "id": "YRublieSaKEs"
   },
   "outputs": [
    {
     "name": "stdout",
     "output_type": "stream",
     "text": [
      "([2, 2, 3], 1)\n"
     ]
    }
   ],
   "source": [
    "## (4)\n",
    "def fun4(x):\n",
    "    x[0][0] = 2\n",
    "\n",
    "a = ([1,2,3],1)\n",
    "b = a\n",
    "fun4(b)\n",
    "\n",
    "print(a) # = ?"
   ]
  },
  {
   "cell_type": "markdown",
   "metadata": {
    "colab_type": "text",
    "id": "Ofo01pxsWq3u"
   },
   "source": [
    "### Copy and Deepcopy\n",
    "\n",
    "Python's objects have the copy and deepcopy functions.\n",
    "\n",
    "`copy` does a *shallow* copy of an object. It copies the object, but the other objects it references are not copied.\n",
    "\n",
    "`deepcopy` does a *deep* copy (as the name indicates). It copies the object and all referenced data-structures, recursively.\n"
   ]
  },
  {
   "cell_type": "code",
   "execution_count": 85,
   "metadata": {
    "colab": {},
    "colab_type": "code",
    "id": "_KwUmY4-W8I2"
   },
   "outputs": [],
   "source": [
    "import copy\n",
    "\n",
    "A1 = [1, 2]\n",
    "A2 = [3, 4]\n",
    "A3 = [5, 6]"
   ]
  },
  {
   "cell_type": "code",
   "execution_count": 86,
   "metadata": {
    "colab": {},
    "colab_type": "code",
    "id": "15BjpbSkPI9x"
   },
   "outputs": [
    {
     "name": "stdout",
     "output_type": "stream",
     "text": [
      "[[5, 6], [3, 4]]\n",
      "[[5, 6], [3, 4]]\n"
     ]
    }
   ],
   "source": [
    "# Like before\n",
    "L1 = [A1, A2]\n",
    "L2 = L1 # L1 and L2 point to the same lists, so modifying one modifies the other\n",
    "L1[0] = A3\n",
    "print(L1)\n",
    "print(L2)\n"
   ]
  },
  {
   "cell_type": "code",
   "execution_count": 87,
   "metadata": {
    "colab": {},
    "colab_type": "code",
    "id": "Sf98hHz2PKP4"
   },
   "outputs": [
    {
     "name": "stdout",
     "output_type": "stream",
     "text": [
      "[[1, 2], [3, 4]]\n",
      "[[5, 6], [3, 4]]\n"
     ]
    }
   ],
   "source": [
    "# Using a copy\n",
    "L1 = [A1, A2]\n",
    "L2 = L1.copy()\n",
    "L2[0] = A3\n",
    "print(L1)\n",
    "print(L2)"
   ]
  },
  {
   "cell_type": "code",
   "execution_count": 88,
   "metadata": {
    "colab": {},
    "colab_type": "code",
    "id": "k2Rup3upPLbp"
   },
   "outputs": [
    {
     "name": "stdout",
     "output_type": "stream",
     "text": [
      "[[1, 2], [0, 4]]\n",
      "[[5, 6], [0, 4]]\n"
     ]
    }
   ],
   "source": [
    "# However...\n",
    "A2[0] = 0\n",
    "print(L1)\n",
    "print(L2)"
   ]
  },
  {
   "cell_type": "code",
   "execution_count": 89,
   "metadata": {
    "colab": {},
    "colab_type": "code",
    "id": "76CT0gTgPMkV"
   },
   "outputs": [
    {
     "name": "stdout",
     "output_type": "stream",
     "text": [
      "[[1, 2], [0, 4]]\n",
      "[[1, 2], [0, 4]]\n"
     ]
    }
   ],
   "source": [
    "# Using a deepcopy\n",
    "L1 = [A1, A2]\n",
    "L2 = copy.deepcopy(L1)\n",
    "A2[0] = 0\n",
    "print(L1)\n",
    "print(L2)"
   ]
  },
  {
   "cell_type": "markdown",
   "metadata": {
    "colab_type": "text",
    "id": "-l7B7MyMX4D0"
   },
   "source": [
    "## Classes"
   ]
  },
  {
   "cell_type": "code",
   "execution_count": 90,
   "metadata": {
    "colab": {},
    "colab_type": "code",
    "id": "Fxnw1HW0k00C"
   },
   "outputs": [],
   "source": [
    "class Complex:  \n",
    "    def __init__(self, real, imag):\n",
    "        self.r = real\n",
    "        self.i = imag\n",
    "    def add(self, other):\n",
    "        c = Complex(0, 0)\n",
    "        c.r = self.r + other.r\n",
    "        c.i = self.i + other.i    \n",
    "        return c\n",
    "    def sub(self, other):\n",
    "        c = Complex(0, 0)\n",
    "        c.r = self.r - other.r\n",
    "        c.i = self.i - other.i    \n",
    "        return c"
   ]
  },
  {
   "cell_type": "markdown",
   "metadata": {
    "colab_type": "text",
    "id": "C9ZwTl1ip_Iv"
   },
   "source": [
    "### Mini-Exercice: complex multiplication\n",
    "In the above code, implement the complex product\n",
    "\n",
    "As a reminder, \n",
    "(a + bi)*(c + di) = (ac - bd) + (ad + bc)i"
   ]
  },
  {
   "cell_type": "markdown",
   "metadata": {
    "colab_type": "text",
    "id": "CtsaluKBfU4B"
   },
   "source": [
    "### Harder Mini-Exercise: better Complex class\n",
    "Can you find out how to be able to write instead\n",
    "```\n",
    "a = Complex(1, 2)\n",
    "b = Complex(2, 3)\n",
    "c = a + b \n",
    "d = a * b\n",
    "print(c)\n",
    "```\n",
    "?"
   ]
  },
  {
   "cell_type": "markdown",
   "metadata": {
    "colab_type": "text",
    "id": "39QVzqterpH7"
   },
   "source": [
    "## Modules\n",
    "Modules are Python way of organizing large codes.\n",
    "When you have many files doing many different things, you need to find ways to organize that. You cannot just rely on every function having a unique name.\n",
    "\n",
    "We already saw and use some"
   ]
  },
  {
   "cell_type": "code",
   "execution_count": 91,
   "metadata": {
    "colab": {},
    "colab_type": "code",
    "id": "oAVu7ZcRr2zc"
   },
   "outputs": [],
   "source": [
    "import math\n",
    "import random\n",
    "import string"
   ]
  },
  {
   "cell_type": "markdown",
   "metadata": {
    "colab_type": "text",
    "id": "RyPx_oNzr8Tb"
   },
   "source": [
    "Modules, functions and variables can be imported in various ways"
   ]
  },
  {
   "cell_type": "code",
   "execution_count": 92,
   "metadata": {
    "colab": {},
    "colab_type": "code",
    "id": "DxvUqcjIsAFA"
   },
   "outputs": [
    {
     "name": "stdout",
     "output_type": "stream",
     "text": [
      "3.141592653589793\n",
      "1.4142135623730951\n",
      "3.141592653589793\n",
      "1.4142135623730951\n",
      "3.141592653589793\n",
      "1.4142135623730951\n",
      "3.141592653589793\n",
      "1.4142135623730951\n",
      "2.718281828459045\n"
     ]
    }
   ],
   "source": [
    "# (1)\n",
    "import math\n",
    "print(math.pi)\n",
    "print(math.sqrt(2))\n",
    "    \n",
    "# (2)\n",
    "import math as m\n",
    "print(m.pi)\n",
    "print(m.sqrt(2))\n",
    "\n",
    "# (3)\n",
    "from math import pi, sqrt\n",
    "print(pi)\n",
    "print(sqrt(2))\n",
    "\n",
    "# (4) [Bad]\n",
    "from math import *\n",
    "print(pi)\n",
    "print(sqrt(2))\n",
    "print(exp(1))"
   ]
  },
  {
   "cell_type": "markdown",
   "metadata": {
    "colab_type": "text",
    "id": "jxbuxs8As0H2"
   },
   "source": [
    "# Extra-Exercises for the break\n",
    "Taken from https://developers.google.com/edu/python/"
   ]
  },
  {
   "cell_type": "code",
   "execution_count": 93,
   "metadata": {
    "colab": {},
    "colab_type": "code",
    "id": "gZJSC92Hs3Gq"
   },
   "outputs": [
    {
     "name": "stdout",
     "output_type": "stream",
     "text": [
      "None\n",
      "None\n"
     ]
    }
   ],
   "source": [
    "# (1) Create function mixing(a, b) that, given two strings a & b, returns a<space>b (a and b separated by a space), \n",
    "# but swapping the first two characters of a and b\n",
    "# and returns the result\n",
    "#\n",
    "# Example\n",
    "# mixing(\"stanford\", \"python\") returns \"pyanford stthon\"\n",
    "\n",
    "def mixing(a, b):\n",
    "    # Your code here. Remove 'pass'.\n",
    "    pass\n",
    "\n",
    "# Check\n",
    "print(mixing(\"stanford\", \"python\")) # =?= pyanford stthon\n",
    "print(mixing(\"educ\", \"128\"))        # =?= 12uc ed8"
   ]
  },
  {
   "cell_type": "code",
   "execution_count": 94,
   "metadata": {
    "colab": {},
    "colab_type": "code",
    "id": "Xaz-ADnuutc4"
   },
   "outputs": [
    {
     "name": "stdout",
     "output_type": "stream",
     "text": [
      "None\n",
      "None\n",
      "None\n"
     ]
    }
   ],
   "source": [
    "# (2) Create function ing(a) that, given a string a,\n",
    "# if it has length < 3, leave it unchanged\n",
    "# else if it ends in \"ing\", append \"ly\"\n",
    "# otherwise, append \"ing\"\n",
    "# and return the result\n",
    "\n",
    "def ing(a):\n",
    "    # Your code here. Remove 'pass'.\n",
    "    pass\n",
    "\n",
    "# Check\n",
    "print(ing(\"python\"))      # =?= pythoning\n",
    "print(ing(\"engineering\")) # =?= engineeringly\n",
    "print(ing(\"ly\"))          # =?= ly"
   ]
  },
  {
   "cell_type": "code",
   "execution_count": 95,
   "metadata": {
    "colab": {},
    "colab_type": "code",
    "id": "0gSvLsshvbYF"
   },
   "outputs": [
    {
     "name": "stdout",
     "output_type": "stream",
     "text": [
      "None\n",
      "None\n",
      "None\n"
     ]
    }
   ],
   "source": [
    "# (3) Create a function trim(l) that, given a list l, remove all identical adjacent elements\n",
    "# and return the result. It should not modify its input.\n",
    "\n",
    "def trim(l):\n",
    "    # Your code here. Remove 'pass'.\n",
    "    pass\n",
    "\n",
    "# Check\n",
    "print(trim([1, 2, 3, 3, 4, 2, 2]))  # =?= [1, 2, 3, 4, 2]\n",
    "print(trim([]))                     # =?= []\n",
    "print(trim([1, 2, 1, 2]))           # =?= [1, 2, 1, 2]"
   ]
  },
  {
   "cell_type": "markdown",
   "metadata": {
    "colab_type": "text",
    "id": "qp8M9Oz8wf6u"
   },
   "source": [
    "## More creative exercises\n",
    "\n",
    "A couple more ideas of exercises. Be creative here!\n",
    "Inspired from http://www.practicepython.org/\n",
    "\n",
    "*   Create a password generator. Given `n`, your function should return a strong random password of `n` characters.\n",
    "*   Reverse Word Order. Given a string, your function should return the same string but with the words in reversed order (the words themselves should be unchanged)\n",
    "\n"
   ]
  }
 ],
 "metadata": {
  "colab": {
   "collapsed_sections": [
    "35CQVZSMItMv",
    "IlH5Jyp3JcMc",
    "ex3PMovpF8ZD",
    "I_KfQU1AiqQR",
    "ehwL19X3WWvo",
    "H-knql6mFJwH",
    "De0JIcZIRPt9",
    "XVDemxqEDidh"
   ],
   "name": "Basics.ipynb",
   "provenance": [],
   "toc_visible": true
  },
  "kernelspec": {
   "display_name": "Python 3",
   "language": "python",
   "name": "python3"
  },
  "language_info": {
   "codemirror_mode": {
    "name": "ipython",
    "version": 3
   },
   "file_extension": ".py",
   "mimetype": "text/x-python",
   "name": "python",
   "nbconvert_exporter": "python",
   "pygments_lexer": "ipython3",
   "version": "3.7.6"
  }
 },
 "nbformat": 4,
 "nbformat_minor": 4
}
