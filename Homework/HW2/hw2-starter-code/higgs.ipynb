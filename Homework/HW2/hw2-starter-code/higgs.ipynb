{
 "cells": [
  {
   "cell_type": "code",
   "execution_count": null,
   "metadata": {},
   "outputs": [],
   "source": [
    "import tensorflow as tf\n",
    "from matplotlib import pyplot as plt\n",
    "import numpy as np\n",
    "import tensorflow_datasets as tfds"
   ]
  },
  {
   "cell_type": "code",
   "execution_count": null,
   "metadata": {},
   "outputs": [],
   "source": [
    "# Convert file to a tensorflow dataset\n",
    "FEATURES = 28 # Size of the input to the DNN\n",
    "ds = tf.data.experimental.CsvDataset('HIGGS.csv.gz',[float(),]*(FEATURES+1), compression_type=\"GZIP\")"
   ]
  },
  {
   "cell_type": "code",
   "execution_count": null,
   "metadata": {},
   "outputs": [],
   "source": [
    "# Some helper functions for data preprocessing.\n",
    "# DO NOT modify this cell.\n",
    "\n",
    "# Separate features from labels\n",
    "def pack_row(*row):\n",
    "    label = row[0]\n",
    "    features = tf.stack(row[1:],1)\n",
    "    return features, label\n",
    "\n",
    "# Tensorflow dataset to numpy data structure conversion\n",
    "def tfds2np(ds_numpy):\n",
    "    x, y = [], []\n",
    "    for ex in ds_numpy:\n",
    "        x.append(ex[0])\n",
    "        y.append(ex[1])\n",
    "    return np.asarray(x), np.asarray(y)"
   ]
  },
  {
   "cell_type": "code",
   "execution_count": null,
   "metadata": {},
   "outputs": [],
   "source": [
    "# Generate the training and validate set.\n",
    "# DO NOT modify this cell.\n",
    "\n",
    "# Run the pack_row function for all elements in ds\n",
    "packed_ds = ds.batch(10000).map(pack_row).unbatch()\n",
    "\n",
    "# Size of validation set\n",
    "N_VALIDATION = int(1e3)\n",
    "# Size of training set\n",
    "N_TRAIN = int(1e4)\n",
    "# Batch to use during training\n",
    "BATCH_SIZE = 100\n",
    "# Number of batches (= steps) per epoch\n",
    "STEPS_PER_EPOCH = N_TRAIN//BATCH_SIZE\n",
    "\n",
    "# train = subset of packed_ds\n",
    "train_ds = packed_ds.take(N_TRAIN).cache()\n",
    "# validation = different subset of packed_ds\n",
    "validate_ds = packed_ds.skip(N_TRAIN).take(N_VALIDATION).cache()\n",
    "\n",
    "# Convert to numpy format for convenience\n",
    "x_train, y_train = tfds2np(tfds.as_numpy(train_ds))\n",
    "x_val, y_val = tfds2np(tfds.as_numpy(validate_ds))"
   ]
  },
  {
   "cell_type": "code",
   "execution_count": null,
   "metadata": {},
   "outputs": [],
   "source": [
    "# Some useful funtions for monitoring training and displaying trainig results\n",
    "\n",
    "# While training we print a dot for every epoch,\n",
    "# 100 dots (epochs) per line\n",
    "class print_dot(tf.keras.callbacks.Callback):\n",
    "    def on_epoch_begin(self, epoch, logs=None):\n",
    "        if epoch % 100 == 0: print('')\n",
    "        print('.', end='')\n",
    "    def on_train_end(self, epoch, logs=None):\n",
    "        print('\\nTraining is complete')\n",
    "        \n",
    "# Printing the final loss and accuracy once the training is complete        \n",
    "def print_training_info(history):\n",
    "    loss = history.history['loss']\n",
    "    accuracy = history.history['accuracy']\n",
    "    print('Model loss {0:g}; metric accuracy {1:g}'.format(loss[-1], accuracy[-1]))   "
   ]
  },
  {
   "cell_type": "markdown",
   "metadata": {},
   "source": [
    "## Question 1"
   ]
  },
  {
   "cell_type": "code",
   "execution_count": null,
   "metadata": {},
   "outputs": [],
   "source": [
    "# TODO: build the specified model, see its summary"
   ]
  },
  {
   "cell_type": "markdown",
   "metadata": {},
   "source": [
    "## Question 2"
   ]
  },
  {
   "cell_type": "code",
   "execution_count": null,
   "metadata": {},
   "outputs": [],
   "source": [
    "# TODO: Train the model, feel free to insert more cells\n",
    "# Example code to plot loss:\n",
    "# plt.plot(history.history['loss'], label='training')\n",
    "# plt.title('Training Loss')\n",
    "# plt.yscale('log')\n",
    "# plt.ylabel('Binary Cross Entropy loss')\n",
    "# plt.xlabel('No. epoch')\n",
    "# plt.legend()\n",
    "# plt.show()"
   ]
  },
  {
   "cell_type": "markdown",
   "metadata": {},
   "source": [
    "## Question 3"
   ]
  },
  {
   "cell_type": "code",
   "execution_count": null,
   "metadata": {},
   "outputs": [],
   "source": [
    "# TODO: compute and plot the norms for x_train and x_val"
   ]
  },
  {
   "cell_type": "markdown",
   "metadata": {},
   "source": [
    "## Question 4"
   ]
  },
  {
   "cell_type": "code",
   "execution_count": null,
   "metadata": {},
   "outputs": [],
   "source": [
    "# TODO: build the specified model"
   ]
  },
  {
   "cell_type": "markdown",
   "metadata": {},
   "source": [
    "## Question 5"
   ]
  },
  {
   "cell_type": "code",
   "execution_count": null,
   "metadata": {},
   "outputs": [],
   "source": [
    "# TODO: train the model with training data to produce a overfitted model\n",
    "# Example code to plot losses:\n",
    "\n",
    "# plt.plot(history.history['loss'], label='training')\n",
    "# plt.plot(history.history['val_loss'], label='validation')\n",
    "# plt.title('Training and Validation losses')\n",
    "# plt.ylabel('Cross Entropy loss')\n",
    "# plt.xlabel('No. epoch')\n",
    "# plt.legend()\n",
    "# plt.show()"
   ]
  },
  {
   "cell_type": "markdown",
   "metadata": {},
   "source": [
    "## Question 6"
   ]
  },
  {
   "cell_type": "markdown",
   "metadata": {},
   "source": [
    "write you answer here"
   ]
  },
  {
   "cell_type": "markdown",
   "metadata": {},
   "source": [
    "## Question 7 & 8"
   ]
  },
  {
   "cell_type": "code",
   "execution_count": null,
   "metadata": {},
   "outputs": [],
   "source": [
    "# TODO: build a model with l2 regularization\n",
    "# train the model to see if current regularization gives desired behavior\n",
    "# modify l and repeat till you are satisfied with the model you get"
   ]
  },
  {
   "cell_type": "markdown",
   "metadata": {},
   "source": [
    "## Question 9"
   ]
  },
  {
   "cell_type": "markdown",
   "metadata": {},
   "source": [
    "write you answer here"
   ]
  },
  {
   "cell_type": "markdown",
   "metadata": {},
   "source": [
    "## Question 10"
   ]
  },
  {
   "cell_type": "code",
   "execution_count": null,
   "metadata": {},
   "outputs": [],
   "source": [
    "# TODO: compute and plot stdev(output) and  vs stdev(input) for overfitted and regularized model"
   ]
  }
 ],
 "metadata": {
  "kernelspec": {
   "display_name": "Python 3",
   "language": "python",
   "name": "python3"
  },
  "language_info": {
   "codemirror_mode": {
    "name": "ipython",
    "version": 3
   },
   "file_extension": ".py",
   "mimetype": "text/x-python",
   "name": "python",
   "nbconvert_exporter": "python",
   "pygments_lexer": "ipython3",
   "version": "3.7.9"
  }
 },
 "nbformat": 4,
 "nbformat_minor": 4
}
