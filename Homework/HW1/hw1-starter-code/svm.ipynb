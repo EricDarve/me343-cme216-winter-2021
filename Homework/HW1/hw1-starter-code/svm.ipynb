{
 "cells": [
  {
   "cell_type": "code",
   "execution_count": null,
   "metadata": {},
   "outputs": [],
   "source": [
    "from sklearn import svm\n",
    "from sklearn.model_selection import cross_val_score\n",
    "\n",
    "from utils import *\n",
    "\n",
    "data = {}"
   ]
  },
  {
   "cell_type": "markdown",
   "metadata": {},
   "source": [
    "## Question 1"
   ]
  },
  {
   "cell_type": "code",
   "execution_count": null,
   "metadata": {},
   "outputs": [],
   "source": [
    "def linear_SVM(data):\n",
    "    # TODO:\n",
    "    # 1. Create an instance of SVM with linear kernel, name it clf\n",
    "    # 2. Train the SVM with x_train and y_train in data\n",
    "    # 3. Make prediction y_pred, for x_pred using the trained model\n",
    "\n",
    "    plot_data_decision_function(data, y_pred, clf)"
   ]
  },
  {
   "cell_type": "markdown",
   "metadata": {},
   "source": [
    "## Question 2"
   ]
  },
  {
   "cell_type": "code",
   "execution_count": null,
   "metadata": {},
   "outputs": [],
   "source": [
    "x_train, y_train = generate_data_lin(N=5000)\n",
    "x_pred, y_true = generate_data_lin(N=1000)\n",
    "\n",
    "data['x_train'] = x_train.astype('float32')\n",
    "data['y_train'] = y_train.astype('float32')\n",
    "data['x_pred'] = x_pred.astype('float32')\n",
    "data['y_true'] = y_true.astype('float32')\n",
    "\n",
    "linear_SVM(data)"
   ]
  },
  {
   "cell_type": "markdown",
   "metadata": {},
   "source": [
    "## Question 3"
   ]
  },
  {
   "cell_type": "code",
   "execution_count": null,
   "metadata": {},
   "outputs": [],
   "source": [
    "x_train, y_train = generate_data_basis(\"circle\", 0.05, N=2000)\n",
    "x_pred, y_true = generate_data_basis(\"circle\", 0.05, N=500)\n",
    "\n",
    "data['x_train'] = x_train.astype('float32')\n",
    "data['y_train'] = y_train.astype('float32')\n",
    "data['x_pred'] = x_pred.astype('float32')\n",
    "data['y_true'] = y_true.astype('float32')\n",
    "\n",
    "linear_SVM(data)"
   ]
  },
  {
   "cell_type": "code",
   "execution_count": null,
   "metadata": {},
   "outputs": [],
   "source": [
    "x_train, y_train = generate_data_basis(\"inner_circle\", 0.05, N=2000)\n",
    "x_pred, y_true = generate_data_basis(\"inner_circle\", 0.05, N=500)\n",
    "\n",
    "data['x_train'] = x_train.astype('float32')\n",
    "data['y_train'] = y_train.astype('float32')\n",
    "data['x_pred'] = x_pred.astype('float32')\n",
    "data['y_true'] = y_true.astype('float32')\n",
    "\n",
    "linear_SVM(data)"
   ]
  },
  {
   "cell_type": "markdown",
   "metadata": {},
   "source": [
    "## Question 4"
   ]
  },
  {
   "cell_type": "code",
   "execution_count": null,
   "metadata": {},
   "outputs": [],
   "source": [
    "def circle_feature_linear_SVM(data):\n",
    "\n",
    "    def circle_feature(x):\n",
    "        # TODO: transform the raw input into linearly-separable feature(s)\n",
    "        # input shape is (num_samples, 2), output shape should be (num_samples, num_features)\n",
    "        # this should only take a couple lines\n",
    "        pass\n",
    "\n",
    "    # TODO:\n",
    "    # 1. Create an instance of SVM with linear kernel, name it clf\n",
    "    # 2. Compute features for x_train and x_pred using circle_feature, don't modify what's in data\n",
    "    # 3. Train the SVM with features of x_train and y_train\n",
    "    # 4. Make prediction y_pred, for features of x_pred using the trained model\n",
    "\n",
    "    plot_data_decision_function(data, y_pred, clf, circle_feature)\n",
    "\n",
    "\n",
    "def inner_circle_feature_linear_SVM(data):\n",
    "\n",
    "    def inner_circle_feature(x):\n",
    "        # TODO: transform the raw input into linearly-separable feature(s)\n",
    "        # input shape is (num_samples, 2), output shape should be (num_samples, num_features)\n",
    "        # this should only take a couple lines\n",
    "        pass\n",
    "\n",
    "    # TODO:\n",
    "    # 1. Create an instance of SVM with linear kernel, name it clf\n",
    "    # 2. Compute features for x_train and x_pred using inner_circle_feature, don't modify what's in data\n",
    "    # 3. Train the SVM with features of x_train and y_train\n",
    "    # 4. Make prediction y_pred, for features of x_pred using the trained model\n",
    "\n",
    "    plot_data_decision_function(data, y_pred, clf, inner_circle_feature)"
   ]
  },
  {
   "cell_type": "markdown",
   "metadata": {},
   "source": [
    "## Question 5"
   ]
  },
  {
   "cell_type": "code",
   "execution_count": null,
   "metadata": {},
   "outputs": [],
   "source": [
    "x_train, y_train = generate_data_basis(\"circle\", 0.05, N=2000)\n",
    "x_pred, y_true = generate_data_basis(\"circle\", 0.05, N=500)\n",
    "\n",
    "data['x_train'] = x_train.astype('float32')\n",
    "data['y_train'] = y_train.astype('float32')\n",
    "data['x_pred'] = x_pred.astype('float32')\n",
    "data['y_true'] = y_true.astype('float32')\n",
    "\n",
    "circle_feature_linear_SVM(data)"
   ]
  },
  {
   "cell_type": "code",
   "execution_count": null,
   "metadata": {},
   "outputs": [],
   "source": [
    "x_train, y_train = generate_data_basis(\"inner_circle\", 0.05, N=2000)\n",
    "x_pred, y_true = generate_data_basis(\"inner_circle\", 0.05, N=500)\n",
    "\n",
    "data['x_train'] = x_train.astype('float32')\n",
    "data['y_train'] = y_train.astype('float32')\n",
    "data['x_pred'] = x_pred.astype('float32')\n",
    "data['y_true'] = y_true.astype('float32')\n",
    "\n",
    "inner_circle_feature_linear_SVM(data)"
   ]
  },
  {
   "cell_type": "markdown",
   "metadata": {},
   "source": [
    "## Question 7"
   ]
  },
  {
   "cell_type": "code",
   "execution_count": null,
   "metadata": {},
   "outputs": [],
   "source": [
    "def rbf_SVM(data):\n",
    "    # TODO:\n",
    "    # 1. Create an instance of SVM with RBF kernel, name it clf\n",
    "    # 2. Train the SVM with x_train and y_train in data\n",
    "    # 3. Make prediction y_pred, for x_pred using the trained model\n",
    "\n",
    "    plot_data_decision_function(data, y_pred, clf)"
   ]
  },
  {
   "cell_type": "markdown",
   "metadata": {},
   "source": [
    "## Question 8"
   ]
  },
  {
   "cell_type": "code",
   "execution_count": null,
   "metadata": {},
   "outputs": [],
   "source": [
    "x_train, y_train = generate_data_basis(\"circle\", 0.05, N=2000)\n",
    "x_pred, y_true = generate_data_basis(\"circle\", 0.05, N=500)\n",
    "\n",
    "data['x_train'] = x_train.astype('float32')\n",
    "data['y_train'] = y_train.astype('float32')\n",
    "data['x_pred'] = x_pred.astype('float32')\n",
    "data['y_true'] = y_true.astype('float32')\n",
    "\n",
    "\n",
    "rbf_SVM(data)"
   ]
  },
  {
   "cell_type": "code",
   "execution_count": null,
   "metadata": {},
   "outputs": [],
   "source": [
    "x_train, y_train = generate_data_basis(\"inner_circle\", 0.05, N=2000)\n",
    "x_pred, y_true = generate_data_basis(\"inner_circle\", 0.05, N=500)\n",
    "\n",
    "data['x_train'] = x_train.astype('float32')\n",
    "data['y_train'] = y_train.astype('float32')\n",
    "data['x_pred'] = x_pred.astype('float32')\n",
    "data['y_true'] = y_true.astype('float32')\n",
    "\n",
    "rbf_SVM(data)"
   ]
  },
  {
   "cell_type": "markdown",
   "metadata": {},
   "source": [
    "## Question 9"
   ]
  },
  {
   "cell_type": "code",
   "execution_count": null,
   "metadata": {},
   "outputs": [],
   "source": [
    "def cross_validation_tune_C(data):\n",
    "    # TODO:    \n",
    "    # 1. Sweep through some values of C, create a SVM with RBF kernel for each C, use default gamma\n",
    "    # 2. Use the cross_val_score function to perform cross validation, use cv=5 (default)\n",
    "    # 3. Find the value of C that gives the best mean accuracy\n"
   ]
  },
  {
   "cell_type": "markdown",
   "metadata": {},
   "source": [
    "## Question 10"
   ]
  },
  {
   "cell_type": "code",
   "execution_count": null,
   "metadata": {},
   "outputs": [],
   "source": [
    "# noise = 0\n",
    "# the argument of generate_data_moons determines the amount of noise\n",
    "# used to generate the training set\n",
    "# Here the noise is set to 0: generate_data_moons(0.)\n",
    "\n",
    "x_train, y_train, x_pred, y_true = generate_data_moons(0.)\n",
    "\n",
    "data['x_train'] = x_train.astype('float32')\n",
    "data['y_train'] = y_train.astype('float32')\n",
    "data['x_pred'] = x_pred.astype('float32')\n",
    "data['y_true'] = y_true.astype('float32')\n",
    "\n",
    "rbf_SVM(data)"
   ]
  },
  {
   "cell_type": "code",
   "execution_count": null,
   "metadata": {},
   "outputs": [],
   "source": [
    "# noisy data\n",
    "# noise = 0.4\n",
    "\n",
    "x_train, y_train, x_pred, y_true = generate_data_moons(0.4)\n",
    "\n",
    "data['x_train'] = x_train.astype('float32')\n",
    "data['y_train'] = y_train.astype('float32')\n",
    "data['x_pred'] = x_pred.astype('float32')\n",
    "data['y_true'] = y_true.astype('float32')\n",
    "\n",
    "rbf_SVM(data)"
   ]
  },
  {
   "cell_type": "code",
   "execution_count": null,
   "metadata": {},
   "outputs": [],
   "source": [
    "cross_validation_tune_C(data)"
   ]
  },
  {
   "cell_type": "markdown",
   "metadata": {},
   "source": [
    "## Question 11"
   ]
  },
  {
   "cell_type": "code",
   "execution_count": null,
   "metadata": {},
   "outputs": [],
   "source": [
    "def cross_validation_tune_gamma(data):\n",
    "    # 1. Sweep through some values of gamma, create a SVM with RBF kernel for each gamma, using your optimal C\n",
    "    # 2. Use the cross_val_score function to perform cross validation, use cv=5 (default)\n",
    "    # 3. Find the value of gamma that gives the best mean accuracy\n"
   ]
  },
  {
   "cell_type": "markdown",
   "metadata": {},
   "source": [
    "## Question 12"
   ]
  },
  {
   "cell_type": "code",
   "execution_count": null,
   "metadata": {},
   "outputs": [],
   "source": [
    "x_train, y_train, x_pred, y_true = generate_data_moons(0.4)\n",
    "\n",
    "data['x_train'] = x_train.astype('float32')\n",
    "data['y_train'] = y_train.astype('float32')\n",
    "data['x_pred'] = x_pred.astype('float32')\n",
    "data['y_true'] = y_true.astype('float32')\n",
    "\n",
    "cross_validation_tune_gamma(data)"
   ]
  }
 ],
 "metadata": {
  "kernelspec": {
   "display_name": "Python 3",
   "language": "python",
   "name": "python3"
  },
  "language_info": {
   "codemirror_mode": {
    "name": "ipython",
    "version": 3
   },
   "file_extension": ".py",
   "mimetype": "text/x-python",
   "name": "python",
   "nbconvert_exporter": "python",
   "pygments_lexer": "ipython3",
   "version": "3.7.6"
  }
 },
 "nbformat": 4,
 "nbformat_minor": 4
}
